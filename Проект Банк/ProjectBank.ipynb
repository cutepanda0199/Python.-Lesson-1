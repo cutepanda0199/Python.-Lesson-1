{
 "cells": [
  {
   "cell_type": "markdown",
   "id": "53ae9b19",
   "metadata": {},
   "source": [
    "# Исследование надежности заемщиков."
   ]
  },
  {
   "cell_type": "markdown",
   "id": "eb0d3981",
   "metadata": {},
   "source": [
    "### Шаг 1. Обзор данных"
   ]
  },
  {
   "cell_type": "markdown",
   "id": "33272391",
   "metadata": {},
   "source": [
    "Таблица содержит 12 столбцов и 21525 строк c типом данных в скобках:\n",
    "    \n",
    "* children — количество детей в семье (int64)\n",
    "* days_employed — общий трудовой стаж в днях (float64)\n",
    "* dob_years — возраст клиента в годах (int64)\n",
    "* education — уровень образования клиента (object)\n",
    "* education_id — идентификатор уровня образования (int64)\n",
    "* family_status — семейное положение (object)\n",
    "* family_status_id — идентификатор семейного положения (int64)\n",
    "* gender — пол клиента (object)\n",
    "* income_type — тип занятости (object)\n",
    "* debt — имел ли задолженность по возврату кредитов (int64)\n",
    "* total_income — ежемесячный доход (float64)\n",
    "* purpose — цель получения кредита (object)\n",
    "\n",
    "Количество значения в столбцах days_employed и total_income говорит о том, что есть пропуски"
   ]
  },
  {
   "cell_type": "code",
   "execution_count": 143,
   "id": "75de2a1f",
   "metadata": {},
   "outputs": [
    {
     "name": "stdout",
     "output_type": "stream",
     "text": [
      "<class 'pandas.core.frame.DataFrame'>\n",
      "RangeIndex: 21525 entries, 0 to 21524\n",
      "Data columns (total 12 columns):\n",
      " #   Column            Non-Null Count  Dtype  \n",
      "---  ------            --------------  -----  \n",
      " 0   children          21525 non-null  int64  \n",
      " 1   days_employed     19351 non-null  float64\n",
      " 2   dob_years         21525 non-null  int64  \n",
      " 3   education         21525 non-null  object \n",
      " 4   education_id      21525 non-null  int64  \n",
      " 5   family_status     21525 non-null  object \n",
      " 6   family_status_id  21525 non-null  int64  \n",
      " 7   gender            21525 non-null  object \n",
      " 8   income_type       21525 non-null  object \n",
      " 9   debt              21525 non-null  int64  \n",
      " 10  total_income      19351 non-null  float64\n",
      " 11  purpose           21525 non-null  object \n",
      "dtypes: float64(2), int64(5), object(5)\n",
      "memory usage: 2.0+ MB\n"
     ]
    }
   ],
   "source": [
    "import pandas as pd\n",
    "df = pd.read_csv('/datasets/data.csv')\n",
    "df.info()"
   ]
  },
  {
   "cell_type": "markdown",
   "id": "0efc2b55",
   "metadata": {},
   "source": [
    "### Шаг 2.1 Заполнение пропусков"
   ]
  },
  {
   "cell_type": "markdown",
   "id": "ccac6e68",
   "metadata": {},
   "source": [
    "1. В столбцах days_employed и total_income были обнаружены пропущенные значения типа float64. \n",
    "2. Доля пропущенных значений в каждом из столбцов с пропусками составляет около 10%. \n",
    "3. Возможными причинами появления пропуска в столбце days_employed является отсутствие трудового стажа, что могло бы означать, что человек либо не работает, либо работает не официально, поэтому пропуски и в столбце total_income.\n",
    "4. Пропущенные значения лучше заполнить медианным значением, т.к в выборке присутствуют абсолютно разные числовые значения."
   ]
  },
  {
   "cell_type": "code",
   "execution_count": 144,
   "id": "8729246b",
   "metadata": {},
   "outputs": [
    {
     "name": "stdout",
     "output_type": "stream",
     "text": [
      "<class 'pandas.core.frame.DataFrame'>\n",
      "RangeIndex: 21525 entries, 0 to 21524\n",
      "Data columns (total 12 columns):\n",
      " #   Column            Non-Null Count  Dtype  \n",
      "---  ------            --------------  -----  \n",
      " 0   children          21525 non-null  int64  \n",
      " 1   days_employed     21525 non-null  float64\n",
      " 2   dob_years         21525 non-null  int64  \n",
      " 3   education         21525 non-null  object \n",
      " 4   education_id      21525 non-null  int64  \n",
      " 5   family_status     21525 non-null  object \n",
      " 6   family_status_id  21525 non-null  int64  \n",
      " 7   gender            21525 non-null  object \n",
      " 8   income_type       21525 non-null  object \n",
      " 9   debt              21525 non-null  int64  \n",
      " 10  total_income      21525 non-null  float64\n",
      " 11  purpose           21525 non-null  object \n",
      "dtypes: float64(2), int64(5), object(5)\n",
      "memory usage: 2.0+ MB\n"
     ]
    }
   ],
   "source": [
    "days_employed_median = df['days_employed'].median() # Находим медианное значение\n",
    "total_income_median = df['total_income'].median()\n",
    "df['days_employed'] = df['days_employed'].fillna(days_employed_median) # Заменяем пропуски\n",
    "df['total_income'] = df['total_income'].fillna(total_income_median)\n",
    "df.info()"
   ]
  },
  {
   "cell_type": "markdown",
   "id": "a9b1399e",
   "metadata": {},
   "source": [
    "### Шаг 2.2 Проверка данных на аномалии и исправления."
   ]
  },
  {
   "cell_type": "code",
   "execution_count": 145,
   "id": "c5423285",
   "metadata": {},
   "outputs": [
    {
     "data": {
      "text/plain": [
       "array([ 1,  0,  3,  2, -1,  4, 20,  5])"
      ]
     },
     "metadata": {},
     "output_type": "display_data"
    },
    {
     "data": {
      "text/plain": [
       "array([1, 0, 3, 2, 4, 5])"
      ]
     },
     "metadata": {},
     "output_type": "display_data"
    }
   ],
   "source": [
    "display(df['children'].unique()) # Есть минусовые значения, возможно неправильно занесли данные\n",
    "df['children'] = df['children'].replace(-1,1) # Заменяем значение в столбце children -1 на 1 \n",
    "df['children'] = df['children'].replace(20,2) # Заменяем значение в столбце children 20 на 2\n",
    "display(df['children'].unique()) # Проверка результата"
   ]
  },
  {
   "cell_type": "code",
   "execution_count": 146,
   "id": "36243437",
   "metadata": {},
   "outputs": [
    {
     "data": {
      "text/plain": [
       "array([-8437.67302776, -4024.80375385, -5623.42261023, ...,\n",
       "       -2113.3468877 , -3112.4817052 , -1984.50758853])"
      ]
     },
     "metadata": {},
     "output_type": "display_data"
    },
    {
     "data": {
      "text/plain": [
       "array([8437.67302776, 4024.80375385, 5623.42261023, ..., 2113.3468877 ,\n",
       "       3112.4817052 , 1984.50758853])"
      ]
     },
     "metadata": {},
     "output_type": "display_data"
    }
   ],
   "source": [
    "display(df['days_employed'].unique()) # Все минусовые значения, при заполнении произошла  техническая ошибка\n",
    "df['days_employed'] = df['days_employed'].abs() # Заменяем отрицательные значения методом abs\n",
    "display(df['days_employed'].unique()) # Проверка результата"
   ]
  },
  {
   "cell_type": "code",
   "execution_count": 147,
   "id": "07c909c3",
   "metadata": {},
   "outputs": [
    {
     "data": {
      "text/plain": [
       "array([42, 36, 33, 32, 53, 27, 43, 50, 35, 41, 40, 65, 54, 56, 26, 48, 24,\n",
       "       21, 57, 67, 28, 63, 62, 47, 34, 68, 25, 31, 30, 20, 49, 37, 45, 61,\n",
       "       64, 44, 52, 46, 23, 38, 39, 51,  0, 59, 29, 60, 55, 58, 71, 22, 73,\n",
       "       66, 69, 19, 72, 70, 74, 75])"
      ]
     },
     "metadata": {},
     "output_type": "display_data"
    },
    {
     "data": {
      "text/plain": [
       "array([42, 36, 33, 32, 53, 27, 43, 50, 35, 41, 40, 65, 54, 56, 26, 48, 24,\n",
       "       21, 57, 67, 28, 63, 62, 47, 34, 68, 25, 31, 30, 20, 49, 37, 45, 61,\n",
       "       64, 44, 52, 46, 23, 38, 39, 51, 59, 29, 60, 55, 58, 71, 22, 73, 66,\n",
       "       69, 19, 72, 70, 74, 75])"
      ]
     },
     "metadata": {},
     "output_type": "display_data"
    }
   ],
   "source": [
    "display(df['dob_years'].unique()) # Возраст должен быть от 18 лет, ошибочно поставили 0\n",
    "df = df.drop(df[df['dob_years'] == 0].index) # Удаляем все строки, где dob_years - 0\n",
    "display(df['dob_years'].unique()) # Проверка результата"
   ]
  },
  {
   "cell_type": "code",
   "execution_count": 148,
   "id": "f5d926da",
   "metadata": {},
   "outputs": [
    {
     "data": {
      "text/plain": [
       "array(['высшее', 'среднее', 'Среднее', 'СРЕДНЕЕ', 'ВЫСШЕЕ',\n",
       "       'неоконченное высшее', 'начальное', 'Высшее',\n",
       "       'НЕОКОНЧЕННОЕ ВЫСШЕЕ', 'Неоконченное высшее', 'НАЧАЛЬНОЕ',\n",
       "       'Начальное', 'Ученая степень', 'УЧЕНАЯ СТЕПЕНЬ', 'ученая степень'],\n",
       "      dtype=object)"
      ]
     },
     "metadata": {},
     "output_type": "display_data"
    }
   ],
   "source": [
    "display(df['education'].unique()) # Нужно привести к одному регистру и есть дубликаты, возможной причиной стал человеческий фактор \n",
    "# Удаление дубликатов происходят в \"0.5  Шаг 2.4. Удаление дубликатов.\""
   ]
  },
  {
   "cell_type": "code",
   "execution_count": 149,
   "id": "828181e8",
   "metadata": {},
   "outputs": [
    {
     "data": {
      "text/plain": [
       "array([0, 1, 2, 3, 4])"
      ]
     },
     "metadata": {},
     "output_type": "display_data"
    }
   ],
   "source": [
    "display(df['education_id'].unique()) # Все ОК"
   ]
  },
  {
   "cell_type": "code",
   "execution_count": 150,
   "id": "aa84174e",
   "metadata": {},
   "outputs": [
    {
     "data": {
      "text/plain": [
       "array(['женат / замужем', 'гражданский брак', 'вдовец / вдова',\n",
       "       'в разводе', 'Не женат / не замужем'], dtype=object)"
      ]
     },
     "metadata": {},
     "output_type": "display_data"
    }
   ],
   "source": [
    "display(df['family_status'].unique()) # Все ОК"
   ]
  },
  {
   "cell_type": "code",
   "execution_count": 151,
   "id": "ebf15fb2",
   "metadata": {},
   "outputs": [
    {
     "data": {
      "text/plain": [
       "array([0, 1, 2, 3, 4])"
      ]
     },
     "metadata": {},
     "output_type": "display_data"
    }
   ],
   "source": [
    "display(df['family_status_id'].unique()) # Все ОК"
   ]
  },
  {
   "cell_type": "code",
   "execution_count": 152,
   "id": "18d82dff",
   "metadata": {},
   "outputs": [
    {
     "data": {
      "text/plain": [
       "array(['F', 'M', 'XNA'], dtype=object)"
      ]
     },
     "metadata": {},
     "output_type": "display_data"
    },
    {
     "data": {
      "text/plain": [
       "array(['F', 'M'], dtype=object)"
      ]
     },
     "metadata": {},
     "output_type": "display_data"
    }
   ],
   "source": [
    "display(df['gender'].unique()) # XNA, ошибочно написали\n",
    "df = df.drop(df[df['gender'] == 'XNA'].index) # Удаляем в столбце gender значение XNA\n",
    "display(df['gender'].unique()) # Проверка результата"
   ]
  },
  {
   "cell_type": "code",
   "execution_count": 153,
   "id": "6c202216",
   "metadata": {},
   "outputs": [
    {
     "data": {
      "text/plain": [
       "array(['сотрудник', 'пенсионер', 'компаньон', 'госслужащий',\n",
       "       'безработный', 'предприниматель', 'студент', 'в декрете'],\n",
       "      dtype=object)"
      ]
     },
     "metadata": {},
     "output_type": "display_data"
    }
   ],
   "source": [
    "display(df['income_type'].unique()) # Все ОК"
   ]
  },
  {
   "cell_type": "code",
   "execution_count": 154,
   "id": "f98987e5",
   "metadata": {},
   "outputs": [
    {
     "data": {
      "text/plain": [
       "array([0, 1])"
      ]
     },
     "metadata": {},
     "output_type": "display_data"
    }
   ],
   "source": [
    "display(df['debt'].unique()) # Все ОК"
   ]
  },
  {
   "cell_type": "code",
   "execution_count": 155,
   "id": "9a72caf4",
   "metadata": {},
   "outputs": [
    {
     "data": {
      "text/plain": [
       "array([253875.6394526 , 112080.01410244, 145885.95229686, ...,\n",
       "        89672.56115303, 244093.05050043,  82047.41889948])"
      ]
     },
     "metadata": {},
     "output_type": "display_data"
    }
   ],
   "source": [
    "display(df['total_income'].unique()) # Все ОК"
   ]
  },
  {
   "cell_type": "code",
   "execution_count": 156,
   "id": "6e5ba288",
   "metadata": {},
   "outputs": [
    {
     "data": {
      "text/plain": [
       "array(['покупка жилья', 'приобретение автомобиля',\n",
       "       'дополнительное образование', 'сыграть свадьбу',\n",
       "       'операции с жильем', 'образование', 'на проведение свадьбы',\n",
       "       'покупка жилья для семьи', 'покупка недвижимости',\n",
       "       'покупка коммерческой недвижимости', 'покупка жилой недвижимости',\n",
       "       'строительство собственной недвижимости', 'недвижимость',\n",
       "       'строительство недвижимости', 'на покупку подержанного автомобиля',\n",
       "       'на покупку своего автомобиля',\n",
       "       'операции с коммерческой недвижимостью',\n",
       "       'строительство жилой недвижимости', 'жилье',\n",
       "       'операции со своей недвижимостью', 'автомобили',\n",
       "       'заняться образованием', 'сделка с подержанным автомобилем',\n",
       "       'получение образования', 'автомобиль', 'свадьба',\n",
       "       'получение дополнительного образования', 'покупка своего жилья',\n",
       "       'операции с недвижимостью', 'получение высшего образования',\n",
       "       'свой автомобиль', 'сделка с автомобилем',\n",
       "       'профильное образование', 'высшее образование',\n",
       "       'покупка жилья для сдачи', 'на покупку автомобиля', 'ремонт жилью',\n",
       "       'заняться высшим образованием'], dtype=object)"
      ]
     },
     "metadata": {},
     "output_type": "display_data"
    }
   ],
   "source": [
    "display(df['purpose'].unique()) # Неявные дубликаты. Категоризированно по ключевым словам в п. \"0.8  Шаг 2.7. Категоризация целей кредита.\""
   ]
  },
  {
   "cell_type": "markdown",
   "id": "5f6ff994",
   "metadata": {},
   "source": [
    "### Шаг 2.3. Изменение типов данных."
   ]
  },
  {
   "cell_type": "code",
   "execution_count": 157,
   "id": "886fa827",
   "metadata": {},
   "outputs": [],
   "source": [
    "try:\n",
    "    df['total_income']= df['total_income'].astype('int') # Замена вещественного типа на целоцисленный\n",
    "    df['days_employed'] = df['days_employed'].astype('int')\n",
    "except Exception as e:\n",
    "    print('Не удалось преобразовать поле total_income в тип int')"
   ]
  },
  {
   "cell_type": "code",
   "execution_count": 158,
   "id": "f7b01770",
   "metadata": {},
   "outputs": [
    {
     "name": "stdout",
     "output_type": "stream",
     "text": [
      "<class 'pandas.core.frame.DataFrame'>\n",
      "Int64Index: 21423 entries, 0 to 21524\n",
      "Data columns (total 12 columns):\n",
      " #   Column            Non-Null Count  Dtype \n",
      "---  ------            --------------  ----- \n",
      " 0   children          21423 non-null  int64 \n",
      " 1   days_employed     21423 non-null  int64 \n",
      " 2   dob_years         21423 non-null  int64 \n",
      " 3   education         21423 non-null  object\n",
      " 4   education_id      21423 non-null  int64 \n",
      " 5   family_status     21423 non-null  object\n",
      " 6   family_status_id  21423 non-null  int64 \n",
      " 7   gender            21423 non-null  object\n",
      " 8   income_type       21423 non-null  object\n",
      " 9   debt              21423 non-null  int64 \n",
      " 10  total_income      21423 non-null  int64 \n",
      " 11  purpose           21423 non-null  object\n",
      "dtypes: int64(7), object(5)\n",
      "memory usage: 2.1+ MB\n"
     ]
    }
   ],
   "source": [
    "df.info()"
   ]
  },
  {
   "cell_type": "markdown",
   "id": "ecc776a7",
   "metadata": {},
   "source": [
    "### Шаг 2.4. Удаление дубликатов."
   ]
  },
  {
   "cell_type": "code",
   "execution_count": 159,
   "id": "5eacc64c",
   "metadata": {},
   "outputs": [
    {
     "data": {
      "text/plain": [
       "среднее                13691\n",
       "высшее                  4686\n",
       "СРЕДНЕЕ                  770\n",
       "Среднее                  708\n",
       "неоконченное высшее      665\n",
       "ВЫСШЕЕ                   273\n",
       "Высшее                   266\n",
       "начальное                250\n",
       "Неоконченное высшее       47\n",
       "НЕОКОНЧЕННОЕ ВЫСШЕЕ       29\n",
       "НАЧАЛЬНОЕ                 17\n",
       "Начальное                 15\n",
       "ученая степень             4\n",
       "Ученая степень             1\n",
       "УЧЕНАЯ СТЕПЕНЬ             1\n",
       "Name: education, dtype: int64"
      ]
     },
     "execution_count": 159,
     "metadata": {},
     "output_type": "execute_result"
    }
   ],
   "source": [
    "df['education'].value_counts() # Подсчет количества До"
   ]
  },
  {
   "cell_type": "code",
   "execution_count": 160,
   "id": "36a9d142",
   "metadata": {},
   "outputs": [],
   "source": [
    "df['education'] = df['education'].str.lower() # Приводим к нижнему регистру"
   ]
  },
  {
   "cell_type": "code",
   "execution_count": 161,
   "id": "f788229e",
   "metadata": {},
   "outputs": [
    {
     "data": {
      "text/plain": [
       "среднее                15169\n",
       "высшее                  5225\n",
       "неоконченное высшее      741\n",
       "начальное                282\n",
       "ученая степень             6\n",
       "Name: education, dtype: int64"
      ]
     },
     "execution_count": 161,
     "metadata": {},
     "output_type": "execute_result"
    }
   ],
   "source": [
    "df['education'].value_counts() # Подсчет количества После"
   ]
  },
  {
   "cell_type": "code",
   "execution_count": 162,
   "id": "2bf26914",
   "metadata": {},
   "outputs": [
    {
     "data": {
      "text/plain": [
       "71"
      ]
     },
     "execution_count": 162,
     "metadata": {},
     "output_type": "execute_result"
    }
   ],
   "source": [
    "df.duplicated().sum() # Поиск дубликатов во всем датафрейме до устранения"
   ]
  },
  {
   "cell_type": "code",
   "execution_count": 163,
   "id": "5ad76d3f",
   "metadata": {},
   "outputs": [],
   "source": [
    "df = df.drop_duplicates().reset_index(drop = True)"
   ]
  },
  {
   "cell_type": "code",
   "execution_count": 164,
   "id": "459ff351",
   "metadata": {},
   "outputs": [
    {
     "data": {
      "text/plain": [
       "0"
      ]
     },
     "execution_count": 164,
     "metadata": {},
     "output_type": "execute_result"
    }
   ],
   "source": [
    "df.duplicated().sum() # Поиск дубликатов во всем датафрейме после устранения"
   ]
  },
  {
   "cell_type": "markdown",
   "id": "8de0eb9e",
   "metadata": {},
   "source": [
    "1. Дубликаты в поле education появились из-за несоблюдения регистров при заполнении данных. Для устранения дубликатов все строки столбца education были приведены к нижнему регистру.\n",
    "2. Во всем датафрейме было 71 дублей, они тоже были устранены методом drop_duplicates."
   ]
  },
  {
   "cell_type": "markdown",
   "id": "54d71e78",
   "metadata": {},
   "source": [
    "### Шаг 2.5. Формирование дополнительных датафреймов словарей, декомпозиция исходного датафрейма."
   ]
  },
  {
   "cell_type": "code",
   "execution_count": 165,
   "id": "272c3f4e",
   "metadata": {},
   "outputs": [
    {
     "name": "stdout",
     "output_type": "stream",
     "text": [
      "['высшее' 'среднее' 'неоконченное высшее' 'начальное' 'ученая степень']\n",
      "[0 1 2 3 4]\n"
     ]
    }
   ],
   "source": [
    "print(df['education'].unique()) # Вывод уникальных значений\n",
    "print(df['education_id'].unique())"
   ]
  },
  {
   "cell_type": "code",
   "execution_count": 166,
   "id": "45fce2e1",
   "metadata": {},
   "outputs": [
    {
     "name": "stdout",
     "output_type": "stream",
     "text": [
      "['женат / замужем' 'гражданский брак' 'вдовец / вдова' 'в разводе'\n",
      " 'Не женат / не замужем']\n",
      "[0 1 2 3 4]\n"
     ]
    }
   ],
   "source": [
    "print(df['family_status'].unique())\n",
    "print(df['family_status_id'].unique())"
   ]
  },
  {
   "cell_type": "code",
   "execution_count": 167,
   "id": "aec5d1eb",
   "metadata": {},
   "outputs": [],
   "source": [
    "try:\n",
    "    del df['education']\n",
    "    del df['family_status']\n",
    "except Exception as e:\n",
    "    print(e.__str__())"
   ]
  },
  {
   "cell_type": "code",
   "execution_count": 168,
   "id": "86a3b15d",
   "metadata": {},
   "outputs": [
    {
     "data": {
      "text/html": [
       "<div>\n",
       "<style scoped>\n",
       "    .dataframe tbody tr th:only-of-type {\n",
       "        vertical-align: middle;\n",
       "    }\n",
       "\n",
       "    .dataframe tbody tr th {\n",
       "        vertical-align: top;\n",
       "    }\n",
       "\n",
       "    .dataframe thead th {\n",
       "        text-align: right;\n",
       "    }\n",
       "</style>\n",
       "<table border=\"1\" class=\"dataframe\">\n",
       "  <thead>\n",
       "    <tr style=\"text-align: right;\">\n",
       "      <th></th>\n",
       "      <th>0</th>\n",
       "      <th>1</th>\n",
       "      <th>2</th>\n",
       "      <th>3</th>\n",
       "      <th>4</th>\n",
       "    </tr>\n",
       "  </thead>\n",
       "  <tbody>\n",
       "    <tr>\n",
       "      <th>0</th>\n",
       "      <td>высшее</td>\n",
       "      <td>среднее</td>\n",
       "      <td>неоконченное высшее</td>\n",
       "      <td>начальное</td>\n",
       "      <td>ученая степень</td>\n",
       "    </tr>\n",
       "  </tbody>\n",
       "</table>\n",
       "</div>"
      ],
      "text/plain": [
       "        0        1                    2          3               4\n",
       "0  высшее  среднее  неоконченное высшее  начальное  ученая степень"
      ]
     },
     "metadata": {},
     "output_type": "display_data"
    }
   ],
   "source": [
    "data_education = [['высшее', 'среднее', 'неоконченное высшее', 'начальное', 'ученая степень']]\n",
    "columns_education = [0, 1, 2, 3, 4]\n",
    "df_education = pd.DataFrame(data = data_education, columns = columns_education)\n",
    "display(df_education)"
   ]
  },
  {
   "cell_type": "code",
   "execution_count": 169,
   "id": "7d3aa305",
   "metadata": {},
   "outputs": [
    {
     "data": {
      "text/html": [
       "<div>\n",
       "<style scoped>\n",
       "    .dataframe tbody tr th:only-of-type {\n",
       "        vertical-align: middle;\n",
       "    }\n",
       "\n",
       "    .dataframe tbody tr th {\n",
       "        vertical-align: top;\n",
       "    }\n",
       "\n",
       "    .dataframe thead th {\n",
       "        text-align: right;\n",
       "    }\n",
       "</style>\n",
       "<table border=\"1\" class=\"dataframe\">\n",
       "  <thead>\n",
       "    <tr style=\"text-align: right;\">\n",
       "      <th></th>\n",
       "      <th>0</th>\n",
       "      <th>1</th>\n",
       "      <th>2</th>\n",
       "      <th>3</th>\n",
       "      <th>4</th>\n",
       "    </tr>\n",
       "  </thead>\n",
       "  <tbody>\n",
       "    <tr>\n",
       "      <th>0</th>\n",
       "      <td>женат / замужем</td>\n",
       "      <td>гражданский брак</td>\n",
       "      <td>вдовец / вдова</td>\n",
       "      <td>в разводе</td>\n",
       "      <td>Не женат / не замужем</td>\n",
       "    </tr>\n",
       "  </tbody>\n",
       "</table>\n",
       "</div>"
      ],
      "text/plain": [
       "                 0                 1               2          3  \\\n",
       "0  женат / замужем  гражданский брак  вдовец / вдова  в разводе   \n",
       "\n",
       "                       4  \n",
       "0  Не женат / не замужем  "
      ]
     },
     "metadata": {},
     "output_type": "display_data"
    }
   ],
   "source": [
    "data_family_status = [['женат / замужем', 'гражданский брак', 'вдовец / вдова', 'в разводе', 'Не женат / не замужем']]\n",
    "columns_family_status = [0, 1, 2, 3, 4]\n",
    "df_family_status = pd.DataFrame(data = data_family_status, columns = columns_family_status)\n",
    "display(df_family_status)"
   ]
  },
  {
   "cell_type": "markdown",
   "id": "713bc058",
   "metadata": {},
   "source": [
    "### Шаг 2.6. Категоризация дохода."
   ]
  },
  {
   "cell_type": "code",
   "execution_count": 170,
   "id": "602a8fa2",
   "metadata": {},
   "outputs": [],
   "source": [
    "def get_total_income_category(total_income): # Создаем функцию\n",
    "    if total_income <= 30000:\n",
    "        return 'E'\n",
    "    if total_income <= 50000:\n",
    "        return 'D'\n",
    "    if total_income <= 200000:\n",
    "        return 'C'\n",
    "    if total_income <= 1000000:\n",
    "        return 'B'\n",
    "    return 'A'"
   ]
  },
  {
   "cell_type": "code",
   "execution_count": 171,
   "id": "92ce89e5",
   "metadata": {},
   "outputs": [
    {
     "data": {
      "text/plain": [
       "'E'"
      ]
     },
     "execution_count": 171,
     "metadata": {},
     "output_type": "execute_result"
    }
   ],
   "source": [
    "get_total_income_category(25000) # Проверяем работу функции при разных значениях на входе"
   ]
  },
  {
   "cell_type": "code",
   "execution_count": 172,
   "id": "2843c303",
   "metadata": {},
   "outputs": [
    {
     "data": {
      "text/plain": [
       "'B'"
      ]
     },
     "execution_count": 172,
     "metadata": {},
     "output_type": "execute_result"
    }
   ],
   "source": [
    "get_total_income_category(235000) # Проверяем работу функции при разных значениях на входе"
   ]
  },
  {
   "cell_type": "code",
   "execution_count": 173,
   "id": "3989da5b",
   "metadata": {},
   "outputs": [],
   "source": [
    "df['total_income_category'] = df['total_income'].apply(get_total_income_category) # Создаем столбец"
   ]
  },
  {
   "cell_type": "markdown",
   "id": "33aa9e55",
   "metadata": {},
   "source": [
    "### Шаг 2.7. Категоризация целей кредита."
   ]
  },
  {
   "cell_type": "code",
   "execution_count": 174,
   "id": "7283cda0",
   "metadata": {},
   "outputs": [
    {
     "data": {
      "text/plain": [
       "array(['покупка жилья', 'приобретение автомобиля',\n",
       "       'дополнительное образование', 'сыграть свадьбу',\n",
       "       'операции с жильем', 'образование', 'на проведение свадьбы',\n",
       "       'покупка жилья для семьи', 'покупка недвижимости',\n",
       "       'покупка коммерческой недвижимости', 'покупка жилой недвижимости',\n",
       "       'строительство собственной недвижимости', 'недвижимость',\n",
       "       'строительство недвижимости', 'на покупку подержанного автомобиля',\n",
       "       'на покупку своего автомобиля',\n",
       "       'операции с коммерческой недвижимостью',\n",
       "       'строительство жилой недвижимости', 'жилье',\n",
       "       'операции со своей недвижимостью', 'автомобили',\n",
       "       'заняться образованием', 'сделка с подержанным автомобилем',\n",
       "       'получение образования', 'автомобиль', 'свадьба',\n",
       "       'получение дополнительного образования', 'покупка своего жилья',\n",
       "       'операции с недвижимостью', 'получение высшего образования',\n",
       "       'свой автомобиль', 'сделка с автомобилем',\n",
       "       'профильное образование', 'высшее образование',\n",
       "       'покупка жилья для сдачи', 'на покупку автомобиля', 'ремонт жилью',\n",
       "       'заняться высшим образованием'], dtype=object)"
      ]
     },
     "metadata": {},
     "output_type": "display_data"
    }
   ],
   "source": [
    "display(df['purpose'].unique()) # Неявные дубликаты, причина - человеческий фактор"
   ]
  },
  {
   "cell_type": "code",
   "execution_count": 175,
   "id": "e8c53f9c",
   "metadata": {},
   "outputs": [],
   "source": [
    "def get_purpose_category(purpose): # Создаем функцию\n",
    "    \"\"\"\n",
    "    'операции с автомобилем',\n",
    "    'операции с недвижимостью',\n",
    "    'проведение свадьбы',\n",
    "    'получение образования'.\n",
    "    \"\"\"\n",
    "    if 'автомобил' in purpose:\n",
    "        return 'операции с автомобилем'\n",
    "    if ('жиль' in purpose) or ('недвижимост' in purpose):\n",
    "        return 'операции с недвижимостью'\n",
    "    if 'свадьб' in purpose:\n",
    "        return 'проведение свадьбы'\n",
    "    if 'образовани' in purpose:\n",
    "        return 'получение образования'"
   ]
  },
  {
   "cell_type": "code",
   "execution_count": 176,
   "id": "48d3c1cf",
   "metadata": {},
   "outputs": [
    {
     "data": {
      "text/plain": [
       "'операции с автомобилем'"
      ]
     },
     "execution_count": 176,
     "metadata": {},
     "output_type": "execute_result"
    }
   ],
   "source": [
    "get_purpose_category('на покупку автомобиля') # Проверяем работу функции при разных значениях на входе"
   ]
  },
  {
   "cell_type": "code",
   "execution_count": 177,
   "id": "e3dedd14",
   "metadata": {},
   "outputs": [],
   "source": [
    "df['purpose_category'] = df['purpose'].apply(get_purpose_category) # Проверяем работу функции при разных значениях на входе"
   ]
  },
  {
   "cell_type": "code",
   "execution_count": 178,
   "id": "e8973f5a",
   "metadata": {},
   "outputs": [
    {
     "data": {
      "text/plain": [
       "операции с недвижимостью    10763\n",
       "операции с автомобилем       4284\n",
       "получение образования        3995\n",
       "проведение свадьбы           2310\n",
       "Name: purpose_category, dtype: int64"
      ]
     },
     "execution_count": 178,
     "metadata": {},
     "output_type": "execute_result"
    }
   ],
   "source": [
    "df['purpose_category'].value_counts() # Подсчет уникальных значений "
   ]
  },
  {
   "cell_type": "markdown",
   "id": "5b903fd1",
   "metadata": {},
   "source": [
    "### Ответы на вопросы."
   ]
  },
  {
   "cell_type": "markdown",
   "id": "223c7555",
   "metadata": {},
   "source": [
    "##### Вопрос 1: Есть ли зависимость между количеством детей и возвратом кредита в срок?"
   ]
  },
  {
   "cell_type": "code",
   "execution_count": 179,
   "id": "2eab70b6",
   "metadata": {},
   "outputs": [],
   "source": [
    "#children_grouped = df.groupby('children').agg({'debt':['count','sum']}) # Методом agg() указываем, какие именно функции применить к столбцу debt \n",
    "#children_grouped['quality'] = children_grouped['debt']['sum'] / children_grouped['debt']['count'] * 100 # Посчет доли просрочек по кредиту в зависимости от количества детей\n",
    "#display(children_grouped)"
   ]
  },
  {
   "cell_type": "code",
   "execution_count": 180,
   "id": "062653f8",
   "metadata": {},
   "outputs": [
    {
     "data": {
      "text/html": [
       "<div>\n",
       "<style scoped>\n",
       "    .dataframe tbody tr th:only-of-type {\n",
       "        vertical-align: middle;\n",
       "    }\n",
       "\n",
       "    .dataframe tbody tr th {\n",
       "        vertical-align: top;\n",
       "    }\n",
       "\n",
       "    .dataframe thead th {\n",
       "        text-align: right;\n",
       "    }\n",
       "</style>\n",
       "<table border=\"1\" class=\"dataframe\">\n",
       "  <thead>\n",
       "    <tr style=\"text-align: right;\">\n",
       "      <th></th>\n",
       "      <th>debt</th>\n",
       "    </tr>\n",
       "    <tr>\n",
       "      <th>children</th>\n",
       "      <th></th>\n",
       "    </tr>\n",
       "  </thead>\n",
       "  <tbody>\n",
       "    <tr>\n",
       "      <th>0</th>\n",
       "      <td>7.545824</td>\n",
       "    </tr>\n",
       "    <tr>\n",
       "      <th>1</th>\n",
       "      <td>9.134119</td>\n",
       "    </tr>\n",
       "    <tr>\n",
       "      <th>2</th>\n",
       "      <td>9.555345</td>\n",
       "    </tr>\n",
       "    <tr>\n",
       "      <th>3</th>\n",
       "      <td>8.231707</td>\n",
       "    </tr>\n",
       "    <tr>\n",
       "      <th>4</th>\n",
       "      <td>9.756098</td>\n",
       "    </tr>\n",
       "    <tr>\n",
       "      <th>5</th>\n",
       "      <td>0.000000</td>\n",
       "    </tr>\n",
       "  </tbody>\n",
       "</table>\n",
       "</div>"
      ],
      "text/plain": [
       "              debt\n",
       "children          \n",
       "0         7.545824\n",
       "1         9.134119\n",
       "2         9.555345\n",
       "3         8.231707\n",
       "4         9.756098\n",
       "5         0.000000"
      ]
     },
     "metadata": {},
     "output_type": "display_data"
    }
   ],
   "source": [
    "children_count_1 = pd.pivot_table(df, index='children', values='debt', aggfunc='count')\n",
    "children_sum_1 = pd.pivot_table(df, index='children', values='debt', aggfunc='sum')\n",
    "quality_children = children_sum_1 / children_count_1 * 100\n",
    "display(quality_children)"
   ]
  },
  {
   "cell_type": "markdown",
   "id": "caa2fbdf",
   "metadata": {},
   "source": [
    "##### Вывод 1:"
   ]
  },
  {
   "cell_type": "markdown",
   "id": "5a78652f",
   "metadata": {},
   "source": [
    "Больше всего задолженностей у семей с детьми от 1-4 детей. У семей с 5 детьми нету задолженностей. Это может быть связано с финансами."
   ]
  },
  {
   "cell_type": "markdown",
   "id": "e750aee1",
   "metadata": {},
   "source": [
    "##### Вопрос 2: Есть ли зависимость между семейным положением и возвратом кредита в срок?"
   ]
  },
  {
   "cell_type": "code",
   "execution_count": 182,
   "id": "f9b00260",
   "metadata": {},
   "outputs": [
    {
     "data": {
      "text/html": [
       "<div>\n",
       "<style scoped>\n",
       "    .dataframe tbody tr th:only-of-type {\n",
       "        vertical-align: middle;\n",
       "    }\n",
       "\n",
       "    .dataframe tbody tr th {\n",
       "        vertical-align: top;\n",
       "    }\n",
       "\n",
       "    .dataframe thead th {\n",
       "        text-align: right;\n",
       "    }\n",
       "</style>\n",
       "<table border=\"1\" class=\"dataframe\">\n",
       "  <thead>\n",
       "    <tr style=\"text-align: right;\">\n",
       "      <th></th>\n",
       "      <th>0</th>\n",
       "      <th>1</th>\n",
       "      <th>2</th>\n",
       "      <th>3</th>\n",
       "      <th>4</th>\n",
       "    </tr>\n",
       "  </thead>\n",
       "  <tbody>\n",
       "    <tr>\n",
       "      <th>0</th>\n",
       "      <td>женат / замужем</td>\n",
       "      <td>гражданский брак</td>\n",
       "      <td>вдовец / вдова</td>\n",
       "      <td>в разводе</td>\n",
       "      <td>Не женат / не замужем</td>\n",
       "    </tr>\n",
       "  </tbody>\n",
       "</table>\n",
       "</div>"
      ],
      "text/plain": [
       "                 0                 1               2          3  \\\n",
       "0  женат / замужем  гражданский брак  вдовец / вдова  в разводе   \n",
       "\n",
       "                       4  \n",
       "0  Не женат / не замужем  "
      ]
     },
     "metadata": {},
     "output_type": "display_data"
    },
    {
     "data": {
      "text/html": [
       "<div>\n",
       "<style scoped>\n",
       "    .dataframe tbody tr th:only-of-type {\n",
       "        vertical-align: middle;\n",
       "    }\n",
       "\n",
       "    .dataframe tbody tr th {\n",
       "        vertical-align: top;\n",
       "    }\n",
       "\n",
       "    .dataframe thead th {\n",
       "        text-align: right;\n",
       "    }\n",
       "</style>\n",
       "<table border=\"1\" class=\"dataframe\">\n",
       "  <thead>\n",
       "    <tr style=\"text-align: right;\">\n",
       "      <th></th>\n",
       "      <th>debt</th>\n",
       "    </tr>\n",
       "    <tr>\n",
       "      <th>family_status_id</th>\n",
       "      <th></th>\n",
       "    </tr>\n",
       "  </thead>\n",
       "  <tbody>\n",
       "    <tr>\n",
       "      <th>0</th>\n",
       "      <td>7.542718</td>\n",
       "    </tr>\n",
       "    <tr>\n",
       "      <th>1</th>\n",
       "      <td>9.348511</td>\n",
       "    </tr>\n",
       "    <tr>\n",
       "      <th>2</th>\n",
       "      <td>6.498952</td>\n",
       "    </tr>\n",
       "    <tr>\n",
       "      <th>3</th>\n",
       "      <td>7.172996</td>\n",
       "    </tr>\n",
       "    <tr>\n",
       "      <th>4</th>\n",
       "      <td>9.770938</td>\n",
       "    </tr>\n",
       "  </tbody>\n",
       "</table>\n",
       "</div>"
      ],
      "text/plain": [
       "                      debt\n",
       "family_status_id          \n",
       "0                 7.542718\n",
       "1                 9.348511\n",
       "2                 6.498952\n",
       "3                 7.172996\n",
       "4                 9.770938"
      ]
     },
     "metadata": {},
     "output_type": "display_data"
    }
   ],
   "source": [
    "family_count = pd.pivot_table(df, index='family_status_id', values='debt', aggfunc='count')\n",
    "family_sum = pd.pivot_table(df, index='family_status_id', values='debt', aggfunc='sum')\n",
    "quality_family = family_sum / family_count * 100\n",
    "display(df_family_status)\n",
    "display(quality_family)"
   ]
  },
  {
   "cell_type": "markdown",
   "id": "5d8fce67",
   "metadata": {},
   "source": [
    "##### Вывод 2:"
   ]
  },
  {
   "cell_type": "markdown",
   "id": "1c6d2200",
   "metadata": {},
   "source": [
    "У категорий \"не женат / не замужем\" и \"гражданский брак\" больше всего задолжностей, можно судить, что они не хотят нести ответственность ни за финансы, ни в жизни, а в категории  \"вдовец / вдова\" и \"в разводе\" меньше всего задолжностей, эти люди остались одни, пережили многое и чувство ответственности у них большое. В категории \"женат / замужем\" средние показатели, вероятнее всего эти люди ответственны, но есть не большие проблемы с финансами."
   ]
  },
  {
   "cell_type": "markdown",
   "id": "99610e50",
   "metadata": {},
   "source": [
    "##### Вопрос 3: Есть ли зависимость между уровнем дохода и возвратом кредита в срок?"
   ]
  },
  {
   "cell_type": "code",
   "execution_count": 184,
   "id": "7224874b",
   "metadata": {},
   "outputs": [
    {
     "data": {
      "text/html": [
       "<div>\n",
       "<style scoped>\n",
       "    .dataframe tbody tr th:only-of-type {\n",
       "        vertical-align: middle;\n",
       "    }\n",
       "\n",
       "    .dataframe tbody tr th {\n",
       "        vertical-align: top;\n",
       "    }\n",
       "\n",
       "    .dataframe thead th {\n",
       "        text-align: right;\n",
       "    }\n",
       "</style>\n",
       "<table border=\"1\" class=\"dataframe\">\n",
       "  <thead>\n",
       "    <tr style=\"text-align: right;\">\n",
       "      <th></th>\n",
       "      <th>debt</th>\n",
       "    </tr>\n",
       "    <tr>\n",
       "      <th>total_income_category</th>\n",
       "      <th></th>\n",
       "    </tr>\n",
       "  </thead>\n",
       "  <tbody>\n",
       "    <tr>\n",
       "      <th>A</th>\n",
       "      <td>8.000000</td>\n",
       "    </tr>\n",
       "    <tr>\n",
       "      <th>B</th>\n",
       "      <td>7.080176</td>\n",
       "    </tr>\n",
       "    <tr>\n",
       "      <th>C</th>\n",
       "      <td>8.486483</td>\n",
       "    </tr>\n",
       "    <tr>\n",
       "      <th>D</th>\n",
       "      <td>6.034483</td>\n",
       "    </tr>\n",
       "    <tr>\n",
       "      <th>E</th>\n",
       "      <td>9.090909</td>\n",
       "    </tr>\n",
       "  </tbody>\n",
       "</table>\n",
       "</div>"
      ],
      "text/plain": [
       "                           debt\n",
       "total_income_category          \n",
       "A                      8.000000\n",
       "B                      7.080176\n",
       "C                      8.486483\n",
       "D                      6.034483\n",
       "E                      9.090909"
      ]
     },
     "metadata": {},
     "output_type": "display_data"
    }
   ],
   "source": [
    "total_income_count = pd.pivot_table(df, index='total_income_category', values='debt', aggfunc='count')\n",
    "total_income_sum = pd.pivot_table(df, index='total_income_category', values='debt', aggfunc='sum')\n",
    "quality_total_income = total_income_sum / total_income_count * 100\n",
    "display(quality_total_income)"
   ]
  },
  {
   "cell_type": "markdown",
   "id": "0a62eb23",
   "metadata": {},
   "source": [
    "##### Вывод 3:"
   ]
  },
  {
   "cell_type": "markdown",
   "id": "fb138861",
   "metadata": {},
   "source": [
    "1. Клиенты, уровень дохода которых 30 000 – 50 000 руб., они умеют рассчитывать свои возможности и траты\n",
    "2. Клиенты, уровень дохода которых больше 50 000 руб., задолжностей больше вероятнее всего потому что и траты у них больше. \n",
    "3. Клиенты, у которых доход составляет до 30 000 руб., у них больше всех задолжностей, вероятно, это связано с низким уровнем дохода."
   ]
  },
  {
   "cell_type": "markdown",
   "id": "250f2494",
   "metadata": {},
   "source": [
    "##### Вопрос 4: Как разные цели кредита влияют на его возврат в срок?"
   ]
  },
  {
   "cell_type": "code",
   "execution_count": 186,
   "id": "9c859133",
   "metadata": {},
   "outputs": [
    {
     "data": {
      "text/html": [
       "<div>\n",
       "<style scoped>\n",
       "    .dataframe tbody tr th:only-of-type {\n",
       "        vertical-align: middle;\n",
       "    }\n",
       "\n",
       "    .dataframe tbody tr th {\n",
       "        vertical-align: top;\n",
       "    }\n",
       "\n",
       "    .dataframe thead th {\n",
       "        text-align: right;\n",
       "    }\n",
       "</style>\n",
       "<table border=\"1\" class=\"dataframe\">\n",
       "  <thead>\n",
       "    <tr style=\"text-align: right;\">\n",
       "      <th></th>\n",
       "      <th>debt</th>\n",
       "    </tr>\n",
       "    <tr>\n",
       "      <th>purpose_category</th>\n",
       "      <th></th>\n",
       "    </tr>\n",
       "  </thead>\n",
       "  <tbody>\n",
       "    <tr>\n",
       "      <th>операции с автомобилем</th>\n",
       "      <td>9.337068</td>\n",
       "    </tr>\n",
       "    <tr>\n",
       "      <th>операции с недвижимостью</th>\n",
       "      <td>7.237759</td>\n",
       "    </tr>\n",
       "    <tr>\n",
       "      <th>получение образования</th>\n",
       "      <td>9.261577</td>\n",
       "    </tr>\n",
       "    <tr>\n",
       "      <th>проведение свадьбы</th>\n",
       "      <td>7.965368</td>\n",
       "    </tr>\n",
       "  </tbody>\n",
       "</table>\n",
       "</div>"
      ],
      "text/plain": [
       "                              debt\n",
       "purpose_category                  \n",
       "операции с автомобилем    9.337068\n",
       "операции с недвижимостью  7.237759\n",
       "получение образования     9.261577\n",
       "проведение свадьбы        7.965368"
      ]
     },
     "metadata": {},
     "output_type": "display_data"
    }
   ],
   "source": [
    "purpose_count = pd.pivot_table(df, index='purpose_category', values='debt', aggfunc='count')\n",
    "purpose_sum = pd.pivot_table(df, index='purpose_category', values='debt', aggfunc='sum')\n",
    "quality_purpose = purpose_sum / purpose_count * 100\n",
    "display(quality_purpose)"
   ]
  },
  {
   "cell_type": "markdown",
   "id": "c43847fb",
   "metadata": {},
   "source": [
    "##### Вывод 4:"
   ]
  },
  {
   "cell_type": "markdown",
   "id": "a81ec892",
   "metadata": {},
   "source": [
    "1. У категорий \"операции с недвижимостью\" и \"проведение свадьбы\" меньше всего задолжностей, к недвижимости люди относятся ответственно, т.к срок платежа большой и не хочется остаться в долгах на крупные суммы, это пугает людей. А после свадьбы гости дарят деньги, которые потом можно положить на кредит, поэтому должников меньше.\n",
    "2. У категорий \"операции с автомобилем\" и \"получение образования\" задолжностей больше, может быть потому что люди берут кредит не совсем обдуманно, например поведясь на рекламу машины. Одновременно учиться и работать тяжело, и найти работу с хорошей заработной платой трудно, появляются задолжности из-за недостачи финансов."
   ]
  },
  {
   "cell_type": "markdown",
   "id": "bccfe198",
   "metadata": {},
   "source": [
    "## Общий вывод:"
   ]
  },
  {
   "cell_type": "markdown",
   "id": "c9127116",
   "metadata": {},
   "source": [
    "По итогам своей работы, могу сказать, что самыми надежными клиентами будут люди, имеющие 5 детей (т.к. они более опытные и ответственные), вдовец или вдова, имеющие уровень дохода 30 000 – 50 000 руб в месяц, которые берут кредит для операции с недвижимостью.\n",
    "\n",
    "Не надежными кредиторами будут люди, имеющие 1, 2, 4 детей, одиночки, у которых доход составляет до 30 000 руб и целью является покупка автомобиля."
   ]
  }
 ],
 "metadata": {
  "ExecuteTimeLog": [
   {
    "duration": 620,
    "start_time": "2022-03-22T18:12:25.293Z"
   },
   {
    "duration": 84,
    "start_time": "2022-03-22T18:13:38.573Z"
   },
   {
    "duration": 72,
    "start_time": "2022-03-22T18:13:42.714Z"
   },
   {
    "duration": 85,
    "start_time": "2022-03-22T18:14:39.269Z"
   },
   {
    "duration": 713,
    "start_time": "2022-03-23T17:54:04.381Z"
   },
   {
    "duration": 84,
    "start_time": "2022-03-23T18:03:30.565Z"
   },
   {
    "duration": 6,
    "start_time": "2022-03-23T18:04:03.462Z"
   },
   {
    "duration": 7,
    "start_time": "2022-03-23T18:04:20.222Z"
   },
   {
    "duration": 26,
    "start_time": "2022-03-23T18:07:51.330Z"
   },
   {
    "duration": 24,
    "start_time": "2022-03-23T18:09:53.683Z"
   },
   {
    "duration": 24,
    "start_time": "2022-03-23T18:10:02.319Z"
   },
   {
    "duration": 51,
    "start_time": "2022-03-26T07:52:05.587Z"
   },
   {
    "duration": 481,
    "start_time": "2022-03-26T07:52:26.761Z"
   },
   {
    "duration": 20,
    "start_time": "2022-03-26T07:52:27.244Z"
   },
   {
    "duration": 9,
    "start_time": "2022-03-26T07:52:27.265Z"
   },
   {
    "duration": 8,
    "start_time": "2022-03-26T07:53:11.374Z"
   },
   {
    "duration": 31,
    "start_time": "2022-03-26T07:55:22.413Z"
   },
   {
    "duration": 5,
    "start_time": "2022-03-26T08:27:10.462Z"
   },
   {
    "duration": 3,
    "start_time": "2022-03-26T08:27:13.025Z"
   },
   {
    "duration": 24,
    "start_time": "2022-03-26T08:32:21.019Z"
   },
   {
    "duration": 7,
    "start_time": "2022-03-26T08:36:42.151Z"
   },
   {
    "duration": 79,
    "start_time": "2022-03-26T08:42:17.508Z"
   },
   {
    "duration": 20,
    "start_time": "2022-03-26T08:42:17.590Z"
   },
   {
    "duration": 21,
    "start_time": "2022-03-26T08:42:17.612Z"
   },
   {
    "duration": 6,
    "start_time": "2022-03-26T08:42:17.635Z"
   },
   {
    "duration": 5,
    "start_time": "2022-03-26T08:42:17.643Z"
   },
   {
    "duration": 10,
    "start_time": "2022-03-26T08:42:17.650Z"
   },
   {
    "duration": 8,
    "start_time": "2022-03-26T08:42:17.662Z"
   },
   {
    "duration": 8,
    "start_time": "2022-03-26T08:42:17.671Z"
   },
   {
    "duration": 8,
    "start_time": "2022-03-26T08:42:17.681Z"
   },
   {
    "duration": 6,
    "start_time": "2022-03-26T08:42:17.731Z"
   },
   {
    "duration": 8,
    "start_time": "2022-03-26T08:42:17.738Z"
   },
   {
    "duration": 9,
    "start_time": "2022-03-26T08:42:17.748Z"
   },
   {
    "duration": 9,
    "start_time": "2022-03-26T08:42:17.759Z"
   },
   {
    "duration": 6,
    "start_time": "2022-03-26T08:42:17.769Z"
   },
   {
    "duration": 57,
    "start_time": "2022-03-26T08:42:17.777Z"
   },
   {
    "duration": 7,
    "start_time": "2022-03-26T08:42:17.836Z"
   },
   {
    "duration": 32,
    "start_time": "2022-03-26T08:43:30.226Z"
   },
   {
    "duration": 11,
    "start_time": "2022-03-26T08:43:51.673Z"
   },
   {
    "duration": 19,
    "start_time": "2022-03-26T08:44:00.862Z"
   },
   {
    "duration": 20,
    "start_time": "2022-03-26T08:44:27.548Z"
   },
   {
    "duration": 21,
    "start_time": "2022-03-26T08:44:33.965Z"
   },
   {
    "duration": 77,
    "start_time": "2022-03-26T08:45:00.845Z"
   },
   {
    "duration": 19,
    "start_time": "2022-03-26T08:45:00.924Z"
   },
   {
    "duration": 5,
    "start_time": "2022-03-26T08:45:00.945Z"
   },
   {
    "duration": 9,
    "start_time": "2022-03-26T08:45:00.952Z"
   },
   {
    "duration": 6,
    "start_time": "2022-03-26T08:45:00.963Z"
   },
   {
    "duration": 9,
    "start_time": "2022-03-26T08:45:00.970Z"
   },
   {
    "duration": 9,
    "start_time": "2022-03-26T08:45:00.982Z"
   },
   {
    "duration": 38,
    "start_time": "2022-03-26T08:45:00.994Z"
   },
   {
    "duration": 9,
    "start_time": "2022-03-26T08:45:01.035Z"
   },
   {
    "duration": 18,
    "start_time": "2022-03-26T08:45:01.048Z"
   },
   {
    "duration": 22,
    "start_time": "2022-03-26T08:45:01.068Z"
   },
   {
    "duration": 12,
    "start_time": "2022-03-26T08:45:01.092Z"
   },
   {
    "duration": 25,
    "start_time": "2022-03-26T08:45:01.107Z"
   },
   {
    "duration": 11,
    "start_time": "2022-03-26T08:45:01.134Z"
   },
   {
    "duration": 21,
    "start_time": "2022-03-26T08:45:01.147Z"
   },
   {
    "duration": 23,
    "start_time": "2022-03-26T08:45:01.171Z"
   },
   {
    "duration": 73,
    "start_time": "2022-03-26T08:45:39.493Z"
   },
   {
    "duration": 19,
    "start_time": "2022-03-26T08:45:39.568Z"
   },
   {
    "duration": 5,
    "start_time": "2022-03-26T08:45:39.589Z"
   },
   {
    "duration": 8,
    "start_time": "2022-03-26T08:45:39.596Z"
   },
   {
    "duration": 29,
    "start_time": "2022-03-26T08:45:39.606Z"
   },
   {
    "duration": 12,
    "start_time": "2022-03-26T08:45:39.637Z"
   },
   {
    "duration": 6,
    "start_time": "2022-03-26T08:45:39.651Z"
   },
   {
    "duration": 12,
    "start_time": "2022-03-26T08:45:39.659Z"
   },
   {
    "duration": 5,
    "start_time": "2022-03-26T08:45:39.674Z"
   },
   {
    "duration": 7,
    "start_time": "2022-03-26T08:45:39.682Z"
   },
   {
    "duration": 8,
    "start_time": "2022-03-26T08:45:39.733Z"
   },
   {
    "duration": 6,
    "start_time": "2022-03-26T08:45:39.743Z"
   },
   {
    "duration": 11,
    "start_time": "2022-03-26T08:45:39.750Z"
   },
   {
    "duration": 6,
    "start_time": "2022-03-26T08:45:39.763Z"
   },
   {
    "duration": 17,
    "start_time": "2022-03-26T08:45:39.771Z"
   },
   {
    "duration": 44,
    "start_time": "2022-03-26T08:45:39.789Z"
   },
   {
    "duration": 17,
    "start_time": "2022-03-26T08:45:39.835Z"
   },
   {
    "duration": 17,
    "start_time": "2022-03-26T08:45:39.853Z"
   },
   {
    "duration": 77,
    "start_time": "2022-03-26T08:46:13.326Z"
   },
   {
    "duration": 28,
    "start_time": "2022-03-26T08:46:13.405Z"
   },
   {
    "duration": 5,
    "start_time": "2022-03-26T08:46:13.435Z"
   },
   {
    "duration": 10,
    "start_time": "2022-03-26T08:46:13.443Z"
   },
   {
    "duration": 10,
    "start_time": "2022-03-26T08:46:13.455Z"
   },
   {
    "duration": 8,
    "start_time": "2022-03-26T08:46:13.466Z"
   },
   {
    "duration": 7,
    "start_time": "2022-03-26T08:46:13.476Z"
   },
   {
    "duration": 12,
    "start_time": "2022-03-26T08:46:13.484Z"
   },
   {
    "duration": 7,
    "start_time": "2022-03-26T08:46:13.532Z"
   },
   {
    "duration": 7,
    "start_time": "2022-03-26T08:46:13.542Z"
   },
   {
    "duration": 7,
    "start_time": "2022-03-26T08:46:13.551Z"
   },
   {
    "duration": 6,
    "start_time": "2022-03-26T08:46:13.559Z"
   },
   {
    "duration": 8,
    "start_time": "2022-03-26T08:46:13.567Z"
   },
   {
    "duration": 6,
    "start_time": "2022-03-26T08:46:13.577Z"
   },
   {
    "duration": 58,
    "start_time": "2022-03-26T08:46:13.584Z"
   },
   {
    "duration": 7,
    "start_time": "2022-03-26T08:46:13.644Z"
   },
   {
    "duration": 19,
    "start_time": "2022-03-26T08:46:13.652Z"
   },
   {
    "duration": 8,
    "start_time": "2022-03-26T08:46:13.672Z"
   },
   {
    "duration": 19,
    "start_time": "2022-03-26T08:51:14.521Z"
   },
   {
    "duration": 20,
    "start_time": "2022-03-26T08:51:39.716Z"
   },
   {
    "duration": 78,
    "start_time": "2022-03-26T08:52:20.962Z"
   },
   {
    "duration": 19,
    "start_time": "2022-03-26T08:52:21.042Z"
   },
   {
    "duration": 4,
    "start_time": "2022-03-26T08:52:21.063Z"
   },
   {
    "duration": 8,
    "start_time": "2022-03-26T08:52:21.069Z"
   },
   {
    "duration": 5,
    "start_time": "2022-03-26T08:52:21.078Z"
   },
   {
    "duration": 49,
    "start_time": "2022-03-26T08:52:21.084Z"
   },
   {
    "duration": 5,
    "start_time": "2022-03-26T08:52:21.134Z"
   },
   {
    "duration": 8,
    "start_time": "2022-03-26T08:52:21.141Z"
   },
   {
    "duration": 5,
    "start_time": "2022-03-26T08:52:21.151Z"
   },
   {
    "duration": 10,
    "start_time": "2022-03-26T08:52:21.159Z"
   },
   {
    "duration": 61,
    "start_time": "2022-03-26T08:52:21.171Z"
   },
   {
    "duration": 4,
    "start_time": "2022-03-26T08:52:21.234Z"
   },
   {
    "duration": 8,
    "start_time": "2022-03-26T08:52:21.240Z"
   },
   {
    "duration": 7,
    "start_time": "2022-03-26T08:52:21.249Z"
   },
   {
    "duration": 17,
    "start_time": "2022-03-26T08:52:21.258Z"
   },
   {
    "duration": 57,
    "start_time": "2022-03-26T08:52:21.276Z"
   },
   {
    "duration": 15,
    "start_time": "2022-03-26T08:52:21.335Z"
   },
   {
    "duration": 11,
    "start_time": "2022-03-26T08:52:21.352Z"
   },
   {
    "duration": 25,
    "start_time": "2022-03-26T08:52:21.364Z"
   },
   {
    "duration": 49,
    "start_time": "2022-03-26T08:52:21.391Z"
   },
   {
    "duration": 20,
    "start_time": "2022-03-26T08:52:21.442Z"
   },
   {
    "duration": 73,
    "start_time": "2022-03-26T08:52:41.136Z"
   },
   {
    "duration": 24,
    "start_time": "2022-03-26T08:52:41.211Z"
   },
   {
    "duration": 5,
    "start_time": "2022-03-26T08:52:41.236Z"
   },
   {
    "duration": 8,
    "start_time": "2022-03-26T08:52:41.243Z"
   },
   {
    "duration": 5,
    "start_time": "2022-03-26T08:52:41.253Z"
   },
   {
    "duration": 8,
    "start_time": "2022-03-26T08:52:41.260Z"
   },
   {
    "duration": 6,
    "start_time": "2022-03-26T08:52:41.270Z"
   },
   {
    "duration": 8,
    "start_time": "2022-03-26T08:52:41.278Z"
   },
   {
    "duration": 6,
    "start_time": "2022-03-26T08:52:41.332Z"
   },
   {
    "duration": 8,
    "start_time": "2022-03-26T08:52:41.340Z"
   },
   {
    "duration": 10,
    "start_time": "2022-03-26T08:52:41.349Z"
   },
   {
    "duration": 6,
    "start_time": "2022-03-26T08:52:41.360Z"
   },
   {
    "duration": 7,
    "start_time": "2022-03-26T08:52:41.368Z"
   },
   {
    "duration": 8,
    "start_time": "2022-03-26T08:52:41.378Z"
   },
   {
    "duration": 58,
    "start_time": "2022-03-26T08:52:41.387Z"
   },
   {
    "duration": 8,
    "start_time": "2022-03-26T08:52:41.447Z"
   },
   {
    "duration": 14,
    "start_time": "2022-03-26T08:52:41.456Z"
   },
   {
    "duration": 12,
    "start_time": "2022-03-26T08:52:41.472Z"
   },
   {
    "duration": 57,
    "start_time": "2022-03-26T08:52:41.486Z"
   },
   {
    "duration": 22,
    "start_time": "2022-03-26T08:52:41.545Z"
   },
   {
    "duration": 22,
    "start_time": "2022-03-26T08:52:41.568Z"
   },
   {
    "duration": 26,
    "start_time": "2022-03-26T08:53:10.178Z"
   },
   {
    "duration": 82,
    "start_time": "2022-03-26T08:53:15.765Z"
   },
   {
    "duration": 19,
    "start_time": "2022-03-26T08:53:15.849Z"
   },
   {
    "duration": 5,
    "start_time": "2022-03-26T08:53:15.870Z"
   },
   {
    "duration": 7,
    "start_time": "2022-03-26T08:53:15.877Z"
   },
   {
    "duration": 4,
    "start_time": "2022-03-26T08:53:15.886Z"
   },
   {
    "duration": 41,
    "start_time": "2022-03-26T08:53:15.891Z"
   },
   {
    "duration": 4,
    "start_time": "2022-03-26T08:53:15.934Z"
   },
   {
    "duration": 8,
    "start_time": "2022-03-26T08:53:15.940Z"
   },
   {
    "duration": 6,
    "start_time": "2022-03-26T08:53:15.949Z"
   },
   {
    "duration": 7,
    "start_time": "2022-03-26T08:53:15.958Z"
   },
   {
    "duration": 9,
    "start_time": "2022-03-26T08:53:15.966Z"
   },
   {
    "duration": 5,
    "start_time": "2022-03-26T08:53:15.977Z"
   },
   {
    "duration": 50,
    "start_time": "2022-03-26T08:53:15.984Z"
   },
   {
    "duration": 5,
    "start_time": "2022-03-26T08:53:16.036Z"
   },
   {
    "duration": 21,
    "start_time": "2022-03-26T08:53:16.043Z"
   },
   {
    "duration": 7,
    "start_time": "2022-03-26T08:53:16.066Z"
   },
   {
    "duration": 15,
    "start_time": "2022-03-26T08:53:16.075Z"
   },
   {
    "duration": 45,
    "start_time": "2022-03-26T08:53:16.091Z"
   },
   {
    "duration": 41,
    "start_time": "2022-03-26T08:53:16.137Z"
   },
   {
    "duration": 21,
    "start_time": "2022-03-26T08:53:16.180Z"
   },
   {
    "duration": 46,
    "start_time": "2022-03-26T08:53:16.203Z"
   },
   {
    "duration": 78,
    "start_time": "2022-03-26T08:53:34.457Z"
   },
   {
    "duration": 21,
    "start_time": "2022-03-26T08:53:34.538Z"
   },
   {
    "duration": 6,
    "start_time": "2022-03-26T08:53:34.561Z"
   },
   {
    "duration": 7,
    "start_time": "2022-03-26T08:53:34.569Z"
   },
   {
    "duration": 5,
    "start_time": "2022-03-26T08:53:34.579Z"
   },
   {
    "duration": 51,
    "start_time": "2022-03-26T08:53:34.586Z"
   },
   {
    "duration": 5,
    "start_time": "2022-03-26T08:53:34.639Z"
   },
   {
    "duration": 9,
    "start_time": "2022-03-26T08:53:34.646Z"
   },
   {
    "duration": 6,
    "start_time": "2022-03-26T08:53:34.657Z"
   },
   {
    "duration": 10,
    "start_time": "2022-03-26T08:53:34.665Z"
   },
   {
    "duration": 8,
    "start_time": "2022-03-26T08:53:34.677Z"
   },
   {
    "duration": 4,
    "start_time": "2022-03-26T08:53:34.731Z"
   },
   {
    "duration": 10,
    "start_time": "2022-03-26T08:53:34.737Z"
   },
   {
    "duration": 7,
    "start_time": "2022-03-26T08:53:34.749Z"
   },
   {
    "duration": 25,
    "start_time": "2022-03-26T08:53:34.759Z"
   },
   {
    "duration": 22,
    "start_time": "2022-03-26T08:53:34.786Z"
   },
   {
    "duration": 38,
    "start_time": "2022-03-26T08:53:34.809Z"
   },
   {
    "duration": 27,
    "start_time": "2022-03-26T08:53:34.849Z"
   },
   {
    "duration": 44,
    "start_time": "2022-03-26T08:53:34.877Z"
   },
   {
    "duration": 20,
    "start_time": "2022-03-26T08:53:34.923Z"
   },
   {
    "duration": 18,
    "start_time": "2022-03-26T08:53:34.945Z"
   },
   {
    "duration": 6,
    "start_time": "2022-03-26T08:58:58.246Z"
   },
   {
    "duration": 6,
    "start_time": "2022-03-26T08:59:00.648Z"
   },
   {
    "duration": 191,
    "start_time": "2022-03-26T09:02:37.896Z"
   },
   {
    "duration": 18,
    "start_time": "2022-03-26T09:03:16.457Z"
   },
   {
    "duration": 10,
    "start_time": "2022-03-26T09:05:15.615Z"
   },
   {
    "duration": 19,
    "start_time": "2022-03-26T09:05:21.791Z"
   },
   {
    "duration": 14,
    "start_time": "2022-03-26T09:05:38.513Z"
   },
   {
    "duration": 4,
    "start_time": "2022-03-26T09:05:41.097Z"
   },
   {
    "duration": 14,
    "start_time": "2022-03-26T09:05:49.592Z"
   },
   {
    "duration": 13,
    "start_time": "2022-03-26T09:08:23.527Z"
   },
   {
    "duration": 14,
    "start_time": "2022-03-26T09:09:02.510Z"
   },
   {
    "duration": 17,
    "start_time": "2022-03-26T09:09:04.633Z"
   },
   {
    "duration": 16,
    "start_time": "2022-03-26T09:09:31.135Z"
   },
   {
    "duration": 4,
    "start_time": "2022-03-26T09:10:30.727Z"
   },
   {
    "duration": 4,
    "start_time": "2022-03-26T09:10:39.574Z"
   },
   {
    "duration": 14,
    "start_time": "2022-03-26T09:10:46.356Z"
   },
   {
    "duration": 13,
    "start_time": "2022-03-26T09:11:51.983Z"
   },
   {
    "duration": 6,
    "start_time": "2022-03-26T09:12:28.273Z"
   },
   {
    "duration": 6,
    "start_time": "2022-03-26T09:12:30.282Z"
   },
   {
    "duration": 8,
    "start_time": "2022-03-26T09:12:32.339Z"
   },
   {
    "duration": 5,
    "start_time": "2022-03-26T09:12:40.052Z"
   },
   {
    "duration": 15,
    "start_time": "2022-03-26T09:12:42.700Z"
   },
   {
    "duration": 11,
    "start_time": "2022-03-26T09:13:30.415Z"
   },
   {
    "duration": 14,
    "start_time": "2022-03-26T09:13:49.284Z"
   },
   {
    "duration": 14,
    "start_time": "2022-03-26T09:14:01.711Z"
   },
   {
    "duration": 14,
    "start_time": "2022-03-26T09:15:19.162Z"
   },
   {
    "duration": 13,
    "start_time": "2022-03-26T09:15:54.230Z"
   },
   {
    "duration": 4,
    "start_time": "2022-03-26T09:15:57.855Z"
   },
   {
    "duration": 4,
    "start_time": "2022-03-26T09:16:05.244Z"
   },
   {
    "duration": 4,
    "start_time": "2022-03-26T09:16:08.273Z"
   },
   {
    "duration": 5,
    "start_time": "2022-03-26T09:16:17.123Z"
   },
   {
    "duration": 16,
    "start_time": "2022-03-26T09:16:25.732Z"
   },
   {
    "duration": 22,
    "start_time": "2022-03-26T09:16:38.784Z"
   },
   {
    "duration": 15,
    "start_time": "2022-03-26T09:17:29.760Z"
   },
   {
    "duration": 14,
    "start_time": "2022-03-26T09:17:36.554Z"
   },
   {
    "duration": 4,
    "start_time": "2022-03-26T09:19:32.064Z"
   },
   {
    "duration": 4,
    "start_time": "2022-03-26T09:19:40.412Z"
   },
   {
    "duration": 5,
    "start_time": "2022-03-26T09:19:54.006Z"
   },
   {
    "duration": 6,
    "start_time": "2022-03-26T09:19:59.979Z"
   },
   {
    "duration": 9,
    "start_time": "2022-03-26T09:20:03.980Z"
   },
   {
    "duration": 8,
    "start_time": "2022-03-26T09:20:08.998Z"
   },
   {
    "duration": 11,
    "start_time": "2022-03-26T09:21:15.084Z"
   },
   {
    "duration": 11,
    "start_time": "2022-03-26T09:21:28.879Z"
   },
   {
    "duration": 10,
    "start_time": "2022-03-26T09:21:37.164Z"
   },
   {
    "duration": 12,
    "start_time": "2022-03-26T09:22:58.277Z"
   },
   {
    "duration": 9,
    "start_time": "2022-03-26T09:23:24.472Z"
   },
   {
    "duration": 10,
    "start_time": "2022-03-26T09:25:19.178Z"
   },
   {
    "duration": 10,
    "start_time": "2022-03-26T09:25:21.522Z"
   },
   {
    "duration": 11,
    "start_time": "2022-03-26T09:25:40.329Z"
   },
   {
    "duration": 11,
    "start_time": "2022-03-26T09:25:47.546Z"
   },
   {
    "duration": 12,
    "start_time": "2022-03-26T09:26:04.549Z"
   },
   {
    "duration": 11,
    "start_time": "2022-03-26T09:26:29.929Z"
   },
   {
    "duration": 10,
    "start_time": "2022-03-26T09:26:32.858Z"
   },
   {
    "duration": 3,
    "start_time": "2022-03-26T09:29:07.330Z"
   },
   {
    "duration": 4,
    "start_time": "2022-03-26T09:29:39.061Z"
   },
   {
    "duration": 4,
    "start_time": "2022-03-26T09:29:41.228Z"
   },
   {
    "duration": 6,
    "start_time": "2022-03-26T09:34:46.860Z"
   },
   {
    "duration": 4,
    "start_time": "2022-03-26T09:37:24.752Z"
   },
   {
    "duration": 10,
    "start_time": "2022-03-26T09:38:39.242Z"
   },
   {
    "duration": 10,
    "start_time": "2022-03-26T09:39:03.324Z"
   },
   {
    "duration": 7,
    "start_time": "2022-03-26T09:39:22.951Z"
   },
   {
    "duration": 4,
    "start_time": "2022-03-26T09:40:16.311Z"
   },
   {
    "duration": 19,
    "start_time": "2022-03-26T09:41:30.217Z"
   },
   {
    "duration": 3,
    "start_time": "2022-03-26T09:44:52.155Z"
   },
   {
    "duration": 3,
    "start_time": "2022-03-26T09:44:55.500Z"
   },
   {
    "duration": 3,
    "start_time": "2022-03-26T09:44:58.733Z"
   },
   {
    "duration": 0,
    "start_time": "2022-03-26T09:45:13.636Z"
   },
   {
    "duration": 18,
    "start_time": "2022-03-26T09:46:25.181Z"
   },
   {
    "duration": 23,
    "start_time": "2022-03-26T09:46:28.960Z"
   },
   {
    "duration": 76,
    "start_time": "2022-03-26T09:48:57.185Z"
   },
   {
    "duration": 21,
    "start_time": "2022-03-26T09:48:57.263Z"
   },
   {
    "duration": 4,
    "start_time": "2022-03-26T09:48:57.286Z"
   },
   {
    "duration": 8,
    "start_time": "2022-03-26T09:48:57.293Z"
   },
   {
    "duration": 5,
    "start_time": "2022-03-26T09:48:57.332Z"
   },
   {
    "duration": 18,
    "start_time": "2022-03-26T09:48:57.339Z"
   },
   {
    "duration": 11,
    "start_time": "2022-03-26T09:48:57.359Z"
   },
   {
    "duration": 7,
    "start_time": "2022-03-26T09:48:57.372Z"
   },
   {
    "duration": 5,
    "start_time": "2022-03-26T09:48:57.381Z"
   },
   {
    "duration": 6,
    "start_time": "2022-03-26T09:48:57.389Z"
   },
   {
    "duration": 37,
    "start_time": "2022-03-26T09:48:57.397Z"
   },
   {
    "duration": 4,
    "start_time": "2022-03-26T09:48:57.436Z"
   },
   {
    "duration": 8,
    "start_time": "2022-03-26T09:48:57.442Z"
   },
   {
    "duration": 15,
    "start_time": "2022-03-26T09:48:57.451Z"
   },
   {
    "duration": 18,
    "start_time": "2022-03-26T09:48:57.468Z"
   },
   {
    "duration": 8,
    "start_time": "2022-03-26T09:48:57.488Z"
   },
   {
    "duration": 10,
    "start_time": "2022-03-26T09:48:57.533Z"
   },
   {
    "duration": 12,
    "start_time": "2022-03-26T09:48:57.545Z"
   },
   {
    "duration": 23,
    "start_time": "2022-03-26T09:48:57.558Z"
   },
   {
    "duration": 54,
    "start_time": "2022-03-26T09:48:57.583Z"
   },
   {
    "duration": 19,
    "start_time": "2022-03-26T09:48:57.639Z"
   },
   {
    "duration": 5,
    "start_time": "2022-03-26T09:48:57.660Z"
   },
   {
    "duration": 7,
    "start_time": "2022-03-26T09:48:57.667Z"
   },
   {
    "duration": 6,
    "start_time": "2022-03-26T09:48:57.676Z"
   },
   {
    "duration": 12,
    "start_time": "2022-03-26T09:48:57.684Z"
   },
   {
    "duration": 0,
    "start_time": "2022-03-26T09:48:57.732Z"
   },
   {
    "duration": 0,
    "start_time": "2022-03-26T09:48:57.734Z"
   },
   {
    "duration": 0,
    "start_time": "2022-03-26T09:48:57.735Z"
   },
   {
    "duration": 0,
    "start_time": "2022-03-26T09:48:57.736Z"
   },
   {
    "duration": 0,
    "start_time": "2022-03-26T09:48:57.737Z"
   },
   {
    "duration": 0,
    "start_time": "2022-03-26T09:48:57.738Z"
   },
   {
    "duration": 0,
    "start_time": "2022-03-26T09:48:57.739Z"
   },
   {
    "duration": 0,
    "start_time": "2022-03-26T09:48:57.740Z"
   },
   {
    "duration": 0,
    "start_time": "2022-03-26T09:48:57.741Z"
   },
   {
    "duration": 76,
    "start_time": "2022-03-26T09:49:04.707Z"
   },
   {
    "duration": 18,
    "start_time": "2022-03-26T09:49:04.786Z"
   },
   {
    "duration": 5,
    "start_time": "2022-03-26T09:49:04.806Z"
   },
   {
    "duration": 7,
    "start_time": "2022-03-26T09:49:04.833Z"
   },
   {
    "duration": 7,
    "start_time": "2022-03-26T09:49:04.841Z"
   },
   {
    "duration": 7,
    "start_time": "2022-03-26T09:49:04.850Z"
   },
   {
    "duration": 6,
    "start_time": "2022-03-26T09:49:04.859Z"
   },
   {
    "duration": 9,
    "start_time": "2022-03-26T09:49:04.866Z"
   },
   {
    "duration": 55,
    "start_time": "2022-03-26T09:49:04.877Z"
   },
   {
    "duration": 6,
    "start_time": "2022-03-26T09:49:04.935Z"
   },
   {
    "duration": 9,
    "start_time": "2022-03-26T09:49:04.943Z"
   },
   {
    "duration": 6,
    "start_time": "2022-03-26T09:49:04.954Z"
   },
   {
    "duration": 9,
    "start_time": "2022-03-26T09:49:04.962Z"
   },
   {
    "duration": 8,
    "start_time": "2022-03-26T09:49:04.973Z"
   },
   {
    "duration": 21,
    "start_time": "2022-03-26T09:49:05.032Z"
   },
   {
    "duration": 9,
    "start_time": "2022-03-26T09:49:05.055Z"
   },
   {
    "duration": 18,
    "start_time": "2022-03-26T09:49:05.067Z"
   },
   {
    "duration": 46,
    "start_time": "2022-03-26T09:49:05.087Z"
   },
   {
    "duration": 24,
    "start_time": "2022-03-26T09:49:05.135Z"
   },
   {
    "duration": 22,
    "start_time": "2022-03-26T09:49:05.161Z"
   },
   {
    "duration": 48,
    "start_time": "2022-03-26T09:49:05.184Z"
   },
   {
    "duration": 7,
    "start_time": "2022-03-26T09:49:05.234Z"
   },
   {
    "duration": 9,
    "start_time": "2022-03-26T09:49:05.244Z"
   },
   {
    "duration": 4,
    "start_time": "2022-03-26T09:49:05.255Z"
   },
   {
    "duration": 17,
    "start_time": "2022-03-26T09:49:05.261Z"
   },
   {
    "duration": 0,
    "start_time": "2022-03-26T09:49:05.281Z"
   },
   {
    "duration": 0,
    "start_time": "2022-03-26T09:49:05.283Z"
   },
   {
    "duration": 0,
    "start_time": "2022-03-26T09:49:05.285Z"
   },
   {
    "duration": 0,
    "start_time": "2022-03-26T09:49:05.332Z"
   },
   {
    "duration": 0,
    "start_time": "2022-03-26T09:49:05.333Z"
   },
   {
    "duration": 0,
    "start_time": "2022-03-26T09:49:05.335Z"
   },
   {
    "duration": 0,
    "start_time": "2022-03-26T09:49:05.336Z"
   },
   {
    "duration": 0,
    "start_time": "2022-03-26T09:49:05.337Z"
   },
   {
    "duration": 0,
    "start_time": "2022-03-26T09:49:05.338Z"
   },
   {
    "duration": 76,
    "start_time": "2022-03-26T09:49:26.521Z"
   },
   {
    "duration": 36,
    "start_time": "2022-03-26T09:49:26.599Z"
   },
   {
    "duration": 4,
    "start_time": "2022-03-26T09:49:26.637Z"
   },
   {
    "duration": 17,
    "start_time": "2022-03-26T09:49:26.643Z"
   },
   {
    "duration": 4,
    "start_time": "2022-03-26T09:49:26.664Z"
   },
   {
    "duration": 8,
    "start_time": "2022-03-26T09:49:26.670Z"
   },
   {
    "duration": 8,
    "start_time": "2022-03-26T09:49:26.680Z"
   },
   {
    "duration": 7,
    "start_time": "2022-03-26T09:49:26.689Z"
   },
   {
    "duration": 38,
    "start_time": "2022-03-26T09:49:26.698Z"
   },
   {
    "duration": 7,
    "start_time": "2022-03-26T09:49:26.738Z"
   },
   {
    "duration": 7,
    "start_time": "2022-03-26T09:49:26.747Z"
   },
   {
    "duration": 5,
    "start_time": "2022-03-26T09:49:26.756Z"
   },
   {
    "duration": 11,
    "start_time": "2022-03-26T09:49:26.762Z"
   },
   {
    "duration": 5,
    "start_time": "2022-03-26T09:49:26.777Z"
   },
   {
    "duration": 19,
    "start_time": "2022-03-26T09:49:26.832Z"
   },
   {
    "duration": 8,
    "start_time": "2022-03-26T09:49:26.854Z"
   },
   {
    "duration": 15,
    "start_time": "2022-03-26T09:49:26.864Z"
   },
   {
    "duration": 51,
    "start_time": "2022-03-26T09:49:26.881Z"
   },
   {
    "duration": 21,
    "start_time": "2022-03-26T09:49:26.934Z"
   },
   {
    "duration": 20,
    "start_time": "2022-03-26T09:49:26.957Z"
   },
   {
    "duration": 19,
    "start_time": "2022-03-26T09:49:26.979Z"
   },
   {
    "duration": 6,
    "start_time": "2022-03-26T09:49:27.031Z"
   },
   {
    "duration": 9,
    "start_time": "2022-03-26T09:49:27.039Z"
   },
   {
    "duration": 4,
    "start_time": "2022-03-26T09:49:27.049Z"
   },
   {
    "duration": 13,
    "start_time": "2022-03-26T09:49:27.054Z"
   },
   {
    "duration": 12,
    "start_time": "2022-03-26T09:49:27.069Z"
   },
   {
    "duration": 50,
    "start_time": "2022-03-26T09:49:27.083Z"
   },
   {
    "duration": 9,
    "start_time": "2022-03-26T09:49:27.135Z"
   },
   {
    "duration": 56,
    "start_time": "2022-03-26T09:49:27.145Z"
   },
   {
    "duration": 10,
    "start_time": "2022-03-26T09:49:27.203Z"
   },
   {
    "duration": 18,
    "start_time": "2022-03-26T09:49:27.215Z"
   },
   {
    "duration": 7,
    "start_time": "2022-03-26T09:49:27.236Z"
   },
   {
    "duration": 13,
    "start_time": "2022-03-26T09:49:27.245Z"
   },
   {
    "duration": 13,
    "start_time": "2022-03-26T09:49:27.260Z"
   },
   {
    "duration": 11,
    "start_time": "2022-03-26T09:50:54.991Z"
   },
   {
    "duration": 10,
    "start_time": "2022-03-26T09:50:57.147Z"
   },
   {
    "duration": 18,
    "start_time": "2022-03-26T09:53:13.294Z"
   },
   {
    "duration": 695,
    "start_time": "2022-03-26T09:54:22.929Z"
   },
   {
    "duration": 85,
    "start_time": "2022-03-26T09:54:27.356Z"
   },
   {
    "duration": 18,
    "start_time": "2022-03-26T09:54:27.443Z"
   },
   {
    "duration": 4,
    "start_time": "2022-03-26T09:54:27.463Z"
   },
   {
    "duration": 7,
    "start_time": "2022-03-26T09:54:27.469Z"
   },
   {
    "duration": 4,
    "start_time": "2022-03-26T09:54:27.478Z"
   },
   {
    "duration": 7,
    "start_time": "2022-03-26T09:54:27.484Z"
   },
   {
    "duration": 41,
    "start_time": "2022-03-26T09:54:27.492Z"
   },
   {
    "duration": 6,
    "start_time": "2022-03-26T09:54:27.535Z"
   },
   {
    "duration": 5,
    "start_time": "2022-03-26T09:54:27.543Z"
   },
   {
    "duration": 7,
    "start_time": "2022-03-26T09:54:27.550Z"
   },
   {
    "duration": 6,
    "start_time": "2022-03-26T09:54:27.559Z"
   },
   {
    "duration": 5,
    "start_time": "2022-03-26T09:54:27.567Z"
   },
   {
    "duration": 58,
    "start_time": "2022-03-26T09:54:27.575Z"
   },
   {
    "duration": 7,
    "start_time": "2022-03-26T09:54:27.635Z"
   },
   {
    "duration": 18,
    "start_time": "2022-03-26T09:54:27.644Z"
   },
   {
    "duration": 8,
    "start_time": "2022-03-26T09:54:27.664Z"
   },
   {
    "duration": 13,
    "start_time": "2022-03-26T09:54:27.674Z"
   },
   {
    "duration": 47,
    "start_time": "2022-03-26T09:54:27.690Z"
   },
   {
    "duration": 22,
    "start_time": "2022-03-26T09:54:27.739Z"
   },
   {
    "duration": 22,
    "start_time": "2022-03-26T09:54:27.763Z"
   },
   {
    "duration": 46,
    "start_time": "2022-03-26T09:54:27.787Z"
   },
   {
    "duration": 6,
    "start_time": "2022-03-26T09:54:27.835Z"
   },
   {
    "duration": 7,
    "start_time": "2022-03-26T09:54:27.843Z"
   },
   {
    "duration": 3,
    "start_time": "2022-03-26T09:54:27.851Z"
   },
   {
    "duration": 14,
    "start_time": "2022-03-26T09:54:27.856Z"
   },
   {
    "duration": 12,
    "start_time": "2022-03-26T09:54:27.872Z"
   },
   {
    "duration": 0,
    "start_time": "2022-03-26T09:54:27.886Z"
   },
   {
    "duration": 0,
    "start_time": "2022-03-26T09:54:27.931Z"
   },
   {
    "duration": 0,
    "start_time": "2022-03-26T09:54:27.933Z"
   },
   {
    "duration": 0,
    "start_time": "2022-03-26T09:54:27.934Z"
   },
   {
    "duration": 0,
    "start_time": "2022-03-26T09:54:27.935Z"
   },
   {
    "duration": 0,
    "start_time": "2022-03-26T09:54:27.936Z"
   },
   {
    "duration": 0,
    "start_time": "2022-03-26T09:54:27.937Z"
   },
   {
    "duration": 0,
    "start_time": "2022-03-26T09:54:27.939Z"
   },
   {
    "duration": 0,
    "start_time": "2022-03-26T09:54:27.940Z"
   },
   {
    "duration": 0,
    "start_time": "2022-03-26T09:54:27.941Z"
   },
   {
    "duration": 0,
    "start_time": "2022-03-26T09:54:27.942Z"
   },
   {
    "duration": 79,
    "start_time": "2022-03-26T09:54:55.165Z"
   },
   {
    "duration": 19,
    "start_time": "2022-03-26T09:54:55.246Z"
   },
   {
    "duration": 5,
    "start_time": "2022-03-26T09:54:55.267Z"
   },
   {
    "duration": 11,
    "start_time": "2022-03-26T09:54:55.273Z"
   },
   {
    "duration": 10,
    "start_time": "2022-03-26T09:54:55.286Z"
   },
   {
    "duration": 34,
    "start_time": "2022-03-26T09:54:55.298Z"
   },
   {
    "duration": 6,
    "start_time": "2022-03-26T09:54:55.333Z"
   },
   {
    "duration": 15,
    "start_time": "2022-03-26T09:54:55.340Z"
   },
   {
    "duration": 8,
    "start_time": "2022-03-26T09:54:55.357Z"
   },
   {
    "duration": 11,
    "start_time": "2022-03-26T09:54:55.366Z"
   },
   {
    "duration": 8,
    "start_time": "2022-03-26T09:54:55.378Z"
   },
   {
    "duration": 6,
    "start_time": "2022-03-26T09:54:55.388Z"
   },
   {
    "duration": 48,
    "start_time": "2022-03-26T09:54:55.396Z"
   },
   {
    "duration": 6,
    "start_time": "2022-03-26T09:54:55.449Z"
   },
   {
    "duration": 24,
    "start_time": "2022-03-26T09:54:55.458Z"
   },
   {
    "duration": 8,
    "start_time": "2022-03-26T09:54:55.485Z"
   },
   {
    "duration": 13,
    "start_time": "2022-03-26T09:54:55.495Z"
   },
   {
    "duration": 42,
    "start_time": "2022-03-26T09:54:55.510Z"
   },
   {
    "duration": 24,
    "start_time": "2022-03-26T09:54:55.553Z"
   },
   {
    "duration": 20,
    "start_time": "2022-03-26T09:54:55.578Z"
   },
   {
    "duration": 45,
    "start_time": "2022-03-26T09:54:55.600Z"
   },
   {
    "duration": 7,
    "start_time": "2022-03-26T09:54:55.647Z"
   },
   {
    "duration": 8,
    "start_time": "2022-03-26T09:54:55.655Z"
   },
   {
    "duration": 9,
    "start_time": "2022-03-26T09:54:55.665Z"
   },
   {
    "duration": 13,
    "start_time": "2022-03-26T09:54:55.675Z"
   },
   {
    "duration": 13,
    "start_time": "2022-03-26T09:54:55.690Z"
   },
   {
    "duration": 9,
    "start_time": "2022-03-26T09:54:55.732Z"
   },
   {
    "duration": 9,
    "start_time": "2022-03-26T09:54:55.744Z"
   },
   {
    "duration": 7,
    "start_time": "2022-03-26T09:54:55.754Z"
   },
   {
    "duration": 933,
    "start_time": "2022-03-26T09:54:55.763Z"
   },
   {
    "duration": 0,
    "start_time": "2022-03-26T09:54:56.698Z"
   },
   {
    "duration": 0,
    "start_time": "2022-03-26T09:54:56.699Z"
   },
   {
    "duration": 0,
    "start_time": "2022-03-26T09:54:56.701Z"
   },
   {
    "duration": 0,
    "start_time": "2022-03-26T09:54:56.702Z"
   },
   {
    "duration": 0,
    "start_time": "2022-03-26T09:54:56.703Z"
   },
   {
    "duration": 0,
    "start_time": "2022-03-26T09:54:56.704Z"
   },
   {
    "duration": 700,
    "start_time": "2022-03-26T09:55:45.411Z"
   },
   {
    "duration": 9,
    "start_time": "2022-03-26T09:56:04.405Z"
   },
   {
    "duration": 81,
    "start_time": "2022-03-26T09:56:10.635Z"
   },
   {
    "duration": 32,
    "start_time": "2022-03-26T09:56:10.718Z"
   },
   {
    "duration": 6,
    "start_time": "2022-03-26T09:56:10.752Z"
   },
   {
    "duration": 13,
    "start_time": "2022-03-26T09:56:10.760Z"
   },
   {
    "duration": 15,
    "start_time": "2022-03-26T09:56:10.775Z"
   },
   {
    "duration": 39,
    "start_time": "2022-03-26T09:56:10.793Z"
   },
   {
    "duration": 5,
    "start_time": "2022-03-26T09:56:10.834Z"
   },
   {
    "duration": 13,
    "start_time": "2022-03-26T09:56:10.840Z"
   },
   {
    "duration": 12,
    "start_time": "2022-03-26T09:56:10.855Z"
   },
   {
    "duration": 10,
    "start_time": "2022-03-26T09:56:10.871Z"
   },
   {
    "duration": 17,
    "start_time": "2022-03-26T09:56:10.883Z"
   },
   {
    "duration": 30,
    "start_time": "2022-03-26T09:56:10.902Z"
   },
   {
    "duration": 5,
    "start_time": "2022-03-26T09:56:10.934Z"
   },
   {
    "duration": 10,
    "start_time": "2022-03-26T09:56:10.941Z"
   },
   {
    "duration": 21,
    "start_time": "2022-03-26T09:56:10.953Z"
   },
   {
    "duration": 7,
    "start_time": "2022-03-26T09:56:10.976Z"
   },
   {
    "duration": 55,
    "start_time": "2022-03-26T09:56:10.985Z"
   },
   {
    "duration": 10,
    "start_time": "2022-03-26T09:56:11.042Z"
   },
   {
    "duration": 33,
    "start_time": "2022-03-26T09:56:11.053Z"
   },
   {
    "duration": 57,
    "start_time": "2022-03-26T09:56:11.088Z"
   },
   {
    "duration": 24,
    "start_time": "2022-03-26T09:56:11.147Z"
   },
   {
    "duration": 5,
    "start_time": "2022-03-26T09:56:11.173Z"
   },
   {
    "duration": 15,
    "start_time": "2022-03-26T09:56:11.180Z"
   },
   {
    "duration": 6,
    "start_time": "2022-03-26T09:56:11.197Z"
   },
   {
    "duration": 20,
    "start_time": "2022-03-26T09:56:11.231Z"
   },
   {
    "duration": 14,
    "start_time": "2022-03-26T09:56:11.252Z"
   },
   {
    "duration": 9,
    "start_time": "2022-03-26T09:56:11.267Z"
   },
   {
    "duration": 7,
    "start_time": "2022-03-26T09:56:11.279Z"
   },
   {
    "duration": 6,
    "start_time": "2022-03-26T09:56:11.287Z"
   },
   {
    "duration": 12,
    "start_time": "2022-03-26T09:56:11.294Z"
   },
   {
    "duration": 8,
    "start_time": "2022-03-26T09:56:11.331Z"
   },
   {
    "duration": 4,
    "start_time": "2022-03-26T09:56:11.340Z"
   },
   {
    "duration": 6,
    "start_time": "2022-03-26T09:56:11.346Z"
   },
   {
    "duration": 11,
    "start_time": "2022-03-26T09:56:11.353Z"
   },
   {
    "duration": 6,
    "start_time": "2022-03-26T09:56:11.366Z"
   },
   {
    "duration": 81,
    "start_time": "2022-03-26T09:56:11.374Z"
   },
   {
    "duration": 60,
    "start_time": "2022-03-26T09:56:32.332Z"
   },
   {
    "duration": 42,
    "start_time": "2022-03-26T09:58:07.605Z"
   },
   {
    "duration": 57,
    "start_time": "2022-03-26T09:58:29.361Z"
   },
   {
    "duration": 19,
    "start_time": "2022-03-26T10:01:04.147Z"
   },
   {
    "duration": 4,
    "start_time": "2022-03-26T10:01:09.803Z"
   },
   {
    "duration": 3,
    "start_time": "2022-03-26T10:01:44.962Z"
   },
   {
    "duration": 3,
    "start_time": "2022-03-26T10:01:54.097Z"
   },
   {
    "duration": 9,
    "start_time": "2022-03-26T10:04:16.082Z"
   },
   {
    "duration": 11,
    "start_time": "2022-03-26T10:04:54.543Z"
   },
   {
    "duration": 12,
    "start_time": "2022-03-26T10:08:15.304Z"
   },
   {
    "duration": 13,
    "start_time": "2022-03-26T10:08:29.083Z"
   },
   {
    "duration": 81,
    "start_time": "2022-03-26T10:08:48.438Z"
   },
   {
    "duration": 21,
    "start_time": "2022-03-26T10:08:48.532Z"
   },
   {
    "duration": 10,
    "start_time": "2022-03-26T10:08:48.555Z"
   },
   {
    "duration": 11,
    "start_time": "2022-03-26T10:08:48.568Z"
   },
   {
    "duration": 58,
    "start_time": "2022-03-26T10:08:48.581Z"
   },
   {
    "duration": 6,
    "start_time": "2022-03-26T10:08:48.641Z"
   },
   {
    "duration": 10,
    "start_time": "2022-03-26T10:08:48.649Z"
   },
   {
    "duration": 8,
    "start_time": "2022-03-26T10:08:48.661Z"
   },
   {
    "duration": 5,
    "start_time": "2022-03-26T10:08:48.671Z"
   },
   {
    "duration": 52,
    "start_time": "2022-03-26T10:08:48.680Z"
   },
   {
    "duration": 7,
    "start_time": "2022-03-26T10:08:48.734Z"
   },
   {
    "duration": 7,
    "start_time": "2022-03-26T10:08:48.743Z"
   },
   {
    "duration": 10,
    "start_time": "2022-03-26T10:08:48.752Z"
   },
   {
    "duration": 8,
    "start_time": "2022-03-26T10:08:48.764Z"
   },
   {
    "duration": 5,
    "start_time": "2022-03-26T10:08:48.775Z"
   },
   {
    "duration": 66,
    "start_time": "2022-03-26T10:08:48.782Z"
   },
   {
    "duration": 9,
    "start_time": "2022-03-26T10:08:48.850Z"
   },
   {
    "duration": 13,
    "start_time": "2022-03-26T10:08:48.860Z"
   },
   {
    "duration": 11,
    "start_time": "2022-03-26T10:08:48.875Z"
   },
   {
    "duration": 59,
    "start_time": "2022-03-26T10:08:48.888Z"
   },
   {
    "duration": 27,
    "start_time": "2022-03-26T10:08:48.948Z"
   },
   {
    "duration": 20,
    "start_time": "2022-03-26T10:08:48.977Z"
   },
   {
    "duration": 6,
    "start_time": "2022-03-26T10:08:48.998Z"
   },
   {
    "duration": 35,
    "start_time": "2022-03-26T10:08:49.005Z"
   },
   {
    "duration": 3,
    "start_time": "2022-03-26T10:08:49.042Z"
   },
   {
    "duration": 14,
    "start_time": "2022-03-26T10:08:49.047Z"
   },
   {
    "duration": 21,
    "start_time": "2022-03-26T10:08:49.063Z"
   },
   {
    "duration": 4,
    "start_time": "2022-03-26T10:08:49.087Z"
   },
   {
    "duration": 6,
    "start_time": "2022-03-26T10:08:49.093Z"
   },
   {
    "duration": 32,
    "start_time": "2022-03-26T10:08:49.101Z"
   },
   {
    "duration": 13,
    "start_time": "2022-03-26T10:08:49.134Z"
   },
   {
    "duration": 11,
    "start_time": "2022-03-26T10:08:49.148Z"
   },
   {
    "duration": 7,
    "start_time": "2022-03-26T10:08:49.161Z"
   },
   {
    "duration": 9,
    "start_time": "2022-03-26T10:08:49.170Z"
   },
   {
    "duration": 13,
    "start_time": "2022-03-26T10:08:49.181Z"
   },
   {
    "duration": 37,
    "start_time": "2022-03-26T10:08:49.196Z"
   },
   {
    "duration": 72,
    "start_time": "2022-03-26T10:08:49.235Z"
   },
   {
    "duration": 14,
    "start_time": "2022-03-26T10:12:39.087Z"
   },
   {
    "duration": 19,
    "start_time": "2022-03-26T10:14:48.345Z"
   },
   {
    "duration": 86,
    "start_time": "2022-03-26T10:15:13.299Z"
   },
   {
    "duration": 18,
    "start_time": "2022-03-26T10:15:13.387Z"
   },
   {
    "duration": 9,
    "start_time": "2022-03-26T10:15:13.431Z"
   },
   {
    "duration": 9,
    "start_time": "2022-03-26T10:15:13.442Z"
   },
   {
    "duration": 10,
    "start_time": "2022-03-26T10:15:13.453Z"
   },
   {
    "duration": 6,
    "start_time": "2022-03-26T10:15:13.465Z"
   },
   {
    "duration": 6,
    "start_time": "2022-03-26T10:15:13.473Z"
   },
   {
    "duration": 56,
    "start_time": "2022-03-26T10:15:13.481Z"
   },
   {
    "duration": 6,
    "start_time": "2022-03-26T10:15:13.539Z"
   },
   {
    "duration": 14,
    "start_time": "2022-03-26T10:15:13.548Z"
   },
   {
    "duration": 4,
    "start_time": "2022-03-26T10:15:13.564Z"
   },
   {
    "duration": 10,
    "start_time": "2022-03-26T10:15:13.570Z"
   },
   {
    "duration": 53,
    "start_time": "2022-03-26T10:15:13.581Z"
   },
   {
    "duration": 7,
    "start_time": "2022-03-26T10:15:13.636Z"
   },
   {
    "duration": 4,
    "start_time": "2022-03-26T10:15:13.645Z"
   },
   {
    "duration": 18,
    "start_time": "2022-03-26T10:15:13.651Z"
   },
   {
    "duration": 7,
    "start_time": "2022-03-26T10:15:13.670Z"
   },
   {
    "duration": 15,
    "start_time": "2022-03-26T10:15:13.679Z"
   },
   {
    "duration": 9,
    "start_time": "2022-03-26T10:15:13.731Z"
   },
   {
    "duration": 21,
    "start_time": "2022-03-26T10:15:13.741Z"
   },
   {
    "duration": 21,
    "start_time": "2022-03-26T10:15:13.764Z"
   },
   {
    "duration": 51,
    "start_time": "2022-03-26T10:15:13.787Z"
   },
   {
    "duration": 5,
    "start_time": "2022-03-26T10:15:13.840Z"
   },
   {
    "duration": 8,
    "start_time": "2022-03-26T10:15:13.847Z"
   },
   {
    "duration": 10,
    "start_time": "2022-03-26T10:15:13.857Z"
   },
   {
    "duration": 13,
    "start_time": "2022-03-26T10:15:13.869Z"
   },
   {
    "duration": 12,
    "start_time": "2022-03-26T10:15:13.884Z"
   },
   {
    "duration": 4,
    "start_time": "2022-03-26T10:15:13.900Z"
   },
   {
    "duration": 4,
    "start_time": "2022-03-26T10:15:13.932Z"
   },
   {
    "duration": 6,
    "start_time": "2022-03-26T10:15:13.938Z"
   },
   {
    "duration": 12,
    "start_time": "2022-03-26T10:15:13.946Z"
   },
   {
    "duration": 32,
    "start_time": "2022-03-26T10:15:13.959Z"
   },
   {
    "duration": 6,
    "start_time": "2022-03-26T10:15:13.993Z"
   },
   {
    "duration": 30,
    "start_time": "2022-03-26T10:15:14.001Z"
   },
   {
    "duration": 11,
    "start_time": "2022-03-26T10:15:14.033Z"
   },
   {
    "duration": 10,
    "start_time": "2022-03-26T10:15:14.046Z"
   },
   {
    "duration": 83,
    "start_time": "2022-03-26T10:15:14.059Z"
   },
   {
    "duration": 13,
    "start_time": "2022-03-26T10:15:35.051Z"
   },
   {
    "duration": 107,
    "start_time": "2022-03-26T10:15:45.799Z"
   },
   {
    "duration": 11,
    "start_time": "2022-03-26T10:16:58.480Z"
   },
   {
    "duration": 16,
    "start_time": "2022-03-26T10:17:02.237Z"
   },
   {
    "duration": 38,
    "start_time": "2022-03-26T10:17:20.288Z"
   },
   {
    "duration": 40,
    "start_time": "2022-03-26T10:19:22.340Z"
   },
   {
    "duration": 20,
    "start_time": "2022-03-26T10:22:50.363Z"
   },
   {
    "duration": 2064,
    "start_time": "2022-03-26T10:23:07.205Z"
   },
   {
    "duration": 395,
    "start_time": "2022-03-26T10:24:53.720Z"
   },
   {
    "duration": 391,
    "start_time": "2022-03-26T10:25:17.553Z"
   },
   {
    "duration": 297,
    "start_time": "2022-03-26T10:25:42.036Z"
   },
   {
    "duration": 335,
    "start_time": "2022-03-26T10:26:44.935Z"
   },
   {
    "duration": 275,
    "start_time": "2022-03-26T10:27:11.512Z"
   },
   {
    "duration": 265,
    "start_time": "2022-03-26T10:27:16.484Z"
   },
   {
    "duration": 55,
    "start_time": "2022-03-26T10:27:34.465Z"
   },
   {
    "duration": 20,
    "start_time": "2022-03-26T10:27:46.027Z"
   },
   {
    "duration": 19,
    "start_time": "2022-03-26T10:28:04.735Z"
   },
   {
    "duration": 171,
    "start_time": "2022-03-26T10:28:31.535Z"
   },
   {
    "duration": 19,
    "start_time": "2022-03-26T10:28:36.627Z"
   },
   {
    "duration": 15,
    "start_time": "2022-03-26T10:29:46.657Z"
   },
   {
    "duration": 6,
    "start_time": "2022-03-26T10:30:05.596Z"
   },
   {
    "duration": 13,
    "start_time": "2022-03-26T10:30:11.832Z"
   },
   {
    "duration": 4,
    "start_time": "2022-03-26T10:31:14.608Z"
   },
   {
    "duration": 29,
    "start_time": "2022-03-26T10:31:19.482Z"
   },
   {
    "duration": 9,
    "start_time": "2022-03-26T10:31:48.353Z"
   },
   {
    "duration": 8,
    "start_time": "2022-03-26T10:38:16.668Z"
   },
   {
    "duration": 14,
    "start_time": "2022-03-26T10:40:36.259Z"
   },
   {
    "duration": 13,
    "start_time": "2022-03-26T10:40:56.719Z"
   },
   {
    "duration": 10,
    "start_time": "2022-03-26T10:44:19.813Z"
   },
   {
    "duration": 1300,
    "start_time": "2022-03-26T10:44:57.002Z"
   },
   {
    "duration": 11,
    "start_time": "2022-03-26T10:45:07.692Z"
   },
   {
    "duration": 11,
    "start_time": "2022-03-26T10:45:16.730Z"
   },
   {
    "duration": 12,
    "start_time": "2022-03-26T10:45:25.250Z"
   },
   {
    "duration": 11,
    "start_time": "2022-03-26T10:45:47.824Z"
   },
   {
    "duration": 12,
    "start_time": "2022-03-26T10:45:53.449Z"
   },
   {
    "duration": 20,
    "start_time": "2022-03-26T10:46:27.712Z"
   },
   {
    "duration": 9,
    "start_time": "2022-03-26T10:55:49.363Z"
   },
   {
    "duration": 46,
    "start_time": "2022-03-26T11:15:44.214Z"
   },
   {
    "duration": 7,
    "start_time": "2022-03-26T11:16:09.222Z"
   },
   {
    "duration": 483,
    "start_time": "2022-03-26T11:16:32.121Z"
   },
   {
    "duration": 19,
    "start_time": "2022-03-26T11:16:32.607Z"
   },
   {
    "duration": 13,
    "start_time": "2022-03-26T11:16:32.628Z"
   },
   {
    "duration": 8,
    "start_time": "2022-03-26T11:16:32.644Z"
   },
   {
    "duration": 12,
    "start_time": "2022-03-26T11:16:32.654Z"
   },
   {
    "duration": 41,
    "start_time": "2022-03-26T11:16:32.668Z"
   },
   {
    "duration": 5,
    "start_time": "2022-03-26T11:16:32.711Z"
   },
   {
    "duration": 8,
    "start_time": "2022-03-26T11:16:32.718Z"
   },
   {
    "duration": 5,
    "start_time": "2022-03-26T11:16:32.728Z"
   },
   {
    "duration": 13,
    "start_time": "2022-03-26T11:16:32.736Z"
   },
   {
    "duration": 5,
    "start_time": "2022-03-26T11:16:32.750Z"
   },
   {
    "duration": 6,
    "start_time": "2022-03-26T11:16:32.756Z"
   },
   {
    "duration": 46,
    "start_time": "2022-03-26T11:16:32.764Z"
   },
   {
    "duration": 6,
    "start_time": "2022-03-26T11:16:32.812Z"
   },
   {
    "duration": 6,
    "start_time": "2022-03-26T11:16:32.819Z"
   },
   {
    "duration": 17,
    "start_time": "2022-03-26T11:16:32.826Z"
   },
   {
    "duration": 6,
    "start_time": "2022-03-26T11:16:32.845Z"
   },
   {
    "duration": 12,
    "start_time": "2022-03-26T11:16:32.853Z"
   },
   {
    "duration": 9,
    "start_time": "2022-03-26T11:16:32.867Z"
   },
   {
    "duration": 18,
    "start_time": "2022-03-26T11:16:32.909Z"
   },
   {
    "duration": 20,
    "start_time": "2022-03-26T11:16:32.929Z"
   },
   {
    "duration": 18,
    "start_time": "2022-03-26T11:16:32.950Z"
   },
   {
    "duration": 5,
    "start_time": "2022-03-26T11:16:32.969Z"
   },
   {
    "duration": 36,
    "start_time": "2022-03-26T11:16:32.976Z"
   },
   {
    "duration": 4,
    "start_time": "2022-03-26T11:16:33.014Z"
   },
   {
    "duration": 14,
    "start_time": "2022-03-26T11:16:33.020Z"
   },
   {
    "duration": 11,
    "start_time": "2022-03-26T11:16:33.036Z"
   },
   {
    "duration": 3,
    "start_time": "2022-03-26T11:16:33.050Z"
   },
   {
    "duration": 7,
    "start_time": "2022-03-26T11:16:33.055Z"
   },
   {
    "duration": 8,
    "start_time": "2022-03-26T11:16:33.063Z"
   },
   {
    "duration": 36,
    "start_time": "2022-03-26T11:16:33.073Z"
   },
   {
    "duration": 6,
    "start_time": "2022-03-26T11:16:33.111Z"
   },
   {
    "duration": 4,
    "start_time": "2022-03-26T11:16:33.118Z"
   },
   {
    "duration": 6,
    "start_time": "2022-03-26T11:16:33.124Z"
   },
   {
    "duration": 10,
    "start_time": "2022-03-26T11:16:33.131Z"
   },
   {
    "duration": 6,
    "start_time": "2022-03-26T11:16:33.143Z"
   },
   {
    "duration": 10,
    "start_time": "2022-03-26T11:16:33.151Z"
   },
   {
    "duration": 53,
    "start_time": "2022-03-26T11:16:33.163Z"
   },
   {
    "duration": 11,
    "start_time": "2022-03-26T11:16:33.218Z"
   },
   {
    "duration": 6,
    "start_time": "2022-03-26T11:20:58.620Z"
   },
   {
    "duration": 6,
    "start_time": "2022-03-26T11:21:00.794Z"
   },
   {
    "duration": 14,
    "start_time": "2022-03-26T11:21:06.892Z"
   },
   {
    "duration": 1337,
    "start_time": "2022-03-26T11:21:30.151Z"
   },
   {
    "duration": 1241,
    "start_time": "2022-03-26T11:21:41.205Z"
   },
   {
    "duration": 12,
    "start_time": "2022-03-26T11:21:59.626Z"
   },
   {
    "duration": 7,
    "start_time": "2022-03-26T11:22:29.378Z"
   },
   {
    "duration": 9,
    "start_time": "2022-03-26T11:27:00.376Z"
   },
   {
    "duration": 12,
    "start_time": "2022-03-26T11:27:08.462Z"
   },
   {
    "duration": 12,
    "start_time": "2022-03-26T11:28:24.879Z"
   },
   {
    "duration": 8,
    "start_time": "2022-03-26T11:28:39.594Z"
   },
   {
    "duration": 17,
    "start_time": "2022-03-26T11:35:12.947Z"
   },
   {
    "duration": 15,
    "start_time": "2022-03-26T11:35:37.615Z"
   },
   {
    "duration": 18,
    "start_time": "2022-03-26T11:36:08.907Z"
   },
   {
    "duration": 15,
    "start_time": "2022-03-26T11:36:23.174Z"
   },
   {
    "duration": 8,
    "start_time": "2022-03-26T11:51:37.658Z"
   },
   {
    "duration": 7,
    "start_time": "2022-03-26T11:52:01.811Z"
   },
   {
    "duration": 15,
    "start_time": "2022-03-26T11:52:13.370Z"
   },
   {
    "duration": 15,
    "start_time": "2022-03-26T11:54:15.806Z"
   },
   {
    "duration": 23,
    "start_time": "2022-03-26T11:56:14.591Z"
   },
   {
    "duration": 15,
    "start_time": "2022-03-26T11:56:21.725Z"
   },
   {
    "duration": 7,
    "start_time": "2022-03-26T12:33:34.352Z"
   },
   {
    "duration": 18,
    "start_time": "2022-03-26T12:35:11.781Z"
   },
   {
    "duration": 17,
    "start_time": "2022-03-26T12:35:37.470Z"
   },
   {
    "duration": 13,
    "start_time": "2022-03-26T13:46:38.797Z"
   },
   {
    "duration": 12,
    "start_time": "2022-03-26T13:47:35.414Z"
   },
   {
    "duration": 13,
    "start_time": "2022-03-26T13:47:42.292Z"
   },
   {
    "duration": 16,
    "start_time": "2022-03-26T14:04:51.191Z"
   },
   {
    "duration": 16,
    "start_time": "2022-03-26T14:05:57.062Z"
   },
   {
    "duration": 16,
    "start_time": "2022-03-26T14:17:43.982Z"
   },
   {
    "duration": 15,
    "start_time": "2022-03-26T14:18:05.225Z"
   },
   {
    "duration": 15,
    "start_time": "2022-03-26T14:20:35.924Z"
   },
   {
    "duration": 18,
    "start_time": "2022-03-26T14:20:48.493Z"
   },
   {
    "duration": 21,
    "start_time": "2022-03-26T14:22:23.652Z"
   },
   {
    "duration": 24,
    "start_time": "2022-03-26T14:22:43.957Z"
   },
   {
    "duration": 22,
    "start_time": "2022-03-26T14:23:29.851Z"
   },
   {
    "duration": 22,
    "start_time": "2022-03-26T14:23:49.153Z"
   },
   {
    "duration": 15,
    "start_time": "2022-03-26T14:25:05.126Z"
   },
   {
    "duration": 21,
    "start_time": "2022-03-26T14:25:16.086Z"
   },
   {
    "duration": 23,
    "start_time": "2022-03-26T14:25:39.697Z"
   },
   {
    "duration": 18,
    "start_time": "2022-03-26T14:25:58.509Z"
   },
   {
    "duration": 7,
    "start_time": "2022-03-26T14:28:52.322Z"
   },
   {
    "duration": 19,
    "start_time": "2022-03-26T14:29:37.192Z"
   },
   {
    "duration": 21,
    "start_time": "2022-03-26T14:30:10.389Z"
   },
   {
    "duration": 19,
    "start_time": "2022-03-26T14:31:32.171Z"
   },
   {
    "duration": 19,
    "start_time": "2022-03-26T14:32:21.145Z"
   },
   {
    "duration": 19,
    "start_time": "2022-03-26T14:33:16.173Z"
   },
   {
    "duration": 70,
    "start_time": "2022-03-26T14:33:19.601Z"
   },
   {
    "duration": 44,
    "start_time": "2022-03-26T14:33:19.673Z"
   },
   {
    "duration": 9,
    "start_time": "2022-03-26T14:33:19.719Z"
   },
   {
    "duration": 10,
    "start_time": "2022-03-26T14:33:19.730Z"
   },
   {
    "duration": 11,
    "start_time": "2022-03-26T14:33:19.741Z"
   },
   {
    "duration": 7,
    "start_time": "2022-03-26T14:33:19.754Z"
   },
   {
    "duration": 50,
    "start_time": "2022-03-26T14:33:19.763Z"
   },
   {
    "duration": 9,
    "start_time": "2022-03-26T14:33:19.814Z"
   },
   {
    "duration": 5,
    "start_time": "2022-03-26T14:33:19.825Z"
   },
   {
    "duration": 18,
    "start_time": "2022-03-26T14:33:19.834Z"
   },
   {
    "duration": 7,
    "start_time": "2022-03-26T14:33:19.854Z"
   },
   {
    "duration": 47,
    "start_time": "2022-03-26T14:33:19.863Z"
   },
   {
    "duration": 6,
    "start_time": "2022-03-26T14:33:19.912Z"
   },
   {
    "duration": 8,
    "start_time": "2022-03-26T14:33:19.920Z"
   },
   {
    "duration": 5,
    "start_time": "2022-03-26T14:33:19.930Z"
   },
   {
    "duration": 17,
    "start_time": "2022-03-26T14:33:19.937Z"
   },
   {
    "duration": 8,
    "start_time": "2022-03-26T14:33:19.956Z"
   },
   {
    "duration": 61,
    "start_time": "2022-03-26T14:33:19.965Z"
   },
   {
    "duration": 19,
    "start_time": "2022-03-26T14:33:20.029Z"
   },
   {
    "duration": 27,
    "start_time": "2022-03-26T14:33:20.050Z"
   },
   {
    "duration": 31,
    "start_time": "2022-03-26T14:33:20.079Z"
   },
   {
    "duration": 19,
    "start_time": "2022-03-26T14:33:20.112Z"
   },
   {
    "duration": 6,
    "start_time": "2022-03-26T14:33:20.133Z"
   },
   {
    "duration": 7,
    "start_time": "2022-03-26T14:33:20.141Z"
   },
   {
    "duration": 3,
    "start_time": "2022-03-26T14:33:20.150Z"
   },
   {
    "duration": 12,
    "start_time": "2022-03-26T14:33:20.155Z"
   },
   {
    "duration": 10,
    "start_time": "2022-03-26T14:33:20.208Z"
   },
   {
    "duration": 4,
    "start_time": "2022-03-26T14:33:20.222Z"
   },
   {
    "duration": 6,
    "start_time": "2022-03-26T14:33:20.228Z"
   },
   {
    "duration": 5,
    "start_time": "2022-03-26T14:33:20.236Z"
   },
   {
    "duration": 9,
    "start_time": "2022-03-26T14:33:20.243Z"
   },
   {
    "duration": 8,
    "start_time": "2022-03-26T14:33:20.254Z"
   },
   {
    "duration": 3,
    "start_time": "2022-03-26T14:33:20.264Z"
   },
   {
    "duration": 41,
    "start_time": "2022-03-26T14:33:20.269Z"
   },
   {
    "duration": 10,
    "start_time": "2022-03-26T14:33:20.311Z"
   },
   {
    "duration": 10,
    "start_time": "2022-03-26T14:33:20.323Z"
   },
   {
    "duration": 4,
    "start_time": "2022-03-26T14:33:20.335Z"
   },
   {
    "duration": 24,
    "start_time": "2022-03-26T14:33:20.340Z"
   },
   {
    "duration": 50,
    "start_time": "2022-03-26T14:33:20.365Z"
   },
   {
    "duration": 16,
    "start_time": "2022-03-26T14:33:20.417Z"
   },
   {
    "duration": 18,
    "start_time": "2022-03-26T14:33:20.435Z"
   },
   {
    "duration": 18,
    "start_time": "2022-03-26T14:35:31.034Z"
   },
   {
    "duration": 18,
    "start_time": "2022-03-26T14:36:39.409Z"
   },
   {
    "duration": 23,
    "start_time": "2022-03-26T14:37:20.979Z"
   },
   {
    "duration": 21,
    "start_time": "2022-03-26T14:39:21.767Z"
   },
   {
    "duration": 20,
    "start_time": "2022-03-26T14:41:18.420Z"
   },
   {
    "duration": 22,
    "start_time": "2022-03-26T14:41:30.968Z"
   },
   {
    "duration": 19,
    "start_time": "2022-03-26T15:04:06.112Z"
   },
   {
    "duration": 1020,
    "start_time": "2022-03-26T15:05:52.068Z"
   },
   {
    "duration": 18,
    "start_time": "2022-03-26T15:06:01.036Z"
   },
   {
    "duration": 20,
    "start_time": "2022-03-26T15:06:09.584Z"
   },
   {
    "duration": 2,
    "start_time": "2022-03-26T15:06:38.764Z"
   },
   {
    "duration": 19,
    "start_time": "2022-03-26T15:06:45.091Z"
   },
   {
    "duration": 25,
    "start_time": "2022-03-26T15:07:03.083Z"
   },
   {
    "duration": 74,
    "start_time": "2022-03-26T15:08:34.028Z"
   },
   {
    "duration": 18,
    "start_time": "2022-03-26T15:08:34.109Z"
   },
   {
    "duration": 9,
    "start_time": "2022-03-26T15:08:34.128Z"
   },
   {
    "duration": 10,
    "start_time": "2022-03-26T15:08:34.140Z"
   },
   {
    "duration": 58,
    "start_time": "2022-03-26T15:08:34.152Z"
   },
   {
    "duration": 6,
    "start_time": "2022-03-26T15:08:34.212Z"
   },
   {
    "duration": 10,
    "start_time": "2022-03-26T15:08:34.219Z"
   },
   {
    "duration": 8,
    "start_time": "2022-03-26T15:08:34.231Z"
   },
   {
    "duration": 5,
    "start_time": "2022-03-26T15:08:34.241Z"
   },
   {
    "duration": 14,
    "start_time": "2022-03-26T15:08:34.249Z"
   },
   {
    "duration": 46,
    "start_time": "2022-03-26T15:08:34.265Z"
   },
   {
    "duration": 7,
    "start_time": "2022-03-26T15:08:34.313Z"
   },
   {
    "duration": 6,
    "start_time": "2022-03-26T15:08:34.321Z"
   },
   {
    "duration": 13,
    "start_time": "2022-03-26T15:08:34.328Z"
   },
   {
    "duration": 5,
    "start_time": "2022-03-26T15:08:34.343Z"
   },
   {
    "duration": 59,
    "start_time": "2022-03-26T15:08:34.350Z"
   },
   {
    "duration": 7,
    "start_time": "2022-03-26T15:08:34.411Z"
   },
   {
    "duration": 14,
    "start_time": "2022-03-26T15:08:34.420Z"
   },
   {
    "duration": 9,
    "start_time": "2022-03-26T15:08:34.435Z"
   },
   {
    "duration": 24,
    "start_time": "2022-03-26T15:08:34.445Z"
   },
   {
    "duration": 54,
    "start_time": "2022-03-26T15:08:34.471Z"
   },
   {
    "duration": 18,
    "start_time": "2022-03-26T15:08:34.527Z"
   },
   {
    "duration": 6,
    "start_time": "2022-03-26T15:08:34.546Z"
   },
   {
    "duration": 10,
    "start_time": "2022-03-26T15:08:34.553Z"
   },
   {
    "duration": 5,
    "start_time": "2022-03-26T15:08:34.565Z"
   },
   {
    "duration": 9,
    "start_time": "2022-03-26T15:08:34.609Z"
   },
   {
    "duration": 15,
    "start_time": "2022-03-26T15:08:34.620Z"
   },
   {
    "duration": 4,
    "start_time": "2022-03-26T15:08:34.638Z"
   },
   {
    "duration": 6,
    "start_time": "2022-03-26T15:08:34.644Z"
   },
   {
    "duration": 8,
    "start_time": "2022-03-26T15:08:34.652Z"
   },
   {
    "duration": 47,
    "start_time": "2022-03-26T15:08:34.662Z"
   },
   {
    "duration": 7,
    "start_time": "2022-03-26T15:08:34.710Z"
   },
   {
    "duration": 5,
    "start_time": "2022-03-26T15:08:34.718Z"
   },
   {
    "duration": 12,
    "start_time": "2022-03-26T15:08:34.725Z"
   },
   {
    "duration": 11,
    "start_time": "2022-03-26T15:08:34.739Z"
   },
   {
    "duration": 8,
    "start_time": "2022-03-26T15:08:34.752Z"
   },
   {
    "duration": 6,
    "start_time": "2022-03-26T15:08:34.763Z"
   },
   {
    "duration": 68,
    "start_time": "2022-03-26T15:08:34.771Z"
   },
   {
    "duration": 3,
    "start_time": "2022-03-26T15:08:34.841Z"
   },
   {
    "duration": 35,
    "start_time": "2022-03-26T15:08:34.846Z"
   },
   {
    "duration": 26,
    "start_time": "2022-03-26T15:08:34.883Z"
   },
   {
    "duration": 28,
    "start_time": "2022-03-26T15:08:34.911Z"
   },
   {
    "duration": 3,
    "start_time": "2022-03-26T15:08:34.941Z"
   },
   {
    "duration": 27,
    "start_time": "2022-03-26T15:08:34.946Z"
   }
  ],
  "kernelspec": {
   "display_name": "Python 3 (ipykernel)",
   "language": "python",
   "name": "python3"
  },
  "language_info": {
   "codemirror_mode": {
    "name": "ipython",
    "version": 3
   },
   "file_extension": ".py",
   "mimetype": "text/x-python",
   "name": "python",
   "nbconvert_exporter": "python",
   "pygments_lexer": "ipython3",
   "version": "3.9.5"
  },
  "toc": {
   "base_numbering": 1,
   "nav_menu": {},
   "number_sections": true,
   "sideBar": true,
   "skip_h1_title": true,
   "title_cell": "Table of Contents",
   "title_sidebar": "Contents",
   "toc_cell": false,
   "toc_position": {},
   "toc_section_display": true,
   "toc_window_display": false
  }
 },
 "nbformat": 4,
 "nbformat_minor": 5
}
