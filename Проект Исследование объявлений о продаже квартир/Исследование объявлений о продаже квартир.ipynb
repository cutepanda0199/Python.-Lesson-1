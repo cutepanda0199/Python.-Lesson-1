{
 "cells": [
  {
   "cell_type": "markdown",
   "metadata": {
    "toc": true
   },
   "source": [
    "<h1>Содержание<span class=\"tocSkip\"></span></h1>\n",
    "<div class=\"toc\"><ul class=\"toc-item\"><li><span><a href=\"#Изучение-данных-из-файла\" data-toc-modified-id=\"Изучение-данных-из-файла-1\"><span class=\"toc-item-num\">1&nbsp;&nbsp;</span>Изучение данных из файла</a></span><ul class=\"toc-item\"><li><span><a href=\"#Вывод\" data-toc-modified-id=\"Вывод-1.1\"><span class=\"toc-item-num\">1.1&nbsp;&nbsp;</span>Вывод</a></span></li></ul></li><li><span><a href=\"#Предобработка-данных\" data-toc-modified-id=\"Предобработка-данных-2\"><span class=\"toc-item-num\">2&nbsp;&nbsp;</span>Предобработка данных</a></span><ul class=\"toc-item\"><li><span><a href=\"#Пропуски-в-полях\" data-toc-modified-id=\"Пропуски-в-полях-2.1\"><span class=\"toc-item-num\">2.1&nbsp;&nbsp;</span>Пропуски в полях</a></span></li><li><span><a href=\"#Анализ-полей\" data-toc-modified-id=\"Анализ-полей-2.2\"><span class=\"toc-item-num\">2.2&nbsp;&nbsp;</span>Анализ полей</a></span></li></ul></li><li><span><a href=\"#Расчёты-и-добавление-результатов-в-таблицу\" data-toc-modified-id=\"Расчёты-и-добавление-результатов-в-таблицу-3\"><span class=\"toc-item-num\">3&nbsp;&nbsp;</span>Расчёты и добавление результатов в таблицу</a></span><ul class=\"toc-item\"><li><span><a href=\"#Вычисление-цены-квадратного-метра\" data-toc-modified-id=\"Вычисление-цены-квадратного-метра-3.1\"><span class=\"toc-item-num\">3.1&nbsp;&nbsp;</span>Вычисление цены квадратного метра</a></span></li><li><span><a href=\"#Вычисление-полей:-день-недели,-месяц-и-год-публикации-объявления\" data-toc-modified-id=\"Вычисление-полей:-день-недели,-месяц-и-год-публикации-объявления-3.2\"><span class=\"toc-item-num\">3.2&nbsp;&nbsp;</span>Вычисление полей: день недели, месяц и год публикации объявления</a></span></li><li><span><a href=\"#Категоризация-этажа\" data-toc-modified-id=\"Категоризация-этажа-3.3\"><span class=\"toc-item-num\">3.3&nbsp;&nbsp;</span>Категоризация этажа</a></span></li><li><span><a href=\"#Cоотношение-жилой-и-общей-площади,-а-также-отношение-площади-кухни-к-общей\" data-toc-modified-id=\"Cоотношение-жилой-и-общей-площади,-а-также-отношение-площади-кухни-к-общей-3.4\"><span class=\"toc-item-num\">3.4&nbsp;&nbsp;</span>Cоотношение жилой и общей площади, а также отношение площади кухни к общей</a></span></li></ul></li><li><span><a href=\"#Исследовательский-анализ-данных\" data-toc-modified-id=\"Исследовательский-анализ-данных-4\"><span class=\"toc-item-num\">4&nbsp;&nbsp;</span>Исследовательский анализ данных</a></span><ul class=\"toc-item\"><li><span><a href=\"#Изучение-параметров:-площадь,-цена,-число-комнат,-высота-потолков\" data-toc-modified-id=\"Изучение-параметров:-площадь,-цена,-число-комнат,-высота-потолков-4.1\"><span class=\"toc-item-num\">4.1&nbsp;&nbsp;</span>Изучение параметров: площадь, цена, число комнат, высота потолков</a></span></li><li><span><a href=\"#Изучение-времени-продажи-квартиры\" data-toc-modified-id=\"Изучение-времени-продажи-квартиры-4.2\"><span class=\"toc-item-num\">4.2&nbsp;&nbsp;</span>Изучение времени продажи квартиры</a></span></li><li><span><a href=\"#Редкие-и-выбивающиеся-значения\" data-toc-modified-id=\"Редкие-и-выбивающиеся-значения-4.3\"><span class=\"toc-item-num\">4.3&nbsp;&nbsp;</span>Редкие и выбивающиеся значения</a></span></li><li><span><a href=\"#Факторы,-которые-больше-всего-влияют-на-стоимость-квартиры\" data-toc-modified-id=\"Факторы,-которые-больше-всего-влияют-на-стоимость-квартиры-4.4\"><span class=\"toc-item-num\">4.4&nbsp;&nbsp;</span>Факторы, которые больше всего влияют на стоимость квартиры</a></span></li><li><span><a href=\"#10-населённых-пунктов-с-наибольшим-числом-объявлений\" data-toc-modified-id=\"10-населённых-пунктов-с-наибольшим-числом-объявлений-4.5\"><span class=\"toc-item-num\">4.5&nbsp;&nbsp;</span>10 населённых пунктов с наибольшим числом объявлений</a></span></li><li><span><a href=\"#Изучение-предложения-квартир\" data-toc-modified-id=\"Изучение-предложения-квартир-4.6\"><span class=\"toc-item-num\">4.6&nbsp;&nbsp;</span>Изучение предложения квартир</a></span></li><li><span><a href=\"#Cегмент-квартир-в-центре\" data-toc-modified-id=\"Cегмент-квартир-в-центре-4.7\"><span class=\"toc-item-num\">4.7&nbsp;&nbsp;</span>Cегмент квартир в центре</a></span></li></ul></li><li><span><a href=\"#Общий-вывод\" data-toc-modified-id=\"Общий-вывод-5\"><span class=\"toc-item-num\">5&nbsp;&nbsp;</span>Общий вывод</a></span></li><li><span><a href=\"#Чек-лист-готовности-проекта\" data-toc-modified-id=\"Чек-лист-готовности-проекта-6\"><span class=\"toc-item-num\">6&nbsp;&nbsp;</span>Чек-лист готовности проекта</a></span></li></ul></div>"
   ]
  },
  {
   "cell_type": "markdown",
   "metadata": {},
   "source": [
    "# Исследование объявлений о продаже квартир\n",
    "\n",
    "В вашем распоряжении данные сервиса Яндекc Недвижимость — архив объявлений о продаже квартир в Санкт-Петербурге и соседних населённых пунктах за несколько лет. Нужно научиться определять рыночную стоимость объектов недвижимости. Ваша задача — установить параметры. Это позволит построить автоматизированную систему: она отследит аномалии и мошенническую деятельность. \n",
    "\n",
    "По каждой квартире на продажу доступны два вида данных. Первые вписаны пользователем, вторые получены автоматически на основе картографических данных. Например, расстояние до центра, аэропорта, ближайшего парка и водоёма. "
   ]
  },
  {
   "cell_type": "markdown",
   "metadata": {},
   "source": [
    "## Изучение данных из файла"
   ]
  },
  {
   "cell_type": "code",
   "execution_count": 1,
   "metadata": {},
   "outputs": [],
   "source": [
    "import pandas as pd\n",
    "import matplotlib.pyplot as plt"
   ]
  },
  {
   "cell_type": "code",
   "execution_count": 2,
   "metadata": {},
   "outputs": [],
   "source": [
    "df = pd.read_csv('/datasets/real_estate_data.csv', sep = '\\t')"
   ]
  },
  {
   "cell_type": "code",
   "execution_count": 3,
   "metadata": {},
   "outputs": [
    {
     "data": {
      "text/html": [
       "<div>\n",
       "<style scoped>\n",
       "    .dataframe tbody tr th:only-of-type {\n",
       "        vertical-align: middle;\n",
       "    }\n",
       "\n",
       "    .dataframe tbody tr th {\n",
       "        vertical-align: top;\n",
       "    }\n",
       "\n",
       "    .dataframe thead th {\n",
       "        text-align: right;\n",
       "    }\n",
       "</style>\n",
       "<table border=\"1\" class=\"dataframe\">\n",
       "  <thead>\n",
       "    <tr style=\"text-align: right;\">\n",
       "      <th></th>\n",
       "      <th>total_images</th>\n",
       "      <th>last_price</th>\n",
       "      <th>total_area</th>\n",
       "      <th>first_day_exposition</th>\n",
       "      <th>rooms</th>\n",
       "      <th>ceiling_height</th>\n",
       "      <th>floors_total</th>\n",
       "      <th>living_area</th>\n",
       "      <th>floor</th>\n",
       "      <th>is_apartment</th>\n",
       "      <th>...</th>\n",
       "      <th>kitchen_area</th>\n",
       "      <th>balcony</th>\n",
       "      <th>locality_name</th>\n",
       "      <th>airports_nearest</th>\n",
       "      <th>cityCenters_nearest</th>\n",
       "      <th>parks_around3000</th>\n",
       "      <th>parks_nearest</th>\n",
       "      <th>ponds_around3000</th>\n",
       "      <th>ponds_nearest</th>\n",
       "      <th>days_exposition</th>\n",
       "    </tr>\n",
       "  </thead>\n",
       "  <tbody>\n",
       "    <tr>\n",
       "      <th>0</th>\n",
       "      <td>20</td>\n",
       "      <td>13000000.0</td>\n",
       "      <td>108.0</td>\n",
       "      <td>2019-03-07T00:00:00</td>\n",
       "      <td>3</td>\n",
       "      <td>2.70</td>\n",
       "      <td>16.0</td>\n",
       "      <td>51.0</td>\n",
       "      <td>8</td>\n",
       "      <td>NaN</td>\n",
       "      <td>...</td>\n",
       "      <td>25.0</td>\n",
       "      <td>NaN</td>\n",
       "      <td>Санкт-Петербург</td>\n",
       "      <td>18863.0</td>\n",
       "      <td>16028.0</td>\n",
       "      <td>1.0</td>\n",
       "      <td>482.0</td>\n",
       "      <td>2.0</td>\n",
       "      <td>755.0</td>\n",
       "      <td>NaN</td>\n",
       "    </tr>\n",
       "    <tr>\n",
       "      <th>1</th>\n",
       "      <td>7</td>\n",
       "      <td>3350000.0</td>\n",
       "      <td>40.4</td>\n",
       "      <td>2018-12-04T00:00:00</td>\n",
       "      <td>1</td>\n",
       "      <td>NaN</td>\n",
       "      <td>11.0</td>\n",
       "      <td>18.6</td>\n",
       "      <td>1</td>\n",
       "      <td>NaN</td>\n",
       "      <td>...</td>\n",
       "      <td>11.0</td>\n",
       "      <td>2.0</td>\n",
       "      <td>посёлок Шушары</td>\n",
       "      <td>12817.0</td>\n",
       "      <td>18603.0</td>\n",
       "      <td>0.0</td>\n",
       "      <td>NaN</td>\n",
       "      <td>0.0</td>\n",
       "      <td>NaN</td>\n",
       "      <td>81.0</td>\n",
       "    </tr>\n",
       "    <tr>\n",
       "      <th>2</th>\n",
       "      <td>10</td>\n",
       "      <td>5196000.0</td>\n",
       "      <td>56.0</td>\n",
       "      <td>2015-08-20T00:00:00</td>\n",
       "      <td>2</td>\n",
       "      <td>NaN</td>\n",
       "      <td>5.0</td>\n",
       "      <td>34.3</td>\n",
       "      <td>4</td>\n",
       "      <td>NaN</td>\n",
       "      <td>...</td>\n",
       "      <td>8.3</td>\n",
       "      <td>0.0</td>\n",
       "      <td>Санкт-Петербург</td>\n",
       "      <td>21741.0</td>\n",
       "      <td>13933.0</td>\n",
       "      <td>1.0</td>\n",
       "      <td>90.0</td>\n",
       "      <td>2.0</td>\n",
       "      <td>574.0</td>\n",
       "      <td>558.0</td>\n",
       "    </tr>\n",
       "    <tr>\n",
       "      <th>3</th>\n",
       "      <td>0</td>\n",
       "      <td>64900000.0</td>\n",
       "      <td>159.0</td>\n",
       "      <td>2015-07-24T00:00:00</td>\n",
       "      <td>3</td>\n",
       "      <td>NaN</td>\n",
       "      <td>14.0</td>\n",
       "      <td>NaN</td>\n",
       "      <td>9</td>\n",
       "      <td>NaN</td>\n",
       "      <td>...</td>\n",
       "      <td>NaN</td>\n",
       "      <td>0.0</td>\n",
       "      <td>Санкт-Петербург</td>\n",
       "      <td>28098.0</td>\n",
       "      <td>6800.0</td>\n",
       "      <td>2.0</td>\n",
       "      <td>84.0</td>\n",
       "      <td>3.0</td>\n",
       "      <td>234.0</td>\n",
       "      <td>424.0</td>\n",
       "    </tr>\n",
       "    <tr>\n",
       "      <th>4</th>\n",
       "      <td>2</td>\n",
       "      <td>10000000.0</td>\n",
       "      <td>100.0</td>\n",
       "      <td>2018-06-19T00:00:00</td>\n",
       "      <td>2</td>\n",
       "      <td>3.03</td>\n",
       "      <td>14.0</td>\n",
       "      <td>32.0</td>\n",
       "      <td>13</td>\n",
       "      <td>NaN</td>\n",
       "      <td>...</td>\n",
       "      <td>41.0</td>\n",
       "      <td>NaN</td>\n",
       "      <td>Санкт-Петербург</td>\n",
       "      <td>31856.0</td>\n",
       "      <td>8098.0</td>\n",
       "      <td>2.0</td>\n",
       "      <td>112.0</td>\n",
       "      <td>1.0</td>\n",
       "      <td>48.0</td>\n",
       "      <td>121.0</td>\n",
       "    </tr>\n",
       "  </tbody>\n",
       "</table>\n",
       "<p>5 rows × 22 columns</p>\n",
       "</div>"
      ],
      "text/plain": [
       "   total_images  last_price  total_area first_day_exposition  rooms  \\\n",
       "0            20  13000000.0       108.0  2019-03-07T00:00:00      3   \n",
       "1             7   3350000.0        40.4  2018-12-04T00:00:00      1   \n",
       "2            10   5196000.0        56.0  2015-08-20T00:00:00      2   \n",
       "3             0  64900000.0       159.0  2015-07-24T00:00:00      3   \n",
       "4             2  10000000.0       100.0  2018-06-19T00:00:00      2   \n",
       "\n",
       "   ceiling_height  floors_total  living_area  floor is_apartment  ...  \\\n",
       "0            2.70          16.0         51.0      8          NaN  ...   \n",
       "1             NaN          11.0         18.6      1          NaN  ...   \n",
       "2             NaN           5.0         34.3      4          NaN  ...   \n",
       "3             NaN          14.0          NaN      9          NaN  ...   \n",
       "4            3.03          14.0         32.0     13          NaN  ...   \n",
       "\n",
       "   kitchen_area  balcony    locality_name  airports_nearest  \\\n",
       "0          25.0      NaN  Санкт-Петербург           18863.0   \n",
       "1          11.0      2.0   посёлок Шушары           12817.0   \n",
       "2           8.3      0.0  Санкт-Петербург           21741.0   \n",
       "3           NaN      0.0  Санкт-Петербург           28098.0   \n",
       "4          41.0      NaN  Санкт-Петербург           31856.0   \n",
       "\n",
       "  cityCenters_nearest  parks_around3000  parks_nearest  ponds_around3000  \\\n",
       "0             16028.0               1.0          482.0               2.0   \n",
       "1             18603.0               0.0            NaN               0.0   \n",
       "2             13933.0               1.0           90.0               2.0   \n",
       "3              6800.0               2.0           84.0               3.0   \n",
       "4              8098.0               2.0          112.0               1.0   \n",
       "\n",
       "   ponds_nearest  days_exposition  \n",
       "0          755.0              NaN  \n",
       "1            NaN             81.0  \n",
       "2          574.0            558.0  \n",
       "3          234.0            424.0  \n",
       "4           48.0            121.0  \n",
       "\n",
       "[5 rows x 22 columns]"
      ]
     },
     "execution_count": 3,
     "metadata": {},
     "output_type": "execute_result"
    }
   ],
   "source": [
    "df.head()"
   ]
  },
  {
   "cell_type": "code",
   "execution_count": 4,
   "metadata": {},
   "outputs": [
    {
     "name": "stdout",
     "output_type": "stream",
     "text": [
      "<class 'pandas.core.frame.DataFrame'>\n",
      "RangeIndex: 23699 entries, 0 to 23698\n",
      "Data columns (total 22 columns):\n",
      " #   Column                Non-Null Count  Dtype  \n",
      "---  ------                --------------  -----  \n",
      " 0   total_images          23699 non-null  int64  \n",
      " 1   last_price            23699 non-null  float64\n",
      " 2   total_area            23699 non-null  float64\n",
      " 3   first_day_exposition  23699 non-null  object \n",
      " 4   rooms                 23699 non-null  int64  \n",
      " 5   ceiling_height        14504 non-null  float64\n",
      " 6   floors_total          23613 non-null  float64\n",
      " 7   living_area           21796 non-null  float64\n",
      " 8   floor                 23699 non-null  int64  \n",
      " 9   is_apartment          2775 non-null   object \n",
      " 10  studio                23699 non-null  bool   \n",
      " 11  open_plan             23699 non-null  bool   \n",
      " 12  kitchen_area          21421 non-null  float64\n",
      " 13  balcony               12180 non-null  float64\n",
      " 14  locality_name         23650 non-null  object \n",
      " 15  airports_nearest      18157 non-null  float64\n",
      " 16  cityCenters_nearest   18180 non-null  float64\n",
      " 17  parks_around3000      18181 non-null  float64\n",
      " 18  parks_nearest         8079 non-null   float64\n",
      " 19  ponds_around3000      18181 non-null  float64\n",
      " 20  ponds_nearest         9110 non-null   float64\n",
      " 21  days_exposition       20518 non-null  float64\n",
      "dtypes: bool(2), float64(14), int64(3), object(3)\n",
      "memory usage: 3.7+ MB\n"
     ]
    }
   ],
   "source": [
    "df.info()"
   ]
  },
  {
   "cell_type": "markdown",
   "metadata": {},
   "source": [
    "### Вывод"
   ]
  },
  {
   "cell_type": "markdown",
   "metadata": {},
   "source": [
    "- В таблице 22 колонок и 23699 строк;\n",
    "- 4 типа данных: булевы значения, целые числа, дробные, строковые;\n",
    "- Присутствуют пропуски. Пропуски в высоте потолков, размерах жилой площади и кухни можно заполнить по среднему значению или медиане, а вот наличие балкона, водоемов, парка, возможно, сочли не нужным заполнять, поэтому пропуски оставим как есть;\n",
    "- В некоторых столбцах нужно поменять тип. "
   ]
  },
  {
   "cell_type": "markdown",
   "metadata": {},
   "source": [
    "## Предобработка данных"
   ]
  },
  {
   "cell_type": "code",
   "execution_count": 5,
   "metadata": {},
   "outputs": [
    {
     "data": {
      "text/plain": [
       "total_images             0.000000\n",
       "open_plan                0.000000\n",
       "floor                    0.000000\n",
       "rooms                    0.000000\n",
       "studio                   0.000000\n",
       "total_area               0.000000\n",
       "last_price               0.000000\n",
       "first_day_exposition     0.000000\n",
       "locality_name            0.206760\n",
       "floors_total             0.362885\n",
       "living_area              8.029875\n",
       "kitchen_area             9.612220\n",
       "days_exposition         13.422507\n",
       "ponds_around3000        23.283683\n",
       "parks_around3000        23.283683\n",
       "cityCenters_nearest     23.287902\n",
       "airports_nearest        23.384953\n",
       "ceiling_height          38.799105\n",
       "balcony                 48.605426\n",
       "ponds_nearest           61.559559\n",
       "parks_nearest           65.909954\n",
       "is_apartment            88.290645\n",
       "dtype: float64"
      ]
     },
     "execution_count": 5,
     "metadata": {},
     "output_type": "execute_result"
    }
   ],
   "source": [
    "# Вывод пропусков в процентах\n",
    "df.isnull().sum().sort_values() / len(df) * 100"
   ]
  },
  {
   "cell_type": "markdown",
   "metadata": {},
   "source": [
    "### Пропуски в полях\n",
    "- locality_name       \n",
    "- floors_total        \n",
    "- living_area         \n",
    "- kitchen_area        \n",
    "- days_exposition     \n",
    "- ponds_around3000    \n",
    "- parks_around3000    \n",
    "- cityCenters_nearest \n",
    "- airports_nearest    \n",
    "- ceiling_height      \n",
    "- balcony             \n",
    "- ponds_nearest       \n",
    "- parks_nearest       \n",
    "- is_apartment               "
   ]
  },
  {
   "cell_type": "code",
   "execution_count": 6,
   "metadata": {},
   "outputs": [
    {
     "data": {
      "text/plain": [
       "Санкт-Петербург                                      15721\n",
       "посёлок Мурино                                         522\n",
       "посёлок Шушары                                         440\n",
       "Всеволожск                                             398\n",
       "Пушкин                                                 369\n",
       "                                                     ...  \n",
       "посёлок при железнодорожной станции Приветнинское        1\n",
       "поселок городского типа Рябово                           1\n",
       "деревня Иссад                                            1\n",
       "посёлок Петро-Славянка                                   1\n",
       "деревня Пельгора                                         1\n",
       "Name: locality_name, Length: 364, dtype: int64"
      ]
     },
     "execution_count": 6,
     "metadata": {},
     "output_type": "execute_result"
    }
   ],
   "source": [
    "# Непонятно, откуда появились пропуски, оставляем.\n",
    "df['locality_name'].value_counts()"
   ]
  },
  {
   "cell_type": "markdown",
   "metadata": {},
   "source": [
    "Приведем к общему виду \"поселок\""
   ]
  },
  {
   "cell_type": "code",
   "execution_count": 7,
   "metadata": {},
   "outputs": [],
   "source": [
    "df['locality_name'] = df['locality_name'].str.replace('посёлок','поселок')"
   ]
  },
  {
   "cell_type": "code",
   "execution_count": 8,
   "metadata": {},
   "outputs": [
    {
     "data": {
      "text/plain": [
       "Санкт-Петербург       15721\n",
       "поселок Мурино          556\n",
       "поселок Шушары          440\n",
       "Всеволожск              398\n",
       "Пушкин                  369\n",
       "                      ...  \n",
       "поселок Кирпичное         1\n",
       "поселок Белоостров        1\n",
       "деревня Зимитицы          1\n",
       "деревня Новолисино        1\n",
       "поселок Пчевжа            1\n",
       "Name: locality_name, Length: 330, dtype: int64"
      ]
     },
     "execution_count": 8,
     "metadata": {},
     "output_type": "execute_result"
    }
   ],
   "source": [
    "df['locality_name'].value_counts()"
   ]
  },
  {
   "cell_type": "code",
   "execution_count": 9,
   "metadata": {},
   "outputs": [
    {
     "name": "stdout",
     "output_type": "stream",
     "text": [
      "Количество пропусков floors_total = 86\n"
     ]
    },
    {
     "data": {
      "text/plain": [
       "5.0     5788\n",
       "9.0     3761\n",
       "16.0    1376\n",
       "12.0    1362\n",
       "4.0     1200\n",
       "10.0    1174\n",
       "25.0    1075\n",
       "6.0      914\n",
       "17.0     833\n",
       "3.0      668\n",
       "7.0      592\n",
       "14.0     553\n",
       "18.0     505\n",
       "24.0     469\n",
       "8.0      390\n",
       "2.0      383\n",
       "15.0     365\n",
       "23.0     352\n",
       "19.0     339\n",
       "22.0     286\n",
       "20.0     271\n",
       "13.0     229\n",
       "11.0     203\n",
       "27.0     164\n",
       "21.0     158\n",
       "26.0     124\n",
       "1.0       25\n",
       "35.0      24\n",
       "28.0      21\n",
       "36.0       3\n",
       "37.0       1\n",
       "34.0       1\n",
       "33.0       1\n",
       "60.0       1\n",
       "29.0       1\n",
       "52.0       1\n",
       "Name: floors_total, dtype: int64"
      ]
     },
     "execution_count": 9,
     "metadata": {},
     "output_type": "execute_result"
    }
   ],
   "source": [
    "print('Количество пропусков floors_total =', df['floors_total'].isna().sum())\n",
    "df['floors_total'].value_counts()"
   ]
  },
  {
   "cell_type": "markdown",
   "metadata": {},
   "source": [
    "Пропущенных всего 86 значений, поэтому в рамках обработки данных удалим строки с пропущенными значениями методом dropna()"
   ]
  },
  {
   "cell_type": "code",
   "execution_count": 10,
   "metadata": {},
   "outputs": [],
   "source": [
    "df.dropna(subset=['floors_total'], inplace=True)"
   ]
  },
  {
   "cell_type": "code",
   "execution_count": 11,
   "metadata": {},
   "outputs": [],
   "source": [
    "df['floors_total'] = df['floors_total'].astype('int64') # Изменим тип поля на int64"
   ]
  },
  {
   "cell_type": "code",
   "execution_count": 12,
   "metadata": {},
   "outputs": [
    {
     "name": "stdout",
     "output_type": "stream",
     "text": [
      "Количество пропусков living_area = 1870\n"
     ]
    },
    {
     "data": {
      "text/plain": [
       "18.00    882\n",
       "17.00    674\n",
       "30.00    598\n",
       "16.00    484\n",
       "20.00    481\n",
       "        ... \n",
       "50.26      1\n",
       "43.81      1\n",
       "54.43      1\n",
       "86.10      1\n",
       "16.74      1\n",
       "Name: living_area, Length: 1769, dtype: int64"
      ]
     },
     "execution_count": 12,
     "metadata": {},
     "output_type": "execute_result"
    }
   ],
   "source": [
    "print('Количество пропусков living_area =', df['living_area'].isna().sum())\n",
    "df['living_area'].value_counts()"
   ]
  },
  {
   "cell_type": "markdown",
   "metadata": {},
   "source": [
    "Пропуски living_area оставляем, либо есть вероятность внести некорректную площадь."
   ]
  },
  {
   "cell_type": "code",
   "execution_count": 13,
   "metadata": {},
   "outputs": [
    {
     "name": "stdout",
     "output_type": "stream",
     "text": [
      "Количество пропусков kitchen_area = 2231\n",
      "\n",
      "6.00     1300\n",
      "10.00    1262\n",
      "8.00     1110\n",
      "9.00     1100\n",
      "7.00     1062\n",
      "         ... \n",
      "7.78        1\n",
      "7.12        1\n",
      "13.73       1\n",
      "14.74       1\n",
      "16.74       1\n",
      "Name: kitchen_area, Length: 966, dtype: int64\n"
     ]
    }
   ],
   "source": [
    "print('Количество пропусков kitchen_area =', df['kitchen_area'].isna().sum())\n",
    "print()\n",
    "print(df['kitchen_area'].value_counts())"
   ]
  },
  {
   "cell_type": "markdown",
   "metadata": {},
   "source": [
    "Пропуски kitchen_area оставляем, либо есть вероятность внести некорректную площадь"
   ]
  },
  {
   "cell_type": "code",
   "execution_count": 14,
   "metadata": {},
   "outputs": [
    {
     "name": "stdout",
     "output_type": "stream",
     "text": [
      "Количество пропусков days_exposition = 3172\n",
      "\n",
      "45.0      880\n",
      "60.0      538\n",
      "7.0       234\n",
      "30.0      208\n",
      "90.0      201\n",
      "         ... \n",
      "969.0       1\n",
      "1147.0      1\n",
      "1.0         1\n",
      "1148.0      1\n",
      "1174.0      1\n",
      "Name: days_exposition, Length: 1139, dtype: int64\n"
     ]
    }
   ],
   "source": [
    "# Пропуски не меняем, непонятно, как менять\n",
    "print('Количество пропусков days_exposition =', df['days_exposition'].isna().sum())\n",
    "print()\n",
    "print(df['days_exposition'].value_counts())"
   ]
  },
  {
   "cell_type": "code",
   "execution_count": 15,
   "metadata": {},
   "outputs": [
    {
     "name": "stdout",
     "output_type": "stream",
     "text": [
      "Количество пропусков ponds_around3000 = 5508\n",
      "\n",
      "0.0    9044\n",
      "1.0    5677\n",
      "2.0    1886\n",
      "3.0    1498\n",
      "Name: ponds_around3000, dtype: int64\n"
     ]
    }
   ],
   "source": [
    "# Оставляем пропуски, непонятно, чем заменить\n",
    "print('Количество пропусков ponds_around3000 =', df['ponds_around3000'].isna().sum())\n",
    "print()\n",
    "print(df['ponds_around3000'].value_counts())"
   ]
  },
  {
   "cell_type": "code",
   "execution_count": 16,
   "metadata": {},
   "outputs": [
    {
     "name": "stdout",
     "output_type": "stream",
     "text": [
      "Количество пропусков parks_around3000 = 5508\n",
      "\n",
      "0.0    10064\n",
      "1.0     5657\n",
      "2.0     1739\n",
      "3.0      645\n",
      "Name: parks_around3000, dtype: int64\n"
     ]
    }
   ],
   "source": [
    "# Оставляем пропуски, непонятно, чем заменить\n",
    "print('Количество пропусков parks_around3000 =', df['parks_around3000'].isna().sum())\n",
    "print()\n",
    "print(df['parks_around3000'].value_counts())"
   ]
  },
  {
   "cell_type": "code",
   "execution_count": 17,
   "metadata": {},
   "outputs": [
    {
     "name": "stdout",
     "output_type": "stream",
     "text": [
      "Количество пропусков cityCenters_nearest = 5509\n",
      "\n",
      "8460.0     61\n",
      "20802.0    32\n",
      "10720.0    30\n",
      "20444.0    27\n",
      "8434.0     27\n",
      "           ..\n",
      "8565.0      1\n",
      "5278.0      1\n",
      "11575.0     1\n",
      "3205.0      1\n",
      "4234.0      1\n",
      "Name: cityCenters_nearest, Length: 7637, dtype: int64\n"
     ]
    }
   ],
   "source": [
    "# Оставляем пропуски, непонятно, чем заменить\n",
    "print('Количество пропусков cityCenters_nearest =', df['cityCenters_nearest'].isna().sum())\n",
    "print()\n",
    "print(df['cityCenters_nearest'].value_counts())"
   ]
  },
  {
   "cell_type": "code",
   "execution_count": 18,
   "metadata": {},
   "outputs": [
    {
     "name": "stdout",
     "output_type": "stream",
     "text": [
      "Количество пропусков airports_nearest = 5532\n",
      "\n",
      "37434.0    61\n",
      "21928.0    32\n",
      "44870.0    30\n",
      "39946.0    30\n",
      "18732.0    27\n",
      "           ..\n",
      "42695.0     1\n",
      "53478.0     1\n",
      "20335.0     1\n",
      "33699.0     1\n",
      "20875.0     1\n",
      "Name: airports_nearest, Length: 8269, dtype: int64\n"
     ]
    }
   ],
   "source": [
    "# Оставляем пропуски, непонятно, чем заменить\n",
    "print('Количество пропусков airports_nearest =', df['airports_nearest'].isna().sum())\n",
    "print()\n",
    "print(df['airports_nearest'].value_counts())"
   ]
  },
  {
   "cell_type": "code",
   "execution_count": 19,
   "metadata": {},
   "outputs": [
    {
     "name": "stdout",
     "output_type": "stream",
     "text": [
      "Количество пропусков ceiling_height = 9118\n",
      "\n",
      "2.50     3515\n",
      "2.60     1646\n",
      "2.70     1573\n",
      "3.00     1111\n",
      "2.80      988\n",
      "         ... \n",
      "4.25        1\n",
      "3.39        1\n",
      "3.93        1\n",
      "10.30       1\n",
      "4.65        1\n",
      "Name: ceiling_height, Length: 183, dtype: int64\n"
     ]
    }
   ],
   "source": [
    "# Заменим пропуски на медианное значение\n",
    "print('Количество пропусков ceiling_height =', df['ceiling_height'].isna().sum())\n",
    "print()\n",
    "print(df['ceiling_height'].value_counts())"
   ]
  },
  {
   "cell_type": "code",
   "execution_count": 20,
   "metadata": {},
   "outputs": [],
   "source": [
    "df['ceiling_height'] = df['ceiling_height'].fillna(df['ceiling_height'].median())"
   ]
  },
  {
   "cell_type": "code",
   "execution_count": 21,
   "metadata": {},
   "outputs": [
    {
     "name": "stdout",
     "output_type": "stream",
     "text": [
      "Количество пропусков ceiling_height = 0\n"
     ]
    }
   ],
   "source": [
    "print('Количество пропусков ceiling_height =', df['ceiling_height'].isna().sum())"
   ]
  },
  {
   "cell_type": "code",
   "execution_count": 22,
   "metadata": {},
   "outputs": [
    {
     "name": "stdout",
     "output_type": "stream",
     "text": [
      "Количество пропусков balcony = 11480\n",
      "\n",
      "1.0    4195\n",
      "0.0    3713\n",
      "2.0    3657\n",
      "5.0     304\n",
      "4.0     183\n",
      "3.0      81\n",
      "Name: balcony, dtype: int64\n"
     ]
    }
   ],
   "source": [
    "# Скорее всего нету балкона, заменим пропуски на 0\n",
    "print('Количество пропусков balcony =', df['balcony'].isna().sum())\n",
    "print()\n",
    "print(df['balcony'].value_counts())"
   ]
  },
  {
   "cell_type": "code",
   "execution_count": 23,
   "metadata": {},
   "outputs": [],
   "source": [
    "df['balcony'] = df['balcony'].fillna(0)"
   ]
  },
  {
   "cell_type": "code",
   "execution_count": 24,
   "metadata": {},
   "outputs": [],
   "source": [
    "df['balcony'] = df['balcony'].astype('int64') # Меняем тип на int"
   ]
  },
  {
   "cell_type": "code",
   "execution_count": 25,
   "metadata": {},
   "outputs": [
    {
     "name": "stdout",
     "output_type": "stream",
     "text": [
      "Количество пропусков balcony = 0\n"
     ]
    }
   ],
   "source": [
    "print('Количество пропусков balcony =', df['balcony'].isna().sum())"
   ]
  },
  {
   "cell_type": "code",
   "execution_count": 26,
   "metadata": {},
   "outputs": [
    {
     "name": "stdout",
     "output_type": "stream",
     "text": [
      "Количество пропусков ponds_nearest = 14552\n",
      "\n",
      "427.0     69\n",
      "454.0     41\n",
      "153.0     40\n",
      "433.0     39\n",
      "564.0     37\n",
      "          ..\n",
      "105.0      1\n",
      "59.0       1\n",
      "1069.0     1\n",
      "1270.0     1\n",
      "995.0      1\n",
      "Name: ponds_nearest, Length: 1096, dtype: int64\n"
     ]
    }
   ],
   "source": [
    "# Оставляем пропуски, непонятно, чем заменить\n",
    "print('Количество пропусков ponds_nearest =', df['ponds_nearest'].isna().sum())\n",
    "print()\n",
    "print(df['ponds_nearest'].value_counts())"
   ]
  },
  {
   "cell_type": "code",
   "execution_count": 27,
   "metadata": {},
   "outputs": [
    {
     "name": "stdout",
     "output_type": "stream",
     "text": [
      "Количество пропусков parks_nearest = 15568\n",
      "\n",
      "441.0     67\n",
      "173.0     41\n",
      "392.0     41\n",
      "456.0     40\n",
      "471.0     31\n",
      "          ..\n",
      "932.0      1\n",
      "730.0      1\n",
      "861.0      1\n",
      "1186.0     1\n",
      "929.0      1\n",
      "Name: parks_nearest, Length: 995, dtype: int64\n"
     ]
    }
   ],
   "source": [
    "# Оставляем пропуски, непонятно, чем заменить\n",
    "print('Количество пропусков parks_nearest =', df['parks_nearest'].isna().sum())\n",
    "print()\n",
    "print(df['parks_nearest'].value_counts())"
   ]
  },
  {
   "cell_type": "code",
   "execution_count": 28,
   "metadata": {},
   "outputs": [
    {
     "name": "stdout",
     "output_type": "stream",
     "text": [
      "Количество пропусков is_apartment = 20838\n",
      "\n",
      "False    2725\n",
      "True       50\n",
      "Name: is_apartment, dtype: int64\n"
     ]
    }
   ],
   "source": [
    "print('Количество пропусков is_apartment =', df['is_apartment'].isna().sum())\n",
    "print()\n",
    "print(df['is_apartment'].value_counts())"
   ]
  },
  {
   "cell_type": "markdown",
   "metadata": {},
   "source": [
    "Возможно, пропуски - это False, обычные квартиры аппартаментами не являются. Заполним пропуски в is_apartment значением False"
   ]
  },
  {
   "cell_type": "code",
   "execution_count": 29,
   "metadata": {},
   "outputs": [],
   "source": [
    "df['is_apartment'] = df['is_apartment'].fillna(False)"
   ]
  },
  {
   "cell_type": "code",
   "execution_count": 30,
   "metadata": {},
   "outputs": [],
   "source": [
    "df['is_apartment'] = df['is_apartment'].astype('bool') # Меняем тип на bool"
   ]
  },
  {
   "cell_type": "code",
   "execution_count": 31,
   "metadata": {},
   "outputs": [
    {
     "name": "stdout",
     "output_type": "stream",
     "text": [
      "Количество пропусков is_apartment = 0\n"
     ]
    }
   ],
   "source": [
    "print('Количество пропусков is_apartment =', df['is_apartment'].isna().sum())"
   ]
  },
  {
   "cell_type": "markdown",
   "metadata": {},
   "source": [
    "### Анализ полей\n",
    "\n",
    "- total_images         \n",
    "- open_plan            \n",
    "- floor                \n",
    "- rooms                \n",
    "- studio               \n",
    "- total_area           \n",
    "- last_price           \n",
    "- first_day_exposition "
   ]
  },
  {
   "cell_type": "code",
   "execution_count": 32,
   "metadata": {},
   "outputs": [
    {
     "name": "stdout",
     "output_type": "stream",
     "text": [
      "count    23613.000000\n",
      "mean         9.874518\n",
      "std          5.681541\n",
      "min          0.000000\n",
      "25%          6.000000\n",
      "50%          9.000000\n",
      "75%         14.000000\n",
      "max         50.000000\n",
      "Name: total_images, dtype: float64\n",
      "\n",
      "[20  7 10  0  2  6  5 18  9  1 16 11  8 12 13  3 15 17 14 19 32  4 35 39\n",
      " 23 21 27 30 24 25 28 31 22 29 26 50 42 37]\n"
     ]
    }
   ],
   "source": [
    "print(df['total_images'].describe())\n",
    "print()\n",
    "print(df['total_images'].unique())"
   ]
  },
  {
   "cell_type": "markdown",
   "metadata": {},
   "source": [
    "Аномалий в поле total_images не обнаружено, оставляем как есть"
   ]
  },
  {
   "cell_type": "code",
   "execution_count": 33,
   "metadata": {},
   "outputs": [
    {
     "name": "stdout",
     "output_type": "stream",
     "text": [
      "[False  True]\n"
     ]
    }
   ],
   "source": [
    "print(df['open_plan'].unique())"
   ]
  },
  {
   "cell_type": "markdown",
   "metadata": {},
   "source": [
    "Аномалий в поле open_plan не обнаружено, оставляем как есть"
   ]
  },
  {
   "cell_type": "code",
   "execution_count": 34,
   "metadata": {},
   "outputs": [
    {
     "name": "stdout",
     "output_type": "stream",
     "text": [
      "[ 8  1  4  9 13  5  6 22 26  7  3  2 11 15 18 10 19 16 20 27 25 17 14 12\n",
      " 21 28 24 23 30 29 32 33 31]\n",
      "\n",
      "count    23613.000000\n",
      "mean         5.877313\n",
      "std          4.873539\n",
      "min          1.000000\n",
      "25%          2.000000\n",
      "50%          4.000000\n",
      "75%          8.000000\n",
      "max         33.000000\n",
      "Name: floor, dtype: float64\n"
     ]
    }
   ],
   "source": [
    "print(df['floor'].unique()) \n",
    "print()\n",
    "print(df['floor'].describe())"
   ]
  },
  {
   "cell_type": "markdown",
   "metadata": {},
   "source": [
    "Аномалий в поле floor не обнаружено, оставляем как есть"
   ]
  },
  {
   "cell_type": "code",
   "execution_count": 35,
   "metadata": {},
   "outputs": [
    {
     "name": "stdout",
     "output_type": "stream",
     "text": [
      "[ 3  1  2  4  5  6  0  7 11  8 14 10 15  9 19 16 12]\n",
      "\n",
      "count    23613.000000\n",
      "mean         2.071147\n",
      "std          1.078380\n",
      "min          0.000000\n",
      "25%          1.000000\n",
      "50%          2.000000\n",
      "75%          3.000000\n",
      "max         19.000000\n",
      "Name: rooms, dtype: float64\n"
     ]
    }
   ],
   "source": [
    "print(df['rooms'].unique())\n",
    "print()\n",
    "print(df['rooms'].describe())"
   ]
  },
  {
   "cell_type": "markdown",
   "metadata": {},
   "source": [
    "Аномалий в поле rooms не обнаружено, оставляем как есть"
   ]
  },
  {
   "cell_type": "code",
   "execution_count": 36,
   "metadata": {},
   "outputs": [
    {
     "name": "stdout",
     "output_type": "stream",
     "text": [
      "[False  True]\n",
      "\n",
      "count     23613\n",
      "unique        2\n",
      "top       False\n",
      "freq      23467\n",
      "Name: studio, dtype: object\n"
     ]
    }
   ],
   "source": [
    "print(df['studio'].unique())\n",
    "print()\n",
    "print(df['studio'].describe())"
   ]
  },
  {
   "cell_type": "markdown",
   "metadata": {},
   "source": [
    "Аномалий в поле studio не обнаружено, оставляем как есть"
   ]
  },
  {
   "cell_type": "code",
   "execution_count": 37,
   "metadata": {},
   "outputs": [
    {
     "name": "stdout",
     "output_type": "stream",
     "text": [
      "[108.    40.4   56.   ...  66.86 133.81  76.75]\n",
      "\n",
      "count    23613.000000\n",
      "mean        60.340678\n",
      "std         35.648988\n",
      "min         12.000000\n",
      "25%         40.000000\n",
      "50%         52.000000\n",
      "75%         69.800000\n",
      "max        900.000000\n",
      "Name: total_area, dtype: float64\n"
     ]
    }
   ],
   "source": [
    "print(df['total_area'].unique()) \n",
    "print()\n",
    "print(df['total_area'].describe()) "
   ]
  },
  {
   "cell_type": "markdown",
   "metadata": {},
   "source": [
    "Аномалий в поле total_area не обнаружено, оставляем как есть"
   ]
  },
  {
   "cell_type": "code",
   "execution_count": 38,
   "metadata": {},
   "outputs": [
    {
     "name": "stdout",
     "output_type": "stream",
     "text": [
      "[13000000.  3350000.  5196000. ...  6151120. 21400000. 11475000.]\n",
      "\n",
      "count    2.361300e+04\n",
      "mean     6.540555e+06\n",
      "std      1.090172e+07\n",
      "min      1.219000e+04\n",
      "25%      3.400000e+06\n",
      "50%      4.650000e+06\n",
      "75%      6.799000e+06\n",
      "max      7.630000e+08\n",
      "Name: last_price, dtype: float64\n"
     ]
    }
   ],
   "source": [
    "print(df['last_price'].unique()) \n",
    "print()\n",
    "print(df['last_price'].describe()) "
   ]
  },
  {
   "cell_type": "markdown",
   "metadata": {},
   "source": [
    "Аномалий в поле last_price не обнаружено, оставляем как есть"
   ]
  },
  {
   "cell_type": "code",
   "execution_count": 39,
   "metadata": {},
   "outputs": [
    {
     "name": "stdout",
     "output_type": "stream",
     "text": [
      "['2019-03-07T00:00:00' '2018-12-04T00:00:00' '2015-08-20T00:00:00' ...\n",
      " '2014-12-29T00:00:00' '2016-09-12T00:00:00' '2015-07-19T00:00:00']\n"
     ]
    }
   ],
   "source": [
    "print(df['first_day_exposition'].unique())"
   ]
  },
  {
   "cell_type": "markdown",
   "metadata": {},
   "source": [
    "В столбце first_day_exposition отображается дата публикации, и логично, что тип данных должен быть дата. Применим метод to_datetime()"
   ]
  },
  {
   "cell_type": "code",
   "execution_count": 40,
   "metadata": {},
   "outputs": [],
   "source": [
    "df['first_day_exposition'] = pd.to_datetime(df['first_day_exposition'], format='%Y-%m-%dT%H:%M:%S')"
   ]
  },
  {
   "cell_type": "markdown",
   "metadata": {},
   "source": [
    "Проверяем результаты"
   ]
  },
  {
   "cell_type": "code",
   "execution_count": 41,
   "metadata": {},
   "outputs": [
    {
     "name": "stdout",
     "output_type": "stream",
     "text": [
      "<class 'pandas.core.frame.DataFrame'>\n",
      "Int64Index: 23613 entries, 0 to 23698\n",
      "Data columns (total 22 columns):\n",
      " #   Column                Non-Null Count  Dtype         \n",
      "---  ------                --------------  -----         \n",
      " 0   total_images          23613 non-null  int64         \n",
      " 1   last_price            23613 non-null  float64       \n",
      " 2   total_area            23613 non-null  float64       \n",
      " 3   first_day_exposition  23613 non-null  datetime64[ns]\n",
      " 4   rooms                 23613 non-null  int64         \n",
      " 5   ceiling_height        23613 non-null  float64       \n",
      " 6   floors_total          23613 non-null  int64         \n",
      " 7   living_area           21743 non-null  float64       \n",
      " 8   floor                 23613 non-null  int64         \n",
      " 9   is_apartment          23613 non-null  bool          \n",
      " 10  studio                23613 non-null  bool          \n",
      " 11  open_plan             23613 non-null  bool          \n",
      " 12  kitchen_area          21382 non-null  float64       \n",
      " 13  balcony               23613 non-null  int64         \n",
      " 14  locality_name         23565 non-null  object        \n",
      " 15  airports_nearest      18081 non-null  float64       \n",
      " 16  cityCenters_nearest   18104 non-null  float64       \n",
      " 17  parks_around3000      18105 non-null  float64       \n",
      " 18  parks_nearest         8045 non-null   float64       \n",
      " 19  ponds_around3000      18105 non-null  float64       \n",
      " 20  ponds_nearest         9061 non-null   float64       \n",
      " 21  days_exposition       20441 non-null  float64       \n",
      "dtypes: bool(3), datetime64[ns](1), float64(12), int64(5), object(1)\n",
      "memory usage: 3.7+ MB\n"
     ]
    }
   ],
   "source": [
    "df.info()"
   ]
  },
  {
   "cell_type": "markdown",
   "metadata": {},
   "source": [
    "# Вывод\n",
    "Есть много пропущенных значений в полях, которые не пригодятся для анализа, поэтому не стоит уделять им большое внимание."
   ]
  },
  {
   "cell_type": "markdown",
   "metadata": {},
   "source": [
    "## Расчёты и добавление результатов в таблицу"
   ]
  },
  {
   "cell_type": "markdown",
   "metadata": {},
   "source": [
    "### Вычисление цены квадратного метра"
   ]
  },
  {
   "cell_type": "code",
   "execution_count": 42,
   "metadata": {},
   "outputs": [],
   "source": [
    "df['price_square_meter'] = df['last_price'] / df['total_area']"
   ]
  },
  {
   "cell_type": "code",
   "execution_count": 43,
   "metadata": {},
   "outputs": [
    {
     "data": {
      "text/plain": [
       "0        120370.370370\n",
       "1         82920.792079\n",
       "2         92785.714286\n",
       "3        408176.100629\n",
       "4        100000.000000\n",
       "             ...      \n",
       "23694     72490.845228\n",
       "23695     52542.372881\n",
       "23696     44091.710758\n",
       "23697    149511.400651\n",
       "23698     41795.665635\n",
       "Name: price_square_meter, Length: 23613, dtype: float64"
      ]
     },
     "execution_count": 43,
     "metadata": {},
     "output_type": "execute_result"
    }
   ],
   "source": [
    "df['price_square_meter'] # Проверяем, что получилось"
   ]
  },
  {
   "cell_type": "markdown",
   "metadata": {},
   "source": [
    "### Вычисление полей: день недели, месяц и год публикации объявления"
   ]
  },
  {
   "cell_type": "code",
   "execution_count": 44,
   "metadata": {},
   "outputs": [],
   "source": [
    "df['first_day_exposition_year'] = df['first_day_exposition'].dt.year\n",
    "df['first_day_exposition_month'] = df['first_day_exposition'].dt.month\n",
    "df['first_day_exposition_weekday'] = df['first_day_exposition'].dt.weekday"
   ]
  },
  {
   "cell_type": "markdown",
   "metadata": {},
   "source": [
    "Проверяем, что получилось"
   ]
  },
  {
   "cell_type": "code",
   "execution_count": 45,
   "metadata": {},
   "outputs": [
    {
     "data": {
      "text/html": [
       "<div>\n",
       "<style scoped>\n",
       "    .dataframe tbody tr th:only-of-type {\n",
       "        vertical-align: middle;\n",
       "    }\n",
       "\n",
       "    .dataframe tbody tr th {\n",
       "        vertical-align: top;\n",
       "    }\n",
       "\n",
       "    .dataframe thead th {\n",
       "        text-align: right;\n",
       "    }\n",
       "</style>\n",
       "<table border=\"1\" class=\"dataframe\">\n",
       "  <thead>\n",
       "    <tr style=\"text-align: right;\">\n",
       "      <th></th>\n",
       "      <th>first_day_exposition_year</th>\n",
       "      <th>first_day_exposition_month</th>\n",
       "      <th>first_day_exposition_weekday</th>\n",
       "      <th>first_day_exposition</th>\n",
       "    </tr>\n",
       "  </thead>\n",
       "  <tbody>\n",
       "    <tr>\n",
       "      <th>0</th>\n",
       "      <td>2019</td>\n",
       "      <td>3</td>\n",
       "      <td>3</td>\n",
       "      <td>2019-03-07</td>\n",
       "    </tr>\n",
       "    <tr>\n",
       "      <th>1</th>\n",
       "      <td>2018</td>\n",
       "      <td>12</td>\n",
       "      <td>1</td>\n",
       "      <td>2018-12-04</td>\n",
       "    </tr>\n",
       "    <tr>\n",
       "      <th>2</th>\n",
       "      <td>2015</td>\n",
       "      <td>8</td>\n",
       "      <td>3</td>\n",
       "      <td>2015-08-20</td>\n",
       "    </tr>\n",
       "    <tr>\n",
       "      <th>3</th>\n",
       "      <td>2015</td>\n",
       "      <td>7</td>\n",
       "      <td>4</td>\n",
       "      <td>2015-07-24</td>\n",
       "    </tr>\n",
       "    <tr>\n",
       "      <th>4</th>\n",
       "      <td>2018</td>\n",
       "      <td>6</td>\n",
       "      <td>1</td>\n",
       "      <td>2018-06-19</td>\n",
       "    </tr>\n",
       "    <tr>\n",
       "      <th>...</th>\n",
       "      <td>...</td>\n",
       "      <td>...</td>\n",
       "      <td>...</td>\n",
       "      <td>...</td>\n",
       "    </tr>\n",
       "    <tr>\n",
       "      <th>23694</th>\n",
       "      <td>2017</td>\n",
       "      <td>3</td>\n",
       "      <td>1</td>\n",
       "      <td>2017-03-21</td>\n",
       "    </tr>\n",
       "    <tr>\n",
       "      <th>23695</th>\n",
       "      <td>2018</td>\n",
       "      <td>1</td>\n",
       "      <td>0</td>\n",
       "      <td>2018-01-15</td>\n",
       "    </tr>\n",
       "    <tr>\n",
       "      <th>23696</th>\n",
       "      <td>2018</td>\n",
       "      <td>2</td>\n",
       "      <td>6</td>\n",
       "      <td>2018-02-11</td>\n",
       "    </tr>\n",
       "    <tr>\n",
       "      <th>23697</th>\n",
       "      <td>2017</td>\n",
       "      <td>3</td>\n",
       "      <td>1</td>\n",
       "      <td>2017-03-28</td>\n",
       "    </tr>\n",
       "    <tr>\n",
       "      <th>23698</th>\n",
       "      <td>2017</td>\n",
       "      <td>7</td>\n",
       "      <td>4</td>\n",
       "      <td>2017-07-21</td>\n",
       "    </tr>\n",
       "  </tbody>\n",
       "</table>\n",
       "<p>23613 rows × 4 columns</p>\n",
       "</div>"
      ],
      "text/plain": [
       "       first_day_exposition_year  first_day_exposition_month  \\\n",
       "0                           2019                           3   \n",
       "1                           2018                          12   \n",
       "2                           2015                           8   \n",
       "3                           2015                           7   \n",
       "4                           2018                           6   \n",
       "...                          ...                         ...   \n",
       "23694                       2017                           3   \n",
       "23695                       2018                           1   \n",
       "23696                       2018                           2   \n",
       "23697                       2017                           3   \n",
       "23698                       2017                           7   \n",
       "\n",
       "       first_day_exposition_weekday first_day_exposition  \n",
       "0                                 3           2019-03-07  \n",
       "1                                 1           2018-12-04  \n",
       "2                                 3           2015-08-20  \n",
       "3                                 4           2015-07-24  \n",
       "4                                 1           2018-06-19  \n",
       "...                             ...                  ...  \n",
       "23694                             1           2017-03-21  \n",
       "23695                             0           2018-01-15  \n",
       "23696                             6           2018-02-11  \n",
       "23697                             1           2017-03-28  \n",
       "23698                             4           2017-07-21  \n",
       "\n",
       "[23613 rows x 4 columns]"
      ]
     },
     "execution_count": 45,
     "metadata": {},
     "output_type": "execute_result"
    }
   ],
   "source": [
    "df[['first_day_exposition_year', 'first_day_exposition_month', 'first_day_exposition_weekday', 'first_day_exposition']]"
   ]
  },
  {
   "cell_type": "markdown",
   "metadata": {},
   "source": [
    "### Категоризация этажа"
   ]
  },
  {
   "cell_type": "code",
   "execution_count": 46,
   "metadata": {},
   "outputs": [],
   "source": [
    "def floor_category(row):\n",
    "    if row['floor'] == 1:\n",
    "        return 'первый'\n",
    "    elif row['floor'] == row['floors_total']:\n",
    "        return 'последний'\n",
    "    elif 1 < row['floor'] < row['floors_total']:\n",
    "        return 'другой'\n",
    "\n",
    "df['floor_cathegory'] = df.apply(floor_category, axis=1)"
   ]
  },
  {
   "cell_type": "code",
   "execution_count": 47,
   "metadata": {},
   "outputs": [
    {
     "data": {
      "text/plain": [
       "0        другой\n",
       "1        первый\n",
       "2        другой\n",
       "3        другой\n",
       "4        другой\n",
       "          ...  \n",
       "23694    другой\n",
       "23695    другой\n",
       "23696    первый\n",
       "23697    другой\n",
       "23698    первый\n",
       "Name: floor_cathegory, Length: 23613, dtype: object"
      ]
     },
     "execution_count": 47,
     "metadata": {},
     "output_type": "execute_result"
    }
   ],
   "source": [
    "df['floor_cathegory']"
   ]
  },
  {
   "cell_type": "markdown",
   "metadata": {},
   "source": [
    "### Cоотношение жилой и общей площади, а также отношение площади кухни к общей"
   ]
  },
  {
   "cell_type": "code",
   "execution_count": 48,
   "metadata": {},
   "outputs": [],
   "source": [
    "#Добавим новые столбцы с отношением площали кухни или жилого помещения к общей площади квартиры\n",
    "df['living_to_total_area'] = df['living_area'] / df['total_area']\n",
    "df['kitchen_to_total_area'] = df['kitchen_area'] / df['total_area']"
   ]
  },
  {
   "cell_type": "code",
   "execution_count": 49,
   "metadata": {},
   "outputs": [
    {
     "data": {
      "text/html": [
       "<div>\n",
       "<style scoped>\n",
       "    .dataframe tbody tr th:only-of-type {\n",
       "        vertical-align: middle;\n",
       "    }\n",
       "\n",
       "    .dataframe tbody tr th {\n",
       "        vertical-align: top;\n",
       "    }\n",
       "\n",
       "    .dataframe thead th {\n",
       "        text-align: right;\n",
       "    }\n",
       "</style>\n",
       "<table border=\"1\" class=\"dataframe\">\n",
       "  <thead>\n",
       "    <tr style=\"text-align: right;\">\n",
       "      <th></th>\n",
       "      <th>living_to_total_area</th>\n",
       "      <th>kitchen_to_total_area</th>\n",
       "    </tr>\n",
       "  </thead>\n",
       "  <tbody>\n",
       "    <tr>\n",
       "      <th>0</th>\n",
       "      <td>0.472222</td>\n",
       "      <td>0.231481</td>\n",
       "    </tr>\n",
       "    <tr>\n",
       "      <th>1</th>\n",
       "      <td>0.460396</td>\n",
       "      <td>0.272277</td>\n",
       "    </tr>\n",
       "    <tr>\n",
       "      <th>2</th>\n",
       "      <td>0.612500</td>\n",
       "      <td>0.148214</td>\n",
       "    </tr>\n",
       "    <tr>\n",
       "      <th>3</th>\n",
       "      <td>NaN</td>\n",
       "      <td>NaN</td>\n",
       "    </tr>\n",
       "    <tr>\n",
       "      <th>4</th>\n",
       "      <td>0.320000</td>\n",
       "      <td>0.410000</td>\n",
       "    </tr>\n",
       "    <tr>\n",
       "      <th>...</th>\n",
       "      <td>...</td>\n",
       "      <td>...</td>\n",
       "    </tr>\n",
       "    <tr>\n",
       "      <th>23694</th>\n",
       "      <td>0.547792</td>\n",
       "      <td>0.103356</td>\n",
       "    </tr>\n",
       "    <tr>\n",
       "      <th>23695</th>\n",
       "      <td>0.644068</td>\n",
       "      <td>0.144068</td>\n",
       "    </tr>\n",
       "    <tr>\n",
       "      <th>23696</th>\n",
       "      <td>0.523810</td>\n",
       "      <td>NaN</td>\n",
       "    </tr>\n",
       "    <tr>\n",
       "      <th>23697</th>\n",
       "      <td>NaN</td>\n",
       "      <td>0.303583</td>\n",
       "    </tr>\n",
       "    <tr>\n",
       "      <th>23698</th>\n",
       "      <td>0.380805</td>\n",
       "      <td>0.278638</td>\n",
       "    </tr>\n",
       "  </tbody>\n",
       "</table>\n",
       "<p>23613 rows × 2 columns</p>\n",
       "</div>"
      ],
      "text/plain": [
       "       living_to_total_area  kitchen_to_total_area\n",
       "0                  0.472222               0.231481\n",
       "1                  0.460396               0.272277\n",
       "2                  0.612500               0.148214\n",
       "3                       NaN                    NaN\n",
       "4                  0.320000               0.410000\n",
       "...                     ...                    ...\n",
       "23694              0.547792               0.103356\n",
       "23695              0.644068               0.144068\n",
       "23696              0.523810                    NaN\n",
       "23697                   NaN               0.303583\n",
       "23698              0.380805               0.278638\n",
       "\n",
       "[23613 rows x 2 columns]"
      ]
     },
     "execution_count": 49,
     "metadata": {},
     "output_type": "execute_result"
    }
   ],
   "source": [
    "df[['living_to_total_area', 'kitchen_to_total_area']]"
   ]
  },
  {
   "cell_type": "markdown",
   "metadata": {},
   "source": [
    "## Исследовательский анализ данных"
   ]
  },
  {
   "cell_type": "markdown",
   "metadata": {},
   "source": [
    "### Изучение параметров: площадь, цена, число комнат, высота потолков"
   ]
  },
  {
   "cell_type": "code",
   "execution_count": 50,
   "metadata": {},
   "outputs": [
    {
     "name": "stdout",
     "output_type": "stream",
     "text": [
      "count    23613.000000\n",
      "mean        60.340678\n",
      "std         35.648988\n",
      "min         12.000000\n",
      "25%         40.000000\n",
      "50%         52.000000\n",
      "75%         69.800000\n",
      "max        900.000000\n",
      "Name: total_area, dtype: float64\n"
     ]
    },
    {
     "data": {
      "image/png": "[encoded data removed]",
      "text/plain": [
       "<Figure size 576x576 with 1 Axes>"
      ]
     },
     "metadata": {
      "needs_background": "light"
     },
     "output_type": "display_data"
    }
   ],
   "source": [
    "# total_area — площадь квартиры в квадратных метрах (м²\n",
    "df.plot(y = 'total_area', kind = 'hist', bins = 100, grid = True, range = (0, 500), figsize = (8, 8))\n",
    "print(df['total_area'].describe())"
   ]
  },
  {
   "cell_type": "markdown",
   "metadata": {},
   "source": [
    "Распределение данных нормальное, есть выбросы но они не сильно влияют на данные."
   ]
  },
  {
   "cell_type": "code",
   "execution_count": 51,
   "metadata": {},
   "outputs": [
    {
     "data": {
      "text/plain": [
       "count    2.361300e+04\n",
       "mean     6.540555e+06\n",
       "std      1.090172e+07\n",
       "min      1.219000e+04\n",
       "25%      3.400000e+06\n",
       "50%      4.650000e+06\n",
       "75%      6.799000e+06\n",
       "max      7.630000e+08\n",
       "Name: last_price, dtype: float64"
      ]
     },
     "execution_count": 51,
     "metadata": {},
     "output_type": "execute_result"
    },
    {
     "data": {
      "image/png": "[encoded data removed]",
      "text/plain": [
       "<Figure size 576x576 with 1 Axes>"
      ]
     },
     "metadata": {
      "needs_background": "light"
     },
     "output_type": "display_data"
    }
   ],
   "source": [
    "# last_price - Цена на момент снятия с публикации\n",
    "df.plot(y = 'last_price', kind = 'hist', bins = 100, grid = True, range = (0, 15000000), figsize = (8, 8))\n",
    "df['last_price'].describe()"
   ]
  },
  {
   "cell_type": "markdown",
   "metadata": {},
   "source": [
    "С данными все в порядке, видно, что значения выводятся в экспоненциальной записи чисел"
   ]
  },
  {
   "cell_type": "code",
   "execution_count": 52,
   "metadata": {},
   "outputs": [
    {
     "data": {
      "text/plain": [
       "count    23613.000000\n",
       "mean         2.071147\n",
       "std          1.078380\n",
       "min          0.000000\n",
       "25%          1.000000\n",
       "50%          2.000000\n",
       "75%          3.000000\n",
       "max         19.000000\n",
       "Name: rooms, dtype: float64"
      ]
     },
     "execution_count": 52,
     "metadata": {},
     "output_type": "execute_result"
    },
    {
     "data": {
      "image/png": "[encoded data removed]",
      "text/plain": [
       "<Figure size 576x576 with 1 Axes>"
      ]
     },
     "metadata": {
      "needs_background": "light"
     },
     "output_type": "display_data"
    }
   ],
   "source": [
    "# rooms - число комнат\n",
    "df.plot(y = 'rooms', kind = 'hist', bins = 19, grid = True, figsize = (8, 8))\n",
    "df['rooms'].describe()"
   ]
  },
  {
   "cell_type": "markdown",
   "metadata": {},
   "source": [
    "Аномалий не обнаружено."
   ]
  },
  {
   "cell_type": "code",
   "execution_count": 53,
   "metadata": {},
   "outputs": [
    {
     "data": {
      "text/plain": [
       "count    23613.000000\n",
       "mean         2.724581\n",
       "std          0.990085\n",
       "min          1.000000\n",
       "25%          2.600000\n",
       "50%          2.650000\n",
       "75%          2.700000\n",
       "max        100.000000\n",
       "Name: ceiling_height, dtype: float64"
      ]
     },
     "execution_count": 53,
     "metadata": {},
     "output_type": "execute_result"
    },
    {
     "data": {
      "image/png": "[encoded data removed]",
      "text/plain": [
       "<Figure size 576x576 with 1 Axes>"
      ]
     },
     "metadata": {
      "needs_background": "light"
     },
     "output_type": "display_data"
    }
   ],
   "source": [
    "# ceiling_height - высота потолков\n",
    "df.plot(y = 'ceiling_height', kind = 'hist', bins = 30, range = (2, 5), grid = True, figsize = (8,8))\n",
    "df['ceiling_height'].describe()"
   ]
  },
  {
   "cell_type": "markdown",
   "metadata": {},
   "source": [
    "Аномалий не обнаружено."
   ]
  },
  {
   "cell_type": "markdown",
   "metadata": {},
   "source": [
    "# Вывод:\n",
    "\n",
    "1. Общая площадь в нашей выборке колеблется от 12 до 900 м2, среднее значение 60, а медиана 52 м2. Распределение данных Гаусса.\n",
    "2. Цены на недвижимость имеют среднее значение в 6,5 млн руб., медиана 4,6 млн руб. Распределение данных Гаусса.\n",
    "3. Количество комнат колеблется от 1 до 19. Больше всего однокомнатных квартир.\n",
    "4. Высота потолков в среднем составляет 2,77 м, медиана 2,65 м.\n",
    "\n",
    "Во всех полях есть выбросы, например: 0 комнат, высота потолков 1 и 100 метров, а также цена квартиры в 12190 рублей. Об этих данных необходимо уточнить."
   ]
  },
  {
   "cell_type": "markdown",
   "metadata": {},
   "source": [
    "### Изучение времени продажи квартиры"
   ]
  },
  {
   "cell_type": "code",
   "execution_count": 54,
   "metadata": {},
   "outputs": [
    {
     "data": {
      "text/plain": [
       "count    20441.000000\n",
       "mean       180.884839\n",
       "std        219.685543\n",
       "min          1.000000\n",
       "25%         45.000000\n",
       "50%         95.000000\n",
       "75%        232.000000\n",
       "max       1580.000000\n",
       "Name: days_exposition, dtype: float64"
      ]
     },
     "execution_count": 54,
     "metadata": {},
     "output_type": "execute_result"
    }
   ],
   "source": [
    "df['days_exposition'].describe()"
   ]
  },
  {
   "cell_type": "code",
   "execution_count": 55,
   "metadata": {},
   "outputs": [
    {
     "data": {
      "text/plain": [
       "95.0"
      ]
     },
     "execution_count": 55,
     "metadata": {},
     "output_type": "execute_result"
    }
   ],
   "source": [
    "df['days_exposition'].median()"
   ]
  },
  {
   "cell_type": "markdown",
   "metadata": {},
   "source": [
    "Построим гистограмму по полю days_exposition — сколько дней было размещено объявление (от публикации до снятия)"
   ]
  },
  {
   "cell_type": "code",
   "execution_count": 56,
   "metadata": {},
   "outputs": [
    {
     "data": {
      "text/plain": [
       "<AxesSubplot:>"
      ]
     },
     "execution_count": 56,
     "metadata": {},
     "output_type": "execute_result"
    },
    {
     "data": {
      "image/png": "[encoded data removed]",
      "text/plain": [
       "<Figure size 432x288 with 1 Axes>"
      ]
     },
     "metadata": {
      "needs_background": "light"
     },
     "output_type": "display_data"
    }
   ],
   "source": [
    "df['days_exposition'].hist(bins = 50, range = (0, 500))"
   ]
  },
  {
   "cell_type": "markdown",
   "metadata": {},
   "source": [
    "# Вывод\n",
    "\n",
    "Самый большой пик около 45 дней. В среднем, квартиры продаются за 3 месяца. Минимальный срок продажи квартиры - 1 день, а максимальный - 1 год."
   ]
  },
  {
   "cell_type": "markdown",
   "metadata": {},
   "source": [
    "### Редкие и выбивающиеся значения"
   ]
  },
  {
   "cell_type": "code",
   "execution_count": 57,
   "metadata": {},
   "outputs": [],
   "source": [
    "# Будем считать, срок продажи квартиры возможным от 2 недель и до 1 года\n",
    "good_data = df.query('days_exposition > 14 & days_exposition < 365')\n",
    "\n",
    "# Будем считать, что цена за квадратный метр всегда выше 25 000 за 1 кв. метр, а максимальная цена \n",
    "# не может быть больше 240000 за 1 кв. метр\n",
    "good_data = good_data.query('price_square_meter > 25000 & price_square_meter < 240000')\n",
    "\n",
    "# Высота потолков в хрущевках в среднем 2.4 метра, в элитном жилье больше 3 метров\n",
    "good_data = good_data.query('ceiling_height > 2 & ceiling_height < 5')\n",
    "\n",
    "# Максимальное возможное количество комнат - 9\n",
    "good_data = good_data.query('rooms < 9')\n",
    "\n",
    "# Минимальная площадь квартиры 28м, макс. - 150м, кухни 2м, жилой площади 5м. \n",
    "good_data = good_data.query('total_area > 28 & total_area < 150')\n",
    "good_data = good_data.query('living_area > 5 & living_area < 106') \n",
    "good_data = good_data.query('kitchen_area > 2 & kitchen_area < 25') "
   ]
  },
  {
   "cell_type": "code",
   "execution_count": 58,
   "metadata": {},
   "outputs": [
    {
     "name": "stdout",
     "output_type": "stream",
     "text": [
      "Квантили поля rooms: (1, 7)\n",
      "Квантили поля days_exposition: (15.0, 364.00000000000006)\n",
      "Квантили поля price_square_meter: (25031.289111389236, 209024.39024390245)\n",
      "Квантили поля ceiling_height: (2.3, 3.0000000000000004)\n",
      "Квантили поля total_area: (28.1, 140.60000000000002)\n",
      "Квантили поля living_area: (5.4, 104.2)\n",
      "Квантили поля kitchen_area: (2.3, 23.4)\n"
     ]
    }
   ],
   "source": [
    "def get_min_max_quantils(column):\n",
    "    qr = good_data[column].quantile(.75) - good_data[column].quantile(.25) # Межквартильный размах\n",
    "   \n",
    "    min_value = good_data[column].min() # Нижний диапазон\n",
    "    min_quantile = good_data[column].quantile(.25) - qr * 3\n",
    "    max_value = good_data[column].max() # Верхний диапазон\n",
    "    max_quantil = good_data[column].quantile(.75) + qr * 3\n",
    "        \n",
    "    if min_quantile < min_value:\n",
    "        min_quantile = min_value\n",
    "    else:\n",
    "        min_quantile = min_quantile\n",
    "   \n",
    "    if max_quantil > max_value:\n",
    "        max_quantil = max_value\n",
    "    else:\n",
    "        max_quantil = max_quantil\n",
    "    \n",
    "    return min_quantile, max_quantil\n",
    "\n",
    "print('Квантили поля rooms:', get_min_max_quantils('rooms'))\n",
    "print('Квантили поля days_exposition:', get_min_max_quantils('days_exposition'))\n",
    "print('Квантили поля price_square_meter:', get_min_max_quantils('price_square_meter'))\n",
    "print('Квантили поля ceiling_height:', get_min_max_quantils('ceiling_height'))\n",
    "print('Квантили поля total_area:', get_min_max_quantils('total_area'))\n",
    "print('Квантили поля living_area:', get_min_max_quantils('living_area'))\n",
    "print('Квантили поля kitchen_area:', get_min_max_quantils('kitchen_area'))"
   ]
  },
  {
   "cell_type": "markdown",
   "metadata": {},
   "source": [
    "Построим гистограмму"
   ]
  },
  {
   "cell_type": "code",
   "execution_count": 59,
   "metadata": {
    "scrolled": false
   },
   "outputs": [
    {
     "data": {
      "image/png": "[encoded data removed]",
      "text/plain": [
       "<Figure size 432x288 with 1 Axes>"
      ]
     },
     "metadata": {
      "needs_background": "light"
     },
     "output_type": "display_data"
    },
    {
     "data": {
      "image/png": "[encoded data removed]",
      "text/plain": [
       "<Figure size 432x288 with 1 Axes>"
      ]
     },
     "metadata": {
      "needs_background": "light"
     },
     "output_type": "display_data"
    },
    {
     "data": {
      "image/png": "[encoded data removed]",
      "text/plain": [
       "<Figure size 432x288 with 1 Axes>"
      ]
     },
     "metadata": {
      "needs_background": "light"
     },
     "output_type": "display_data"
    },
    {
     "data": {
      "image/png": "[encoded data removed]",
      "text/plain": [
       "<Figure size 432x288 with 1 Axes>"
      ]
     },
     "metadata": {
      "needs_background": "light"
     },
     "output_type": "display_data"
    },
    {
     "data": {
      "image/png": "[encoded data removed]",
      "text/plain": [
       "<Figure size 432x288 with 1 Axes>"
      ]
     },
     "metadata": {
      "needs_background": "light"
     },
     "output_type": "display_data"
    },
    {
     "data": {
      "image/png": "[encoded data removed]",
      "text/plain": [
       "<Figure size 432x288 with 1 Axes>"
      ]
     },
     "metadata": {
      "needs_background": "light"
     },
     "output_type": "display_data"
    },
    {
     "data": {
      "image/png": "[encoded data removed]",
      "text/plain": [
       "<Figure size 432x288 with 1 Axes>"
      ]
     },
     "metadata": {
      "needs_background": "light"
     },
     "output_type": "display_data"
    }
   ],
   "source": [
    "# Необходимые поля, для которых будем выводить гистограмму\n",
    "good_data_columns_check = good_data[\n",
    "    [\n",
    "        'last_price', 'price_square_meter', 'days_exposition',\n",
    "        'ceiling_height', 'rooms', 'living_to_total_area', 'kitchen_to_total_area'\n",
    "    ]\n",
    "]\n",
    "\n",
    "for column in good_data_columns_check:\n",
    "    # Расчитаем квантили\n",
    "    min_quantile, max_quantil = get_min_max_quantils(column)\n",
    "    # Выведем диаграмму   \n",
    "    good_data_columns_check.hist(column, bins = 20, range = ((min_quantile), (max_quantil))) # Построим гистограмму в нужном диапазоне"
   ]
  },
  {
   "cell_type": "markdown",
   "metadata": {},
   "source": [
    "### Факторы, которые больше всего влияют на стоимость квартиры"
   ]
  },
  {
   "cell_type": "code",
   "execution_count": 60,
   "metadata": {},
   "outputs": [
    {
     "name": "stdout",
     "output_type": "stream",
     "text": [
      "Корреляция цены и площади: \n",
      "\n",
      "            last_price  total_area\n",
      "last_price     1.00000     0.90692\n",
      "total_area     0.90692     1.00000 \n",
      "\n"
     ]
    },
    {
     "data": {
      "image/png": "[encoded data removed]",
      "text/plain": [
       "<Figure size 360x360 with 1 Axes>"
      ]
     },
     "metadata": {
      "needs_background": "light"
     },
     "output_type": "display_data"
    }
   ],
   "source": [
    "# Зависимость цены от площади\n",
    "(good_data.pivot_table(index='total_area', values='last_price')\n",
    "     .plot(grid=True, style='o', figsize=(5, 5))\n",
    ")\n",
    "print('Корреляция цены и площади:','\\n')\n",
    "print(good_data.pivot_table(index='floor', values=['total_area', 'last_price']).corr(),'\\n')"
   ]
  },
  {
   "cell_type": "markdown",
   "metadata": {},
   "source": [
    "Корреляция цены и площади высокая: чем больше площадь, тем выше стоимость."
   ]
  },
  {
   "cell_type": "code",
   "execution_count": 61,
   "metadata": {},
   "outputs": [
    {
     "name": "stdout",
     "output_type": "stream",
     "text": [
      "Корреляция цены и числа комнат: \n",
      "\n",
      "            last_price     rooms\n",
      "last_price    1.000000  0.500887\n",
      "rooms         0.500887  1.000000 \n",
      "\n"
     ]
    },
    {
     "data": {
      "image/png": "[encoded data removed]",
      "text/plain": [
       "<Figure size 360x360 with 1 Axes>"
      ]
     },
     "metadata": {
      "needs_background": "light"
     },
     "output_type": "display_data"
    }
   ],
   "source": [
    "# Зависимость цены от числа комнат\n",
    "(good_data.query('rooms > 0').pivot_table(index='rooms', values='last_price')\n",
    "    .plot(grid=True, style='o-', figsize=(5, 5))\n",
    ")\n",
    "print('Корреляция цены и числа комнат:','\\n')\n",
    "print(good_data.query('rooms > 0').pivot_table(index='floor', values=['rooms', 'last_price']).corr(),'\\n')"
   ]
  },
  {
   "cell_type": "markdown",
   "metadata": {},
   "source": [
    "Число комнат влияет на цену (больше комнат - больше цена), однако зависимость ниже, чем у площади."
   ]
  },
  {
   "cell_type": "code",
   "execution_count": 62,
   "metadata": {},
   "outputs": [
    {
     "name": "stdout",
     "output_type": "stream",
     "text": [
      "Корреляция цены и удалённости от центра: \n",
      "\n",
      "                     cityCenters_nearest  last_price\n",
      "cityCenters_nearest              1.00000     0.20605\n",
      "last_price                       0.20605     1.00000 \n",
      "\n"
     ]
    },
    {
     "data": {
      "image/png": "[encoded data removed]",
      "text/plain": [
       "<Figure size 360x360 with 1 Axes>"
      ]
     },
     "metadata": {
      "needs_background": "light"
     },
     "output_type": "display_data"
    }
   ],
   "source": [
    "# Зависимость цены от удалённости от центра\n",
    "(good_data.pivot_table(index='cityCenters_nearest', values='last_price')\n",
    "    .plot(grid=True, style='o', figsize=(5, 5))\n",
    ")\n",
    "print('Корреляция цены и удалённости от центра:','\\n')\n",
    "print(good_data.pivot_table(index='floor', values=['cityCenters_nearest', 'last_price']).corr(),'\\n')"
   ]
  },
  {
   "cell_type": "markdown",
   "metadata": {},
   "source": [
    "Самые дорогие варианты квартир находятся недалеко от центра города, однако тамже есть и достаточно дешёвые варианты."
   ]
  },
  {
   "cell_type": "code",
   "execution_count": 63,
   "metadata": {},
   "outputs": [
    {
     "data": {
      "text/plain": [
       "<AxesSubplot:xlabel='floor_cathegory'>"
      ]
     },
     "execution_count": 63,
     "metadata": {},
     "output_type": "execute_result"
    },
    {
     "data": {
      "image/png": "[encoded data removed]",
      "text/plain": [
       "<Figure size 360x360 with 1 Axes>"
      ]
     },
     "metadata": {
      "needs_background": "light"
     },
     "output_type": "display_data"
    }
   ],
   "source": [
    "# Зависимость цены от этажа\n",
    "(good_data.pivot_table(index='floor_cathegory', values='last_price', aggfunc='median')\n",
    "    .plot(grid=True, style='o-', figsize=(5, 5))\n",
    ")"
   ]
  },
  {
   "cell_type": "markdown",
   "metadata": {},
   "source": [
    "Самые дешевые квартиры на первом этаже."
   ]
  },
  {
   "cell_type": "code",
   "execution_count": 64,
   "metadata": {},
   "outputs": [
    {
     "data": {
      "text/plain": [
       "<AxesSubplot:xlabel='first_day_exposition_year'>"
      ]
     },
     "execution_count": 64,
     "metadata": {},
     "output_type": "execute_result"
    },
    {
     "data": {
      "image/png": "[encoded data removed]",
      "text/plain": [
       "<Figure size 360x360 with 1 Axes>"
      ]
     },
     "metadata": {
      "needs_background": "light"
     },
     "output_type": "display_data"
    },
    {
     "data": {
      "image/png": "[encoded data removed]",
      "text/plain": [
       "<Figure size 720x360 with 1 Axes>"
      ]
     },
     "metadata": {
      "needs_background": "light"
     },
     "output_type": "display_data"
    },
    {
     "data": {
      "image/png": "[encoded data removed]",
      "text/plain": [
       "<Figure size 432x360 with 1 Axes>"
      ]
     },
     "metadata": {
      "needs_background": "light"
     },
     "output_type": "display_data"
    }
   ],
   "source": [
    "# Зависимость от дня размещения\n",
    "(good_data.pivot_table(index='first_day_exposition_weekday', values='last_price')\n",
    "    .plot(grid=True, style='o-', figsize=(5, 5))\n",
    ")\n",
    "\n",
    "# Зависимость от месяца размещения\n",
    "(good_data.pivot_table(index='first_day_exposition_month', values='last_price')\n",
    "    .plot(grid=True, style='o-', xlim=(1,12), figsize=(10, 5))\n",
    ")\n",
    "\n",
    "# Зависимость от года размещения\n",
    "(good_data.pivot_table(index='first_day_exposition_year', values='last_price')\n",
    "    .plot(grid=True, style='o-', figsize=(6, 5))\n",
    ")"
   ]
  },
  {
   "cell_type": "markdown",
   "metadata": {},
   "source": [
    "День недели: дороже всего квартиры, опубликованные в субботу, дешевле всего - в среду и пятницу.\n",
    "Месяц: дороже всего квартиры, продающиеся в апреле, дешевле всего - в январе.\n",
    "Год: квартиры очень сильно подешевели в 2018 году, что, вероятно, вызвано некоторым кризисом 2014-2015 годов. В 2019 году цены снова стали повышаться."
   ]
  },
  {
   "cell_type": "markdown",
   "metadata": {},
   "source": [
    "### 10 населённых пунктов с наибольшим числом объявлений"
   ]
  },
  {
   "cell_type": "code",
   "execution_count": 65,
   "metadata": {},
   "outputs": [
    {
     "data": {
      "text/html": [
       "<div>\n",
       "<style scoped>\n",
       "    .dataframe tbody tr th:only-of-type {\n",
       "        vertical-align: middle;\n",
       "    }\n",
       "\n",
       "    .dataframe tbody tr th {\n",
       "        vertical-align: top;\n",
       "    }\n",
       "\n",
       "    .dataframe thead th {\n",
       "        text-align: right;\n",
       "    }\n",
       "</style>\n",
       "<table border=\"1\" class=\"dataframe\">\n",
       "  <thead>\n",
       "    <tr style=\"text-align: right;\">\n",
       "      <th></th>\n",
       "      <th>price_square_meter</th>\n",
       "    </tr>\n",
       "    <tr>\n",
       "      <th>locality_name</th>\n",
       "      <th></th>\n",
       "    </tr>\n",
       "  </thead>\n",
       "  <tbody>\n",
       "    <tr>\n",
       "      <th>Санкт-Петербург</th>\n",
       "      <td>106202</td>\n",
       "    </tr>\n",
       "    <tr>\n",
       "      <th>Пушкин</th>\n",
       "      <td>99620</td>\n",
       "    </tr>\n",
       "    <tr>\n",
       "      <th>деревня Кудрово</th>\n",
       "      <td>93170</td>\n",
       "    </tr>\n",
       "    <tr>\n",
       "      <th>поселок Парголово</th>\n",
       "      <td>88988</td>\n",
       "    </tr>\n",
       "    <tr>\n",
       "      <th>поселок Мурино</th>\n",
       "      <td>85650</td>\n",
       "    </tr>\n",
       "    <tr>\n",
       "      <th>Петергоф</th>\n",
       "      <td>83109</td>\n",
       "    </tr>\n",
       "    <tr>\n",
       "      <th>поселок Шушары</th>\n",
       "      <td>77733</td>\n",
       "    </tr>\n",
       "    <tr>\n",
       "      <th>Колпино</th>\n",
       "      <td>73567</td>\n",
       "    </tr>\n",
       "    <tr>\n",
       "      <th>Гатчина</th>\n",
       "      <td>68003</td>\n",
       "    </tr>\n",
       "    <tr>\n",
       "      <th>Всеволожск</th>\n",
       "      <td>67212</td>\n",
       "    </tr>\n",
       "  </tbody>\n",
       "</table>\n",
       "</div>"
      ],
      "text/plain": [
       "                   price_square_meter\n",
       "locality_name                        \n",
       "Санкт-Петербург                106202\n",
       "Пушкин                          99620\n",
       "деревня Кудрово                 93170\n",
       "поселок Парголово               88988\n",
       "поселок Мурино                  85650\n",
       "Петергоф                        83109\n",
       "поселок Шушары                  77733\n",
       "Колпино                         73567\n",
       "Гатчина                         68003\n",
       "Всеволожск                      67212"
      ]
     },
     "execution_count": 65,
     "metadata": {},
     "output_type": "execute_result"
    }
   ],
   "source": [
    "# Сравниваем среднюю стоимость квадратного метра в топ-10 городов по числу объявлений\n",
    "locality_ten = good_data['locality_name'].value_counts().head(10)\n",
    "\n",
    "# Делаем выборку\n",
    "city_price_square_meter = good_data.query('locality_name in (@locality_ten.index)').pivot_table(values='price_square_meter', index='locality_name')\n",
    "city_price_square_meter = city_price_square_meter.astype(int)\n",
    "city_price_square_meter.sort_values('price_square_meter', ascending=False)"
   ]
  },
  {
   "cell_type": "markdown",
   "metadata": {},
   "source": [
    "# Вывод\n",
    "\n",
    "Наибольшая стоимость квадратного метра в Санкт-Петербурге, что вполне логично. Затем идёт Пушкин, скорее всего это связано с хорошей застройкой и большим количеством парков. Из десятки населенных пунктов наименьшая стоимость у Всеволожск."
   ]
  },
  {
   "cell_type": "markdown",
   "metadata": {},
   "source": [
    "### Изучение предложения квартир"
   ]
  },
  {
   "cell_type": "code",
   "execution_count": 66,
   "metadata": {},
   "outputs": [
    {
     "data": {
      "text/plain": [
       "<AxesSubplot:xlabel='city_center_km'>"
      ]
     },
     "execution_count": 66,
     "metadata": {},
     "output_type": "execute_result"
    },
    {
     "data": {
      "image/png": "[encoded data removed]",
      "text/plain": [
       "<Figure size 720x360 with 1 Axes>"
      ]
     },
     "metadata": {
      "needs_background": "light"
     },
     "output_type": "display_data"
    }
   ],
   "source": [
    "# Добавляем столбец с расстоянием до центра в км, округляем до целого\n",
    "good_data['city_center_km'] = good_data['cityCenters_nearest'] / 1000\n",
    "good_data['city_center_km'] = good_data['city_center_km'].fillna(value=0).astype(int)\n",
    "\n",
    "# Выбираем Санкт-Петербург, смотрим на график, где указана средняя стоимость для каждого км\n",
    "(good_data.query('locality_name == \"Санкт-Петербург\"')\n",
    "    .pivot_table(index='city_center_km', values='last_price', aggfunc = 'mean')\n",
    "    .plot(grid=True, style='o-', xlim=(0,15), figsize=(10, 5))\n",
    ")"
   ]
  },
  {
   "cell_type": "markdown",
   "metadata": {},
   "source": [
    "# Вывод\n",
    "Центральная зона - это 7 км и меньше. Дальше 7 км цены на квартиры резко снижаются."
   ]
  },
  {
   "cell_type": "markdown",
   "metadata": {},
   "source": [
    "###  Cегмент квартир в центре"
   ]
  },
  {
   "cell_type": "markdown",
   "metadata": {},
   "source": [
    "Выделите сегмент квартир в центре. Проанализируйте эту территорию и изучите следующие параметры: площадь, цена, число комнат, высота потолков. Также выделите факторы, которые влияют на стоимость квартиры (число комнат, этаж, удалённость от центра, дата размещения объявления). Сделайте выводы. Отличаются ли они от общих выводов по всей базе?"
   ]
  },
  {
   "cell_type": "code",
   "execution_count": 67,
   "metadata": {},
   "outputs": [],
   "source": [
    "spb_center = good_data.query('(locality_name == \"Санкт-Петербург\") & (city_center_km <= 7)')"
   ]
  },
  {
   "cell_type": "code",
   "execution_count": 68,
   "metadata": {},
   "outputs": [
    {
     "name": "stdout",
     "output_type": "stream",
     "text": [
      "Площадь (медиана): 52 \n",
      "\n",
      "Площадь в центре (медиана): 67 \n",
      "\n",
      "Площадь (среднее): 57 \n",
      "\n",
      "Площадь в центре (среднее): 71 \n",
      "\n"
     ]
    },
    {
     "data": {
      "text/plain": [
       "<AxesSubplot:>"
      ]
     },
     "execution_count": 68,
     "metadata": {},
     "output_type": "execute_result"
    },
    {
     "data": {
      "image/png": "[encoded data removed]",
      "text/plain": [
       "<Figure size 576x576 with 1 Axes>"
      ]
     },
     "metadata": {
      "needs_background": "light"
     },
     "output_type": "display_data"
    }
   ],
   "source": [
    "# Изучаем площадь\n",
    "print('Площадь (медиана):', round(good_data.query('locality_name == \"Санкт-Петербург\"')['total_area'].median()),'\\n')\n",
    "print('Площадь в центре (медиана):', round(spb_center['total_area'].median()),'\\n')\n",
    "print('Площадь (среднее):', round(good_data.query('locality_name == \"Санкт-Петербург\"')['total_area'].mean()),'\\n')\n",
    "print('Площадь в центре (среднее):', round(spb_center['total_area'].mean()),'\\n')\n",
    "spb_center['total_area'].hist(bins=30, range=(25, 300), figsize=(8, 8))"
   ]
  },
  {
   "cell_type": "code",
   "execution_count": 69,
   "metadata": {},
   "outputs": [
    {
     "name": "stdout",
     "output_type": "stream",
     "text": [
      "Число вариантов с ценой больше 20 млн: 31\n"
     ]
    },
    {
     "data": {
      "image/png": "[encoded data removed]",
      "text/plain": [
       "<Figure size 432x288 with 1 Axes>"
      ]
     },
     "metadata": {
      "needs_background": "light"
     },
     "output_type": "display_data"
    }
   ],
   "source": [
    "# Работаем со стоимостью\n",
    "spb_center['last_price'].hist(bins = 100)\n",
    "print('Число вариантов с ценой больше 20 млн:', spb_center.query('last_price > 20000000')['last_price'].count())"
   ]
  },
  {
   "cell_type": "code",
   "execution_count": 70,
   "metadata": {},
   "outputs": [
    {
     "data": {
      "text/html": [
       "<div>\n",
       "<style scoped>\n",
       "    .dataframe tbody tr th:only-of-type {\n",
       "        vertical-align: middle;\n",
       "    }\n",
       "\n",
       "    .dataframe tbody tr th {\n",
       "        vertical-align: top;\n",
       "    }\n",
       "\n",
       "    .dataframe thead th {\n",
       "        text-align: right;\n",
       "    }\n",
       "</style>\n",
       "<table border=\"1\" class=\"dataframe\">\n",
       "  <thead>\n",
       "    <tr style=\"text-align: right;\">\n",
       "      <th></th>\n",
       "      <th>count</th>\n",
       "      <th>rooms_ratio</th>\n",
       "      <th>center_count</th>\n",
       "      <th>center_rooms_ratio</th>\n",
       "      <th>center_cap</th>\n",
       "    </tr>\n",
       "    <tr>\n",
       "      <th>rooms</th>\n",
       "      <th></th>\n",
       "      <th></th>\n",
       "      <th></th>\n",
       "      <th></th>\n",
       "      <th></th>\n",
       "    </tr>\n",
       "  </thead>\n",
       "  <tbody>\n",
       "    <tr>\n",
       "      <th>1</th>\n",
       "      <td>2934</td>\n",
       "      <td>34.231712</td>\n",
       "      <td>278</td>\n",
       "      <td>17.617237</td>\n",
       "      <td>9.0</td>\n",
       "    </tr>\n",
       "    <tr>\n",
       "      <th>2</th>\n",
       "      <td>3014</td>\n",
       "      <td>35.165092</td>\n",
       "      <td>579</td>\n",
       "      <td>36.692015</td>\n",
       "      <td>19.0</td>\n",
       "    </tr>\n",
       "    <tr>\n",
       "      <th>3</th>\n",
       "      <td>2150</td>\n",
       "      <td>25.084588</td>\n",
       "      <td>487</td>\n",
       "      <td>30.861850</td>\n",
       "      <td>23.0</td>\n",
       "    </tr>\n",
       "    <tr>\n",
       "      <th>4</th>\n",
       "      <td>397</td>\n",
       "      <td>4.631898</td>\n",
       "      <td>179</td>\n",
       "      <td>11.343473</td>\n",
       "      <td>45.0</td>\n",
       "    </tr>\n",
       "    <tr>\n",
       "      <th>5</th>\n",
       "      <td>68</td>\n",
       "      <td>0.793373</td>\n",
       "      <td>50</td>\n",
       "      <td>3.168568</td>\n",
       "      <td>74.0</td>\n",
       "    </tr>\n",
       "    <tr>\n",
       "      <th>6</th>\n",
       "      <td>5</td>\n",
       "      <td>0.058336</td>\n",
       "      <td>2</td>\n",
       "      <td>0.126743</td>\n",
       "      <td>40.0</td>\n",
       "    </tr>\n",
       "  </tbody>\n",
       "</table>\n",
       "</div>"
      ],
      "text/plain": [
       "       count  rooms_ratio  center_count  center_rooms_ratio  center_cap\n",
       "rooms                                                                  \n",
       "1       2934    34.231712           278           17.617237         9.0\n",
       "2       3014    35.165092           579           36.692015        19.0\n",
       "3       2150    25.084588           487           30.861850        23.0\n",
       "4        397     4.631898           179           11.343473        45.0\n",
       "5         68     0.793373            50            3.168568        74.0\n",
       "6          5     0.058336             2            0.126743        40.0"
      ]
     },
     "metadata": {},
     "output_type": "display_data"
    }
   ],
   "source": [
    "# Изучаем число комнат\n",
    "#spb_rooms = good_data.query('(locality_name == \"Санкт-Петербург\") & (rooms > 0)').pivot_table(index='rooms', values='floor', aggfunc='count')\n",
    "spb_rooms = good_data.query('(locality_name == \"Санкт-Петербург\")').pivot_table(index='rooms', values='floor', aggfunc='count')\n",
    "spb_rooms.columns = ['count']\n",
    "spb_rooms['rooms_ratio'] = spb_rooms['count'] / spb_rooms['count'].sum() * 100\n",
    "spb_rooms_center = good_data.query('(locality_name == \"Санкт-Петербург\") & (city_center_km <= 7)  & (rooms > 0)').pivot_table(index='rooms', values='floor', aggfunc='count')\n",
    "spb_rooms_center.columns = ['center_count']\n",
    "spb_rooms_center['center_rooms_ratio'] = spb_rooms_center['center_count'] / spb_rooms_center['center_count'].sum() * 100\n",
    "rooms_alldf = pd.merge(spb_rooms, spb_rooms_center, 'left', on = 'rooms')\n",
    "rooms_alldf['center_cap'] = round(rooms_alldf['center_count'] / rooms_alldf['count'] * 100)\n",
    "display(rooms_alldf[0:6])"
   ]
  },
  {
   "cell_type": "code",
   "execution_count": 71,
   "metadata": {},
   "outputs": [
    {
     "name": "stdout",
     "output_type": "stream",
     "text": [
      "Высота потолков (медиана): 2.65 \n",
      "\n",
      "Высота потолков в центре (медиана): 2.7 \n",
      "\n",
      "Высота потолков (среднее): 2.691524909578812 \n",
      "\n",
      "Высота потолков в центре (среднее): 2.870057034220532 \n",
      "\n"
     ]
    }
   ],
   "source": [
    "# Изучаем высоту потолков\n",
    "print('Высота потолков (медиана):', good_data.query('locality_name == \"Санкт-Петербург\"')['ceiling_height'].median(),'\\n')\n",
    "print('Высота потолков в центре (медиана):', spb_center['ceiling_height'].median(),'\\n')\n",
    "print('Высота потолков (среднее):', good_data.query('locality_name == \"Санкт-Петербург\"')['ceiling_height'].mean(),'\\n')\n",
    "print('Высота потолков в центре (среднее):', spb_center['ceiling_height'].mean(),'\\n')"
   ]
  },
  {
   "cell_type": "markdown",
   "metadata": {},
   "source": [
    "# Вывод\n",
    "\n",
    "- Площадь квартир в центре значительно больше, чем в целом по городу - в среднем на 24 метров. Также в центре находится большое число квартир с огромной площадью (100 квадратных метров и более).\n",
    "\n",
    "- В центре в два раза ниже доля однокомнатных квартир (13 %), чем в среднем по городу (30 %). Половина четырёхкомнатных квартир находится в центре города (59 %), их доля в два раза выше, чем в среднем по городу (6 %). Большинство квартир с 5 комнатами и более находятся в центре города.\n",
    "\n",
    "- Высота потолков в центре выше в среднем на 17 сантиметров."
   ]
  },
  {
   "cell_type": "code",
   "execution_count": 72,
   "metadata": {},
   "outputs": [
    {
     "data": {
      "image/png": "[encoded data removed]",
      "text/plain": [
       "<Figure size 360x360 with 1 Axes>"
      ]
     },
     "metadata": {
      "needs_background": "light"
     },
     "output_type": "display_data"
    },
    {
     "name": "stdout",
     "output_type": "stream",
     "text": [
      "Корреляция цены и числа комнат: \n",
      "\n",
      "            last_price     rooms\n",
      "last_price    1.000000  0.618625\n",
      "rooms         0.618625  1.000000 \n",
      "\n"
     ]
    },
    {
     "data": {
      "image/png": "[encoded data removed]",
      "text/plain": [
       "<Figure size 360x360 with 1 Axes>"
      ]
     },
     "metadata": {
      "needs_background": "light"
     },
     "output_type": "display_data"
    },
    {
     "data": {
      "image/png": "[encoded data removed]",
      "text/plain": [
       "<Figure size 360x360 with 1 Axes>"
      ]
     },
     "metadata": {
      "needs_background": "light"
     },
     "output_type": "display_data"
    },
    {
     "name": "stdout",
     "output_type": "stream",
     "text": [
      "Корреляция цены и удалённости от центра: \n",
      "\n",
      "                     cityCenters_nearest  last_price\n",
      "cityCenters_nearest              1.00000     0.22887\n",
      "last_price                       0.22887     1.00000 \n",
      "\n"
     ]
    }
   ],
   "source": [
    "# Зависимость цены от числа комнат\n",
    "(spb_center.query('(rooms > 0) & (rooms < 7)').pivot_table(index='rooms', values='last_price')\n",
    "    .plot(grid=True, style='o-', figsize=(5, 5))\n",
    ")\n",
    "plt.show()\n",
    "print('Корреляция цены и числа комнат:','\\n')\n",
    "print(spb_center.query('(rooms > 0) & (rooms < 7)').pivot_table(index='floor', values=['rooms', 'last_price']).corr(),'\\n')\n",
    "\n",
    "# Зависимость цены от этажа\n",
    "(spb_center.pivot_table(index='floor_cathegory', values='last_price', aggfunc='median')\n",
    "    .plot(grid=True, style='o-', figsize=(5, 5))\n",
    ")\n",
    "plt.show()\n",
    "\n",
    "# Зависимость цены от удалённости от центра\n",
    "(spb_center.pivot_table(index='cityCenters_nearest', values='last_price', aggfunc='median')\n",
    "    .plot(grid=True, style='o', figsize=(5, 5))\n",
    ")\n",
    "plt.show()\n",
    "print('Корреляция цены и удалённости от центра:','\\n')\n",
    "print(spb_center.pivot_table(index='floor', values=['cityCenters_nearest', 'last_price']).corr(),'\\n')"
   ]
  },
  {
   "cell_type": "code",
   "execution_count": 73,
   "metadata": {},
   "outputs": [
    {
     "name": "stdout",
     "output_type": "stream",
     "text": [
      "Корреляция цены за квадрат и площади: \n",
      "\n",
      "                    price_square_meter  total_area\n",
      "price_square_meter            1.000000    0.114163\n",
      "total_area                    0.114163    1.000000 \n",
      "\n",
      "Корреляция цены за квадрат и числа комнат: \n",
      "\n",
      "                    price_square_meter    rooms\n",
      "price_square_meter             1.00000 -0.06526\n",
      "rooms                         -0.06526  1.00000 \n",
      "\n"
     ]
    },
    {
     "data": {
      "image/png": "[encoded data removed]",
      "text/plain": [
       "<Figure size 360x360 with 1 Axes>"
      ]
     },
     "metadata": {
      "needs_background": "light"
     },
     "output_type": "display_data"
    },
    {
     "data": {
      "image/png": "[encoded data removed]",
      "text/plain": [
       "<Figure size 360x360 with 1 Axes>"
      ]
     },
     "metadata": {
      "needs_background": "light"
     },
     "output_type": "display_data"
    }
   ],
   "source": [
    "# Зависимость цены за квадрат от площади\n",
    "(spb_center.pivot_table(index='total_area', values='price_square_meter')\n",
    "    .plot(grid=True, style='o', figsize=(5, 5))\n",
    ")\n",
    "print('Корреляция цены за квадрат и площади:','\\n')\n",
    "print(spb_center.pivot_table(index='floor', values=['total_area', 'price_square_meter']).corr(),'\\n')\n",
    "\n",
    "# Зависимость цены за квадрат от числа комнат\n",
    "(spb_center.query('rooms > 0').pivot_table(index='rooms', values='price_square_meter')\n",
    "    .plot(grid=True, style='o-', figsize=(5, 5))\n",
    ")\n",
    "print('Корреляция цены за квадрат и числа комнат:','\\n')\n",
    "print(spb_center.query('rooms > 0').pivot_table(index='floor', values=['rooms', 'price_square_meter']).corr(),'\\n')"
   ]
  },
  {
   "cell_type": "code",
   "execution_count": 74,
   "metadata": {},
   "outputs": [
    {
     "data": {
      "text/plain": [
       "<AxesSubplot:xlabel='first_day_exposition_year'>"
      ]
     },
     "execution_count": 74,
     "metadata": {},
     "output_type": "execute_result"
    },
    {
     "data": {
      "image/png": "[encoded data removed]",
      "text/plain": [
       "<Figure size 360x360 with 1 Axes>"
      ]
     },
     "metadata": {
      "needs_background": "light"
     },
     "output_type": "display_data"
    },
    {
     "data": {
      "image/png": "[encoded data removed]",
      "text/plain": [
       "<Figure size 720x360 with 1 Axes>"
      ]
     },
     "metadata": {
      "needs_background": "light"
     },
     "output_type": "display_data"
    },
    {
     "data": {
      "image/png": "[encoded data removed]",
      "text/plain": [
       "<Figure size 360x360 with 1 Axes>"
      ]
     },
     "metadata": {
      "needs_background": "light"
     },
     "output_type": "display_data"
    }
   ],
   "source": [
    "# Зависимость от дня размещения\n",
    "(spb_center.pivot_table(index='first_day_exposition_weekday', values='last_price')\n",
    "    .plot(grid=True, style='o-', figsize=(5, 5))\n",
    ")\n",
    "\n",
    "# Зависимость от месяца размещения\n",
    "(spb_center.pivot_table(index='first_day_exposition_month', values='last_price')\n",
    "    .plot(grid=True, style='o-', xlim=(1,12), figsize=(10, 5))\n",
    ")\n",
    "\n",
    "# Зависимость от года размещения\n",
    "(spb_center.pivot_table(index='first_day_exposition_year', values='last_price')\n",
    "    .plot(grid=True, style='o-', figsize=(5, 5))\n",
    ")"
   ]
  },
  {
   "cell_type": "markdown",
   "metadata": {},
   "source": [
    "# Вывод\n",
    "\n",
    "- Зависимость цены квартиры от числа комнат в центре такая же, как и в целом по городу\n",
    "- В центре верхний этаж стоит практически столько же, сколько и другие этажи, кроме первого\n",
    "- В центре есть очень дорогие однокомнатные квартиры\n",
    "- В центральной зоне почти нет зависимости от удалённости от центра города. Стоимость даже немного повышается при удалении от центра - вероятно, это связано с расположением точки, которая является формальным центром города.\n",
    "- В центре значительно выше стоимость квартир, опубликованных в субботу и в декабре.\n",
    "- Стоимость квартир резко выросла в 2015 году и снизилась только в 2017 году."
   ]
  },
  {
   "cell_type": "markdown",
   "metadata": {},
   "source": [
    "## Общий вывод"
   ]
  },
  {
   "cell_type": "markdown",
   "metadata": {},
   "source": [
    "- Среди городов с наибольшим числом объявлений , самые дорогие цены за квадратный метр квартиры в Санкт-Петербурге, Пушкине, а самые низкие цены в Гатчина.\n",
    "\n",
    "Факторы, влияющие на стоимость:\n",
    "\n",
    "- На стоимость больше влияет площадь квартиры\n",
    "- Первый этаж значительно дешевле остальных вариантов. Также стоимость квартиры на последнем этаже ниже, чем на остальных, кроме первого.\n",
    "\n",
    "Стоимость квадратного в населённых пунктах в выборке топ 10: \n",
    "- Дороже всего квадратный метр в Санкт-Петербурге - 117276\n",
    "- Дешевле всего квадратный метр в Всеволожск - 67212\n",
    "\n",
    "Факторы, влияющие на стоимость в центре Санкт-Петербурга:\n",
    "- В центре города цены не отличаются от других районов.\n",
    "- В центре города есть очень дорогие однокомнатные квартиры\n",
    "- Цена за квадратный метр квартиры в Санкт-Петербурге резко падает от 7 км от центра, что является зоной центра."
   ]
  }
 ],
 "metadata": {
  "ExecuteTimeLog": [
   {
    "duration": 435,
    "start_time": "2022-04-09T11:29:46.828Z"
   },
   {
    "duration": 82,
    "start_time": "2022-04-09T11:29:48.116Z"
   },
   {
    "duration": 17,
    "start_time": "2022-04-09T11:29:49.285Z"
   },
   {
    "duration": 32,
    "start_time": "2022-04-09T11:31:11.924Z"
   },
   {
    "duration": 11,
    "start_time": "2022-04-09T12:08:46.599Z"
   },
   {
    "duration": 72,
    "start_time": "2022-04-09T12:49:18.840Z"
   },
   {
    "duration": 69,
    "start_time": "2022-04-09T12:49:45.557Z"
   },
   {
    "duration": 9,
    "start_time": "2022-04-09T12:49:51.468Z"
   },
   {
    "duration": 9,
    "start_time": "2022-04-09T12:50:06.111Z"
   },
   {
    "duration": 69,
    "start_time": "2022-04-09T12:50:12.830Z"
   },
   {
    "duration": 9,
    "start_time": "2022-04-09T12:50:14.889Z"
   },
   {
    "duration": 15,
    "start_time": "2022-04-09T12:52:57.038Z"
   },
   {
    "duration": 4,
    "start_time": "2022-04-09T12:53:18.112Z"
   },
   {
    "duration": 4,
    "start_time": "2022-04-09T12:53:32.903Z"
   },
   {
    "duration": 69,
    "start_time": "2022-04-09T12:53:41.260Z"
   },
   {
    "duration": 11,
    "start_time": "2022-04-09T12:53:48.653Z"
   },
   {
    "duration": 11,
    "start_time": "2022-04-09T12:54:04.792Z"
   },
   {
    "duration": 10,
    "start_time": "2022-04-09T12:54:16.777Z"
   },
   {
    "duration": 73,
    "start_time": "2022-04-09T13:00:33.456Z"
   },
   {
    "duration": 21,
    "start_time": "2022-04-09T13:01:42.227Z"
   },
   {
    "duration": 60,
    "start_time": "2022-04-09T13:02:21.007Z"
   },
   {
    "duration": 70,
    "start_time": "2022-04-09T13:02:28.066Z"
   },
   {
    "duration": 157,
    "start_time": "2022-04-09T13:13:09.584Z"
   },
   {
    "duration": 9,
    "start_time": "2022-04-09T13:14:37.364Z"
   },
   {
    "duration": 17,
    "start_time": "2022-04-09T13:15:02.234Z"
   },
   {
    "duration": 7,
    "start_time": "2022-04-09T13:16:11.266Z"
   },
   {
    "duration": 7,
    "start_time": "2022-04-09T13:17:39.247Z"
   },
   {
    "duration": 7,
    "start_time": "2022-04-09T13:18:15.938Z"
   },
   {
    "duration": 10,
    "start_time": "2022-04-09T13:18:26.447Z"
   },
   {
    "duration": 143,
    "start_time": "2022-04-09T13:19:03.905Z"
   },
   {
    "duration": 12,
    "start_time": "2022-04-09T13:19:07.562Z"
   },
   {
    "duration": 9,
    "start_time": "2022-04-09T13:19:33.323Z"
   },
   {
    "duration": 6,
    "start_time": "2022-04-09T13:21:01.480Z"
   },
   {
    "duration": 7,
    "start_time": "2022-04-09T13:21:07.590Z"
   },
   {
    "duration": 7,
    "start_time": "2022-04-09T13:25:26.917Z"
   },
   {
    "duration": 8,
    "start_time": "2022-04-09T13:25:30.459Z"
   },
   {
    "duration": 8,
    "start_time": "2022-04-09T13:26:13.889Z"
   },
   {
    "duration": 9,
    "start_time": "2022-04-09T13:26:55.327Z"
   },
   {
    "duration": 613,
    "start_time": "2022-04-09T13:27:01.529Z"
   },
   {
    "duration": 9,
    "start_time": "2022-04-09T13:27:28.636Z"
   },
   {
    "duration": 19,
    "start_time": "2022-04-09T13:30:06.352Z"
   },
   {
    "duration": 9,
    "start_time": "2022-04-09T13:30:09.233Z"
   },
   {
    "duration": 14,
    "start_time": "2022-04-09T13:30:13.070Z"
   },
   {
    "duration": 8,
    "start_time": "2022-04-09T13:31:01.426Z"
   },
   {
    "duration": 5,
    "start_time": "2022-04-09T13:31:55.158Z"
   },
   {
    "duration": 10,
    "start_time": "2022-04-09T13:32:01.825Z"
   },
   {
    "duration": 5,
    "start_time": "2022-04-09T13:33:08.494Z"
   },
   {
    "duration": 10,
    "start_time": "2022-04-09T13:33:25.122Z"
   },
   {
    "duration": 9,
    "start_time": "2022-04-09T13:36:26.635Z"
   },
   {
    "duration": 132,
    "start_time": "2022-04-09T13:42:02.977Z"
   },
   {
    "duration": 5,
    "start_time": "2022-04-09T13:43:36.434Z"
   },
   {
    "duration": 6,
    "start_time": "2022-04-09T13:43:44.003Z"
   },
   {
    "duration": 4,
    "start_time": "2022-04-09T13:44:18.506Z"
   },
   {
    "duration": 9,
    "start_time": "2022-04-09T13:44:27.996Z"
   },
   {
    "duration": 6,
    "start_time": "2022-04-09T13:50:43.574Z"
   },
   {
    "duration": 7,
    "start_time": "2022-04-09T13:50:56.549Z"
   },
   {
    "duration": 6,
    "start_time": "2022-04-09T13:50:59.393Z"
   },
   {
    "duration": 5,
    "start_time": "2022-04-09T13:51:21.652Z"
   },
   {
    "duration": 4,
    "start_time": "2022-04-09T13:51:27.497Z"
   },
   {
    "duration": 6,
    "start_time": "2022-04-09T13:51:44.284Z"
   },
   {
    "duration": 9,
    "start_time": "2022-04-09T13:53:38.680Z"
   },
   {
    "duration": 9,
    "start_time": "2022-04-09T13:53:43.888Z"
   },
   {
    "duration": 6,
    "start_time": "2022-04-09T13:54:09.629Z"
   },
   {
    "duration": 7,
    "start_time": "2022-04-09T13:56:21.716Z"
   },
   {
    "duration": 6,
    "start_time": "2022-04-09T13:56:32.114Z"
   },
   {
    "duration": 7,
    "start_time": "2022-04-09T13:58:32.455Z"
   },
   {
    "duration": 7,
    "start_time": "2022-04-09T14:00:10.071Z"
   },
   {
    "duration": 7,
    "start_time": "2022-04-09T14:00:28.584Z"
   },
   {
    "duration": 5,
    "start_time": "2022-04-09T14:04:52.376Z"
   },
   {
    "duration": 7,
    "start_time": "2022-04-09T14:04:54.040Z"
   },
   {
    "duration": 5,
    "start_time": "2022-04-09T14:05:05.355Z"
   },
   {
    "duration": 8,
    "start_time": "2022-04-09T14:05:38.521Z"
   },
   {
    "duration": 4,
    "start_time": "2022-04-09T14:07:32.210Z"
   },
   {
    "duration": 4,
    "start_time": "2022-04-09T14:07:34.184Z"
   },
   {
    "duration": 5,
    "start_time": "2022-04-09T14:07:36.029Z"
   },
   {
    "duration": 7,
    "start_time": "2022-04-09T14:07:54.919Z"
   },
   {
    "duration": 6,
    "start_time": "2022-04-09T14:09:27.694Z"
   },
   {
    "duration": 8,
    "start_time": "2022-04-09T14:09:42.958Z"
   },
   {
    "duration": 9,
    "start_time": "2022-04-09T14:10:01.403Z"
   },
   {
    "duration": 9,
    "start_time": "2022-04-09T14:12:48.861Z"
   },
   {
    "duration": 8,
    "start_time": "2022-04-09T14:12:54.428Z"
   },
   {
    "duration": 13,
    "start_time": "2022-04-09T14:13:17.516Z"
   },
   {
    "duration": 8,
    "start_time": "2022-04-09T14:13:23.172Z"
   },
   {
    "duration": 5,
    "start_time": "2022-04-09T14:13:29.196Z"
   },
   {
    "duration": 5,
    "start_time": "2022-04-09T14:13:38.550Z"
   },
   {
    "duration": 7,
    "start_time": "2022-04-09T14:13:50.773Z"
   },
   {
    "duration": 4,
    "start_time": "2022-04-09T14:13:52.962Z"
   },
   {
    "duration": 18,
    "start_time": "2022-04-09T14:14:03.833Z"
   },
   {
    "duration": 4,
    "start_time": "2022-04-09T14:18:26.862Z"
   },
   {
    "duration": 11,
    "start_time": "2022-04-09T14:18:46.958Z"
   },
   {
    "duration": 4,
    "start_time": "2022-04-09T14:19:00.204Z"
   },
   {
    "duration": 8,
    "start_time": "2022-04-09T14:19:02.902Z"
   },
   {
    "duration": 18,
    "start_time": "2022-04-09T14:19:09.240Z"
   },
   {
    "duration": 9,
    "start_time": "2022-04-09T14:19:11.497Z"
   },
   {
    "duration": 9,
    "start_time": "2022-04-09T14:21:38.337Z"
   },
   {
    "duration": 5,
    "start_time": "2022-04-09T14:21:47.947Z"
   },
   {
    "duration": 3,
    "start_time": "2022-04-09T14:21:56.867Z"
   },
   {
    "duration": 3,
    "start_time": "2022-04-09T14:21:59.034Z"
   },
   {
    "duration": 3,
    "start_time": "2022-04-09T14:22:00.766Z"
   },
   {
    "duration": 4,
    "start_time": "2022-04-09T14:22:07.460Z"
   },
   {
    "duration": 4,
    "start_time": "2022-04-09T14:22:13.116Z"
   },
   {
    "duration": 8,
    "start_time": "2022-04-09T14:23:05.909Z"
   },
   {
    "duration": 8,
    "start_time": "2022-04-09T14:23:13.073Z"
   },
   {
    "duration": 6,
    "start_time": "2022-04-09T14:23:25.276Z"
   },
   {
    "duration": 7,
    "start_time": "2022-04-09T14:23:30.497Z"
   },
   {
    "duration": 7,
    "start_time": "2022-04-09T14:25:10.294Z"
   },
   {
    "duration": 5,
    "start_time": "2022-04-09T14:25:29.972Z"
   },
   {
    "duration": 4,
    "start_time": "2022-04-09T14:25:58.958Z"
   },
   {
    "duration": 9,
    "start_time": "2022-04-09T14:26:13.517Z"
   },
   {
    "duration": 8,
    "start_time": "2022-04-09T14:28:16.894Z"
   },
   {
    "duration": 14,
    "start_time": "2022-04-09T14:28:23.292Z"
   },
   {
    "duration": 4,
    "start_time": "2022-04-09T14:28:51.305Z"
   },
   {
    "duration": 4,
    "start_time": "2022-04-09T14:29:44.012Z"
   },
   {
    "duration": 14,
    "start_time": "2022-04-09T14:31:39.929Z"
   },
   {
    "duration": 134,
    "start_time": "2022-04-09T14:32:52.259Z"
   },
   {
    "duration": 10,
    "start_time": "2022-04-09T14:33:39.113Z"
   },
   {
    "duration": 6,
    "start_time": "2022-04-09T14:33:42.238Z"
   },
   {
    "duration": 3,
    "start_time": "2022-04-09T14:34:04.585Z"
   },
   {
    "duration": 8,
    "start_time": "2022-04-09T14:35:12.028Z"
   },
   {
    "duration": 8,
    "start_time": "2022-04-09T14:35:28.603Z"
   },
   {
    "duration": 9,
    "start_time": "2022-04-09T14:35:30.798Z"
   },
   {
    "duration": 7,
    "start_time": "2022-04-09T14:36:23.538Z"
   },
   {
    "duration": 10,
    "start_time": "2022-04-09T14:36:37.647Z"
   },
   {
    "duration": 10,
    "start_time": "2022-04-09T14:37:04.001Z"
   },
   {
    "duration": 12,
    "start_time": "2022-04-09T14:37:25.741Z"
   },
   {
    "duration": 5,
    "start_time": "2022-04-09T14:38:17.798Z"
   },
   {
    "duration": 5,
    "start_time": "2022-04-09T14:38:31.777Z"
   },
   {
    "duration": 9,
    "start_time": "2022-04-09T14:39:15.746Z"
   },
   {
    "duration": 9,
    "start_time": "2022-04-09T14:39:22.563Z"
   },
   {
    "duration": 15,
    "start_time": "2022-04-09T14:39:36.931Z"
   },
   {
    "duration": 13,
    "start_time": "2022-04-09T14:39:39.498Z"
   },
   {
    "duration": 3,
    "start_time": "2022-04-09T14:39:44.583Z"
   },
   {
    "duration": 89,
    "start_time": "2022-04-09T14:39:44.589Z"
   },
   {
    "duration": 26,
    "start_time": "2022-04-09T14:39:44.680Z"
   },
   {
    "duration": 39,
    "start_time": "2022-04-09T14:39:44.708Z"
   },
   {
    "duration": 12,
    "start_time": "2022-04-09T14:39:44.750Z"
   },
   {
    "duration": 8,
    "start_time": "2022-04-09T14:39:44.764Z"
   },
   {
    "duration": 22,
    "start_time": "2022-04-09T14:39:44.774Z"
   },
   {
    "duration": 14,
    "start_time": "2022-04-09T14:39:44.798Z"
   },
   {
    "duration": 30,
    "start_time": "2022-04-09T14:39:44.814Z"
   },
   {
    "duration": 12,
    "start_time": "2022-04-09T14:39:44.847Z"
   },
   {
    "duration": 7,
    "start_time": "2022-04-09T14:39:44.863Z"
   },
   {
    "duration": 12,
    "start_time": "2022-04-09T14:39:44.872Z"
   },
   {
    "duration": 8,
    "start_time": "2022-04-09T14:39:44.886Z"
   },
   {
    "duration": 45,
    "start_time": "2022-04-09T14:39:44.896Z"
   },
   {
    "duration": 7,
    "start_time": "2022-04-09T14:39:44.943Z"
   },
   {
    "duration": 12,
    "start_time": "2022-04-09T14:39:44.952Z"
   },
   {
    "duration": 6,
    "start_time": "2022-04-09T14:39:44.966Z"
   },
   {
    "duration": 13,
    "start_time": "2022-04-09T14:39:44.974Z"
   },
   {
    "duration": 13,
    "start_time": "2022-04-09T14:39:44.989Z"
   },
   {
    "duration": 39,
    "start_time": "2022-04-09T14:39:45.004Z"
   },
   {
    "duration": 13,
    "start_time": "2022-04-09T14:39:45.045Z"
   },
   {
    "duration": 17,
    "start_time": "2022-04-09T14:39:45.060Z"
   },
   {
    "duration": 10,
    "start_time": "2022-04-09T14:39:45.079Z"
   },
   {
    "duration": 17,
    "start_time": "2022-04-09T14:39:45.091Z"
   },
   {
    "duration": 14,
    "start_time": "2022-04-09T14:39:45.110Z"
   },
   {
    "duration": 12,
    "start_time": "2022-04-09T14:39:45.125Z"
   },
   {
    "duration": 11,
    "start_time": "2022-04-09T14:39:45.139Z"
   },
   {
    "duration": 17,
    "start_time": "2022-04-09T14:39:45.152Z"
   },
   {
    "duration": 11,
    "start_time": "2022-04-09T14:39:45.173Z"
   },
   {
    "duration": 15,
    "start_time": "2022-04-09T14:39:45.186Z"
   },
   {
    "duration": 16,
    "start_time": "2022-04-09T14:39:45.203Z"
   },
   {
    "duration": 16,
    "start_time": "2022-04-09T14:39:45.221Z"
   },
   {
    "duration": 22,
    "start_time": "2022-04-09T14:39:45.239Z"
   },
   {
    "duration": 15,
    "start_time": "2022-04-09T14:39:45.263Z"
   },
   {
    "duration": 8,
    "start_time": "2022-04-09T14:39:45.280Z"
   },
   {
    "duration": 15,
    "start_time": "2022-04-09T14:39:45.290Z"
   },
   {
    "duration": 12,
    "start_time": "2022-04-09T14:39:45.306Z"
   },
   {
    "duration": 18,
    "start_time": "2022-04-09T14:39:45.320Z"
   },
   {
    "duration": 12,
    "start_time": "2022-04-09T14:39:45.340Z"
   },
   {
    "duration": 12,
    "start_time": "2022-04-09T14:39:45.354Z"
   },
   {
    "duration": 7,
    "start_time": "2022-04-09T14:39:45.368Z"
   },
   {
    "duration": 19,
    "start_time": "2022-04-09T14:39:45.377Z"
   },
   {
    "duration": 22,
    "start_time": "2022-04-09T14:39:45.398Z"
   },
   {
    "duration": 154,
    "start_time": "2022-04-09T14:41:46.027Z"
   },
   {
    "duration": 4,
    "start_time": "2022-04-09T14:46:18.747Z"
   },
   {
    "duration": 6,
    "start_time": "2022-04-09T14:46:53.965Z"
   },
   {
    "duration": 22,
    "start_time": "2022-04-09T14:47:14.150Z"
   },
   {
    "duration": 24,
    "start_time": "2022-04-09T14:47:21.287Z"
   },
   {
    "duration": 30,
    "start_time": "2022-04-09T14:47:36.259Z"
   },
   {
    "duration": 26,
    "start_time": "2022-04-09T14:48:02.344Z"
   },
   {
    "duration": 25,
    "start_time": "2022-04-09T14:48:20.487Z"
   },
   {
    "duration": 6,
    "start_time": "2022-04-09T14:48:53.922Z"
   },
   {
    "duration": 14,
    "start_time": "2022-04-09T14:52:16.750Z"
   },
   {
    "duration": 13,
    "start_time": "2022-04-09T14:52:20.219Z"
   },
   {
    "duration": 14,
    "start_time": "2022-04-09T14:53:33.333Z"
   },
   {
    "duration": 14,
    "start_time": "2022-04-09T14:53:36.842Z"
   },
   {
    "duration": 2,
    "start_time": "2022-04-09T14:53:38.509Z"
   },
   {
    "duration": 2204,
    "start_time": "2022-04-09T14:53:53.607Z"
   },
   {
    "duration": 0,
    "start_time": "2022-04-09T14:54:00.878Z"
   },
   {
    "duration": 2302,
    "start_time": "2022-04-09T14:54:02.958Z"
   },
   {
    "duration": 6,
    "start_time": "2022-04-09T14:54:37.179Z"
   },
   {
    "duration": 13,
    "start_time": "2022-04-09T14:55:01.723Z"
   },
   {
    "duration": 10,
    "start_time": "2022-04-09T14:55:08.449Z"
   },
   {
    "duration": 14,
    "start_time": "2022-04-09T14:55:13.464Z"
   },
   {
    "duration": 14,
    "start_time": "2022-04-09T14:55:33.979Z"
   },
   {
    "duration": 12,
    "start_time": "2022-04-09T14:59:57.361Z"
   },
   {
    "duration": 5,
    "start_time": "2022-04-09T15:00:01.950Z"
   },
   {
    "duration": 346,
    "start_time": "2022-04-09T15:00:44.731Z"
   },
   {
    "duration": 6,
    "start_time": "2022-04-09T15:00:46.963Z"
   },
   {
    "duration": 434,
    "start_time": "2022-04-09T15:02:01.312Z"
   },
   {
    "duration": 6,
    "start_time": "2022-04-09T15:02:03.851Z"
   },
   {
    "duration": 423,
    "start_time": "2022-04-09T15:02:20.901Z"
   },
   {
    "duration": 438,
    "start_time": "2022-04-09T15:02:28.235Z"
   },
   {
    "duration": 3,
    "start_time": "2022-04-09T15:03:16.277Z"
   },
   {
    "duration": 6,
    "start_time": "2022-04-09T15:04:42.125Z"
   },
   {
    "duration": 11,
    "start_time": "2022-04-09T15:04:43.970Z"
   },
   {
    "duration": 1033,
    "start_time": "2022-04-09T15:09:48.939Z"
   },
   {
    "duration": 319,
    "start_time": "2022-04-09T15:12:34.929Z"
   },
   {
    "duration": 162,
    "start_time": "2022-04-09T15:15:05.996Z"
   },
   {
    "duration": 215,
    "start_time": "2022-04-09T15:15:12.280Z"
   },
   {
    "duration": 168,
    "start_time": "2022-04-09T15:15:29.539Z"
   },
   {
    "duration": 206,
    "start_time": "2022-04-09T15:15:39.044Z"
   },
   {
    "duration": 163,
    "start_time": "2022-04-09T15:16:13.100Z"
   },
   {
    "duration": 247,
    "start_time": "2022-04-09T15:16:27.818Z"
   },
   {
    "duration": 303,
    "start_time": "2022-04-09T15:16:35.815Z"
   },
   {
    "duration": 210,
    "start_time": "2022-04-09T15:16:46.972Z"
   },
   {
    "duration": 195,
    "start_time": "2022-04-09T15:17:59.672Z"
   },
   {
    "duration": 197,
    "start_time": "2022-04-09T15:18:21.390Z"
   },
   {
    "duration": 207,
    "start_time": "2022-04-09T15:18:29.902Z"
   },
   {
    "duration": 180,
    "start_time": "2022-04-09T15:19:02.469Z"
   },
   {
    "duration": 204,
    "start_time": "2022-04-09T15:19:08.161Z"
   },
   {
    "duration": 271,
    "start_time": "2022-04-09T15:19:35.557Z"
   },
   {
    "duration": 370,
    "start_time": "2022-04-09T15:21:13.012Z"
   },
   {
    "duration": 9,
    "start_time": "2022-04-09T15:27:08.790Z"
   },
   {
    "duration": 168,
    "start_time": "2022-04-09T15:27:41.612Z"
   },
   {
    "duration": 3,
    "start_time": "2022-04-09T15:28:24.066Z"
   },
   {
    "duration": 169,
    "start_time": "2022-04-09T15:28:31.090Z"
   },
   {
    "duration": 168,
    "start_time": "2022-04-09T15:31:13.557Z"
   },
   {
    "duration": 200,
    "start_time": "2022-04-09T15:31:35.217Z"
   },
   {
    "duration": 175,
    "start_time": "2022-04-09T15:32:19.780Z"
   },
   {
    "duration": 164,
    "start_time": "2022-04-09T15:32:25.183Z"
   },
   {
    "duration": 161,
    "start_time": "2022-04-09T15:32:34.370Z"
   },
   {
    "duration": 126,
    "start_time": "2022-04-09T15:33:59.426Z"
   },
   {
    "duration": 170,
    "start_time": "2022-04-09T15:34:15.074Z"
   },
   {
    "duration": 3,
    "start_time": "2022-04-09T15:37:29.167Z"
   },
   {
    "duration": 91,
    "start_time": "2022-04-09T15:37:29.173Z"
   },
   {
    "duration": 30,
    "start_time": "2022-04-09T15:37:29.267Z"
   },
   {
    "duration": 49,
    "start_time": "2022-04-09T15:37:29.299Z"
   },
   {
    "duration": 12,
    "start_time": "2022-04-09T15:37:29.350Z"
   },
   {
    "duration": 115,
    "start_time": "2022-04-09T15:37:29.364Z"
   },
   {
    "duration": 23,
    "start_time": "2022-04-09T15:37:29.481Z"
   },
   {
    "duration": 15,
    "start_time": "2022-04-09T15:37:29.506Z"
   },
   {
    "duration": 22,
    "start_time": "2022-04-09T15:37:29.523Z"
   },
   {
    "duration": 8,
    "start_time": "2022-04-09T15:37:29.547Z"
   },
   {
    "duration": 12,
    "start_time": "2022-04-09T15:37:29.559Z"
   },
   {
    "duration": 17,
    "start_time": "2022-04-09T15:37:29.573Z"
   },
   {
    "duration": 12,
    "start_time": "2022-04-09T15:37:29.591Z"
   },
   {
    "duration": 10,
    "start_time": "2022-04-09T15:37:29.605Z"
   },
   {
    "duration": 9,
    "start_time": "2022-04-09T15:37:29.638Z"
   },
   {
    "duration": 9,
    "start_time": "2022-04-09T15:37:29.649Z"
   },
   {
    "duration": 15,
    "start_time": "2022-04-09T15:37:29.660Z"
   },
   {
    "duration": 14,
    "start_time": "2022-04-09T15:37:29.677Z"
   },
   {
    "duration": 14,
    "start_time": "2022-04-09T15:37:29.692Z"
   },
   {
    "duration": 35,
    "start_time": "2022-04-09T15:37:29.707Z"
   },
   {
    "duration": 7,
    "start_time": "2022-04-09T15:37:29.744Z"
   },
   {
    "duration": 10,
    "start_time": "2022-04-09T15:37:29.753Z"
   },
   {
    "duration": 11,
    "start_time": "2022-04-09T15:37:29.765Z"
   },
   {
    "duration": 13,
    "start_time": "2022-04-09T15:37:29.778Z"
   },
   {
    "duration": 11,
    "start_time": "2022-04-09T15:37:29.793Z"
   },
   {
    "duration": 13,
    "start_time": "2022-04-09T15:37:29.805Z"
   },
   {
    "duration": 24,
    "start_time": "2022-04-09T15:37:29.820Z"
   },
   {
    "duration": 19,
    "start_time": "2022-04-09T15:37:29.846Z"
   },
   {
    "duration": 27,
    "start_time": "2022-04-09T15:37:29.869Z"
   },
   {
    "duration": 23,
    "start_time": "2022-04-09T15:37:29.899Z"
   },
   {
    "duration": 16,
    "start_time": "2022-04-09T15:37:29.924Z"
   },
   {
    "duration": 12,
    "start_time": "2022-04-09T15:37:29.942Z"
   },
   {
    "duration": 12,
    "start_time": "2022-04-09T15:37:29.956Z"
   },
   {
    "duration": 17,
    "start_time": "2022-04-09T15:37:29.971Z"
   },
   {
    "duration": 11,
    "start_time": "2022-04-09T15:37:29.990Z"
   },
   {
    "duration": 22,
    "start_time": "2022-04-09T15:37:30.003Z"
   },
   {
    "duration": 27,
    "start_time": "2022-04-09T15:37:30.027Z"
   },
   {
    "duration": 13,
    "start_time": "2022-04-09T15:37:30.055Z"
   },
   {
    "duration": 16,
    "start_time": "2022-04-09T15:37:30.070Z"
   },
   {
    "duration": 39,
    "start_time": "2022-04-09T15:37:30.088Z"
   },
   {
    "duration": 27,
    "start_time": "2022-04-09T15:37:30.129Z"
   },
   {
    "duration": 26,
    "start_time": "2022-04-09T15:37:30.159Z"
   },
   {
    "duration": 26,
    "start_time": "2022-04-09T15:37:30.187Z"
   },
   {
    "duration": 11,
    "start_time": "2022-04-09T15:37:30.215Z"
   },
   {
    "duration": 23,
    "start_time": "2022-04-09T15:37:30.228Z"
   },
   {
    "duration": 25,
    "start_time": "2022-04-09T15:37:30.253Z"
   },
   {
    "duration": 37,
    "start_time": "2022-04-09T15:37:30.280Z"
   },
   {
    "duration": 467,
    "start_time": "2022-04-09T15:37:30.319Z"
   },
   {
    "duration": 7,
    "start_time": "2022-04-09T15:37:30.788Z"
   },
   {
    "duration": 31,
    "start_time": "2022-04-09T15:37:30.797Z"
   },
   {
    "duration": 41,
    "start_time": "2022-04-09T15:37:30.830Z"
   },
   {
    "duration": 330,
    "start_time": "2022-04-09T15:37:30.873Z"
   },
   {
    "duration": 307,
    "start_time": "2022-04-09T15:37:31.205Z"
   },
   {
    "duration": 335,
    "start_time": "2022-04-09T15:37:31.514Z"
   },
   {
    "duration": 209,
    "start_time": "2022-04-09T15:37:31.851Z"
   },
   {
    "duration": 10,
    "start_time": "2022-04-09T15:37:32.062Z"
   },
   {
    "duration": 174,
    "start_time": "2022-04-09T15:37:32.074Z"
   },
   {
    "duration": 7,
    "start_time": "2022-04-09T15:38:22.384Z"
   },
   {
    "duration": 168,
    "start_time": "2022-04-09T15:39:11.164Z"
   },
   {
    "duration": 251,
    "start_time": "2022-04-09T15:39:22.690Z"
   },
   {
    "duration": 6,
    "start_time": "2022-04-09T15:43:48.511Z"
   },
   {
    "duration": 3,
    "start_time": "2022-04-09T15:46:07.965Z"
   },
   {
    "duration": 86,
    "start_time": "2022-04-09T15:46:07.970Z"
   },
   {
    "duration": 26,
    "start_time": "2022-04-09T15:46:08.058Z"
   },
   {
    "duration": 16,
    "start_time": "2022-04-09T15:46:08.086Z"
   },
   {
    "duration": 43,
    "start_time": "2022-04-09T15:46:08.104Z"
   },
   {
    "duration": 11,
    "start_time": "2022-04-09T15:46:08.148Z"
   },
   {
    "duration": 22,
    "start_time": "2022-04-09T15:46:08.161Z"
   },
   {
    "duration": 10,
    "start_time": "2022-04-09T15:46:08.184Z"
   },
   {
    "duration": 14,
    "start_time": "2022-04-09T15:46:08.196Z"
   },
   {
    "duration": 31,
    "start_time": "2022-04-09T15:46:08.212Z"
   },
   {
    "duration": 5,
    "start_time": "2022-04-09T15:46:08.246Z"
   },
   {
    "duration": 15,
    "start_time": "2022-04-09T15:46:08.253Z"
   },
   {
    "duration": 9,
    "start_time": "2022-04-09T15:46:08.270Z"
   },
   {
    "duration": 7,
    "start_time": "2022-04-09T15:46:08.280Z"
   },
   {
    "duration": 13,
    "start_time": "2022-04-09T15:46:08.289Z"
   },
   {
    "duration": 38,
    "start_time": "2022-04-09T15:46:08.304Z"
   },
   {
    "duration": 11,
    "start_time": "2022-04-09T15:46:08.344Z"
   },
   {
    "duration": 17,
    "start_time": "2022-04-09T15:46:08.357Z"
   },
   {
    "duration": 13,
    "start_time": "2022-04-09T15:46:08.376Z"
   },
   {
    "duration": 11,
    "start_time": "2022-04-09T15:46:08.391Z"
   },
   {
    "duration": 11,
    "start_time": "2022-04-09T15:46:08.404Z"
   },
   {
    "duration": 22,
    "start_time": "2022-04-09T15:46:08.417Z"
   },
   {
    "duration": 6,
    "start_time": "2022-04-09T15:46:08.441Z"
   },
   {
    "duration": 11,
    "start_time": "2022-04-09T15:46:08.449Z"
   },
   {
    "duration": 12,
    "start_time": "2022-04-09T15:46:08.462Z"
   },
   {
    "duration": 11,
    "start_time": "2022-04-09T15:46:08.477Z"
   },
   {
    "duration": 15,
    "start_time": "2022-04-09T15:46:08.490Z"
   },
   {
    "duration": 13,
    "start_time": "2022-04-09T15:46:08.506Z"
   },
   {
    "duration": 9,
    "start_time": "2022-04-09T15:46:08.540Z"
   },
   {
    "duration": 15,
    "start_time": "2022-04-09T15:46:08.551Z"
   },
   {
    "duration": 12,
    "start_time": "2022-04-09T15:46:08.568Z"
   },
   {
    "duration": 11,
    "start_time": "2022-04-09T15:46:08.582Z"
   },
   {
    "duration": 17,
    "start_time": "2022-04-09T15:46:08.595Z"
   },
   {
    "duration": 7,
    "start_time": "2022-04-09T15:46:08.614Z"
   },
   {
    "duration": 21,
    "start_time": "2022-04-09T15:46:08.623Z"
   },
   {
    "duration": 11,
    "start_time": "2022-04-09T15:46:08.645Z"
   },
   {
    "duration": 16,
    "start_time": "2022-04-09T15:46:08.658Z"
   },
   {
    "duration": 14,
    "start_time": "2022-04-09T15:46:08.677Z"
   },
   {
    "duration": 18,
    "start_time": "2022-04-09T15:46:08.693Z"
   },
   {
    "duration": 10,
    "start_time": "2022-04-09T15:46:08.712Z"
   },
   {
    "duration": 22,
    "start_time": "2022-04-09T15:46:08.724Z"
   },
   {
    "duration": 25,
    "start_time": "2022-04-09T15:46:08.748Z"
   },
   {
    "duration": 4,
    "start_time": "2022-04-09T15:46:08.775Z"
   },
   {
    "duration": 13,
    "start_time": "2022-04-09T15:46:08.781Z"
   },
   {
    "duration": 21,
    "start_time": "2022-04-09T15:46:08.796Z"
   },
   {
    "duration": 28,
    "start_time": "2022-04-09T15:46:08.819Z"
   },
   {
    "duration": 430,
    "start_time": "2022-04-09T15:46:08.849Z"
   },
   {
    "duration": 5,
    "start_time": "2022-04-09T15:46:09.281Z"
   },
   {
    "duration": 10,
    "start_time": "2022-04-09T15:46:09.288Z"
   },
   {
    "duration": 17,
    "start_time": "2022-04-09T15:46:09.300Z"
   },
   {
    "duration": 294,
    "start_time": "2022-04-09T15:46:09.319Z"
   },
   {
    "duration": 325,
    "start_time": "2022-04-09T15:46:09.616Z"
   },
   {
    "duration": 232,
    "start_time": "2022-04-09T15:46:09.943Z"
   },
   {
    "duration": 220,
    "start_time": "2022-04-09T15:46:10.176Z"
   },
   {
    "duration": 10,
    "start_time": "2022-04-09T15:46:10.397Z"
   },
   {
    "duration": 6,
    "start_time": "2022-04-09T15:46:10.409Z"
   },
   {
    "duration": 199,
    "start_time": "2022-04-09T15:46:10.416Z"
   },
   {
    "duration": 259,
    "start_time": "2022-04-09T15:47:12.820Z"
   },
   {
    "duration": 178,
    "start_time": "2022-04-09T15:48:00.949Z"
   },
   {
    "duration": 205,
    "start_time": "2022-04-09T15:49:38.135Z"
   },
   {
    "duration": 183,
    "start_time": "2022-04-09T15:50:03.982Z"
   },
   {
    "duration": 195,
    "start_time": "2022-04-09T15:50:09.150Z"
   },
   {
    "duration": 186,
    "start_time": "2022-04-09T15:50:22.012Z"
   },
   {
    "duration": 177,
    "start_time": "2022-04-09T15:54:06.602Z"
   },
   {
    "duration": 49,
    "start_time": "2022-04-09T16:02:32.723Z"
   },
   {
    "duration": 38,
    "start_time": "2022-04-09T16:02:57.013Z"
   },
   {
    "duration": 36,
    "start_time": "2022-04-09T16:03:49.724Z"
   },
   {
    "duration": 1155,
    "start_time": "2022-04-09T16:06:40.496Z"
   },
   {
    "duration": 1028,
    "start_time": "2022-04-09T16:06:57.758Z"
   },
   {
    "duration": 12,
    "start_time": "2022-04-09T16:09:35.858Z"
   },
   {
    "duration": 2060,
    "start_time": "2022-04-09T16:09:46.557Z"
   },
   {
    "duration": 1186,
    "start_time": "2022-04-09T16:15:12.643Z"
   },
   {
    "duration": 1079,
    "start_time": "2022-04-09T16:17:11.422Z"
   },
   {
    "duration": 1246,
    "start_time": "2022-04-09T16:17:16.348Z"
   },
   {
    "duration": 10,
    "start_time": "2022-04-09T16:25:40.939Z"
   },
   {
    "duration": 145,
    "start_time": "2022-04-09T16:25:56.208Z"
   },
   {
    "duration": 141,
    "start_time": "2022-04-09T16:26:01.971Z"
   },
   {
    "duration": 131,
    "start_time": "2022-04-09T16:27:55.856Z"
   },
   {
    "duration": 162,
    "start_time": "2022-04-09T16:28:06.331Z"
   },
   {
    "duration": 136,
    "start_time": "2022-04-09T16:28:12.331Z"
   },
   {
    "duration": 144,
    "start_time": "2022-04-09T16:28:20.740Z"
   },
   {
    "duration": 152,
    "start_time": "2022-04-09T16:31:12.875Z"
   },
   {
    "duration": 159,
    "start_time": "2022-04-09T16:31:40.032Z"
   },
   {
    "duration": 171,
    "start_time": "2022-04-09T16:33:33.534Z"
   },
   {
    "duration": 156,
    "start_time": "2022-04-09T16:33:42.556Z"
   },
   {
    "duration": 146,
    "start_time": "2022-04-09T16:36:05.531Z"
   },
   {
    "duration": 153,
    "start_time": "2022-04-09T16:36:13.824Z"
   },
   {
    "duration": 10,
    "start_time": "2022-04-09T16:43:17.858Z"
   },
   {
    "duration": 168,
    "start_time": "2022-04-09T16:43:35.336Z"
   },
   {
    "duration": 133,
    "start_time": "2022-04-09T16:49:24.669Z"
   },
   {
    "duration": 131,
    "start_time": "2022-04-09T16:53:14.735Z"
   },
   {
    "duration": 128,
    "start_time": "2022-04-09T16:53:25.655Z"
   },
   {
    "duration": 140,
    "start_time": "2022-04-09T16:53:35.397Z"
   },
   {
    "duration": 16,
    "start_time": "2022-04-09T16:53:47.256Z"
   },
   {
    "duration": 153,
    "start_time": "2022-04-09T16:56:35.727Z"
   },
   {
    "duration": 139,
    "start_time": "2022-04-09T16:58:06.042Z"
   },
   {
    "duration": 25,
    "start_time": "2022-04-09T17:02:27.393Z"
   },
   {
    "duration": 470,
    "start_time": "2022-04-09T17:04:34.590Z"
   },
   {
    "duration": 645,
    "start_time": "2022-04-09T17:06:55.023Z"
   },
   {
    "duration": 3,
    "start_time": "2022-04-09T17:07:24.925Z"
   },
   {
    "duration": 109,
    "start_time": "2022-04-09T17:07:24.930Z"
   },
   {
    "duration": 26,
    "start_time": "2022-04-09T17:07:25.042Z"
   },
   {
    "duration": 21,
    "start_time": "2022-04-09T17:07:25.070Z"
   },
   {
    "duration": 47,
    "start_time": "2022-04-09T17:07:25.093Z"
   },
   {
    "duration": 9,
    "start_time": "2022-04-09T17:07:25.142Z"
   },
   {
    "duration": 22,
    "start_time": "2022-04-09T17:07:25.153Z"
   },
   {
    "duration": 16,
    "start_time": "2022-04-09T17:07:25.177Z"
   },
   {
    "duration": 13,
    "start_time": "2022-04-09T17:07:25.195Z"
   },
   {
    "duration": 30,
    "start_time": "2022-04-09T17:07:25.210Z"
   },
   {
    "duration": 5,
    "start_time": "2022-04-09T17:07:25.243Z"
   },
   {
    "duration": 13,
    "start_time": "2022-04-09T17:07:25.250Z"
   },
   {
    "duration": 8,
    "start_time": "2022-04-09T17:07:25.265Z"
   },
   {
    "duration": 10,
    "start_time": "2022-04-09T17:07:25.275Z"
   },
   {
    "duration": 11,
    "start_time": "2022-04-09T17:07:25.287Z"
   },
   {
    "duration": 14,
    "start_time": "2022-04-09T17:07:25.299Z"
   },
   {
    "duration": 7,
    "start_time": "2022-04-09T17:07:25.339Z"
   },
   {
    "duration": 12,
    "start_time": "2022-04-09T17:07:25.348Z"
   },
   {
    "duration": 11,
    "start_time": "2022-04-09T17:07:25.362Z"
   },
   {
    "duration": 13,
    "start_time": "2022-04-09T17:07:25.374Z"
   },
   {
    "duration": 16,
    "start_time": "2022-04-09T17:07:25.388Z"
   },
   {
    "duration": 12,
    "start_time": "2022-04-09T17:07:25.406Z"
   },
   {
    "duration": 25,
    "start_time": "2022-04-09T17:07:25.419Z"
   },
   {
    "duration": 11,
    "start_time": "2022-04-09T17:07:25.445Z"
   },
   {
    "duration": 11,
    "start_time": "2022-04-09T17:07:25.458Z"
   },
   {
    "duration": 10,
    "start_time": "2022-04-09T17:07:25.471Z"
   },
   {
    "duration": 20,
    "start_time": "2022-04-09T17:07:25.483Z"
   },
   {
    "duration": 11,
    "start_time": "2022-04-09T17:07:25.505Z"
   },
   {
    "duration": 22,
    "start_time": "2022-04-09T17:07:25.522Z"
   },
   {
    "duration": 15,
    "start_time": "2022-04-09T17:07:25.547Z"
   },
   {
    "duration": 12,
    "start_time": "2022-04-09T17:07:25.563Z"
   },
   {
    "duration": 13,
    "start_time": "2022-04-09T17:07:25.577Z"
   },
   {
    "duration": 19,
    "start_time": "2022-04-09T17:07:25.591Z"
   },
   {
    "duration": 13,
    "start_time": "2022-04-09T17:07:25.612Z"
   },
   {
    "duration": 22,
    "start_time": "2022-04-09T17:07:25.626Z"
   },
   {
    "duration": 9,
    "start_time": "2022-04-09T17:07:25.649Z"
   },
   {
    "duration": 13,
    "start_time": "2022-04-09T17:07:25.660Z"
   },
   {
    "duration": 14,
    "start_time": "2022-04-09T17:07:25.674Z"
   },
   {
    "duration": 17,
    "start_time": "2022-04-09T17:07:25.690Z"
   },
   {
    "duration": 31,
    "start_time": "2022-04-09T17:07:25.709Z"
   },
   {
    "duration": 10,
    "start_time": "2022-04-09T17:07:25.742Z"
   },
   {
    "duration": 20,
    "start_time": "2022-04-09T17:07:25.754Z"
   },
   {
    "duration": 4,
    "start_time": "2022-04-09T17:07:25.776Z"
   },
   {
    "duration": 25,
    "start_time": "2022-04-09T17:07:25.782Z"
   },
   {
    "duration": 23,
    "start_time": "2022-04-09T17:07:25.809Z"
   },
   {
    "duration": 19,
    "start_time": "2022-04-09T17:07:25.834Z"
   },
   {
    "duration": 449,
    "start_time": "2022-04-09T17:07:25.854Z"
   },
   {
    "duration": 7,
    "start_time": "2022-04-09T17:07:26.304Z"
   },
   {
    "duration": 10,
    "start_time": "2022-04-09T17:07:26.313Z"
   },
   {
    "duration": 23,
    "start_time": "2022-04-09T17:07:26.324Z"
   },
   {
    "duration": 307,
    "start_time": "2022-04-09T17:07:26.349Z"
   },
   {
    "duration": 325,
    "start_time": "2022-04-09T17:07:26.658Z"
   },
   {
    "duration": 221,
    "start_time": "2022-04-09T17:07:26.985Z"
   },
   {
    "duration": 203,
    "start_time": "2022-04-09T17:07:27.208Z"
   },
   {
    "duration": 10,
    "start_time": "2022-04-09T17:07:27.414Z"
   },
   {
    "duration": 6,
    "start_time": "2022-04-09T17:07:27.439Z"
   },
   {
    "duration": 187,
    "start_time": "2022-04-09T17:07:27.447Z"
   },
   {
    "duration": 169,
    "start_time": "2022-04-09T17:07:27.640Z"
   },
   {
    "duration": 1039,
    "start_time": "2022-04-09T17:07:27.811Z"
   },
   {
    "duration": 164,
    "start_time": "2022-04-09T17:07:28.852Z"
   },
   {
    "duration": 165,
    "start_time": "2022-04-09T17:07:29.019Z"
   },
   {
    "duration": 167,
    "start_time": "2022-04-09T17:07:29.186Z"
   },
   {
    "duration": 141,
    "start_time": "2022-04-09T17:07:29.355Z"
   },
   {
    "duration": 494,
    "start_time": "2022-04-09T17:07:29.497Z"
   },
   {
    "duration": 3,
    "start_time": "2022-04-09T17:08:11.585Z"
   },
   {
    "duration": 94,
    "start_time": "2022-04-09T17:08:11.590Z"
   },
   {
    "duration": 54,
    "start_time": "2022-04-09T17:08:11.686Z"
   },
   {
    "duration": 17,
    "start_time": "2022-04-09T17:08:11.742Z"
   },
   {
    "duration": 12,
    "start_time": "2022-04-09T17:08:11.760Z"
   },
   {
    "duration": 17,
    "start_time": "2022-04-09T17:08:11.774Z"
   },
   {
    "duration": 47,
    "start_time": "2022-04-09T17:08:11.793Z"
   },
   {
    "duration": 10,
    "start_time": "2022-04-09T17:08:11.842Z"
   },
   {
    "duration": 14,
    "start_time": "2022-04-09T17:08:11.855Z"
   },
   {
    "duration": 13,
    "start_time": "2022-04-09T17:08:11.872Z"
   },
   {
    "duration": 10,
    "start_time": "2022-04-09T17:08:11.887Z"
   },
   {
    "duration": 11,
    "start_time": "2022-04-09T17:08:11.899Z"
   },
   {
    "duration": 13,
    "start_time": "2022-04-09T17:08:11.938Z"
   },
   {
    "duration": 9,
    "start_time": "2022-04-09T17:08:11.953Z"
   },
   {
    "duration": 12,
    "start_time": "2022-04-09T17:08:11.964Z"
   },
   {
    "duration": 10,
    "start_time": "2022-04-09T17:08:11.978Z"
   },
   {
    "duration": 13,
    "start_time": "2022-04-09T17:08:11.990Z"
   },
   {
    "duration": 39,
    "start_time": "2022-04-09T17:08:12.004Z"
   },
   {
    "duration": 8,
    "start_time": "2022-04-09T17:08:12.045Z"
   },
   {
    "duration": 9,
    "start_time": "2022-04-09T17:08:12.055Z"
   },
   {
    "duration": 11,
    "start_time": "2022-04-09T17:08:12.065Z"
   },
   {
    "duration": 9,
    "start_time": "2022-04-09T17:08:12.078Z"
   },
   {
    "duration": 18,
    "start_time": "2022-04-09T17:08:12.088Z"
   },
   {
    "duration": 31,
    "start_time": "2022-04-09T17:08:12.108Z"
   },
   {
    "duration": 5,
    "start_time": "2022-04-09T17:08:12.141Z"
   },
   {
    "duration": 9,
    "start_time": "2022-04-09T17:08:12.148Z"
   },
   {
    "duration": 24,
    "start_time": "2022-04-09T17:08:12.159Z"
   },
   {
    "duration": 10,
    "start_time": "2022-04-09T17:08:12.188Z"
   },
   {
    "duration": 17,
    "start_time": "2022-04-09T17:08:12.200Z"
   },
   {
    "duration": 20,
    "start_time": "2022-04-09T17:08:12.219Z"
   },
   {
    "duration": 6,
    "start_time": "2022-04-09T17:08:12.241Z"
   },
   {
    "duration": 13,
    "start_time": "2022-04-09T17:08:12.249Z"
   },
   {
    "duration": 16,
    "start_time": "2022-04-09T17:08:12.264Z"
   },
   {
    "duration": 7,
    "start_time": "2022-04-09T17:08:12.282Z"
   },
   {
    "duration": 16,
    "start_time": "2022-04-09T17:08:12.291Z"
   },
   {
    "duration": 10,
    "start_time": "2022-04-09T17:08:12.309Z"
   },
   {
    "duration": 8,
    "start_time": "2022-04-09T17:08:12.339Z"
   },
   {
    "duration": 16,
    "start_time": "2022-04-09T17:08:12.348Z"
   },
   {
    "duration": 16,
    "start_time": "2022-04-09T17:08:12.366Z"
   },
   {
    "duration": 12,
    "start_time": "2022-04-09T17:08:12.383Z"
   },
   {
    "duration": 14,
    "start_time": "2022-04-09T17:08:12.397Z"
   },
   {
    "duration": 34,
    "start_time": "2022-04-09T17:08:12.413Z"
   },
   {
    "duration": 4,
    "start_time": "2022-04-09T17:08:12.449Z"
   },
   {
    "duration": 18,
    "start_time": "2022-04-09T17:08:12.455Z"
   },
   {
    "duration": 24,
    "start_time": "2022-04-09T17:08:12.475Z"
   },
   {
    "duration": 16,
    "start_time": "2022-04-09T17:08:12.501Z"
   },
   {
    "duration": 573,
    "start_time": "2022-04-09T17:08:12.519Z"
   },
   {
    "duration": 7,
    "start_time": "2022-04-09T17:08:13.093Z"
   },
   {
    "duration": 10,
    "start_time": "2022-04-09T17:08:13.102Z"
   },
   {
    "duration": 32,
    "start_time": "2022-04-09T17:08:13.114Z"
   },
   {
    "duration": 301,
    "start_time": "2022-04-09T17:08:13.148Z"
   },
   {
    "duration": 337,
    "start_time": "2022-04-09T17:08:13.451Z"
   },
   {
    "duration": 232,
    "start_time": "2022-04-09T17:08:13.791Z"
   },
   {
    "duration": 213,
    "start_time": "2022-04-09T17:08:14.025Z"
   },
   {
    "duration": 9,
    "start_time": "2022-04-09T17:08:14.240Z"
   },
   {
    "duration": 10,
    "start_time": "2022-04-09T17:08:14.251Z"
   },
   {
    "duration": 197,
    "start_time": "2022-04-09T17:08:14.263Z"
   },
   {
    "duration": 40,
    "start_time": "2022-04-09T17:08:14.462Z"
   },
   {
    "duration": 1196,
    "start_time": "2022-04-09T17:08:14.504Z"
   },
   {
    "duration": 161,
    "start_time": "2022-04-09T17:08:15.702Z"
   },
   {
    "duration": 212,
    "start_time": "2022-04-09T17:08:15.865Z"
   },
   {
    "duration": 211,
    "start_time": "2022-04-09T17:08:16.079Z"
   },
   {
    "duration": 164,
    "start_time": "2022-04-09T17:08:16.292Z"
   },
   {
    "duration": 502,
    "start_time": "2022-04-09T17:08:16.458Z"
   },
   {
    "duration": 524,
    "start_time": "2022-04-09T17:08:57.779Z"
   },
   {
    "duration": 480,
    "start_time": "2022-04-09T17:09:04.425Z"
   },
   {
    "duration": 669,
    "start_time": "2022-04-09T17:09:14.755Z"
   },
   {
    "duration": 485,
    "start_time": "2022-04-09T17:14:24.224Z"
   },
   {
    "duration": 510,
    "start_time": "2022-04-09T17:14:36.631Z"
   },
   {
    "duration": 9,
    "start_time": "2022-04-09T17:22:28.350Z"
   },
   {
    "duration": 13,
    "start_time": "2022-04-09T17:22:34.566Z"
   },
   {
    "duration": 6,
    "start_time": "2022-04-09T17:22:50.973Z"
   },
   {
    "duration": 12,
    "start_time": "2022-04-09T17:28:30.133Z"
   },
   {
    "duration": 26,
    "start_time": "2022-04-09T17:28:46.398Z"
   },
   {
    "duration": 26,
    "start_time": "2022-04-09T17:29:06.746Z"
   },
   {
    "duration": 25,
    "start_time": "2022-04-09T17:29:11.307Z"
   },
   {
    "duration": 10,
    "start_time": "2022-04-09T17:38:52.980Z"
   },
   {
    "duration": 174,
    "start_time": "2022-04-09T17:39:06.359Z"
   },
   {
    "duration": 169,
    "start_time": "2022-04-09T17:40:50.614Z"
   },
   {
    "duration": 167,
    "start_time": "2022-04-09T17:40:53.427Z"
   },
   {
    "duration": 19,
    "start_time": "2022-04-09T17:48:09.182Z"
   },
   {
    "duration": 179,
    "start_time": "2022-04-09T17:48:26.125Z"
   },
   {
    "duration": 3,
    "start_time": "2022-04-09T17:49:08.378Z"
   },
   {
    "duration": 40,
    "start_time": "2022-04-09T17:50:30.209Z"
   },
   {
    "duration": 484,
    "start_time": "2022-04-09T17:51:24.792Z"
   },
   {
    "duration": 9,
    "start_time": "2022-04-09T17:53:04.968Z"
   },
   {
    "duration": 3,
    "start_time": "2022-04-09T17:53:07.965Z"
   },
   {
    "duration": 102,
    "start_time": "2022-04-09T17:53:07.970Z"
   },
   {
    "duration": 26,
    "start_time": "2022-04-09T17:53:08.075Z"
   },
   {
    "duration": 45,
    "start_time": "2022-04-09T17:53:08.103Z"
   },
   {
    "duration": 12,
    "start_time": "2022-04-09T17:53:08.151Z"
   },
   {
    "duration": 10,
    "start_time": "2022-04-09T17:53:08.165Z"
   },
   {
    "duration": 62,
    "start_time": "2022-04-09T17:53:08.177Z"
   },
   {
    "duration": 10,
    "start_time": "2022-04-09T17:53:08.241Z"
   },
   {
    "duration": 19,
    "start_time": "2022-04-09T17:53:08.253Z"
   },
   {
    "duration": 17,
    "start_time": "2022-04-09T17:53:08.274Z"
   },
   {
    "duration": 9,
    "start_time": "2022-04-09T17:53:08.295Z"
   },
   {
    "duration": 18,
    "start_time": "2022-04-09T17:53:08.306Z"
   },
   {
    "duration": 9,
    "start_time": "2022-04-09T17:53:08.339Z"
   },
   {
    "duration": 8,
    "start_time": "2022-04-09T17:53:08.350Z"
   },
   {
    "duration": 12,
    "start_time": "2022-04-09T17:53:08.359Z"
   },
   {
    "duration": 8,
    "start_time": "2022-04-09T17:53:08.373Z"
   },
   {
    "duration": 15,
    "start_time": "2022-04-09T17:53:08.383Z"
   },
   {
    "duration": 41,
    "start_time": "2022-04-09T17:53:08.401Z"
   },
   {
    "duration": 12,
    "start_time": "2022-04-09T17:53:08.444Z"
   },
   {
    "duration": 12,
    "start_time": "2022-04-09T17:53:08.459Z"
   },
   {
    "duration": 18,
    "start_time": "2022-04-09T17:53:08.473Z"
   },
   {
    "duration": 15,
    "start_time": "2022-04-09T17:53:08.493Z"
   },
   {
    "duration": 18,
    "start_time": "2022-04-09T17:53:08.510Z"
   },
   {
    "duration": 24,
    "start_time": "2022-04-09T17:53:08.539Z"
   },
   {
    "duration": 14,
    "start_time": "2022-04-09T17:53:08.565Z"
   },
   {
    "duration": 9,
    "start_time": "2022-04-09T17:53:08.582Z"
   },
   {
    "duration": 21,
    "start_time": "2022-04-09T17:53:08.593Z"
   },
   {
    "duration": 13,
    "start_time": "2022-04-09T17:53:08.616Z"
   },
   {
    "duration": 16,
    "start_time": "2022-04-09T17:53:08.633Z"
   },
   {
    "duration": 14,
    "start_time": "2022-04-09T17:53:08.651Z"
   },
   {
    "duration": 11,
    "start_time": "2022-04-09T17:53:08.667Z"
   },
   {
    "duration": 14,
    "start_time": "2022-04-09T17:53:08.680Z"
   },
   {
    "duration": 17,
    "start_time": "2022-04-09T17:53:08.696Z"
   },
   {
    "duration": 7,
    "start_time": "2022-04-09T17:53:08.715Z"
   },
   {
    "duration": 16,
    "start_time": "2022-04-09T17:53:08.723Z"
   },
   {
    "duration": 9,
    "start_time": "2022-04-09T17:53:08.741Z"
   },
   {
    "duration": 13,
    "start_time": "2022-04-09T17:53:08.752Z"
   },
   {
    "duration": 14,
    "start_time": "2022-04-09T17:53:08.767Z"
   },
   {
    "duration": 12,
    "start_time": "2022-04-09T17:53:08.783Z"
   },
   {
    "duration": 6,
    "start_time": "2022-04-09T17:53:08.797Z"
   },
   {
    "duration": 35,
    "start_time": "2022-04-09T17:53:08.805Z"
   },
   {
    "duration": 15,
    "start_time": "2022-04-09T17:53:08.842Z"
   },
   {
    "duration": 4,
    "start_time": "2022-04-09T17:53:08.859Z"
   },
   {
    "duration": 16,
    "start_time": "2022-04-09T17:53:08.865Z"
   },
   {
    "duration": 20,
    "start_time": "2022-04-09T17:53:08.883Z"
   },
   {
    "duration": 37,
    "start_time": "2022-04-09T17:53:08.905Z"
   },
   {
    "duration": 581,
    "start_time": "2022-04-09T17:53:08.944Z"
   },
   {
    "duration": 11,
    "start_time": "2022-04-09T17:53:09.527Z"
   },
   {
    "duration": 5,
    "start_time": "2022-04-09T17:53:09.541Z"
   },
   {
    "duration": 17,
    "start_time": "2022-04-09T17:53:09.548Z"
   },
   {
    "duration": 319,
    "start_time": "2022-04-09T17:53:09.567Z"
   },
   {
    "duration": 340,
    "start_time": "2022-04-09T17:53:09.888Z"
   },
   {
    "duration": 239,
    "start_time": "2022-04-09T17:53:10.230Z"
   },
   {
    "duration": 222,
    "start_time": "2022-04-09T17:53:10.471Z"
   },
   {
    "duration": 12,
    "start_time": "2022-04-09T17:53:10.696Z"
   },
   {
    "duration": 31,
    "start_time": "2022-04-09T17:53:10.710Z"
   },
   {
    "duration": 199,
    "start_time": "2022-04-09T17:53:10.744Z"
   },
   {
    "duration": 41,
    "start_time": "2022-04-09T17:53:10.946Z"
   },
   {
    "duration": 1452,
    "start_time": "2022-04-09T17:53:10.989Z"
   },
   {
    "duration": 223,
    "start_time": "2022-04-09T17:53:12.443Z"
   },
   {
    "duration": 185,
    "start_time": "2022-04-09T17:53:12.668Z"
   },
   {
    "duration": 171,
    "start_time": "2022-04-09T17:53:12.855Z"
   },
   {
    "duration": 149,
    "start_time": "2022-04-09T17:53:13.028Z"
   },
   {
    "duration": 534,
    "start_time": "2022-04-09T17:53:13.178Z"
   },
   {
    "duration": 35,
    "start_time": "2022-04-09T17:53:13.715Z"
   },
   {
    "duration": 191,
    "start_time": "2022-04-09T17:53:13.752Z"
   },
   {
    "duration": 12,
    "start_time": "2022-04-09T17:53:13.944Z"
   },
   {
    "duration": 232,
    "start_time": "2022-04-09T17:53:13.957Z"
   },
   {
    "duration": 267,
    "start_time": "2022-04-09T17:53:14.192Z"
   },
   {
    "duration": 41,
    "start_time": "2022-04-09T17:53:14.461Z"
   },
   {
    "duration": 45,
    "start_time": "2022-04-09T17:53:14.503Z"
   },
   {
    "duration": 34,
    "start_time": "2022-04-09T17:57:50.813Z"
   },
   {
    "duration": 3,
    "start_time": "2022-04-09T17:57:54.765Z"
   },
   {
    "duration": 99,
    "start_time": "2022-04-09T17:57:54.770Z"
   },
   {
    "duration": 26,
    "start_time": "2022-04-09T17:57:54.872Z"
   },
   {
    "duration": 47,
    "start_time": "2022-04-09T17:57:54.899Z"
   },
   {
    "duration": 12,
    "start_time": "2022-04-09T17:57:54.948Z"
   },
   {
    "duration": 12,
    "start_time": "2022-04-09T17:57:54.961Z"
   },
   {
    "duration": 26,
    "start_time": "2022-04-09T17:57:54.975Z"
   },
   {
    "duration": 38,
    "start_time": "2022-04-09T17:57:55.003Z"
   },
   {
    "duration": 37,
    "start_time": "2022-04-09T17:57:55.043Z"
   },
   {
    "duration": 18,
    "start_time": "2022-04-09T17:57:55.082Z"
   },
   {
    "duration": 11,
    "start_time": "2022-04-09T17:57:55.103Z"
   },
   {
    "duration": 34,
    "start_time": "2022-04-09T17:57:55.115Z"
   },
   {
    "duration": 11,
    "start_time": "2022-04-09T17:57:55.152Z"
   },
   {
    "duration": 12,
    "start_time": "2022-04-09T17:57:55.165Z"
   },
   {
    "duration": 13,
    "start_time": "2022-04-09T17:57:55.180Z"
   },
   {
    "duration": 25,
    "start_time": "2022-04-09T17:57:55.195Z"
   },
   {
    "duration": 12,
    "start_time": "2022-04-09T17:57:55.222Z"
   },
   {
    "duration": 17,
    "start_time": "2022-04-09T17:57:55.236Z"
   },
   {
    "duration": 12,
    "start_time": "2022-04-09T17:57:55.255Z"
   },
   {
    "duration": 10,
    "start_time": "2022-04-09T17:57:55.268Z"
   },
   {
    "duration": 19,
    "start_time": "2022-04-09T17:57:55.279Z"
   },
   {
    "duration": 23,
    "start_time": "2022-04-09T17:57:55.300Z"
   },
   {
    "duration": 17,
    "start_time": "2022-04-09T17:57:55.325Z"
   },
   {
    "duration": 12,
    "start_time": "2022-04-09T17:57:55.344Z"
   },
   {
    "duration": 18,
    "start_time": "2022-04-09T17:57:55.358Z"
   },
   {
    "duration": 13,
    "start_time": "2022-04-09T17:57:55.378Z"
   },
   {
    "duration": 18,
    "start_time": "2022-04-09T17:57:55.393Z"
   },
   {
    "duration": 21,
    "start_time": "2022-04-09T17:57:55.413Z"
   },
   {
    "duration": 12,
    "start_time": "2022-04-09T17:57:55.439Z"
   },
   {
    "duration": 22,
    "start_time": "2022-04-09T17:57:55.453Z"
   },
   {
    "duration": 18,
    "start_time": "2022-04-09T17:57:55.476Z"
   },
   {
    "duration": 29,
    "start_time": "2022-04-09T17:57:55.496Z"
   },
   {
    "duration": 19,
    "start_time": "2022-04-09T17:57:55.527Z"
   },
   {
    "duration": 10,
    "start_time": "2022-04-09T17:57:55.548Z"
   },
   {
    "duration": 16,
    "start_time": "2022-04-09T17:57:55.560Z"
   },
   {
    "duration": 32,
    "start_time": "2022-04-09T17:57:55.578Z"
   },
   {
    "duration": 17,
    "start_time": "2022-04-09T17:57:55.612Z"
   },
   {
    "duration": 21,
    "start_time": "2022-04-09T17:57:55.631Z"
   },
   {
    "duration": 33,
    "start_time": "2022-04-09T17:57:55.654Z"
   },
   {
    "duration": 8,
    "start_time": "2022-04-09T17:57:55.689Z"
   },
   {
    "duration": 16,
    "start_time": "2022-04-09T17:57:55.699Z"
   },
   {
    "duration": 25,
    "start_time": "2022-04-09T17:57:55.717Z"
   },
   {
    "duration": 10,
    "start_time": "2022-04-09T17:57:55.744Z"
   },
   {
    "duration": 18,
    "start_time": "2022-04-09T17:57:55.756Z"
   },
   {
    "duration": 35,
    "start_time": "2022-04-09T17:57:55.776Z"
   },
   {
    "duration": 28,
    "start_time": "2022-04-09T17:57:55.813Z"
   },
   {
    "duration": 606,
    "start_time": "2022-04-09T17:57:55.842Z"
   },
   {
    "duration": 6,
    "start_time": "2022-04-09T17:57:56.450Z"
   },
   {
    "duration": 24,
    "start_time": "2022-04-09T17:57:56.457Z"
   },
   {
    "duration": 20,
    "start_time": "2022-04-09T17:57:56.483Z"
   },
   {
    "duration": 395,
    "start_time": "2022-04-09T17:57:56.505Z"
   },
   {
    "duration": 331,
    "start_time": "2022-04-09T17:57:56.902Z"
   },
   {
    "duration": 222,
    "start_time": "2022-04-09T17:57:57.235Z"
   },
   {
    "duration": 208,
    "start_time": "2022-04-09T17:57:57.459Z"
   },
   {
    "duration": 10,
    "start_time": "2022-04-09T17:57:57.669Z"
   },
   {
    "duration": 9,
    "start_time": "2022-04-09T17:57:57.681Z"
   },
   {
    "duration": 197,
    "start_time": "2022-04-09T17:57:57.691Z"
   },
   {
    "duration": 50,
    "start_time": "2022-04-09T17:57:57.889Z"
   },
   {
    "duration": 1048,
    "start_time": "2022-04-09T17:57:57.941Z"
   },
   {
    "duration": 165,
    "start_time": "2022-04-09T17:57:58.991Z"
   },
   {
    "duration": 356,
    "start_time": "2022-04-09T17:57:59.158Z"
   },
   {
    "duration": 165,
    "start_time": "2022-04-09T17:57:59.517Z"
   },
   {
    "duration": 143,
    "start_time": "2022-04-09T17:57:59.684Z"
   },
   {
    "duration": 499,
    "start_time": "2022-04-09T17:57:59.829Z"
   },
   {
    "duration": 28,
    "start_time": "2022-04-09T17:58:00.330Z"
   },
   {
    "duration": 187,
    "start_time": "2022-04-09T17:58:00.360Z"
   },
   {
    "duration": 33,
    "start_time": "2022-04-09T17:58:00.549Z"
   },
   {
    "duration": 0,
    "start_time": "2022-04-09T17:58:00.584Z"
   },
   {
    "duration": 0,
    "start_time": "2022-04-09T17:58:00.585Z"
   },
   {
    "duration": 0,
    "start_time": "2022-04-09T17:58:00.587Z"
   },
   {
    "duration": 0,
    "start_time": "2022-04-09T17:58:00.588Z"
   },
   {
    "duration": 11,
    "start_time": "2022-04-09T17:58:18.620Z"
   },
   {
    "duration": 198,
    "start_time": "2022-04-09T17:58:20.371Z"
   },
   {
    "duration": 251,
    "start_time": "2022-04-09T17:58:28.660Z"
   },
   {
    "duration": 19,
    "start_time": "2022-04-09T18:00:06.292Z"
   },
   {
    "duration": 38,
    "start_time": "2022-04-09T18:00:23.112Z"
   },
   {
    "duration": 21,
    "start_time": "2022-04-09T18:01:56.879Z"
   },
   {
    "duration": 173,
    "start_time": "2022-04-09T18:02:18.652Z"
   },
   {
    "duration": 9,
    "start_time": "2022-04-09T18:02:36.358Z"
   },
   {
    "duration": 194,
    "start_time": "2022-04-09T18:02:39.027Z"
   },
   {
    "duration": 9,
    "start_time": "2022-04-09T18:02:44.004Z"
   },
   {
    "duration": 184,
    "start_time": "2022-04-09T18:03:37.626Z"
   },
   {
    "duration": 230,
    "start_time": "2022-04-09T18:03:52.340Z"
   },
   {
    "duration": 35,
    "start_time": "2022-04-09T18:03:57.024Z"
   },
   {
    "duration": 37,
    "start_time": "2022-04-09T18:04:06.318Z"
   },
   {
    "duration": 16,
    "start_time": "2022-04-09T18:04:26.207Z"
   },
   {
    "duration": 185,
    "start_time": "2022-04-09T18:04:51.607Z"
   },
   {
    "duration": 190,
    "start_time": "2022-04-09T18:05:05.341Z"
   },
   {
    "duration": 393,
    "start_time": "2022-04-09T18:05:14.256Z"
   },
   {
    "duration": 36,
    "start_time": "2022-04-09T18:05:18.508Z"
   },
   {
    "duration": 35,
    "start_time": "2022-04-09T18:05:29.091Z"
   },
   {
    "duration": 171,
    "start_time": "2022-04-09T18:10:10.062Z"
   },
   {
    "duration": 179,
    "start_time": "2022-04-09T18:11:04.545Z"
   },
   {
    "duration": 8,
    "start_time": "2022-04-09T18:11:48.679Z"
   },
   {
    "duration": 5,
    "start_time": "2022-04-09T18:11:52.902Z"
   },
   {
    "duration": 710,
    "start_time": "2022-04-09T18:12:07.598Z"
   },
   {
    "duration": 11,
    "start_time": "2022-04-09T18:12:39.400Z"
   },
   {
    "duration": 12,
    "start_time": "2022-04-09T18:12:56.745Z"
   },
   {
    "duration": 292,
    "start_time": "2022-04-09T18:13:05.475Z"
   },
   {
    "duration": 18,
    "start_time": "2022-04-09T18:15:11.772Z"
   },
   {
    "duration": 464,
    "start_time": "2022-04-09T18:15:42.321Z"
   },
   {
    "duration": 21,
    "start_time": "2022-04-09T18:27:32.035Z"
   },
   {
    "duration": 21,
    "start_time": "2022-04-09T18:27:40.721Z"
   },
   {
    "duration": 738,
    "start_time": "2022-04-09T18:39:20.153Z"
   },
   {
    "duration": 84,
    "start_time": "2022-04-09T18:39:20.894Z"
   },
   {
    "duration": 31,
    "start_time": "2022-04-09T18:39:20.980Z"
   },
   {
    "duration": 30,
    "start_time": "2022-04-09T18:39:21.013Z"
   },
   {
    "duration": 12,
    "start_time": "2022-04-09T18:39:21.045Z"
   },
   {
    "duration": 9,
    "start_time": "2022-04-09T18:39:21.059Z"
   },
   {
    "duration": 22,
    "start_time": "2022-04-09T18:39:21.070Z"
   },
   {
    "duration": 16,
    "start_time": "2022-04-09T18:39:21.094Z"
   },
   {
    "duration": 33,
    "start_time": "2022-04-09T18:39:21.112Z"
   },
   {
    "duration": 18,
    "start_time": "2022-04-09T18:39:21.148Z"
   },
   {
    "duration": 17,
    "start_time": "2022-04-09T18:39:21.168Z"
   },
   {
    "duration": 15,
    "start_time": "2022-04-09T18:39:21.187Z"
   },
   {
    "duration": 11,
    "start_time": "2022-04-09T18:39:21.204Z"
   },
   {
    "duration": 22,
    "start_time": "2022-04-09T18:39:21.218Z"
   },
   {
    "duration": 7,
    "start_time": "2022-04-09T18:39:21.242Z"
   },
   {
    "duration": 15,
    "start_time": "2022-04-09T18:39:21.251Z"
   },
   {
    "duration": 8,
    "start_time": "2022-04-09T18:39:21.268Z"
   },
   {
    "duration": 13,
    "start_time": "2022-04-09T18:39:21.278Z"
   },
   {
    "duration": 14,
    "start_time": "2022-04-09T18:39:21.293Z"
   },
   {
    "duration": 36,
    "start_time": "2022-04-09T18:39:21.310Z"
   },
   {
    "duration": 8,
    "start_time": "2022-04-09T18:39:21.348Z"
   },
   {
    "duration": 12,
    "start_time": "2022-04-09T18:39:21.359Z"
   },
   {
    "duration": 13,
    "start_time": "2022-04-09T18:39:21.374Z"
   },
   {
    "duration": 15,
    "start_time": "2022-04-09T18:39:21.390Z"
   },
   {
    "duration": 15,
    "start_time": "2022-04-09T18:39:21.407Z"
   },
   {
    "duration": 14,
    "start_time": "2022-04-09T18:39:21.425Z"
   },
   {
    "duration": 30,
    "start_time": "2022-04-09T18:39:21.441Z"
   },
   {
    "duration": 10,
    "start_time": "2022-04-09T18:39:21.476Z"
   },
   {
    "duration": 20,
    "start_time": "2022-04-09T18:39:21.488Z"
   },
   {
    "duration": 16,
    "start_time": "2022-04-09T18:39:21.510Z"
   },
   {
    "duration": 17,
    "start_time": "2022-04-09T18:39:21.528Z"
   },
   {
    "duration": 14,
    "start_time": "2022-04-09T18:39:21.547Z"
   },
   {
    "duration": 26,
    "start_time": "2022-04-09T18:39:21.563Z"
   },
   {
    "duration": 20,
    "start_time": "2022-04-09T18:39:21.591Z"
   },
   {
    "duration": 21,
    "start_time": "2022-04-09T18:39:21.613Z"
   },
   {
    "duration": 20,
    "start_time": "2022-04-09T18:39:21.636Z"
   },
   {
    "duration": 9,
    "start_time": "2022-04-09T18:39:21.657Z"
   },
   {
    "duration": 14,
    "start_time": "2022-04-09T18:39:21.667Z"
   },
   {
    "duration": 15,
    "start_time": "2022-04-09T18:39:21.683Z"
   },
   {
    "duration": 7,
    "start_time": "2022-04-09T18:39:21.700Z"
   },
   {
    "duration": 14,
    "start_time": "2022-04-09T18:39:21.709Z"
   },
   {
    "duration": 28,
    "start_time": "2022-04-09T18:39:21.725Z"
   },
   {
    "duration": 5,
    "start_time": "2022-04-09T18:39:21.755Z"
   },
   {
    "duration": 14,
    "start_time": "2022-04-09T18:39:21.762Z"
   },
   {
    "duration": 22,
    "start_time": "2022-04-09T18:39:21.778Z"
   },
   {
    "duration": 28,
    "start_time": "2022-04-09T18:39:21.802Z"
   },
   {
    "duration": 443,
    "start_time": "2022-04-09T18:39:21.839Z"
   },
   {
    "duration": 6,
    "start_time": "2022-04-09T18:39:22.285Z"
   },
   {
    "duration": 14,
    "start_time": "2022-04-09T18:39:22.292Z"
   },
   {
    "duration": 21,
    "start_time": "2022-04-09T18:39:22.308Z"
   },
   {
    "duration": 375,
    "start_time": "2022-04-09T18:39:22.331Z"
   },
   {
    "duration": 337,
    "start_time": "2022-04-09T18:39:22.709Z"
   },
   {
    "duration": 219,
    "start_time": "2022-04-09T18:39:23.049Z"
   },
   {
    "duration": 216,
    "start_time": "2022-04-09T18:39:23.271Z"
   },
   {
    "duration": 10,
    "start_time": "2022-04-09T18:39:23.489Z"
   },
   {
    "duration": 6,
    "start_time": "2022-04-09T18:39:23.501Z"
   },
   {
    "duration": 203,
    "start_time": "2022-04-09T18:39:23.509Z"
   },
   {
    "duration": 51,
    "start_time": "2022-04-09T18:39:23.714Z"
   },
   {
    "duration": 1071,
    "start_time": "2022-04-09T18:39:23.767Z"
   },
   {
    "duration": 265,
    "start_time": "2022-04-09T18:39:24.840Z"
   },
   {
    "duration": 170,
    "start_time": "2022-04-09T18:39:25.107Z"
   },
   {
    "duration": 167,
    "start_time": "2022-04-09T18:39:25.280Z"
   },
   {
    "duration": 147,
    "start_time": "2022-04-09T18:39:25.449Z"
   },
   {
    "duration": 493,
    "start_time": "2022-04-09T18:39:25.598Z"
   },
   {
    "duration": 20,
    "start_time": "2022-04-09T18:39:26.093Z"
   },
   {
    "duration": 219,
    "start_time": "2022-04-09T18:39:26.115Z"
   },
   {
    "duration": 11,
    "start_time": "2022-04-09T18:39:26.335Z"
   },
   {
    "duration": 201,
    "start_time": "2022-04-09T18:39:26.348Z"
   },
   {
    "duration": 244,
    "start_time": "2022-04-09T18:39:26.552Z"
   },
   {
    "duration": 52,
    "start_time": "2022-04-09T18:39:26.799Z"
   },
   {
    "duration": 17,
    "start_time": "2022-04-09T18:39:26.854Z"
   },
   {
    "duration": 582,
    "start_time": "2022-04-09T18:39:26.873Z"
   },
   {
    "duration": 422,
    "start_time": "2022-04-09T18:39:27.457Z"
   },
   {
    "duration": 487,
    "start_time": "2022-04-09T18:39:27.882Z"
   },
   {
    "duration": 3428,
    "start_time": "2022-04-19T13:09:49.759Z"
   },
   {
    "duration": 459,
    "start_time": "2022-04-19T13:09:53.190Z"
   },
   {
    "duration": 174,
    "start_time": "2022-04-19T13:09:53.652Z"
   },
   {
    "duration": 103,
    "start_time": "2022-04-19T13:09:53.831Z"
   },
   {
    "duration": 95,
    "start_time": "2022-04-19T13:09:53.940Z"
   },
   {
    "duration": 107,
    "start_time": "2022-04-19T13:09:54.039Z"
   },
   {
    "duration": 125,
    "start_time": "2022-04-19T13:09:54.149Z"
   },
   {
    "duration": 69,
    "start_time": "2022-04-19T13:09:54.280Z"
   },
   {
    "duration": 74,
    "start_time": "2022-04-19T13:09:54.351Z"
   },
   {
    "duration": 24,
    "start_time": "2022-04-19T13:09:54.431Z"
   },
   {
    "duration": 69,
    "start_time": "2022-04-19T13:09:54.457Z"
   },
   {
    "duration": 23,
    "start_time": "2022-04-19T13:09:54.529Z"
   },
   {
    "duration": 24,
    "start_time": "2022-04-19T13:09:54.555Z"
   },
   {
    "duration": 10,
    "start_time": "2022-04-19T13:09:54.626Z"
   },
   {
    "duration": 25,
    "start_time": "2022-04-19T13:09:54.640Z"
   },
   {
    "duration": 80,
    "start_time": "2022-04-19T13:09:54.668Z"
   },
   {
    "duration": 31,
    "start_time": "2022-04-19T13:09:54.750Z"
   },
   {
    "duration": 23,
    "start_time": "2022-04-19T13:09:54.826Z"
   },
   {
    "duration": 76,
    "start_time": "2022-04-19T13:09:54.853Z"
   },
   {
    "duration": 88,
    "start_time": "2022-04-19T13:09:54.937Z"
   },
   {
    "duration": 20,
    "start_time": "2022-04-19T13:09:55.041Z"
   },
   {
    "duration": 60,
    "start_time": "2022-04-19T13:09:55.065Z"
   },
   {
    "duration": 26,
    "start_time": "2022-04-19T13:09:55.129Z"
   },
   {
    "duration": 19,
    "start_time": "2022-04-19T13:09:55.160Z"
   },
   {
    "duration": 16,
    "start_time": "2022-04-19T13:09:55.232Z"
   },
   {
    "duration": 17,
    "start_time": "2022-04-19T13:09:55.251Z"
   },
   {
    "duration": 77,
    "start_time": "2022-04-19T13:09:55.271Z"
   },
   {
    "duration": 24,
    "start_time": "2022-04-19T13:09:55.358Z"
   },
   {
    "duration": 45,
    "start_time": "2022-04-19T13:09:55.426Z"
   },
   {
    "duration": 55,
    "start_time": "2022-04-19T13:09:55.475Z"
   },
   {
    "duration": 5,
    "start_time": "2022-04-19T13:09:55.533Z"
   },
   {
    "duration": 19,
    "start_time": "2022-04-19T13:09:55.540Z"
   },
   {
    "duration": 95,
    "start_time": "2022-04-19T13:09:55.563Z"
   },
   {
    "duration": 8,
    "start_time": "2022-04-19T13:09:55.661Z"
   },
   {
    "duration": 57,
    "start_time": "2022-04-19T13:09:55.672Z"
   },
   {
    "duration": 39,
    "start_time": "2022-04-19T13:09:55.735Z"
   },
   {
    "duration": 49,
    "start_time": "2022-04-19T13:09:55.777Z"
   },
   {
    "duration": 47,
    "start_time": "2022-04-19T13:09:55.829Z"
   },
   {
    "duration": 56,
    "start_time": "2022-04-19T13:09:55.879Z"
   },
   {
    "duration": 38,
    "start_time": "2022-04-19T13:09:55.938Z"
   },
   {
    "duration": 17,
    "start_time": "2022-04-19T13:09:56.026Z"
   },
   {
    "duration": 96,
    "start_time": "2022-04-19T13:09:56.047Z"
   },
   {
    "duration": 12,
    "start_time": "2022-04-19T13:09:56.147Z"
   },
   {
    "duration": 67,
    "start_time": "2022-04-19T13:09:56.162Z"
   },
   {
    "duration": 56,
    "start_time": "2022-04-19T13:09:56.232Z"
   },
   {
    "duration": 67,
    "start_time": "2022-04-19T13:09:56.290Z"
   },
   {
    "duration": 2264,
    "start_time": "2022-04-19T13:09:56.360Z"
   },
   {
    "duration": 11,
    "start_time": "2022-04-19T13:09:58.628Z"
   },
   {
    "duration": 31,
    "start_time": "2022-04-19T13:09:58.643Z"
   },
   {
    "duration": 106,
    "start_time": "2022-04-19T13:09:58.678Z"
   },
   {
    "duration": 1853,
    "start_time": "2022-04-19T13:09:58.786Z"
   },
   {
    "duration": 853,
    "start_time": "2022-04-19T13:10:00.642Z"
   },
   {
    "duration": 465,
    "start_time": "2022-04-19T13:10:01.498Z"
   },
   {
    "duration": 404,
    "start_time": "2022-04-19T13:10:01.965Z"
   },
   {
    "duration": 15,
    "start_time": "2022-04-19T13:10:02.373Z"
   },
   {
    "duration": 39,
    "start_time": "2022-04-19T13:10:02.391Z"
   },
   {
    "duration": 443,
    "start_time": "2022-04-19T13:10:02.433Z"
   },
   {
    "duration": 94,
    "start_time": "2022-04-19T13:10:02.879Z"
   },
   {
    "duration": 2560,
    "start_time": "2022-04-19T13:10:02.976Z"
   },
   {
    "duration": 510,
    "start_time": "2022-04-19T13:10:05.539Z"
   },
   {
    "duration": 327,
    "start_time": "2022-04-19T13:10:06.052Z"
   },
   {
    "duration": 289,
    "start_time": "2022-04-19T13:10:06.382Z"
   },
   {
    "duration": 285,
    "start_time": "2022-04-19T13:10:06.673Z"
   },
   {
    "duration": 1096,
    "start_time": "2022-04-19T13:10:06.960Z"
   },
   {
    "duration": 29,
    "start_time": "2022-04-19T13:10:08.059Z"
   },
   {
    "duration": 494,
    "start_time": "2022-04-19T13:10:08.091Z"
   },
   {
    "duration": 17,
    "start_time": "2022-04-19T13:10:08.588Z"
   },
   {
    "duration": 499,
    "start_time": "2022-04-19T13:10:08.608Z"
   },
   {
    "duration": 590,
    "start_time": "2022-04-19T13:10:09.110Z"
   },
   {
    "duration": 74,
    "start_time": "2022-04-19T13:10:09.703Z"
   },
   {
    "duration": 52,
    "start_time": "2022-04-19T13:10:09.779Z"
   },
   {
    "duration": 1281,
    "start_time": "2022-04-19T13:10:09.837Z"
   },
   {
    "duration": 679,
    "start_time": "2022-04-19T13:10:11.126Z"
   },
   {
    "duration": 861,
    "start_time": "2022-04-19T13:10:11.808Z"
   },
   {
    "duration": 882,
    "start_time": "2022-04-19T13:47:55.436Z"
   },
   {
    "duration": 119,
    "start_time": "2022-04-19T13:47:56.321Z"
   },
   {
    "duration": 46,
    "start_time": "2022-04-19T13:47:56.442Z"
   },
   {
    "duration": 47,
    "start_time": "2022-04-19T13:47:56.491Z"
   },
   {
    "duration": 32,
    "start_time": "2022-04-19T13:47:56.542Z"
   },
   {
    "duration": 11,
    "start_time": "2022-04-19T13:47:56.577Z"
   },
   {
    "duration": 59,
    "start_time": "2022-04-19T13:47:56.591Z"
   },
   {
    "duration": 11,
    "start_time": "2022-04-19T13:47:56.653Z"
   },
   {
    "duration": 13,
    "start_time": "2022-04-19T13:47:56.667Z"
   },
   {
    "duration": 57,
    "start_time": "2022-04-19T13:47:56.682Z"
   },
   {
    "duration": 14,
    "start_time": "2022-04-19T13:47:56.742Z"
   },
   {
    "duration": 17,
    "start_time": "2022-04-19T13:47:56.759Z"
   },
   {
    "duration": 10,
    "start_time": "2022-04-19T13:47:56.779Z"
   },
   {
    "duration": 38,
    "start_time": "2022-04-19T13:47:56.794Z"
   },
   {
    "duration": 33,
    "start_time": "2022-04-19T13:47:56.837Z"
   },
   {
    "duration": 22,
    "start_time": "2022-04-19T13:47:56.873Z"
   },
   {
    "duration": 34,
    "start_time": "2022-04-19T13:47:56.898Z"
   },
   {
    "duration": 48,
    "start_time": "2022-04-19T13:47:56.935Z"
   },
   {
    "duration": 171,
    "start_time": "2022-04-19T13:47:56.986Z"
   },
   {
    "duration": 23,
    "start_time": "2022-04-19T13:47:57.160Z"
   },
   {
    "duration": 10,
    "start_time": "2022-04-19T13:47:57.188Z"
   },
   {
    "duration": 24,
    "start_time": "2022-04-19T13:47:57.201Z"
   },
   {
    "duration": 17,
    "start_time": "2022-04-19T13:47:57.227Z"
   },
   {
    "duration": 12,
    "start_time": "2022-04-19T13:47:57.247Z"
   },
   {
    "duration": 11,
    "start_time": "2022-04-19T13:47:57.262Z"
   },
   {
    "duration": 12,
    "start_time": "2022-04-19T13:47:57.276Z"
   },
   {
    "duration": 36,
    "start_time": "2022-04-19T13:47:57.290Z"
   },
   {
    "duration": 18,
    "start_time": "2022-04-19T13:47:57.328Z"
   },
   {
    "duration": 13,
    "start_time": "2022-04-19T13:47:57.348Z"
   },
   {
    "duration": 10,
    "start_time": "2022-04-19T13:47:57.363Z"
   },
   {
    "duration": 16,
    "start_time": "2022-04-19T13:47:57.377Z"
   },
   {
    "duration": 61,
    "start_time": "2022-04-19T13:47:57.396Z"
   },
   {
    "duration": 21,
    "start_time": "2022-04-19T13:47:57.460Z"
   },
   {
    "duration": 6,
    "start_time": "2022-04-19T13:47:57.484Z"
   },
   {
    "duration": 47,
    "start_time": "2022-04-19T13:47:57.492Z"
   },
   {
    "duration": 13,
    "start_time": "2022-04-19T13:47:57.542Z"
   },
   {
    "duration": 9,
    "start_time": "2022-04-19T13:47:57.558Z"
   },
   {
    "duration": 12,
    "start_time": "2022-04-19T13:47:57.570Z"
   },
   {
    "duration": 53,
    "start_time": "2022-04-19T13:47:57.584Z"
   },
   {
    "duration": 8,
    "start_time": "2022-04-19T13:47:57.644Z"
   },
   {
    "duration": 14,
    "start_time": "2022-04-19T13:47:57.658Z"
   },
   {
    "duration": 24,
    "start_time": "2022-04-19T13:47:57.675Z"
   },
   {
    "duration": 27,
    "start_time": "2022-04-19T13:47:57.701Z"
   },
   {
    "duration": 20,
    "start_time": "2022-04-19T13:47:57.734Z"
   },
   {
    "duration": 22,
    "start_time": "2022-04-19T13:47:57.756Z"
   },
   {
    "duration": 49,
    "start_time": "2022-04-19T13:47:57.781Z"
   },
   {
    "duration": 780,
    "start_time": "2022-04-19T13:47:57.832Z"
   },
   {
    "duration": 20,
    "start_time": "2022-04-19T13:47:58.614Z"
   },
   {
    "duration": 11,
    "start_time": "2022-04-19T13:47:58.636Z"
   },
   {
    "duration": 25,
    "start_time": "2022-04-19T13:47:58.650Z"
   },
   {
    "duration": 869,
    "start_time": "2022-04-19T13:47:58.678Z"
   },
   {
    "duration": 869,
    "start_time": "2022-04-19T13:47:59.550Z"
   },
   {
    "duration": 360,
    "start_time": "2022-04-19T13:48:00.422Z"
   },
   {
    "duration": 347,
    "start_time": "2022-04-19T13:48:00.784Z"
   },
   {
    "duration": 18,
    "start_time": "2022-04-19T13:48:01.138Z"
   },
   {
    "duration": 9,
    "start_time": "2022-04-19T13:48:01.159Z"
   },
   {
    "duration": 478,
    "start_time": "2022-04-19T13:48:01.171Z"
   },
   {
    "duration": 105,
    "start_time": "2022-04-19T13:48:01.652Z"
   },
   {
    "duration": 2064,
    "start_time": "2022-04-19T13:48:01.760Z"
   },
   {
    "duration": 606,
    "start_time": "2022-04-19T13:48:03.831Z"
   },
   {
    "duration": 270,
    "start_time": "2022-04-19T13:48:04.444Z"
   },
   {
    "duration": 283,
    "start_time": "2022-04-19T13:48:04.717Z"
   },
   {
    "duration": 252,
    "start_time": "2022-04-19T13:48:05.002Z"
   },
   {
    "duration": 823,
    "start_time": "2022-04-19T13:48:05.257Z"
   },
   {
    "duration": 47,
    "start_time": "2022-04-19T13:48:06.082Z"
   },
   {
    "duration": 309,
    "start_time": "2022-04-19T13:48:06.131Z"
   },
   {
    "duration": 12,
    "start_time": "2022-04-19T13:48:06.442Z"
   },
   {
    "duration": 327,
    "start_time": "2022-04-19T13:48:06.457Z"
   },
   {
    "duration": 399,
    "start_time": "2022-04-19T13:48:06.786Z"
   },
   {
    "duration": 72,
    "start_time": "2022-04-19T13:48:07.187Z"
   },
   {
    "duration": 21,
    "start_time": "2022-04-19T13:48:07.262Z"
   },
   {
    "duration": 864,
    "start_time": "2022-04-19T13:48:07.285Z"
   },
   {
    "duration": 495,
    "start_time": "2022-04-19T13:48:08.151Z"
   },
   {
    "duration": 785,
    "start_time": "2022-04-19T13:48:08.649Z"
   },
   {
    "duration": 47,
    "start_time": "2022-04-20T13:14:00.076Z"
   },
   {
    "duration": 5,
    "start_time": "2022-04-20T13:14:18.008Z"
   },
   {
    "duration": 822,
    "start_time": "2022-04-20T13:14:25.401Z"
   },
   {
    "duration": 80,
    "start_time": "2022-04-20T13:14:26.225Z"
   },
   {
    "duration": 29,
    "start_time": "2022-04-20T13:14:26.307Z"
   },
   {
    "duration": 15,
    "start_time": "2022-04-20T13:14:26.338Z"
   },
   {
    "duration": 11,
    "start_time": "2022-04-20T13:14:26.354Z"
   },
   {
    "duration": 7,
    "start_time": "2022-04-20T13:14:26.366Z"
   },
   {
    "duration": 47,
    "start_time": "2022-04-20T13:14:26.374Z"
   },
   {
    "duration": 9,
    "start_time": "2022-04-20T13:14:26.423Z"
   },
   {
    "duration": 10,
    "start_time": "2022-04-20T13:14:26.433Z"
   },
   {
    "duration": 8,
    "start_time": "2022-04-20T13:14:26.445Z"
   },
   {
    "duration": 6,
    "start_time": "2022-04-20T13:14:26.454Z"
   },
   {
    "duration": 8,
    "start_time": "2022-04-20T13:14:26.462Z"
   },
   {
    "duration": 37,
    "start_time": "2022-04-20T13:14:26.473Z"
   },
   {
    "duration": 6,
    "start_time": "2022-04-20T13:14:26.512Z"
   },
   {
    "duration": 40,
    "start_time": "2022-04-20T13:14:26.519Z"
   },
   {
    "duration": 7,
    "start_time": "2022-04-20T13:14:26.560Z"
   },
   {
    "duration": 8,
    "start_time": "2022-04-20T13:14:26.568Z"
   },
   {
    "duration": 6,
    "start_time": "2022-04-20T13:14:26.607Z"
   },
   {
    "duration": 9,
    "start_time": "2022-04-20T13:14:26.615Z"
   },
   {
    "duration": 7,
    "start_time": "2022-04-20T13:14:26.626Z"
   },
   {
    "duration": 7,
    "start_time": "2022-04-20T13:14:26.634Z"
   },
   {
    "duration": 4,
    "start_time": "2022-04-20T13:14:26.643Z"
   },
   {
    "duration": 3,
    "start_time": "2022-04-20T13:14:26.649Z"
   },
   {
    "duration": 5,
    "start_time": "2022-04-20T13:14:26.654Z"
   },
   {
    "duration": 4,
    "start_time": "2022-04-20T13:14:26.707Z"
   },
   {
    "duration": 10,
    "start_time": "2022-04-20T13:14:26.712Z"
   },
   {
    "duration": 4,
    "start_time": "2022-04-20T13:14:26.723Z"
   },
   {
    "duration": 6,
    "start_time": "2022-04-20T13:14:26.732Z"
   },
   {
    "duration": 7,
    "start_time": "2022-04-20T13:14:26.740Z"
   },
   {
    "duration": 7,
    "start_time": "2022-04-20T13:14:26.749Z"
   },
   {
    "duration": 9,
    "start_time": "2022-04-20T13:14:26.758Z"
   },
   {
    "duration": 41,
    "start_time": "2022-04-20T13:14:26.769Z"
   },
   {
    "duration": 6,
    "start_time": "2022-04-20T13:14:26.811Z"
   },
   {
    "duration": 13,
    "start_time": "2022-04-20T13:14:26.818Z"
   },
   {
    "duration": 11,
    "start_time": "2022-04-20T13:14:26.833Z"
   },
   {
    "duration": 9,
    "start_time": "2022-04-20T13:14:26.846Z"
   },
   {
    "duration": 8,
    "start_time": "2022-04-20T13:14:26.857Z"
   },
   {
    "duration": 45,
    "start_time": "2022-04-20T13:14:26.867Z"
   },
   {
    "duration": 10,
    "start_time": "2022-04-20T13:14:26.914Z"
   },
   {
    "duration": 9,
    "start_time": "2022-04-20T13:14:26.926Z"
   },
   {
    "duration": 5,
    "start_time": "2022-04-20T13:14:26.937Z"
   },
   {
    "duration": 8,
    "start_time": "2022-04-20T13:14:26.944Z"
   },
   {
    "duration": 55,
    "start_time": "2022-04-20T13:14:26.953Z"
   },
   {
    "duration": 5,
    "start_time": "2022-04-20T13:14:27.010Z"
   },
   {
    "duration": 8,
    "start_time": "2022-04-20T13:14:27.016Z"
   },
   {
    "duration": 16,
    "start_time": "2022-04-20T13:14:27.025Z"
   },
   {
    "duration": 17,
    "start_time": "2022-04-20T13:14:27.042Z"
   },
   {
    "duration": 442,
    "start_time": "2022-04-20T13:14:27.061Z"
   },
   {
    "duration": 6,
    "start_time": "2022-04-20T13:14:27.505Z"
   },
   {
    "duration": 6,
    "start_time": "2022-04-20T13:14:27.513Z"
   },
   {
    "duration": 18,
    "start_time": "2022-04-20T13:14:27.520Z"
   },
   {
    "duration": 384,
    "start_time": "2022-04-20T13:14:27.540Z"
   },
   {
    "duration": 323,
    "start_time": "2022-04-20T13:14:27.926Z"
   },
   {
    "duration": 217,
    "start_time": "2022-04-20T13:14:28.251Z"
   },
   {
    "duration": 200,
    "start_time": "2022-04-20T13:14:28.469Z"
   },
   {
    "duration": 9,
    "start_time": "2022-04-20T13:14:28.671Z"
   },
   {
    "duration": 5,
    "start_time": "2022-04-20T13:14:28.681Z"
   },
   {
    "duration": 193,
    "start_time": "2022-04-20T13:14:28.687Z"
   },
   {
    "duration": 46,
    "start_time": "2022-04-20T13:14:28.881Z"
   },
   {
    "duration": 1025,
    "start_time": "2022-04-20T13:14:28.929Z"
   },
   {
    "duration": 240,
    "start_time": "2022-04-20T13:14:29.955Z"
   },
   {
    "duration": 157,
    "start_time": "2022-04-20T13:14:30.197Z"
   },
   {
    "duration": 251,
    "start_time": "2022-04-20T13:14:30.356Z"
   },
   {
    "duration": 236,
    "start_time": "2022-04-20T13:14:30.609Z"
   },
   {
    "duration": 983,
    "start_time": "2022-04-20T13:14:30.847Z"
   },
   {
    "duration": 17,
    "start_time": "2022-04-20T13:14:31.832Z"
   },
   {
    "duration": 213,
    "start_time": "2022-04-20T13:14:31.908Z"
   },
   {
    "duration": 7,
    "start_time": "2022-04-20T13:14:32.123Z"
   },
   {
    "duration": 181,
    "start_time": "2022-04-20T13:14:32.132Z"
   },
   {
    "duration": 245,
    "start_time": "2022-04-20T13:14:32.315Z"
   },
   {
    "duration": 73,
    "start_time": "2022-04-20T13:14:32.562Z"
   },
   {
    "duration": 13,
    "start_time": "2022-04-20T13:14:32.636Z"
   },
   {
    "duration": 578,
    "start_time": "2022-04-20T13:14:32.650Z"
   },
   {
    "duration": 290,
    "start_time": "2022-04-20T13:14:33.230Z"
   },
   {
    "duration": 456,
    "start_time": "2022-04-20T13:14:33.522Z"
   },
   {
    "duration": 2,
    "start_time": "2022-04-20T13:16:56.912Z"
   },
   {
    "duration": 74,
    "start_time": "2022-04-20T13:16:56.919Z"
   },
   {
    "duration": 39,
    "start_time": "2022-04-20T13:16:56.996Z"
   },
   {
    "duration": 19,
    "start_time": "2022-04-20T13:16:57.037Z"
   },
   {
    "duration": 12,
    "start_time": "2022-04-20T13:16:57.059Z"
   },
   {
    "duration": 43,
    "start_time": "2022-04-20T13:16:57.072Z"
   },
   {
    "duration": 18,
    "start_time": "2022-04-20T13:16:57.117Z"
   },
   {
    "duration": 8,
    "start_time": "2022-04-20T13:16:57.137Z"
   },
   {
    "duration": 9,
    "start_time": "2022-04-20T13:16:57.147Z"
   },
   {
    "duration": 8,
    "start_time": "2022-04-20T13:16:57.158Z"
   },
   {
    "duration": 5,
    "start_time": "2022-04-20T13:16:57.209Z"
   },
   {
    "duration": 9,
    "start_time": "2022-04-20T13:16:57.216Z"
   },
   {
    "duration": 6,
    "start_time": "2022-04-20T13:16:57.226Z"
   },
   {
    "duration": 5,
    "start_time": "2022-04-20T13:16:57.233Z"
   },
   {
    "duration": 17,
    "start_time": "2022-04-20T13:16:57.239Z"
   },
   {
    "duration": 7,
    "start_time": "2022-04-20T13:16:57.257Z"
   },
   {
    "duration": 7,
    "start_time": "2022-04-20T13:16:57.307Z"
   },
   {
    "duration": 6,
    "start_time": "2022-04-20T13:16:57.316Z"
   },
   {
    "duration": 7,
    "start_time": "2022-04-20T13:16:57.324Z"
   },
   {
    "duration": 7,
    "start_time": "2022-04-20T13:16:57.333Z"
   },
   {
    "duration": 6,
    "start_time": "2022-04-20T13:16:57.341Z"
   },
   {
    "duration": 4,
    "start_time": "2022-04-20T13:16:57.349Z"
   },
   {
    "duration": 56,
    "start_time": "2022-04-20T13:16:57.354Z"
   },
   {
    "duration": 7,
    "start_time": "2022-04-20T13:16:57.411Z"
   },
   {
    "duration": 3,
    "start_time": "2022-04-20T13:16:57.419Z"
   },
   {
    "duration": 6,
    "start_time": "2022-04-20T13:16:57.424Z"
   },
   {
    "duration": 4,
    "start_time": "2022-04-20T13:16:57.432Z"
   },
   {
    "duration": 6,
    "start_time": "2022-04-20T13:16:57.438Z"
   },
   {
    "duration": 5,
    "start_time": "2022-04-20T13:16:57.449Z"
   },
   {
    "duration": 6,
    "start_time": "2022-04-20T13:16:57.456Z"
   },
   {
    "duration": 6,
    "start_time": "2022-04-20T13:16:57.507Z"
   },
   {
    "duration": 5,
    "start_time": "2022-04-20T13:16:57.515Z"
   },
   {
    "duration": 5,
    "start_time": "2022-04-20T13:16:57.522Z"
   },
   {
    "duration": 9,
    "start_time": "2022-04-20T13:16:57.528Z"
   },
   {
    "duration": 3,
    "start_time": "2022-04-20T13:16:57.538Z"
   },
   {
    "duration": 8,
    "start_time": "2022-04-20T13:16:57.543Z"
   },
   {
    "duration": 7,
    "start_time": "2022-04-20T13:16:57.553Z"
   },
   {
    "duration": 46,
    "start_time": "2022-04-20T13:16:57.561Z"
   },
   {
    "duration": 8,
    "start_time": "2022-04-20T13:16:57.609Z"
   },
   {
    "duration": 8,
    "start_time": "2022-04-20T13:16:57.618Z"
   },
   {
    "duration": 4,
    "start_time": "2022-04-20T13:16:57.628Z"
   },
   {
    "duration": 8,
    "start_time": "2022-04-20T13:16:57.633Z"
   },
   {
    "duration": 13,
    "start_time": "2022-04-20T13:16:57.643Z"
   },
   {
    "duration": 4,
    "start_time": "2022-04-20T13:16:57.657Z"
   },
   {
    "duration": 48,
    "start_time": "2022-04-20T13:16:57.662Z"
   },
   {
    "duration": 17,
    "start_time": "2022-04-20T13:16:57.712Z"
   },
   {
    "duration": 14,
    "start_time": "2022-04-20T13:16:57.730Z"
   },
   {
    "duration": 415,
    "start_time": "2022-04-20T13:16:57.746Z"
   },
   {
    "duration": 5,
    "start_time": "2022-04-20T13:16:58.163Z"
   },
   {
    "duration": 6,
    "start_time": "2022-04-20T13:16:58.170Z"
   },
   {
    "duration": 38,
    "start_time": "2022-04-20T13:16:58.178Z"
   },
   {
    "duration": 304,
    "start_time": "2022-04-20T13:16:58.217Z"
   },
   {
    "duration": 398,
    "start_time": "2022-04-20T13:16:58.523Z"
   },
   {
    "duration": 219,
    "start_time": "2022-04-20T13:16:58.922Z"
   },
   {
    "duration": 218,
    "start_time": "2022-04-20T13:16:59.143Z"
   },
   {
    "duration": 9,
    "start_time": "2022-04-20T13:16:59.363Z"
   },
   {
    "duration": 7,
    "start_time": "2022-04-20T13:16:59.373Z"
   },
   {
    "duration": 206,
    "start_time": "2022-04-20T13:16:59.381Z"
   },
   {
    "duration": 43,
    "start_time": "2022-04-20T13:16:59.589Z"
   },
   {
    "duration": 1073,
    "start_time": "2022-04-20T13:16:59.634Z"
   },
   {
    "duration": 170,
    "start_time": "2022-04-20T13:17:00.709Z"
   },
   {
    "duration": 185,
    "start_time": "2022-04-20T13:17:00.881Z"
   },
   {
    "duration": 270,
    "start_time": "2022-04-20T13:17:01.068Z"
   },
   {
    "duration": 152,
    "start_time": "2022-04-20T13:17:01.340Z"
   },
   {
    "duration": 552,
    "start_time": "2022-04-20T13:17:01.494Z"
   },
   {
    "duration": 72,
    "start_time": "2022-04-20T13:17:02.048Z"
   },
   {
    "duration": 410,
    "start_time": "2022-04-20T13:17:02.122Z"
   },
   {
    "duration": 8,
    "start_time": "2022-04-20T13:17:02.533Z"
   },
   {
    "duration": 386,
    "start_time": "2022-04-20T13:17:02.543Z"
   },
   {
    "duration": 496,
    "start_time": "2022-04-20T13:17:02.930Z"
   },
   {
    "duration": 35,
    "start_time": "2022-04-20T13:17:03.428Z"
   },
   {
    "duration": 52,
    "start_time": "2022-04-20T13:17:03.465Z"
   },
   {
    "duration": 515,
    "start_time": "2022-04-20T13:17:03.519Z"
   },
   {
    "duration": 408,
    "start_time": "2022-04-20T13:17:04.036Z"
   },
   {
    "duration": 494,
    "start_time": "2022-04-20T13:17:04.445Z"
   },
   {
    "duration": 3,
    "start_time": "2022-04-20T13:17:41.981Z"
   },
   {
    "duration": 74,
    "start_time": "2022-04-20T13:17:41.990Z"
   },
   {
    "duration": 44,
    "start_time": "2022-04-20T13:17:42.066Z"
   },
   {
    "duration": 15,
    "start_time": "2022-04-20T13:17:42.112Z"
   },
   {
    "duration": 10,
    "start_time": "2022-04-20T13:17:42.129Z"
   },
   {
    "duration": 7,
    "start_time": "2022-04-20T13:17:42.141Z"
   },
   {
    "duration": 18,
    "start_time": "2022-04-20T13:17:42.149Z"
   },
   {
    "duration": 45,
    "start_time": "2022-04-20T13:17:42.168Z"
   },
   {
    "duration": 9,
    "start_time": "2022-04-20T13:17:42.214Z"
   },
   {
    "duration": 7,
    "start_time": "2022-04-20T13:17:42.225Z"
   },
   {
    "duration": 5,
    "start_time": "2022-04-20T13:17:42.233Z"
   },
   {
    "duration": 8,
    "start_time": "2022-04-20T13:17:42.239Z"
   },
   {
    "duration": 6,
    "start_time": "2022-04-20T13:17:42.248Z"
   },
   {
    "duration": 51,
    "start_time": "2022-04-20T13:17:42.256Z"
   },
   {
    "duration": 38,
    "start_time": "2022-04-20T13:17:42.311Z"
   },
   {
    "duration": 6,
    "start_time": "2022-04-20T13:17:42.351Z"
   },
   {
    "duration": 6,
    "start_time": "2022-04-20T13:17:42.359Z"
   },
   {
    "duration": 5,
    "start_time": "2022-04-20T13:17:42.367Z"
   },
   {
    "duration": 41,
    "start_time": "2022-04-20T13:17:42.373Z"
   },
   {
    "duration": 8,
    "start_time": "2022-04-20T13:17:42.415Z"
   },
   {
    "duration": 5,
    "start_time": "2022-04-20T13:17:42.425Z"
   },
   {
    "duration": 9,
    "start_time": "2022-04-20T13:17:42.432Z"
   },
   {
    "duration": 5,
    "start_time": "2022-04-20T13:17:42.442Z"
   },
   {
    "duration": 8,
    "start_time": "2022-04-20T13:17:42.448Z"
   },
   {
    "duration": 3,
    "start_time": "2022-04-20T13:17:42.457Z"
   },
   {
    "duration": 50,
    "start_time": "2022-04-20T13:17:42.462Z"
   },
   {
    "duration": 4,
    "start_time": "2022-04-20T13:17:42.513Z"
   },
   {
    "duration": 9,
    "start_time": "2022-04-20T13:17:42.519Z"
   },
   {
    "duration": 6,
    "start_time": "2022-04-20T13:17:42.530Z"
   },
   {
    "duration": 13,
    "start_time": "2022-04-20T13:17:42.538Z"
   },
   {
    "duration": 7,
    "start_time": "2022-04-20T13:17:42.552Z"
   },
   {
    "duration": 4,
    "start_time": "2022-04-20T13:17:42.561Z"
   },
   {
    "duration": 8,
    "start_time": "2022-04-20T13:17:42.567Z"
   },
   {
    "duration": 11,
    "start_time": "2022-04-20T13:17:42.607Z"
   },
   {
    "duration": 4,
    "start_time": "2022-04-20T13:17:42.620Z"
   },
   {
    "duration": 11,
    "start_time": "2022-04-20T13:17:42.626Z"
   },
   {
    "duration": 7,
    "start_time": "2022-04-20T13:17:42.639Z"
   },
   {
    "duration": 6,
    "start_time": "2022-04-20T13:17:42.647Z"
   },
   {
    "duration": 52,
    "start_time": "2022-04-20T13:17:42.655Z"
   },
   {
    "duration": 12,
    "start_time": "2022-04-20T13:17:42.709Z"
   },
   {
    "duration": 6,
    "start_time": "2022-04-20T13:17:42.723Z"
   },
   {
    "duration": 8,
    "start_time": "2022-04-20T13:17:42.734Z"
   },
   {
    "duration": 14,
    "start_time": "2022-04-20T13:17:42.743Z"
   },
   {
    "duration": 3,
    "start_time": "2022-04-20T13:17:42.759Z"
   },
   {
    "duration": 45,
    "start_time": "2022-04-20T13:17:42.763Z"
   },
   {
    "duration": 11,
    "start_time": "2022-04-20T13:17:42.810Z"
   },
   {
    "duration": 14,
    "start_time": "2022-04-20T13:17:42.824Z"
   },
   {
    "duration": 420,
    "start_time": "2022-04-20T13:17:42.839Z"
   },
   {
    "duration": 5,
    "start_time": "2022-04-20T13:17:43.260Z"
   },
   {
    "duration": 6,
    "start_time": "2022-04-20T13:17:43.267Z"
   },
   {
    "duration": 12,
    "start_time": "2022-04-20T13:17:43.274Z"
   },
   {
    "duration": 314,
    "start_time": "2022-04-20T13:17:43.288Z"
   },
   {
    "duration": 324,
    "start_time": "2022-04-20T13:17:43.607Z"
   },
   {
    "duration": 232,
    "start_time": "2022-04-20T13:17:43.932Z"
   },
   {
    "duration": 296,
    "start_time": "2022-04-20T13:17:44.166Z"
   },
   {
    "duration": 10,
    "start_time": "2022-04-20T13:17:44.463Z"
   },
   {
    "duration": 5,
    "start_time": "2022-04-20T13:17:44.474Z"
   },
   {
    "duration": 204,
    "start_time": "2022-04-20T13:17:44.480Z"
   },
   {
    "duration": 43,
    "start_time": "2022-04-20T13:17:44.685Z"
   },
   {
    "duration": 1049,
    "start_time": "2022-04-20T13:17:44.730Z"
   },
   {
    "duration": 166,
    "start_time": "2022-04-20T13:17:45.780Z"
   },
   {
    "duration": 282,
    "start_time": "2022-04-20T13:17:45.948Z"
   },
   {
    "duration": 319,
    "start_time": "2022-04-20T13:17:46.231Z"
   },
   {
    "duration": 238,
    "start_time": "2022-04-20T13:17:46.607Z"
   },
   {
    "duration": 896,
    "start_time": "2022-04-20T13:17:46.847Z"
   },
   {
    "duration": 20,
    "start_time": "2022-04-20T13:17:47.745Z"
   },
   {
    "duration": 195,
    "start_time": "2022-04-20T13:17:47.766Z"
   },
   {
    "duration": 9,
    "start_time": "2022-04-20T13:17:47.963Z"
   },
   {
    "duration": 203,
    "start_time": "2022-04-20T13:17:47.974Z"
   },
   {
    "duration": 248,
    "start_time": "2022-04-20T13:17:48.179Z"
   },
   {
    "duration": 32,
    "start_time": "2022-04-20T13:17:48.428Z"
   },
   {
    "duration": 13,
    "start_time": "2022-04-20T13:17:48.462Z"
   },
   {
    "duration": 487,
    "start_time": "2022-04-20T13:17:48.477Z"
   },
   {
    "duration": 317,
    "start_time": "2022-04-20T13:17:48.966Z"
   },
   {
    "duration": 569,
    "start_time": "2022-04-20T13:17:49.285Z"
   },
   {
    "duration": 72,
    "start_time": "2022-04-20T13:21:20.066Z"
   },
   {
    "duration": 11,
    "start_time": "2022-04-20T13:21:23.270Z"
   },
   {
    "duration": 10,
    "start_time": "2022-04-20T13:21:31.286Z"
   },
   {
    "duration": 8,
    "start_time": "2022-04-20T13:21:48.627Z"
   },
   {
    "duration": 8,
    "start_time": "2022-04-20T13:22:06.065Z"
   },
   {
    "duration": 268,
    "start_time": "2022-04-20T13:24:16.675Z"
   },
   {
    "duration": 222,
    "start_time": "2022-04-20T13:24:32.787Z"
   },
   {
    "duration": 246,
    "start_time": "2022-04-20T13:24:38.323Z"
   },
   {
    "duration": 216,
    "start_time": "2022-04-20T13:25:49.527Z"
   },
   {
    "duration": 254,
    "start_time": "2022-04-20T13:25:56.882Z"
   },
   {
    "duration": 154,
    "start_time": "2022-04-20T13:26:44.852Z"
   },
   {
    "duration": 428,
    "start_time": "2022-04-20T13:26:49.193Z"
   },
   {
    "duration": 265,
    "start_time": "2022-04-20T13:26:55.696Z"
   },
   {
    "duration": 83,
    "start_time": "2022-04-20T13:28:54.738Z"
   },
   {
    "duration": 47,
    "start_time": "2022-04-20T13:30:16.591Z"
   },
   {
    "duration": 43,
    "start_time": "2022-04-20T13:30:51.388Z"
   },
   {
    "duration": 1356,
    "start_time": "2022-04-20T13:38:44.205Z"
   },
   {
    "duration": 1142,
    "start_time": "2022-04-20T13:38:48.199Z"
   },
   {
    "duration": 45,
    "start_time": "2022-04-20T18:32:02.250Z"
   },
   {
    "duration": 7,
    "start_time": "2022-04-20T18:32:10.262Z"
   },
   {
    "duration": 793,
    "start_time": "2022-04-20T18:33:26.194Z"
   },
   {
    "duration": 72,
    "start_time": "2022-04-20T18:33:26.990Z"
   },
   {
    "duration": 27,
    "start_time": "2022-04-20T18:33:27.065Z"
   },
   {
    "duration": 15,
    "start_time": "2022-04-20T18:33:27.093Z"
   },
   {
    "duration": 10,
    "start_time": "2022-04-20T18:33:27.123Z"
   },
   {
    "duration": 11,
    "start_time": "2022-04-20T18:33:27.134Z"
   },
   {
    "duration": 15,
    "start_time": "2022-04-20T18:33:27.147Z"
   },
   {
    "duration": 12,
    "start_time": "2022-04-20T18:33:27.166Z"
   },
   {
    "duration": 11,
    "start_time": "2022-04-20T18:33:27.179Z"
   },
   {
    "duration": 7,
    "start_time": "2022-04-20T18:33:27.192Z"
   },
   {
    "duration": 26,
    "start_time": "2022-04-20T18:33:27.201Z"
   },
   {
    "duration": 8,
    "start_time": "2022-04-20T18:33:27.228Z"
   },
   {
    "duration": 7,
    "start_time": "2022-04-20T18:33:27.237Z"
   },
   {
    "duration": 4,
    "start_time": "2022-04-20T18:33:27.247Z"
   },
   {
    "duration": 4,
    "start_time": "2022-04-20T18:33:27.253Z"
   },
   {
    "duration": 10,
    "start_time": "2022-04-20T18:33:27.258Z"
   },
   {
    "duration": 5,
    "start_time": "2022-04-20T18:33:27.270Z"
   },
   {
    "duration": 5,
    "start_time": "2022-04-20T18:33:27.277Z"
   },
   {
    "duration": 42,
    "start_time": "2022-04-20T18:33:27.284Z"
   },
   {
    "duration": 6,
    "start_time": "2022-04-20T18:33:27.328Z"
   },
   {
    "duration": 13,
    "start_time": "2022-04-20T18:33:27.335Z"
   },
   {
    "duration": 5,
    "start_time": "2022-04-20T18:33:27.349Z"
   },
   {
    "duration": 8,
    "start_time": "2022-04-20T18:33:27.355Z"
   },
   {
    "duration": 7,
    "start_time": "2022-04-20T18:33:27.364Z"
   },
   {
    "duration": 8,
    "start_time": "2022-04-20T18:33:27.372Z"
   },
   {
    "duration": 3,
    "start_time": "2022-04-20T18:33:27.382Z"
   },
   {
    "duration": 6,
    "start_time": "2022-04-20T18:33:27.386Z"
   },
   {
    "duration": 31,
    "start_time": "2022-04-20T18:33:27.393Z"
   },
   {
    "duration": 5,
    "start_time": "2022-04-20T18:33:27.426Z"
   },
   {
    "duration": 7,
    "start_time": "2022-04-20T18:33:27.432Z"
   },
   {
    "duration": 6,
    "start_time": "2022-04-20T18:33:27.440Z"
   },
   {
    "duration": 6,
    "start_time": "2022-04-20T18:33:27.447Z"
   },
   {
    "duration": 3,
    "start_time": "2022-04-20T18:33:27.455Z"
   },
   {
    "duration": 4,
    "start_time": "2022-04-20T18:33:27.459Z"
   },
   {
    "duration": 13,
    "start_time": "2022-04-20T18:33:27.464Z"
   },
   {
    "duration": 3,
    "start_time": "2022-04-20T18:33:27.478Z"
   },
   {
    "duration": 7,
    "start_time": "2022-04-20T18:33:27.482Z"
   },
   {
    "duration": 7,
    "start_time": "2022-04-20T18:33:27.523Z"
   },
   {
    "duration": 6,
    "start_time": "2022-04-20T18:33:27.531Z"
   },
   {
    "duration": 8,
    "start_time": "2022-04-20T18:33:27.539Z"
   },
   {
    "duration": 8,
    "start_time": "2022-04-20T18:33:27.551Z"
   },
   {
    "duration": 5,
    "start_time": "2022-04-20T18:33:27.560Z"
   },
   {
    "duration": 10,
    "start_time": "2022-04-20T18:33:27.566Z"
   },
   {
    "duration": 61,
    "start_time": "2022-04-20T18:33:27.577Z"
   },
   {
    "duration": 4,
    "start_time": "2022-04-20T18:33:27.639Z"
   },
   {
    "duration": 9,
    "start_time": "2022-04-20T18:33:27.644Z"
   },
   {
    "duration": 17,
    "start_time": "2022-04-20T18:33:27.655Z"
   },
   {
    "duration": 14,
    "start_time": "2022-04-20T18:33:27.674Z"
   },
   {
    "duration": 407,
    "start_time": "2022-04-20T18:33:27.689Z"
   },
   {
    "duration": 6,
    "start_time": "2022-04-20T18:33:28.098Z"
   },
   {
    "duration": 18,
    "start_time": "2022-04-20T18:33:28.105Z"
   },
   {
    "duration": 13,
    "start_time": "2022-04-20T18:33:28.125Z"
   },
   {
    "duration": 332,
    "start_time": "2022-04-20T18:33:28.140Z"
   },
   {
    "duration": 293,
    "start_time": "2022-04-20T18:33:28.474Z"
   },
   {
    "duration": 202,
    "start_time": "2022-04-20T18:33:28.768Z"
   },
   {
    "duration": 238,
    "start_time": "2022-04-20T18:33:28.972Z"
   },
   {
    "duration": 198,
    "start_time": "2022-04-20T18:33:29.213Z"
   },
   {
    "duration": 14,
    "start_time": "2022-04-20T18:33:29.413Z"
   },
   {
    "duration": 5,
    "start_time": "2022-04-20T18:33:29.429Z"
   },
   {
    "duration": 173,
    "start_time": "2022-04-20T18:33:29.436Z"
   },
   {
    "duration": 39,
    "start_time": "2022-04-20T18:33:29.610Z"
   },
   {
    "duration": 42,
    "start_time": "2022-04-20T18:33:29.650Z"
   },
   {
    "duration": 1,
    "start_time": "2022-04-20T18:33:29.693Z"
   },
   {
    "duration": 0,
    "start_time": "2022-04-20T18:33:29.694Z"
   },
   {
    "duration": 0,
    "start_time": "2022-04-20T18:33:29.696Z"
   },
   {
    "duration": 0,
    "start_time": "2022-04-20T18:33:29.696Z"
   },
   {
    "duration": 0,
    "start_time": "2022-04-20T18:33:29.697Z"
   },
   {
    "duration": 0,
    "start_time": "2022-04-20T18:33:29.698Z"
   },
   {
    "duration": 0,
    "start_time": "2022-04-20T18:33:29.699Z"
   },
   {
    "duration": 0,
    "start_time": "2022-04-20T18:33:29.700Z"
   },
   {
    "duration": 0,
    "start_time": "2022-04-20T18:33:29.701Z"
   },
   {
    "duration": 0,
    "start_time": "2022-04-20T18:33:29.702Z"
   },
   {
    "duration": 0,
    "start_time": "2022-04-20T18:33:29.703Z"
   },
   {
    "duration": 0,
    "start_time": "2022-04-20T18:33:29.724Z"
   },
   {
    "duration": 0,
    "start_time": "2022-04-20T18:33:29.725Z"
   },
   {
    "duration": 0,
    "start_time": "2022-04-20T18:33:29.727Z"
   },
   {
    "duration": 0,
    "start_time": "2022-04-20T18:33:29.728Z"
   },
   {
    "duration": 2,
    "start_time": "2022-04-20T18:34:17.465Z"
   },
   {
    "duration": 71,
    "start_time": "2022-04-20T18:34:17.472Z"
   },
   {
    "duration": 22,
    "start_time": "2022-04-20T18:34:17.545Z"
   },
   {
    "duration": 16,
    "start_time": "2022-04-20T18:34:17.569Z"
   },
   {
    "duration": 9,
    "start_time": "2022-04-20T18:34:17.587Z"
   },
   {
    "duration": 33,
    "start_time": "2022-04-20T18:34:17.598Z"
   },
   {
    "duration": 17,
    "start_time": "2022-04-20T18:34:17.632Z"
   },
   {
    "duration": 9,
    "start_time": "2022-04-20T18:34:17.651Z"
   },
   {
    "duration": 14,
    "start_time": "2022-04-20T18:34:17.661Z"
   },
   {
    "duration": 8,
    "start_time": "2022-04-20T18:34:17.676Z"
   },
   {
    "duration": 4,
    "start_time": "2022-04-20T18:34:17.686Z"
   },
   {
    "duration": 7,
    "start_time": "2022-04-20T18:34:17.724Z"
   },
   {
    "duration": 8,
    "start_time": "2022-04-20T18:34:17.732Z"
   },
   {
    "duration": 15,
    "start_time": "2022-04-20T18:34:17.741Z"
   },
   {
    "duration": 15,
    "start_time": "2022-04-20T18:34:17.759Z"
   },
   {
    "duration": 9,
    "start_time": "2022-04-20T18:34:17.775Z"
   },
   {
    "duration": 5,
    "start_time": "2022-04-20T18:34:17.785Z"
   },
   {
    "duration": 5,
    "start_time": "2022-04-20T18:34:17.792Z"
   },
   {
    "duration": 8,
    "start_time": "2022-04-20T18:34:17.823Z"
   },
   {
    "duration": 6,
    "start_time": "2022-04-20T18:34:17.832Z"
   },
   {
    "duration": 5,
    "start_time": "2022-04-20T18:34:17.840Z"
   },
   {
    "duration": 3,
    "start_time": "2022-04-20T18:34:17.847Z"
   },
   {
    "duration": 4,
    "start_time": "2022-04-20T18:34:17.852Z"
   },
   {
    "duration": 6,
    "start_time": "2022-04-20T18:34:17.857Z"
   },
   {
    "duration": 4,
    "start_time": "2022-04-20T18:34:17.864Z"
   },
   {
    "duration": 5,
    "start_time": "2022-04-20T18:34:17.870Z"
   },
   {
    "duration": 48,
    "start_time": "2022-04-20T18:34:17.877Z"
   },
   {
    "duration": 7,
    "start_time": "2022-04-20T18:34:17.926Z"
   },
   {
    "duration": 6,
    "start_time": "2022-04-20T18:34:17.935Z"
   },
   {
    "duration": 7,
    "start_time": "2022-04-20T18:34:17.942Z"
   },
   {
    "duration": 7,
    "start_time": "2022-04-20T18:34:17.950Z"
   },
   {
    "duration": 4,
    "start_time": "2022-04-20T18:34:17.959Z"
   },
   {
    "duration": 5,
    "start_time": "2022-04-20T18:34:17.965Z"
   },
   {
    "duration": 8,
    "start_time": "2022-04-20T18:34:17.972Z"
   },
   {
    "duration": 3,
    "start_time": "2022-04-20T18:34:17.982Z"
   },
   {
    "duration": 42,
    "start_time": "2022-04-20T18:34:17.987Z"
   },
   {
    "duration": 7,
    "start_time": "2022-04-20T18:34:18.031Z"
   },
   {
    "duration": 6,
    "start_time": "2022-04-20T18:34:18.039Z"
   },
   {
    "duration": 7,
    "start_time": "2022-04-20T18:34:18.046Z"
   },
   {
    "duration": 7,
    "start_time": "2022-04-20T18:34:18.054Z"
   },
   {
    "duration": 4,
    "start_time": "2022-04-20T18:34:18.063Z"
   },
   {
    "duration": 6,
    "start_time": "2022-04-20T18:34:18.071Z"
   },
   {
    "duration": 54,
    "start_time": "2022-04-20T18:34:18.079Z"
   },
   {
    "duration": 3,
    "start_time": "2022-04-20T18:34:18.135Z"
   },
   {
    "duration": 8,
    "start_time": "2022-04-20T18:34:18.139Z"
   },
   {
    "duration": 13,
    "start_time": "2022-04-20T18:34:18.149Z"
   },
   {
    "duration": 19,
    "start_time": "2022-04-20T18:34:18.164Z"
   },
   {
    "duration": 456,
    "start_time": "2022-04-20T18:34:18.184Z"
   },
   {
    "duration": 5,
    "start_time": "2022-04-20T18:34:18.641Z"
   },
   {
    "duration": 11,
    "start_time": "2022-04-20T18:34:18.647Z"
   },
   {
    "duration": 11,
    "start_time": "2022-04-20T18:34:18.660Z"
   },
   {
    "duration": 252,
    "start_time": "2022-04-20T18:34:18.672Z"
   },
   {
    "duration": 265,
    "start_time": "2022-04-20T18:34:18.925Z"
   },
   {
    "duration": 192,
    "start_time": "2022-04-20T18:34:19.192Z"
   },
   {
    "duration": 229,
    "start_time": "2022-04-20T18:34:19.385Z"
   },
   {
    "duration": 183,
    "start_time": "2022-04-20T18:34:19.616Z"
   },
   {
    "duration": 9,
    "start_time": "2022-04-20T18:34:19.802Z"
   },
   {
    "duration": 6,
    "start_time": "2022-04-20T18:34:19.824Z"
   },
   {
    "duration": 159,
    "start_time": "2022-04-20T18:34:19.832Z"
   },
   {
    "duration": 43,
    "start_time": "2022-04-20T18:34:19.992Z"
   },
   {
    "duration": 14,
    "start_time": "2022-04-20T18:34:20.037Z"
   },
   {
    "duration": 0,
    "start_time": "2022-04-20T18:34:20.052Z"
   },
   {
    "duration": 0,
    "start_time": "2022-04-20T18:34:20.053Z"
   },
   {
    "duration": 0,
    "start_time": "2022-04-20T18:34:20.053Z"
   },
   {
    "duration": 0,
    "start_time": "2022-04-20T18:34:20.054Z"
   },
   {
    "duration": 0,
    "start_time": "2022-04-20T18:34:20.055Z"
   },
   {
    "duration": 0,
    "start_time": "2022-04-20T18:34:20.055Z"
   },
   {
    "duration": 0,
    "start_time": "2022-04-20T18:34:20.056Z"
   },
   {
    "duration": 0,
    "start_time": "2022-04-20T18:34:20.057Z"
   },
   {
    "duration": 0,
    "start_time": "2022-04-20T18:34:20.057Z"
   },
   {
    "duration": 0,
    "start_time": "2022-04-20T18:34:20.058Z"
   },
   {
    "duration": 0,
    "start_time": "2022-04-20T18:34:20.059Z"
   },
   {
    "duration": 0,
    "start_time": "2022-04-20T18:34:20.060Z"
   },
   {
    "duration": 1,
    "start_time": "2022-04-20T18:34:20.060Z"
   },
   {
    "duration": 0,
    "start_time": "2022-04-20T18:34:20.061Z"
   },
   {
    "duration": 0,
    "start_time": "2022-04-20T18:34:20.062Z"
   },
   {
    "duration": 3,
    "start_time": "2022-04-20T18:36:21.258Z"
   },
   {
    "duration": 74,
    "start_time": "2022-04-20T18:36:21.262Z"
   },
   {
    "duration": 22,
    "start_time": "2022-04-20T18:36:21.338Z"
   },
   {
    "duration": 14,
    "start_time": "2022-04-20T18:36:21.362Z"
   },
   {
    "duration": 9,
    "start_time": "2022-04-20T18:36:21.378Z"
   },
   {
    "duration": 35,
    "start_time": "2022-04-20T18:36:21.389Z"
   },
   {
    "duration": 16,
    "start_time": "2022-04-20T18:36:21.425Z"
   },
   {
    "duration": 9,
    "start_time": "2022-04-20T18:36:21.443Z"
   },
   {
    "duration": 9,
    "start_time": "2022-04-20T18:36:21.454Z"
   },
   {
    "duration": 7,
    "start_time": "2022-04-20T18:36:21.465Z"
   },
   {
    "duration": 4,
    "start_time": "2022-04-20T18:36:21.475Z"
   },
   {
    "duration": 9,
    "start_time": "2022-04-20T18:36:21.524Z"
   },
   {
    "duration": 5,
    "start_time": "2022-04-20T18:36:21.535Z"
   },
   {
    "duration": 7,
    "start_time": "2022-04-20T18:36:21.542Z"
   },
   {
    "duration": 4,
    "start_time": "2022-04-20T18:36:21.551Z"
   },
   {
    "duration": 9,
    "start_time": "2022-04-20T18:36:21.557Z"
   },
   {
    "duration": 7,
    "start_time": "2022-04-20T18:36:21.567Z"
   },
   {
    "duration": 52,
    "start_time": "2022-04-20T18:36:21.575Z"
   },
   {
    "duration": 5,
    "start_time": "2022-04-20T18:36:21.628Z"
   },
   {
    "duration": 6,
    "start_time": "2022-04-20T18:36:21.635Z"
   },
   {
    "duration": 6,
    "start_time": "2022-04-20T18:36:21.642Z"
   },
   {
    "duration": 5,
    "start_time": "2022-04-20T18:36:21.649Z"
   },
   {
    "duration": 4,
    "start_time": "2022-04-20T18:36:21.656Z"
   },
   {
    "duration": 7,
    "start_time": "2022-04-20T18:36:21.661Z"
   },
   {
    "duration": 6,
    "start_time": "2022-04-20T18:36:21.669Z"
   },
   {
    "duration": 8,
    "start_time": "2022-04-20T18:36:21.677Z"
   },
   {
    "duration": 5,
    "start_time": "2022-04-20T18:36:21.724Z"
   },
   {
    "duration": 4,
    "start_time": "2022-04-20T18:36:21.730Z"
   },
   {
    "duration": 6,
    "start_time": "2022-04-20T18:36:21.738Z"
   },
   {
    "duration": 5,
    "start_time": "2022-04-20T18:36:21.746Z"
   },
   {
    "duration": 6,
    "start_time": "2022-04-20T18:36:21.752Z"
   },
   {
    "duration": 7,
    "start_time": "2022-04-20T18:36:21.760Z"
   },
   {
    "duration": 4,
    "start_time": "2022-04-20T18:36:21.768Z"
   },
   {
    "duration": 6,
    "start_time": "2022-04-20T18:36:21.774Z"
   },
   {
    "duration": 43,
    "start_time": "2022-04-20T18:36:21.781Z"
   },
   {
    "duration": 3,
    "start_time": "2022-04-20T18:36:21.826Z"
   },
   {
    "duration": 9,
    "start_time": "2022-04-20T18:36:21.831Z"
   },
   {
    "duration": 7,
    "start_time": "2022-04-20T18:36:21.841Z"
   },
   {
    "duration": 6,
    "start_time": "2022-04-20T18:36:21.849Z"
   },
   {
    "duration": 7,
    "start_time": "2022-04-20T18:36:21.856Z"
   },
   {
    "duration": 7,
    "start_time": "2022-04-20T18:36:21.864Z"
   },
   {
    "duration": 4,
    "start_time": "2022-04-20T18:36:21.872Z"
   },
   {
    "duration": 50,
    "start_time": "2022-04-20T18:36:21.877Z"
   },
   {
    "duration": 13,
    "start_time": "2022-04-20T18:36:21.929Z"
   },
   {
    "duration": 3,
    "start_time": "2022-04-20T18:36:21.944Z"
   },
   {
    "duration": 7,
    "start_time": "2022-04-20T18:36:21.948Z"
   },
   {
    "duration": 13,
    "start_time": "2022-04-20T18:36:21.957Z"
   },
   {
    "duration": 12,
    "start_time": "2022-04-20T18:36:21.972Z"
   },
   {
    "duration": 473,
    "start_time": "2022-04-20T18:36:21.985Z"
   },
   {
    "duration": 6,
    "start_time": "2022-04-20T18:36:22.459Z"
   },
   {
    "duration": 6,
    "start_time": "2022-04-20T18:36:22.466Z"
   },
   {
    "duration": 11,
    "start_time": "2022-04-20T18:36:22.474Z"
   },
   {
    "duration": 272,
    "start_time": "2022-04-20T18:36:22.487Z"
   },
   {
    "duration": 277,
    "start_time": "2022-04-20T18:36:22.761Z"
   },
   {
    "duration": 291,
    "start_time": "2022-04-20T18:36:23.039Z"
   },
   {
    "duration": 217,
    "start_time": "2022-04-20T18:36:23.332Z"
   },
   {
    "duration": 180,
    "start_time": "2022-04-20T18:36:23.550Z"
   },
   {
    "duration": 8,
    "start_time": "2022-04-20T18:36:23.732Z"
   },
   {
    "duration": 3,
    "start_time": "2022-04-20T18:36:23.742Z"
   },
   {
    "duration": 165,
    "start_time": "2022-04-20T18:36:23.747Z"
   },
   {
    "duration": 38,
    "start_time": "2022-04-20T18:36:23.913Z"
   },
   {
    "duration": 14,
    "start_time": "2022-04-20T18:36:23.952Z"
   },
   {
    "duration": 0,
    "start_time": "2022-04-20T18:36:23.967Z"
   },
   {
    "duration": 0,
    "start_time": "2022-04-20T18:36:23.968Z"
   },
   {
    "duration": 0,
    "start_time": "2022-04-20T18:36:23.969Z"
   },
   {
    "duration": 0,
    "start_time": "2022-04-20T18:36:23.971Z"
   },
   {
    "duration": 0,
    "start_time": "2022-04-20T18:36:23.972Z"
   },
   {
    "duration": 0,
    "start_time": "2022-04-20T18:36:23.973Z"
   },
   {
    "duration": 0,
    "start_time": "2022-04-20T18:36:23.974Z"
   },
   {
    "duration": 0,
    "start_time": "2022-04-20T18:36:23.975Z"
   },
   {
    "duration": 0,
    "start_time": "2022-04-20T18:36:23.976Z"
   },
   {
    "duration": 0,
    "start_time": "2022-04-20T18:36:23.977Z"
   },
   {
    "duration": 0,
    "start_time": "2022-04-20T18:36:23.978Z"
   },
   {
    "duration": 0,
    "start_time": "2022-04-20T18:36:23.979Z"
   },
   {
    "duration": 0,
    "start_time": "2022-04-20T18:36:23.980Z"
   },
   {
    "duration": 0,
    "start_time": "2022-04-20T18:36:23.981Z"
   },
   {
    "duration": 0,
    "start_time": "2022-04-20T18:36:23.982Z"
   },
   {
    "duration": 5,
    "start_time": "2022-04-20T18:37:05.785Z"
   },
   {
    "duration": 341,
    "start_time": "2022-04-20T18:47:56.361Z"
   },
   {
    "duration": 318,
    "start_time": "2022-04-20T18:48:03.677Z"
   },
   {
    "duration": 883,
    "start_time": "2022-04-20T18:51:23.012Z"
   },
   {
    "duration": 6,
    "start_time": "2022-04-20T19:00:48.007Z"
   },
   {
    "duration": 136,
    "start_time": "2022-04-20T19:02:30.785Z"
   },
   {
    "duration": 2,
    "start_time": "2022-04-20T19:02:58.911Z"
   },
   {
    "duration": 69,
    "start_time": "2022-04-20T19:02:58.915Z"
   },
   {
    "duration": 21,
    "start_time": "2022-04-20T19:02:58.986Z"
   },
   {
    "duration": 13,
    "start_time": "2022-04-20T19:02:59.024Z"
   },
   {
    "duration": 8,
    "start_time": "2022-04-20T19:02:59.039Z"
   },
   {
    "duration": 7,
    "start_time": "2022-04-20T19:02:59.048Z"
   },
   {
    "duration": 15,
    "start_time": "2022-04-20T19:02:59.056Z"
   },
   {
    "duration": 7,
    "start_time": "2022-04-20T19:02:59.072Z"
   },
   {
    "duration": 8,
    "start_time": "2022-04-20T19:02:59.081Z"
   },
   {
    "duration": 38,
    "start_time": "2022-04-20T19:02:59.090Z"
   },
   {
    "duration": 3,
    "start_time": "2022-04-20T19:02:59.130Z"
   },
   {
    "duration": 8,
    "start_time": "2022-04-20T19:02:59.135Z"
   },
   {
    "duration": 3,
    "start_time": "2022-04-20T19:02:59.145Z"
   },
   {
    "duration": 6,
    "start_time": "2022-04-20T19:02:59.149Z"
   },
   {
    "duration": 4,
    "start_time": "2022-04-20T19:02:59.156Z"
   },
   {
    "duration": 8,
    "start_time": "2022-04-20T19:02:59.161Z"
   },
   {
    "duration": 5,
    "start_time": "2022-04-20T19:02:59.171Z"
   },
   {
    "duration": 47,
    "start_time": "2022-04-20T19:02:59.177Z"
   },
   {
    "duration": 6,
    "start_time": "2022-04-20T19:02:59.225Z"
   },
   {
    "duration": 8,
    "start_time": "2022-04-20T19:02:59.232Z"
   },
   {
    "duration": 6,
    "start_time": "2022-04-20T19:02:59.242Z"
   },
   {
    "duration": 11,
    "start_time": "2022-04-20T19:02:59.249Z"
   },
   {
    "duration": 4,
    "start_time": "2022-04-20T19:02:59.262Z"
   },
   {
    "duration": 4,
    "start_time": "2022-04-20T19:02:59.268Z"
   },
   {
    "duration": 7,
    "start_time": "2022-04-20T19:02:59.273Z"
   },
   {
    "duration": 43,
    "start_time": "2022-04-20T19:02:59.282Z"
   },
   {
    "duration": 4,
    "start_time": "2022-04-20T19:02:59.326Z"
   },
   {
    "duration": 6,
    "start_time": "2022-04-20T19:02:59.332Z"
   },
   {
    "duration": 9,
    "start_time": "2022-04-20T19:02:59.340Z"
   },
   {
    "duration": 6,
    "start_time": "2022-04-20T19:02:59.350Z"
   },
   {
    "duration": 7,
    "start_time": "2022-04-20T19:02:59.358Z"
   },
   {
    "duration": 8,
    "start_time": "2022-04-20T19:02:59.366Z"
   },
   {
    "duration": 4,
    "start_time": "2022-04-20T19:02:59.375Z"
   },
   {
    "duration": 6,
    "start_time": "2022-04-20T19:02:59.381Z"
   },
   {
    "duration": 40,
    "start_time": "2022-04-20T19:02:59.389Z"
   },
   {
    "duration": 3,
    "start_time": "2022-04-20T19:02:59.431Z"
   },
   {
    "duration": 11,
    "start_time": "2022-04-20T19:02:59.435Z"
   },
   {
    "duration": 9,
    "start_time": "2022-04-20T19:02:59.447Z"
   },
   {
    "duration": 8,
    "start_time": "2022-04-20T19:02:59.457Z"
   },
   {
    "duration": 14,
    "start_time": "2022-04-20T19:02:59.467Z"
   },
   {
    "duration": 7,
    "start_time": "2022-04-20T19:02:59.482Z"
   },
   {
    "duration": 5,
    "start_time": "2022-04-20T19:02:59.490Z"
   },
   {
    "duration": 33,
    "start_time": "2022-04-20T19:02:59.496Z"
   },
   {
    "duration": 15,
    "start_time": "2022-04-20T19:02:59.530Z"
   },
   {
    "duration": 3,
    "start_time": "2022-04-20T19:02:59.549Z"
   },
   {
    "duration": 7,
    "start_time": "2022-04-20T19:02:59.554Z"
   },
   {
    "duration": 13,
    "start_time": "2022-04-20T19:02:59.562Z"
   },
   {
    "duration": 11,
    "start_time": "2022-04-20T19:02:59.576Z"
   },
   {
    "duration": 487,
    "start_time": "2022-04-20T19:02:59.589Z"
   },
   {
    "duration": 5,
    "start_time": "2022-04-20T19:03:00.077Z"
   },
   {
    "duration": 9,
    "start_time": "2022-04-20T19:03:00.083Z"
   },
   {
    "duration": 13,
    "start_time": "2022-04-20T19:03:00.094Z"
   },
   {
    "duration": 267,
    "start_time": "2022-04-20T19:03:00.108Z"
   },
   {
    "duration": 280,
    "start_time": "2022-04-20T19:03:00.376Z"
   },
   {
    "duration": 222,
    "start_time": "2022-04-20T19:03:00.658Z"
   },
   {
    "duration": 175,
    "start_time": "2022-04-20T19:03:00.882Z"
   },
   {
    "duration": 9,
    "start_time": "2022-04-20T19:03:01.058Z"
   },
   {
    "duration": 11,
    "start_time": "2022-04-20T19:03:01.068Z"
   },
   {
    "duration": 158,
    "start_time": "2022-04-20T19:03:01.080Z"
   },
   {
    "duration": 32,
    "start_time": "2022-04-20T19:03:01.240Z"
   },
   {
    "duration": 5,
    "start_time": "2022-04-20T19:03:01.274Z"
   },
   {
    "duration": 1022,
    "start_time": "2022-04-20T19:03:01.281Z"
   },
   {
    "duration": 143,
    "start_time": "2022-04-20T19:03:02.304Z"
   },
   {
    "duration": 141,
    "start_time": "2022-04-20T19:03:02.449Z"
   },
   {
    "duration": 158,
    "start_time": "2022-04-20T19:03:02.591Z"
   },
   {
    "duration": 140,
    "start_time": "2022-04-20T19:03:02.751Z"
   },
   {
    "duration": 413,
    "start_time": "2022-04-20T19:03:02.893Z"
   },
   {
    "duration": 23,
    "start_time": "2022-04-20T19:03:03.308Z"
   },
   {
    "duration": 163,
    "start_time": "2022-04-20T19:03:03.332Z"
   },
   {
    "duration": 7,
    "start_time": "2022-04-20T19:03:03.496Z"
   },
   {
    "duration": 169,
    "start_time": "2022-04-20T19:03:03.505Z"
   },
   {
    "duration": 285,
    "start_time": "2022-04-20T19:03:03.676Z"
   },
   {
    "duration": 31,
    "start_time": "2022-04-20T19:03:03.962Z"
   },
   {
    "duration": 31,
    "start_time": "2022-04-20T19:03:03.994Z"
   },
   {
    "duration": 412,
    "start_time": "2022-04-20T19:03:04.027Z"
   },
   {
    "duration": 272,
    "start_time": "2022-04-20T19:03:04.441Z"
   },
   {
    "duration": 410,
    "start_time": "2022-04-20T19:03:04.715Z"
   },
   {
    "duration": 31,
    "start_time": "2022-04-20T19:05:54.545Z"
   },
   {
    "duration": 31,
    "start_time": "2022-04-20T19:07:26.213Z"
   },
   {
    "duration": 30,
    "start_time": "2022-04-20T19:08:18.219Z"
   },
   {
    "duration": 53,
    "start_time": "2022-04-20T19:08:32.844Z"
   },
   {
    "duration": 12,
    "start_time": "2022-04-20T19:08:57.664Z"
   },
   {
    "duration": 691,
    "start_time": "2022-04-20T19:17:32.625Z"
   },
   {
    "duration": 68,
    "start_time": "2022-04-20T19:17:33.318Z"
   },
   {
    "duration": 28,
    "start_time": "2022-04-20T19:17:33.388Z"
   },
   {
    "duration": 15,
    "start_time": "2022-04-20T19:17:33.424Z"
   },
   {
    "duration": 10,
    "start_time": "2022-04-20T19:17:33.441Z"
   },
   {
    "duration": 7,
    "start_time": "2022-04-20T19:17:33.453Z"
   },
   {
    "duration": 16,
    "start_time": "2022-04-20T19:17:33.461Z"
   },
   {
    "duration": 7,
    "start_time": "2022-04-20T19:17:33.479Z"
   },
   {
    "duration": 8,
    "start_time": "2022-04-20T19:17:33.523Z"
   },
   {
    "duration": 8,
    "start_time": "2022-04-20T19:17:33.533Z"
   },
   {
    "duration": 5,
    "start_time": "2022-04-20T19:17:33.543Z"
   },
   {
    "duration": 7,
    "start_time": "2022-04-20T19:17:33.549Z"
   },
   {
    "duration": 4,
    "start_time": "2022-04-20T19:17:33.558Z"
   },
   {
    "duration": 5,
    "start_time": "2022-04-20T19:17:33.563Z"
   },
   {
    "duration": 4,
    "start_time": "2022-04-20T19:17:33.570Z"
   },
   {
    "duration": 8,
    "start_time": "2022-04-20T19:17:33.576Z"
   },
   {
    "duration": 6,
    "start_time": "2022-04-20T19:17:33.624Z"
   },
   {
    "duration": 8,
    "start_time": "2022-04-20T19:17:33.632Z"
   },
   {
    "duration": 7,
    "start_time": "2022-04-20T19:17:33.642Z"
   },
   {
    "duration": 11,
    "start_time": "2022-04-20T19:17:33.651Z"
   },
   {
    "duration": 9,
    "start_time": "2022-04-20T19:17:33.664Z"
   },
   {
    "duration": 20,
    "start_time": "2022-04-20T19:17:33.675Z"
   },
   {
    "duration": 26,
    "start_time": "2022-04-20T19:17:33.697Z"
   },
   {
    "duration": 3,
    "start_time": "2022-04-20T19:17:33.725Z"
   },
   {
    "duration": 9,
    "start_time": "2022-04-20T19:17:33.730Z"
   },
   {
    "duration": 4,
    "start_time": "2022-04-20T19:17:33.740Z"
   },
   {
    "duration": 10,
    "start_time": "2022-04-20T19:17:33.746Z"
   },
   {
    "duration": 4,
    "start_time": "2022-04-20T19:17:33.760Z"
   },
   {
    "duration": 13,
    "start_time": "2022-04-20T19:17:33.765Z"
   },
   {
    "duration": 6,
    "start_time": "2022-04-20T19:17:33.779Z"
   },
   {
    "duration": 6,
    "start_time": "2022-04-20T19:17:33.786Z"
   },
   {
    "duration": 33,
    "start_time": "2022-04-20T19:17:33.794Z"
   },
   {
    "duration": 6,
    "start_time": "2022-04-20T19:17:33.829Z"
   },
   {
    "duration": 6,
    "start_time": "2022-04-20T19:17:33.837Z"
   },
   {
    "duration": 11,
    "start_time": "2022-04-20T19:17:33.845Z"
   },
   {
    "duration": 32,
    "start_time": "2022-04-20T19:17:33.858Z"
   },
   {
    "duration": 8,
    "start_time": "2022-04-20T19:17:33.892Z"
   },
   {
    "duration": 7,
    "start_time": "2022-04-20T19:17:33.902Z"
   },
   {
    "duration": 5,
    "start_time": "2022-04-20T19:17:33.911Z"
   },
   {
    "duration": 7,
    "start_time": "2022-04-20T19:17:33.918Z"
   },
   {
    "duration": 8,
    "start_time": "2022-04-20T19:17:33.926Z"
   },
   {
    "duration": 4,
    "start_time": "2022-04-20T19:17:33.936Z"
   },
   {
    "duration": 9,
    "start_time": "2022-04-20T19:17:33.942Z"
   },
   {
    "duration": 15,
    "start_time": "2022-04-20T19:17:33.952Z"
   },
   {
    "duration": 3,
    "start_time": "2022-04-20T19:17:33.968Z"
   },
   {
    "duration": 8,
    "start_time": "2022-04-20T19:17:33.972Z"
   },
   {
    "duration": 16,
    "start_time": "2022-04-20T19:17:33.981Z"
   },
   {
    "duration": 39,
    "start_time": "2022-04-20T19:17:33.998Z"
   },
   {
    "duration": 394,
    "start_time": "2022-04-20T19:17:34.039Z"
   },
   {
    "duration": 4,
    "start_time": "2022-04-20T19:17:34.435Z"
   },
   {
    "duration": 6,
    "start_time": "2022-04-20T19:17:34.441Z"
   },
   {
    "duration": 20,
    "start_time": "2022-04-20T19:17:34.449Z"
   },
   {
    "duration": 325,
    "start_time": "2022-04-20T19:17:34.470Z"
   },
   {
    "duration": 278,
    "start_time": "2022-04-20T19:17:34.797Z"
   },
   {
    "duration": 227,
    "start_time": "2022-04-20T19:17:35.077Z"
   },
   {
    "duration": 172,
    "start_time": "2022-04-20T19:17:35.306Z"
   },
   {
    "duration": 8,
    "start_time": "2022-04-20T19:17:35.480Z"
   },
   {
    "duration": 4,
    "start_time": "2022-04-20T19:17:35.490Z"
   },
   {
    "duration": 161,
    "start_time": "2022-04-20T19:17:35.495Z"
   },
   {
    "duration": 32,
    "start_time": "2022-04-20T19:17:35.658Z"
   },
   {
    "duration": 6,
    "start_time": "2022-04-20T19:17:35.692Z"
   },
   {
    "duration": 1001,
    "start_time": "2022-04-20T19:17:35.699Z"
   },
   {
    "duration": 141,
    "start_time": "2022-04-20T19:17:36.702Z"
   },
   {
    "duration": 164,
    "start_time": "2022-04-20T19:17:36.845Z"
   },
   {
    "duration": 155,
    "start_time": "2022-04-20T19:17:37.010Z"
   },
   {
    "duration": 148,
    "start_time": "2022-04-20T19:17:37.167Z"
   },
   {
    "duration": 414,
    "start_time": "2022-04-20T19:17:37.317Z"
   },
   {
    "duration": 19,
    "start_time": "2022-04-20T19:17:37.733Z"
   },
   {
    "duration": 169,
    "start_time": "2022-04-20T19:17:37.754Z"
   },
   {
    "duration": 8,
    "start_time": "2022-04-20T19:17:37.925Z"
   },
   {
    "duration": 169,
    "start_time": "2022-04-20T19:17:37.935Z"
   },
   {
    "duration": 200,
    "start_time": "2022-04-20T19:17:38.106Z"
   },
   {
    "duration": 108,
    "start_time": "2022-04-20T19:17:38.307Z"
   },
   {
    "duration": 16,
    "start_time": "2022-04-20T19:17:38.416Z"
   },
   {
    "duration": 383,
    "start_time": "2022-04-20T19:17:38.434Z"
   },
   {
    "duration": 263,
    "start_time": "2022-04-20T19:17:38.823Z"
   },
   {
    "duration": 396,
    "start_time": "2022-04-20T19:17:39.087Z"
   },
   {
    "duration": 968,
    "start_time": "2022-04-21T06:25:32.849Z"
   },
   {
    "duration": 106,
    "start_time": "2022-04-21T06:25:33.819Z"
   },
   {
    "duration": 39,
    "start_time": "2022-04-21T06:25:33.927Z"
   },
   {
    "duration": 16,
    "start_time": "2022-04-21T06:25:33.968Z"
   },
   {
    "duration": 12,
    "start_time": "2022-04-21T06:25:33.986Z"
   },
   {
    "duration": 8,
    "start_time": "2022-04-21T06:25:34.000Z"
   },
   {
    "duration": 19,
    "start_time": "2022-04-21T06:25:34.034Z"
   },
   {
    "duration": 12,
    "start_time": "2022-04-21T06:25:34.055Z"
   },
   {
    "duration": 15,
    "start_time": "2022-04-21T06:25:34.069Z"
   },
   {
    "duration": 9,
    "start_time": "2022-04-21T06:25:34.086Z"
   },
   {
    "duration": 38,
    "start_time": "2022-04-21T06:25:34.097Z"
   },
   {
    "duration": 11,
    "start_time": "2022-04-21T06:25:34.137Z"
   },
   {
    "duration": 8,
    "start_time": "2022-04-21T06:25:34.150Z"
   },
   {
    "duration": 10,
    "start_time": "2022-04-21T06:25:34.160Z"
   },
   {
    "duration": 5,
    "start_time": "2022-04-21T06:25:34.172Z"
   },
   {
    "duration": 13,
    "start_time": "2022-04-21T06:25:34.179Z"
   },
   {
    "duration": 39,
    "start_time": "2022-04-21T06:25:34.194Z"
   },
   {
    "duration": 7,
    "start_time": "2022-04-21T06:25:34.235Z"
   },
   {
    "duration": 8,
    "start_time": "2022-04-21T06:25:34.243Z"
   },
   {
    "duration": 8,
    "start_time": "2022-04-21T06:25:34.253Z"
   },
   {
    "duration": 9,
    "start_time": "2022-04-21T06:25:34.263Z"
   },
   {
    "duration": 62,
    "start_time": "2022-04-21T06:25:34.274Z"
   },
   {
    "duration": 6,
    "start_time": "2022-04-21T06:25:34.338Z"
   },
   {
    "duration": 7,
    "start_time": "2022-04-21T06:25:34.346Z"
   },
   {
    "duration": 10,
    "start_time": "2022-04-21T06:25:34.355Z"
   },
   {
    "duration": 4,
    "start_time": "2022-04-21T06:25:34.367Z"
   },
   {
    "duration": 9,
    "start_time": "2022-04-21T06:25:34.373Z"
   },
   {
    "duration": 5,
    "start_time": "2022-04-21T06:25:34.388Z"
   },
   {
    "duration": 44,
    "start_time": "2022-04-21T06:25:34.395Z"
   },
   {
    "duration": 10,
    "start_time": "2022-04-21T06:25:34.441Z"
   },
   {
    "duration": 12,
    "start_time": "2022-04-21T06:25:34.453Z"
   },
   {
    "duration": 10,
    "start_time": "2022-04-21T06:25:34.467Z"
   },
   {
    "duration": 7,
    "start_time": "2022-04-21T06:25:34.479Z"
   },
   {
    "duration": 7,
    "start_time": "2022-04-21T06:25:34.487Z"
   },
   {
    "duration": 47,
    "start_time": "2022-04-21T06:25:34.496Z"
   },
   {
    "duration": 4,
    "start_time": "2022-04-21T06:25:34.546Z"
   },
   {
    "duration": 15,
    "start_time": "2022-04-21T06:25:34.552Z"
   },
   {
    "duration": 9,
    "start_time": "2022-04-21T06:25:34.569Z"
   },
   {
    "duration": 7,
    "start_time": "2022-04-21T06:25:34.579Z"
   },
   {
    "duration": 49,
    "start_time": "2022-04-21T06:25:34.588Z"
   },
   {
    "duration": 11,
    "start_time": "2022-04-21T06:25:34.639Z"
   },
   {
    "duration": 5,
    "start_time": "2022-04-21T06:25:34.652Z"
   },
   {
    "duration": 10,
    "start_time": "2022-04-21T06:25:34.658Z"
   },
   {
    "duration": 16,
    "start_time": "2022-04-21T06:25:34.670Z"
   },
   {
    "duration": 8,
    "start_time": "2022-04-21T06:25:34.688Z"
   },
   {
    "duration": 7,
    "start_time": "2022-04-21T06:25:34.733Z"
   },
   {
    "duration": 27,
    "start_time": "2022-04-21T06:25:34.741Z"
   },
   {
    "duration": 16,
    "start_time": "2022-04-21T06:25:34.770Z"
   },
   {
    "duration": 457,
    "start_time": "2022-04-21T06:25:34.788Z"
   },
   {
    "duration": 6,
    "start_time": "2022-04-21T06:25:35.247Z"
   },
   {
    "duration": 9,
    "start_time": "2022-04-21T06:25:35.255Z"
   },
   {
    "duration": 24,
    "start_time": "2022-04-21T06:25:35.266Z"
   },
   {
    "duration": 416,
    "start_time": "2022-04-21T06:25:35.292Z"
   },
   {
    "duration": 367,
    "start_time": "2022-04-21T06:25:35.709Z"
   },
   {
    "duration": 296,
    "start_time": "2022-04-21T06:25:36.078Z"
   },
   {
    "duration": 231,
    "start_time": "2022-04-21T06:25:36.376Z"
   },
   {
    "duration": 10,
    "start_time": "2022-04-21T06:25:36.608Z"
   },
   {
    "duration": 6,
    "start_time": "2022-04-21T06:25:36.633Z"
   },
   {
    "duration": 211,
    "start_time": "2022-04-21T06:25:36.641Z"
   },
   {
    "duration": 39,
    "start_time": "2022-04-21T06:25:36.854Z"
   },
   {
    "duration": 7,
    "start_time": "2022-04-21T06:25:36.895Z"
   },
   {
    "duration": 1284,
    "start_time": "2022-04-21T06:25:36.904Z"
   },
   {
    "duration": 184,
    "start_time": "2022-04-21T06:25:38.189Z"
   },
   {
    "duration": 200,
    "start_time": "2022-04-21T06:25:38.375Z"
   },
   {
    "duration": 193,
    "start_time": "2022-04-21T06:25:38.577Z"
   },
   {
    "duration": 183,
    "start_time": "2022-04-21T06:25:38.772Z"
   },
   {
    "duration": 529,
    "start_time": "2022-04-21T06:25:38.957Z"
   },
   {
    "duration": 22,
    "start_time": "2022-04-21T06:25:39.489Z"
   },
   {
    "duration": 223,
    "start_time": "2022-04-21T06:25:39.513Z"
   },
   {
    "duration": 9,
    "start_time": "2022-04-21T06:25:39.737Z"
   },
   {
    "duration": 221,
    "start_time": "2022-04-21T06:25:39.748Z"
   },
   {
    "duration": 271,
    "start_time": "2022-04-21T06:25:39.971Z"
   },
   {
    "duration": 157,
    "start_time": "2022-04-21T06:25:40.244Z"
   },
   {
    "duration": 17,
    "start_time": "2022-04-21T06:25:40.403Z"
   },
   {
    "duration": 528,
    "start_time": "2022-04-21T06:25:40.434Z"
   },
   {
    "duration": 356,
    "start_time": "2022-04-21T06:25:40.964Z"
   },
   {
    "duration": 543,
    "start_time": "2022-04-21T06:25:41.322Z"
   },
   {
    "duration": 231,
    "start_time": "2022-04-21T06:44:20.382Z"
   },
   {
    "duration": 213,
    "start_time": "2022-04-21T06:44:29.202Z"
   },
   {
    "duration": 239,
    "start_time": "2022-04-21T06:44:40.584Z"
   },
   {
    "duration": 261,
    "start_time": "2022-04-21T06:44:57.198Z"
   },
   {
    "duration": 716,
    "start_time": "2022-04-21T06:53:56.389Z"
   },
   {
    "duration": 97,
    "start_time": "2022-04-21T06:53:57.107Z"
   },
   {
    "duration": 41,
    "start_time": "2022-04-21T06:53:57.206Z"
   },
   {
    "duration": 16,
    "start_time": "2022-04-21T06:53:57.250Z"
   },
   {
    "duration": 13,
    "start_time": "2022-04-21T06:53:57.268Z"
   },
   {
    "duration": 9,
    "start_time": "2022-04-21T06:53:57.282Z"
   },
   {
    "duration": 48,
    "start_time": "2022-04-21T06:53:57.293Z"
   },
   {
    "duration": 11,
    "start_time": "2022-04-21T06:53:57.343Z"
   },
   {
    "duration": 11,
    "start_time": "2022-04-21T06:53:57.356Z"
   },
   {
    "duration": 8,
    "start_time": "2022-04-21T06:53:57.370Z"
   },
   {
    "duration": 6,
    "start_time": "2022-04-21T06:53:57.380Z"
   },
   {
    "duration": 12,
    "start_time": "2022-04-21T06:53:57.388Z"
   },
   {
    "duration": 6,
    "start_time": "2022-04-21T06:53:57.434Z"
   },
   {
    "duration": 9,
    "start_time": "2022-04-21T06:53:57.441Z"
   },
   {
    "duration": 8,
    "start_time": "2022-04-21T06:53:57.452Z"
   },
   {
    "duration": 12,
    "start_time": "2022-04-21T06:53:57.462Z"
   },
   {
    "duration": 7,
    "start_time": "2022-04-21T06:53:57.476Z"
   },
   {
    "duration": 7,
    "start_time": "2022-04-21T06:53:57.485Z"
   },
   {
    "duration": 42,
    "start_time": "2022-04-21T06:53:57.494Z"
   },
   {
    "duration": 9,
    "start_time": "2022-04-21T06:53:57.538Z"
   },
   {
    "duration": 7,
    "start_time": "2022-04-21T06:53:57.549Z"
   },
   {
    "duration": 18,
    "start_time": "2022-04-21T06:53:57.558Z"
   },
   {
    "duration": 6,
    "start_time": "2022-04-21T06:53:57.578Z"
   },
   {
    "duration": 6,
    "start_time": "2022-04-21T06:53:57.586Z"
   },
   {
    "duration": 10,
    "start_time": "2022-04-21T06:53:57.593Z"
   },
   {
    "duration": 4,
    "start_time": "2022-04-21T06:53:57.634Z"
   },
   {
    "duration": 10,
    "start_time": "2022-04-21T06:53:57.640Z"
   },
   {
    "duration": 5,
    "start_time": "2022-04-21T06:53:57.654Z"
   },
   {
    "duration": 9,
    "start_time": "2022-04-21T06:53:57.661Z"
   },
   {
    "duration": 7,
    "start_time": "2022-04-21T06:53:57.672Z"
   },
   {
    "duration": 10,
    "start_time": "2022-04-21T06:53:57.680Z"
   },
   {
    "duration": 45,
    "start_time": "2022-04-21T06:53:57.691Z"
   },
   {
    "duration": 3,
    "start_time": "2022-04-21T06:53:57.738Z"
   },
   {
    "duration": 9,
    "start_time": "2022-04-21T06:53:57.744Z"
   },
   {
    "duration": 35,
    "start_time": "2022-04-21T06:53:57.755Z"
   },
   {
    "duration": 12,
    "start_time": "2022-04-21T06:53:57.792Z"
   },
   {
    "duration": 14,
    "start_time": "2022-04-21T06:53:57.806Z"
   },
   {
    "duration": 14,
    "start_time": "2022-04-21T06:53:57.822Z"
   },
   {
    "duration": 8,
    "start_time": "2022-04-21T06:53:57.838Z"
   },
   {
    "duration": 15,
    "start_time": "2022-04-21T06:53:57.848Z"
   },
   {
    "duration": 10,
    "start_time": "2022-04-21T06:53:57.865Z"
   },
   {
    "duration": 5,
    "start_time": "2022-04-21T06:53:57.877Z"
   },
   {
    "duration": 10,
    "start_time": "2022-04-21T06:53:57.883Z"
   },
   {
    "duration": 53,
    "start_time": "2022-04-21T06:53:57.895Z"
   },
   {
    "duration": 4,
    "start_time": "2022-04-21T06:53:57.950Z"
   },
   {
    "duration": 10,
    "start_time": "2022-04-21T06:53:57.955Z"
   },
   {
    "duration": 16,
    "start_time": "2022-04-21T06:53:57.966Z"
   },
   {
    "duration": 17,
    "start_time": "2022-04-21T06:53:57.983Z"
   },
   {
    "duration": 454,
    "start_time": "2022-04-21T06:53:58.002Z"
   },
   {
    "duration": 5,
    "start_time": "2022-04-21T06:53:58.458Z"
   },
   {
    "duration": 7,
    "start_time": "2022-04-21T06:53:58.465Z"
   },
   {
    "duration": 17,
    "start_time": "2022-04-21T06:53:58.474Z"
   },
   {
    "duration": 408,
    "start_time": "2022-04-21T06:53:58.492Z"
   },
   {
    "duration": 360,
    "start_time": "2022-04-21T06:53:58.902Z"
   },
   {
    "duration": 290,
    "start_time": "2022-04-21T06:53:59.264Z"
   },
   {
    "duration": 230,
    "start_time": "2022-04-21T06:53:59.556Z"
   },
   {
    "duration": 12,
    "start_time": "2022-04-21T06:53:59.788Z"
   },
   {
    "duration": 6,
    "start_time": "2022-04-21T06:53:59.802Z"
   },
   {
    "duration": 220,
    "start_time": "2022-04-21T06:53:59.810Z"
   },
   {
    "duration": 45,
    "start_time": "2022-04-21T06:54:00.032Z"
   },
   {
    "duration": 8,
    "start_time": "2022-04-21T06:54:00.079Z"
   },
   {
    "duration": 1300,
    "start_time": "2022-04-21T06:54:00.092Z"
   },
   {
    "duration": 196,
    "start_time": "2022-04-21T06:54:01.394Z"
   },
   {
    "duration": 195,
    "start_time": "2022-04-21T06:54:01.592Z"
   },
   {
    "duration": 482,
    "start_time": "2022-04-21T06:54:01.789Z"
   },
   {
    "duration": 189,
    "start_time": "2022-04-21T06:54:02.273Z"
   },
   {
    "duration": 532,
    "start_time": "2022-04-21T06:54:02.464Z"
   },
   {
    "duration": 22,
    "start_time": "2022-04-21T06:54:02.998Z"
   },
   {
    "duration": 225,
    "start_time": "2022-04-21T06:54:03.022Z"
   },
   {
    "duration": 8,
    "start_time": "2022-04-21T06:54:03.250Z"
   },
   {
    "duration": 217,
    "start_time": "2022-04-21T06:54:03.259Z"
   },
   {
    "duration": 268,
    "start_time": "2022-04-21T06:54:03.478Z"
   },
   {
    "duration": 152,
    "start_time": "2022-04-21T06:54:03.747Z"
   },
   {
    "duration": 15,
    "start_time": "2022-04-21T06:54:03.900Z"
   },
   {
    "duration": 566,
    "start_time": "2022-04-21T06:54:03.917Z"
   },
   {
    "duration": 364,
    "start_time": "2022-04-21T06:54:04.485Z"
   },
   {
    "duration": 554,
    "start_time": "2022-04-21T06:54:04.851Z"
   },
   {
    "duration": 50,
    "start_time": "2022-04-21T08:29:23.414Z"
   },
   {
    "duration": 1044,
    "start_time": "2022-04-21T08:29:35.420Z"
   },
   {
    "duration": 89,
    "start_time": "2022-04-21T08:29:36.466Z"
   },
   {
    "duration": 30,
    "start_time": "2022-04-21T08:29:36.556Z"
   },
   {
    "duration": 15,
    "start_time": "2022-04-21T08:29:36.588Z"
   },
   {
    "duration": 18,
    "start_time": "2022-04-21T08:29:36.605Z"
   },
   {
    "duration": 36,
    "start_time": "2022-04-21T08:29:36.625Z"
   },
   {
    "duration": 19,
    "start_time": "2022-04-21T08:29:36.663Z"
   },
   {
    "duration": 7,
    "start_time": "2022-04-21T08:29:36.684Z"
   },
   {
    "duration": 11,
    "start_time": "2022-04-21T08:29:36.693Z"
   },
   {
    "duration": 9,
    "start_time": "2022-04-21T08:29:36.708Z"
   },
   {
    "duration": 8,
    "start_time": "2022-04-21T08:29:36.754Z"
   },
   {
    "duration": 11,
    "start_time": "2022-04-21T08:29:36.764Z"
   },
   {
    "duration": 24,
    "start_time": "2022-04-21T08:29:36.777Z"
   },
   {
    "duration": 13,
    "start_time": "2022-04-21T08:29:36.802Z"
   },
   {
    "duration": 19,
    "start_time": "2022-04-21T08:29:36.817Z"
   },
   {
    "duration": 19,
    "start_time": "2022-04-21T08:29:36.838Z"
   },
   {
    "duration": 18,
    "start_time": "2022-04-21T08:29:36.859Z"
   },
   {
    "duration": 9,
    "start_time": "2022-04-21T08:29:36.880Z"
   },
   {
    "duration": 24,
    "start_time": "2022-04-21T08:29:36.891Z"
   },
   {
    "duration": 21,
    "start_time": "2022-04-21T08:29:36.917Z"
   },
   {
    "duration": 14,
    "start_time": "2022-04-21T08:29:36.940Z"
   },
   {
    "duration": 12,
    "start_time": "2022-04-21T08:29:36.956Z"
   },
   {
    "duration": 32,
    "start_time": "2022-04-21T08:29:36.969Z"
   },
   {
    "duration": 9,
    "start_time": "2022-04-21T08:29:37.002Z"
   },
   {
    "duration": 39,
    "start_time": "2022-04-21T08:29:37.012Z"
   },
   {
    "duration": 19,
    "start_time": "2022-04-21T08:29:37.052Z"
   },
   {
    "duration": 13,
    "start_time": "2022-04-21T08:29:37.072Z"
   },
   {
    "duration": 11,
    "start_time": "2022-04-21T08:29:37.089Z"
   },
   {
    "duration": 22,
    "start_time": "2022-04-21T08:29:37.103Z"
   },
   {
    "duration": 27,
    "start_time": "2022-04-21T08:29:37.127Z"
   },
   {
    "duration": 19,
    "start_time": "2022-04-21T08:29:37.156Z"
   },
   {
    "duration": 7,
    "start_time": "2022-04-21T08:29:37.177Z"
   },
   {
    "duration": 19,
    "start_time": "2022-04-21T08:29:37.185Z"
   },
   {
    "duration": 12,
    "start_time": "2022-04-21T08:29:37.205Z"
   },
   {
    "duration": 28,
    "start_time": "2022-04-21T08:29:37.219Z"
   },
   {
    "duration": 10,
    "start_time": "2022-04-21T08:29:37.249Z"
   },
   {
    "duration": 14,
    "start_time": "2022-04-21T08:29:37.261Z"
   },
   {
    "duration": 18,
    "start_time": "2022-04-21T08:29:37.277Z"
   },
   {
    "duration": 22,
    "start_time": "2022-04-21T08:29:37.296Z"
   },
   {
    "duration": 11,
    "start_time": "2022-04-21T08:29:37.321Z"
   },
   {
    "duration": 21,
    "start_time": "2022-04-21T08:29:37.334Z"
   },
   {
    "duration": 16,
    "start_time": "2022-04-21T08:29:37.357Z"
   },
   {
    "duration": 19,
    "start_time": "2022-04-21T08:29:37.375Z"
   },
   {
    "duration": 26,
    "start_time": "2022-04-21T08:29:37.396Z"
   },
   {
    "duration": 14,
    "start_time": "2022-04-21T08:29:37.423Z"
   },
   {
    "duration": 16,
    "start_time": "2022-04-21T08:29:37.439Z"
   },
   {
    "duration": 23,
    "start_time": "2022-04-21T08:29:37.458Z"
   },
   {
    "duration": 32,
    "start_time": "2022-04-21T08:29:37.483Z"
   },
   {
    "duration": 418,
    "start_time": "2022-04-21T08:29:37.517Z"
   },
   {
    "duration": 5,
    "start_time": "2022-04-21T08:29:37.936Z"
   },
   {
    "duration": 27,
    "start_time": "2022-04-21T08:29:37.943Z"
   },
   {
    "duration": 37,
    "start_time": "2022-04-21T08:29:37.971Z"
   },
   {
    "duration": 338,
    "start_time": "2022-04-21T08:29:38.009Z"
   },
   {
    "duration": 302,
    "start_time": "2022-04-21T08:29:38.348Z"
   },
   {
    "duration": 176,
    "start_time": "2022-04-21T08:29:38.655Z"
   },
   {
    "duration": 196,
    "start_time": "2022-04-21T08:29:38.833Z"
   },
   {
    "duration": 9,
    "start_time": "2022-04-21T08:29:39.031Z"
   },
   {
    "duration": 16,
    "start_time": "2022-04-21T08:29:39.041Z"
   },
   {
    "duration": 175,
    "start_time": "2022-04-21T08:29:39.059Z"
   },
   {
    "duration": 44,
    "start_time": "2022-04-21T08:29:39.236Z"
   },
   {
    "duration": 6,
    "start_time": "2022-04-21T08:29:39.282Z"
   },
   {
    "duration": 1077,
    "start_time": "2022-04-21T08:29:39.290Z"
   },
   {
    "duration": 166,
    "start_time": "2022-04-21T08:29:40.368Z"
   },
   {
    "duration": 173,
    "start_time": "2022-04-21T08:29:40.536Z"
   },
   {
    "duration": 172,
    "start_time": "2022-04-21T08:29:40.712Z"
   },
   {
    "duration": 161,
    "start_time": "2022-04-21T08:29:40.886Z"
   },
   {
    "duration": 459,
    "start_time": "2022-04-21T08:29:41.049Z"
   },
   {
    "duration": 18,
    "start_time": "2022-04-21T08:29:41.510Z"
   },
   {
    "duration": 180,
    "start_time": "2022-04-21T08:29:41.530Z"
   },
   {
    "duration": 8,
    "start_time": "2022-04-21T08:29:41.712Z"
   },
   {
    "duration": 183,
    "start_time": "2022-04-21T08:29:41.721Z"
   },
   {
    "duration": 321,
    "start_time": "2022-04-21T08:29:41.906Z"
   },
   {
    "duration": 147,
    "start_time": "2022-04-21T08:29:42.229Z"
   },
   {
    "duration": 14,
    "start_time": "2022-04-21T08:29:42.378Z"
   },
   {
    "duration": 452,
    "start_time": "2022-04-21T08:29:42.394Z"
   },
   {
    "duration": 298,
    "start_time": "2022-04-21T08:29:42.847Z"
   },
   {
    "duration": 444,
    "start_time": "2022-04-21T08:29:43.147Z"
   },
   {
    "duration": 3,
    "start_time": "2022-04-21T10:59:01.562Z"
   },
   {
    "duration": 95,
    "start_time": "2022-04-21T10:59:01.567Z"
   },
   {
    "duration": 24,
    "start_time": "2022-04-21T10:59:01.665Z"
   },
   {
    "duration": 93,
    "start_time": "2022-04-21T10:59:01.691Z"
   },
   {
    "duration": 10,
    "start_time": "2022-04-21T10:59:01.787Z"
   },
   {
    "duration": 28,
    "start_time": "2022-04-21T10:59:01.798Z"
   },
   {
    "duration": 36,
    "start_time": "2022-04-21T10:59:01.827Z"
   },
   {
    "duration": 26,
    "start_time": "2022-04-21T10:59:01.864Z"
   },
   {
    "duration": 44,
    "start_time": "2022-04-21T10:59:01.892Z"
   },
   {
    "duration": 13,
    "start_time": "2022-04-21T10:59:01.937Z"
   },
   {
    "duration": 13,
    "start_time": "2022-04-21T10:59:01.953Z"
   },
   {
    "duration": 36,
    "start_time": "2022-04-21T10:59:01.967Z"
   },
   {
    "duration": 19,
    "start_time": "2022-04-21T10:59:02.004Z"
   },
   {
    "duration": 16,
    "start_time": "2022-04-21T10:59:02.025Z"
   },
   {
    "duration": 4,
    "start_time": "2022-04-21T10:59:02.044Z"
   },
   {
    "duration": 14,
    "start_time": "2022-04-21T10:59:02.050Z"
   },
   {
    "duration": 10,
    "start_time": "2022-04-21T10:59:02.066Z"
   },
   {
    "duration": 6,
    "start_time": "2022-04-21T10:59:02.077Z"
   },
   {
    "duration": 22,
    "start_time": "2022-04-21T10:59:02.085Z"
   },
   {
    "duration": 9,
    "start_time": "2022-04-21T10:59:02.109Z"
   },
   {
    "duration": 6,
    "start_time": "2022-04-21T10:59:02.120Z"
   },
   {
    "duration": 7,
    "start_time": "2022-04-21T10:59:02.127Z"
   },
   {
    "duration": 19,
    "start_time": "2022-04-21T10:59:02.135Z"
   },
   {
    "duration": 7,
    "start_time": "2022-04-21T10:59:02.156Z"
   },
   {
    "duration": 25,
    "start_time": "2022-04-21T10:59:02.165Z"
   },
   {
    "duration": 18,
    "start_time": "2022-04-21T10:59:02.192Z"
   },
   {
    "duration": 26,
    "start_time": "2022-04-21T10:59:02.212Z"
   },
   {
    "duration": 10,
    "start_time": "2022-04-21T10:59:02.239Z"
   },
   {
    "duration": 7,
    "start_time": "2022-04-21T10:59:02.253Z"
   },
   {
    "duration": 9,
    "start_time": "2022-04-21T10:59:02.261Z"
   },
   {
    "duration": 16,
    "start_time": "2022-04-21T10:59:02.271Z"
   },
   {
    "duration": 6,
    "start_time": "2022-04-21T10:59:02.288Z"
   },
   {
    "duration": 6,
    "start_time": "2022-04-21T10:59:02.295Z"
   },
   {
    "duration": 6,
    "start_time": "2022-04-21T10:59:02.302Z"
   },
   {
    "duration": 9,
    "start_time": "2022-04-21T10:59:02.310Z"
   },
   {
    "duration": 3,
    "start_time": "2022-04-21T10:59:02.320Z"
   },
   {
    "duration": 9,
    "start_time": "2022-04-21T10:59:02.324Z"
   },
   {
    "duration": 7,
    "start_time": "2022-04-21T10:59:02.355Z"
   },
   {
    "duration": 10,
    "start_time": "2022-04-21T10:59:02.364Z"
   },
   {
    "duration": 8,
    "start_time": "2022-04-21T10:59:02.375Z"
   },
   {
    "duration": 8,
    "start_time": "2022-04-21T10:59:02.385Z"
   },
   {
    "duration": 5,
    "start_time": "2022-04-21T10:59:02.394Z"
   },
   {
    "duration": 12,
    "start_time": "2022-04-21T10:59:02.400Z"
   },
   {
    "duration": 43,
    "start_time": "2022-04-21T10:59:02.414Z"
   },
   {
    "duration": 4,
    "start_time": "2022-04-21T10:59:02.459Z"
   },
   {
    "duration": 7,
    "start_time": "2022-04-21T10:59:02.465Z"
   },
   {
    "duration": 16,
    "start_time": "2022-04-21T10:59:02.474Z"
   },
   {
    "duration": 15,
    "start_time": "2022-04-21T10:59:02.492Z"
   },
   {
    "duration": 399,
    "start_time": "2022-04-21T10:59:02.509Z"
   },
   {
    "duration": 5,
    "start_time": "2022-04-21T10:59:02.909Z"
   },
   {
    "duration": 6,
    "start_time": "2022-04-21T10:59:02.916Z"
   },
   {
    "duration": 12,
    "start_time": "2022-04-21T10:59:02.923Z"
   },
   {
    "duration": 268,
    "start_time": "2022-04-21T10:59:02.937Z"
   },
   {
    "duration": 374,
    "start_time": "2022-04-21T10:59:03.207Z"
   },
   {
    "duration": 160,
    "start_time": "2022-04-21T10:59:03.583Z"
   },
   {
    "duration": 183,
    "start_time": "2022-04-21T10:59:03.744Z"
   },
   {
    "duration": 8,
    "start_time": "2022-04-21T10:59:03.929Z"
   },
   {
    "duration": 4,
    "start_time": "2022-04-21T10:59:03.938Z"
   },
   {
    "duration": 160,
    "start_time": "2022-04-21T10:59:03.954Z"
   },
   {
    "duration": 38,
    "start_time": "2022-04-21T10:59:04.116Z"
   },
   {
    "duration": 6,
    "start_time": "2022-04-21T10:59:04.156Z"
   },
   {
    "duration": 927,
    "start_time": "2022-04-21T10:59:04.164Z"
   },
   {
    "duration": 289,
    "start_time": "2022-04-21T10:59:05.093Z"
   },
   {
    "duration": 572,
    "start_time": "2022-04-21T10:59:05.383Z"
   },
   {
    "duration": 301,
    "start_time": "2022-04-21T10:59:05.956Z"
   },
   {
    "duration": 243,
    "start_time": "2022-04-21T10:59:06.258Z"
   },
   {
    "duration": 482,
    "start_time": "2022-04-21T10:59:06.555Z"
   },
   {
    "duration": 29,
    "start_time": "2022-04-21T10:59:07.039Z"
   },
   {
    "duration": 147,
    "start_time": "2022-04-21T10:59:07.070Z"
   },
   {
    "duration": 8,
    "start_time": "2022-04-21T10:59:07.219Z"
   },
   {
    "duration": 166,
    "start_time": "2022-04-21T10:59:07.228Z"
   },
   {
    "duration": 204,
    "start_time": "2022-04-21T10:59:07.396Z"
   },
   {
    "duration": 32,
    "start_time": "2022-04-21T10:59:07.602Z"
   },
   {
    "duration": 30,
    "start_time": "2022-04-21T10:59:07.636Z"
   },
   {
    "duration": 509,
    "start_time": "2022-04-21T10:59:07.668Z"
   },
   {
    "duration": 295,
    "start_time": "2022-04-21T10:59:08.178Z"
   },
   {
    "duration": 430,
    "start_time": "2022-04-21T10:59:08.475Z"
   },
   {
    "duration": 10,
    "start_time": "2022-04-21T11:06:12.756Z"
   },
   {
    "duration": 22,
    "start_time": "2022-04-21T11:07:46.935Z"
   },
   {
    "duration": 22,
    "start_time": "2022-04-21T11:08:34.786Z"
   },
   {
    "duration": 22,
    "start_time": "2022-04-21T11:08:50.211Z"
   },
   {
    "duration": 23,
    "start_time": "2022-04-21T11:09:50.357Z"
   },
   {
    "duration": 27,
    "start_time": "2022-04-21T11:10:31.101Z"
   },
   {
    "duration": 31,
    "start_time": "2022-04-21T11:11:45.301Z"
   },
   {
    "duration": 2,
    "start_time": "2022-04-21T11:11:52.644Z"
   },
   {
    "duration": 92,
    "start_time": "2022-04-21T11:11:52.648Z"
   },
   {
    "duration": 25,
    "start_time": "2022-04-21T11:11:52.742Z"
   },
   {
    "duration": 29,
    "start_time": "2022-04-21T11:11:52.769Z"
   },
   {
    "duration": 21,
    "start_time": "2022-04-21T11:11:52.800Z"
   },
   {
    "duration": 25,
    "start_time": "2022-04-21T11:11:52.822Z"
   },
   {
    "duration": 40,
    "start_time": "2022-04-21T11:11:52.849Z"
   },
   {
    "duration": 27,
    "start_time": "2022-04-21T11:11:52.891Z"
   },
   {
    "duration": 25,
    "start_time": "2022-04-21T11:11:52.920Z"
   },
   {
    "duration": 18,
    "start_time": "2022-04-21T11:11:52.947Z"
   },
   {
    "duration": 20,
    "start_time": "2022-04-21T11:11:52.967Z"
   },
   {
    "duration": 27,
    "start_time": "2022-04-21T11:11:52.989Z"
   },
   {
    "duration": 29,
    "start_time": "2022-04-21T11:11:53.018Z"
   },
   {
    "duration": 21,
    "start_time": "2022-04-21T11:11:53.051Z"
   },
   {
    "duration": 22,
    "start_time": "2022-04-21T11:11:53.074Z"
   },
   {
    "duration": 24,
    "start_time": "2022-04-21T11:11:53.097Z"
   },
   {
    "duration": 22,
    "start_time": "2022-04-21T11:11:53.123Z"
   },
   {
    "duration": 24,
    "start_time": "2022-04-21T11:11:53.146Z"
   },
   {
    "duration": 18,
    "start_time": "2022-04-21T11:11:53.172Z"
   },
   {
    "duration": 22,
    "start_time": "2022-04-21T11:11:53.191Z"
   },
   {
    "duration": 22,
    "start_time": "2022-04-21T11:11:53.215Z"
   },
   {
    "duration": 26,
    "start_time": "2022-04-21T11:11:53.239Z"
   },
   {
    "duration": 29,
    "start_time": "2022-04-21T11:11:53.267Z"
   },
   {
    "duration": 23,
    "start_time": "2022-04-21T11:11:53.298Z"
   },
   {
    "duration": 17,
    "start_time": "2022-04-21T11:11:53.323Z"
   },
   {
    "duration": 22,
    "start_time": "2022-04-21T11:11:53.342Z"
   },
   {
    "duration": 19,
    "start_time": "2022-04-21T11:11:53.366Z"
   },
   {
    "duration": 23,
    "start_time": "2022-04-21T11:11:53.388Z"
   },
   {
    "duration": 22,
    "start_time": "2022-04-21T11:11:53.413Z"
   },
   {
    "duration": 23,
    "start_time": "2022-04-21T11:11:53.437Z"
   },
   {
    "duration": 24,
    "start_time": "2022-04-21T11:11:53.462Z"
   },
   {
    "duration": 25,
    "start_time": "2022-04-21T11:11:53.487Z"
   },
   {
    "duration": 12,
    "start_time": "2022-04-21T11:11:53.513Z"
   },
   {
    "duration": 46,
    "start_time": "2022-04-21T11:11:53.527Z"
   },
   {
    "duration": 25,
    "start_time": "2022-04-21T11:11:53.575Z"
   },
   {
    "duration": 26,
    "start_time": "2022-04-21T11:11:53.602Z"
   },
   {
    "duration": 44,
    "start_time": "2022-04-21T11:11:53.630Z"
   },
   {
    "duration": 22,
    "start_time": "2022-04-21T11:11:53.676Z"
   },
   {
    "duration": 25,
    "start_time": "2022-04-21T11:11:53.700Z"
   },
   {
    "duration": 25,
    "start_time": "2022-04-21T11:11:53.727Z"
   },
   {
    "duration": 34,
    "start_time": "2022-04-21T11:11:53.757Z"
   },
   {
    "duration": 17,
    "start_time": "2022-04-21T11:11:53.792Z"
   },
   {
    "duration": 31,
    "start_time": "2022-04-21T11:11:53.811Z"
   },
   {
    "duration": 31,
    "start_time": "2022-04-21T11:11:53.843Z"
   },
   {
    "duration": 34,
    "start_time": "2022-04-21T11:11:53.876Z"
   },
   {
    "duration": 412,
    "start_time": "2022-04-21T11:11:53.912Z"
   },
   {
    "duration": 5,
    "start_time": "2022-04-21T11:11:54.326Z"
   },
   {
    "duration": 28,
    "start_time": "2022-04-21T11:11:54.333Z"
   },
   {
    "duration": 27,
    "start_time": "2022-04-21T11:11:54.363Z"
   },
   {
    "duration": 285,
    "start_time": "2022-04-21T11:11:54.391Z"
   },
   {
    "duration": 456,
    "start_time": "2022-04-21T11:11:54.678Z"
   },
   {
    "duration": 275,
    "start_time": "2022-04-21T11:11:55.135Z"
   },
   {
    "duration": 207,
    "start_time": "2022-04-21T11:11:55.412Z"
   },
   {
    "duration": 9,
    "start_time": "2022-04-21T11:11:55.620Z"
   },
   {
    "duration": 5,
    "start_time": "2022-04-21T11:11:55.631Z"
   },
   {
    "duration": 203,
    "start_time": "2022-04-21T11:11:55.638Z"
   },
   {
    "duration": 38,
    "start_time": "2022-04-21T11:11:55.843Z"
   },
   {
    "duration": 29,
    "start_time": "2022-04-21T11:11:55.883Z"
   },
   {
    "duration": 1012,
    "start_time": "2022-04-21T11:11:55.914Z"
   },
   {
    "duration": 165,
    "start_time": "2022-04-21T11:11:56.928Z"
   },
   {
    "duration": 169,
    "start_time": "2022-04-21T11:11:57.095Z"
   },
   {
    "duration": 178,
    "start_time": "2022-04-21T11:11:57.266Z"
   },
   {
    "duration": 260,
    "start_time": "2022-04-21T11:11:57.454Z"
   },
   {
    "duration": 486,
    "start_time": "2022-04-21T11:11:57.715Z"
   },
   {
    "duration": 20,
    "start_time": "2022-04-21T11:11:58.203Z"
   },
   {
    "duration": 185,
    "start_time": "2022-04-21T11:11:58.225Z"
   },
   {
    "duration": 10,
    "start_time": "2022-04-21T11:11:58.411Z"
   },
   {
    "duration": 172,
    "start_time": "2022-04-21T11:11:58.422Z"
   },
   {
    "duration": 244,
    "start_time": "2022-04-21T11:11:58.596Z"
   },
   {
    "duration": 43,
    "start_time": "2022-04-21T11:11:58.842Z"
   },
   {
    "duration": 14,
    "start_time": "2022-04-21T11:11:58.887Z"
   },
   {
    "duration": 471,
    "start_time": "2022-04-21T11:11:58.903Z"
   },
   {
    "duration": 327,
    "start_time": "2022-04-21T11:11:59.376Z"
   },
   {
    "duration": 576,
    "start_time": "2022-04-21T11:11:59.704Z"
   },
   {
    "duration": 35,
    "start_time": "2022-04-21T11:12:28.697Z"
   },
   {
    "duration": 35,
    "start_time": "2022-04-21T11:12:44.686Z"
   },
   {
    "duration": 40,
    "start_time": "2022-04-21T11:12:56.963Z"
   },
   {
    "duration": 25,
    "start_time": "2022-04-21T11:13:09.638Z"
   },
   {
    "duration": 926,
    "start_time": "2022-04-21T11:15:06.453Z"
   },
   {
    "duration": 3,
    "start_time": "2022-04-21T11:15:20.930Z"
   },
   {
    "duration": 106,
    "start_time": "2022-04-21T11:15:20.936Z"
   },
   {
    "duration": 40,
    "start_time": "2022-04-21T11:15:21.044Z"
   },
   {
    "duration": 15,
    "start_time": "2022-04-21T11:15:21.085Z"
   },
   {
    "duration": 30,
    "start_time": "2022-04-21T11:15:21.102Z"
   },
   {
    "duration": 24,
    "start_time": "2022-04-21T11:15:21.133Z"
   },
   {
    "duration": 29,
    "start_time": "2022-04-21T11:15:21.159Z"
   },
   {
    "duration": 21,
    "start_time": "2022-04-21T11:15:21.190Z"
   },
   {
    "duration": 27,
    "start_time": "2022-04-21T11:15:21.213Z"
   },
   {
    "duration": 18,
    "start_time": "2022-04-21T11:15:21.241Z"
   },
   {
    "duration": 17,
    "start_time": "2022-04-21T11:15:21.261Z"
   },
   {
    "duration": 30,
    "start_time": "2022-04-21T11:15:21.280Z"
   },
   {
    "duration": 23,
    "start_time": "2022-04-21T11:15:21.311Z"
   },
   {
    "duration": 18,
    "start_time": "2022-04-21T11:15:21.339Z"
   },
   {
    "duration": 21,
    "start_time": "2022-04-21T11:15:21.359Z"
   },
   {
    "duration": 26,
    "start_time": "2022-04-21T11:15:21.382Z"
   },
   {
    "duration": 22,
    "start_time": "2022-04-21T11:15:21.411Z"
   },
   {
    "duration": 19,
    "start_time": "2022-04-21T11:15:21.435Z"
   },
   {
    "duration": 19,
    "start_time": "2022-04-21T11:15:21.456Z"
   },
   {
    "duration": 22,
    "start_time": "2022-04-21T11:15:21.477Z"
   },
   {
    "duration": 18,
    "start_time": "2022-04-21T11:15:21.501Z"
   },
   {
    "duration": 26,
    "start_time": "2022-04-21T11:15:21.521Z"
   },
   {
    "duration": 20,
    "start_time": "2022-04-21T11:15:21.548Z"
   },
   {
    "duration": 21,
    "start_time": "2022-04-21T11:15:21.570Z"
   },
   {
    "duration": 22,
    "start_time": "2022-04-21T11:15:21.593Z"
   },
   {
    "duration": 26,
    "start_time": "2022-04-21T11:15:21.617Z"
   },
   {
    "duration": 12,
    "start_time": "2022-04-21T11:15:21.645Z"
   },
   {
    "duration": 9,
    "start_time": "2022-04-21T11:15:21.659Z"
   },
   {
    "duration": 17,
    "start_time": "2022-04-21T11:15:21.670Z"
   },
   {
    "duration": 19,
    "start_time": "2022-04-21T11:15:21.689Z"
   },
   {
    "duration": 12,
    "start_time": "2022-04-21T11:15:21.710Z"
   },
   {
    "duration": 17,
    "start_time": "2022-04-21T11:15:21.724Z"
   },
   {
    "duration": 33,
    "start_time": "2022-04-21T11:15:21.743Z"
   },
   {
    "duration": 28,
    "start_time": "2022-04-21T11:15:21.778Z"
   },
   {
    "duration": 16,
    "start_time": "2022-04-21T11:15:21.808Z"
   },
   {
    "duration": 15,
    "start_time": "2022-04-21T11:15:21.826Z"
   },
   {
    "duration": 17,
    "start_time": "2022-04-21T11:15:21.843Z"
   },
   {
    "duration": 14,
    "start_time": "2022-04-21T11:15:21.861Z"
   },
   {
    "duration": 9,
    "start_time": "2022-04-21T11:15:21.877Z"
   },
   {
    "duration": 12,
    "start_time": "2022-04-21T11:15:21.888Z"
   },
   {
    "duration": 20,
    "start_time": "2022-04-21T11:15:21.905Z"
   },
   {
    "duration": 20,
    "start_time": "2022-04-21T11:15:21.927Z"
   },
   {
    "duration": 13,
    "start_time": "2022-04-21T11:15:21.948Z"
   },
   {
    "duration": 23,
    "start_time": "2022-04-21T11:15:21.963Z"
   },
   {
    "duration": 25,
    "start_time": "2022-04-21T11:15:21.988Z"
   },
   {
    "duration": 370,
    "start_time": "2022-04-21T11:15:22.015Z"
   },
   {
    "duration": 5,
    "start_time": "2022-04-21T11:15:22.387Z"
   },
   {
    "duration": 14,
    "start_time": "2022-04-21T11:15:22.393Z"
   },
   {
    "duration": 12,
    "start_time": "2022-04-21T11:15:22.408Z"
   },
   {
    "duration": 359,
    "start_time": "2022-04-21T11:15:22.422Z"
   },
   {
    "duration": 293,
    "start_time": "2022-04-21T11:15:22.782Z"
   },
   {
    "duration": 162,
    "start_time": "2022-04-21T11:15:23.077Z"
   },
   {
    "duration": 180,
    "start_time": "2022-04-21T11:15:23.241Z"
   },
   {
    "duration": 9,
    "start_time": "2022-04-21T11:15:23.422Z"
   },
   {
    "duration": 5,
    "start_time": "2022-04-21T11:15:23.432Z"
   },
   {
    "duration": 179,
    "start_time": "2022-04-21T11:15:23.438Z"
   },
   {
    "duration": 44,
    "start_time": "2022-04-21T11:15:23.619Z"
   },
   {
    "duration": 30,
    "start_time": "2022-04-21T11:15:23.664Z"
   },
   {
    "duration": 908,
    "start_time": "2022-04-21T11:15:23.695Z"
   },
   {
    "duration": 260,
    "start_time": "2022-04-21T11:15:24.605Z"
   },
   {
    "duration": 162,
    "start_time": "2022-04-21T11:15:24.867Z"
   },
   {
    "duration": 161,
    "start_time": "2022-04-21T11:15:25.031Z"
   },
   {
    "duration": 144,
    "start_time": "2022-04-21T11:15:25.194Z"
   },
   {
    "duration": 436,
    "start_time": "2022-04-21T11:15:25.339Z"
   },
   {
    "duration": 19,
    "start_time": "2022-04-21T11:15:25.777Z"
   },
   {
    "duration": 162,
    "start_time": "2022-04-21T11:15:25.798Z"
   },
   {
    "duration": 9,
    "start_time": "2022-04-21T11:15:25.962Z"
   },
   {
    "duration": 171,
    "start_time": "2022-04-21T11:15:25.973Z"
   },
   {
    "duration": 219,
    "start_time": "2022-04-21T11:15:26.146Z"
   },
   {
    "duration": 33,
    "start_time": "2022-04-21T11:15:26.367Z"
   },
   {
    "duration": 18,
    "start_time": "2022-04-21T11:15:26.401Z"
   },
   {
    "duration": 569,
    "start_time": "2022-04-21T11:15:26.421Z"
   },
   {
    "duration": 362,
    "start_time": "2022-04-21T11:15:26.992Z"
   },
   {
    "duration": 824,
    "start_time": "2022-04-21T11:15:27.356Z"
   },
   {
    "duration": 662,
    "start_time": "2022-04-21T11:17:18.606Z"
   },
   {
    "duration": 79,
    "start_time": "2022-04-21T11:17:19.270Z"
   },
   {
    "duration": 27,
    "start_time": "2022-04-21T11:17:19.353Z"
   },
   {
    "duration": 16,
    "start_time": "2022-04-21T11:17:19.382Z"
   },
   {
    "duration": 10,
    "start_time": "2022-04-21T11:17:19.400Z"
   },
   {
    "duration": 7,
    "start_time": "2022-04-21T11:17:19.412Z"
   },
   {
    "duration": 50,
    "start_time": "2022-04-21T11:17:19.421Z"
   },
   {
    "duration": 10,
    "start_time": "2022-04-21T11:17:19.473Z"
   },
   {
    "duration": 8,
    "start_time": "2022-04-21T11:17:19.486Z"
   },
   {
    "duration": 8,
    "start_time": "2022-04-21T11:17:19.496Z"
   },
   {
    "duration": 5,
    "start_time": "2022-04-21T11:17:19.506Z"
   },
   {
    "duration": 46,
    "start_time": "2022-04-21T11:17:19.513Z"
   },
   {
    "duration": 6,
    "start_time": "2022-04-21T11:17:19.561Z"
   },
   {
    "duration": 6,
    "start_time": "2022-04-21T11:17:19.569Z"
   },
   {
    "duration": 7,
    "start_time": "2022-04-21T11:17:19.577Z"
   },
   {
    "duration": 8,
    "start_time": "2022-04-21T11:17:19.585Z"
   },
   {
    "duration": 6,
    "start_time": "2022-04-21T11:17:19.595Z"
   },
   {
    "duration": 11,
    "start_time": "2022-04-21T11:17:19.602Z"
   },
   {
    "duration": 6,
    "start_time": "2022-04-21T11:17:19.614Z"
   },
   {
    "duration": 5,
    "start_time": "2022-04-21T11:17:19.655Z"
   },
   {
    "duration": 10,
    "start_time": "2022-04-21T11:17:19.662Z"
   },
   {
    "duration": 11,
    "start_time": "2022-04-21T11:17:19.673Z"
   },
   {
    "duration": 9,
    "start_time": "2022-04-21T11:17:19.685Z"
   },
   {
    "duration": 8,
    "start_time": "2022-04-21T11:17:19.695Z"
   },
   {
    "duration": 5,
    "start_time": "2022-04-21T11:17:19.705Z"
   },
   {
    "duration": 12,
    "start_time": "2022-04-21T11:17:19.712Z"
   },
   {
    "duration": 13,
    "start_time": "2022-04-21T11:17:19.728Z"
   },
   {
    "duration": 12,
    "start_time": "2022-04-21T11:17:19.754Z"
   },
   {
    "duration": 8,
    "start_time": "2022-04-21T11:17:19.768Z"
   },
   {
    "duration": 5,
    "start_time": "2022-04-21T11:17:19.777Z"
   },
   {
    "duration": 6,
    "start_time": "2022-04-21T11:17:19.784Z"
   },
   {
    "duration": 11,
    "start_time": "2022-04-21T11:17:19.791Z"
   },
   {
    "duration": 4,
    "start_time": "2022-04-21T11:17:19.803Z"
   },
   {
    "duration": 9,
    "start_time": "2022-04-21T11:17:19.809Z"
   },
   {
    "duration": 6,
    "start_time": "2022-04-21T11:17:19.820Z"
   },
   {
    "duration": 8,
    "start_time": "2022-04-21T11:17:19.855Z"
   },
   {
    "duration": 10,
    "start_time": "2022-04-21T11:17:19.864Z"
   },
   {
    "duration": 8,
    "start_time": "2022-04-21T11:17:19.876Z"
   },
   {
    "duration": 5,
    "start_time": "2022-04-21T11:17:19.886Z"
   },
   {
    "duration": 9,
    "start_time": "2022-04-21T11:17:19.892Z"
   },
   {
    "duration": 18,
    "start_time": "2022-04-21T11:17:19.902Z"
   },
   {
    "duration": 4,
    "start_time": "2022-04-21T11:17:19.955Z"
   },
   {
    "duration": 8,
    "start_time": "2022-04-21T11:17:19.961Z"
   },
   {
    "duration": 13,
    "start_time": "2022-04-21T11:17:19.971Z"
   },
   {
    "duration": 15,
    "start_time": "2022-04-21T11:17:19.986Z"
   },
   {
    "duration": 414,
    "start_time": "2022-04-21T11:17:20.003Z"
   },
   {
    "duration": 6,
    "start_time": "2022-04-21T11:17:20.419Z"
   },
   {
    "duration": 10,
    "start_time": "2022-04-21T11:17:20.426Z"
   },
   {
    "duration": 29,
    "start_time": "2022-04-21T11:17:20.438Z"
   },
   {
    "duration": 323,
    "start_time": "2022-04-21T11:17:20.469Z"
   },
   {
    "duration": 289,
    "start_time": "2022-04-21T11:17:20.793Z"
   },
   {
    "duration": 170,
    "start_time": "2022-04-21T11:17:21.084Z"
   },
   {
    "duration": 183,
    "start_time": "2022-04-21T11:17:21.256Z"
   },
   {
    "duration": 18,
    "start_time": "2022-04-21T11:17:21.441Z"
   },
   {
    "duration": 5,
    "start_time": "2022-04-21T11:17:21.461Z"
   },
   {
    "duration": 168,
    "start_time": "2022-04-21T11:17:21.467Z"
   },
   {
    "duration": 81,
    "start_time": "2022-04-21T11:17:21.637Z"
   },
   {
    "duration": 0,
    "start_time": "2022-04-21T11:17:21.719Z"
   },
   {
    "duration": 0,
    "start_time": "2022-04-21T11:17:21.721Z"
   },
   {
    "duration": 0,
    "start_time": "2022-04-21T11:17:21.722Z"
   },
   {
    "duration": 0,
    "start_time": "2022-04-21T11:17:21.723Z"
   },
   {
    "duration": 0,
    "start_time": "2022-04-21T11:17:21.724Z"
   },
   {
    "duration": 0,
    "start_time": "2022-04-21T11:17:21.726Z"
   },
   {
    "duration": 0,
    "start_time": "2022-04-21T11:17:21.727Z"
   },
   {
    "duration": 0,
    "start_time": "2022-04-21T11:17:21.728Z"
   },
   {
    "duration": 0,
    "start_time": "2022-04-21T11:17:21.729Z"
   },
   {
    "duration": 0,
    "start_time": "2022-04-21T11:17:21.730Z"
   },
   {
    "duration": 0,
    "start_time": "2022-04-21T11:17:21.731Z"
   },
   {
    "duration": 0,
    "start_time": "2022-04-21T11:17:21.732Z"
   },
   {
    "duration": 0,
    "start_time": "2022-04-21T11:17:21.755Z"
   },
   {
    "duration": 0,
    "start_time": "2022-04-21T11:17:21.756Z"
   },
   {
    "duration": 0,
    "start_time": "2022-04-21T11:17:21.757Z"
   },
   {
    "duration": 0,
    "start_time": "2022-04-21T11:17:21.758Z"
   },
   {
    "duration": 0,
    "start_time": "2022-04-21T11:17:21.759Z"
   },
   {
    "duration": 702,
    "start_time": "2022-04-21T11:19:04.323Z"
   },
   {
    "duration": 81,
    "start_time": "2022-04-21T11:19:05.027Z"
   },
   {
    "duration": 27,
    "start_time": "2022-04-21T11:19:05.110Z"
   },
   {
    "duration": 34,
    "start_time": "2022-04-21T11:19:05.139Z"
   },
   {
    "duration": 20,
    "start_time": "2022-04-21T11:19:05.175Z"
   },
   {
    "duration": 26,
    "start_time": "2022-04-21T11:19:05.196Z"
   },
   {
    "duration": 23,
    "start_time": "2022-04-21T11:19:05.224Z"
   },
   {
    "duration": 38,
    "start_time": "2022-04-21T11:19:05.249Z"
   },
   {
    "duration": 32,
    "start_time": "2022-04-21T11:19:05.288Z"
   },
   {
    "duration": 37,
    "start_time": "2022-04-21T11:19:05.322Z"
   },
   {
    "duration": 35,
    "start_time": "2022-04-21T11:19:05.360Z"
   },
   {
    "duration": 25,
    "start_time": "2022-04-21T11:19:05.397Z"
   },
   {
    "duration": 15,
    "start_time": "2022-04-21T11:19:05.424Z"
   },
   {
    "duration": 22,
    "start_time": "2022-04-21T11:19:05.440Z"
   },
   {
    "duration": 20,
    "start_time": "2022-04-21T11:19:05.463Z"
   },
   {
    "duration": 18,
    "start_time": "2022-04-21T11:19:05.485Z"
   },
   {
    "duration": 13,
    "start_time": "2022-04-21T11:19:05.505Z"
   },
   {
    "duration": 18,
    "start_time": "2022-04-21T11:19:05.520Z"
   },
   {
    "duration": 33,
    "start_time": "2022-04-21T11:19:05.540Z"
   },
   {
    "duration": 22,
    "start_time": "2022-04-21T11:19:05.574Z"
   },
   {
    "duration": 28,
    "start_time": "2022-04-21T11:19:05.598Z"
   },
   {
    "duration": 26,
    "start_time": "2022-04-21T11:19:05.628Z"
   },
   {
    "duration": 18,
    "start_time": "2022-04-21T11:19:05.655Z"
   },
   {
    "duration": 20,
    "start_time": "2022-04-21T11:19:05.675Z"
   },
   {
    "duration": 40,
    "start_time": "2022-04-21T11:19:05.696Z"
   },
   {
    "duration": 34,
    "start_time": "2022-04-21T11:19:05.737Z"
   },
   {
    "duration": 20,
    "start_time": "2022-04-21T11:19:05.773Z"
   },
   {
    "duration": 26,
    "start_time": "2022-04-21T11:19:05.797Z"
   },
   {
    "duration": 20,
    "start_time": "2022-04-21T11:19:05.825Z"
   },
   {
    "duration": 20,
    "start_time": "2022-04-21T11:19:05.846Z"
   },
   {
    "duration": 11,
    "start_time": "2022-04-21T11:19:05.868Z"
   },
   {
    "duration": 24,
    "start_time": "2022-04-21T11:19:05.880Z"
   },
   {
    "duration": 15,
    "start_time": "2022-04-21T11:19:05.905Z"
   },
   {
    "duration": 26,
    "start_time": "2022-04-21T11:19:05.922Z"
   },
   {
    "duration": 19,
    "start_time": "2022-04-21T11:19:05.950Z"
   },
   {
    "duration": 27,
    "start_time": "2022-04-21T11:19:05.971Z"
   },
   {
    "duration": 31,
    "start_time": "2022-04-21T11:19:06.000Z"
   },
   {
    "duration": 25,
    "start_time": "2022-04-21T11:19:06.033Z"
   },
   {
    "duration": 19,
    "start_time": "2022-04-21T11:19:06.060Z"
   },
   {
    "duration": 12,
    "start_time": "2022-04-21T11:19:06.080Z"
   },
   {
    "duration": 29,
    "start_time": "2022-04-21T11:19:06.093Z"
   },
   {
    "duration": 4,
    "start_time": "2022-04-21T11:19:06.123Z"
   },
   {
    "duration": 16,
    "start_time": "2022-04-21T11:19:06.129Z"
   },
   {
    "duration": 30,
    "start_time": "2022-04-21T11:19:06.147Z"
   },
   {
    "duration": 21,
    "start_time": "2022-04-21T11:19:06.179Z"
   },
   {
    "duration": 596,
    "start_time": "2022-04-21T11:19:06.202Z"
   },
   {
    "duration": 7,
    "start_time": "2022-04-21T11:19:06.799Z"
   },
   {
    "duration": 7,
    "start_time": "2022-04-21T11:19:06.808Z"
   },
   {
    "duration": 17,
    "start_time": "2022-04-21T11:19:06.817Z"
   },
   {
    "duration": 464,
    "start_time": "2022-04-21T11:19:06.854Z"
   },
   {
    "duration": 328,
    "start_time": "2022-04-21T11:19:07.320Z"
   },
   {
    "duration": 175,
    "start_time": "2022-04-21T11:19:07.655Z"
   },
   {
    "duration": 183,
    "start_time": "2022-04-21T11:19:07.832Z"
   },
   {
    "duration": 9,
    "start_time": "2022-04-21T11:19:08.017Z"
   },
   {
    "duration": 5,
    "start_time": "2022-04-21T11:19:08.028Z"
   },
   {
    "duration": 171,
    "start_time": "2022-04-21T11:19:08.034Z"
   },
   {
    "duration": 29,
    "start_time": "2022-04-21T11:19:08.206Z"
   },
   {
    "duration": 47,
    "start_time": "2022-04-21T11:19:08.237Z"
   },
   {
    "duration": 1053,
    "start_time": "2022-04-21T11:19:08.286Z"
   },
   {
    "duration": 225,
    "start_time": "2022-04-21T11:19:09.340Z"
   },
   {
    "duration": 159,
    "start_time": "2022-04-21T11:19:09.567Z"
   },
   {
    "duration": 158,
    "start_time": "2022-04-21T11:19:09.728Z"
   },
   {
    "duration": 137,
    "start_time": "2022-04-21T11:19:09.888Z"
   },
   {
    "duration": 431,
    "start_time": "2022-04-21T11:19:10.027Z"
   },
   {
    "duration": 22,
    "start_time": "2022-04-21T11:19:10.460Z"
   },
   {
    "duration": 166,
    "start_time": "2022-04-21T11:19:10.484Z"
   },
   {
    "duration": 9,
    "start_time": "2022-04-21T11:19:10.652Z"
   },
   {
    "duration": 184,
    "start_time": "2022-04-21T11:19:10.663Z"
   },
   {
    "duration": 202,
    "start_time": "2022-04-21T11:19:10.854Z"
   },
   {
    "duration": 34,
    "start_time": "2022-04-21T11:19:11.058Z"
   },
   {
    "duration": 15,
    "start_time": "2022-04-21T11:19:11.094Z"
   },
   {
    "duration": 535,
    "start_time": "2022-04-21T11:19:11.111Z"
   },
   {
    "duration": 299,
    "start_time": "2022-04-21T11:19:11.648Z"
   },
   {
    "duration": 409,
    "start_time": "2022-04-21T11:19:11.955Z"
   },
   {
    "duration": 2,
    "start_time": "2022-04-21T11:24:46.632Z"
   },
   {
    "duration": 107,
    "start_time": "2022-04-21T11:24:46.636Z"
   },
   {
    "duration": 32,
    "start_time": "2022-04-21T11:24:46.745Z"
   },
   {
    "duration": 20,
    "start_time": "2022-04-21T11:24:46.779Z"
   },
   {
    "duration": 9,
    "start_time": "2022-04-21T11:24:46.802Z"
   },
   {
    "duration": 7,
    "start_time": "2022-04-21T11:24:46.813Z"
   },
   {
    "duration": 47,
    "start_time": "2022-04-21T11:24:46.822Z"
   },
   {
    "duration": 11,
    "start_time": "2022-04-21T11:24:46.871Z"
   },
   {
    "duration": 11,
    "start_time": "2022-04-21T11:24:46.883Z"
   },
   {
    "duration": 7,
    "start_time": "2022-04-21T11:24:46.896Z"
   },
   {
    "duration": 5,
    "start_time": "2022-04-21T11:24:46.906Z"
   },
   {
    "duration": 48,
    "start_time": "2022-04-21T11:24:46.913Z"
   },
   {
    "duration": 7,
    "start_time": "2022-04-21T11:24:46.963Z"
   },
   {
    "duration": 21,
    "start_time": "2022-04-21T11:24:46.972Z"
   },
   {
    "duration": 18,
    "start_time": "2022-04-21T11:24:46.995Z"
   },
   {
    "duration": 14,
    "start_time": "2022-04-21T11:24:47.016Z"
   },
   {
    "duration": 17,
    "start_time": "2022-04-21T11:24:47.032Z"
   },
   {
    "duration": 14,
    "start_time": "2022-04-21T11:24:47.052Z"
   },
   {
    "duration": 18,
    "start_time": "2022-04-21T11:24:47.068Z"
   },
   {
    "duration": 23,
    "start_time": "2022-04-21T11:24:47.088Z"
   },
   {
    "duration": 12,
    "start_time": "2022-04-21T11:24:47.113Z"
   },
   {
    "duration": 22,
    "start_time": "2022-04-21T11:24:47.127Z"
   },
   {
    "duration": 21,
    "start_time": "2022-04-21T11:24:47.151Z"
   },
   {
    "duration": 16,
    "start_time": "2022-04-21T11:24:47.173Z"
   },
   {
    "duration": 16,
    "start_time": "2022-04-21T11:24:47.191Z"
   },
   {
    "duration": 21,
    "start_time": "2022-04-21T11:24:47.209Z"
   },
   {
    "duration": 19,
    "start_time": "2022-04-21T11:24:47.232Z"
   },
   {
    "duration": 20,
    "start_time": "2022-04-21T11:24:47.253Z"
   },
   {
    "duration": 14,
    "start_time": "2022-04-21T11:24:47.278Z"
   },
   {
    "duration": 22,
    "start_time": "2022-04-21T11:24:47.293Z"
   },
   {
    "duration": 20,
    "start_time": "2022-04-21T11:24:47.317Z"
   },
   {
    "duration": 20,
    "start_time": "2022-04-21T11:24:47.338Z"
   },
   {
    "duration": 14,
    "start_time": "2022-04-21T11:24:47.360Z"
   },
   {
    "duration": 21,
    "start_time": "2022-04-21T11:24:47.376Z"
   },
   {
    "duration": 18,
    "start_time": "2022-04-21T11:24:47.398Z"
   },
   {
    "duration": 14,
    "start_time": "2022-04-21T11:24:47.418Z"
   },
   {
    "duration": 22,
    "start_time": "2022-04-21T11:24:47.433Z"
   },
   {
    "duration": 15,
    "start_time": "2022-04-21T11:24:47.456Z"
   },
   {
    "duration": 18,
    "start_time": "2022-04-21T11:24:47.472Z"
   },
   {
    "duration": 34,
    "start_time": "2022-04-21T11:24:47.491Z"
   },
   {
    "duration": 42,
    "start_time": "2022-04-21T11:24:47.527Z"
   },
   {
    "duration": 4,
    "start_time": "2022-04-21T11:24:47.570Z"
   },
   {
    "duration": 24,
    "start_time": "2022-04-21T11:24:47.575Z"
   },
   {
    "duration": 25,
    "start_time": "2022-04-21T11:24:47.601Z"
   },
   {
    "duration": 26,
    "start_time": "2022-04-21T11:24:47.628Z"
   },
   {
    "duration": 388,
    "start_time": "2022-04-21T11:24:47.656Z"
   },
   {
    "duration": 9,
    "start_time": "2022-04-21T11:24:48.046Z"
   },
   {
    "duration": 21,
    "start_time": "2022-04-21T11:24:48.057Z"
   },
   {
    "duration": 29,
    "start_time": "2022-04-21T11:24:48.080Z"
   },
   {
    "duration": 265,
    "start_time": "2022-04-21T11:24:48.110Z"
   },
   {
    "duration": 377,
    "start_time": "2022-04-21T11:24:48.377Z"
   },
   {
    "duration": 167,
    "start_time": "2022-04-21T11:24:48.756Z"
   },
   {
    "duration": 198,
    "start_time": "2022-04-21T11:24:48.925Z"
   },
   {
    "duration": 9,
    "start_time": "2022-04-21T11:24:49.125Z"
   },
   {
    "duration": 20,
    "start_time": "2022-04-21T11:24:49.135Z"
   },
   {
    "duration": 162,
    "start_time": "2022-04-21T11:24:49.156Z"
   },
   {
    "duration": 44,
    "start_time": "2022-04-21T11:24:49.320Z"
   },
   {
    "duration": 34,
    "start_time": "2022-04-21T11:24:49.366Z"
   },
   {
    "duration": 923,
    "start_time": "2022-04-21T11:24:49.402Z"
   },
   {
    "duration": 153,
    "start_time": "2022-04-21T11:24:50.327Z"
   },
   {
    "duration": 272,
    "start_time": "2022-04-21T11:24:50.482Z"
   },
   {
    "duration": 167,
    "start_time": "2022-04-21T11:24:50.756Z"
   },
   {
    "duration": 161,
    "start_time": "2022-04-21T11:24:50.925Z"
   },
   {
    "duration": 467,
    "start_time": "2022-04-21T11:24:51.088Z"
   },
   {
    "duration": 22,
    "start_time": "2022-04-21T11:24:51.558Z"
   },
   {
    "duration": 181,
    "start_time": "2022-04-21T11:24:51.581Z"
   },
   {
    "duration": 10,
    "start_time": "2022-04-21T11:24:51.765Z"
   },
   {
    "duration": 169,
    "start_time": "2022-04-21T11:24:51.776Z"
   },
   {
    "duration": 222,
    "start_time": "2022-04-21T11:24:51.947Z"
   },
   {
    "duration": 33,
    "start_time": "2022-04-21T11:24:52.171Z"
   },
   {
    "duration": 15,
    "start_time": "2022-04-21T11:24:52.207Z"
   },
   {
    "duration": 570,
    "start_time": "2022-04-21T11:24:52.224Z"
   },
   {
    "duration": 313,
    "start_time": "2022-04-21T11:24:52.796Z"
   },
   {
    "duration": 437,
    "start_time": "2022-04-21T11:24:53.112Z"
   },
   {
    "duration": 2,
    "start_time": "2022-04-21T11:25:36.429Z"
   },
   {
    "duration": 77,
    "start_time": "2022-04-21T11:25:36.442Z"
   },
   {
    "duration": 49,
    "start_time": "2022-04-21T11:25:36.522Z"
   },
   {
    "duration": 24,
    "start_time": "2022-04-21T11:25:36.572Z"
   },
   {
    "duration": 12,
    "start_time": "2022-04-21T11:25:36.598Z"
   },
   {
    "duration": 45,
    "start_time": "2022-04-21T11:25:36.612Z"
   },
   {
    "duration": 17,
    "start_time": "2022-04-21T11:25:36.659Z"
   },
   {
    "duration": 12,
    "start_time": "2022-04-21T11:25:36.678Z"
   },
   {
    "duration": 10,
    "start_time": "2022-04-21T11:25:36.692Z"
   },
   {
    "duration": 8,
    "start_time": "2022-04-21T11:25:36.703Z"
   },
   {
    "duration": 10,
    "start_time": "2022-04-21T11:25:36.712Z"
   },
   {
    "duration": 31,
    "start_time": "2022-04-21T11:25:36.724Z"
   },
   {
    "duration": 6,
    "start_time": "2022-04-21T11:25:36.757Z"
   },
   {
    "duration": 10,
    "start_time": "2022-04-21T11:25:36.765Z"
   },
   {
    "duration": 5,
    "start_time": "2022-04-21T11:25:36.778Z"
   },
   {
    "duration": 9,
    "start_time": "2022-04-21T11:25:36.785Z"
   },
   {
    "duration": 6,
    "start_time": "2022-04-21T11:25:36.796Z"
   },
   {
    "duration": 6,
    "start_time": "2022-04-21T11:25:36.804Z"
   },
   {
    "duration": 43,
    "start_time": "2022-04-21T11:25:36.812Z"
   },
   {
    "duration": 5,
    "start_time": "2022-04-21T11:25:36.857Z"
   },
   {
    "duration": 6,
    "start_time": "2022-04-21T11:25:36.863Z"
   },
   {
    "duration": 8,
    "start_time": "2022-04-21T11:25:36.871Z"
   },
   {
    "duration": 6,
    "start_time": "2022-04-21T11:25:36.881Z"
   },
   {
    "duration": 6,
    "start_time": "2022-04-21T11:25:36.889Z"
   },
   {
    "duration": 5,
    "start_time": "2022-04-21T11:25:36.896Z"
   },
   {
    "duration": 9,
    "start_time": "2022-04-21T11:25:36.902Z"
   },
   {
    "duration": 6,
    "start_time": "2022-04-21T11:25:36.913Z"
   },
   {
    "duration": 8,
    "start_time": "2022-04-21T11:25:36.954Z"
   },
   {
    "duration": 11,
    "start_time": "2022-04-21T11:25:36.964Z"
   },
   {
    "duration": 6,
    "start_time": "2022-04-21T11:25:36.976Z"
   },
   {
    "duration": 6,
    "start_time": "2022-04-21T11:25:36.984Z"
   },
   {
    "duration": 9,
    "start_time": "2022-04-21T11:25:36.992Z"
   },
   {
    "duration": 4,
    "start_time": "2022-04-21T11:25:37.002Z"
   },
   {
    "duration": 14,
    "start_time": "2022-04-21T11:25:37.008Z"
   },
   {
    "duration": 35,
    "start_time": "2022-04-21T11:25:37.024Z"
   },
   {
    "duration": 8,
    "start_time": "2022-04-21T11:25:37.060Z"
   },
   {
    "duration": 10,
    "start_time": "2022-04-21T11:25:37.070Z"
   },
   {
    "duration": 8,
    "start_time": "2022-04-21T11:25:37.082Z"
   },
   {
    "duration": 6,
    "start_time": "2022-04-21T11:25:37.091Z"
   },
   {
    "duration": 10,
    "start_time": "2022-04-21T11:25:37.099Z"
   },
   {
    "duration": 51,
    "start_time": "2022-04-21T11:25:37.110Z"
   },
   {
    "duration": 4,
    "start_time": "2022-04-21T11:25:37.166Z"
   },
   {
    "duration": 9,
    "start_time": "2022-04-21T11:25:37.172Z"
   },
   {
    "duration": 16,
    "start_time": "2022-04-21T11:25:37.182Z"
   },
   {
    "duration": 13,
    "start_time": "2022-04-21T11:25:37.200Z"
   },
   {
    "duration": 424,
    "start_time": "2022-04-21T11:25:37.215Z"
   },
   {
    "duration": 6,
    "start_time": "2022-04-21T11:25:37.640Z"
   },
   {
    "duration": 5,
    "start_time": "2022-04-21T11:25:37.655Z"
   },
   {
    "duration": 15,
    "start_time": "2022-04-21T11:25:37.661Z"
   },
   {
    "duration": 298,
    "start_time": "2022-04-21T11:25:37.678Z"
   },
   {
    "duration": 306,
    "start_time": "2022-04-21T11:25:37.978Z"
   },
   {
    "duration": 274,
    "start_time": "2022-04-21T11:25:38.286Z"
   },
   {
    "duration": 212,
    "start_time": "2022-04-21T11:25:38.561Z"
   },
   {
    "duration": 9,
    "start_time": "2022-04-21T11:25:38.774Z"
   },
   {
    "duration": 9,
    "start_time": "2022-04-21T11:25:38.784Z"
   },
   {
    "duration": 174,
    "start_time": "2022-04-21T11:25:38.795Z"
   },
   {
    "duration": 37,
    "start_time": "2022-04-21T11:25:38.971Z"
   },
   {
    "duration": 50,
    "start_time": "2022-04-21T11:25:39.009Z"
   },
   {
    "duration": 951,
    "start_time": "2022-04-21T11:25:39.060Z"
   },
   {
    "duration": 148,
    "start_time": "2022-04-21T11:25:40.013Z"
   },
   {
    "duration": 160,
    "start_time": "2022-04-21T11:25:40.163Z"
   },
   {
    "duration": 176,
    "start_time": "2022-04-21T11:25:40.324Z"
   },
   {
    "duration": 242,
    "start_time": "2022-04-21T11:25:40.501Z"
   },
   {
    "duration": 430,
    "start_time": "2022-04-21T11:25:40.745Z"
   },
   {
    "duration": 19,
    "start_time": "2022-04-21T11:25:41.177Z"
   },
   {
    "duration": 168,
    "start_time": "2022-04-21T11:25:41.198Z"
   },
   {
    "duration": 8,
    "start_time": "2022-04-21T11:25:41.368Z"
   },
   {
    "duration": 165,
    "start_time": "2022-04-21T11:25:41.378Z"
   },
   {
    "duration": 209,
    "start_time": "2022-04-21T11:25:41.544Z"
   },
   {
    "duration": 31,
    "start_time": "2022-04-21T11:25:41.754Z"
   },
   {
    "duration": 13,
    "start_time": "2022-04-21T11:25:41.787Z"
   },
   {
    "duration": 426,
    "start_time": "2022-04-21T11:25:41.802Z"
   },
   {
    "duration": 293,
    "start_time": "2022-04-21T11:25:42.230Z"
   },
   {
    "duration": 1051,
    "start_time": "2022-04-21T11:25:42.525Z"
   },
   {
    "duration": 3,
    "start_time": "2022-04-21T11:27:21.966Z"
   },
   {
    "duration": 77,
    "start_time": "2022-04-21T11:27:21.971Z"
   },
   {
    "duration": 25,
    "start_time": "2022-04-21T11:27:22.050Z"
   },
   {
    "duration": 20,
    "start_time": "2022-04-21T11:27:22.077Z"
   },
   {
    "duration": 10,
    "start_time": "2022-04-21T11:27:22.100Z"
   },
   {
    "duration": 15,
    "start_time": "2022-04-21T11:27:22.111Z"
   },
   {
    "duration": 42,
    "start_time": "2022-04-21T11:27:22.127Z"
   },
   {
    "duration": 17,
    "start_time": "2022-04-21T11:27:22.171Z"
   },
   {
    "duration": 10,
    "start_time": "2022-04-21T11:27:22.189Z"
   },
   {
    "duration": 10,
    "start_time": "2022-04-21T11:27:22.200Z"
   },
   {
    "duration": 22,
    "start_time": "2022-04-21T11:27:22.212Z"
   },
   {
    "duration": 22,
    "start_time": "2022-04-21T11:27:22.236Z"
   },
   {
    "duration": 6,
    "start_time": "2022-04-21T11:27:22.260Z"
   },
   {
    "duration": 14,
    "start_time": "2022-04-21T11:27:22.268Z"
   },
   {
    "duration": 12,
    "start_time": "2022-04-21T11:27:22.284Z"
   },
   {
    "duration": 8,
    "start_time": "2022-04-21T11:27:22.298Z"
   },
   {
    "duration": 17,
    "start_time": "2022-04-21T11:27:22.307Z"
   },
   {
    "duration": 8,
    "start_time": "2022-04-21T11:27:22.326Z"
   },
   {
    "duration": 22,
    "start_time": "2022-04-21T11:27:22.335Z"
   },
   {
    "duration": 10,
    "start_time": "2022-04-21T11:27:22.359Z"
   },
   {
    "duration": 12,
    "start_time": "2022-04-21T11:27:22.371Z"
   },
   {
    "duration": 9,
    "start_time": "2022-04-21T11:27:22.385Z"
   },
   {
    "duration": 4,
    "start_time": "2022-04-21T11:27:22.395Z"
   },
   {
    "duration": 8,
    "start_time": "2022-04-21T11:27:22.400Z"
   },
   {
    "duration": 6,
    "start_time": "2022-04-21T11:27:22.409Z"
   },
   {
    "duration": 14,
    "start_time": "2022-04-21T11:27:22.417Z"
   },
   {
    "duration": 8,
    "start_time": "2022-04-21T11:27:22.432Z"
   },
   {
    "duration": 16,
    "start_time": "2022-04-21T11:27:22.442Z"
   },
   {
    "duration": 6,
    "start_time": "2022-04-21T11:27:22.463Z"
   },
   {
    "duration": 12,
    "start_time": "2022-04-21T11:27:22.471Z"
   },
   {
    "duration": 8,
    "start_time": "2022-04-21T11:27:22.485Z"
   },
   {
    "duration": 23,
    "start_time": "2022-04-21T11:27:22.494Z"
   },
   {
    "duration": 7,
    "start_time": "2022-04-21T11:27:22.519Z"
   },
   {
    "duration": 23,
    "start_time": "2022-04-21T11:27:22.528Z"
   },
   {
    "duration": 11,
    "start_time": "2022-04-21T11:27:22.553Z"
   },
   {
    "duration": 11,
    "start_time": "2022-04-21T11:27:22.566Z"
   },
   {
    "duration": 12,
    "start_time": "2022-04-21T11:27:22.578Z"
   },
   {
    "duration": 9,
    "start_time": "2022-04-21T11:27:22.591Z"
   },
   {
    "duration": 8,
    "start_time": "2022-04-21T11:27:22.601Z"
   },
   {
    "duration": 11,
    "start_time": "2022-04-21T11:27:22.610Z"
   },
   {
    "duration": 20,
    "start_time": "2022-04-21T11:27:22.622Z"
   },
   {
    "duration": 37,
    "start_time": "2022-04-21T11:27:22.643Z"
   },
   {
    "duration": 10,
    "start_time": "2022-04-21T11:27:22.682Z"
   },
   {
    "duration": 20,
    "start_time": "2022-04-21T11:27:22.694Z"
   },
   {
    "duration": 14,
    "start_time": "2022-04-21T11:27:22.715Z"
   },
   {
    "duration": 424,
    "start_time": "2022-04-21T11:27:22.731Z"
   },
   {
    "duration": 6,
    "start_time": "2022-04-21T11:27:23.157Z"
   },
   {
    "duration": 27,
    "start_time": "2022-04-21T11:27:23.168Z"
   },
   {
    "duration": 22,
    "start_time": "2022-04-21T11:27:23.197Z"
   },
   {
    "duration": 274,
    "start_time": "2022-04-21T11:27:23.220Z"
   },
   {
    "duration": 305,
    "start_time": "2022-04-21T11:27:23.496Z"
   },
   {
    "duration": 180,
    "start_time": "2022-04-21T11:27:23.803Z"
   },
   {
    "duration": 201,
    "start_time": "2022-04-21T11:27:23.984Z"
   },
   {
    "duration": 10,
    "start_time": "2022-04-21T11:27:24.186Z"
   },
   {
    "duration": 7,
    "start_time": "2022-04-21T11:27:24.197Z"
   },
   {
    "duration": 288,
    "start_time": "2022-04-21T11:27:24.206Z"
   },
   {
    "duration": 36,
    "start_time": "2022-04-21T11:27:24.495Z"
   },
   {
    "duration": 44,
    "start_time": "2022-04-21T11:27:24.533Z"
   },
   {
    "duration": 931,
    "start_time": "2022-04-21T11:27:24.578Z"
   },
   {
    "duration": 149,
    "start_time": "2022-04-21T11:27:25.511Z"
   },
   {
    "duration": 160,
    "start_time": "2022-04-21T11:27:25.662Z"
   },
   {
    "duration": 173,
    "start_time": "2022-04-21T11:27:25.824Z"
   },
   {
    "duration": 150,
    "start_time": "2022-04-21T11:27:25.999Z"
   },
   {
    "duration": 607,
    "start_time": "2022-04-21T11:27:26.153Z"
   },
   {
    "duration": 19,
    "start_time": "2022-04-21T11:27:26.762Z"
   },
   {
    "duration": 182,
    "start_time": "2022-04-21T11:27:26.783Z"
   },
   {
    "duration": 9,
    "start_time": "2022-04-21T11:27:26.967Z"
   },
   {
    "duration": 186,
    "start_time": "2022-04-21T11:27:26.978Z"
   },
   {
    "duration": 227,
    "start_time": "2022-04-21T11:27:27.165Z"
   },
   {
    "duration": 33,
    "start_time": "2022-04-21T11:27:27.394Z"
   },
   {
    "duration": 35,
    "start_time": "2022-04-21T11:27:27.430Z"
   },
   {
    "duration": 499,
    "start_time": "2022-04-21T11:27:27.467Z"
   },
   {
    "duration": 329,
    "start_time": "2022-04-21T11:27:27.969Z"
   },
   {
    "duration": 434,
    "start_time": "2022-04-21T11:27:28.300Z"
   },
   {
    "duration": 687,
    "start_time": "2022-04-21T11:28:45.440Z"
   },
   {
    "duration": 75,
    "start_time": "2022-04-21T11:28:46.130Z"
   },
   {
    "duration": 28,
    "start_time": "2022-04-21T11:28:46.206Z"
   },
   {
    "duration": 27,
    "start_time": "2022-04-21T11:28:46.236Z"
   },
   {
    "duration": 11,
    "start_time": "2022-04-21T11:28:46.265Z"
   },
   {
    "duration": 7,
    "start_time": "2022-04-21T11:28:46.277Z"
   },
   {
    "duration": 17,
    "start_time": "2022-04-21T11:28:46.286Z"
   },
   {
    "duration": 7,
    "start_time": "2022-04-21T11:28:46.304Z"
   },
   {
    "duration": 9,
    "start_time": "2022-04-21T11:28:46.313Z"
   },
   {
    "duration": 8,
    "start_time": "2022-04-21T11:28:46.354Z"
   },
   {
    "duration": 5,
    "start_time": "2022-04-21T11:28:46.364Z"
   },
   {
    "duration": 10,
    "start_time": "2022-04-21T11:28:46.371Z"
   },
   {
    "duration": 5,
    "start_time": "2022-04-21T11:28:46.383Z"
   },
   {
    "duration": 7,
    "start_time": "2022-04-21T11:28:46.389Z"
   },
   {
    "duration": 4,
    "start_time": "2022-04-21T11:28:46.398Z"
   },
   {
    "duration": 4,
    "start_time": "2022-04-21T11:28:46.404Z"
   },
   {
    "duration": 45,
    "start_time": "2022-04-21T11:28:46.410Z"
   },
   {
    "duration": 7,
    "start_time": "2022-04-21T11:28:46.456Z"
   },
   {
    "duration": 5,
    "start_time": "2022-04-21T11:28:46.465Z"
   },
   {
    "duration": 7,
    "start_time": "2022-04-21T11:28:46.472Z"
   },
   {
    "duration": 3,
    "start_time": "2022-04-21T11:28:46.481Z"
   },
   {
    "duration": 8,
    "start_time": "2022-04-21T11:28:46.486Z"
   },
   {
    "duration": 8,
    "start_time": "2022-04-21T11:28:46.495Z"
   },
   {
    "duration": 5,
    "start_time": "2022-04-21T11:28:46.504Z"
   },
   {
    "duration": 5,
    "start_time": "2022-04-21T11:28:46.511Z"
   },
   {
    "duration": 38,
    "start_time": "2022-04-21T11:28:46.517Z"
   },
   {
    "duration": 7,
    "start_time": "2022-04-21T11:28:46.557Z"
   },
   {
    "duration": 6,
    "start_time": "2022-04-21T11:28:46.570Z"
   },
   {
    "duration": 7,
    "start_time": "2022-04-21T11:28:46.578Z"
   },
   {
    "duration": 7,
    "start_time": "2022-04-21T11:28:46.586Z"
   },
   {
    "duration": 6,
    "start_time": "2022-04-21T11:28:46.594Z"
   },
   {
    "duration": 11,
    "start_time": "2022-04-21T11:28:46.601Z"
   },
   {
    "duration": 4,
    "start_time": "2022-04-21T11:28:46.613Z"
   },
   {
    "duration": 41,
    "start_time": "2022-04-21T11:28:46.618Z"
   },
   {
    "duration": 8,
    "start_time": "2022-04-21T11:28:46.660Z"
   },
   {
    "duration": 20,
    "start_time": "2022-04-21T11:28:46.669Z"
   },
   {
    "duration": 9,
    "start_time": "2022-04-21T11:28:46.691Z"
   },
   {
    "duration": 7,
    "start_time": "2022-04-21T11:28:46.702Z"
   },
   {
    "duration": 5,
    "start_time": "2022-04-21T11:28:46.710Z"
   },
   {
    "duration": 13,
    "start_time": "2022-04-21T11:28:46.716Z"
   },
   {
    "duration": 33,
    "start_time": "2022-04-21T11:28:46.730Z"
   },
   {
    "duration": 3,
    "start_time": "2022-04-21T11:28:46.764Z"
   },
   {
    "duration": 7,
    "start_time": "2022-04-21T11:28:46.769Z"
   },
   {
    "duration": 17,
    "start_time": "2022-04-21T11:28:46.777Z"
   },
   {
    "duration": 16,
    "start_time": "2022-04-21T11:28:46.795Z"
   },
   {
    "duration": 408,
    "start_time": "2022-04-21T11:28:46.812Z"
   },
   {
    "duration": 5,
    "start_time": "2022-04-21T11:28:47.222Z"
   },
   {
    "duration": 6,
    "start_time": "2022-04-21T11:28:47.229Z"
   },
   {
    "duration": 27,
    "start_time": "2022-04-21T11:28:47.236Z"
   },
   {
    "duration": 324,
    "start_time": "2022-04-21T11:28:47.265Z"
   },
   {
    "duration": 291,
    "start_time": "2022-04-21T11:28:47.591Z"
   },
   {
    "duration": 188,
    "start_time": "2022-04-21T11:28:47.884Z"
   },
   {
    "duration": 193,
    "start_time": "2022-04-21T11:28:48.074Z"
   },
   {
    "duration": 10,
    "start_time": "2022-04-21T11:28:48.269Z"
   },
   {
    "duration": 6,
    "start_time": "2022-04-21T11:28:48.280Z"
   },
   {
    "duration": 180,
    "start_time": "2022-04-21T11:28:48.288Z"
   },
   {
    "duration": 40,
    "start_time": "2022-04-21T11:28:48.470Z"
   },
   {
    "duration": 54,
    "start_time": "2022-04-21T11:28:48.512Z"
   },
   {
    "duration": 887,
    "start_time": "2022-04-21T11:28:48.569Z"
   },
   {
    "duration": 239,
    "start_time": "2022-04-21T11:28:49.457Z"
   },
   {
    "duration": 159,
    "start_time": "2022-04-21T11:28:49.697Z"
   },
   {
    "duration": 158,
    "start_time": "2022-04-21T11:28:49.858Z"
   },
   {
    "duration": 150,
    "start_time": "2022-04-21T11:28:50.018Z"
   },
   {
    "duration": 450,
    "start_time": "2022-04-21T11:28:50.170Z"
   },
   {
    "duration": 33,
    "start_time": "2022-04-21T11:28:50.623Z"
   },
   {
    "duration": 169,
    "start_time": "2022-04-21T11:28:50.658Z"
   },
   {
    "duration": 9,
    "start_time": "2022-04-21T11:28:50.829Z"
   },
   {
    "duration": 168,
    "start_time": "2022-04-21T11:28:50.839Z"
   },
   {
    "duration": 244,
    "start_time": "2022-04-21T11:28:51.009Z"
   },
   {
    "duration": 34,
    "start_time": "2022-04-21T11:28:51.255Z"
   },
   {
    "duration": 14,
    "start_time": "2022-04-21T11:28:51.291Z"
   },
   {
    "duration": 530,
    "start_time": "2022-04-21T11:28:51.307Z"
   },
   {
    "duration": 287,
    "start_time": "2022-04-21T11:28:51.838Z"
   },
   {
    "duration": 414,
    "start_time": "2022-04-21T11:28:52.127Z"
   },
   {
    "duration": 666,
    "start_time": "2022-04-21T11:30:27.088Z"
   },
   {
    "duration": 82,
    "start_time": "2022-04-21T11:30:27.756Z"
   },
   {
    "duration": 26,
    "start_time": "2022-04-21T11:30:27.840Z"
   },
   {
    "duration": 14,
    "start_time": "2022-04-21T11:30:27.868Z"
   },
   {
    "duration": 11,
    "start_time": "2022-04-21T11:30:27.884Z"
   },
   {
    "duration": 8,
    "start_time": "2022-04-21T11:30:27.896Z"
   },
   {
    "duration": 18,
    "start_time": "2022-04-21T11:30:27.905Z"
   },
   {
    "duration": 33,
    "start_time": "2022-04-21T11:30:27.925Z"
   },
   {
    "duration": 10,
    "start_time": "2022-04-21T11:30:27.960Z"
   },
   {
    "duration": 18,
    "start_time": "2022-04-21T11:30:27.972Z"
   },
   {
    "duration": 12,
    "start_time": "2022-04-21T11:30:27.991Z"
   },
   {
    "duration": 9,
    "start_time": "2022-04-21T11:30:28.004Z"
   },
   {
    "duration": 6,
    "start_time": "2022-04-21T11:30:28.015Z"
   },
   {
    "duration": 6,
    "start_time": "2022-04-21T11:30:28.024Z"
   },
   {
    "duration": 27,
    "start_time": "2022-04-21T11:30:28.031Z"
   },
   {
    "duration": 5,
    "start_time": "2022-04-21T11:30:28.060Z"
   },
   {
    "duration": 6,
    "start_time": "2022-04-21T11:30:28.067Z"
   },
   {
    "duration": 10,
    "start_time": "2022-04-21T11:30:28.075Z"
   },
   {
    "duration": 5,
    "start_time": "2022-04-21T11:30:28.087Z"
   },
   {
    "duration": 7,
    "start_time": "2022-04-21T11:30:28.094Z"
   },
   {
    "duration": 5,
    "start_time": "2022-04-21T11:30:28.103Z"
   },
   {
    "duration": 10,
    "start_time": "2022-04-21T11:30:28.109Z"
   },
   {
    "duration": 4,
    "start_time": "2022-04-21T11:30:28.155Z"
   },
   {
    "duration": 10,
    "start_time": "2022-04-21T11:30:28.160Z"
   },
   {
    "duration": 5,
    "start_time": "2022-04-21T11:30:28.172Z"
   },
   {
    "duration": 7,
    "start_time": "2022-04-21T11:30:28.179Z"
   },
   {
    "duration": 6,
    "start_time": "2022-04-21T11:30:28.188Z"
   },
   {
    "duration": 8,
    "start_time": "2022-04-21T11:30:28.195Z"
   },
   {
    "duration": 13,
    "start_time": "2022-04-21T11:30:28.205Z"
   },
   {
    "duration": 4,
    "start_time": "2022-04-21T11:30:28.220Z"
   },
   {
    "duration": 33,
    "start_time": "2022-04-21T11:30:28.226Z"
   },
   {
    "duration": 12,
    "start_time": "2022-04-21T11:30:28.260Z"
   },
   {
    "duration": 4,
    "start_time": "2022-04-21T11:30:28.274Z"
   },
   {
    "duration": 16,
    "start_time": "2022-04-21T11:30:28.280Z"
   },
   {
    "duration": 16,
    "start_time": "2022-04-21T11:30:28.298Z"
   },
   {
    "duration": 6,
    "start_time": "2022-04-21T11:30:28.316Z"
   },
   {
    "duration": 31,
    "start_time": "2022-04-21T11:30:28.323Z"
   },
   {
    "duration": 8,
    "start_time": "2022-04-21T11:30:28.356Z"
   },
   {
    "duration": 4,
    "start_time": "2022-04-21T11:30:28.366Z"
   },
   {
    "duration": 14,
    "start_time": "2022-04-21T11:30:28.372Z"
   },
   {
    "duration": 19,
    "start_time": "2022-04-21T11:30:28.391Z"
   },
   {
    "duration": 3,
    "start_time": "2022-04-21T11:30:28.412Z"
   },
   {
    "duration": 17,
    "start_time": "2022-04-21T11:30:28.417Z"
   },
   {
    "duration": 26,
    "start_time": "2022-04-21T11:30:28.436Z"
   },
   {
    "duration": 16,
    "start_time": "2022-04-21T11:30:28.464Z"
   },
   {
    "duration": 405,
    "start_time": "2022-04-21T11:30:28.483Z"
   },
   {
    "duration": 6,
    "start_time": "2022-04-21T11:30:28.890Z"
   },
   {
    "duration": 6,
    "start_time": "2022-04-21T11:30:28.898Z"
   },
   {
    "duration": 15,
    "start_time": "2022-04-21T11:30:28.906Z"
   },
   {
    "duration": 344,
    "start_time": "2022-04-21T11:30:28.922Z"
   },
   {
    "duration": 291,
    "start_time": "2022-04-21T11:30:29.267Z"
   },
   {
    "duration": 173,
    "start_time": "2022-04-21T11:30:29.559Z"
   },
   {
    "duration": 183,
    "start_time": "2022-04-21T11:30:29.734Z"
   },
   {
    "duration": 9,
    "start_time": "2022-04-21T11:30:29.919Z"
   },
   {
    "duration": 5,
    "start_time": "2022-04-21T11:30:29.929Z"
   },
   {
    "duration": 184,
    "start_time": "2022-04-21T11:30:29.935Z"
   },
   {
    "duration": 47,
    "start_time": "2022-04-21T11:30:30.121Z"
   },
   {
    "duration": 30,
    "start_time": "2022-04-21T11:30:30.170Z"
   },
   {
    "duration": 911,
    "start_time": "2022-04-21T11:30:30.202Z"
   },
   {
    "duration": 245,
    "start_time": "2022-04-21T11:30:31.115Z"
   },
   {
    "duration": 171,
    "start_time": "2022-04-21T11:30:31.362Z"
   },
   {
    "duration": 170,
    "start_time": "2022-04-21T11:30:31.534Z"
   },
   {
    "duration": 148,
    "start_time": "2022-04-21T11:30:31.706Z"
   },
   {
    "duration": 463,
    "start_time": "2022-04-21T11:30:31.856Z"
   },
   {
    "duration": 21,
    "start_time": "2022-04-21T11:30:32.321Z"
   },
   {
    "duration": 166,
    "start_time": "2022-04-21T11:30:32.355Z"
   },
   {
    "duration": 9,
    "start_time": "2022-04-21T11:30:32.523Z"
   },
   {
    "duration": 171,
    "start_time": "2022-04-21T11:30:32.534Z"
   },
   {
    "duration": 218,
    "start_time": "2022-04-21T11:30:32.707Z"
   },
   {
    "duration": 42,
    "start_time": "2022-04-21T11:30:32.927Z"
   },
   {
    "duration": 14,
    "start_time": "2022-04-21T11:30:32.971Z"
   },
   {
    "duration": 695,
    "start_time": "2022-04-21T11:30:32.987Z"
   },
   {
    "duration": 597,
    "start_time": "2022-04-21T11:30:33.684Z"
   },
   {
    "duration": 814,
    "start_time": "2022-04-21T11:30:34.283Z"
   },
   {
    "duration": 50,
    "start_time": "2022-04-21T15:16:34.094Z"
   },
   {
    "duration": 759,
    "start_time": "2022-04-21T15:16:42.377Z"
   },
   {
    "duration": 77,
    "start_time": "2022-04-21T15:16:43.138Z"
   },
   {
    "duration": 38,
    "start_time": "2022-04-21T15:16:43.218Z"
   },
   {
    "duration": 16,
    "start_time": "2022-04-21T15:16:43.259Z"
   },
   {
    "duration": 12,
    "start_time": "2022-04-21T15:16:43.277Z"
   },
   {
    "duration": 8,
    "start_time": "2022-04-21T15:16:43.291Z"
   },
   {
    "duration": 20,
    "start_time": "2022-04-21T15:16:43.301Z"
   },
   {
    "duration": 35,
    "start_time": "2022-04-21T15:16:43.323Z"
   },
   {
    "duration": 8,
    "start_time": "2022-04-21T15:16:43.360Z"
   },
   {
    "duration": 8,
    "start_time": "2022-04-21T15:16:43.370Z"
   },
   {
    "duration": 6,
    "start_time": "2022-04-21T15:16:43.379Z"
   },
   {
    "duration": 11,
    "start_time": "2022-04-21T15:16:43.386Z"
   },
   {
    "duration": 7,
    "start_time": "2022-04-21T15:16:43.398Z"
   },
   {
    "duration": 7,
    "start_time": "2022-04-21T15:16:43.406Z"
   },
   {
    "duration": 6,
    "start_time": "2022-04-21T15:16:43.454Z"
   },
   {
    "duration": 7,
    "start_time": "2022-04-21T15:16:43.462Z"
   },
   {
    "duration": 6,
    "start_time": "2022-04-21T15:16:43.471Z"
   },
   {
    "duration": 11,
    "start_time": "2022-04-21T15:16:43.479Z"
   },
   {
    "duration": 6,
    "start_time": "2022-04-21T15:16:43.492Z"
   },
   {
    "duration": 8,
    "start_time": "2022-04-21T15:16:43.499Z"
   },
   {
    "duration": 3,
    "start_time": "2022-04-21T15:16:43.509Z"
   },
   {
    "duration": 45,
    "start_time": "2022-04-21T15:16:43.514Z"
   },
   {
    "duration": 4,
    "start_time": "2022-04-21T15:16:43.560Z"
   },
   {
    "duration": 6,
    "start_time": "2022-04-21T15:16:43.566Z"
   },
   {
    "duration": 28,
    "start_time": "2022-04-21T15:16:43.573Z"
   },
   {
    "duration": 14,
    "start_time": "2022-04-21T15:16:43.603Z"
   },
   {
    "duration": 9,
    "start_time": "2022-04-21T15:16:43.619Z"
   },
   {
    "duration": 10,
    "start_time": "2022-04-21T15:16:43.632Z"
   },
   {
    "duration": 21,
    "start_time": "2022-04-21T15:16:43.644Z"
   },
   {
    "duration": 22,
    "start_time": "2022-04-21T15:16:43.667Z"
   },
   {
    "duration": 7,
    "start_time": "2022-04-21T15:16:43.691Z"
   },
   {
    "duration": 16,
    "start_time": "2022-04-21T15:16:43.699Z"
   },
   {
    "duration": 4,
    "start_time": "2022-04-21T15:16:43.716Z"
   },
   {
    "duration": 13,
    "start_time": "2022-04-21T15:16:43.721Z"
   },
   {
    "duration": 15,
    "start_time": "2022-04-21T15:16:43.736Z"
   },
   {
    "duration": 8,
    "start_time": "2022-04-21T15:16:43.752Z"
   },
   {
    "duration": 8,
    "start_time": "2022-04-21T15:16:43.762Z"
   },
   {
    "duration": 10,
    "start_time": "2022-04-21T15:16:43.771Z"
   },
   {
    "duration": 4,
    "start_time": "2022-04-21T15:16:43.782Z"
   },
   {
    "duration": 10,
    "start_time": "2022-04-21T15:16:43.788Z"
   },
   {
    "duration": 13,
    "start_time": "2022-04-21T15:16:43.799Z"
   },
   {
    "duration": 3,
    "start_time": "2022-04-21T15:16:43.814Z"
   },
   {
    "duration": 40,
    "start_time": "2022-04-21T15:16:43.818Z"
   },
   {
    "duration": 16,
    "start_time": "2022-04-21T15:16:43.860Z"
   },
   {
    "duration": 16,
    "start_time": "2022-04-21T15:16:43.877Z"
   },
   {
    "duration": 417,
    "start_time": "2022-04-21T15:16:43.894Z"
   },
   {
    "duration": 6,
    "start_time": "2022-04-21T15:16:44.313Z"
   },
   {
    "duration": 7,
    "start_time": "2022-04-21T15:16:44.320Z"
   },
   {
    "duration": 26,
    "start_time": "2022-04-21T15:16:44.329Z"
   },
   {
    "duration": 345,
    "start_time": "2022-04-21T15:16:44.356Z"
   },
   {
    "duration": 392,
    "start_time": "2022-04-21T15:16:44.702Z"
   },
   {
    "duration": 205,
    "start_time": "2022-04-21T15:16:45.096Z"
   },
   {
    "duration": 268,
    "start_time": "2022-04-21T15:16:45.303Z"
   },
   {
    "duration": 9,
    "start_time": "2022-04-21T15:16:45.573Z"
   },
   {
    "duration": 21,
    "start_time": "2022-04-21T15:16:45.583Z"
   },
   {
    "duration": 198,
    "start_time": "2022-04-21T15:16:45.606Z"
   },
   {
    "duration": 54,
    "start_time": "2022-04-21T15:16:45.806Z"
   },
   {
    "duration": 41,
    "start_time": "2022-04-21T15:16:45.862Z"
   },
   {
    "duration": 1109,
    "start_time": "2022-04-21T15:16:45.905Z"
   },
   {
    "duration": 244,
    "start_time": "2022-04-21T15:16:47.015Z"
   },
   {
    "duration": 220,
    "start_time": "2022-04-21T15:16:47.260Z"
   },
   {
    "duration": 407,
    "start_time": "2022-04-21T15:16:47.482Z"
   },
   {
    "duration": 285,
    "start_time": "2022-04-21T15:16:47.891Z"
   },
   {
    "duration": 907,
    "start_time": "2022-04-21T15:16:48.178Z"
   },
   {
    "duration": 20,
    "start_time": "2022-04-21T15:16:49.086Z"
   },
   {
    "duration": 205,
    "start_time": "2022-04-21T15:16:49.108Z"
   },
   {
    "duration": 8,
    "start_time": "2022-04-21T15:16:49.314Z"
   },
   {
    "duration": 169,
    "start_time": "2022-04-21T15:16:49.324Z"
   },
   {
    "duration": 212,
    "start_time": "2022-04-21T15:16:49.495Z"
   },
   {
    "duration": 32,
    "start_time": "2022-04-21T15:16:49.709Z"
   },
   {
    "duration": 23,
    "start_time": "2022-04-21T15:16:49.743Z"
   },
   {
    "duration": 533,
    "start_time": "2022-04-21T15:16:49.768Z"
   },
   {
    "duration": 299,
    "start_time": "2022-04-21T15:16:50.303Z"
   },
   {
    "duration": 420,
    "start_time": "2022-04-21T15:16:50.604Z"
   },
   {
    "duration": 709,
    "start_time": "2022-04-21T15:18:23.679Z"
   },
   {
    "duration": 74,
    "start_time": "2022-04-21T15:18:24.390Z"
   },
   {
    "duration": 28,
    "start_time": "2022-04-21T15:18:24.466Z"
   },
   {
    "duration": 15,
    "start_time": "2022-04-21T15:18:24.496Z"
   },
   {
    "duration": 13,
    "start_time": "2022-04-21T15:18:24.512Z"
   },
   {
    "duration": 9,
    "start_time": "2022-04-21T15:18:24.554Z"
   },
   {
    "duration": 21,
    "start_time": "2022-04-21T15:18:24.565Z"
   },
   {
    "duration": 16,
    "start_time": "2022-04-21T15:18:24.588Z"
   },
   {
    "duration": 14,
    "start_time": "2022-04-21T15:18:24.606Z"
   },
   {
    "duration": 8,
    "start_time": "2022-04-21T15:18:24.623Z"
   },
   {
    "duration": 27,
    "start_time": "2022-04-21T15:18:24.633Z"
   },
   {
    "duration": 14,
    "start_time": "2022-04-21T15:18:24.661Z"
   },
   {
    "duration": 8,
    "start_time": "2022-04-21T15:18:24.677Z"
   },
   {
    "duration": 7,
    "start_time": "2022-04-21T15:18:24.686Z"
   },
   {
    "duration": 7,
    "start_time": "2022-04-21T15:18:24.695Z"
   },
   {
    "duration": 11,
    "start_time": "2022-04-21T15:18:24.704Z"
   },
   {
    "duration": 7,
    "start_time": "2022-04-21T15:18:24.717Z"
   },
   {
    "duration": 34,
    "start_time": "2022-04-21T15:18:24.725Z"
   },
   {
    "duration": 12,
    "start_time": "2022-04-21T15:18:24.760Z"
   },
   {
    "duration": 5,
    "start_time": "2022-04-21T15:18:24.773Z"
   },
   {
    "duration": 6,
    "start_time": "2022-04-21T15:18:24.780Z"
   },
   {
    "duration": 7,
    "start_time": "2022-04-21T15:18:24.788Z"
   },
   {
    "duration": 4,
    "start_time": "2022-04-21T15:18:24.796Z"
   },
   {
    "duration": 7,
    "start_time": "2022-04-21T15:18:24.802Z"
   },
   {
    "duration": 5,
    "start_time": "2022-04-21T15:18:24.811Z"
   },
   {
    "duration": 7,
    "start_time": "2022-04-21T15:18:24.855Z"
   },
   {
    "duration": 18,
    "start_time": "2022-04-21T15:18:24.864Z"
   },
   {
    "duration": 10,
    "start_time": "2022-04-21T15:18:24.886Z"
   },
   {
    "duration": 8,
    "start_time": "2022-04-21T15:18:24.898Z"
   },
   {
    "duration": 9,
    "start_time": "2022-04-21T15:18:24.907Z"
   },
   {
    "duration": 6,
    "start_time": "2022-04-21T15:18:24.917Z"
   },
   {
    "duration": 28,
    "start_time": "2022-04-21T15:18:24.924Z"
   },
   {
    "duration": 3,
    "start_time": "2022-04-21T15:18:24.955Z"
   },
   {
    "duration": 14,
    "start_time": "2022-04-21T15:18:24.960Z"
   },
   {
    "duration": 7,
    "start_time": "2022-04-21T15:18:24.976Z"
   },
   {
    "duration": 7,
    "start_time": "2022-04-21T15:18:24.985Z"
   },
   {
    "duration": 11,
    "start_time": "2022-04-21T15:18:24.994Z"
   },
   {
    "duration": 9,
    "start_time": "2022-04-21T15:18:25.007Z"
   },
   {
    "duration": 42,
    "start_time": "2022-04-21T15:18:25.018Z"
   },
   {
    "duration": 11,
    "start_time": "2022-04-21T15:18:25.062Z"
   },
   {
    "duration": 22,
    "start_time": "2022-04-21T15:18:25.075Z"
   },
   {
    "duration": 4,
    "start_time": "2022-04-21T15:18:25.098Z"
   },
   {
    "duration": 9,
    "start_time": "2022-04-21T15:18:25.104Z"
   },
   {
    "duration": 18,
    "start_time": "2022-04-21T15:18:25.115Z"
   },
   {
    "duration": 28,
    "start_time": "2022-04-21T15:18:25.135Z"
   },
   {
    "duration": 638,
    "start_time": "2022-04-21T15:18:25.164Z"
   },
   {
    "duration": 7,
    "start_time": "2022-04-21T15:18:25.804Z"
   },
   {
    "duration": 11,
    "start_time": "2022-04-21T15:18:25.813Z"
   },
   {
    "duration": 30,
    "start_time": "2022-04-21T15:18:25.826Z"
   },
   {
    "duration": 524,
    "start_time": "2022-04-21T15:18:25.858Z"
   },
   {
    "duration": 407,
    "start_time": "2022-04-21T15:18:26.384Z"
   },
   {
    "duration": 191,
    "start_time": "2022-04-21T15:18:26.793Z"
   },
   {
    "duration": 190,
    "start_time": "2022-04-21T15:18:26.985Z"
   },
   {
    "duration": 9,
    "start_time": "2022-04-21T15:18:27.176Z"
   },
   {
    "duration": 4,
    "start_time": "2022-04-21T15:18:27.187Z"
   },
   {
    "duration": 184,
    "start_time": "2022-04-21T15:18:27.193Z"
   },
   {
    "duration": 36,
    "start_time": "2022-04-21T15:18:27.379Z"
   },
   {
    "duration": 49,
    "start_time": "2022-04-21T15:18:27.417Z"
   },
   {
    "duration": 914,
    "start_time": "2022-04-21T15:18:27.468Z"
   },
   {
    "duration": 261,
    "start_time": "2022-04-21T15:18:28.383Z"
   },
   {
    "duration": 178,
    "start_time": "2022-04-21T15:18:28.646Z"
   },
   {
    "duration": 190,
    "start_time": "2022-04-21T15:18:28.825Z"
   },
   {
    "duration": 158,
    "start_time": "2022-04-21T15:18:29.017Z"
   },
   {
    "duration": 647,
    "start_time": "2022-04-21T15:18:29.176Z"
   },
   {
    "duration": 34,
    "start_time": "2022-04-21T15:18:29.825Z"
   },
   {
    "duration": 171,
    "start_time": "2022-04-21T15:18:29.861Z"
   },
   {
    "duration": 9,
    "start_time": "2022-04-21T15:18:30.034Z"
   },
   {
    "duration": 168,
    "start_time": "2022-04-21T15:18:30.054Z"
   },
   {
    "duration": 209,
    "start_time": "2022-04-21T15:18:30.224Z"
   },
   {
    "duration": 46,
    "start_time": "2022-04-21T15:18:30.436Z"
   },
   {
    "duration": 16,
    "start_time": "2022-04-21T15:18:30.484Z"
   },
   {
    "duration": 516,
    "start_time": "2022-04-21T15:18:30.502Z"
   },
   {
    "duration": 298,
    "start_time": "2022-04-21T15:18:31.020Z"
   },
   {
    "duration": 423,
    "start_time": "2022-04-21T15:18:31.320Z"
   }
  ],
  "kernelspec": {
   "display_name": "Python 3 (ipykernel)",
   "language": "python",
   "name": "python3"
  },
  "language_info": {
   "codemirror_mode": {
    "name": "ipython",
    "version": 3
   },
   "file_extension": ".py",
   "mimetype": "text/x-python",
   "name": "python",
   "nbconvert_exporter": "python",
   "pygments_lexer": "ipython3",
   "version": "3.9.5"
  },
  "toc": {
   "base_numbering": 1,
   "nav_menu": {},
   "number_sections": true,
   "sideBar": true,
   "skip_h1_title": true,
   "title_cell": "Содержание",
   "title_sidebar": "Contents",
   "toc_cell": true,
   "toc_position": {
    "height": "calc(100% - 180px)",
    "left": "10px",
    "top": "150px",
    "width": "286.225px"
   },
   "toc_section_display": true,
   "toc_window_display": true
  }
 },
 "nbformat": 4,
 "nbformat_minor": 4
}
