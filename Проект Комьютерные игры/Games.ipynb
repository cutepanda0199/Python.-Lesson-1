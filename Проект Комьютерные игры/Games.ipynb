{
 "cells": [
  {
   "cell_type": "markdown",
   "metadata": {},
   "source": [
    "# Выявление закономерностей, определяющих успешность игры в интернет-магазине\n",
    "\n",
    "Вы работаете в интернет-магазине «Стримчик», который продаёт по всему миру компьютерные игры. Из открытых источников доступны исторические данные о продажах игр, оценки пользователей и экспертов, жанры и платформы (например, Xbox или PlayStation). Вам нужно выявить определяющие успешность игры закономерности. Это позволит сделать ставку на потенциально популярный продукт и спланировать рекламные кампании.\n",
    "\n",
    "Перед вами данные до 2016 года. Представим, что сейчас декабрь 2016 г., и вы планируете кампанию на 2017-й. Нужно отработать принцип работы с данными. Неважно, прогнозируете ли вы продажи на 2017 год по данным 2016-го или же 2027-й — по данным 2026 года.\n",
    "\n",
    "В наборе данных попадается аббревиатура ESRB (Entertainment Software Rating Board) — это ассоциация, определяющая возрастной рейтинг компьютерных игр. ESRB оценивает игровой контент и присваивает ему подходящую возрастную категорию, например, «Для взрослых», «Для детей младшего возраста» или «Для подростков»."
   ]
  },
  {
   "cell_type": "markdown",
   "metadata": {},
   "source": [
    "# Описание данных\n",
    "\n",
    "* Name — название игры\n",
    "* Platform — платформа\n",
    "* Year_of_Release — год выпуска\n",
    "* Genre — жанр игры\n",
    "* NA_sales — продажи в Северной Америке (миллионы проданных копий)\n",
    "* EU_sales — продажи в Европе (миллионы проданных копий)\n",
    "* JP_sales — продажи в Японии (миллионы проданных копий)\n",
    "* Other_sales — продажи в других странах (миллионы проданных копий)\n",
    "* Critic_Score — оценка критиков (максимум 100)\n",
    "* User_Score — оценка пользователей (максимум 10)\n",
    "* Rating — рейтинг от организации ESRB (англ. Entertainment Software Rating Board). Эта ассоциация определяет рейтинг компьютерных игр и присваивает им подходящую возрастную категорию."
   ]
  },
  {
   "cell_type": "markdown",
   "metadata": {},
   "source": [
    "## Изучение данных из файла"
   ]
  },
  {
   "cell_type": "code",
   "execution_count": 1,
   "metadata": {},
   "outputs": [],
   "source": [
    "# Импорт библиотек\n",
    "import pandas as pd\n",
    "import seaborn as sb\n",
    "import matplotlib.pyplot as plt\n",
    "import scipy.stats as st"
   ]
  },
  {
   "cell_type": "code",
   "execution_count": 2,
   "metadata": {},
   "outputs": [],
   "source": [
    "df = pd.read_csv('/datasets/games.csv', sep=',')"
   ]
  },
  {
   "cell_type": "code",
   "execution_count": 3,
   "metadata": {},
   "outputs": [
    {
     "data": {
      "text/html": [
       "<div>\n",
       "<style scoped>\n",
       "    .dataframe tbody tr th:only-of-type {\n",
       "        vertical-align: middle;\n",
       "    }\n",
       "\n",
       "    .dataframe tbody tr th {\n",
       "        vertical-align: top;\n",
       "    }\n",
       "\n",
       "    .dataframe thead th {\n",
       "        text-align: right;\n",
       "    }\n",
       "</style>\n",
       "<table border=\"1\" class=\"dataframe\">\n",
       "  <thead>\n",
       "    <tr style=\"text-align: right;\">\n",
       "      <th></th>\n",
       "      <th>Name</th>\n",
       "      <th>Platform</th>\n",
       "      <th>Year_of_Release</th>\n",
       "      <th>Genre</th>\n",
       "      <th>NA_sales</th>\n",
       "      <th>EU_sales</th>\n",
       "      <th>JP_sales</th>\n",
       "      <th>Other_sales</th>\n",
       "      <th>Critic_Score</th>\n",
       "      <th>User_Score</th>\n",
       "      <th>Rating</th>\n",
       "    </tr>\n",
       "  </thead>\n",
       "  <tbody>\n",
       "    <tr>\n",
       "      <th>0</th>\n",
       "      <td>Wii Sports</td>\n",
       "      <td>Wii</td>\n",
       "      <td>2006.0</td>\n",
       "      <td>Sports</td>\n",
       "      <td>41.36</td>\n",
       "      <td>28.96</td>\n",
       "      <td>3.77</td>\n",
       "      <td>8.45</td>\n",
       "      <td>76.0</td>\n",
       "      <td>8</td>\n",
       "      <td>E</td>\n",
       "    </tr>\n",
       "    <tr>\n",
       "      <th>1</th>\n",
       "      <td>Super Mario Bros.</td>\n",
       "      <td>NES</td>\n",
       "      <td>1985.0</td>\n",
       "      <td>Platform</td>\n",
       "      <td>29.08</td>\n",
       "      <td>3.58</td>\n",
       "      <td>6.81</td>\n",
       "      <td>0.77</td>\n",
       "      <td>NaN</td>\n",
       "      <td>NaN</td>\n",
       "      <td>NaN</td>\n",
       "    </tr>\n",
       "    <tr>\n",
       "      <th>2</th>\n",
       "      <td>Mario Kart Wii</td>\n",
       "      <td>Wii</td>\n",
       "      <td>2008.0</td>\n",
       "      <td>Racing</td>\n",
       "      <td>15.68</td>\n",
       "      <td>12.76</td>\n",
       "      <td>3.79</td>\n",
       "      <td>3.29</td>\n",
       "      <td>82.0</td>\n",
       "      <td>8.3</td>\n",
       "      <td>E</td>\n",
       "    </tr>\n",
       "    <tr>\n",
       "      <th>3</th>\n",
       "      <td>Wii Sports Resort</td>\n",
       "      <td>Wii</td>\n",
       "      <td>2009.0</td>\n",
       "      <td>Sports</td>\n",
       "      <td>15.61</td>\n",
       "      <td>10.93</td>\n",
       "      <td>3.28</td>\n",
       "      <td>2.95</td>\n",
       "      <td>80.0</td>\n",
       "      <td>8</td>\n",
       "      <td>E</td>\n",
       "    </tr>\n",
       "    <tr>\n",
       "      <th>4</th>\n",
       "      <td>Pokemon Red/Pokemon Blue</td>\n",
       "      <td>GB</td>\n",
       "      <td>1996.0</td>\n",
       "      <td>Role-Playing</td>\n",
       "      <td>11.27</td>\n",
       "      <td>8.89</td>\n",
       "      <td>10.22</td>\n",
       "      <td>1.00</td>\n",
       "      <td>NaN</td>\n",
       "      <td>NaN</td>\n",
       "      <td>NaN</td>\n",
       "    </tr>\n",
       "    <tr>\n",
       "      <th>...</th>\n",
       "      <td>...</td>\n",
       "      <td>...</td>\n",
       "      <td>...</td>\n",
       "      <td>...</td>\n",
       "      <td>...</td>\n",
       "      <td>...</td>\n",
       "      <td>...</td>\n",
       "      <td>...</td>\n",
       "      <td>...</td>\n",
       "      <td>...</td>\n",
       "      <td>...</td>\n",
       "    </tr>\n",
       "    <tr>\n",
       "      <th>16710</th>\n",
       "      <td>Samurai Warriors: Sanada Maru</td>\n",
       "      <td>PS3</td>\n",
       "      <td>2016.0</td>\n",
       "      <td>Action</td>\n",
       "      <td>0.00</td>\n",
       "      <td>0.00</td>\n",
       "      <td>0.01</td>\n",
       "      <td>0.00</td>\n",
       "      <td>NaN</td>\n",
       "      <td>NaN</td>\n",
       "      <td>NaN</td>\n",
       "    </tr>\n",
       "    <tr>\n",
       "      <th>16711</th>\n",
       "      <td>LMA Manager 2007</td>\n",
       "      <td>X360</td>\n",
       "      <td>2006.0</td>\n",
       "      <td>Sports</td>\n",
       "      <td>0.00</td>\n",
       "      <td>0.01</td>\n",
       "      <td>0.00</td>\n",
       "      <td>0.00</td>\n",
       "      <td>NaN</td>\n",
       "      <td>NaN</td>\n",
       "      <td>NaN</td>\n",
       "    </tr>\n",
       "    <tr>\n",
       "      <th>16712</th>\n",
       "      <td>Haitaka no Psychedelica</td>\n",
       "      <td>PSV</td>\n",
       "      <td>2016.0</td>\n",
       "      <td>Adventure</td>\n",
       "      <td>0.00</td>\n",
       "      <td>0.00</td>\n",
       "      <td>0.01</td>\n",
       "      <td>0.00</td>\n",
       "      <td>NaN</td>\n",
       "      <td>NaN</td>\n",
       "      <td>NaN</td>\n",
       "    </tr>\n",
       "    <tr>\n",
       "      <th>16713</th>\n",
       "      <td>Spirits &amp; Spells</td>\n",
       "      <td>GBA</td>\n",
       "      <td>2003.0</td>\n",
       "      <td>Platform</td>\n",
       "      <td>0.01</td>\n",
       "      <td>0.00</td>\n",
       "      <td>0.00</td>\n",
       "      <td>0.00</td>\n",
       "      <td>NaN</td>\n",
       "      <td>NaN</td>\n",
       "      <td>NaN</td>\n",
       "    </tr>\n",
       "    <tr>\n",
       "      <th>16714</th>\n",
       "      <td>Winning Post 8 2016</td>\n",
       "      <td>PSV</td>\n",
       "      <td>2016.0</td>\n",
       "      <td>Simulation</td>\n",
       "      <td>0.00</td>\n",
       "      <td>0.00</td>\n",
       "      <td>0.01</td>\n",
       "      <td>0.00</td>\n",
       "      <td>NaN</td>\n",
       "      <td>NaN</td>\n",
       "      <td>NaN</td>\n",
       "    </tr>\n",
       "  </tbody>\n",
       "</table>\n",
       "<p>16715 rows × 11 columns</p>\n",
       "</div>"
      ],
      "text/plain": [
       "                                Name Platform  Year_of_Release         Genre  \\\n",
       "0                         Wii Sports      Wii           2006.0        Sports   \n",
       "1                  Super Mario Bros.      NES           1985.0      Platform   \n",
       "2                     Mario Kart Wii      Wii           2008.0        Racing   \n",
       "3                  Wii Sports Resort      Wii           2009.0        Sports   \n",
       "4           Pokemon Red/Pokemon Blue       GB           1996.0  Role-Playing   \n",
       "...                              ...      ...              ...           ...   \n",
       "16710  Samurai Warriors: Sanada Maru      PS3           2016.0        Action   \n",
       "16711               LMA Manager 2007     X360           2006.0        Sports   \n",
       "16712        Haitaka no Psychedelica      PSV           2016.0     Adventure   \n",
       "16713               Spirits & Spells      GBA           2003.0      Platform   \n",
       "16714            Winning Post 8 2016      PSV           2016.0    Simulation   \n",
       "\n",
       "       NA_sales  EU_sales  JP_sales  Other_sales  Critic_Score User_Score  \\\n",
       "0         41.36     28.96      3.77         8.45          76.0          8   \n",
       "1         29.08      3.58      6.81         0.77           NaN        NaN   \n",
       "2         15.68     12.76      3.79         3.29          82.0        8.3   \n",
       "3         15.61     10.93      3.28         2.95          80.0          8   \n",
       "4         11.27      8.89     10.22         1.00           NaN        NaN   \n",
       "...         ...       ...       ...          ...           ...        ...   \n",
       "16710      0.00      0.00      0.01         0.00           NaN        NaN   \n",
       "16711      0.00      0.01      0.00         0.00           NaN        NaN   \n",
       "16712      0.00      0.00      0.01         0.00           NaN        NaN   \n",
       "16713      0.01      0.00      0.00         0.00           NaN        NaN   \n",
       "16714      0.00      0.00      0.01         0.00           NaN        NaN   \n",
       "\n",
       "      Rating  \n",
       "0          E  \n",
       "1        NaN  \n",
       "2          E  \n",
       "3          E  \n",
       "4        NaN  \n",
       "...      ...  \n",
       "16710    NaN  \n",
       "16711    NaN  \n",
       "16712    NaN  \n",
       "16713    NaN  \n",
       "16714    NaN  \n",
       "\n",
       "[16715 rows x 11 columns]"
      ]
     },
     "metadata": {},
     "output_type": "display_data"
    }
   ],
   "source": [
    "display(df)"
   ]
  },
  {
   "cell_type": "code",
   "execution_count": 4,
   "metadata": {},
   "outputs": [
    {
     "name": "stdout",
     "output_type": "stream",
     "text": [
      "<class 'pandas.core.frame.DataFrame'>\n",
      "RangeIndex: 16715 entries, 0 to 16714\n",
      "Data columns (total 11 columns):\n",
      " #   Column           Non-Null Count  Dtype  \n",
      "---  ------           --------------  -----  \n",
      " 0   Name             16713 non-null  object \n",
      " 1   Platform         16715 non-null  object \n",
      " 2   Year_of_Release  16446 non-null  float64\n",
      " 3   Genre            16713 non-null  object \n",
      " 4   NA_sales         16715 non-null  float64\n",
      " 5   EU_sales         16715 non-null  float64\n",
      " 6   JP_sales         16715 non-null  float64\n",
      " 7   Other_sales      16715 non-null  float64\n",
      " 8   Critic_Score     8137 non-null   float64\n",
      " 9   User_Score       10014 non-null  object \n",
      " 10  Rating           9949 non-null   object \n",
      "dtypes: float64(6), object(5)\n",
      "memory usage: 1.4+ MB\n"
     ]
    }
   ],
   "source": [
    "df.info()"
   ]
  },
  {
   "cell_type": "markdown",
   "metadata": {},
   "source": [
    "### Вывод\n",
    "\n",
    "- В таблице 11 колонок и 16715 строк;\n",
    "- 2 типа данных: дробные числа, строковые;\n",
    "- Необходимо привести к правильному типу столбец 'Year of Release';\n",
    "- Нужно привести названия столбцов к нижнему регистру;\n",
    "- Присутствуют пропуски;"
   ]
  },
  {
   "cell_type": "markdown",
   "metadata": {},
   "source": [
    "## Предобработка данных"
   ]
  },
  {
   "cell_type": "markdown",
   "metadata": {},
   "source": [
    "### Замена названия столбцов"
   ]
  },
  {
   "cell_type": "code",
   "execution_count": 5,
   "metadata": {},
   "outputs": [
    {
     "name": "stdout",
     "output_type": "stream",
     "text": [
      "Index(['name', 'platform', 'year_of_release', 'genre', 'na_sales', 'eu_sales',\n",
      "       'jp_sales', 'other_sales', 'critic_score', 'user_score', 'rating'],\n",
      "      dtype='object')\n"
     ]
    }
   ],
   "source": [
    "# Приводим к нижнему регистру\n",
    "df.columns = df.columns.str.lower()\n",
    "print(df.columns)"
   ]
  },
  {
   "cell_type": "markdown",
   "metadata": {},
   "source": [
    "### Обработка пропусков"
   ]
  },
  {
   "cell_type": "markdown",
   "metadata": {},
   "source": [
    "Пропусков в столбцах 'name' и 'genre' всего 2, можно удалить."
   ]
  },
  {
   "cell_type": "code",
   "execution_count": 6,
   "metadata": {},
   "outputs": [],
   "source": [
    "df = df.dropna(subset=['name', 'genre'])"
   ]
  },
  {
   "cell_type": "markdown",
   "metadata": {},
   "source": [
    "Пропуски в 'year_of_release' составляют 1,61%, это не повлияет на анализ, можно удалить."
   ]
  },
  {
   "cell_type": "code",
   "execution_count": 7,
   "metadata": {},
   "outputs": [],
   "source": [
    "df = df.dropna(subset=['year_of_release'])"
   ]
  },
  {
   "cell_type": "markdown",
   "metadata": {},
   "source": [
    "Заменим тип данных в столбце 'year_of_release' на числовой, потому что год не может быть дробным числом."
   ]
  },
  {
   "cell_type": "code",
   "execution_count": 8,
   "metadata": {},
   "outputs": [],
   "source": [
    "df['year_of_release'] = df['year_of_release'].astype('int64')"
   ]
  },
  {
   "cell_type": "code",
   "execution_count": 9,
   "metadata": {},
   "outputs": [
    {
     "name": "stdout",
     "output_type": "stream",
     "text": [
      "<class 'pandas.core.frame.DataFrame'>\n",
      "Int64Index: 16444 entries, 0 to 16714\n",
      "Data columns (total 11 columns):\n",
      " #   Column           Non-Null Count  Dtype  \n",
      "---  ------           --------------  -----  \n",
      " 0   name             16444 non-null  object \n",
      " 1   platform         16444 non-null  object \n",
      " 2   year_of_release  16444 non-null  int64  \n",
      " 3   genre            16444 non-null  object \n",
      " 4   na_sales         16444 non-null  float64\n",
      " 5   eu_sales         16444 non-null  float64\n",
      " 6   jp_sales         16444 non-null  float64\n",
      " 7   other_sales      16444 non-null  float64\n",
      " 8   critic_score     7983 non-null   float64\n",
      " 9   user_score       9839 non-null   object \n",
      " 10  rating           9768 non-null   object \n",
      "dtypes: float64(5), int64(1), object(5)\n",
      "memory usage: 1.5+ MB\n"
     ]
    }
   ],
   "source": [
    "df.info()"
   ]
  },
  {
   "cell_type": "markdown",
   "metadata": {},
   "source": [
    "Разберем пропуски в столбце user_score. Аббревиатура tbd значит to be determined, то есть данные были специально не заполнены. Получается это пропуск, заменим его на NaN."
   ]
  },
  {
   "cell_type": "code",
   "execution_count": 10,
   "metadata": {},
   "outputs": [],
   "source": [
    "df['user_score'] = df['user_score'].replace('tbd', 'NaN')"
   ]
  },
  {
   "cell_type": "code",
   "execution_count": 11,
   "metadata": {},
   "outputs": [
    {
     "data": {
      "text/plain": [
       "array(['8', nan, '8.3', '8.5', '6.6', '8.4', '8.6', '7.7', '6.3', '7.4',\n",
       "       '8.2', '9', '7.9', '8.1', '8.7', '7.1', '3.4', '5.3', '4.8', '3.2',\n",
       "       '8.9', '6.4', '7.8', '7.5', '2.6', '7.2', '9.2', '7', '7.3', '4.3',\n",
       "       '7.6', '5.7', '5', '9.1', '6.5', 'NaN', '8.8', '6.9', '9.4', '6.8',\n",
       "       '6.1', '6.7', '5.4', '4', '4.9', '4.5', '9.3', '6.2', '4.2', '6',\n",
       "       '3.7', '4.1', '5.8', '5.6', '5.5', '4.4', '4.6', '5.9', '3.9',\n",
       "       '3.1', '2.9', '5.2', '3.3', '4.7', '5.1', '3.5', '2.5', '1.9', '3',\n",
       "       '2.7', '2.2', '2', '9.5', '2.1', '3.6', '2.8', '1.8', '3.8', '0',\n",
       "       '1.6', '9.6', '2.4', '1.7', '1.1', '0.3', '1.5', '0.7', '1.2',\n",
       "       '2.3', '0.5', '1.3', '0.2', '0.6', '1.4', '0.9', '1', '9.7'],\n",
       "      dtype=object)"
      ]
     },
     "execution_count": 11,
     "metadata": {},
     "output_type": "execute_result"
    }
   ],
   "source": [
    "df['user_score'].unique() # проверяем результат"
   ]
  },
  {
   "cell_type": "markdown",
   "metadata": {},
   "source": [
    "Заменим тип данных в столбце 'user_score' на дробный, потому что там дробные числа, а не строки."
   ]
  },
  {
   "cell_type": "code",
   "execution_count": 12,
   "metadata": {},
   "outputs": [],
   "source": [
    "df['user_score'] = df['user_score'].astype('float64')"
   ]
  },
  {
   "cell_type": "code",
   "execution_count": 13,
   "metadata": {},
   "outputs": [
    {
     "name": "stdout",
     "output_type": "stream",
     "text": [
      "<class 'pandas.core.frame.DataFrame'>\n",
      "Int64Index: 16444 entries, 0 to 16714\n",
      "Data columns (total 11 columns):\n",
      " #   Column           Non-Null Count  Dtype  \n",
      "---  ------           --------------  -----  \n",
      " 0   name             16444 non-null  object \n",
      " 1   platform         16444 non-null  object \n",
      " 2   year_of_release  16444 non-null  int64  \n",
      " 3   genre            16444 non-null  object \n",
      " 4   na_sales         16444 non-null  float64\n",
      " 5   eu_sales         16444 non-null  float64\n",
      " 6   jp_sales         16444 non-null  float64\n",
      " 7   other_sales      16444 non-null  float64\n",
      " 8   critic_score     7983 non-null   float64\n",
      " 9   user_score       7463 non-null   float64\n",
      " 10  rating           9768 non-null   object \n",
      "dtypes: float64(6), int64(1), object(4)\n",
      "memory usage: 1.5+ MB\n"
     ]
    }
   ],
   "source": [
    "df.info()"
   ]
  },
  {
   "cell_type": "markdown",
   "metadata": {},
   "source": [
    "Заполнять пропуски в critic_score, user_score и rating будет некорректно."
   ]
  },
  {
   "cell_type": "code",
   "execution_count": 14,
   "metadata": {},
   "outputs": [
    {
     "data": {
      "text/plain": [
       "0"
      ]
     },
     "execution_count": 14,
     "metadata": {},
     "output_type": "execute_result"
    }
   ],
   "source": [
    "# Проверка дубликатов\n",
    "df.duplicated().sum()"
   ]
  },
  {
   "cell_type": "markdown",
   "metadata": {},
   "source": [
    "### Cуммарные продажи во всех регионах"
   ]
  },
  {
   "cell_type": "markdown",
   "metadata": {},
   "source": [
    "Создим отдельный столбец, в котором будут суммарные продажи во всех регионах (Северной Америке, Европе, Японии)."
   ]
  },
  {
   "cell_type": "code",
   "execution_count": 15,
   "metadata": {},
   "outputs": [],
   "source": [
    "df['sum_sales'] = df['na_sales'] + df['eu_sales'] + df['jp_sales'] + df['other_sales']"
   ]
  },
  {
   "cell_type": "code",
   "execution_count": 16,
   "metadata": {},
   "outputs": [
    {
     "data": {
      "text/html": [
       "<div>\n",
       "<style scoped>\n",
       "    .dataframe tbody tr th:only-of-type {\n",
       "        vertical-align: middle;\n",
       "    }\n",
       "\n",
       "    .dataframe tbody tr th {\n",
       "        vertical-align: top;\n",
       "    }\n",
       "\n",
       "    .dataframe thead th {\n",
       "        text-align: right;\n",
       "    }\n",
       "</style>\n",
       "<table border=\"1\" class=\"dataframe\">\n",
       "  <thead>\n",
       "    <tr style=\"text-align: right;\">\n",
       "      <th></th>\n",
       "      <th>name</th>\n",
       "      <th>platform</th>\n",
       "      <th>year_of_release</th>\n",
       "      <th>genre</th>\n",
       "      <th>na_sales</th>\n",
       "      <th>eu_sales</th>\n",
       "      <th>jp_sales</th>\n",
       "      <th>other_sales</th>\n",
       "      <th>critic_score</th>\n",
       "      <th>user_score</th>\n",
       "      <th>rating</th>\n",
       "      <th>sum_sales</th>\n",
       "    </tr>\n",
       "  </thead>\n",
       "  <tbody>\n",
       "    <tr>\n",
       "      <th>0</th>\n",
       "      <td>Wii Sports</td>\n",
       "      <td>Wii</td>\n",
       "      <td>2006</td>\n",
       "      <td>Sports</td>\n",
       "      <td>41.36</td>\n",
       "      <td>28.96</td>\n",
       "      <td>3.77</td>\n",
       "      <td>8.45</td>\n",
       "      <td>76.0</td>\n",
       "      <td>8.0</td>\n",
       "      <td>E</td>\n",
       "      <td>82.54</td>\n",
       "    </tr>\n",
       "    <tr>\n",
       "      <th>1</th>\n",
       "      <td>Super Mario Bros.</td>\n",
       "      <td>NES</td>\n",
       "      <td>1985</td>\n",
       "      <td>Platform</td>\n",
       "      <td>29.08</td>\n",
       "      <td>3.58</td>\n",
       "      <td>6.81</td>\n",
       "      <td>0.77</td>\n",
       "      <td>NaN</td>\n",
       "      <td>NaN</td>\n",
       "      <td>NaN</td>\n",
       "      <td>40.24</td>\n",
       "    </tr>\n",
       "    <tr>\n",
       "      <th>2</th>\n",
       "      <td>Mario Kart Wii</td>\n",
       "      <td>Wii</td>\n",
       "      <td>2008</td>\n",
       "      <td>Racing</td>\n",
       "      <td>15.68</td>\n",
       "      <td>12.76</td>\n",
       "      <td>3.79</td>\n",
       "      <td>3.29</td>\n",
       "      <td>82.0</td>\n",
       "      <td>8.3</td>\n",
       "      <td>E</td>\n",
       "      <td>35.52</td>\n",
       "    </tr>\n",
       "    <tr>\n",
       "      <th>3</th>\n",
       "      <td>Wii Sports Resort</td>\n",
       "      <td>Wii</td>\n",
       "      <td>2009</td>\n",
       "      <td>Sports</td>\n",
       "      <td>15.61</td>\n",
       "      <td>10.93</td>\n",
       "      <td>3.28</td>\n",
       "      <td>2.95</td>\n",
       "      <td>80.0</td>\n",
       "      <td>8.0</td>\n",
       "      <td>E</td>\n",
       "      <td>32.77</td>\n",
       "    </tr>\n",
       "    <tr>\n",
       "      <th>4</th>\n",
       "      <td>Pokemon Red/Pokemon Blue</td>\n",
       "      <td>GB</td>\n",
       "      <td>1996</td>\n",
       "      <td>Role-Playing</td>\n",
       "      <td>11.27</td>\n",
       "      <td>8.89</td>\n",
       "      <td>10.22</td>\n",
       "      <td>1.00</td>\n",
       "      <td>NaN</td>\n",
       "      <td>NaN</td>\n",
       "      <td>NaN</td>\n",
       "      <td>31.38</td>\n",
       "    </tr>\n",
       "    <tr>\n",
       "      <th>...</th>\n",
       "      <td>...</td>\n",
       "      <td>...</td>\n",
       "      <td>...</td>\n",
       "      <td>...</td>\n",
       "      <td>...</td>\n",
       "      <td>...</td>\n",
       "      <td>...</td>\n",
       "      <td>...</td>\n",
       "      <td>...</td>\n",
       "      <td>...</td>\n",
       "      <td>...</td>\n",
       "      <td>...</td>\n",
       "    </tr>\n",
       "    <tr>\n",
       "      <th>16710</th>\n",
       "      <td>Samurai Warriors: Sanada Maru</td>\n",
       "      <td>PS3</td>\n",
       "      <td>2016</td>\n",
       "      <td>Action</td>\n",
       "      <td>0.00</td>\n",
       "      <td>0.00</td>\n",
       "      <td>0.01</td>\n",
       "      <td>0.00</td>\n",
       "      <td>NaN</td>\n",
       "      <td>NaN</td>\n",
       "      <td>NaN</td>\n",
       "      <td>0.01</td>\n",
       "    </tr>\n",
       "    <tr>\n",
       "      <th>16711</th>\n",
       "      <td>LMA Manager 2007</td>\n",
       "      <td>X360</td>\n",
       "      <td>2006</td>\n",
       "      <td>Sports</td>\n",
       "      <td>0.00</td>\n",
       "      <td>0.01</td>\n",
       "      <td>0.00</td>\n",
       "      <td>0.00</td>\n",
       "      <td>NaN</td>\n",
       "      <td>NaN</td>\n",
       "      <td>NaN</td>\n",
       "      <td>0.01</td>\n",
       "    </tr>\n",
       "    <tr>\n",
       "      <th>16712</th>\n",
       "      <td>Haitaka no Psychedelica</td>\n",
       "      <td>PSV</td>\n",
       "      <td>2016</td>\n",
       "      <td>Adventure</td>\n",
       "      <td>0.00</td>\n",
       "      <td>0.00</td>\n",
       "      <td>0.01</td>\n",
       "      <td>0.00</td>\n",
       "      <td>NaN</td>\n",
       "      <td>NaN</td>\n",
       "      <td>NaN</td>\n",
       "      <td>0.01</td>\n",
       "    </tr>\n",
       "    <tr>\n",
       "      <th>16713</th>\n",
       "      <td>Spirits &amp; Spells</td>\n",
       "      <td>GBA</td>\n",
       "      <td>2003</td>\n",
       "      <td>Platform</td>\n",
       "      <td>0.01</td>\n",
       "      <td>0.00</td>\n",
       "      <td>0.00</td>\n",
       "      <td>0.00</td>\n",
       "      <td>NaN</td>\n",
       "      <td>NaN</td>\n",
       "      <td>NaN</td>\n",
       "      <td>0.01</td>\n",
       "    </tr>\n",
       "    <tr>\n",
       "      <th>16714</th>\n",
       "      <td>Winning Post 8 2016</td>\n",
       "      <td>PSV</td>\n",
       "      <td>2016</td>\n",
       "      <td>Simulation</td>\n",
       "      <td>0.00</td>\n",
       "      <td>0.00</td>\n",
       "      <td>0.01</td>\n",
       "      <td>0.00</td>\n",
       "      <td>NaN</td>\n",
       "      <td>NaN</td>\n",
       "      <td>NaN</td>\n",
       "      <td>0.01</td>\n",
       "    </tr>\n",
       "  </tbody>\n",
       "</table>\n",
       "<p>16444 rows × 12 columns</p>\n",
       "</div>"
      ],
      "text/plain": [
       "                                name platform  year_of_release         genre  \\\n",
       "0                         Wii Sports      Wii             2006        Sports   \n",
       "1                  Super Mario Bros.      NES             1985      Platform   \n",
       "2                     Mario Kart Wii      Wii             2008        Racing   \n",
       "3                  Wii Sports Resort      Wii             2009        Sports   \n",
       "4           Pokemon Red/Pokemon Blue       GB             1996  Role-Playing   \n",
       "...                              ...      ...              ...           ...   \n",
       "16710  Samurai Warriors: Sanada Maru      PS3             2016        Action   \n",
       "16711               LMA Manager 2007     X360             2006        Sports   \n",
       "16712        Haitaka no Psychedelica      PSV             2016     Adventure   \n",
       "16713               Spirits & Spells      GBA             2003      Platform   \n",
       "16714            Winning Post 8 2016      PSV             2016    Simulation   \n",
       "\n",
       "       na_sales  eu_sales  jp_sales  other_sales  critic_score  user_score  \\\n",
       "0         41.36     28.96      3.77         8.45          76.0         8.0   \n",
       "1         29.08      3.58      6.81         0.77           NaN         NaN   \n",
       "2         15.68     12.76      3.79         3.29          82.0         8.3   \n",
       "3         15.61     10.93      3.28         2.95          80.0         8.0   \n",
       "4         11.27      8.89     10.22         1.00           NaN         NaN   \n",
       "...         ...       ...       ...          ...           ...         ...   \n",
       "16710      0.00      0.00      0.01         0.00           NaN         NaN   \n",
       "16711      0.00      0.01      0.00         0.00           NaN         NaN   \n",
       "16712      0.00      0.00      0.01         0.00           NaN         NaN   \n",
       "16713      0.01      0.00      0.00         0.00           NaN         NaN   \n",
       "16714      0.00      0.00      0.01         0.00           NaN         NaN   \n",
       "\n",
       "      rating  sum_sales  \n",
       "0          E      82.54  \n",
       "1        NaN      40.24  \n",
       "2          E      35.52  \n",
       "3          E      32.77  \n",
       "4        NaN      31.38  \n",
       "...      ...        ...  \n",
       "16710    NaN       0.01  \n",
       "16711    NaN       0.01  \n",
       "16712    NaN       0.01  \n",
       "16713    NaN       0.01  \n",
       "16714    NaN       0.01  \n",
       "\n",
       "[16444 rows x 12 columns]"
      ]
     },
     "metadata": {},
     "output_type": "display_data"
    }
   ],
   "source": [
    "display(df)"
   ]
  },
  {
   "cell_type": "markdown",
   "metadata": {},
   "source": [
    "## Исследовательский анализ данных"
   ]
  },
  {
   "cell_type": "markdown",
   "metadata": {},
   "source": [
    "### Посмотрите, сколько игр выпускалось в разные годы. Важны ли данные за все периоды?"
   ]
  },
  {
   "cell_type": "code",
   "execution_count": 17,
   "metadata": {},
   "outputs": [
    {
     "data": {
      "text/plain": [
       "Text(0, 0.5, 'Количество игр')"
      ]
     },
     "execution_count": 17,
     "metadata": {},
     "output_type": "execute_result"
    },
    {
     "data": {
      "image/png": "[encoded data removed]",
      "text/plain": [
       "<Figure size 1080x720 with 1 Axes>"
      ]
     },
     "metadata": {
      "needs_background": "light"
     },
     "output_type": "display_data"
    }
   ],
   "source": [
    "games_year_count = df.pivot_table(index = 'year_of_release', values = 'name', aggfunc = 'count')\n",
    "plt.figure(figsize = (15,10))\n",
    "sb.lineplot(data = games_year_count)\n",
    "plt.title(\"Количество игр за все года\")\n",
    "plt.xlabel(\"Год выпуска\")\n",
    "plt.ylabel(\"Количество игр\")"
   ]
  },
  {
   "cell_type": "markdown",
   "metadata": {},
   "source": [
    "# Вывод\n",
    "\n",
    "1. Из графика видно, что количество игр росло до 2008 года, а после заметен сильный спад выпуска игр, скорее всего это связано с тем, что мобильные приложения и мобильные игры начали набирать большую популярность и тем самым начали вытеснять индустрию компьютерных игр.\n",
    "\n",
    "2. Для анализа данные за весь период не нужны, оставим те, которые отражают изменения последних лет (позже определим актуальный период)."
   ]
  },
  {
   "cell_type": "markdown",
   "metadata": {},
   "source": [
    "### Посмотрите, как менялись продажи по платформам. Выберите платформы с наибольшими суммарными продажами и постройте распределение по годам. За какой характерный срок появляются новые и исчезают старые платформы?"
   ]
  },
  {
   "cell_type": "code",
   "execution_count": 18,
   "metadata": {},
   "outputs": [
    {
     "data": {
      "text/plain": [
       "<AxesSubplot:ylabel='platform'>"
      ]
     },
     "execution_count": 18,
     "metadata": {},
     "output_type": "execute_result"
    },
    {
     "data": {
      "image/png": "[encoded data removed]",
      "text/plain": [
       "<Figure size 1080x720 with 1 Axes>"
      ]
     },
     "metadata": {
      "needs_background": "light"
     },
     "output_type": "display_data"
    }
   ],
   "source": [
    "# Выведем продажи платформ за весь период\n",
    "df_platform = df.groupby('platform')['sum_sales']\n",
    "df_platform_sum = df_platform.sum().sort_values()\n",
    "df_platform_sum.plot(kind = 'barh', y = 'sum_sales', figsize = (15, 10))"
   ]
  },
  {
   "cell_type": "code",
   "execution_count": 19,
   "metadata": {},
   "outputs": [],
   "source": [
    "# Список годов\n",
    "years_list = [i for i in range(1980, 2017, 1)]"
   ]
  },
  {
   "cell_type": "code",
   "execution_count": 20,
   "metadata": {},
   "outputs": [],
   "source": [
    "# Создадим отдельный список топ 10 платформ\n",
    "counter = 0 # Начало счетчика\n",
    "max_counter = 10 # Конец счетчика\n",
    "list_top_10_platform = []\n",
    "\n",
    "for platform in reversed(df_platform_sum.index.to_list()):\n",
    "    if counter < max_counter:\n",
    "        list_top_10_platform.append(platform)\n",
    "    counter += 1 "
   ]
  },
  {
   "cell_type": "code",
   "execution_count": 21,
   "metadata": {},
   "outputs": [
    {
     "data": {
      "image/png": "[encoded data removed]",
      "text/plain": [
       "<Figure size 432x288 with 1 Axes>"
      ]
     },
     "metadata": {
      "needs_background": "light"
     },
     "output_type": "display_data"
    },
    {
     "data": {
      "image/png": "[encoded data removed]",
      "text/plain": [
       "<Figure size 432x288 with 1 Axes>"
      ]
     },
     "metadata": {
      "needs_background": "light"
     },
     "output_type": "display_data"
    },
    {
     "data": {
      "image/png": "[encoded data removed]",
      "text/plain": [
       "<Figure size 432x288 with 1 Axes>"
      ]
     },
     "metadata": {
      "needs_background": "light"
     },
     "output_type": "display_data"
    },
    {
     "data": {
      "image/png": "[encoded data removed]",
      "text/plain": [
       "<Figure size 432x288 with 1 Axes>"
      ]
     },
     "metadata": {
      "needs_background": "light"
     },
     "output_type": "display_data"
    },
    {
     "data": {
      "image/png": "[encoded data removed]",
      "text/plain": [
       "<Figure size 432x288 with 1 Axes>"
      ]
     },
     "metadata": {
      "needs_background": "light"
     },
     "output_type": "display_data"
    },
    {
     "data": {
      "image/png": "[encoded data removed]",
      "text/plain": [
       "<Figure size 432x288 with 1 Axes>"
      ]
     },
     "metadata": {
      "needs_background": "light"
     },
     "output_type": "display_data"
    },
    {
     "data": {
      "image/png": "[encoded data removed]",
      "text/plain": [
       "<Figure size 432x288 with 1 Axes>"
      ]
     },
     "metadata": {
      "needs_background": "light"
     },
     "output_type": "display_data"
    },
    {
     "data": {
      "image/png": "[encoded data removed]",
      "text/plain": [
       "<Figure size 432x288 with 1 Axes>"
      ]
     },
     "metadata": {
      "needs_background": "light"
     },
     "output_type": "display_data"
    },
    {
     "data": {
      "image/png": "[encoded data removed]",
      "text/plain": [
       "<Figure size 432x288 with 1 Axes>"
      ]
     },
     "metadata": {
      "needs_background": "light"
     },
     "output_type": "display_data"
    },
    {
     "data": {
      "image/png": "[encoded data removed]",
      "text/plain": [
       "<Figure size 432x288 with 1 Axes>"
      ]
     },
     "metadata": {
      "needs_background": "light"
     },
     "output_type": "display_data"
    }
   ],
   "source": [
    "# Вывод графика\n",
    "df_top_10_platform = df.query('platform in @list_top_10_platform')\n",
    "platform_list = df_top_10_platform['platform'].unique()\n",
    "\n",
    "# Цикл для построения гистограмм:\n",
    "for j in range(0, len(platform_list)):\n",
    "    df_top_10_platform[df_top_10_platform['platform'] == platform_list[j]]\\\n",
    "    .plot(kind='hist', bins=years_list, legend=False, grid=True)\n",
    "    \n",
    "    plt.title(platform_list[j])\n",
    "    plt.xlabel(\"Год релиза игры\")\n",
    "    plt.ylabel(\"Частота\")"
   ]
  },
  {
   "cell_type": "markdown",
   "metadata": {},
   "source": [
    "# Вывод\n",
    "\n",
    "* PS - прожила с 1994 года до 2003 - 9 лет;\n",
    "* PS2 - с 2000 до 2011 года - 11 лет;\n",
    "* PS3 - с 2006 по настоящее время ещё существует - 10 лет;\n",
    "* DS - вышла в 1985, потом данных нету, возможно это связано с тем, с 2004 года по 2013 год - 9 лет жизни;\n",
    "* Wii - с 2006 по нынешний день, но в 2016 уже низкий пик -  10 лет.\n",
    "* X360 - с 2005 и по настоящее время - 11 лет;\n",
    "* GBA - с 2000-го года по 2007 год - получается 7 лет;\n",
    "* PS4 - с 2013 по настоящее время - платформа сейчас находиться в самом расцвете;\n",
    "* 3DS - с 2011 по настоящее время, период - 5 лет, но тоже находиться в самом пике;\n",
    "* PSP - с 2004 по 2015, период - 11 лет;\n",
    "\n",
    "Таким образом, средняя продолжительность существования платформы 10 лет. "
   ]
  },
  {
   "cell_type": "markdown",
   "metadata": {},
   "source": [
    "### Возьмите данные за соответствующий актуальный период. Актуальный период определите самостоятельно в результате исследования предыдущих вопросов. Основной фактор — эти данные помогут построить прогноз на 2017 год. Не учитывайте в работе данные за предыдущие годы."
   ]
  },
  {
   "cell_type": "markdown",
   "metadata": {},
   "source": [
    "Актуальным периодом являются года с 2006 по 2016, т.к. в этом периоде представлены данные по самым популярным играм."
   ]
  },
  {
   "cell_type": "code",
   "execution_count": 22,
   "metadata": {},
   "outputs": [],
   "source": [
    "df_top_10_platform = df_top_10_platform[df_top_10_platform['year_of_release'] >= 2006]"
   ]
  },
  {
   "cell_type": "markdown",
   "metadata": {},
   "source": [
    "### Какие платформы лидируют по продажам, растут или падают? Выберите несколько потенциально прибыльных платформ."
   ]
  },
  {
   "cell_type": "code",
   "execution_count": 23,
   "metadata": {},
   "outputs": [
    {
     "data": {
      "text/plain": [
       "<AxesSubplot:xlabel='platform', ylabel='sum_sales'>"
      ]
     },
     "execution_count": 23,
     "metadata": {},
     "output_type": "execute_result"
    },
    {
     "data": {
      "image/png": "[encoded data removed]",
      "text/plain": [
       "<Figure size 1296x360 with 1 Axes>"
      ]
     },
     "metadata": {},
     "output_type": "display_data"
    }
   ],
   "source": [
    "platfrom_prib = df_top_10_platform.pivot_table(index=['platform'], values='sum_sales', aggfunc='sum').reset_index().sort_values(by='sum_sales', ascending=False)\n",
    " \n",
    "sb.set_style('whitegrid')\n",
    "plt.figure(figsize=(18, 5))\n",
    "sb.barplot(data = platfrom_prib, x='platform', y='sum_sales')"
   ]
  },
  {
   "cell_type": "markdown",
   "metadata": {},
   "source": [
    "# Вывод\n",
    "Наиболее прибыльные платформы с 2006 - X360, PS3, Wii. Количество продаж игр, выпущенных на каждую платформу, снижается. Таким образом, можно сказать, что весь рынок компьютерных игр падает."
   ]
  },
  {
   "cell_type": "markdown",
   "metadata": {},
   "source": [
    "### Постройте график «ящик с усами» по глобальным продажам игр в разбивке по платформам. Опишите результат."
   ]
  },
  {
   "cell_type": "code",
   "execution_count": 24,
   "metadata": {},
   "outputs": [
    {
     "data": {
      "text/plain": [
       "(0.0, 2.5)"
      ]
     },
     "execution_count": 24,
     "metadata": {},
     "output_type": "execute_result"
    },
    {
     "data": {
      "image/png": "[encoded data removed]",
      "text/plain": [
       "<Figure size 1440x720 with 1 Axes>"
      ]
     },
     "metadata": {},
     "output_type": "display_data"
    }
   ],
   "source": [
    "plt.figure(figsize=(20,10))\n",
    "sb.boxplot(data = df_top_10_platform, x='sum_sales', y='platform')\n",
    "\n",
    "plt.title(label='Диаграмма размаха по глобальным продажам игр в разбивке по платформам\\n', fontsize=18, fontweight=\"bold\")\n",
    "plt.xlabel(\"Суммарные продажи\", fontsize=14, fontweight=\"bold\")\n",
    "plt.ylabel(\"Платформы\", fontsize=14, fontweight=\"bold\")\n",
    "plt.xlim(0, 2.5)"
   ]
  },
  {
   "cell_type": "markdown",
   "metadata": {},
   "source": [
    "# Вывод\n",
    "\n",
    "1. Наибольшие медианные продажи у платформ X360 и PS3;\n",
    "2. Почти у всех платформ есть много выбросов;\n",
    "3. У платформы DC - самая неприбыльная;\n",
    "4. Медиана у всех платформ разная."
   ]
  },
  {
   "cell_type": "markdown",
   "metadata": {},
   "source": [
    "### Посмотрите, как влияют на продажи внутри одной популярной платформы отзывы пользователей и критиков. Постройте диаграмму рассеяния и посчитайте корреляцию между отзывами и продажами. Сформулируйте выводы."
   ]
  },
  {
   "cell_type": "code",
   "execution_count": 25,
   "metadata": {},
   "outputs": [],
   "source": [
    "\"\"\"Функция для вывода диаграммы рассеивания и подсчета корреляции по полям columns\"\"\"\n",
    "def calculate_corr(platform, columns):\n",
    "    print(f\"Платформа {platform}\")\n",
    "    df_platform = df_top_10_platform.query(\"platform == @platform\")\n",
    "    # Диаграмма рассеяния для platform\n",
    "    sb.pairplot(df_platform[columns])\n",
    "    plt.show()\n",
    "    # Посчитаем корреляцию\n",
    "    platform_corr = df_platform[columns].corr()\n",
    "    display(platform_corr)"
   ]
  },
  {
   "cell_type": "code",
   "execution_count": 26,
   "metadata": {},
   "outputs": [
    {
     "name": "stdout",
     "output_type": "stream",
     "text": [
      "Платформа X360\n"
     ]
    },
    {
     "data": {
      "image/png": "[encoded data removed]",
      "text/plain": [
       "<Figure size 540x540 with 12 Axes>"
      ]
     },
     "metadata": {},
     "output_type": "display_data"
    },
    {
     "data": {
      "text/html": [
       "<div>\n",
       "<style scoped>\n",
       "    .dataframe tbody tr th:only-of-type {\n",
       "        vertical-align: middle;\n",
       "    }\n",
       "\n",
       "    .dataframe tbody tr th {\n",
       "        vertical-align: top;\n",
       "    }\n",
       "\n",
       "    .dataframe thead th {\n",
       "        text-align: right;\n",
       "    }\n",
       "</style>\n",
       "<table border=\"1\" class=\"dataframe\">\n",
       "  <thead>\n",
       "    <tr style=\"text-align: right;\">\n",
       "      <th></th>\n",
       "      <th>sum_sales</th>\n",
       "      <th>critic_score</th>\n",
       "      <th>user_score</th>\n",
       "    </tr>\n",
       "  </thead>\n",
       "  <tbody>\n",
       "    <tr>\n",
       "      <th>sum_sales</th>\n",
       "      <td>1.000000</td>\n",
       "      <td>0.396307</td>\n",
       "      <td>0.115762</td>\n",
       "    </tr>\n",
       "    <tr>\n",
       "      <th>critic_score</th>\n",
       "      <td>0.396307</td>\n",
       "      <td>1.000000</td>\n",
       "      <td>0.622629</td>\n",
       "    </tr>\n",
       "    <tr>\n",
       "      <th>user_score</th>\n",
       "      <td>0.115762</td>\n",
       "      <td>0.622629</td>\n",
       "      <td>1.000000</td>\n",
       "    </tr>\n",
       "  </tbody>\n",
       "</table>\n",
       "</div>"
      ],
      "text/plain": [
       "              sum_sales  critic_score  user_score\n",
       "sum_sales      1.000000      0.396307    0.115762\n",
       "critic_score   0.396307      1.000000    0.622629\n",
       "user_score     0.115762      0.622629    1.000000"
      ]
     },
     "metadata": {},
     "output_type": "display_data"
    }
   ],
   "source": [
    "calculate_corr('X360', ['sum_sales', 'critic_score', 'user_score'])"
   ]
  },
  {
   "cell_type": "markdown",
   "metadata": {},
   "source": [
    "# Вывод\n",
    "\n",
    "1. Игры с высокими оценками критиков хорошо продаются;\n",
    "2. По пользовательским оценкам есть игры, которые продаются не так хорошо, но имеют высокую оценку пользователей\n",
    "3. Корреляция между sum_sales и critic_score равна 0.4.\n",
    "4. Корреляции между sum_sales и user_score почти нет."
   ]
  },
  {
   "cell_type": "markdown",
   "metadata": {},
   "source": [
    "### Соотнесите выводы с продажами игр на других платформах."
   ]
  },
  {
   "cell_type": "code",
   "execution_count": 27,
   "metadata": {},
   "outputs": [
    {
     "name": "stdout",
     "output_type": "stream",
     "text": [
      "Платформа PS4\n"
     ]
    },
    {
     "data": {
      "image/png": "[encoded data removed]",
      "text/plain": [
       "<Figure size 540x540 with 12 Axes>"
      ]
     },
     "metadata": {},
     "output_type": "display_data"
    },
    {
     "data": {
      "text/html": [
       "<div>\n",
       "<style scoped>\n",
       "    .dataframe tbody tr th:only-of-type {\n",
       "        vertical-align: middle;\n",
       "    }\n",
       "\n",
       "    .dataframe tbody tr th {\n",
       "        vertical-align: top;\n",
       "    }\n",
       "\n",
       "    .dataframe thead th {\n",
       "        text-align: right;\n",
       "    }\n",
       "</style>\n",
       "<table border=\"1\" class=\"dataframe\">\n",
       "  <thead>\n",
       "    <tr style=\"text-align: right;\">\n",
       "      <th></th>\n",
       "      <th>sum_sales</th>\n",
       "      <th>critic_score</th>\n",
       "      <th>user_score</th>\n",
       "    </tr>\n",
       "  </thead>\n",
       "  <tbody>\n",
       "    <tr>\n",
       "      <th>sum_sales</th>\n",
       "      <td>1.000000</td>\n",
       "      <td>0.406568</td>\n",
       "      <td>-0.031957</td>\n",
       "    </tr>\n",
       "    <tr>\n",
       "      <th>critic_score</th>\n",
       "      <td>0.406568</td>\n",
       "      <td>1.000000</td>\n",
       "      <td>0.557654</td>\n",
       "    </tr>\n",
       "    <tr>\n",
       "      <th>user_score</th>\n",
       "      <td>-0.031957</td>\n",
       "      <td>0.557654</td>\n",
       "      <td>1.000000</td>\n",
       "    </tr>\n",
       "  </tbody>\n",
       "</table>\n",
       "</div>"
      ],
      "text/plain": [
       "              sum_sales  critic_score  user_score\n",
       "sum_sales      1.000000      0.406568   -0.031957\n",
       "critic_score   0.406568      1.000000    0.557654\n",
       "user_score    -0.031957      0.557654    1.000000"
      ]
     },
     "metadata": {},
     "output_type": "display_data"
    },
    {
     "name": "stdout",
     "output_type": "stream",
     "text": [
      "Платформа PS3\n"
     ]
    },
    {
     "data": {
      "image/png": "[encoded data removed]",
      "text/plain": [
       "<Figure size 540x540 with 12 Axes>"
      ]
     },
     "metadata": {},
     "output_type": "display_data"
    },
    {
     "data": {
      "text/html": [
       "<div>\n",
       "<style scoped>\n",
       "    .dataframe tbody tr th:only-of-type {\n",
       "        vertical-align: middle;\n",
       "    }\n",
       "\n",
       "    .dataframe tbody tr th {\n",
       "        vertical-align: top;\n",
       "    }\n",
       "\n",
       "    .dataframe thead th {\n",
       "        text-align: right;\n",
       "    }\n",
       "</style>\n",
       "<table border=\"1\" class=\"dataframe\">\n",
       "  <thead>\n",
       "    <tr style=\"text-align: right;\">\n",
       "      <th></th>\n",
       "      <th>sum_sales</th>\n",
       "      <th>critic_score</th>\n",
       "      <th>user_score</th>\n",
       "    </tr>\n",
       "  </thead>\n",
       "  <tbody>\n",
       "    <tr>\n",
       "      <th>sum_sales</th>\n",
       "      <td>1.000000</td>\n",
       "      <td>0.432759</td>\n",
       "      <td>0.128416</td>\n",
       "    </tr>\n",
       "    <tr>\n",
       "      <th>critic_score</th>\n",
       "      <td>0.432759</td>\n",
       "      <td>1.000000</td>\n",
       "      <td>0.631154</td>\n",
       "    </tr>\n",
       "    <tr>\n",
       "      <th>user_score</th>\n",
       "      <td>0.128416</td>\n",
       "      <td>0.631154</td>\n",
       "      <td>1.000000</td>\n",
       "    </tr>\n",
       "  </tbody>\n",
       "</table>\n",
       "</div>"
      ],
      "text/plain": [
       "              sum_sales  critic_score  user_score\n",
       "sum_sales      1.000000      0.432759    0.128416\n",
       "critic_score   0.432759      1.000000    0.631154\n",
       "user_score     0.128416      0.631154    1.000000"
      ]
     },
     "metadata": {},
     "output_type": "display_data"
    },
    {
     "name": "stdout",
     "output_type": "stream",
     "text": [
      "Платформа Wii\n"
     ]
    },
    {
     "data": {
      "image/png": "[encoded data removed]",
      "text/plain": [
       "<Figure size 540x540 with 12 Axes>"
      ]
     },
     "metadata": {},
     "output_type": "display_data"
    },
    {
     "data": {
      "text/html": [
       "<div>\n",
       "<style scoped>\n",
       "    .dataframe tbody tr th:only-of-type {\n",
       "        vertical-align: middle;\n",
       "    }\n",
       "\n",
       "    .dataframe tbody tr th {\n",
       "        vertical-align: top;\n",
       "    }\n",
       "\n",
       "    .dataframe thead th {\n",
       "        text-align: right;\n",
       "    }\n",
       "</style>\n",
       "<table border=\"1\" class=\"dataframe\">\n",
       "  <thead>\n",
       "    <tr style=\"text-align: right;\">\n",
       "      <th></th>\n",
       "      <th>sum_sales</th>\n",
       "      <th>critic_score</th>\n",
       "      <th>user_score</th>\n",
       "    </tr>\n",
       "  </thead>\n",
       "  <tbody>\n",
       "    <tr>\n",
       "      <th>sum_sales</th>\n",
       "      <td>1.000000</td>\n",
       "      <td>0.177907</td>\n",
       "      <td>0.112831</td>\n",
       "    </tr>\n",
       "    <tr>\n",
       "      <th>critic_score</th>\n",
       "      <td>0.177907</td>\n",
       "      <td>1.000000</td>\n",
       "      <td>0.688285</td>\n",
       "    </tr>\n",
       "    <tr>\n",
       "      <th>user_score</th>\n",
       "      <td>0.112831</td>\n",
       "      <td>0.688285</td>\n",
       "      <td>1.000000</td>\n",
       "    </tr>\n",
       "  </tbody>\n",
       "</table>\n",
       "</div>"
      ],
      "text/plain": [
       "              sum_sales  critic_score  user_score\n",
       "sum_sales      1.000000      0.177907    0.112831\n",
       "critic_score   0.177907      1.000000    0.688285\n",
       "user_score     0.112831      0.688285    1.000000"
      ]
     },
     "metadata": {},
     "output_type": "display_data"
    }
   ],
   "source": [
    "calculate_corr('PS4', ['sum_sales', 'critic_score', 'user_score'])\n",
    "calculate_corr('PS3', ['sum_sales', 'critic_score', 'user_score'])\n",
    "calculate_corr('Wii', ['sum_sales', 'critic_score', 'user_score'])"
   ]
  },
  {
   "cell_type": "markdown",
   "metadata": {},
   "source": [
    "# Вывод\n",
    "\n",
    "По графикам рассеяния можно сделать вывод:\n",
    "1. Чем больше оценка критиков, тем больше продажи.\n",
    "2. Зависимость продаж от оценок пользователей менее выраженная.\n",
    "\n",
    "В целом коэффициент корреляции показывает, что зависимость продаж от оценок критиков сильнее, чем от оценок пользователей, кроме платформы Wii, где коэффициент корреляции примерно одинаковый."
   ]
  },
  {
   "cell_type": "markdown",
   "metadata": {},
   "source": [
    "### Посмотрите на общее распределение игр по жанрам. Что можно сказать о самых прибыльных жанрах? Выделяются ли жанры с высокими и низкими продажами?"
   ]
  },
  {
   "cell_type": "code",
   "execution_count": 28,
   "metadata": {},
   "outputs": [],
   "source": [
    "# Посчитаем продажи по жанрам и отсортируем по убыванию \n",
    "def get_genre_statistic(type_arg):\n",
    "    df_genre = df.pivot_table(\n",
    "        index='genre', values='sum_sales', aggfunc=type_arg).sort_values(by='sum_sales', ascending=False)\n",
    "    df_genre = df_genre.reset_index().rename_axis(None, axis=1)\n",
    "    \n",
    "    # Выведем график\n",
    "    plt.figure(figsize=(12,6))\n",
    "    sb.barplot(data = df_genre, x='genre', y='sum_sales')\n",
    "    plt.xlabel('Жанры',fontsize=12)\n",
    "    plt.ylabel('Продажи',fontsize=12)"
   ]
  },
  {
   "cell_type": "code",
   "execution_count": 29,
   "metadata": {},
   "outputs": [
    {
     "data": {
      "image/png": "[encoded data removed]",
      "text/plain": [
       "<Figure size 864x432 with 1 Axes>"
      ]
     },
     "metadata": {},
     "output_type": "display_data"
    }
   ],
   "source": [
    "# Анализируем сумму продаж\n",
    "get_genre_statistic('sum')"
   ]
  },
  {
   "cell_type": "code",
   "execution_count": 30,
   "metadata": {},
   "outputs": [
    {
     "data": {
      "image/png": "[encoded data removed]",
      "text/plain": [
       "<Figure size 864x432 with 1 Axes>"
      ]
     },
     "metadata": {},
     "output_type": "display_data"
    }
   ],
   "source": [
    "# Анализируем количество продаж\n",
    "get_genre_statistic('count')"
   ]
  },
  {
   "cell_type": "markdown",
   "metadata": {},
   "source": [
    "# Вывод\n",
    "\n",
    "Лучше всего продаются жанры Action. На последнем месте - Strategy."
   ]
  },
  {
   "cell_type": "markdown",
   "metadata": {},
   "source": [
    "## Составление портрета пользователя для каждого региона"
   ]
  },
  {
   "cell_type": "markdown",
   "metadata": {},
   "source": [
    "### Определение для пользователя каждого региона (NA, EU, JP):"
   ]
  },
  {
   "cell_type": "markdown",
   "metadata": {},
   "source": [
    "####  Самые популярные платформы (топ-5). Опишите различия в долях продаж."
   ]
  },
  {
   "cell_type": "code",
   "execution_count": 31,
   "metadata": {},
   "outputs": [],
   "source": [
    "def top_in_regions_plot(column, region_sales):\n",
    "    \"\"\"\n",
    "    params: \n",
    "        column - Поле для группировки\n",
    "        region_sales - Регион\n",
    "    \"\"\"\n",
    "    df_grouped = df.groupby(column).agg({region_sales: 'sum'}).sort_values(by = region_sales, ascending=False)[:5]\n",
    "    plot = df_grouped.plot(kind = 'bar', ec ='black', fontsize=18, rot = 20)\n",
    "    plot.legend(prop={'size':17})\n",
    "    plot.set_xlabel('')\n",
    "    plot.title.set_size(20)"
   ]
  },
  {
   "cell_type": "code",
   "execution_count": 32,
   "metadata": {},
   "outputs": [
    {
     "data": {
      "image/png": "[encoded data removed]",
      "text/plain": [
       "<Figure size 432x288 with 1 Axes>"
      ]
     },
     "metadata": {},
     "output_type": "display_data"
    },
    {
     "data": {
      "image/png": "[encoded data removed]",
      "text/plain": [
       "<Figure size 432x288 with 1 Axes>"
      ]
     },
     "metadata": {},
     "output_type": "display_data"
    },
    {
     "data": {
      "image/png": "[encoded data removed]",
      "text/plain": [
       "<Figure size 432x288 with 1 Axes>"
      ]
     },
     "metadata": {},
     "output_type": "display_data"
    }
   ],
   "source": [
    "top_in_regions_plot('platform', 'na_sales')\n",
    "top_in_regions_plot('platform', 'eu_sales')\n",
    "top_in_regions_plot('platform', 'jp_sales')"
   ]
  },
  {
   "cell_type": "markdown",
   "metadata": {},
   "source": [
    "# Вывод\n",
    "\n",
    "- В Северной Америке самую большую популярность имеют платформы X360 и PS2;\n",
    "- Платформы PS2 и PS3 находятся на примерно одинаковом уровне по популярности - это продажи в Европе;\n",
    "- В Японии наиболее популярна платформа DS, остальные PS, PS2, SNES, 3DS следуют за ней."
   ]
  },
  {
   "cell_type": "markdown",
   "metadata": {},
   "source": [
    "#### Самые популярные жанры (топ-5). Поясните разницу."
   ]
  },
  {
   "cell_type": "code",
   "execution_count": 33,
   "metadata": {},
   "outputs": [
    {
     "data": {
      "image/png": "[encoded data removed]",
      "text/plain": [
       "<Figure size 432x288 with 1 Axes>"
      ]
     },
     "metadata": {},
     "output_type": "display_data"
    },
    {
     "data": {
      "image/png": "[encoded data removed]",
      "text/plain": [
       "<Figure size 432x288 with 1 Axes>"
      ]
     },
     "metadata": {},
     "output_type": "display_data"
    },
    {
     "data": {
      "image/png": "[encoded data removed]",
      "text/plain": [
       "<Figure size 432x288 with 1 Axes>"
      ]
     },
     "metadata": {},
     "output_type": "display_data"
    }
   ],
   "source": [
    "top_in_regions_plot('genre', 'na_sales')\n",
    "top_in_regions_plot('genre', 'eu_sales')\n",
    "top_in_regions_plot('genre', 'jp_sales')"
   ]
  },
  {
   "cell_type": "markdown",
   "metadata": {},
   "source": [
    "# Вывод\n",
    "\n",
    "- В Северной Америке и в Европе вкусы жанров почти одинаковы, отличается лишь 4 место. В Европе больше предпочитают Racing, нежели Platform;\n",
    "- В Японии заметно лидирует (по сравнению с остальными) жанр Role_Playing, дальше идут Action И Sports;"
   ]
  },
  {
   "cell_type": "markdown",
   "metadata": {},
   "source": [
    "#### Влияет ли рейтинг ESRB на продажи в отдельном регионе?"
   ]
  },
  {
   "cell_type": "code",
   "execution_count": 34,
   "metadata": {},
   "outputs": [
    {
     "data": {
      "image/png": "[encoded data removed]",
      "text/plain": [
       "<Figure size 432x288 with 1 Axes>"
      ]
     },
     "metadata": {},
     "output_type": "display_data"
    },
    {
     "data": {
      "image/png": "[encoded data removed]",
      "text/plain": [
       "<Figure size 432x288 with 1 Axes>"
      ]
     },
     "metadata": {},
     "output_type": "display_data"
    },
    {
     "data": {
      "image/png": "[encoded data removed]",
      "text/plain": [
       "<Figure size 432x288 with 1 Axes>"
      ]
     },
     "metadata": {},
     "output_type": "display_data"
    }
   ],
   "source": [
    "top_in_regions_plot('rating', 'na_sales')\n",
    "top_in_regions_plot('rating', 'eu_sales')\n",
    "top_in_regions_plot('rating', 'jp_sales')"
   ]
  },
  {
   "cell_type": "markdown",
   "metadata": {},
   "source": [
    "Рейтинг от организации ESRB:\n",
    "- «EC» («Early childhood») — Ориентирован на дошкольную аудиторию;\n",
    "- «E» («Everyone») — Подходит для всех возрастов;\n",
    "- «E10+» («Everyone 10 and older») — Подходит для детей от 10 лет и старше;\n",
    "- «T» («Teen») — подходит для детей в возрасте 13 лет и старше (подросткам);\n",
    "- «M» («Mature») — Подходит для детей в возрасте 17 лет и старше;  \n",
    "- «RP» («Rating Pending») — Рейтинг в ожидании;\n",
    "- «K-A» - Для детей – для тех, кто уже научился говорить и держать джойстик."
   ]
  },
  {
   "cell_type": "markdown",
   "metadata": {},
   "source": [
    "# Вывод\n",
    "\n",
    "- Во всех регионах лидируют игры \"Для всех возрастов\";\n",
    "- В Северной Америке почти поровну - с рейтингом \"13 лет и старше (подросткам)\" и \"17 лет и старше\".\n",
    "- В Европе рейтинг \"17 лет и старше\" преобладает над \"13 лет и старше (подросткам)\";\n",
    "- В Японии наоборт преобладает рейтинг \"13 лет и старше (подросткам)\"."
   ]
  },
  {
   "cell_type": "markdown",
   "metadata": {},
   "source": [
    "## Проверка гипотез"
   ]
  },
  {
   "cell_type": "markdown",
   "metadata": {},
   "source": [
    "> 1 гипотеза: средние пользовательские рейтинги платформ Xbox One и PC одинаковые."
   ]
  },
  {
   "cell_type": "markdown",
   "metadata": {},
   "source": [
    "Пороговое значение alpha  = 0.05"
   ]
  },
  {
   "cell_type": "markdown",
   "metadata": {},
   "source": [
    "Нулевая гипотеза: средние пользовательские рейтинги платформ Xbox One и PC одинаковые.\n",
    "\n",
    "Альтернативная гипотеза: средние пользовательские рейтинги платформ Xbox One и PC различаются ."
   ]
  },
  {
   "cell_type": "code",
   "execution_count": 35,
   "metadata": {},
   "outputs": [
    {
     "name": "stdout",
     "output_type": "stream",
     "text": [
      "p-значение: 0.05554752084307562\n",
      "Не получилось отвергнуть нулевую гипотезу\n"
     ]
    }
   ],
   "source": [
    "alpha = .05 # критический уровень статистической значимости\n",
    "\n",
    "xbox_hyp = df.query(\"platform == 'XOne' and year_of_release > 2006\")['user_score'].dropna()\n",
    "pc_hyp = df.query(\"platform == 'PC' and year_of_release > 2006\")['user_score'].dropna()\n",
    "\n",
    "results = st.ttest_ind(\n",
    "    xbox_hyp, \n",
    "    pc_hyp)\n",
    "\n",
    "print('p-значение:', results.pvalue)\n",
    "\n",
    "if (results.pvalue < alpha):\n",
    "    print(\"Отвергаем нулевую гипотезу\")\n",
    "else:\n",
    "    print(\"Не получилось отвергнуть нулевую гипотезу\")"
   ]
  },
  {
   "cell_type": "markdown",
   "metadata": {},
   "source": [
    "# Вывод\n",
    "\n",
    "Не получилось опровергнуть нулевую гипотезу. Альтернативная гипотеза о том, что средние пользовательские рейтинги платформ Xbox One и PC различаются - не подтверждается."
   ]
  },
  {
   "cell_type": "markdown",
   "metadata": {},
   "source": [
    "> 2 гипотеза: средние пользовательские рейтинги жанров Action и Sports разные."
   ]
  },
  {
   "cell_type": "markdown",
   "metadata": {},
   "source": [
    "Нулевая гипотеза: средние пользовательские рейтинги жанров Action и Sports равны.\n",
    "\n",
    "Альтернативная  гипотеза: средние пользовательские рейтинги жанров Action и Sports разные."
   ]
  },
  {
   "cell_type": "code",
   "execution_count": 36,
   "metadata": {},
   "outputs": [
    {
     "name": "stdout",
     "output_type": "stream",
     "text": [
      "p-значение: 1.0894514919563483e-12\n",
      "Отвергаем нулевую гипотезу\n"
     ]
    }
   ],
   "source": [
    "alpha = .05 \n",
    "\n",
    "action_hyp = df.query(\"genre == 'Action' and year_of_release > 2006\")['user_score'].dropna()\n",
    "sports_hyp = df.query(\"genre == 'Sports' and year_of_release > 2006\")['user_score'].dropna()\n",
    "\n",
    "results = st.ttest_ind(\n",
    "    action_hyp, \n",
    "    sports_hyp)\n",
    "\n",
    "print('p-значение:', results.pvalue)\n",
    "\n",
    "if (results.pvalue < alpha):\n",
    "    print(\"Отвергаем нулевую гипотезу\")\n",
    "else:\n",
    "    print(\"Не получилось отвергнуть нулевую гипотезу\") "
   ]
  },
  {
   "cell_type": "markdown",
   "metadata": {},
   "source": [
    "# Вывод\n",
    "\n",
    "По результату видно, что нулевая гипотеза отвергается, а значит мы подтверждаем вторую гипотезу о том, что средние пользовательские рейтинги жанров Action и Sports разные."
   ]
  },
  {
   "cell_type": "markdown",
   "metadata": {},
   "source": [
    "## Общий вывод"
   ]
  },
  {
   "cell_type": "markdown",
   "metadata": {},
   "source": [
    "- Характерный срок жизни платформы - 10 лет, поэтому определили актуальный период с 2006 по 2016 год, т.к. в этом периоде представлены данные по самым популярным играм;\n",
    "- Потенциально прибыльных платформ - это X360, PS3, Wii. Количество продаж игр, выпущенных на каждую платформу, снижается;\n",
    "- Наибольшие медианные продажи у платформ X360 и PS3;\n",
    "- Игры с высокими оценками критиков хорошо продаются, однако зависимость продаж от оценок пользователей менее выраженная;\n",
    "- Самый популярный жанр за все время это Action, на последнем месте Strategy;\n",
    "- В Северной Америке и в Европе вкусы жанров почти одинаковы, лидирует жанр Action, а в Японии заметно лидирует (по сравнению с остальными) жанр Role_Playing.\n",
    "- В Северной Америке самую большую популярность у платформы X360, в Европе платформы PS2 и PS3 находятся на примерно одинаковом уровне по популярности, в Японии наиболее популярна платформа DS;\n",
    "- Во всех регионах лидируют игры с рейтингом \"Для всех возрастов\";\n",
    "- 1 гипотеза о том, что средние пользовательские рейтинги платформ Xbox One и PC одинаковые - подтвердилась;\n",
    "- 2 гипотеза о том. что средние пользовательские рейтинги жанров Action и Sports разные - подтвердилась;"
   ]
  }
 ],
 "metadata": {
  "ExecuteTimeLog": [
   {
    "duration": 403,
    "start_time": "2022-05-10T09:08:20.917Z"
   },
   {
    "duration": 58,
    "start_time": "2022-05-10T09:09:27.437Z"
   },
   {
    "duration": 39,
    "start_time": "2022-05-10T09:09:34.372Z"
   },
   {
    "duration": 32,
    "start_time": "2022-05-10T09:10:12.383Z"
   },
   {
    "duration": 143,
    "start_time": "2022-05-10T09:11:45.469Z"
   },
   {
    "duration": 21,
    "start_time": "2022-05-10T09:11:49.737Z"
   },
   {
    "duration": 13,
    "start_time": "2022-05-10T09:12:19.374Z"
   },
   {
    "duration": 3,
    "start_time": "2022-05-10T09:12:34.137Z"
   },
   {
    "duration": 26,
    "start_time": "2022-05-10T09:17:28.921Z"
   },
   {
    "duration": 3,
    "start_time": "2022-05-10T09:37:12.207Z"
   },
   {
    "duration": 5,
    "start_time": "2022-05-10T09:38:20.498Z"
   },
   {
    "duration": 4,
    "start_time": "2022-05-10T09:39:14.681Z"
   },
   {
    "duration": 20,
    "start_time": "2022-05-10T09:40:14.551Z"
   },
   {
    "duration": 2539,
    "start_time": "2022-05-10T09:43:27.537Z"
   },
   {
    "duration": 2486,
    "start_time": "2022-05-10T09:43:30.179Z"
   },
   {
    "duration": 4,
    "start_time": "2022-05-10T09:43:48.702Z"
   },
   {
    "duration": 13,
    "start_time": "2022-05-10T09:44:58.265Z"
   },
   {
    "duration": 5,
    "start_time": "2022-05-10T09:45:36.614Z"
   },
   {
    "duration": 13,
    "start_time": "2022-05-10T09:45:38.156Z"
   },
   {
    "duration": 7,
    "start_time": "2022-05-10T10:04:41.396Z"
   },
   {
    "duration": 27,
    "start_time": "2022-05-10T10:04:49.137Z"
   },
   {
    "duration": 29,
    "start_time": "2022-05-10T10:14:17.318Z"
   },
   {
    "duration": 12,
    "start_time": "2022-05-10T10:18:28.076Z"
   },
   {
    "duration": 15,
    "start_time": "2022-05-10T10:18:53.833Z"
   },
   {
    "duration": 3,
    "start_time": "2022-05-10T10:20:13.207Z"
   },
   {
    "duration": 41,
    "start_time": "2022-05-10T10:20:13.214Z"
   },
   {
    "duration": 17,
    "start_time": "2022-05-10T10:20:13.257Z"
   },
   {
    "duration": 14,
    "start_time": "2022-05-10T10:20:13.276Z"
   },
   {
    "duration": 4,
    "start_time": "2022-05-10T10:20:13.291Z"
   },
   {
    "duration": 9,
    "start_time": "2022-05-10T10:20:13.297Z"
   },
   {
    "duration": 27,
    "start_time": "2022-05-10T10:20:13.307Z"
   },
   {
    "duration": 15,
    "start_time": "2022-05-10T10:20:13.336Z"
   },
   {
    "duration": 3,
    "start_time": "2022-05-10T10:20:13.353Z"
   },
   {
    "duration": 3,
    "start_time": "2022-05-10T10:20:18.518Z"
   },
   {
    "duration": 10,
    "start_time": "2022-05-10T10:21:09.557Z"
   },
   {
    "duration": 7,
    "start_time": "2022-05-10T10:21:10.580Z"
   },
   {
    "duration": 14,
    "start_time": "2022-05-10T10:21:31.844Z"
   },
   {
    "duration": 6,
    "start_time": "2022-05-10T10:22:53.837Z"
   },
   {
    "duration": 12,
    "start_time": "2022-05-10T10:24:36.948Z"
   },
   {
    "duration": 18,
    "start_time": "2022-05-10T10:25:22.437Z"
   },
   {
    "duration": 6,
    "start_time": "2022-05-10T10:41:30.239Z"
   },
   {
    "duration": 6,
    "start_time": "2022-05-10T10:41:48.463Z"
   },
   {
    "duration": 4,
    "start_time": "2022-05-10T10:42:03.613Z"
   },
   {
    "duration": 5,
    "start_time": "2022-05-10T10:42:07.535Z"
   },
   {
    "duration": 5,
    "start_time": "2022-05-10T10:42:33.471Z"
   },
   {
    "duration": 5,
    "start_time": "2022-05-10T10:44:42.983Z"
   },
   {
    "duration": 5,
    "start_time": "2022-05-10T10:45:04.538Z"
   },
   {
    "duration": 2,
    "start_time": "2022-05-10T10:45:16.502Z"
   },
   {
    "duration": 42,
    "start_time": "2022-05-10T10:45:16.506Z"
   },
   {
    "duration": 18,
    "start_time": "2022-05-10T10:45:16.550Z"
   },
   {
    "duration": 13,
    "start_time": "2022-05-10T10:45:16.569Z"
   },
   {
    "duration": 4,
    "start_time": "2022-05-10T10:45:16.584Z"
   },
   {
    "duration": 8,
    "start_time": "2022-05-10T10:45:16.589Z"
   },
   {
    "duration": 33,
    "start_time": "2022-05-10T10:45:16.599Z"
   },
   {
    "duration": 11,
    "start_time": "2022-05-10T10:45:16.634Z"
   },
   {
    "duration": 13,
    "start_time": "2022-05-10T10:45:16.646Z"
   },
   {
    "duration": 4,
    "start_time": "2022-05-10T10:45:16.661Z"
   },
   {
    "duration": 5,
    "start_time": "2022-05-10T10:45:16.666Z"
   },
   {
    "duration": 6,
    "start_time": "2022-05-10T10:45:16.672Z"
   },
   {
    "duration": 7,
    "start_time": "2022-05-10T10:45:51.348Z"
   },
   {
    "duration": 5,
    "start_time": "2022-05-10T10:46:30.178Z"
   },
   {
    "duration": 4,
    "start_time": "2022-05-10T10:48:14.183Z"
   },
   {
    "duration": 4,
    "start_time": "2022-05-10T10:48:22.954Z"
   },
   {
    "duration": 4,
    "start_time": "2022-05-10T10:48:29.662Z"
   },
   {
    "duration": 5,
    "start_time": "2022-05-10T10:48:51.637Z"
   },
   {
    "duration": 3,
    "start_time": "2022-05-10T10:49:32.051Z"
   },
   {
    "duration": 40,
    "start_time": "2022-05-10T10:49:32.056Z"
   },
   {
    "duration": 19,
    "start_time": "2022-05-10T10:49:32.097Z"
   },
   {
    "duration": 21,
    "start_time": "2022-05-10T10:49:32.118Z"
   },
   {
    "duration": 4,
    "start_time": "2022-05-10T10:49:32.142Z"
   },
   {
    "duration": 8,
    "start_time": "2022-05-10T10:49:32.148Z"
   },
   {
    "duration": 6,
    "start_time": "2022-05-10T10:49:32.157Z"
   },
   {
    "duration": 3,
    "start_time": "2022-05-10T10:49:32.164Z"
   },
   {
    "duration": 13,
    "start_time": "2022-05-10T10:49:32.169Z"
   },
   {
    "duration": 3,
    "start_time": "2022-05-10T10:49:32.184Z"
   },
   {
    "duration": 7,
    "start_time": "2022-05-10T10:49:32.189Z"
   },
   {
    "duration": 31,
    "start_time": "2022-05-10T10:49:32.198Z"
   },
   {
    "duration": 5,
    "start_time": "2022-05-10T10:49:48.836Z"
   },
   {
    "duration": 3,
    "start_time": "2022-05-10T10:50:17.245Z"
   },
   {
    "duration": 2,
    "start_time": "2022-05-10T10:50:32.174Z"
   },
   {
    "duration": 40,
    "start_time": "2022-05-10T10:50:32.178Z"
   },
   {
    "duration": 26,
    "start_time": "2022-05-10T10:50:32.220Z"
   },
   {
    "duration": 17,
    "start_time": "2022-05-10T10:50:32.247Z"
   },
   {
    "duration": 4,
    "start_time": "2022-05-10T10:50:32.266Z"
   },
   {
    "duration": 9,
    "start_time": "2022-05-10T10:50:32.272Z"
   },
   {
    "duration": 7,
    "start_time": "2022-05-10T10:50:32.282Z"
   },
   {
    "duration": 6,
    "start_time": "2022-05-10T10:50:32.291Z"
   },
   {
    "duration": 30,
    "start_time": "2022-05-10T10:50:32.299Z"
   },
   {
    "duration": 6,
    "start_time": "2022-05-10T10:50:32.330Z"
   },
   {
    "duration": 13,
    "start_time": "2022-05-10T10:50:32.338Z"
   },
   {
    "duration": 10,
    "start_time": "2022-05-10T10:50:32.352Z"
   },
   {
    "duration": 5,
    "start_time": "2022-05-10T10:50:44.087Z"
   },
   {
    "duration": 7,
    "start_time": "2022-05-10T10:52:29.704Z"
   },
   {
    "duration": 2,
    "start_time": "2022-05-10T10:52:49.898Z"
   },
   {
    "duration": 3,
    "start_time": "2022-05-10T10:52:55.670Z"
   },
   {
    "duration": 3,
    "start_time": "2022-05-10T10:52:58.552Z"
   },
   {
    "duration": 5,
    "start_time": "2022-05-10T10:52:59.070Z"
   },
   {
    "duration": 3,
    "start_time": "2022-05-10T10:53:05.067Z"
   },
   {
    "duration": 5,
    "start_time": "2022-05-10T10:53:05.715Z"
   },
   {
    "duration": 2,
    "start_time": "2022-05-10T10:53:17.614Z"
   },
   {
    "duration": 46,
    "start_time": "2022-05-10T10:53:17.618Z"
   },
   {
    "duration": 18,
    "start_time": "2022-05-10T10:53:17.665Z"
   },
   {
    "duration": 15,
    "start_time": "2022-05-10T10:53:17.685Z"
   },
   {
    "duration": 5,
    "start_time": "2022-05-10T10:53:17.702Z"
   },
   {
    "duration": 10,
    "start_time": "2022-05-10T10:53:17.708Z"
   },
   {
    "duration": 12,
    "start_time": "2022-05-10T10:53:17.719Z"
   },
   {
    "duration": 9,
    "start_time": "2022-05-10T10:53:17.733Z"
   },
   {
    "duration": 16,
    "start_time": "2022-05-10T10:53:17.743Z"
   },
   {
    "duration": 3,
    "start_time": "2022-05-10T10:53:17.761Z"
   },
   {
    "duration": 18,
    "start_time": "2022-05-10T10:53:17.765Z"
   },
   {
    "duration": 5,
    "start_time": "2022-05-10T10:53:17.784Z"
   },
   {
    "duration": 9,
    "start_time": "2022-05-10T10:53:17.790Z"
   },
   {
    "duration": 27,
    "start_time": "2022-05-10T10:53:17.801Z"
   },
   {
    "duration": 3,
    "start_time": "2022-05-10T10:53:46.587Z"
   },
   {
    "duration": 45,
    "start_time": "2022-05-10T10:53:46.592Z"
   },
   {
    "duration": 19,
    "start_time": "2022-05-10T10:53:46.639Z"
   },
   {
    "duration": 19,
    "start_time": "2022-05-10T10:53:46.660Z"
   },
   {
    "duration": 5,
    "start_time": "2022-05-10T10:53:46.681Z"
   },
   {
    "duration": 10,
    "start_time": "2022-05-10T10:53:46.688Z"
   },
   {
    "duration": 28,
    "start_time": "2022-05-10T10:53:46.700Z"
   },
   {
    "duration": 6,
    "start_time": "2022-05-10T10:53:46.730Z"
   },
   {
    "duration": 22,
    "start_time": "2022-05-10T10:53:46.738Z"
   },
   {
    "duration": 2,
    "start_time": "2022-05-10T10:53:46.762Z"
   },
   {
    "duration": 8,
    "start_time": "2022-05-10T10:53:46.766Z"
   },
   {
    "duration": 18,
    "start_time": "2022-05-10T10:53:46.776Z"
   },
   {
    "duration": 0,
    "start_time": "2022-05-10T10:53:46.796Z"
   },
   {
    "duration": 3,
    "start_time": "2022-05-10T10:53:59.589Z"
   },
   {
    "duration": 37,
    "start_time": "2022-05-10T10:53:59.594Z"
   },
   {
    "duration": 20,
    "start_time": "2022-05-10T10:53:59.633Z"
   },
   {
    "duration": 14,
    "start_time": "2022-05-10T10:53:59.655Z"
   },
   {
    "duration": 5,
    "start_time": "2022-05-10T10:53:59.673Z"
   },
   {
    "duration": 9,
    "start_time": "2022-05-10T10:53:59.680Z"
   },
   {
    "duration": 37,
    "start_time": "2022-05-10T10:53:59.691Z"
   },
   {
    "duration": 5,
    "start_time": "2022-05-10T10:53:59.730Z"
   },
   {
    "duration": 19,
    "start_time": "2022-05-10T10:53:59.737Z"
   },
   {
    "duration": 4,
    "start_time": "2022-05-10T10:53:59.758Z"
   },
   {
    "duration": 11,
    "start_time": "2022-05-10T10:53:59.763Z"
   },
   {
    "duration": 8,
    "start_time": "2022-05-10T10:53:59.775Z"
   },
   {
    "duration": 7,
    "start_time": "2022-05-10T10:53:59.785Z"
   },
   {
    "duration": 2,
    "start_time": "2022-05-10T10:54:23.814Z"
   },
   {
    "duration": 52,
    "start_time": "2022-05-10T10:54:23.818Z"
   },
   {
    "duration": 20,
    "start_time": "2022-05-10T10:54:23.872Z"
   },
   {
    "duration": 17,
    "start_time": "2022-05-10T10:54:23.894Z"
   },
   {
    "duration": 4,
    "start_time": "2022-05-10T10:54:23.913Z"
   },
   {
    "duration": 36,
    "start_time": "2022-05-10T10:54:23.919Z"
   },
   {
    "duration": 13,
    "start_time": "2022-05-10T10:54:23.956Z"
   },
   {
    "duration": 13,
    "start_time": "2022-05-10T10:54:23.971Z"
   },
   {
    "duration": 29,
    "start_time": "2022-05-10T10:54:23.986Z"
   },
   {
    "duration": 8,
    "start_time": "2022-05-10T10:54:24.017Z"
   },
   {
    "duration": 26,
    "start_time": "2022-05-10T10:54:24.033Z"
   },
   {
    "duration": 8,
    "start_time": "2022-05-10T10:54:24.060Z"
   },
   {
    "duration": 19,
    "start_time": "2022-05-10T10:54:24.069Z"
   },
   {
    "duration": 6,
    "start_time": "2022-05-10T10:55:13.013Z"
   },
   {
    "duration": 11,
    "start_time": "2022-05-10T10:55:44.291Z"
   },
   {
    "duration": 172,
    "start_time": "2022-05-10T10:56:33.659Z"
   },
   {
    "duration": 11,
    "start_time": "2022-05-10T10:56:49.457Z"
   },
   {
    "duration": 21,
    "start_time": "2022-05-10T11:02:27.609Z"
   },
   {
    "duration": 5,
    "start_time": "2022-05-10T11:10:09.385Z"
   },
   {
    "duration": 19,
    "start_time": "2022-05-10T11:10:15.686Z"
   },
   {
    "duration": 21,
    "start_time": "2022-05-10T11:11:52.434Z"
   },
   {
    "duration": 3,
    "start_time": "2022-05-10T11:12:17.490Z"
   },
   {
    "duration": 5,
    "start_time": "2022-05-10T11:14:59.381Z"
   },
   {
    "duration": 20,
    "start_time": "2022-05-10T11:15:53.380Z"
   },
   {
    "duration": 75,
    "start_time": "2022-05-14T11:04:48.882Z"
   },
   {
    "duration": 12,
    "start_time": "2022-05-14T11:06:18.462Z"
   },
   {
    "duration": 10,
    "start_time": "2022-05-14T11:06:54.019Z"
   },
   {
    "duration": 1807,
    "start_time": "2022-05-14T11:07:02.683Z"
   },
   {
    "duration": 54,
    "start_time": "2022-05-14T11:07:04.492Z"
   },
   {
    "duration": 37,
    "start_time": "2022-05-14T11:07:04.549Z"
   },
   {
    "duration": 41,
    "start_time": "2022-05-14T11:07:04.589Z"
   },
   {
    "duration": 6,
    "start_time": "2022-05-14T11:07:04.632Z"
   },
   {
    "duration": 18,
    "start_time": "2022-05-14T11:07:04.641Z"
   },
   {
    "duration": 10,
    "start_time": "2022-05-14T11:07:04.661Z"
   },
   {
    "duration": 9,
    "start_time": "2022-05-14T11:07:04.674Z"
   },
   {
    "duration": 57,
    "start_time": "2022-05-14T11:07:04.685Z"
   },
   {
    "duration": 6,
    "start_time": "2022-05-14T11:07:04.745Z"
   },
   {
    "duration": 12,
    "start_time": "2022-05-14T11:07:04.754Z"
   },
   {
    "duration": 9,
    "start_time": "2022-05-14T11:07:04.768Z"
   },
   {
    "duration": 60,
    "start_time": "2022-05-14T11:07:04.779Z"
   },
   {
    "duration": 31,
    "start_time": "2022-05-14T11:07:04.842Z"
   },
   {
    "duration": 10,
    "start_time": "2022-05-14T11:07:04.876Z"
   },
   {
    "duration": 84,
    "start_time": "2022-05-14T11:07:04.888Z"
   },
   {
    "duration": 8,
    "start_time": "2022-05-14T11:07:04.975Z"
   },
   {
    "duration": 190,
    "start_time": "2022-05-14T11:07:08.954Z"
   },
   {
    "duration": 4,
    "start_time": "2022-05-14T11:07:41.493Z"
   },
   {
    "duration": 538,
    "start_time": "2022-05-14T11:07:46.194Z"
   },
   {
    "duration": 492,
    "start_time": "2022-05-14T11:07:55.502Z"
   },
   {
    "duration": 391,
    "start_time": "2022-05-14T11:08:19.210Z"
   },
   {
    "duration": 453,
    "start_time": "2022-05-14T11:08:32.953Z"
   },
   {
    "duration": 385,
    "start_time": "2022-05-14T11:09:13.945Z"
   },
   {
    "duration": 23,
    "start_time": "2022-05-14T11:18:23.146Z"
   },
   {
    "duration": 6,
    "start_time": "2022-05-14T11:18:53.723Z"
   },
   {
    "duration": 15,
    "start_time": "2022-05-14T11:25:14.493Z"
   },
   {
    "duration": 482,
    "start_time": "2022-05-14T11:26:24.014Z"
   },
   {
    "duration": 476,
    "start_time": "2022-05-14T11:26:39.321Z"
   },
   {
    "duration": 562,
    "start_time": "2022-05-14T11:27:50.901Z"
   },
   {
    "duration": 114,
    "start_time": "2022-05-14T11:31:52.735Z"
   },
   {
    "duration": 4,
    "start_time": "2022-05-14T11:32:11.874Z"
   },
   {
    "duration": 5,
    "start_time": "2022-05-14T11:32:17.661Z"
   },
   {
    "duration": 26575,
    "start_time": "2022-05-14T11:34:52.876Z"
   },
   {
    "duration": 28797,
    "start_time": "2022-05-14T11:35:46.654Z"
   },
   {
    "duration": 9,
    "start_time": "2022-05-14T11:37:55.835Z"
   },
   {
    "duration": 7,
    "start_time": "2022-05-14T11:38:11.165Z"
   },
   {
    "duration": 6,
    "start_time": "2022-05-14T11:39:39.529Z"
   },
   {
    "duration": 5,
    "start_time": "2022-05-14T11:40:17.915Z"
   },
   {
    "duration": 6,
    "start_time": "2022-05-14T11:40:25.979Z"
   },
   {
    "duration": 6,
    "start_time": "2022-05-14T11:40:33.548Z"
   },
   {
    "duration": 5,
    "start_time": "2022-05-14T11:40:51.010Z"
   },
   {
    "duration": 6,
    "start_time": "2022-05-14T11:40:56.360Z"
   },
   {
    "duration": 14,
    "start_time": "2022-05-14T11:41:40.598Z"
   },
   {
    "duration": 9,
    "start_time": "2022-05-14T11:42:03.928Z"
   },
   {
    "duration": 7,
    "start_time": "2022-05-14T11:42:10.256Z"
   },
   {
    "duration": 9,
    "start_time": "2022-05-14T11:42:21.358Z"
   },
   {
    "duration": 2005,
    "start_time": "2022-05-14T11:42:34.747Z"
   },
   {
    "duration": 9,
    "start_time": "2022-05-14T11:42:48.372Z"
   },
   {
    "duration": 12,
    "start_time": "2022-05-14T11:42:59.914Z"
   },
   {
    "duration": 6,
    "start_time": "2022-05-14T11:43:05.861Z"
   },
   {
    "duration": 11,
    "start_time": "2022-05-14T11:43:28.908Z"
   },
   {
    "duration": 11,
    "start_time": "2022-05-14T11:43:37.301Z"
   },
   {
    "duration": 7,
    "start_time": "2022-05-14T11:43:41.826Z"
   },
   {
    "duration": 6,
    "start_time": "2022-05-14T11:44:17.392Z"
   },
   {
    "duration": 11,
    "start_time": "2022-05-14T11:44:31.610Z"
   },
   {
    "duration": 6,
    "start_time": "2022-05-14T11:44:45.205Z"
   },
   {
    "duration": 5,
    "start_time": "2022-05-14T11:44:54.676Z"
   },
   {
    "duration": 6,
    "start_time": "2022-05-14T11:44:58.372Z"
   },
   {
    "duration": 4,
    "start_time": "2022-05-14T11:45:12.861Z"
   },
   {
    "duration": 3,
    "start_time": "2022-05-14T11:45:16.319Z"
   },
   {
    "duration": 4,
    "start_time": "2022-05-14T11:45:17.600Z"
   },
   {
    "duration": 11,
    "start_time": "2022-05-14T11:45:20.783Z"
   },
   {
    "duration": 11,
    "start_time": "2022-05-14T11:45:25.801Z"
   },
   {
    "duration": 12,
    "start_time": "2022-05-14T11:46:02.590Z"
   },
   {
    "duration": 6,
    "start_time": "2022-05-14T11:46:09.061Z"
   },
   {
    "duration": 9,
    "start_time": "2022-05-14T11:46:36.187Z"
   },
   {
    "duration": 4,
    "start_time": "2022-05-14T11:47:10.247Z"
   },
   {
    "duration": 6,
    "start_time": "2022-05-14T11:49:21.202Z"
   },
   {
    "duration": 6,
    "start_time": "2022-05-14T11:49:28.656Z"
   },
   {
    "duration": 6,
    "start_time": "2022-05-14T11:49:37.805Z"
   },
   {
    "duration": 5,
    "start_time": "2022-05-14T11:49:55.936Z"
   },
   {
    "duration": 5,
    "start_time": "2022-05-14T11:52:12.568Z"
   },
   {
    "duration": 4,
    "start_time": "2022-05-14T11:52:15.227Z"
   },
   {
    "duration": 6,
    "start_time": "2022-05-14T11:52:16.680Z"
   },
   {
    "duration": 9385,
    "start_time": "2022-05-14T11:52:54.799Z"
   },
   {
    "duration": 53,
    "start_time": "2022-05-14T12:14:32.579Z"
   },
   {
    "duration": 59,
    "start_time": "2022-05-14T12:14:51.373Z"
   },
   {
    "duration": 8,
    "start_time": "2022-05-14T12:35:05.939Z"
   },
   {
    "duration": 244,
    "start_time": "2022-05-14T12:38:51.705Z"
   },
   {
    "duration": 227,
    "start_time": "2022-05-14T12:40:11.284Z"
   },
   {
    "duration": 1768,
    "start_time": "2022-05-14T12:40:22.418Z"
   },
   {
    "duration": 1563,
    "start_time": "2022-05-14T17:05:35.310Z"
   },
   {
    "duration": 57,
    "start_time": "2022-05-14T17:05:36.876Z"
   },
   {
    "duration": 43,
    "start_time": "2022-05-14T17:05:36.936Z"
   },
   {
    "duration": 47,
    "start_time": "2022-05-14T17:05:36.983Z"
   },
   {
    "duration": 7,
    "start_time": "2022-05-14T17:05:37.033Z"
   },
   {
    "duration": 20,
    "start_time": "2022-05-14T17:05:37.042Z"
   },
   {
    "duration": 9,
    "start_time": "2022-05-14T17:05:37.064Z"
   },
   {
    "duration": 6,
    "start_time": "2022-05-14T17:05:37.075Z"
   },
   {
    "duration": 60,
    "start_time": "2022-05-14T17:05:37.084Z"
   },
   {
    "duration": 6,
    "start_time": "2022-05-14T17:05:37.148Z"
   },
   {
    "duration": 12,
    "start_time": "2022-05-14T17:05:37.157Z"
   },
   {
    "duration": 11,
    "start_time": "2022-05-14T17:05:37.171Z"
   },
   {
    "duration": 49,
    "start_time": "2022-05-14T17:05:37.184Z"
   },
   {
    "duration": 20,
    "start_time": "2022-05-14T17:05:37.235Z"
   },
   {
    "duration": 6,
    "start_time": "2022-05-14T17:05:37.257Z"
   },
   {
    "duration": 61,
    "start_time": "2022-05-14T17:05:37.265Z"
   },
   {
    "duration": 455,
    "start_time": "2022-05-14T17:05:37.328Z"
   },
   {
    "duration": 526,
    "start_time": "2022-05-14T17:05:37.786Z"
   },
   {
    "duration": 10,
    "start_time": "2022-05-14T17:05:38.315Z"
   },
   {
    "duration": 8,
    "start_time": "2022-05-14T17:05:38.328Z"
   },
   {
    "duration": 175,
    "start_time": "2022-05-14T17:05:38.338Z"
   },
   {
    "duration": 0,
    "start_time": "2022-05-14T17:05:38.515Z"
   },
   {
    "duration": 8198,
    "start_time": "2022-05-14T17:07:30.384Z"
   },
   {
    "duration": 5,
    "start_time": "2022-05-14T17:07:46.431Z"
   },
   {
    "duration": 244,
    "start_time": "2022-05-14T17:14:36.936Z"
   },
   {
    "duration": 1544,
    "start_time": "2022-05-14T17:15:33.521Z"
   },
   {
    "duration": 50,
    "start_time": "2022-05-14T17:15:35.067Z"
   },
   {
    "duration": 37,
    "start_time": "2022-05-14T17:15:35.123Z"
   },
   {
    "duration": 20,
    "start_time": "2022-05-14T17:15:35.163Z"
   },
   {
    "duration": 9,
    "start_time": "2022-05-14T17:15:35.185Z"
   },
   {
    "duration": 14,
    "start_time": "2022-05-14T17:15:35.224Z"
   },
   {
    "duration": 10,
    "start_time": "2022-05-14T17:15:35.240Z"
   },
   {
    "duration": 11,
    "start_time": "2022-05-14T17:15:35.252Z"
   },
   {
    "duration": 22,
    "start_time": "2022-05-14T17:15:35.265Z"
   },
   {
    "duration": 38,
    "start_time": "2022-05-14T17:15:35.291Z"
   },
   {
    "duration": 12,
    "start_time": "2022-05-14T17:15:35.331Z"
   },
   {
    "duration": 10,
    "start_time": "2022-05-14T17:15:35.345Z"
   },
   {
    "duration": 22,
    "start_time": "2022-05-14T17:15:35.358Z"
   },
   {
    "duration": 50,
    "start_time": "2022-05-14T17:15:35.382Z"
   },
   {
    "duration": 6,
    "start_time": "2022-05-14T17:15:35.435Z"
   },
   {
    "duration": 35,
    "start_time": "2022-05-14T17:15:35.443Z"
   },
   {
    "duration": 439,
    "start_time": "2022-05-14T17:15:35.480Z"
   },
   {
    "duration": 514,
    "start_time": "2022-05-14T17:15:35.925Z"
   },
   {
    "duration": 4,
    "start_time": "2022-05-14T17:15:36.442Z"
   },
   {
    "duration": 9,
    "start_time": "2022-05-14T17:15:36.448Z"
   },
   {
    "duration": 8368,
    "start_time": "2022-05-14T17:15:36.459Z"
   },
   {
    "duration": 15,
    "start_time": "2022-05-14T17:15:44.830Z"
   },
   {
    "duration": 472,
    "start_time": "2022-05-14T17:15:44.848Z"
   },
   {
    "duration": 242,
    "start_time": "2022-05-14T17:17:36.373Z"
   },
   {
    "duration": 248,
    "start_time": "2022-05-14T17:18:00.485Z"
   },
   {
    "duration": 1638,
    "start_time": "2022-05-14T17:23:44.430Z"
   },
   {
    "duration": 55,
    "start_time": "2022-05-14T17:23:46.071Z"
   },
   {
    "duration": 37,
    "start_time": "2022-05-14T17:23:46.129Z"
   },
   {
    "duration": 22,
    "start_time": "2022-05-14T17:23:46.168Z"
   },
   {
    "duration": 35,
    "start_time": "2022-05-14T17:23:46.194Z"
   },
   {
    "duration": 18,
    "start_time": "2022-05-14T17:23:46.231Z"
   },
   {
    "duration": 12,
    "start_time": "2022-05-14T17:23:46.252Z"
   },
   {
    "duration": 13,
    "start_time": "2022-05-14T17:23:46.267Z"
   },
   {
    "duration": 52,
    "start_time": "2022-05-14T17:23:46.284Z"
   },
   {
    "duration": 6,
    "start_time": "2022-05-14T17:23:46.339Z"
   },
   {
    "duration": 13,
    "start_time": "2022-05-14T17:23:46.347Z"
   },
   {
    "duration": 19,
    "start_time": "2022-05-14T17:23:46.363Z"
   },
   {
    "duration": 46,
    "start_time": "2022-05-14T17:23:46.384Z"
   },
   {
    "duration": 21,
    "start_time": "2022-05-14T17:23:46.435Z"
   },
   {
    "duration": 9,
    "start_time": "2022-05-14T17:23:46.458Z"
   },
   {
    "duration": 64,
    "start_time": "2022-05-14T17:23:46.469Z"
   },
   {
    "duration": 444,
    "start_time": "2022-05-14T17:23:46.536Z"
   },
   {
    "duration": 633,
    "start_time": "2022-05-14T17:23:46.982Z"
   },
   {
    "duration": 8,
    "start_time": "2022-05-14T17:23:47.618Z"
   },
   {
    "duration": 7,
    "start_time": "2022-05-14T17:23:47.628Z"
   },
   {
    "duration": 8423,
    "start_time": "2022-05-14T17:23:47.637Z"
   },
   {
    "duration": 7,
    "start_time": "2022-05-14T17:23:56.063Z"
   },
   {
    "duration": 102,
    "start_time": "2022-05-14T17:23:56.073Z"
   },
   {
    "duration": 1867,
    "start_time": "2022-05-14T17:24:29.968Z"
   },
   {
    "duration": 106,
    "start_time": "2022-05-14T17:24:38.599Z"
   },
   {
    "duration": 16,
    "start_time": "2022-05-14T17:24:49.365Z"
   },
   {
    "duration": 17,
    "start_time": "2022-05-14T17:24:59.278Z"
   },
   {
    "duration": 8,
    "start_time": "2022-05-14T17:25:14.779Z"
   },
   {
    "duration": 369,
    "start_time": "2022-05-14T17:30:13.234Z"
   },
   {
    "duration": 248,
    "start_time": "2022-05-14T17:30:42.999Z"
   },
   {
    "duration": 236,
    "start_time": "2022-05-14T17:30:49.522Z"
   },
   {
    "duration": 237,
    "start_time": "2022-05-14T17:31:51.009Z"
   },
   {
    "duration": 679,
    "start_time": "2022-05-14T17:32:51.928Z"
   },
   {
    "duration": 5,
    "start_time": "2022-05-14T17:32:57.384Z"
   },
   {
    "duration": 247,
    "start_time": "2022-05-14T17:33:01.453Z"
   },
   {
    "duration": 5,
    "start_time": "2022-05-14T17:33:18.516Z"
   },
   {
    "duration": 4374,
    "start_time": "2022-05-14T17:33:21.080Z"
   },
   {
    "duration": 6,
    "start_time": "2022-05-14T17:34:14.282Z"
   },
   {
    "duration": 4623,
    "start_time": "2022-05-14T17:34:16.869Z"
   },
   {
    "duration": 5,
    "start_time": "2022-05-14T17:35:14.371Z"
   },
   {
    "duration": 4409,
    "start_time": "2022-05-14T17:35:17.453Z"
   },
   {
    "duration": 1564,
    "start_time": "2022-05-14T17:35:36.307Z"
   },
   {
    "duration": 56,
    "start_time": "2022-05-14T17:35:37.874Z"
   },
   {
    "duration": 36,
    "start_time": "2022-05-14T17:35:37.932Z"
   },
   {
    "duration": 22,
    "start_time": "2022-05-14T17:35:37.971Z"
   },
   {
    "duration": 7,
    "start_time": "2022-05-14T17:35:38.024Z"
   },
   {
    "duration": 21,
    "start_time": "2022-05-14T17:35:38.034Z"
   },
   {
    "duration": 12,
    "start_time": "2022-05-14T17:35:38.057Z"
   },
   {
    "duration": 26,
    "start_time": "2022-05-14T17:35:38.072Z"
   },
   {
    "duration": 41,
    "start_time": "2022-05-14T17:35:38.100Z"
   },
   {
    "duration": 20,
    "start_time": "2022-05-14T17:35:38.146Z"
   },
   {
    "duration": 24,
    "start_time": "2022-05-14T17:35:38.168Z"
   },
   {
    "duration": 34,
    "start_time": "2022-05-14T17:35:38.195Z"
   },
   {
    "duration": 42,
    "start_time": "2022-05-14T17:35:38.232Z"
   },
   {
    "duration": 38,
    "start_time": "2022-05-14T17:35:38.276Z"
   },
   {
    "duration": 6,
    "start_time": "2022-05-14T17:35:38.317Z"
   },
   {
    "duration": 55,
    "start_time": "2022-05-14T17:35:38.326Z"
   },
   {
    "duration": 428,
    "start_time": "2022-05-14T17:35:38.384Z"
   },
   {
    "duration": 500,
    "start_time": "2022-05-14T17:35:38.815Z"
   },
   {
    "duration": 4,
    "start_time": "2022-05-14T17:35:39.324Z"
   },
   {
    "duration": 10,
    "start_time": "2022-05-14T17:35:39.330Z"
   },
   {
    "duration": 8120,
    "start_time": "2022-05-14T17:35:39.343Z"
   },
   {
    "duration": 7,
    "start_time": "2022-05-14T17:35:47.466Z"
   },
   {
    "duration": 13,
    "start_time": "2022-05-14T17:35:47.475Z"
   },
   {
    "duration": 5459,
    "start_time": "2022-05-14T17:35:47.490Z"
   },
   {
    "duration": 2345,
    "start_time": "2022-05-14T17:37:28.997Z"
   },
   {
    "duration": 5213,
    "start_time": "2022-05-14T17:38:32.311Z"
   },
   {
    "duration": 5,
    "start_time": "2022-05-14T17:40:31.650Z"
   },
   {
    "duration": 18,
    "start_time": "2022-05-14T17:40:32.931Z"
   },
   {
    "duration": 1791,
    "start_time": "2022-05-14T17:40:36.455Z"
   },
   {
    "duration": 1912,
    "start_time": "2022-05-14T17:41:21.053Z"
   },
   {
    "duration": 1589,
    "start_time": "2022-05-14T17:41:33.690Z"
   },
   {
    "duration": 55,
    "start_time": "2022-05-14T17:41:35.281Z"
   },
   {
    "duration": 36,
    "start_time": "2022-05-14T17:41:35.339Z"
   },
   {
    "duration": 21,
    "start_time": "2022-05-14T17:41:35.377Z"
   },
   {
    "duration": 6,
    "start_time": "2022-05-14T17:41:35.424Z"
   },
   {
    "duration": 16,
    "start_time": "2022-05-14T17:41:35.432Z"
   },
   {
    "duration": 29,
    "start_time": "2022-05-14T17:41:35.451Z"
   },
   {
    "duration": 12,
    "start_time": "2022-05-14T17:41:35.483Z"
   },
   {
    "duration": 43,
    "start_time": "2022-05-14T17:41:35.498Z"
   },
   {
    "duration": 7,
    "start_time": "2022-05-14T17:41:35.544Z"
   },
   {
    "duration": 13,
    "start_time": "2022-05-14T17:41:35.554Z"
   },
   {
    "duration": 13,
    "start_time": "2022-05-14T17:41:35.570Z"
   },
   {
    "duration": 49,
    "start_time": "2022-05-14T17:41:35.586Z"
   },
   {
    "duration": 23,
    "start_time": "2022-05-14T17:41:35.639Z"
   },
   {
    "duration": 7,
    "start_time": "2022-05-14T17:41:35.664Z"
   },
   {
    "duration": 62,
    "start_time": "2022-05-14T17:41:35.673Z"
   },
   {
    "duration": 436,
    "start_time": "2022-05-14T17:41:35.737Z"
   },
   {
    "duration": 506,
    "start_time": "2022-05-14T17:41:36.176Z"
   },
   {
    "duration": 4,
    "start_time": "2022-05-14T17:41:36.684Z"
   },
   {
    "duration": 8,
    "start_time": "2022-05-14T17:41:36.691Z"
   },
   {
    "duration": 8035,
    "start_time": "2022-05-14T17:41:36.702Z"
   },
   {
    "duration": 7,
    "start_time": "2022-05-14T17:41:44.740Z"
   },
   {
    "duration": 6,
    "start_time": "2022-05-14T17:41:44.749Z"
   },
   {
    "duration": 24,
    "start_time": "2022-05-14T17:41:44.758Z"
   },
   {
    "duration": 1944,
    "start_time": "2022-05-14T17:41:44.785Z"
   },
   {
    "duration": 1477,
    "start_time": "2022-05-14T17:44:17.937Z"
   },
   {
    "duration": 48,
    "start_time": "2022-05-14T17:44:19.417Z"
   },
   {
    "duration": 35,
    "start_time": "2022-05-14T17:44:19.467Z"
   },
   {
    "duration": 35,
    "start_time": "2022-05-14T17:44:19.505Z"
   },
   {
    "duration": 7,
    "start_time": "2022-05-14T17:44:19.542Z"
   },
   {
    "duration": 18,
    "start_time": "2022-05-14T17:44:19.551Z"
   },
   {
    "duration": 25,
    "start_time": "2022-05-14T17:44:19.572Z"
   },
   {
    "duration": 25,
    "start_time": "2022-05-14T17:44:19.599Z"
   },
   {
    "duration": 22,
    "start_time": "2022-05-14T17:44:19.627Z"
   },
   {
    "duration": 20,
    "start_time": "2022-05-14T17:44:19.654Z"
   },
   {
    "duration": 18,
    "start_time": "2022-05-14T17:44:19.676Z"
   },
   {
    "duration": 9,
    "start_time": "2022-05-14T17:44:19.696Z"
   },
   {
    "duration": 37,
    "start_time": "2022-05-14T17:44:19.708Z"
   },
   {
    "duration": 23,
    "start_time": "2022-05-14T17:44:19.748Z"
   },
   {
    "duration": 7,
    "start_time": "2022-05-14T17:44:19.773Z"
   },
   {
    "duration": 69,
    "start_time": "2022-05-14T17:44:19.783Z"
   },
   {
    "duration": 432,
    "start_time": "2022-05-14T17:44:19.854Z"
   },
   {
    "duration": 522,
    "start_time": "2022-05-14T17:44:20.289Z"
   },
   {
    "duration": 3,
    "start_time": "2022-05-14T17:44:20.814Z"
   },
   {
    "duration": 8,
    "start_time": "2022-05-14T17:44:20.824Z"
   },
   {
    "duration": 8280,
    "start_time": "2022-05-14T17:44:20.834Z"
   },
   {
    "duration": 9,
    "start_time": "2022-05-14T17:44:29.117Z"
   },
   {
    "duration": 22,
    "start_time": "2022-05-14T17:44:29.128Z"
   },
   {
    "duration": 4017,
    "start_time": "2022-05-14T17:44:29.152Z"
   },
   {
    "duration": 12,
    "start_time": "2022-05-14T17:49:17.241Z"
   },
   {
    "duration": 17,
    "start_time": "2022-05-14T17:49:22.977Z"
   },
   {
    "duration": 1762,
    "start_time": "2022-05-14T17:50:33.838Z"
   },
   {
    "duration": 795,
    "start_time": "2022-05-14T17:52:04.121Z"
   },
   {
    "duration": 361,
    "start_time": "2022-05-14T17:54:06.657Z"
   },
   {
    "duration": 346,
    "start_time": "2022-05-14T17:54:37.978Z"
   },
   {
    "duration": 24,
    "start_time": "2022-05-14T17:56:23.591Z"
   },
   {
    "duration": 374,
    "start_time": "2022-05-14T17:57:00.585Z"
   },
   {
    "duration": 17,
    "start_time": "2022-05-14T17:59:23.138Z"
   },
   {
    "duration": 16,
    "start_time": "2022-05-14T18:01:46.206Z"
   },
   {
    "duration": 27,
    "start_time": "2022-05-14T18:01:59.461Z"
   },
   {
    "duration": 24,
    "start_time": "2022-05-14T18:02:13.745Z"
   },
   {
    "duration": 23,
    "start_time": "2022-05-14T18:05:47.311Z"
   },
   {
    "duration": 13,
    "start_time": "2022-05-14T18:06:04.055Z"
   },
   {
    "duration": 24,
    "start_time": "2022-05-14T18:06:10.925Z"
   },
   {
    "duration": 16,
    "start_time": "2022-05-14T18:12:36.770Z"
   },
   {
    "duration": 26,
    "start_time": "2022-05-14T18:12:43.558Z"
   },
   {
    "duration": 25,
    "start_time": "2022-05-14T18:12:52.586Z"
   },
   {
    "duration": 640,
    "start_time": "2022-05-14T18:13:07.058Z"
   },
   {
    "duration": 362,
    "start_time": "2022-05-14T18:13:37.306Z"
   },
   {
    "duration": 632,
    "start_time": "2022-05-14T18:14:57.210Z"
   },
   {
    "duration": 15,
    "start_time": "2022-05-14T18:15:24.563Z"
   },
   {
    "duration": 16,
    "start_time": "2022-05-14T18:15:41.399Z"
   },
   {
    "duration": 17,
    "start_time": "2022-05-14T18:15:44.404Z"
   },
   {
    "duration": 145,
    "start_time": "2022-05-14T18:15:51.416Z"
   },
   {
    "duration": 15,
    "start_time": "2022-05-14T18:16:39.925Z"
   },
   {
    "duration": 23,
    "start_time": "2022-05-14T18:16:58.870Z"
   },
   {
    "duration": 450,
    "start_time": "2022-05-14T18:17:07.912Z"
   },
   {
    "duration": 22,
    "start_time": "2022-05-14T18:19:00.709Z"
   },
   {
    "duration": 18,
    "start_time": "2022-05-14T18:31:19.894Z"
   },
   {
    "duration": 418,
    "start_time": "2022-05-14T18:31:27.814Z"
   },
   {
    "duration": 17,
    "start_time": "2022-05-14T18:34:44.473Z"
   },
   {
    "duration": 23,
    "start_time": "2022-05-14T18:34:52.021Z"
   },
   {
    "duration": 483,
    "start_time": "2022-05-14T18:35:07.051Z"
   },
   {
    "duration": 504,
    "start_time": "2022-05-14T18:35:59.840Z"
   },
   {
    "duration": 98,
    "start_time": "2022-05-14T18:36:56.155Z"
   },
   {
    "duration": 503,
    "start_time": "2022-05-14T18:37:01.208Z"
   },
   {
    "duration": 510,
    "start_time": "2022-05-14T18:37:10.900Z"
   },
   {
    "duration": 586,
    "start_time": "2022-05-14T18:37:46.728Z"
   },
   {
    "duration": 1447,
    "start_time": "2022-05-14T18:37:57.157Z"
   },
   {
    "duration": 53,
    "start_time": "2022-05-14T18:37:58.607Z"
   },
   {
    "duration": 36,
    "start_time": "2022-05-14T18:37:58.663Z"
   },
   {
    "duration": 31,
    "start_time": "2022-05-14T18:37:58.701Z"
   },
   {
    "duration": 8,
    "start_time": "2022-05-14T18:37:58.734Z"
   },
   {
    "duration": 14,
    "start_time": "2022-05-14T18:37:58.744Z"
   },
   {
    "duration": 15,
    "start_time": "2022-05-14T18:37:58.760Z"
   },
   {
    "duration": 7,
    "start_time": "2022-05-14T18:37:58.777Z"
   },
   {
    "duration": 54,
    "start_time": "2022-05-14T18:37:58.786Z"
   },
   {
    "duration": 7,
    "start_time": "2022-05-14T18:37:58.843Z"
   },
   {
    "duration": 12,
    "start_time": "2022-05-14T18:37:58.852Z"
   },
   {
    "duration": 9,
    "start_time": "2022-05-14T18:37:58.866Z"
   },
   {
    "duration": 47,
    "start_time": "2022-05-14T18:37:58.877Z"
   },
   {
    "duration": 21,
    "start_time": "2022-05-14T18:37:58.927Z"
   },
   {
    "duration": 6,
    "start_time": "2022-05-14T18:37:58.951Z"
   },
   {
    "duration": 66,
    "start_time": "2022-05-14T18:37:58.961Z"
   },
   {
    "duration": 425,
    "start_time": "2022-05-14T18:37:59.029Z"
   },
   {
    "duration": 507,
    "start_time": "2022-05-14T18:37:59.457Z"
   },
   {
    "duration": 4,
    "start_time": "2022-05-14T18:37:59.967Z"
   },
   {
    "duration": 8,
    "start_time": "2022-05-14T18:37:59.974Z"
   },
   {
    "duration": 8162,
    "start_time": "2022-05-14T18:37:59.984Z"
   },
   {
    "duration": 7,
    "start_time": "2022-05-14T18:38:08.149Z"
   },
   {
    "duration": 477,
    "start_time": "2022-05-14T18:38:08.158Z"
   },
   {
    "duration": 481,
    "start_time": "2022-05-14T18:38:08.637Z"
   },
   {
    "duration": 50,
    "start_time": "2022-05-15T07:27:05.014Z"
   },
   {
    "duration": 1303,
    "start_time": "2022-05-15T07:27:55.876Z"
   },
   {
    "duration": 38,
    "start_time": "2022-05-15T07:27:57.181Z"
   },
   {
    "duration": 29,
    "start_time": "2022-05-15T07:27:57.221Z"
   },
   {
    "duration": 14,
    "start_time": "2022-05-15T07:27:57.253Z"
   },
   {
    "duration": 4,
    "start_time": "2022-05-15T07:27:57.269Z"
   },
   {
    "duration": 24,
    "start_time": "2022-05-15T07:27:57.274Z"
   },
   {
    "duration": 9,
    "start_time": "2022-05-15T07:27:57.300Z"
   },
   {
    "duration": 24,
    "start_time": "2022-05-15T07:27:57.311Z"
   },
   {
    "duration": 21,
    "start_time": "2022-05-15T07:27:57.337Z"
   },
   {
    "duration": 5,
    "start_time": "2022-05-15T07:27:57.361Z"
   },
   {
    "duration": 12,
    "start_time": "2022-05-15T07:27:57.367Z"
   },
   {
    "duration": 13,
    "start_time": "2022-05-15T07:27:57.381Z"
   },
   {
    "duration": 28,
    "start_time": "2022-05-15T07:27:57.396Z"
   },
   {
    "duration": 19,
    "start_time": "2022-05-15T07:27:57.426Z"
   },
   {
    "duration": 12,
    "start_time": "2022-05-15T07:27:57.447Z"
   },
   {
    "duration": 24,
    "start_time": "2022-05-15T07:27:57.461Z"
   },
   {
    "duration": 226,
    "start_time": "2022-05-15T07:27:57.487Z"
   },
   {
    "duration": 274,
    "start_time": "2022-05-15T07:27:57.714Z"
   },
   {
    "duration": 2,
    "start_time": "2022-05-15T07:27:57.990Z"
   },
   {
    "duration": 7,
    "start_time": "2022-05-15T07:27:57.994Z"
   },
   {
    "duration": 4664,
    "start_time": "2022-05-15T07:27:58.002Z"
   },
   {
    "duration": 4,
    "start_time": "2022-05-15T07:28:02.669Z"
   },
   {
    "duration": 192,
    "start_time": "2022-05-15T07:28:02.675Z"
   },
   {
    "duration": 238,
    "start_time": "2022-05-15T07:28:02.869Z"
   },
   {
    "duration": 5,
    "start_time": "2022-05-15T07:28:20.199Z"
   },
   {
    "duration": 166,
    "start_time": "2022-05-15T07:28:22.438Z"
   },
   {
    "duration": 1228,
    "start_time": "2022-05-15T07:28:54.715Z"
   },
   {
    "duration": 37,
    "start_time": "2022-05-15T07:28:55.945Z"
   },
   {
    "duration": 22,
    "start_time": "2022-05-15T07:28:55.984Z"
   },
   {
    "duration": 14,
    "start_time": "2022-05-15T07:28:56.007Z"
   },
   {
    "duration": 4,
    "start_time": "2022-05-15T07:28:56.042Z"
   },
   {
    "duration": 14,
    "start_time": "2022-05-15T07:28:56.048Z"
   },
   {
    "duration": 14,
    "start_time": "2022-05-15T07:28:56.063Z"
   },
   {
    "duration": 6,
    "start_time": "2022-05-15T07:28:56.078Z"
   },
   {
    "duration": 21,
    "start_time": "2022-05-15T07:28:56.086Z"
   },
   {
    "duration": 4,
    "start_time": "2022-05-15T07:28:56.109Z"
   },
   {
    "duration": 29,
    "start_time": "2022-05-15T07:28:56.115Z"
   },
   {
    "duration": 8,
    "start_time": "2022-05-15T07:28:56.145Z"
   },
   {
    "duration": 15,
    "start_time": "2022-05-15T07:28:56.155Z"
   },
   {
    "duration": 18,
    "start_time": "2022-05-15T07:28:56.172Z"
   },
   {
    "duration": 13,
    "start_time": "2022-05-15T07:28:56.191Z"
   },
   {
    "duration": 35,
    "start_time": "2022-05-15T07:28:56.205Z"
   },
   {
    "duration": 235,
    "start_time": "2022-05-15T07:28:56.243Z"
   },
   {
    "duration": 268,
    "start_time": "2022-05-15T07:28:56.480Z"
   },
   {
    "duration": 2,
    "start_time": "2022-05-15T07:28:56.750Z"
   },
   {
    "duration": 19,
    "start_time": "2022-05-15T07:28:56.753Z"
   },
   {
    "duration": 4690,
    "start_time": "2022-05-15T07:28:56.773Z"
   },
   {
    "duration": 4,
    "start_time": "2022-05-15T07:29:01.465Z"
   },
   {
    "duration": 201,
    "start_time": "2022-05-15T07:29:01.471Z"
   },
   {
    "duration": 257,
    "start_time": "2022-05-15T07:29:01.673Z"
   },
   {
    "duration": 428,
    "start_time": "2022-05-15T07:32:43.251Z"
   },
   {
    "duration": 756,
    "start_time": "2022-05-15T07:33:33.063Z"
   },
   {
    "duration": 350,
    "start_time": "2022-05-15T07:33:51.734Z"
   },
   {
    "duration": 357,
    "start_time": "2022-05-15T07:34:14.837Z"
   },
   {
    "duration": 454,
    "start_time": "2022-05-15T07:34:25.529Z"
   },
   {
    "duration": 1123,
    "start_time": "2022-05-15T08:00:32.468Z"
   },
   {
    "duration": 41,
    "start_time": "2022-05-15T08:00:33.593Z"
   },
   {
    "duration": 22,
    "start_time": "2022-05-15T08:00:33.636Z"
   },
   {
    "duration": 14,
    "start_time": "2022-05-15T08:00:33.661Z"
   },
   {
    "duration": 4,
    "start_time": "2022-05-15T08:00:33.676Z"
   },
   {
    "duration": 15,
    "start_time": "2022-05-15T08:00:33.681Z"
   },
   {
    "duration": 6,
    "start_time": "2022-05-15T08:00:33.697Z"
   },
   {
    "duration": 7,
    "start_time": "2022-05-15T08:00:33.704Z"
   },
   {
    "duration": 37,
    "start_time": "2022-05-15T08:00:33.712Z"
   },
   {
    "duration": 4,
    "start_time": "2022-05-15T08:00:33.752Z"
   },
   {
    "duration": 8,
    "start_time": "2022-05-15T08:00:33.758Z"
   },
   {
    "duration": 8,
    "start_time": "2022-05-15T08:00:33.767Z"
   },
   {
    "duration": 15,
    "start_time": "2022-05-15T08:00:33.776Z"
   },
   {
    "duration": 13,
    "start_time": "2022-05-15T08:00:33.793Z"
   },
   {
    "duration": 4,
    "start_time": "2022-05-15T08:00:33.808Z"
   },
   {
    "duration": 45,
    "start_time": "2022-05-15T08:00:33.813Z"
   },
   {
    "duration": 222,
    "start_time": "2022-05-15T08:00:33.860Z"
   },
   {
    "duration": 267,
    "start_time": "2022-05-15T08:00:34.083Z"
   },
   {
    "duration": 3,
    "start_time": "2022-05-15T08:00:34.353Z"
   },
   {
    "duration": 5,
    "start_time": "2022-05-15T08:00:34.358Z"
   },
   {
    "duration": 4445,
    "start_time": "2022-05-15T08:00:34.364Z"
   },
   {
    "duration": 6,
    "start_time": "2022-05-15T08:00:38.812Z"
   },
   {
    "duration": 184,
    "start_time": "2022-05-15T08:00:38.819Z"
   },
   {
    "duration": 291,
    "start_time": "2022-05-15T08:00:39.005Z"
   },
   {
    "duration": 100,
    "start_time": "2022-05-15T08:01:59.774Z"
   },
   {
    "duration": 1811,
    "start_time": "2022-05-15T08:02:11.284Z"
   },
   {
    "duration": 1649,
    "start_time": "2022-05-15T08:05:37.664Z"
   },
   {
    "duration": 1572,
    "start_time": "2022-05-15T08:06:03.265Z"
   },
   {
    "duration": 17,
    "start_time": "2022-05-15T08:06:49.489Z"
   },
   {
    "duration": 17,
    "start_time": "2022-05-15T08:06:56.609Z"
   },
   {
    "duration": 16,
    "start_time": "2022-05-15T08:07:13.175Z"
   },
   {
    "duration": 22,
    "start_time": "2022-05-15T08:07:50.695Z"
   },
   {
    "duration": 13,
    "start_time": "2022-05-15T08:08:00.089Z"
   },
   {
    "duration": 1717,
    "start_time": "2022-05-15T08:08:10.176Z"
   },
   {
    "duration": 11,
    "start_time": "2022-05-15T08:08:15.178Z"
   },
   {
    "duration": 2,
    "start_time": "2022-05-15T08:18:24.816Z"
   },
   {
    "duration": 4,
    "start_time": "2022-05-15T08:24:23.462Z"
   },
   {
    "duration": 4,
    "start_time": "2022-05-15T08:25:19.871Z"
   },
   {
    "duration": 3,
    "start_time": "2022-05-15T08:25:22.616Z"
   },
   {
    "duration": 1604,
    "start_time": "2022-05-15T08:25:23.825Z"
   },
   {
    "duration": 4,
    "start_time": "2022-05-15T08:26:04.858Z"
   },
   {
    "duration": 1733,
    "start_time": "2022-05-15T08:26:10.693Z"
   },
   {
    "duration": 3,
    "start_time": "2022-05-15T08:26:39.211Z"
   },
   {
    "duration": 3,
    "start_time": "2022-05-15T08:26:46.047Z"
   },
   {
    "duration": 1754,
    "start_time": "2022-05-15T08:26:48.547Z"
   },
   {
    "duration": 6363,
    "start_time": "2022-05-15T08:27:42.671Z"
   },
   {
    "duration": 11,
    "start_time": "2022-05-15T08:36:50.648Z"
   },
   {
    "duration": 325,
    "start_time": "2022-05-15T08:37:49.343Z"
   },
   {
    "duration": 196,
    "start_time": "2022-05-15T08:37:56.950Z"
   },
   {
    "duration": 197,
    "start_time": "2022-05-15T08:39:33.246Z"
   },
   {
    "duration": 9,
    "start_time": "2022-05-15T08:43:33.811Z"
   },
   {
    "duration": 135,
    "start_time": "2022-05-15T08:43:38.063Z"
   },
   {
    "duration": 5,
    "start_time": "2022-05-15T08:43:49.283Z"
   },
   {
    "duration": 207,
    "start_time": "2022-05-15T08:43:51.653Z"
   },
   {
    "duration": 210,
    "start_time": "2022-05-15T08:43:55.003Z"
   },
   {
    "duration": 4,
    "start_time": "2022-05-15T08:44:25.580Z"
   },
   {
    "duration": 191,
    "start_time": "2022-05-15T08:44:53.727Z"
   },
   {
    "duration": 195,
    "start_time": "2022-05-15T08:44:55.595Z"
   },
   {
    "duration": 4,
    "start_time": "2022-05-15T08:45:03.655Z"
   },
   {
    "duration": 205,
    "start_time": "2022-05-15T08:45:04.846Z"
   },
   {
    "duration": 189,
    "start_time": "2022-05-15T08:45:06.974Z"
   },
   {
    "duration": 4,
    "start_time": "2022-05-15T09:01:22.783Z"
   },
   {
    "duration": 371,
    "start_time": "2022-05-15T09:01:56.517Z"
   },
   {
    "duration": 4,
    "start_time": "2022-05-15T09:02:35.146Z"
   },
   {
    "duration": 790,
    "start_time": "2022-05-15T09:02:36.842Z"
   },
   {
    "duration": 471,
    "start_time": "2022-05-15T09:03:09.735Z"
   },
   {
    "duration": 4,
    "start_time": "2022-05-15T09:03:42.009Z"
   },
   {
    "duration": 390,
    "start_time": "2022-05-15T09:03:43.419Z"
   },
   {
    "duration": 363,
    "start_time": "2022-05-15T09:16:09.441Z"
   },
   {
    "duration": 5,
    "start_time": "2022-05-15T09:16:46.764Z"
   },
   {
    "duration": 4,
    "start_time": "2022-05-15T09:17:43.362Z"
   },
   {
    "duration": 364,
    "start_time": "2022-05-15T09:17:45.470Z"
   },
   {
    "duration": 503,
    "start_time": "2022-05-15T09:17:48.489Z"
   },
   {
    "duration": 367,
    "start_time": "2022-05-15T09:27:46.624Z"
   },
   {
    "duration": 17,
    "start_time": "2022-05-15T10:27:01.032Z"
   },
   {
    "duration": 3,
    "start_time": "2022-05-15T10:27:27.670Z"
   },
   {
    "duration": 12,
    "start_time": "2022-05-15T10:27:32.552Z"
   },
   {
    "duration": 12,
    "start_time": "2022-05-15T10:29:20.892Z"
   },
   {
    "duration": 12,
    "start_time": "2022-05-15T10:43:42.285Z"
   },
   {
    "duration": 13,
    "start_time": "2022-05-15T10:45:03.897Z"
   },
   {
    "duration": 13,
    "start_time": "2022-05-15T10:45:20.601Z"
   },
   {
    "duration": 13,
    "start_time": "2022-05-15T10:45:27.327Z"
   },
   {
    "duration": 12,
    "start_time": "2022-05-15T10:51:13.988Z"
   },
   {
    "duration": 13,
    "start_time": "2022-05-15T10:52:34.275Z"
   },
   {
    "duration": 1168,
    "start_time": "2022-05-15T11:21:30.707Z"
   },
   {
    "duration": 44,
    "start_time": "2022-05-15T11:21:31.877Z"
   },
   {
    "duration": 23,
    "start_time": "2022-05-15T11:21:31.922Z"
   },
   {
    "duration": 13,
    "start_time": "2022-05-15T11:21:31.947Z"
   },
   {
    "duration": 8,
    "start_time": "2022-05-15T11:21:31.962Z"
   },
   {
    "duration": 37,
    "start_time": "2022-05-15T11:21:31.971Z"
   },
   {
    "duration": 13,
    "start_time": "2022-05-15T11:21:32.010Z"
   },
   {
    "duration": 11,
    "start_time": "2022-05-15T11:21:32.025Z"
   },
   {
    "duration": 23,
    "start_time": "2022-05-15T11:21:32.038Z"
   },
   {
    "duration": 5,
    "start_time": "2022-05-15T11:21:32.064Z"
   },
   {
    "duration": 8,
    "start_time": "2022-05-15T11:21:32.071Z"
   },
   {
    "duration": 7,
    "start_time": "2022-05-15T11:21:32.081Z"
   },
   {
    "duration": 22,
    "start_time": "2022-05-15T11:21:32.090Z"
   },
   {
    "duration": 14,
    "start_time": "2022-05-15T11:21:32.114Z"
   },
   {
    "duration": 18,
    "start_time": "2022-05-15T11:21:32.129Z"
   },
   {
    "duration": 26,
    "start_time": "2022-05-15T11:21:32.149Z"
   },
   {
    "duration": 231,
    "start_time": "2022-05-15T11:21:32.177Z"
   },
   {
    "duration": 344,
    "start_time": "2022-05-15T11:21:32.410Z"
   },
   {
    "duration": 2,
    "start_time": "2022-05-15T11:21:32.756Z"
   },
   {
    "duration": 7,
    "start_time": "2022-05-15T11:21:32.760Z"
   },
   {
    "duration": 4623,
    "start_time": "2022-05-15T11:21:32.769Z"
   },
   {
    "duration": 6,
    "start_time": "2022-05-15T11:21:37.393Z"
   },
   {
    "duration": 190,
    "start_time": "2022-05-15T11:21:37.400Z"
   },
   {
    "duration": 296,
    "start_time": "2022-05-15T11:21:37.591Z"
   },
   {
    "duration": 4,
    "start_time": "2022-05-15T11:21:37.889Z"
   },
   {
    "duration": 2024,
    "start_time": "2022-05-15T11:21:37.895Z"
   },
   {
    "duration": 6745,
    "start_time": "2022-05-15T11:21:39.940Z"
   },
   {
    "duration": 4,
    "start_time": "2022-05-15T11:21:46.688Z"
   },
   {
    "duration": 260,
    "start_time": "2022-05-15T11:21:46.694Z"
   },
   {
    "duration": 213,
    "start_time": "2022-05-15T11:21:46.956Z"
   },
   {
    "duration": 5,
    "start_time": "2022-05-15T11:21:47.170Z"
   },
   {
    "duration": 400,
    "start_time": "2022-05-15T11:21:47.176Z"
   },
   {
    "duration": 487,
    "start_time": "2022-05-15T11:21:47.578Z"
   },
   {
    "duration": 398,
    "start_time": "2022-05-15T11:21:48.066Z"
   },
   {
    "duration": 12,
    "start_time": "2022-05-15T11:21:48.466Z"
   },
   {
    "duration": 22,
    "start_time": "2022-05-15T11:21:48.479Z"
   }
  ],
  "kernelspec": {
   "display_name": "Python 3 (ipykernel)",
   "language": "python",
   "name": "python3"
  },
  "language_info": {
   "codemirror_mode": {
    "name": "ipython",
    "version": 3
   },
   "file_extension": ".py",
   "mimetype": "text/x-python",
   "name": "python",
   "nbconvert_exporter": "python",
   "pygments_lexer": "ipython3",
   "version": "3.9.5"
  },
  "toc": {
   "base_numbering": 1,
   "nav_menu": {},
   "number_sections": true,
   "sideBar": true,
   "skip_h1_title": true,
   "title_cell": "Table of Contents",
   "title_sidebar": "Contents",
   "toc_cell": false,
   "toc_position": {},
   "toc_section_display": true,
   "toc_window_display": false
  }
 },
 "nbformat": 4,
 "nbformat_minor": 2
}
