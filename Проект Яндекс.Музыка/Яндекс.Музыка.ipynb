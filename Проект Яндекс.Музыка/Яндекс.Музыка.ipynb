{
 "cells": [
  {
   "cell_type": "markdown",
   "metadata": {
    "id": "E0vqbgi9ay0H"
   },
   "source": [
    "# Яндекс.Музыка"
   ]
  },
  {
   "cell_type": "markdown",
   "metadata": {
    "id": "VUC88oWjTJw2"
   },
   "source": [
    "Сравнение Москвы и Петербурга окружено мифами. Например:\n",
    " * Москва — мегаполис, подчинённый жёсткому ритму рабочей недели;\n",
    " * Петербург — культурная столица, со своими вкусами.\n",
    "\n",
    "На данных Яндекс.Музыки вы сравните поведение пользователей двух столиц.\n",
    "\n",
    "**Цель исследования** — проверьте три гипотезы:\n",
    "1. Активность пользователей зависит от дня недели. Причём в Москве и Петербурге это проявляется по-разному.\n",
    "2. В понедельник утром в Москве преобладают одни жанры, а в Петербурге — другие. Так же и вечером пятницы преобладают разные жанры — в зависимости от города. \n",
    "3. Москва и Петербург предпочитают разные жанры музыки. В Москве чаще слушают поп-музыку, в Петербурге — русский рэп.\n",
    "\n",
    "**Ход исследования**\n",
    "\n",
    "Данные о поведении пользователей вы получите из файла `yandex_music_project.csv`. О качестве данных ничего не известно. Поэтому перед проверкой гипотез понадобится обзор данных. \n",
    "\n",
    "Вы проверите данные на ошибки и оцените их влияние на исследование. Затем, на этапе предобработки вы поищете возможность исправить самые критичные ошибки данных.\n",
    " \n",
    "Таким образом, исследование пройдёт в три этапа:\n",
    " 1. Обзор данных.\n",
    " 2. Предобработка данных.\n",
    " 3. Проверка гипотез.\n",
    "\n"
   ]
  },
  {
   "cell_type": "markdown",
   "metadata": {
    "id": "Ml1hmfXC_Zcs"
   },
   "source": [
    "## Обзор данных\n",
    "\n"
   ]
  },
  {
   "cell_type": "code",
   "execution_count": 1,
   "metadata": {
    "id": "AXN7PHPN_Zcs"
   },
   "outputs": [],
   "source": [
    "# импорт библиотеки pandas\n",
    "import pandas as pd"
   ]
  },
  {
   "cell_type": "code",
   "execution_count": 2,
   "metadata": {
    "id": "fFVu7vqh_Zct"
   },
   "outputs": [],
   "source": [
    "# чтение файла с данными и сохранение в df\n",
    "df = pd.read_csv('/datasets/yandex_music_project.csv')"
   ]
  },
  {
   "cell_type": "code",
   "execution_count": 3,
   "metadata": {
    "id": "oWTVX3gW_Zct",
    "scrolled": true
   },
   "outputs": [
    {
     "data": {
      "text/html": [
       "<div>\n",
       "<style scoped>\n",
       "    .dataframe tbody tr th:only-of-type {\n",
       "        vertical-align: middle;\n",
       "    }\n",
       "\n",
       "    .dataframe tbody tr th {\n",
       "        vertical-align: top;\n",
       "    }\n",
       "\n",
       "    .dataframe thead th {\n",
       "        text-align: right;\n",
       "    }\n",
       "</style>\n",
       "<table border=\"1\" class=\"dataframe\">\n",
       "  <thead>\n",
       "    <tr style=\"text-align: right;\">\n",
       "      <th></th>\n",
       "      <th>userID</th>\n",
       "      <th>Track</th>\n",
       "      <th>artist</th>\n",
       "      <th>genre</th>\n",
       "      <th>City</th>\n",
       "      <th>time</th>\n",
       "      <th>Day</th>\n",
       "    </tr>\n",
       "  </thead>\n",
       "  <tbody>\n",
       "    <tr>\n",
       "      <th>0</th>\n",
       "      <td>FFB692EC</td>\n",
       "      <td>Kamigata To Boots</td>\n",
       "      <td>The Mass Missile</td>\n",
       "      <td>rock</td>\n",
       "      <td>Saint-Petersburg</td>\n",
       "      <td>20:28:33</td>\n",
       "      <td>Wednesday</td>\n",
       "    </tr>\n",
       "    <tr>\n",
       "      <th>1</th>\n",
       "      <td>55204538</td>\n",
       "      <td>Delayed Because of Accident</td>\n",
       "      <td>Andreas Rönnberg</td>\n",
       "      <td>rock</td>\n",
       "      <td>Moscow</td>\n",
       "      <td>14:07:09</td>\n",
       "      <td>Friday</td>\n",
       "    </tr>\n",
       "    <tr>\n",
       "      <th>2</th>\n",
       "      <td>20EC38</td>\n",
       "      <td>Funiculì funiculà</td>\n",
       "      <td>Mario Lanza</td>\n",
       "      <td>pop</td>\n",
       "      <td>Saint-Petersburg</td>\n",
       "      <td>20:58:07</td>\n",
       "      <td>Wednesday</td>\n",
       "    </tr>\n",
       "    <tr>\n",
       "      <th>3</th>\n",
       "      <td>A3DD03C9</td>\n",
       "      <td>Dragons in the Sunset</td>\n",
       "      <td>Fire + Ice</td>\n",
       "      <td>folk</td>\n",
       "      <td>Saint-Petersburg</td>\n",
       "      <td>08:37:09</td>\n",
       "      <td>Monday</td>\n",
       "    </tr>\n",
       "    <tr>\n",
       "      <th>4</th>\n",
       "      <td>E2DC1FAE</td>\n",
       "      <td>Soul People</td>\n",
       "      <td>Space Echo</td>\n",
       "      <td>dance</td>\n",
       "      <td>Moscow</td>\n",
       "      <td>08:34:34</td>\n",
       "      <td>Monday</td>\n",
       "    </tr>\n",
       "    <tr>\n",
       "      <th>5</th>\n",
       "      <td>842029A1</td>\n",
       "      <td>Преданная</td>\n",
       "      <td>IMPERVTOR</td>\n",
       "      <td>rusrap</td>\n",
       "      <td>Saint-Petersburg</td>\n",
       "      <td>13:09:41</td>\n",
       "      <td>Friday</td>\n",
       "    </tr>\n",
       "    <tr>\n",
       "      <th>6</th>\n",
       "      <td>4CB90AA5</td>\n",
       "      <td>True</td>\n",
       "      <td>Roman Messer</td>\n",
       "      <td>dance</td>\n",
       "      <td>Moscow</td>\n",
       "      <td>13:00:07</td>\n",
       "      <td>Wednesday</td>\n",
       "    </tr>\n",
       "    <tr>\n",
       "      <th>7</th>\n",
       "      <td>F03E1C1F</td>\n",
       "      <td>Feeling This Way</td>\n",
       "      <td>Polina Griffith</td>\n",
       "      <td>dance</td>\n",
       "      <td>Moscow</td>\n",
       "      <td>20:47:49</td>\n",
       "      <td>Wednesday</td>\n",
       "    </tr>\n",
       "    <tr>\n",
       "      <th>8</th>\n",
       "      <td>8FA1D3BE</td>\n",
       "      <td>И вновь продолжается бой</td>\n",
       "      <td>NaN</td>\n",
       "      <td>ruspop</td>\n",
       "      <td>Moscow</td>\n",
       "      <td>09:17:40</td>\n",
       "      <td>Friday</td>\n",
       "    </tr>\n",
       "    <tr>\n",
       "      <th>9</th>\n",
       "      <td>E772D5C0</td>\n",
       "      <td>Pessimist</td>\n",
       "      <td>NaN</td>\n",
       "      <td>dance</td>\n",
       "      <td>Saint-Petersburg</td>\n",
       "      <td>21:20:49</td>\n",
       "      <td>Wednesday</td>\n",
       "    </tr>\n",
       "  </tbody>\n",
       "</table>\n",
       "</div>"
      ],
      "text/plain": [
       "     userID                        Track            artist   genre  \\\n",
       "0  FFB692EC            Kamigata To Boots  The Mass Missile    rock   \n",
       "1  55204538  Delayed Because of Accident  Andreas Rönnberg    rock   \n",
       "2    20EC38            Funiculì funiculà       Mario Lanza     pop   \n",
       "3  A3DD03C9        Dragons in the Sunset        Fire + Ice    folk   \n",
       "4  E2DC1FAE                  Soul People        Space Echo   dance   \n",
       "5  842029A1                    Преданная         IMPERVTOR  rusrap   \n",
       "6  4CB90AA5                         True      Roman Messer   dance   \n",
       "7  F03E1C1F             Feeling This Way   Polina Griffith   dance   \n",
       "8  8FA1D3BE     И вновь продолжается бой               NaN  ruspop   \n",
       "9  E772D5C0                    Pessimist               NaN   dance   \n",
       "\n",
       "             City        time        Day  \n",
       "0  Saint-Petersburg  20:28:33  Wednesday  \n",
       "1            Moscow  14:07:09     Friday  \n",
       "2  Saint-Petersburg  20:58:07  Wednesday  \n",
       "3  Saint-Petersburg  08:37:09     Monday  \n",
       "4            Moscow  08:34:34     Monday  \n",
       "5  Saint-Petersburg  13:09:41     Friday  \n",
       "6            Moscow  13:00:07  Wednesday  \n",
       "7            Moscow  20:47:49  Wednesday  \n",
       "8            Moscow  09:17:40     Friday  \n",
       "9  Saint-Petersburg  21:20:49  Wednesday  "
      ]
     },
     "metadata": {},
     "output_type": "display_data"
    }
   ],
   "source": [
    "# получение первых 10 строк таблицы df\n",
    "display(df.head(10))"
   ]
  },
  {
   "cell_type": "code",
   "execution_count": 4,
   "metadata": {
    "id": "DSf2kIb-_Zct",
    "scrolled": true
   },
   "outputs": [
    {
     "name": "stdout",
     "output_type": "stream",
     "text": [
      "<class 'pandas.core.frame.DataFrame'>\n",
      "RangeIndex: 65079 entries, 0 to 65078\n",
      "Data columns (total 7 columns):\n",
      " #   Column    Non-Null Count  Dtype \n",
      "---  ------    --------------  ----- \n",
      " 0     userID  65079 non-null  object\n",
      " 1   Track     63848 non-null  object\n",
      " 2   artist    57876 non-null  object\n",
      " 3   genre     63881 non-null  object\n",
      " 4     City    65079 non-null  object\n",
      " 5   time      65079 non-null  object\n",
      " 6   Day       65079 non-null  object\n",
      "dtypes: object(7)\n",
      "memory usage: 3.5+ MB\n"
     ]
    }
   ],
   "source": [
    "# получение общей информации о данных в таблице df\n",
    "df.info()"
   ]
  },
  {
   "cell_type": "markdown",
   "metadata": {
    "id": "TaQ2Iwbr_Zct"
   },
   "source": [
    "Итак, в таблице семь столбцов. Тип данных во всех столбцах — `object`.\n",
    "\n",
    "Согласно документации к данным:\n",
    "* `userID` — идентификатор пользователя;\n",
    "* `Track` — название трека;  \n",
    "* `artist` — имя исполнителя;\n",
    "* `genre` — название жанра;\n",
    "* `City` — город пользователя;\n",
    "* `time` — время начала прослушивания;\n",
    "* `Day` — день недели.\n",
    "\n",
    "В названиях колонок видны три нарушения стиля:\n",
    "1. Строчные буквы сочетаются с прописными.\n",
    "2. Встречаются пробелы.\n",
    "3. В `userID` желательно использовать змеиный регистр\n",
    "\n",
    "\n",
    "\n",
    "Количество значений в столбцах различается. Значит, в данных есть пропущенные значения.\n"
   ]
  },
  {
   "cell_type": "markdown",
   "metadata": {
    "id": "MCB6-dXG_Zct"
   },
   "source": [
    "**Выводы**\n",
    "\n",
    "В каждой строке таблицы — данные о прослушанном треке. Часть колонок описывает саму композицию: название, исполнителя и жанр. Остальные данные рассказывают о пользователе: из какого он города, когда он слушал музыку. \n",
    "\n",
    "Предварительно можно утверждать, что, данных достаточно для проверки гипотез. Но встречаются пропуски в данных, а в названиях колонок — расхождения с хорошим стилем.\n",
    "\n",
    "Чтобы двигаться дальше, нужно устранить проблемы в данных."
   ]
  },
  {
   "cell_type": "markdown",
   "metadata": {
    "id": "SjYF6Ub9_Zct"
   },
   "source": [
    "## Предобработка данных"
   ]
  },
  {
   "cell_type": "markdown",
   "metadata": {
    "id": "dIaKXr29_Zct"
   },
   "source": [
    "### Стиль заголовков"
   ]
  },
  {
   "cell_type": "code",
   "execution_count": 5,
   "metadata": {
    "id": "oKOTdF_Q_Zct",
    "scrolled": true
   },
   "outputs": [
    {
     "data": {
      "text/plain": [
       "Index(['  userID', 'Track', 'artist', 'genre', '  City  ', 'time', 'Day'], dtype='object')"
      ]
     },
     "execution_count": 5,
     "metadata": {},
     "output_type": "execute_result"
    }
   ],
   "source": [
    "# перечень названий столбцов таблицы df\n",
    "df.columns"
   ]
  },
  {
   "cell_type": "code",
   "execution_count": 6,
   "metadata": {
    "id": "ISlFqs5y_Zct"
   },
   "outputs": [],
   "source": [
    "# переименование столбцов\n",
    "df = df.rename(columns={'  userID':'user_id', 'Track':'track', '  City  ':'city', 'Day':'day'})"
   ]
  },
  {
   "cell_type": "code",
   "execution_count": 7,
   "metadata": {
    "id": "d4NOAmTW_Zct"
   },
   "outputs": [
    {
     "data": {
      "text/plain": [
       "Index(['user_id', 'track', 'artist', 'genre', 'city', 'time', 'day'], dtype='object')"
      ]
     },
     "execution_count": 7,
     "metadata": {},
     "output_type": "execute_result"
    }
   ],
   "source": [
    "# проверка результатов - перечень названий столбцов\n",
    "df.columns"
   ]
  },
  {
   "cell_type": "markdown",
   "metadata": {
    "id": "5ISfbcfY_Zct"
   },
   "source": [
    "### Пропуски значений"
   ]
  },
  {
   "cell_type": "code",
   "execution_count": 8,
   "metadata": {
    "id": "RskX29qr_Zct"
   },
   "outputs": [
    {
     "name": "stdout",
     "output_type": "stream",
     "text": [
      "user_id       0\n",
      "track      1231\n",
      "artist     7203\n",
      "genre      1198\n",
      "city          0\n",
      "time          0\n",
      "day           0\n",
      "dtype: int64\n"
     ]
    }
   ],
   "source": [
    "# подсчёт пропусков\n",
    "print(df.isna().sum())"
   ]
  },
  {
   "cell_type": "markdown",
   "metadata": {
    "id": "qubhgnlO_Zct"
   },
   "source": [
    "Не все пропущенные значения влияют на исследование. Так в `track` и `artist` пропуски не важны для вашей работы. Достаточно заменить их явными обозначениями.\n",
    "\n",
    "Но пропуски в `genre` могут помешать сравнению музыкальных вкусов в Москве и Санкт-Петербурге. На практике было бы правильно установить причину пропусков и восстановить данные. Такой возможности нет в учебном проекте. Придётся:\n",
    "* заполнить и эти пропуски явными обозначениями,\n",
    "* оценить, насколько они повредят расчётам. "
   ]
  },
  {
   "cell_type": "code",
   "execution_count": 9,
   "metadata": {
    "id": "KplB5qWs_Zct"
   },
   "outputs": [],
   "source": [
    "# перебор названий столбцов в цикле и замена пропущенных значений на 'unknown'\n",
    "columns_to_replace = ['track', 'artist', 'genre']\n",
    "\n",
    "for item in columns_to_replace:\n",
    "    df[item] = df[item].fillna('unknown')"
   ]
  },
  {
   "cell_type": "code",
   "execution_count": 10,
   "metadata": {
    "id": "Tq4nYRX4_Zct",
    "scrolled": true
   },
   "outputs": [
    {
     "name": "stdout",
     "output_type": "stream",
     "text": [
      "user_id    0\n",
      "track      0\n",
      "artist     0\n",
      "genre      0\n",
      "city       0\n",
      "time       0\n",
      "day        0\n",
      "dtype: int64\n"
     ]
    }
   ],
   "source": [
    "# подсчёт пропусков\n",
    "print(df.isna().sum())"
   ]
  },
  {
   "cell_type": "markdown",
   "metadata": {
    "id": "BWKRtBJ3_Zct"
   },
   "source": [
    "### Дубликаты"
   ]
  },
  {
   "cell_type": "code",
   "execution_count": 11,
   "metadata": {
    "id": "36eES_S0_Zct"
   },
   "outputs": [
    {
     "name": "stdout",
     "output_type": "stream",
     "text": [
      "3826\n"
     ]
    }
   ],
   "source": [
    "# подсчёт явных дубликатов\n",
    "print(df.duplicated().sum())"
   ]
  },
  {
   "cell_type": "code",
   "execution_count": 12,
   "metadata": {
    "id": "exFHq6tt_Zct"
   },
   "outputs": [],
   "source": [
    "# удаление явных дубликатов (с удалением старых индексов и формированием новых)\n",
    "df = df.drop_duplicates().reset_index(drop=True)"
   ]
  },
  {
   "cell_type": "code",
   "execution_count": 13,
   "metadata": {
    "id": "-8PuNWQ0_Zct"
   },
   "outputs": [
    {
     "name": "stdout",
     "output_type": "stream",
     "text": [
      "0\n"
     ]
    }
   ],
   "source": [
    "# проверка на отсутствие дубликатов\n",
    "print(df.duplicated().sum())"
   ]
  },
  {
   "cell_type": "code",
   "execution_count": 14,
   "metadata": {
    "id": "JIUcqzZN_Zct",
    "scrolled": true
   },
   "outputs": [
    {
     "name": "stdout",
     "output_type": "stream",
     "text": [
      "['acid' 'acoustic' 'action' 'adult' 'africa' 'afrikaans' 'alternative'\n",
      " 'alternativepunk' 'ambient' 'americana' 'animated' 'anime' 'arabesk'\n",
      " 'arabic' 'arena' 'argentinetango' 'art' 'audiobook' 'author' 'avantgarde'\n",
      " 'axé' 'baile' 'balkan' 'beats' 'bigroom' 'black' 'bluegrass' 'blues'\n",
      " 'bollywood' 'bossa' 'brazilian' 'breakbeat' 'breaks' 'broadway'\n",
      " 'cantautori' 'cantopop' 'canzone' 'caribbean' 'caucasian' 'celtic'\n",
      " 'chamber' 'chanson' 'children' 'chill' 'chinese' 'choral' 'christian'\n",
      " 'christmas' 'classical' 'classicmetal' 'club' 'colombian' 'comedy'\n",
      " 'conjazz' 'contemporary' 'country' 'cuban' 'dance' 'dancehall' 'dancepop'\n",
      " 'dark' 'death' 'deep' 'deutschrock' 'deutschspr' 'dirty' 'disco' 'dnb'\n",
      " 'documentary' 'downbeat' 'downtempo' 'drum' 'dub' 'dubstep' 'eastern'\n",
      " 'easy' 'electronic' 'electropop' 'emo' 'entehno' 'epicmetal' 'estrada'\n",
      " 'ethnic' 'eurofolk' 'european' 'experimental' 'extrememetal' 'fado'\n",
      " 'fairytail' 'film' 'fitness' 'flamenco' 'folk' 'folklore' 'folkmetal'\n",
      " 'folkrock' 'folktronica' 'forró' 'frankreich' 'französisch' 'french'\n",
      " 'funk' 'future' 'gangsta' 'garage' 'german' 'ghazal' 'gitarre' 'glitch'\n",
      " 'gospel' 'gothic' 'grime' 'grunge' 'gypsy' 'handsup' \"hard'n'heavy\"\n",
      " 'hardcore' 'hardstyle' 'hardtechno' 'hip' 'hip-hop' 'hiphop' 'historisch'\n",
      " 'holiday' 'hop' 'horror' 'house' 'hymn' 'idm' 'independent' 'indian'\n",
      " 'indie' 'indipop' 'industrial' 'inspirational' 'instrumental'\n",
      " 'international' 'irish' 'jam' 'japanese' 'jazz' 'jewish' 'jpop' 'jungle'\n",
      " 'k-pop' 'karadeniz' 'karaoke' 'kayokyoku' 'korean' 'laiko' 'latin'\n",
      " 'latino' 'leftfield' 'local' 'lounge' 'loungeelectronic' 'lovers'\n",
      " 'malaysian' 'mandopop' 'marschmusik' 'meditative' 'mediterranean'\n",
      " 'melodic' 'metal' 'metalcore' 'mexican' 'middle' 'minimal'\n",
      " 'miscellaneous' 'modern' 'mood' 'mpb' 'muslim' 'native' 'neoklassik'\n",
      " 'neue' 'new' 'newage' 'newwave' 'nu' 'nujazz' 'numetal' 'oceania' 'old'\n",
      " 'opera' 'orchestral' 'other' 'piano' 'podcasts' 'pop' 'popdance'\n",
      " 'popelectronic' 'popeurodance' 'poprussian' 'post' 'posthardcore'\n",
      " 'postrock' 'power' 'progmetal' 'progressive' 'psychedelic' 'punjabi'\n",
      " 'punk' 'quebecois' 'ragga' 'ram' 'rancheras' 'rap' 'rave' 'reggae'\n",
      " 'reggaeton' 'regional' 'relax' 'religious' 'retro' 'rhythm' 'rnb' 'rnr'\n",
      " 'rock' 'rockabilly' 'rockalternative' 'rockindie' 'rockother' 'romance'\n",
      " 'roots' 'ruspop' 'rusrap' 'rusrock' 'russian' 'salsa' 'samba' 'scenic'\n",
      " 'schlager' 'self' 'sertanejo' 'shanson' 'shoegazing' 'showtunes' 'singer'\n",
      " 'ska' 'skarock' 'slow' 'smooth' 'soft' 'soul' 'soulful' 'sound'\n",
      " 'soundtrack' 'southern' 'specialty' 'speech' 'spiritual' 'sport'\n",
      " 'stonerrock' 'surf' 'swing' 'synthpop' 'synthrock' 'sängerportrait'\n",
      " 'tango' 'tanzorchester' 'taraftar' 'tatar' 'tech' 'techno' 'teen'\n",
      " 'thrash' 'top' 'traditional' 'tradjazz' 'trance' 'tribal' 'trip'\n",
      " 'triphop' 'tropical' 'türk' 'türkçe' 'ukrrock' 'unknown' 'urban' 'uzbek'\n",
      " 'variété' 'vi' 'videogame' 'vocal' 'western' 'world' 'worldbeat' 'ïîï'\n",
      " 'электроника']\n"
     ]
    }
   ],
   "source": [
    "# Просмотр уникальных названий жанров\n",
    "df_genre = df['genre']\n",
    "df_genre = df_genre.sort_values()\n",
    "print(df_genre.unique())"
   ]
  },
  {
   "cell_type": "code",
   "execution_count": 15,
   "metadata": {
    "id": "ErNDkmns_Zct"
   },
   "outputs": [],
   "source": [
    "# Функция для замены неявных дубликатов\n",
    "def replace_wrong_genres(wrong_values, correct_value):\n",
    "    for wrong_value in wrong_values: # перебираем элементы списка wrong_values\n",
    "        df['genre'] = df['genre'].replace(wrong_value, correct_value)  # заменяем каждое неправильное имя"
   ]
  },
  {
   "cell_type": "markdown",
   "metadata": {
    "id": "aDoBJxbA_Zct"
   },
   "source": [
    "Вызовите `replace_wrong_genres()` и передайте ей такие аргументы, чтобы она устранила неявные дубликаты: вместо `hip`, `hop` и `hip-hop` в таблице должно быть значение `hiphop`:"
   ]
  },
  {
   "cell_type": "code",
   "execution_count": 16,
   "metadata": {
    "id": "YN5i2hpmSo09"
   },
   "outputs": [],
   "source": [
    "# Устранение неявных дубликатов\n",
    "duplicates = ['hip', 'hop', 'hip-hop']\n",
    "name = 'hiphop'\n",
    "replace_wrong_genres(duplicates, name)"
   ]
  },
  {
   "cell_type": "code",
   "execution_count": 17,
   "metadata": {
    "id": "wvixALnFG15m",
    "scrolled": true
   },
   "outputs": [
    {
     "data": {
      "text/plain": [
       "array(['acid', 'acoustic', 'action', 'adult', 'africa', 'afrikaans',\n",
       "       'alternative', 'alternativepunk', 'ambient', 'americana',\n",
       "       'animated', 'anime', 'arabesk', 'arabic', 'arena',\n",
       "       'argentinetango', 'art', 'audiobook', 'author', 'avantgarde',\n",
       "       'axé', 'baile', 'balkan', 'beats', 'bigroom', 'black', 'bluegrass',\n",
       "       'blues', 'bollywood', 'bossa', 'brazilian', 'breakbeat', 'breaks',\n",
       "       'broadway', 'cantautori', 'cantopop', 'canzone', 'caribbean',\n",
       "       'caucasian', 'celtic', 'chamber', 'chanson', 'children', 'chill',\n",
       "       'chinese', 'choral', 'christian', 'christmas', 'classical',\n",
       "       'classicmetal', 'club', 'colombian', 'comedy', 'conjazz',\n",
       "       'contemporary', 'country', 'cuban', 'dance', 'dancehall',\n",
       "       'dancepop', 'dark', 'death', 'deep', 'deutschrock', 'deutschspr',\n",
       "       'dirty', 'disco', 'dnb', 'documentary', 'downbeat', 'downtempo',\n",
       "       'drum', 'dub', 'dubstep', 'eastern', 'easy', 'electronic',\n",
       "       'electropop', 'emo', 'entehno', 'epicmetal', 'estrada', 'ethnic',\n",
       "       'eurofolk', 'european', 'experimental', 'extrememetal', 'fado',\n",
       "       'fairytail', 'film', 'fitness', 'flamenco', 'folk', 'folklore',\n",
       "       'folkmetal', 'folkrock', 'folktronica', 'forró', 'frankreich',\n",
       "       'französisch', 'french', 'funk', 'future', 'gangsta', 'garage',\n",
       "       'german', 'ghazal', 'gitarre', 'glitch', 'gospel', 'gothic',\n",
       "       'grime', 'grunge', 'gypsy', 'handsup', \"hard'n'heavy\", 'hardcore',\n",
       "       'hardstyle', 'hardtechno', 'hiphop', 'historisch', 'holiday',\n",
       "       'horror', 'house', 'hymn', 'idm', 'independent', 'indian', 'indie',\n",
       "       'indipop', 'industrial', 'inspirational', 'instrumental',\n",
       "       'international', 'irish', 'jam', 'japanese', 'jazz', 'jewish',\n",
       "       'jpop', 'jungle', 'k-pop', 'karadeniz', 'karaoke', 'kayokyoku',\n",
       "       'korean', 'laiko', 'latin', 'latino', 'leftfield', 'local',\n",
       "       'lounge', 'loungeelectronic', 'lovers', 'malaysian', 'mandopop',\n",
       "       'marschmusik', 'meditative', 'mediterranean', 'melodic', 'metal',\n",
       "       'metalcore', 'mexican', 'middle', 'minimal', 'miscellaneous',\n",
       "       'modern', 'mood', 'mpb', 'muslim', 'native', 'neoklassik', 'neue',\n",
       "       'new', 'newage', 'newwave', 'nu', 'nujazz', 'numetal', 'oceania',\n",
       "       'old', 'opera', 'orchestral', 'other', 'piano', 'podcasts', 'pop',\n",
       "       'popdance', 'popelectronic', 'popeurodance', 'poprussian', 'post',\n",
       "       'posthardcore', 'postrock', 'power', 'progmetal', 'progressive',\n",
       "       'psychedelic', 'punjabi', 'punk', 'quebecois', 'ragga', 'ram',\n",
       "       'rancheras', 'rap', 'rave', 'reggae', 'reggaeton', 'regional',\n",
       "       'relax', 'religious', 'retro', 'rhythm', 'rnb', 'rnr', 'rock',\n",
       "       'rockabilly', 'rockalternative', 'rockindie', 'rockother',\n",
       "       'romance', 'roots', 'ruspop', 'rusrap', 'rusrock', 'russian',\n",
       "       'salsa', 'samba', 'scenic', 'schlager', 'self', 'sertanejo',\n",
       "       'shanson', 'shoegazing', 'showtunes', 'singer', 'ska', 'skarock',\n",
       "       'slow', 'smooth', 'soft', 'soul', 'soulful', 'sound', 'soundtrack',\n",
       "       'southern', 'specialty', 'speech', 'spiritual', 'sport',\n",
       "       'stonerrock', 'surf', 'swing', 'synthpop', 'synthrock',\n",
       "       'sängerportrait', 'tango', 'tanzorchester', 'taraftar', 'tatar',\n",
       "       'tech', 'techno', 'teen', 'thrash', 'top', 'traditional',\n",
       "       'tradjazz', 'trance', 'tribal', 'trip', 'triphop', 'tropical',\n",
       "       'türk', 'türkçe', 'ukrrock', 'unknown', 'urban', 'uzbek',\n",
       "       'variété', 'vi', 'videogame', 'vocal', 'western', 'world',\n",
       "       'worldbeat', 'ïîï', 'электроника'], dtype=object)"
      ]
     },
     "execution_count": 17,
     "metadata": {},
     "output_type": "execute_result"
    }
   ],
   "source": [
    "# Проверка на неявные дубликаты\n",
    "df_genre = df['genre']\n",
    "df_genre = df_genre.sort_values()\n",
    "df_genre.unique()"
   ]
  },
  {
   "cell_type": "markdown",
   "metadata": {
    "id": "jz6a9-7HQUDd"
   },
   "source": [
    "**Выводы**\n",
    "\n",
    "Предобработка обнаружила три проблемы в данных:\n",
    "\n",
    "- нарушения в стиле заголовков,\n",
    "- пропущенные значения,\n",
    "- дубликаты — явные и неявные.\n",
    "\n",
    "Вы исправили заголовки, чтобы упростить работу с таблицей. Без дубликатов исследование станет более точным.\n",
    "\n",
    "Пропущенные значения вы заменили на `'unknown'`. Ещё предстоит увидеть, не повредят ли исследованию пропуски в колонке `genre`.\n",
    "\n",
    "Теперь можно перейти к проверке гипотез. "
   ]
  },
  {
   "cell_type": "markdown",
   "metadata": {
    "id": "WttZHXH0SqKk"
   },
   "source": [
    "## Проверка гипотез"
   ]
  },
  {
   "cell_type": "markdown",
   "metadata": {
    "id": "Im936VVi_Zcu"
   },
   "source": [
    "### Сравнение поведения пользователей двух столиц"
   ]
  },
  {
   "cell_type": "code",
   "execution_count": 18,
   "metadata": {
    "id": "0_Qs96oh_Zcu"
   },
   "outputs": [
    {
     "data": {
      "text/plain": [
       "city\n",
       "Moscow              42741\n",
       "Saint-Petersburg    18512\n",
       "Name: user_id, dtype: int64"
      ]
     },
     "metadata": {},
     "output_type": "display_data"
    }
   ],
   "source": [
    "# Подсчёт прослушиваний в каждом городе\n",
    "display(df.groupby('city')['user_id'].count())"
   ]
  },
  {
   "cell_type": "markdown",
   "metadata": {
    "id": "dzli3w8o_Zcu"
   },
   "source": [
    "В Москве прослушиваний больше, чем в Петербурге. Из этого не следует, что московские пользователи чаще слушают музыку. Просто самих пользователей в Москве больше.\n",
    "\n",
    "Теперь сгруппируем данные по дню недели и подсчитаем прослушивания в понедельник, среду и пятницу.В данных есть информация только о прослушиваниях только за эти дни.\n"
   ]
  },
  {
   "cell_type": "code",
   "execution_count": 19,
   "metadata": {
    "id": "uZMKjiJz_Zcu",
    "scrolled": true
   },
   "outputs": [
    {
     "data": {
      "text/plain": [
       "day\n",
       "Friday       21840\n",
       "Monday       21354\n",
       "Wednesday    18059\n",
       "Name: user_id, dtype: int64"
      ]
     },
     "metadata": {},
     "output_type": "display_data"
    }
   ],
   "source": [
    "# Подсчёт прослушиваний в каждый из трёх дней\n",
    "display(df.groupby(['day'])['user_id'].count())"
   ]
  },
  {
   "cell_type": "markdown",
   "metadata": {
    "id": "cC2tNrlL_Zcu"
   },
   "source": [
    "В среднем пользователи из двух городов менее активны по средам. Но картина может измениться, если рассмотреть каждый город в отдельности."
   ]
  },
  {
   "cell_type": "code",
   "execution_count": 20,
   "metadata": {
    "id": "Nz3GdQB1_Zcu"
   },
   "outputs": [],
   "source": [
    "# <создание функции number_tracks()>\n",
    "# Объявляется функция с двумя параметрами: day, city.\n",
    "def number_tracks(day, city):\n",
    "# В переменной track_list сохраняются те строки таблицы df, для которых \n",
    "# значение в столбце 'day' равно параметру day и одновременно значение\n",
    "# в столбце 'city' равно параметру city (используйте последовательную фильтрацию\n",
    "# с помощью логической индексации).\n",
    "    track_list = df[df['day'] == day]\n",
    "    track_list = track_list[track_list['city'] == city]\n",
    "# В переменной track_list_count сохраняется число значений столбца 'user_id',\n",
    "# рассчитанное методом count() для таблицы track_list.\n",
    "    track_list_count = track_list['user_id'].count()\n",
    "# Функция возвращает число - значение track_list_count.\n",
    "    return track_list_count\n",
    "\n",
    "# Функция для подсчёта прослушиваний для конкретного города и дня.\n",
    "# С помощью последовательной фильтрации с логической индексацией она \n",
    "# сначала получит из исходной таблицы строки с нужным днём,\n",
    "# затем из результата отфильтрует строки с нужным городом,\n",
    "# методом count() посчитает количество значений в колонке user_id. \n",
    "# Это количество функция вернёт в качестве результата"
   ]
  },
  {
   "cell_type": "code",
   "execution_count": 21,
   "metadata": {
    "id": "rJcRATNQ_Zcu"
   },
   "outputs": [
    {
     "data": {
      "text/plain": [
       "15740"
      ]
     },
     "execution_count": 21,
     "metadata": {},
     "output_type": "execute_result"
    }
   ],
   "source": [
    "# количество прослушиваний в Москве по понедельникам\n",
    "number_tracks('Monday', 'Moscow')"
   ]
  },
  {
   "cell_type": "code",
   "execution_count": 22,
   "metadata": {
    "id": "hq_ncZ5T_Zcu"
   },
   "outputs": [
    {
     "data": {
      "text/plain": [
       "5614"
      ]
     },
     "execution_count": 22,
     "metadata": {},
     "output_type": "execute_result"
    }
   ],
   "source": [
    "# количество прослушиваний в Санкт-Петербурге по понедельникам\n",
    "number_tracks('Monday', 'Saint-Petersburg')"
   ]
  },
  {
   "cell_type": "code",
   "execution_count": 23,
   "metadata": {
    "id": "_NTy2VPU_Zcu"
   },
   "outputs": [
    {
     "data": {
      "text/plain": [
       "11056"
      ]
     },
     "execution_count": 23,
     "metadata": {},
     "output_type": "execute_result"
    }
   ],
   "source": [
    "# количество прослушиваний в Москве по средам\n",
    "number_tracks('Wednesday', 'Moscow')"
   ]
  },
  {
   "cell_type": "code",
   "execution_count": 24,
   "metadata": {
    "id": "j2y3TAwo_Zcu"
   },
   "outputs": [
    {
     "data": {
      "text/plain": [
       "7003"
      ]
     },
     "execution_count": 24,
     "metadata": {},
     "output_type": "execute_result"
    }
   ],
   "source": [
    "# количество прослушиваний в Санкт-Петербурге по средам\n",
    "number_tracks('Wednesday', 'Saint-Petersburg')"
   ]
  },
  {
   "cell_type": "code",
   "execution_count": 25,
   "metadata": {
    "id": "vYDw5u_K_Zcu"
   },
   "outputs": [
    {
     "data": {
      "text/plain": [
       "15945"
      ]
     },
     "execution_count": 25,
     "metadata": {},
     "output_type": "execute_result"
    }
   ],
   "source": [
    "# количество прослушиваний в Москве по пятницам\n",
    "number_tracks('Friday', 'Moscow')"
   ]
  },
  {
   "cell_type": "code",
   "execution_count": 26,
   "metadata": {
    "id": "8_yzFtW3_Zcu",
    "scrolled": true
   },
   "outputs": [
    {
     "data": {
      "text/plain": [
       "5895"
      ]
     },
     "execution_count": 26,
     "metadata": {},
     "output_type": "execute_result"
    }
   ],
   "source": [
    "# количество прослушиваний в Санкт-Петербурге по пятницам\n",
    "number_tracks('Friday', 'Saint-Petersburg')"
   ]
  },
  {
   "cell_type": "markdown",
   "metadata": {
    "id": "7QXffbO-_Zcu"
   },
   "source": [
    "Создайте c помощью конструктора `pd.DataFrame` таблицу, где\n",
    "* названия колонок — `['city', 'monday', 'wednesday', 'friday']`;\n",
    "* данные — результаты, которые вы получили с помощью `number_tracks`."
   ]
  },
  {
   "cell_type": "code",
   "execution_count": 27,
   "metadata": {
    "id": "APAcLpOr_Zcu"
   },
   "outputs": [
    {
     "data": {
      "text/html": [
       "<div>\n",
       "<style scoped>\n",
       "    .dataframe tbody tr th:only-of-type {\n",
       "        vertical-align: middle;\n",
       "    }\n",
       "\n",
       "    .dataframe tbody tr th {\n",
       "        vertical-align: top;\n",
       "    }\n",
       "\n",
       "    .dataframe thead th {\n",
       "        text-align: right;\n",
       "    }\n",
       "</style>\n",
       "<table border=\"1\" class=\"dataframe\">\n",
       "  <thead>\n",
       "    <tr style=\"text-align: right;\">\n",
       "      <th></th>\n",
       "      <th>city</th>\n",
       "      <th>monday</th>\n",
       "      <th>wednesday</th>\n",
       "      <th>friday</th>\n",
       "    </tr>\n",
       "  </thead>\n",
       "  <tbody>\n",
       "    <tr>\n",
       "      <th>0</th>\n",
       "      <td>Moscow</td>\n",
       "      <td>15740</td>\n",
       "      <td>11056</td>\n",
       "      <td>15945</td>\n",
       "    </tr>\n",
       "    <tr>\n",
       "      <th>1</th>\n",
       "      <td>Saint-Petersburg</td>\n",
       "      <td>5614</td>\n",
       "      <td>7003</td>\n",
       "      <td>5895</td>\n",
       "    </tr>\n",
       "  </tbody>\n",
       "</table>\n",
       "</div>"
      ],
      "text/plain": [
       "               city  monday  wednesday  friday\n",
       "0            Moscow   15740      11056   15945\n",
       "1  Saint-Petersburg    5614       7003    5895"
      ]
     },
     "metadata": {},
     "output_type": "display_data"
    }
   ],
   "source": [
    "# Таблица с результатами\n",
    "columns = ['city', 'monday', 'wednesday', 'friday']\n",
    "data = [['Moscow', 15740, 11056, 15945], ['Saint-Petersburg', 5614, 7003, 5895]]\n",
    "\n",
    "df_city_day = pd.DataFrame(data = data, columns = columns)\n",
    "display(df_city_day)"
   ]
  },
  {
   "cell_type": "markdown",
   "metadata": {
    "id": "-EgPIHYu_Zcu"
   },
   "source": [
    "**Выводы**\n",
    "\n",
    "Данные показывают разницу поведения пользователей:\n",
    "\n",
    "- В Москве пик прослушиваний приходится на понедельник и пятницу, а в среду заметен спад.\n",
    "- В Петербурге, наоборот, больше слушают музыку по средам. Активность в понедельник и пятницу здесь почти в равной мере уступает среде.\n",
    "\n",
    "Значит, данные говорят в пользу первой гипотезы."
   ]
  },
  {
   "cell_type": "markdown",
   "metadata": {
    "id": "atZAxtq4_Zcu"
   },
   "source": [
    "### Музыка в начале и в конце недели"
   ]
  },
  {
   "cell_type": "markdown",
   "metadata": {
    "id": "eXrQqXFH_Zcu"
   },
   "source": [
    "Согласно второй гипотезе, утром в понедельник в Москве преобладают одни жанры, а в Петербурге — другие. Так же и вечером пятницы преобладают разные жанры — в зависимости от города."
   ]
  },
  {
   "cell_type": "code",
   "execution_count": 28,
   "metadata": {
    "id": "qeaFfM_P_Zcu"
   },
   "outputs": [],
   "source": [
    "# получение таблицы moscow_general из тех строк таблицы df, \n",
    "# для которых значение в столбце 'city' равно 'Moscow'\n",
    "moscow_general = df[df['city'] == 'Moscow']"
   ]
  },
  {
   "cell_type": "code",
   "execution_count": 29,
   "metadata": {
    "id": "ORaVRKto_Zcu"
   },
   "outputs": [],
   "source": [
    "# получение таблицы spb_general из тех строк таблицы df,\n",
    "# для которых значение в столбце 'city' равно 'Saint-Petersburg'\n",
    "spb_general = df[df['city'] == 'Saint-Petersburg']\n"
   ]
  },
  {
   "cell_type": "code",
   "execution_count": 30,
   "metadata": {
    "id": "laJT9BYl_Zcu"
   },
   "outputs": [],
   "source": [
    "# Объявление функции genre_weekday() с параметрами table, day, time1, time2\n",
    "# которая возвращает информацию о самых популярных жанрах в указанный день в\n",
    "# заданное время:\n",
    "def genre_weekday(table, day, time1, time2):\n",
    "# 1) в переменную genre_df сохраняются те строки переданного датафрейма table, для\n",
    "#    которых одновременно:\n",
    "#    - значение в столбце day равно значению аргумента day\n",
    "#    - значение в столбце time больше значения аргумента time1\n",
    "#    - значение в столбце time меньше значения аргумента time2\n",
    "#    Используйте последовательную фильтрацию с помощью логической индексации.\n",
    "    genre_df = table[table['day'] == day]\n",
    "    genre_df = genre_df[genre_df['time'] > time1]\n",
    "    genre_df = genre_df[genre_df['time'] < time2]\n",
    "# 2) сгруппировать датафрейм genre_df по столбцу genre, взять один из его\n",
    "#    столбцов и посчитать методом count() количество записей для каждого из\n",
    "#    присутствующих жанров, получившийся Series записать в переменную\n",
    "#    genre_df_count\n",
    "    genre_df_count = genre_df.groupby('genre')['user_id'].count()\n",
    "\n",
    "# 3) отсортировать genre_df_count по убыванию встречаемости и сохранить\n",
    "#    в переменную genre_df_sorted\n",
    "    genre_df_sorted = genre_df_count.sort_values(ascending = False)\n",
    "# 4) вернуть Series из 10 первых значений genre_df_sorted, это будут топ-10\n",
    "#    популярных жанров (в указанный день, в заданное время)\n",
    "    return genre_df_sorted.head(10)\n"
   ]
  },
  {
   "cell_type": "code",
   "execution_count": 31,
   "metadata": {
    "id": "yz7itPUQ_Zcu"
   },
   "outputs": [
    {
     "data": {
      "text/plain": [
       "genre\n",
       "pop            781\n",
       "dance          549\n",
       "electronic     480\n",
       "rock           474\n",
       "hiphop         286\n",
       "ruspop         186\n",
       "world          181\n",
       "rusrap         175\n",
       "alternative    164\n",
       "unknown        161\n",
       "Name: user_id, dtype: int64"
      ]
     },
     "execution_count": 31,
     "metadata": {},
     "output_type": "execute_result"
    }
   ],
   "source": [
    "# вызов функции для утра понедельника в Москве (вместо df — таблица moscow_general)\n",
    "# объекты, хранящие время, являются строками и сравниваются как строки\n",
    "# пример вызова: genre_weekday(moscow_general, 'Monday', '07:00', '11:00')\n",
    "genre_weekday(moscow_general, 'Monday', '07:00', '11:00')"
   ]
  },
  {
   "cell_type": "code",
   "execution_count": 32,
   "metadata": {
    "id": "kwUcHPdy_Zcu"
   },
   "outputs": [
    {
     "data": {
      "text/plain": [
       "genre\n",
       "pop            218\n",
       "dance          182\n",
       "rock           162\n",
       "electronic     147\n",
       "hiphop          80\n",
       "ruspop          64\n",
       "alternative     58\n",
       "rusrap          55\n",
       "jazz            44\n",
       "classical       40\n",
       "Name: user_id, dtype: int64"
      ]
     },
     "execution_count": 32,
     "metadata": {},
     "output_type": "execute_result"
    }
   ],
   "source": [
    "# вызов функции для утра понедельника в Петербурге (вместо df — таблица spb_general)\n",
    "genre_weekday(spb_general, 'Monday', '07:00', '11:00')"
   ]
  },
  {
   "cell_type": "code",
   "execution_count": 33,
   "metadata": {
    "id": "EzXVRE1o_Zcu"
   },
   "outputs": [
    {
     "data": {
      "text/plain": [
       "genre\n",
       "pop            713\n",
       "rock           517\n",
       "dance          495\n",
       "electronic     482\n",
       "hiphop         273\n",
       "world          208\n",
       "ruspop         170\n",
       "alternative    163\n",
       "classical      163\n",
       "rusrap         142\n",
       "Name: user_id, dtype: int64"
      ]
     },
     "execution_count": 33,
     "metadata": {},
     "output_type": "execute_result"
    }
   ],
   "source": [
    "# вызов функции для вечера пятницы в Москве\n",
    "genre_weekday(moscow_general, 'Friday', '17:00', '23:00')"
   ]
  },
  {
   "cell_type": "code",
   "execution_count": 34,
   "metadata": {
    "id": "JZaEKu5v_Zcu",
    "scrolled": true
   },
   "outputs": [
    {
     "data": {
      "text/plain": [
       "genre\n",
       "pop            256\n",
       "electronic     216\n",
       "rock           216\n",
       "dance          210\n",
       "hiphop          97\n",
       "alternative     63\n",
       "jazz            61\n",
       "classical       60\n",
       "rusrap          59\n",
       "world           54\n",
       "Name: user_id, dtype: int64"
      ]
     },
     "execution_count": 34,
     "metadata": {},
     "output_type": "execute_result"
    }
   ],
   "source": [
    "# вызов функции для вечера пятницы в Петербурге\n",
    "genre_weekday(spb_general, 'Friday', '17:00', '23:00')"
   ]
  },
  {
   "cell_type": "markdown",
   "metadata": {
    "id": "wrCe4MNX_Zcu"
   },
   "source": [
    "**Выводы**\n",
    "\n",
    "Если сравнить топ-10 жанров в понедельник утром, можно сделать такие выводы:\n",
    "\n",
    "1. В Москве и Петербурге слушают похожую музыку. Единственное отличие — в московский рейтинг вошёл жанр “world”, а в петербургский — джаз и классика.\n",
    "\n",
    "2. В Москве пропущенных значений оказалось так много, что значение `'unknown'` заняло десятое место среди самых популярных жанров. Значит, пропущенные значения занимают существенную долю в данных и угрожают достоверности исследования.\n",
    "\n",
    "Вечер пятницы не меняет эту картину. Некоторые жанры поднимаются немного выше, другие спускаются, но в целом топ-10 остаётся тем же самым.\n",
    "\n",
    "Таким образом, вторая гипотеза подтвердилась лишь частично:\n",
    "* Пользователи слушают похожую музыку в начале недели и в конце.\n",
    "* Разница между Москвой и Петербургом не слишком выражена. В Москве чаще слушают русскую популярную музыку, в Петербурге — джаз.\n",
    "\n",
    "Однако пропуски в данных ставят под сомнение этот результат. В Москве их так много, что рейтинг топ-10 мог бы выглядеть иначе, если бы не утерянные  данные о жанрах."
   ]
  },
  {
   "cell_type": "markdown",
   "metadata": {
    "id": "JolODAqr_Zcu"
   },
   "source": [
    "### Жанровые предпочтения в Москве и Петербурге\n",
    "\n",
    "Гипотеза: Петербург — столица рэпа, музыку этого жанра там слушают чаще, чем в Москве.  А Москва — город контрастов, в котором, тем не менее, преобладает поп-музыка."
   ]
  },
  {
   "cell_type": "code",
   "execution_count": 35,
   "metadata": {
    "id": "r19lIPke_Zcu"
   },
   "outputs": [],
   "source": [
    "# одной строкой: группировка таблицы moscow_general по столбцу 'genre', \n",
    "# подсчёт числа значений 'genre' в этой группировке методом count(), \n",
    "moscow_genres = moscow_general.groupby('genre')['genre'].count()\n",
    "# сортировка получившегося Series в порядке убывания и сохранение в moscow_genres\n",
    "moscow_genres = moscow_genres.sort_values(ascending = False)"
   ]
  },
  {
   "cell_type": "code",
   "execution_count": 36,
   "metadata": {
    "id": "WhCSooF8_Zcv"
   },
   "outputs": [
    {
     "data": {
      "text/plain": [
       "genre\n",
       "pop            5892\n",
       "dance          4435\n",
       "rock           3965\n",
       "electronic     3786\n",
       "hiphop         2096\n",
       "classical      1616\n",
       "world          1432\n",
       "alternative    1379\n",
       "ruspop         1372\n",
       "rusrap         1161\n",
       "Name: genre, dtype: int64"
      ]
     },
     "metadata": {},
     "output_type": "display_data"
    }
   ],
   "source": [
    "# просмотр первых 10 строк moscow_genres\n",
    "display(moscow_genres.head(10))"
   ]
  },
  {
   "cell_type": "code",
   "execution_count": 37,
   "metadata": {
    "id": "gluLIpE7_Zcv"
   },
   "outputs": [],
   "source": [
    "# одной строкой: группировка таблицы spb_general по столбцу 'genre', \n",
    "# подсчёт числа значений 'genre' в этой группировке методом count(), \n",
    "spb_genres = spb_general.groupby('genre')['genre'].count()\n",
    "# сортировка получившегося Series в порядке убывания и сохранение в spb_genres\n",
    "spb_genres = spb_genres.sort_values(ascending = False)"
   ]
  },
  {
   "cell_type": "code",
   "execution_count": 38,
   "metadata": {
    "id": "uaGJHjVU_Zcv",
    "scrolled": true
   },
   "outputs": [
    {
     "data": {
      "text/plain": [
       "genre\n",
       "pop            2431\n",
       "dance          1932\n",
       "rock           1879\n",
       "electronic     1736\n",
       "hiphop          960\n",
       "alternative     649\n",
       "classical       646\n",
       "rusrap          564\n",
       "ruspop          538\n",
       "world           515\n",
       "Name: genre, dtype: int64"
      ]
     },
     "metadata": {},
     "output_type": "display_data"
    }
   ],
   "source": [
    "# просмотр первых 10 строк spb_genres\n",
    "display(spb_genres.head(10 ))"
   ]
  },
  {
   "cell_type": "markdown",
   "metadata": {
    "id": "RY51YJYu_Zcv"
   },
   "source": [
    "**Выводы**"
   ]
  },
  {
   "cell_type": "markdown",
   "metadata": {
    "id": "nVhnJEm__Zcv"
   },
   "source": [
    "Гипотеза частично подтвердилась:\n",
    "* Поп-музыка — самый популярный жанр в Москве, как и предполагала гипотеза. Более того, в топ-10 жанров встречается близкий жанр — русская популярная музыка.\n",
    "* Вопреки ожиданиям, рэп одинаково популярен в Москве и Петербурге. \n"
   ]
  },
  {
   "cell_type": "markdown",
   "metadata": {
    "id": "ykKQ0N65_Zcv"
   },
   "source": [
    "## Итоги исследования"
   ]
  },
  {
   "cell_type": "markdown",
   "metadata": {
    "id": "tjUwbHb3_Zcv"
   },
   "source": [
    "Вы проверили три гипотезы и установили:\n",
    "\n",
    "1. День недели по-разному влияет на активность пользователей в Москве и Петербурге. \n",
    "\n",
    "Первая гипотеза полностью подтвердилась.\n",
    "\n",
    "2. Музыкальные предпочтения не сильно меняются в течение недели — будь то Москва или Петербург. Небольшие различия заметны в начале недели, по понедельникам:\n",
    "* в Москве слушают музыку жанра “world”,\n",
    "* в Петербурге — джаз и классику.\n",
    "\n",
    "Таким образом, вторая гипотеза подтвердилась лишь отчасти. Этот результат мог оказаться иным, если бы не пропуски в данных.\n",
    "\n",
    "3. Во вкусах пользователей Москвы и Петербурга больше общего чем различий. Вопреки ожиданиям, предпочтения жанров в Петербурге напоминают московские.\n",
    "\n",
    "Третья гипотеза не подтвердилась. Если различия в предпочтениях и существуют, на основной массе пользователей они незаметны."
   ]
  }
 ],
 "metadata": {
  "ExecuteTimeLog": [
   {
    "duration": 303,
    "start_time": "2022-03-12T07:53:47.825Z"
   },
   {
    "duration": 578,
    "start_time": "2022-03-12T07:54:05.541Z"
   },
   {
    "duration": 290,
    "start_time": "2022-03-12T07:54:08.807Z"
   },
   {
    "duration": 144,
    "start_time": "2022-03-12T07:54:29.148Z"
   },
   {
    "duration": 18,
    "start_time": "2022-03-12T07:54:33.499Z"
   },
   {
    "duration": 30,
    "start_time": "2022-03-12T07:55:00.774Z"
   },
   {
    "duration": 256,
    "start_time": "2022-03-12T08:01:42.722Z"
   },
   {
    "duration": 5,
    "start_time": "2022-03-12T08:01:46.814Z"
   },
   {
    "duration": 22,
    "start_time": "2022-03-12T08:07:23.414Z"
   },
   {
    "duration": 23,
    "start_time": "2022-03-12T08:07:28.582Z"
   },
   {
    "duration": 4,
    "start_time": "2022-03-12T08:07:47.128Z"
   },
   {
    "duration": 22,
    "start_time": "2022-03-12T08:08:48.175Z"
   },
   {
    "duration": 464,
    "start_time": "2022-03-12T08:11:44.043Z"
   },
   {
    "duration": 252,
    "start_time": "2022-03-12T08:14:53.844Z"
   },
   {
    "duration": 269,
    "start_time": "2022-03-12T08:17:41.000Z"
   },
   {
    "duration": 263,
    "start_time": "2022-03-12T08:18:11.414Z"
   },
   {
    "duration": 249,
    "start_time": "2022-03-12T08:18:20.872Z"
   },
   {
    "duration": 270,
    "start_time": "2022-03-12T08:18:39.641Z"
   },
   {
    "duration": 481,
    "start_time": "2022-03-12T08:20:04.850Z"
   },
   {
    "duration": 669,
    "start_time": "2022-03-12T08:20:16.856Z"
   },
   {
    "duration": 82,
    "start_time": "2022-03-12T08:23:43.455Z"
   },
   {
    "duration": 10,
    "start_time": "2022-03-12T08:23:51.341Z"
   },
   {
    "duration": 10,
    "start_time": "2022-03-12T08:25:46.408Z"
   },
   {
    "duration": 19,
    "start_time": "2022-03-12T08:27:48.288Z"
   },
   {
    "duration": 17,
    "start_time": "2022-03-12T08:27:51.920Z"
   },
   {
    "duration": 18,
    "start_time": "2022-03-12T08:27:56.732Z"
   },
   {
    "duration": 11,
    "start_time": "2022-03-12T08:29:00.361Z"
   },
   {
    "duration": 4,
    "start_time": "2022-03-12T08:29:24.990Z"
   },
   {
    "duration": 3,
    "start_time": "2022-03-12T08:29:50.869Z"
   },
   {
    "duration": 4,
    "start_time": "2022-03-12T08:30:35.153Z"
   },
   {
    "duration": 22,
    "start_time": "2022-03-12T08:31:24.485Z"
   },
   {
    "duration": 62,
    "start_time": "2022-03-12T08:32:30.316Z"
   },
   {
    "duration": 58,
    "start_time": "2022-03-12T08:32:43.204Z"
   },
   {
    "duration": 70,
    "start_time": "2022-03-12T08:34:28.587Z"
   },
   {
    "duration": 78,
    "start_time": "2022-03-12T08:34:39.398Z"
   },
   {
    "duration": 57,
    "start_time": "2022-03-12T08:35:31.471Z"
   },
   {
    "duration": 74,
    "start_time": "2022-03-12T08:36:10.025Z"
   },
   {
    "duration": 73,
    "start_time": "2022-03-12T08:36:15.541Z"
   },
   {
    "duration": 57,
    "start_time": "2022-03-12T08:36:26.033Z"
   },
   {
    "duration": 63,
    "start_time": "2022-03-12T08:37:20.444Z"
   },
   {
    "duration": 53,
    "start_time": "2022-03-12T08:37:25.169Z"
   },
   {
    "duration": 8,
    "start_time": "2022-03-12T08:38:28.811Z"
   },
   {
    "duration": 3,
    "start_time": "2022-03-12T08:44:20.225Z"
   },
   {
    "duration": 3,
    "start_time": "2022-03-12T08:44:23.050Z"
   },
   {
    "duration": 10,
    "start_time": "2022-03-12T08:46:13.823Z"
   },
   {
    "duration": 10,
    "start_time": "2022-03-12T08:46:18.291Z"
   },
   {
    "duration": 269,
    "start_time": "2022-03-12T08:46:39.598Z"
   },
   {
    "duration": 46,
    "start_time": "2022-03-12T08:50:17.902Z"
   },
   {
    "duration": 45,
    "start_time": "2022-03-12T08:50:21.396Z"
   },
   {
    "duration": 298,
    "start_time": "2022-03-12T08:50:46.088Z"
   },
   {
    "duration": 46,
    "start_time": "2022-03-12T08:51:03.625Z"
   },
   {
    "duration": 44,
    "start_time": "2022-03-12T08:52:38.852Z"
   },
   {
    "duration": 346,
    "start_time": "2022-03-12T08:53:15.917Z"
   },
   {
    "duration": 47,
    "start_time": "2022-03-12T08:54:48.329Z"
   },
   {
    "duration": 50,
    "start_time": "2022-03-12T08:55:23.413Z"
   },
   {
    "duration": 307,
    "start_time": "2022-03-12T08:55:27.816Z"
   },
   {
    "duration": 42,
    "start_time": "2022-03-12T08:55:41.154Z"
   },
   {
    "duration": 42,
    "start_time": "2022-03-12T08:55:49.695Z"
   },
   {
    "duration": 3,
    "start_time": "2022-03-12T08:57:38.855Z"
   },
   {
    "duration": 165,
    "start_time": "2022-03-12T08:57:40.787Z"
   },
   {
    "duration": 12,
    "start_time": "2022-03-12T08:57:42.391Z"
   },
   {
    "duration": 25,
    "start_time": "2022-03-12T08:57:46.336Z"
   },
   {
    "duration": 4,
    "start_time": "2022-03-12T08:57:50.121Z"
   },
   {
    "duration": 22,
    "start_time": "2022-03-12T08:57:52.169Z"
   },
   {
    "duration": 3,
    "start_time": "2022-03-12T08:57:54.922Z"
   },
   {
    "duration": 24,
    "start_time": "2022-03-12T08:57:58.432Z"
   },
   {
    "duration": 18,
    "start_time": "2022-03-12T08:58:01.411Z"
   },
   {
    "duration": 24,
    "start_time": "2022-03-12T08:58:03.974Z"
   },
   {
    "duration": 58,
    "start_time": "2022-03-12T08:58:05.739Z"
   },
   {
    "duration": 64,
    "start_time": "2022-03-12T08:58:07.834Z"
   },
   {
    "duration": 54,
    "start_time": "2022-03-12T08:58:09.999Z"
   },
   {
    "duration": 43,
    "start_time": "2022-03-12T08:58:13.318Z"
   },
   {
    "duration": 3,
    "start_time": "2022-03-12T08:58:31.421Z"
   },
   {
    "duration": 10,
    "start_time": "2022-03-12T08:58:37.157Z"
   },
   {
    "duration": 42,
    "start_time": "2022-03-12T08:59:05.546Z"
   },
   {
    "duration": 4230,
    "start_time": "2022-03-12T09:01:39.725Z"
   },
   {
    "duration": 4456,
    "start_time": "2022-03-12T09:03:41.533Z"
   },
   {
    "duration": 32,
    "start_time": "2022-03-12T09:04:35.617Z"
   },
   {
    "duration": 32,
    "start_time": "2022-03-12T09:06:16.580Z"
   },
   {
    "duration": 260,
    "start_time": "2022-03-12T09:07:08.340Z"
   },
   {
    "duration": 34,
    "start_time": "2022-03-12T09:07:25.352Z"
   },
   {
    "duration": 272,
    "start_time": "2022-03-12T09:27:35.454Z"
   },
   {
    "duration": 270,
    "start_time": "2022-03-12T09:27:45.564Z"
   },
   {
    "duration": 41,
    "start_time": "2022-03-12T09:27:53.740Z"
   },
   {
    "duration": 31,
    "start_time": "2022-03-12T09:31:36.290Z"
   },
   {
    "duration": 34,
    "start_time": "2022-03-12T09:33:48.469Z"
   },
   {
    "duration": 92,
    "start_time": "2022-03-12T09:39:58.274Z"
   },
   {
    "duration": 4,
    "start_time": "2022-03-12T09:40:04.819Z"
   },
   {
    "duration": 19,
    "start_time": "2022-03-12T09:42:59.637Z"
   },
   {
    "duration": 17,
    "start_time": "2022-03-12T09:45:12.360Z"
   },
   {
    "duration": 17,
    "start_time": "2022-03-12T09:45:14.260Z"
   },
   {
    "duration": 15,
    "start_time": "2022-03-12T09:45:16.457Z"
   },
   {
    "duration": 18,
    "start_time": "2022-03-12T09:45:18.455Z"
   },
   {
    "duration": 17,
    "start_time": "2022-03-12T09:45:20.365Z"
   },
   {
    "duration": 9,
    "start_time": "2022-03-12T09:51:28.496Z"
   },
   {
    "duration": 270,
    "start_time": "2022-03-12T09:55:24.732Z"
   },
   {
    "duration": 7,
    "start_time": "2022-03-12T09:55:35.184Z"
   },
   {
    "duration": 7,
    "start_time": "2022-03-12T09:55:39.722Z"
   },
   {
    "duration": 6,
    "start_time": "2022-03-12T09:55:57.950Z"
   },
   {
    "duration": 11,
    "start_time": "2022-03-12T09:57:09.677Z"
   },
   {
    "duration": 9,
    "start_time": "2022-03-12T09:57:19.993Z"
   },
   {
    "duration": 22,
    "start_time": "2022-03-12T09:57:42.225Z"
   },
   {
    "duration": 10,
    "start_time": "2022-03-12T09:57:53.795Z"
   },
   {
    "duration": 274,
    "start_time": "2022-03-12T09:58:29.323Z"
   },
   {
    "duration": 283,
    "start_time": "2022-03-12T09:58:43.807Z"
   },
   {
    "duration": -43,
    "start_time": "2022-03-12T09:58:44.135Z"
   },
   {
    "duration": 11,
    "start_time": "2022-03-12T09:59:12.701Z"
   },
   {
    "duration": 4,
    "start_time": "2022-03-12T10:06:52.755Z"
   },
   {
    "duration": 4,
    "start_time": "2022-03-12T10:08:45.830Z"
   },
   {
    "duration": 21,
    "start_time": "2022-03-12T10:10:07.112Z"
   },
   {
    "duration": 14,
    "start_time": "2022-03-12T10:11:28.452Z"
   },
   {
    "duration": 18,
    "start_time": "2022-03-12T10:11:30.245Z"
   },
   {
    "duration": 14,
    "start_time": "2022-03-12T10:11:31.631Z"
   },
   {
    "duration": 11,
    "start_time": "2022-03-12T10:15:40.993Z"
   },
   {
    "duration": 16,
    "start_time": "2022-03-12T10:16:11.446Z"
   },
   {
    "duration": 33,
    "start_time": "2022-03-12T10:16:47.874Z"
   },
   {
    "duration": 35,
    "start_time": "2022-03-12T10:16:50.897Z"
   },
   {
    "duration": 279,
    "start_time": "2022-03-12T10:22:30.829Z"
   },
   {
    "duration": 296,
    "start_time": "2022-03-12T10:23:53.208Z"
   },
   {
    "duration": 8,
    "start_time": "2022-03-12T10:24:55.483Z"
   },
   {
    "duration": 5,
    "start_time": "2022-03-12T10:25:23.357Z"
   },
   {
    "duration": 267,
    "start_time": "2022-03-12T10:27:12.183Z"
   },
   {
    "duration": 268,
    "start_time": "2022-03-12T10:27:28.601Z"
   },
   {
    "duration": 10,
    "start_time": "2022-03-12T10:28:52.801Z"
   },
   {
    "duration": 4,
    "start_time": "2022-03-12T10:28:55.718Z"
   },
   {
    "duration": 7,
    "start_time": "2022-03-12T10:29:05.168Z"
   },
   {
    "duration": 5,
    "start_time": "2022-03-12T10:30:03.806Z"
   },
   {
    "duration": 3,
    "start_time": "2022-03-12T10:35:09.670Z"
   },
   {
    "duration": 169,
    "start_time": "2022-03-12T10:35:12.476Z"
   },
   {
    "duration": 12,
    "start_time": "2022-03-12T10:35:15.091Z"
   },
   {
    "duration": 11,
    "start_time": "2022-03-12T10:35:27.900Z"
   },
   {
    "duration": 24,
    "start_time": "2022-03-12T10:35:32.526Z"
   },
   {
    "duration": 3,
    "start_time": "2022-03-12T10:35:42.420Z"
   },
   {
    "duration": 24,
    "start_time": "2022-03-12T10:35:46.460Z"
   },
   {
    "duration": 4,
    "start_time": "2022-03-12T10:35:49.618Z"
   },
   {
    "duration": 24,
    "start_time": "2022-03-12T10:35:52.769Z"
   },
   {
    "duration": 19,
    "start_time": "2022-03-12T10:37:29.381Z"
   },
   {
    "duration": 23,
    "start_time": "2022-03-12T10:37:34.934Z"
   },
   {
    "duration": 64,
    "start_time": "2022-03-12T10:37:45.734Z"
   },
   {
    "duration": 66,
    "start_time": "2022-03-12T10:37:50.738Z"
   },
   {
    "duration": 51,
    "start_time": "2022-03-12T10:38:06.768Z"
   },
   {
    "duration": 43,
    "start_time": "2022-03-12T10:38:10.767Z"
   },
   {
    "duration": 4,
    "start_time": "2022-03-12T10:38:27.016Z"
   },
   {
    "duration": 11,
    "start_time": "2022-03-12T10:38:29.268Z"
   },
   {
    "duration": 46,
    "start_time": "2022-03-12T10:38:38.652Z"
   },
   {
    "duration": 34,
    "start_time": "2022-03-12T10:38:55.813Z"
   },
   {
    "duration": 35,
    "start_time": "2022-03-12T10:39:08.837Z"
   },
   {
    "duration": 4,
    "start_time": "2022-03-12T10:39:30.265Z"
   },
   {
    "duration": 18,
    "start_time": "2022-03-12T10:39:50.493Z"
   },
   {
    "duration": 16,
    "start_time": "2022-03-12T10:39:56.153Z"
   },
   {
    "duration": 18,
    "start_time": "2022-03-12T10:39:58.820Z"
   },
   {
    "duration": 23,
    "start_time": "2022-03-12T10:40:00.878Z"
   },
   {
    "duration": 19,
    "start_time": "2022-03-12T10:40:02.939Z"
   },
   {
    "duration": 16,
    "start_time": "2022-03-12T10:40:05.277Z"
   },
   {
    "duration": 9,
    "start_time": "2022-03-12T10:40:34.020Z"
   },
   {
    "duration": 13,
    "start_time": "2022-03-12T10:40:58.536Z"
   },
   {
    "duration": 11,
    "start_time": "2022-03-12T10:41:00.550Z"
   },
   {
    "duration": 5,
    "start_time": "2022-03-12T10:41:13.382Z"
   },
   {
    "duration": 85,
    "start_time": "2022-03-12T10:41:27.673Z"
   },
   {
    "duration": 21,
    "start_time": "2022-03-12T10:41:35.409Z"
   },
   {
    "duration": 16,
    "start_time": "2022-03-12T10:41:56.649Z"
   },
   {
    "duration": 19,
    "start_time": "2022-03-12T10:41:59.473Z"
   },
   {
    "duration": 14,
    "start_time": "2022-03-12T10:42:01.575Z"
   },
   {
    "duration": 9,
    "start_time": "2022-03-12T10:42:23.821Z"
   },
   {
    "duration": 7,
    "start_time": "2022-03-12T10:42:30.826Z"
   },
   {
    "duration": 7,
    "start_time": "2022-03-12T10:42:37.192Z"
   },
   {
    "duration": 7,
    "start_time": "2022-03-12T10:42:41.386Z"
   },
   {
    "duration": 145,
    "start_time": "2022-03-20T09:16:53.611Z"
   },
   {
    "duration": 45,
    "start_time": "2022-03-20T16:03:00.282Z"
   },
   {
    "duration": 410,
    "start_time": "2022-03-20T16:03:27.894Z"
   },
   {
    "duration": 157,
    "start_time": "2022-03-20T16:03:28.306Z"
   },
   {
    "duration": 16,
    "start_time": "2022-03-20T16:03:28.465Z"
   },
   {
    "duration": 35,
    "start_time": "2022-03-20T16:03:28.483Z"
   },
   {
    "duration": 63,
    "start_time": "2022-03-20T16:03:28.519Z"
   },
   {
    "duration": 0,
    "start_time": "2022-03-20T16:03:28.601Z"
   },
   {
    "duration": 0,
    "start_time": "2022-03-20T16:03:28.602Z"
   },
   {
    "duration": 0,
    "start_time": "2022-03-20T16:03:28.603Z"
   },
   {
    "duration": 0,
    "start_time": "2022-03-20T16:03:28.604Z"
   },
   {
    "duration": 0,
    "start_time": "2022-03-20T16:03:28.605Z"
   },
   {
    "duration": 0,
    "start_time": "2022-03-20T16:03:28.606Z"
   },
   {
    "duration": 0,
    "start_time": "2022-03-20T16:03:28.609Z"
   },
   {
    "duration": 0,
    "start_time": "2022-03-20T16:03:28.610Z"
   },
   {
    "duration": 0,
    "start_time": "2022-03-20T16:03:28.611Z"
   },
   {
    "duration": 0,
    "start_time": "2022-03-20T16:03:28.612Z"
   },
   {
    "duration": 0,
    "start_time": "2022-03-20T16:03:28.613Z"
   },
   {
    "duration": 0,
    "start_time": "2022-03-20T16:03:28.614Z"
   },
   {
    "duration": 0,
    "start_time": "2022-03-20T16:03:28.615Z"
   },
   {
    "duration": 0,
    "start_time": "2022-03-20T16:03:28.616Z"
   },
   {
    "duration": 0,
    "start_time": "2022-03-20T16:03:28.617Z"
   },
   {
    "duration": 0,
    "start_time": "2022-03-20T16:03:28.618Z"
   },
   {
    "duration": 0,
    "start_time": "2022-03-20T16:03:28.619Z"
   },
   {
    "duration": 0,
    "start_time": "2022-03-20T16:03:28.620Z"
   },
   {
    "duration": 0,
    "start_time": "2022-03-20T16:03:28.621Z"
   },
   {
    "duration": 0,
    "start_time": "2022-03-20T16:03:28.622Z"
   },
   {
    "duration": 0,
    "start_time": "2022-03-20T16:03:28.623Z"
   },
   {
    "duration": 0,
    "start_time": "2022-03-20T16:03:28.624Z"
   },
   {
    "duration": 0,
    "start_time": "2022-03-20T16:03:28.626Z"
   },
   {
    "duration": 0,
    "start_time": "2022-03-20T16:03:28.627Z"
   },
   {
    "duration": 0,
    "start_time": "2022-03-20T16:03:28.628Z"
   },
   {
    "duration": 0,
    "start_time": "2022-03-20T16:03:28.629Z"
   },
   {
    "duration": 0,
    "start_time": "2022-03-20T16:03:28.630Z"
   },
   {
    "duration": 0,
    "start_time": "2022-03-20T16:03:28.631Z"
   },
   {
    "duration": 0,
    "start_time": "2022-03-20T16:03:28.632Z"
   },
   {
    "duration": 0,
    "start_time": "2022-03-20T16:03:28.633Z"
   },
   {
    "duration": 0,
    "start_time": "2022-03-20T16:03:28.634Z"
   },
   {
    "duration": 0,
    "start_time": "2022-03-20T16:03:28.635Z"
   },
   {
    "duration": 0,
    "start_time": "2022-03-20T16:03:28.636Z"
   },
   {
    "duration": 6,
    "start_time": "2022-03-20T16:03:55.393Z"
   },
   {
    "duration": 3,
    "start_time": "2022-03-20T16:04:04.948Z"
   },
   {
    "duration": 10,
    "start_time": "2022-03-20T16:04:07.591Z"
   },
   {
    "duration": 29,
    "start_time": "2022-03-20T16:04:10.321Z"
   },
   {
    "duration": 7,
    "start_time": "2022-03-20T16:04:13.885Z"
   },
   {
    "duration": 4,
    "start_time": "2022-03-20T16:04:21.702Z"
   },
   {
    "duration": 4,
    "start_time": "2022-03-20T16:05:05.901Z"
   },
   {
    "duration": 367,
    "start_time": "2022-03-20T16:06:56.458Z"
   },
   {
    "duration": 149,
    "start_time": "2022-03-20T16:06:56.826Z"
   },
   {
    "duration": 17,
    "start_time": "2022-03-20T16:06:56.977Z"
   },
   {
    "duration": 28,
    "start_time": "2022-03-20T16:06:57.002Z"
   },
   {
    "duration": 4,
    "start_time": "2022-03-20T16:06:57.031Z"
   },
   {
    "duration": 13,
    "start_time": "2022-03-20T16:06:57.036Z"
   },
   {
    "duration": 5,
    "start_time": "2022-03-20T16:06:57.050Z"
   },
   {
    "duration": 44,
    "start_time": "2022-03-20T16:06:57.057Z"
   },
   {
    "duration": 17,
    "start_time": "2022-03-20T16:06:57.103Z"
   },
   {
    "duration": 21,
    "start_time": "2022-03-20T16:06:57.122Z"
   },
   {
    "duration": 83,
    "start_time": "2022-03-20T16:06:57.145Z"
   },
   {
    "duration": 77,
    "start_time": "2022-03-20T16:06:57.229Z"
   },
   {
    "duration": 57,
    "start_time": "2022-03-20T16:06:57.308Z"
   },
   {
    "duration": 49,
    "start_time": "2022-03-20T16:06:57.366Z"
   },
   {
    "duration": 3,
    "start_time": "2022-03-20T16:06:57.416Z"
   },
   {
    "duration": 14,
    "start_time": "2022-03-20T16:06:57.421Z"
   },
   {
    "duration": 42,
    "start_time": "2022-03-20T16:06:57.436Z"
   },
   {
    "duration": 52,
    "start_time": "2022-03-20T16:06:57.479Z"
   },
   {
    "duration": 37,
    "start_time": "2022-03-20T16:06:57.532Z"
   },
   {
    "duration": 4,
    "start_time": "2022-03-20T16:06:57.571Z"
   },
   {
    "duration": 36,
    "start_time": "2022-03-20T16:06:57.576Z"
   },
   {
    "duration": 14,
    "start_time": "2022-03-20T16:06:57.613Z"
   },
   {
    "duration": 15,
    "start_time": "2022-03-20T16:06:57.628Z"
   },
   {
    "duration": 13,
    "start_time": "2022-03-20T16:06:57.645Z"
   },
   {
    "duration": 45,
    "start_time": "2022-03-20T16:06:57.659Z"
   },
   {
    "duration": 16,
    "start_time": "2022-03-20T16:06:57.706Z"
   },
   {
    "duration": 8,
    "start_time": "2022-03-20T16:06:57.723Z"
   },
   {
    "duration": 16,
    "start_time": "2022-03-20T16:06:57.735Z"
   },
   {
    "duration": 9,
    "start_time": "2022-03-20T16:06:57.753Z"
   },
   {
    "duration": 6,
    "start_time": "2022-03-20T16:06:57.763Z"
   },
   {
    "duration": 19,
    "start_time": "2022-03-20T16:06:57.800Z"
   },
   {
    "duration": 11,
    "start_time": "2022-03-20T16:06:57.821Z"
   },
   {
    "duration": 16,
    "start_time": "2022-03-20T16:06:57.834Z"
   },
   {
    "duration": 12,
    "start_time": "2022-03-20T16:06:57.851Z"
   },
   {
    "duration": 8,
    "start_time": "2022-03-20T16:06:57.864Z"
   },
   {
    "duration": 5,
    "start_time": "2022-03-20T16:06:57.902Z"
   },
   {
    "duration": 7,
    "start_time": "2022-03-20T16:06:57.908Z"
   },
   {
    "duration": 8,
    "start_time": "2022-03-20T16:06:57.916Z"
   },
   {
    "duration": 64,
    "start_time": "2022-03-20T16:09:03.507Z"
   },
   {
    "duration": 377,
    "start_time": "2022-03-20T16:09:15.539Z"
   },
   {
    "duration": 153,
    "start_time": "2022-03-20T16:09:15.918Z"
   },
   {
    "duration": 17,
    "start_time": "2022-03-20T16:09:16.073Z"
   },
   {
    "duration": 32,
    "start_time": "2022-03-20T16:09:16.100Z"
   },
   {
    "duration": 4,
    "start_time": "2022-03-20T16:09:16.134Z"
   },
   {
    "duration": 14,
    "start_time": "2022-03-20T16:09:16.139Z"
   },
   {
    "duration": 5,
    "start_time": "2022-03-20T16:09:16.155Z"
   },
   {
    "duration": 48,
    "start_time": "2022-03-20T16:09:16.162Z"
   },
   {
    "duration": 18,
    "start_time": "2022-03-20T16:09:16.212Z"
   },
   {
    "duration": 24,
    "start_time": "2022-03-20T16:09:16.233Z"
   },
   {
    "duration": 91,
    "start_time": "2022-03-20T16:09:16.259Z"
   },
   {
    "duration": 80,
    "start_time": "2022-03-20T16:09:16.352Z"
   },
   {
    "duration": 54,
    "start_time": "2022-03-20T16:09:16.434Z"
   },
   {
    "duration": 49,
    "start_time": "2022-03-20T16:09:16.490Z"
   },
   {
    "duration": 3,
    "start_time": "2022-03-20T16:09:16.541Z"
   },
   {
    "duration": 14,
    "start_time": "2022-03-20T16:09:16.546Z"
   },
   {
    "duration": 57,
    "start_time": "2022-03-20T16:09:16.562Z"
   },
   {
    "duration": 63,
    "start_time": "2022-03-20T16:09:16.621Z"
   },
   {
    "duration": 0,
    "start_time": "2022-03-20T16:09:16.686Z"
   },
   {
    "duration": 0,
    "start_time": "2022-03-20T16:09:16.701Z"
   },
   {
    "duration": 0,
    "start_time": "2022-03-20T16:09:16.702Z"
   },
   {
    "duration": 0,
    "start_time": "2022-03-20T16:09:16.703Z"
   },
   {
    "duration": 0,
    "start_time": "2022-03-20T16:09:16.704Z"
   },
   {
    "duration": 0,
    "start_time": "2022-03-20T16:09:16.705Z"
   },
   {
    "duration": 0,
    "start_time": "2022-03-20T16:09:16.706Z"
   },
   {
    "duration": 0,
    "start_time": "2022-03-20T16:09:16.707Z"
   },
   {
    "duration": 0,
    "start_time": "2022-03-20T16:09:16.708Z"
   },
   {
    "duration": 0,
    "start_time": "2022-03-20T16:09:16.709Z"
   },
   {
    "duration": 0,
    "start_time": "2022-03-20T16:09:16.710Z"
   },
   {
    "duration": 0,
    "start_time": "2022-03-20T16:09:16.711Z"
   },
   {
    "duration": 0,
    "start_time": "2022-03-20T16:09:16.712Z"
   },
   {
    "duration": 0,
    "start_time": "2022-03-20T16:09:16.713Z"
   },
   {
    "duration": 0,
    "start_time": "2022-03-20T16:09:16.714Z"
   },
   {
    "duration": 0,
    "start_time": "2022-03-20T16:09:16.715Z"
   },
   {
    "duration": 0,
    "start_time": "2022-03-20T16:09:16.716Z"
   },
   {
    "duration": 0,
    "start_time": "2022-03-20T16:09:16.718Z"
   },
   {
    "duration": 0,
    "start_time": "2022-03-20T16:09:16.718Z"
   },
   {
    "duration": 0,
    "start_time": "2022-03-20T16:09:16.719Z"
   },
   {
    "duration": 13,
    "start_time": "2022-03-20T16:09:36.882Z"
   },
   {
    "duration": 34,
    "start_time": "2022-03-20T16:12:03.568Z"
   },
   {
    "duration": 14,
    "start_time": "2022-03-20T16:12:22.192Z"
   },
   {
    "duration": 418,
    "start_time": "2022-03-20T16:16:10.267Z"
   },
   {
    "duration": 168,
    "start_time": "2022-03-20T16:16:10.687Z"
   },
   {
    "duration": 19,
    "start_time": "2022-03-20T16:16:10.857Z"
   },
   {
    "duration": 35,
    "start_time": "2022-03-20T16:16:10.878Z"
   },
   {
    "duration": 4,
    "start_time": "2022-03-20T16:16:10.915Z"
   },
   {
    "duration": 13,
    "start_time": "2022-03-20T16:16:10.921Z"
   },
   {
    "duration": 5,
    "start_time": "2022-03-20T16:16:10.936Z"
   },
   {
    "duration": 23,
    "start_time": "2022-03-20T16:16:10.943Z"
   },
   {
    "duration": 49,
    "start_time": "2022-03-20T16:16:10.968Z"
   },
   {
    "duration": 24,
    "start_time": "2022-03-20T16:16:11.020Z"
   },
   {
    "duration": 75,
    "start_time": "2022-03-20T16:16:11.046Z"
   },
   {
    "duration": 85,
    "start_time": "2022-03-20T16:16:11.122Z"
   },
   {
    "duration": 51,
    "start_time": "2022-03-20T16:16:11.209Z"
   },
   {
    "duration": 52,
    "start_time": "2022-03-20T16:16:11.262Z"
   },
   {
    "duration": 3,
    "start_time": "2022-03-20T16:16:11.315Z"
   },
   {
    "duration": 10,
    "start_time": "2022-03-20T16:16:11.320Z"
   },
   {
    "duration": 39,
    "start_time": "2022-03-20T16:16:11.332Z"
   },
   {
    "duration": 34,
    "start_time": "2022-03-20T16:16:11.373Z"
   },
   {
    "duration": 12,
    "start_time": "2022-03-20T16:16:11.408Z"
   },
   {
    "duration": 3,
    "start_time": "2022-03-20T16:16:11.422Z"
   },
   {
    "duration": 21,
    "start_time": "2022-03-20T16:16:11.427Z"
   },
   {
    "duration": 15,
    "start_time": "2022-03-20T16:16:11.450Z"
   },
   {
    "duration": 46,
    "start_time": "2022-03-20T16:16:11.466Z"
   },
   {
    "duration": 15,
    "start_time": "2022-03-20T16:16:11.513Z"
   },
   {
    "duration": 17,
    "start_time": "2022-03-20T16:16:11.530Z"
   },
   {
    "duration": 14,
    "start_time": "2022-03-20T16:16:11.549Z"
   },
   {
    "duration": 37,
    "start_time": "2022-03-20T16:16:11.565Z"
   },
   {
    "duration": 12,
    "start_time": "2022-03-20T16:16:11.606Z"
   },
   {
    "duration": 9,
    "start_time": "2022-03-20T16:16:11.619Z"
   },
   {
    "duration": 4,
    "start_time": "2022-03-20T16:16:11.630Z"
   },
   {
    "duration": 53,
    "start_time": "2022-03-20T16:16:11.636Z"
   },
   {
    "duration": 13,
    "start_time": "2022-03-20T16:16:11.691Z"
   },
   {
    "duration": 17,
    "start_time": "2022-03-20T16:16:11.706Z"
   },
   {
    "duration": 12,
    "start_time": "2022-03-20T16:16:11.724Z"
   },
   {
    "duration": 8,
    "start_time": "2022-03-20T16:16:11.738Z"
   },
   {
    "duration": 6,
    "start_time": "2022-03-20T16:16:11.747Z"
   },
   {
    "duration": 12,
    "start_time": "2022-03-20T16:16:11.754Z"
   },
   {
    "duration": 8,
    "start_time": "2022-03-20T16:16:11.767Z"
   }
  ],
  "colab": {
   "collapsed_sections": [
    "E0vqbgi9ay0H",
    "VUC88oWjTJw2"
   ],
   "name": "yandex_music_project_2021.2.ipynb",
   "provenance": []
  },
  "kernelspec": {
   "display_name": "Python 3 (ipykernel)",
   "language": "python",
   "name": "python3"
  },
  "language_info": {
   "codemirror_mode": {
    "name": "ipython",
    "version": 3
   },
   "file_extension": ".py",
   "mimetype": "text/x-python",
   "name": "python",
   "nbconvert_exporter": "python",
   "pygments_lexer": "ipython3",
   "version": "3.9.5"
  },
  "toc": {
   "base_numbering": 1,
   "nav_menu": {},
   "number_sections": true,
   "sideBar": true,
   "skip_h1_title": true,
   "title_cell": "Table of Contents",
   "title_sidebar": "Contents",
   "toc_cell": false,
   "toc_position": {},
   "toc_section_display": true,
   "toc_window_display": true
  }
 },
 "nbformat": 4,
 "nbformat_minor": 1
}
