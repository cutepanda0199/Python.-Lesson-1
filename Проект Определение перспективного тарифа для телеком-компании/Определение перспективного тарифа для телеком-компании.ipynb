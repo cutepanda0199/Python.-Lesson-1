{
 "cells": [
  {
   "cell_type": "markdown",
   "metadata": {},
   "source": [
    "# Определение перспективного тарифа для телеком-компании\n",
    "\n",
    "Вы аналитик компании «Мегалайн» — федерального оператора сотовой связи. Клиентам предлагают два тарифных плана: «Смарт» и «Ультра». Чтобы скорректировать рекламный бюджет, коммерческий департамент хочет понять, какой тариф приносит больше денег.\n",
    "\n",
    "Вам предстоит сделать предварительный анализ тарифов на небольшой выборке клиентов. В вашем распоряжении данные 500 пользователей «Мегалайна»: кто они, откуда, каким тарифом пользуются, сколько звонков и сообщений каждый отправил за 2018 год. Нужно проанализировать поведение клиентов и сделать вывод — какой тариф лучше.\n",
    "\n",
    "Описание тарифов:\n",
    "* Тариф «Смарт»\n",
    "    Ежемесячная плата: 550 рублей\n",
    "    Включено 500 минут разговора, 50 сообщений и 15 Гб интернет-трафика\n",
    "    Стоимость услуг сверх тарифного пакета:\n",
    "    минута разговора: 3 рубля\n",
    "    сообщение: 3 рубля\n",
    "    1 Гб интернет-трафика: 200 рублей\n",
    "    \n",
    "* Тариф «Ультра»\n",
    "    Ежемесячная плата: 1950 рублей\n",
    "    Включено 3000 минут разговора, 1000 сообщений и 30 Гб интернет-трафика\n",
    "    Стоимость услуг сверх тарифного пакета:\n",
    "    минута разговора: 1 рубль\n",
    "    сообщение: 1 рубль\n",
    "    1 Гб интернет-трафика: 150 рублей\n",
    "\n",
    "> Примечание. «Мегалайн» всегда округляет секунды до минут, а мегабайты — до гигабайт. Каждый звонок округляется отдельно: даже если он длился всего 1 секунду, будет засчитан как 1 минута.\n",
    "Для веб-трафика отдельные сессии не считаются. Вместо этого общая сумма за месяц округляется в бо́льшую сторону. Если абонент использует 1025 мегабайт в этом месяце, с него возьмут плату за 2 гигабайта. Примите, что неиспользованные за предыдущий месяц звонки, смс, интернет на следующий месяц не переносятся."
   ]
  },
  {
   "cell_type": "markdown",
   "metadata": {},
   "source": [
    "# Описание данных:\n",
    "\n",
    "* Таблица users (информация о пользователях):\n",
    "\t* user_id — уникальный идентификатор пользователя\n",
    "\t* first_name — имя пользователя\n",
    "\t* last_name — фамилия пользователя\n",
    "\t* age — возраст пользователя (годы)\n",
    "\t* reg_date — дата подключения тарифа (день, месяц, год)\n",
    "\t* churn_date — дата прекращения пользования тарифом (если значение пропущено, то тариф ещё действовал на момент выгрузки данных)\n",
    "\t* city — город проживания пользователя\n",
    "\t* tariff — название тарифного плана\n",
    "\n",
    "\n",
    "* Таблица calls (информация о звонках):\n",
    "\t* id — уникальный номер звонка\n",
    "\t* call_date — дата звонка\n",
    "\t* duration — длительность звонка в минутах\n",
    "\t* user_id — идентификатор пользователя, сделавшего звонок\n",
    "\n",
    "\n",
    "* Таблица messages (информация о сообщениях):\n",
    "\t* id — уникальный номер сообщения\n",
    "\t* message_date — дата сообщения\n",
    "\t* user_id — идентификатор пользователя, отправившего сообщение\n",
    "\n",
    "\n",
    "\n",
    "* Таблица internet (информация об интернет-сессиях):\n",
    "\t* id — уникальный номер сессии\n",
    "\t* mb_used — объём потраченного за сессию интернет-трафика (в мегабайтах)\n",
    "\t* session_date — дата интернет-сессии\n",
    "\t* user_id — идентификатор пользователя\n",
    "\n",
    "\n",
    "* Таблица tariffs (информация о тарифах):\n",
    "\t* tariff_name — название тарифа\n",
    "\t* rub_monthly_fee — ежемесячная абонентская плата в рублях\n",
    "\t* minutes_included — количество минут разговора в месяц, включённых в абонентскую плату\n",
    "\t* messages_included — количество сообщений в месяц, включённых в абонентскую плату\n",
    "\t* mb_per_month_included — объём интернет-трафика, включённого в абонентскую плату (в мегабайтах)\n",
    "\t* rub_per_minute — стоимость минуты разговора сверх тарифного пакета (например, если в тарифе 100 минут разговора в месяц, то со 101 минуты будет взиматься плата)\n",
    "\t* rub_per_message — стоимость отправки сообщения сверх тарифного пакета\n",
    "\t* rub_per_gb — стоимость дополнительного гигабайта интернет-трафика сверх тарифного пакета (1 гигабайт = 1024 мегабайта)"
   ]
  },
  {
   "cell_type": "markdown",
   "metadata": {},
   "source": [
    "## Изучение данных из файла"
   ]
  },
  {
   "cell_type": "code",
   "execution_count": 1,
   "metadata": {},
   "outputs": [],
   "source": [
    "import pandas as pd\n",
    "import math\n",
    "import matplotlib.pyplot as plt\n",
    "import numpy as np\n",
    "import scipy.stats as st"
   ]
  },
  {
   "cell_type": "code",
   "execution_count": 2,
   "metadata": {},
   "outputs": [],
   "source": [
    "calls = pd.read_csv('/datasets/calls.csv', sep=',')\n",
    "internet = pd.read_csv('/datasets/internet.csv', sep=',')\n",
    "messages = pd.read_csv('/datasets/messages.csv', sep=',')\n",
    "tariffs = pd.read_csv('/datasets/tariffs.csv', sep=',')\n",
    "users = pd.read_csv('/datasets/users.csv', sep=',')"
   ]
  },
  {
   "cell_type": "code",
   "execution_count": 3,
   "metadata": {},
   "outputs": [
    {
     "name": "stdout",
     "output_type": "stream",
     "text": [
      "calls\n"
     ]
    },
    {
     "data": {
      "text/html": [
       "<div>\n",
       "<style scoped>\n",
       "    .dataframe tbody tr th:only-of-type {\n",
       "        vertical-align: middle;\n",
       "    }\n",
       "\n",
       "    .dataframe tbody tr th {\n",
       "        vertical-align: top;\n",
       "    }\n",
       "\n",
       "    .dataframe thead th {\n",
       "        text-align: right;\n",
       "    }\n",
       "</style>\n",
       "<table border=\"1\" class=\"dataframe\">\n",
       "  <thead>\n",
       "    <tr style=\"text-align: right;\">\n",
       "      <th></th>\n",
       "      <th>id</th>\n",
       "      <th>call_date</th>\n",
       "      <th>duration</th>\n",
       "      <th>user_id</th>\n",
       "    </tr>\n",
       "  </thead>\n",
       "  <tbody>\n",
       "    <tr>\n",
       "      <th>0</th>\n",
       "      <td>1000_0</td>\n",
       "      <td>2018-07-25</td>\n",
       "      <td>0.00</td>\n",
       "      <td>1000</td>\n",
       "    </tr>\n",
       "    <tr>\n",
       "      <th>1</th>\n",
       "      <td>1000_1</td>\n",
       "      <td>2018-08-17</td>\n",
       "      <td>0.00</td>\n",
       "      <td>1000</td>\n",
       "    </tr>\n",
       "    <tr>\n",
       "      <th>2</th>\n",
       "      <td>1000_2</td>\n",
       "      <td>2018-06-11</td>\n",
       "      <td>2.85</td>\n",
       "      <td>1000</td>\n",
       "    </tr>\n",
       "    <tr>\n",
       "      <th>3</th>\n",
       "      <td>1000_3</td>\n",
       "      <td>2018-09-21</td>\n",
       "      <td>13.80</td>\n",
       "      <td>1000</td>\n",
       "    </tr>\n",
       "    <tr>\n",
       "      <th>4</th>\n",
       "      <td>1000_4</td>\n",
       "      <td>2018-12-15</td>\n",
       "      <td>5.18</td>\n",
       "      <td>1000</td>\n",
       "    </tr>\n",
       "    <tr>\n",
       "      <th>...</th>\n",
       "      <td>...</td>\n",
       "      <td>...</td>\n",
       "      <td>...</td>\n",
       "      <td>...</td>\n",
       "    </tr>\n",
       "    <tr>\n",
       "      <th>202602</th>\n",
       "      <td>1499_215</td>\n",
       "      <td>2018-12-26</td>\n",
       "      <td>0.76</td>\n",
       "      <td>1499</td>\n",
       "    </tr>\n",
       "    <tr>\n",
       "      <th>202603</th>\n",
       "      <td>1499_216</td>\n",
       "      <td>2018-10-18</td>\n",
       "      <td>18.83</td>\n",
       "      <td>1499</td>\n",
       "    </tr>\n",
       "    <tr>\n",
       "      <th>202604</th>\n",
       "      <td>1499_217</td>\n",
       "      <td>2018-11-10</td>\n",
       "      <td>10.81</td>\n",
       "      <td>1499</td>\n",
       "    </tr>\n",
       "    <tr>\n",
       "      <th>202605</th>\n",
       "      <td>1499_218</td>\n",
       "      <td>2018-10-06</td>\n",
       "      <td>4.27</td>\n",
       "      <td>1499</td>\n",
       "    </tr>\n",
       "    <tr>\n",
       "      <th>202606</th>\n",
       "      <td>1499_219</td>\n",
       "      <td>2018-12-14</td>\n",
       "      <td>19.62</td>\n",
       "      <td>1499</td>\n",
       "    </tr>\n",
       "  </tbody>\n",
       "</table>\n",
       "<p>202607 rows × 4 columns</p>\n",
       "</div>"
      ],
      "text/plain": [
       "              id   call_date  duration  user_id\n",
       "0         1000_0  2018-07-25      0.00     1000\n",
       "1         1000_1  2018-08-17      0.00     1000\n",
       "2         1000_2  2018-06-11      2.85     1000\n",
       "3         1000_3  2018-09-21     13.80     1000\n",
       "4         1000_4  2018-12-15      5.18     1000\n",
       "...          ...         ...       ...      ...\n",
       "202602  1499_215  2018-12-26      0.76     1499\n",
       "202603  1499_216  2018-10-18     18.83     1499\n",
       "202604  1499_217  2018-11-10     10.81     1499\n",
       "202605  1499_218  2018-10-06      4.27     1499\n",
       "202606  1499_219  2018-12-14     19.62     1499\n",
       "\n",
       "[202607 rows x 4 columns]"
      ]
     },
     "metadata": {},
     "output_type": "display_data"
    },
    {
     "name": "stdout",
     "output_type": "stream",
     "text": [
      "<class 'pandas.core.frame.DataFrame'>\n",
      "RangeIndex: 202607 entries, 0 to 202606\n",
      "Data columns (total 4 columns):\n",
      " #   Column     Non-Null Count   Dtype  \n",
      "---  ------     --------------   -----  \n",
      " 0   id         202607 non-null  object \n",
      " 1   call_date  202607 non-null  object \n",
      " 2   duration   202607 non-null  float64\n",
      " 3   user_id    202607 non-null  int64  \n",
      "dtypes: float64(1), int64(1), object(2)\n",
      "memory usage: 6.2+ MB\n",
      "___________________________\n",
      "internet\n"
     ]
    },
    {
     "data": {
      "text/html": [
       "<div>\n",
       "<style scoped>\n",
       "    .dataframe tbody tr th:only-of-type {\n",
       "        vertical-align: middle;\n",
       "    }\n",
       "\n",
       "    .dataframe tbody tr th {\n",
       "        vertical-align: top;\n",
       "    }\n",
       "\n",
       "    .dataframe thead th {\n",
       "        text-align: right;\n",
       "    }\n",
       "</style>\n",
       "<table border=\"1\" class=\"dataframe\">\n",
       "  <thead>\n",
       "    <tr style=\"text-align: right;\">\n",
       "      <th></th>\n",
       "      <th>Unnamed: 0</th>\n",
       "      <th>id</th>\n",
       "      <th>mb_used</th>\n",
       "      <th>session_date</th>\n",
       "      <th>user_id</th>\n",
       "    </tr>\n",
       "  </thead>\n",
       "  <tbody>\n",
       "    <tr>\n",
       "      <th>0</th>\n",
       "      <td>0</td>\n",
       "      <td>1000_0</td>\n",
       "      <td>112.95</td>\n",
       "      <td>2018-11-25</td>\n",
       "      <td>1000</td>\n",
       "    </tr>\n",
       "    <tr>\n",
       "      <th>1</th>\n",
       "      <td>1</td>\n",
       "      <td>1000_1</td>\n",
       "      <td>1052.81</td>\n",
       "      <td>2018-09-07</td>\n",
       "      <td>1000</td>\n",
       "    </tr>\n",
       "    <tr>\n",
       "      <th>2</th>\n",
       "      <td>2</td>\n",
       "      <td>1000_2</td>\n",
       "      <td>1197.26</td>\n",
       "      <td>2018-06-25</td>\n",
       "      <td>1000</td>\n",
       "    </tr>\n",
       "    <tr>\n",
       "      <th>3</th>\n",
       "      <td>3</td>\n",
       "      <td>1000_3</td>\n",
       "      <td>550.27</td>\n",
       "      <td>2018-08-22</td>\n",
       "      <td>1000</td>\n",
       "    </tr>\n",
       "    <tr>\n",
       "      <th>4</th>\n",
       "      <td>4</td>\n",
       "      <td>1000_4</td>\n",
       "      <td>302.56</td>\n",
       "      <td>2018-09-24</td>\n",
       "      <td>1000</td>\n",
       "    </tr>\n",
       "    <tr>\n",
       "      <th>...</th>\n",
       "      <td>...</td>\n",
       "      <td>...</td>\n",
       "      <td>...</td>\n",
       "      <td>...</td>\n",
       "      <td>...</td>\n",
       "    </tr>\n",
       "    <tr>\n",
       "      <th>149391</th>\n",
       "      <td>149391</td>\n",
       "      <td>1499_152</td>\n",
       "      <td>318.90</td>\n",
       "      <td>2018-10-03</td>\n",
       "      <td>1499</td>\n",
       "    </tr>\n",
       "    <tr>\n",
       "      <th>149392</th>\n",
       "      <td>149392</td>\n",
       "      <td>1499_153</td>\n",
       "      <td>490.13</td>\n",
       "      <td>2018-12-14</td>\n",
       "      <td>1499</td>\n",
       "    </tr>\n",
       "    <tr>\n",
       "      <th>149393</th>\n",
       "      <td>149393</td>\n",
       "      <td>1499_154</td>\n",
       "      <td>0.00</td>\n",
       "      <td>2018-10-27</td>\n",
       "      <td>1499</td>\n",
       "    </tr>\n",
       "    <tr>\n",
       "      <th>149394</th>\n",
       "      <td>149394</td>\n",
       "      <td>1499_155</td>\n",
       "      <td>1246.32</td>\n",
       "      <td>2018-11-26</td>\n",
       "      <td>1499</td>\n",
       "    </tr>\n",
       "    <tr>\n",
       "      <th>149395</th>\n",
       "      <td>149395</td>\n",
       "      <td>1499_156</td>\n",
       "      <td>544.37</td>\n",
       "      <td>2018-10-26</td>\n",
       "      <td>1499</td>\n",
       "    </tr>\n",
       "  </tbody>\n",
       "</table>\n",
       "<p>149396 rows × 5 columns</p>\n",
       "</div>"
      ],
      "text/plain": [
       "        Unnamed: 0        id  mb_used session_date  user_id\n",
       "0                0    1000_0   112.95   2018-11-25     1000\n",
       "1                1    1000_1  1052.81   2018-09-07     1000\n",
       "2                2    1000_2  1197.26   2018-06-25     1000\n",
       "3                3    1000_3   550.27   2018-08-22     1000\n",
       "4                4    1000_4   302.56   2018-09-24     1000\n",
       "...            ...       ...      ...          ...      ...\n",
       "149391      149391  1499_152   318.90   2018-10-03     1499\n",
       "149392      149392  1499_153   490.13   2018-12-14     1499\n",
       "149393      149393  1499_154     0.00   2018-10-27     1499\n",
       "149394      149394  1499_155  1246.32   2018-11-26     1499\n",
       "149395      149395  1499_156   544.37   2018-10-26     1499\n",
       "\n",
       "[149396 rows x 5 columns]"
      ]
     },
     "metadata": {},
     "output_type": "display_data"
    },
    {
     "name": "stdout",
     "output_type": "stream",
     "text": [
      "<class 'pandas.core.frame.DataFrame'>\n",
      "RangeIndex: 149396 entries, 0 to 149395\n",
      "Data columns (total 5 columns):\n",
      " #   Column        Non-Null Count   Dtype  \n",
      "---  ------        --------------   -----  \n",
      " 0   Unnamed: 0    149396 non-null  int64  \n",
      " 1   id            149396 non-null  object \n",
      " 2   mb_used       149396 non-null  float64\n",
      " 3   session_date  149396 non-null  object \n",
      " 4   user_id       149396 non-null  int64  \n",
      "dtypes: float64(1), int64(2), object(2)\n",
      "memory usage: 5.7+ MB\n",
      "___________________________\n",
      "messages\n"
     ]
    },
    {
     "data": {
      "text/html": [
       "<div>\n",
       "<style scoped>\n",
       "    .dataframe tbody tr th:only-of-type {\n",
       "        vertical-align: middle;\n",
       "    }\n",
       "\n",
       "    .dataframe tbody tr th {\n",
       "        vertical-align: top;\n",
       "    }\n",
       "\n",
       "    .dataframe thead th {\n",
       "        text-align: right;\n",
       "    }\n",
       "</style>\n",
       "<table border=\"1\" class=\"dataframe\">\n",
       "  <thead>\n",
       "    <tr style=\"text-align: right;\">\n",
       "      <th></th>\n",
       "      <th>id</th>\n",
       "      <th>message_date</th>\n",
       "      <th>user_id</th>\n",
       "    </tr>\n",
       "  </thead>\n",
       "  <tbody>\n",
       "    <tr>\n",
       "      <th>0</th>\n",
       "      <td>1000_0</td>\n",
       "      <td>2018-06-27</td>\n",
       "      <td>1000</td>\n",
       "    </tr>\n",
       "    <tr>\n",
       "      <th>1</th>\n",
       "      <td>1000_1</td>\n",
       "      <td>2018-10-08</td>\n",
       "      <td>1000</td>\n",
       "    </tr>\n",
       "    <tr>\n",
       "      <th>2</th>\n",
       "      <td>1000_2</td>\n",
       "      <td>2018-08-04</td>\n",
       "      <td>1000</td>\n",
       "    </tr>\n",
       "    <tr>\n",
       "      <th>3</th>\n",
       "      <td>1000_3</td>\n",
       "      <td>2018-06-16</td>\n",
       "      <td>1000</td>\n",
       "    </tr>\n",
       "    <tr>\n",
       "      <th>4</th>\n",
       "      <td>1000_4</td>\n",
       "      <td>2018-12-05</td>\n",
       "      <td>1000</td>\n",
       "    </tr>\n",
       "    <tr>\n",
       "      <th>...</th>\n",
       "      <td>...</td>\n",
       "      <td>...</td>\n",
       "      <td>...</td>\n",
       "    </tr>\n",
       "    <tr>\n",
       "      <th>123031</th>\n",
       "      <td>1499_179</td>\n",
       "      <td>2018-12-12</td>\n",
       "      <td>1499</td>\n",
       "    </tr>\n",
       "    <tr>\n",
       "      <th>123032</th>\n",
       "      <td>1499_180</td>\n",
       "      <td>2018-09-28</td>\n",
       "      <td>1499</td>\n",
       "    </tr>\n",
       "    <tr>\n",
       "      <th>123033</th>\n",
       "      <td>1499_181</td>\n",
       "      <td>2018-09-27</td>\n",
       "      <td>1499</td>\n",
       "    </tr>\n",
       "    <tr>\n",
       "      <th>123034</th>\n",
       "      <td>1499_182</td>\n",
       "      <td>2018-11-15</td>\n",
       "      <td>1499</td>\n",
       "    </tr>\n",
       "    <tr>\n",
       "      <th>123035</th>\n",
       "      <td>1499_183</td>\n",
       "      <td>2018-11-16</td>\n",
       "      <td>1499</td>\n",
       "    </tr>\n",
       "  </tbody>\n",
       "</table>\n",
       "<p>123036 rows × 3 columns</p>\n",
       "</div>"
      ],
      "text/plain": [
       "              id message_date  user_id\n",
       "0         1000_0   2018-06-27     1000\n",
       "1         1000_1   2018-10-08     1000\n",
       "2         1000_2   2018-08-04     1000\n",
       "3         1000_3   2018-06-16     1000\n",
       "4         1000_4   2018-12-05     1000\n",
       "...          ...          ...      ...\n",
       "123031  1499_179   2018-12-12     1499\n",
       "123032  1499_180   2018-09-28     1499\n",
       "123033  1499_181   2018-09-27     1499\n",
       "123034  1499_182   2018-11-15     1499\n",
       "123035  1499_183   2018-11-16     1499\n",
       "\n",
       "[123036 rows x 3 columns]"
      ]
     },
     "metadata": {},
     "output_type": "display_data"
    },
    {
     "name": "stdout",
     "output_type": "stream",
     "text": [
      "<class 'pandas.core.frame.DataFrame'>\n",
      "RangeIndex: 123036 entries, 0 to 123035\n",
      "Data columns (total 3 columns):\n",
      " #   Column        Non-Null Count   Dtype \n",
      "---  ------        --------------   ----- \n",
      " 0   id            123036 non-null  object\n",
      " 1   message_date  123036 non-null  object\n",
      " 2   user_id       123036 non-null  int64 \n",
      "dtypes: int64(1), object(2)\n",
      "memory usage: 2.8+ MB\n",
      "___________________________\n",
      "tariffs\n"
     ]
    },
    {
     "data": {
      "text/html": [
       "<div>\n",
       "<style scoped>\n",
       "    .dataframe tbody tr th:only-of-type {\n",
       "        vertical-align: middle;\n",
       "    }\n",
       "\n",
       "    .dataframe tbody tr th {\n",
       "        vertical-align: top;\n",
       "    }\n",
       "\n",
       "    .dataframe thead th {\n",
       "        text-align: right;\n",
       "    }\n",
       "</style>\n",
       "<table border=\"1\" class=\"dataframe\">\n",
       "  <thead>\n",
       "    <tr style=\"text-align: right;\">\n",
       "      <th></th>\n",
       "      <th>messages_included</th>\n",
       "      <th>mb_per_month_included</th>\n",
       "      <th>minutes_included</th>\n",
       "      <th>rub_monthly_fee</th>\n",
       "      <th>rub_per_gb</th>\n",
       "      <th>rub_per_message</th>\n",
       "      <th>rub_per_minute</th>\n",
       "      <th>tariff_name</th>\n",
       "    </tr>\n",
       "  </thead>\n",
       "  <tbody>\n",
       "    <tr>\n",
       "      <th>0</th>\n",
       "      <td>50</td>\n",
       "      <td>15360</td>\n",
       "      <td>500</td>\n",
       "      <td>550</td>\n",
       "      <td>200</td>\n",
       "      <td>3</td>\n",
       "      <td>3</td>\n",
       "      <td>smart</td>\n",
       "    </tr>\n",
       "    <tr>\n",
       "      <th>1</th>\n",
       "      <td>1000</td>\n",
       "      <td>30720</td>\n",
       "      <td>3000</td>\n",
       "      <td>1950</td>\n",
       "      <td>150</td>\n",
       "      <td>1</td>\n",
       "      <td>1</td>\n",
       "      <td>ultra</td>\n",
       "    </tr>\n",
       "  </tbody>\n",
       "</table>\n",
       "</div>"
      ],
      "text/plain": [
       "   messages_included  mb_per_month_included  minutes_included  \\\n",
       "0                 50                  15360               500   \n",
       "1               1000                  30720              3000   \n",
       "\n",
       "   rub_monthly_fee  rub_per_gb  rub_per_message  rub_per_minute tariff_name  \n",
       "0              550         200                3               3       smart  \n",
       "1             1950         150                1               1       ultra  "
      ]
     },
     "metadata": {},
     "output_type": "display_data"
    },
    {
     "name": "stdout",
     "output_type": "stream",
     "text": [
      "<class 'pandas.core.frame.DataFrame'>\n",
      "RangeIndex: 2 entries, 0 to 1\n",
      "Data columns (total 8 columns):\n",
      " #   Column                 Non-Null Count  Dtype \n",
      "---  ------                 --------------  ----- \n",
      " 0   messages_included      2 non-null      int64 \n",
      " 1   mb_per_month_included  2 non-null      int64 \n",
      " 2   minutes_included       2 non-null      int64 \n",
      " 3   rub_monthly_fee        2 non-null      int64 \n",
      " 4   rub_per_gb             2 non-null      int64 \n",
      " 5   rub_per_message        2 non-null      int64 \n",
      " 6   rub_per_minute         2 non-null      int64 \n",
      " 7   tariff_name            2 non-null      object\n",
      "dtypes: int64(7), object(1)\n",
      "memory usage: 256.0+ bytes\n",
      "___________________________\n",
      "users\n"
     ]
    },
    {
     "data": {
      "text/html": [
       "<div>\n",
       "<style scoped>\n",
       "    .dataframe tbody tr th:only-of-type {\n",
       "        vertical-align: middle;\n",
       "    }\n",
       "\n",
       "    .dataframe tbody tr th {\n",
       "        vertical-align: top;\n",
       "    }\n",
       "\n",
       "    .dataframe thead th {\n",
       "        text-align: right;\n",
       "    }\n",
       "</style>\n",
       "<table border=\"1\" class=\"dataframe\">\n",
       "  <thead>\n",
       "    <tr style=\"text-align: right;\">\n",
       "      <th></th>\n",
       "      <th>user_id</th>\n",
       "      <th>age</th>\n",
       "      <th>churn_date</th>\n",
       "      <th>city</th>\n",
       "      <th>first_name</th>\n",
       "      <th>last_name</th>\n",
       "      <th>reg_date</th>\n",
       "      <th>tariff</th>\n",
       "    </tr>\n",
       "  </thead>\n",
       "  <tbody>\n",
       "    <tr>\n",
       "      <th>0</th>\n",
       "      <td>1000</td>\n",
       "      <td>52</td>\n",
       "      <td>NaN</td>\n",
       "      <td>Краснодар</td>\n",
       "      <td>Рафаил</td>\n",
       "      <td>Верещагин</td>\n",
       "      <td>2018-05-25</td>\n",
       "      <td>ultra</td>\n",
       "    </tr>\n",
       "    <tr>\n",
       "      <th>1</th>\n",
       "      <td>1001</td>\n",
       "      <td>41</td>\n",
       "      <td>NaN</td>\n",
       "      <td>Москва</td>\n",
       "      <td>Иван</td>\n",
       "      <td>Ежов</td>\n",
       "      <td>2018-11-01</td>\n",
       "      <td>smart</td>\n",
       "    </tr>\n",
       "    <tr>\n",
       "      <th>2</th>\n",
       "      <td>1002</td>\n",
       "      <td>59</td>\n",
       "      <td>NaN</td>\n",
       "      <td>Стерлитамак</td>\n",
       "      <td>Евгений</td>\n",
       "      <td>Абрамович</td>\n",
       "      <td>2018-06-17</td>\n",
       "      <td>smart</td>\n",
       "    </tr>\n",
       "    <tr>\n",
       "      <th>3</th>\n",
       "      <td>1003</td>\n",
       "      <td>23</td>\n",
       "      <td>NaN</td>\n",
       "      <td>Москва</td>\n",
       "      <td>Белла</td>\n",
       "      <td>Белякова</td>\n",
       "      <td>2018-08-17</td>\n",
       "      <td>ultra</td>\n",
       "    </tr>\n",
       "    <tr>\n",
       "      <th>4</th>\n",
       "      <td>1004</td>\n",
       "      <td>68</td>\n",
       "      <td>NaN</td>\n",
       "      <td>Новокузнецк</td>\n",
       "      <td>Татьяна</td>\n",
       "      <td>Авдеенко</td>\n",
       "      <td>2018-05-14</td>\n",
       "      <td>ultra</td>\n",
       "    </tr>\n",
       "    <tr>\n",
       "      <th>...</th>\n",
       "      <td>...</td>\n",
       "      <td>...</td>\n",
       "      <td>...</td>\n",
       "      <td>...</td>\n",
       "      <td>...</td>\n",
       "      <td>...</td>\n",
       "      <td>...</td>\n",
       "      <td>...</td>\n",
       "    </tr>\n",
       "    <tr>\n",
       "      <th>495</th>\n",
       "      <td>1495</td>\n",
       "      <td>65</td>\n",
       "      <td>NaN</td>\n",
       "      <td>Иркутск</td>\n",
       "      <td>Авксентий</td>\n",
       "      <td>Фокин</td>\n",
       "      <td>2018-08-28</td>\n",
       "      <td>ultra</td>\n",
       "    </tr>\n",
       "    <tr>\n",
       "      <th>496</th>\n",
       "      <td>1496</td>\n",
       "      <td>36</td>\n",
       "      <td>NaN</td>\n",
       "      <td>Вологда</td>\n",
       "      <td>Трифон</td>\n",
       "      <td>Блохин</td>\n",
       "      <td>2018-01-27</td>\n",
       "      <td>smart</td>\n",
       "    </tr>\n",
       "    <tr>\n",
       "      <th>497</th>\n",
       "      <td>1497</td>\n",
       "      <td>32</td>\n",
       "      <td>NaN</td>\n",
       "      <td>Челябинск</td>\n",
       "      <td>Каролина</td>\n",
       "      <td>Агеева</td>\n",
       "      <td>2018-10-09</td>\n",
       "      <td>smart</td>\n",
       "    </tr>\n",
       "    <tr>\n",
       "      <th>498</th>\n",
       "      <td>1498</td>\n",
       "      <td>68</td>\n",
       "      <td>2018-10-25</td>\n",
       "      <td>Владикавказ</td>\n",
       "      <td>Всеволод</td>\n",
       "      <td>Акимчин</td>\n",
       "      <td>2018-07-19</td>\n",
       "      <td>smart</td>\n",
       "    </tr>\n",
       "    <tr>\n",
       "      <th>499</th>\n",
       "      <td>1499</td>\n",
       "      <td>35</td>\n",
       "      <td>NaN</td>\n",
       "      <td>Пермь</td>\n",
       "      <td>Гектор</td>\n",
       "      <td>Корнилов</td>\n",
       "      <td>2018-09-27</td>\n",
       "      <td>smart</td>\n",
       "    </tr>\n",
       "  </tbody>\n",
       "</table>\n",
       "<p>500 rows × 8 columns</p>\n",
       "</div>"
      ],
      "text/plain": [
       "     user_id  age  churn_date         city first_name  last_name    reg_date  \\\n",
       "0       1000   52         NaN    Краснодар     Рафаил  Верещагин  2018-05-25   \n",
       "1       1001   41         NaN       Москва       Иван       Ежов  2018-11-01   \n",
       "2       1002   59         NaN  Стерлитамак    Евгений  Абрамович  2018-06-17   \n",
       "3       1003   23         NaN       Москва      Белла   Белякова  2018-08-17   \n",
       "4       1004   68         NaN  Новокузнецк    Татьяна   Авдеенко  2018-05-14   \n",
       "..       ...  ...         ...          ...        ...        ...         ...   \n",
       "495     1495   65         NaN      Иркутск  Авксентий      Фокин  2018-08-28   \n",
       "496     1496   36         NaN      Вологда     Трифон     Блохин  2018-01-27   \n",
       "497     1497   32         NaN    Челябинск   Каролина     Агеева  2018-10-09   \n",
       "498     1498   68  2018-10-25  Владикавказ   Всеволод    Акимчин  2018-07-19   \n",
       "499     1499   35         NaN        Пермь     Гектор   Корнилов  2018-09-27   \n",
       "\n",
       "    tariff  \n",
       "0    ultra  \n",
       "1    smart  \n",
       "2    smart  \n",
       "3    ultra  \n",
       "4    ultra  \n",
       "..     ...  \n",
       "495  ultra  \n",
       "496  smart  \n",
       "497  smart  \n",
       "498  smart  \n",
       "499  smart  \n",
       "\n",
       "[500 rows x 8 columns]"
      ]
     },
     "metadata": {},
     "output_type": "display_data"
    },
    {
     "name": "stdout",
     "output_type": "stream",
     "text": [
      "<class 'pandas.core.frame.DataFrame'>\n",
      "RangeIndex: 500 entries, 0 to 499\n",
      "Data columns (total 8 columns):\n",
      " #   Column      Non-Null Count  Dtype \n",
      "---  ------      --------------  ----- \n",
      " 0   user_id     500 non-null    int64 \n",
      " 1   age         500 non-null    int64 \n",
      " 2   churn_date  38 non-null     object\n",
      " 3   city        500 non-null    object\n",
      " 4   first_name  500 non-null    object\n",
      " 5   last_name   500 non-null    object\n",
      " 6   reg_date    500 non-null    object\n",
      " 7   tariff      500 non-null    object\n",
      "dtypes: int64(2), object(6)\n",
      "memory usage: 31.4+ KB\n",
      "___________________________\n"
     ]
    }
   ],
   "source": [
    "# словарь датафреймов\n",
    "dict_ds = {\n",
    "    'calls': calls, \n",
    "    'internet': internet, \n",
    "    'messages': messages, \n",
    "    'tariffs': tariffs, \n",
    "    'users': users\n",
    "}\n",
    "\n",
    "for ds_name, ds in dict_ds.items():\n",
    "    print(ds_name)\n",
    "    display(ds)\n",
    "    ds.info()\n",
    "    print('___________________________')\n"
   ]
  },
  {
   "cell_type": "markdown",
   "metadata": {},
   "source": [
    "### Вывод \n",
    "1. Пропусков в таблицах нет, за исключением churn_date в таблице users - если значение пропущено, то тариф ещё действовал на момент выгрузки данных. \n",
    "2. Обнаружены поля типа object, которые необходимо заменить на тип Datetime поменять типы на DataTime;\n",
    "3. Обнаружены некоторые поля - поменять на int. "
   ]
  },
  {
   "cell_type": "markdown",
   "metadata": {},
   "source": [
    "## Подготовка данных"
   ]
  },
  {
   "cell_type": "markdown",
   "metadata": {},
   "source": [
    "### Изменение типов данных"
   ]
  },
  {
   "cell_type": "markdown",
   "metadata": {},
   "source": [
    "Полям users.reg_date, users.churn_date, messages.message_date, internet.session_date, calls.call_date поменяем типы на Datetime"
   ]
  },
  {
   "cell_type": "code",
   "execution_count": 4,
   "metadata": {},
   "outputs": [],
   "source": [
    "users['reg_date'] = pd.to_datetime(users['reg_date'], format = '%Y-%m-%d')\n",
    "users['churn_date'] = pd.to_datetime(users['churn_date'], format = '%Y-%m-%d')\n",
    "messages['message_date'] = pd.to_datetime(messages['message_date'], format = '%Y-%m-%d')\n",
    "internet['session_date'] = pd.to_datetime(internet['session_date'], format = '%Y-%m-%d')\n",
    "calls['call_date'] = pd.to_datetime(calls['call_date'], format = '%Y-%m-%d')"
   ]
  },
  {
   "cell_type": "markdown",
   "metadata": {},
   "source": [
    "Проверим изменение типов"
   ]
  },
  {
   "cell_type": "code",
   "execution_count": 5,
   "metadata": {},
   "outputs": [
    {
     "name": "stdout",
     "output_type": "stream",
     "text": [
      "calls\n",
      "<class 'pandas.core.frame.DataFrame'>\n",
      "RangeIndex: 202607 entries, 0 to 202606\n",
      "Data columns (total 4 columns):\n",
      " #   Column     Non-Null Count   Dtype         \n",
      "---  ------     --------------   -----         \n",
      " 0   id         202607 non-null  object        \n",
      " 1   call_date  202607 non-null  datetime64[ns]\n",
      " 2   duration   202607 non-null  float64       \n",
      " 3   user_id    202607 non-null  int64         \n",
      "dtypes: datetime64[ns](1), float64(1), int64(1), object(1)\n",
      "memory usage: 6.2+ MB\n",
      "\n",
      "\n",
      "\n",
      "internet\n",
      "<class 'pandas.core.frame.DataFrame'>\n",
      "RangeIndex: 149396 entries, 0 to 149395\n",
      "Data columns (total 5 columns):\n",
      " #   Column        Non-Null Count   Dtype         \n",
      "---  ------        --------------   -----         \n",
      " 0   Unnamed: 0    149396 non-null  int64         \n",
      " 1   id            149396 non-null  object        \n",
      " 2   mb_used       149396 non-null  float64       \n",
      " 3   session_date  149396 non-null  datetime64[ns]\n",
      " 4   user_id       149396 non-null  int64         \n",
      "dtypes: datetime64[ns](1), float64(1), int64(2), object(1)\n",
      "memory usage: 5.7+ MB\n",
      "\n",
      "\n",
      "\n",
      "messages\n",
      "<class 'pandas.core.frame.DataFrame'>\n",
      "RangeIndex: 123036 entries, 0 to 123035\n",
      "Data columns (total 3 columns):\n",
      " #   Column        Non-Null Count   Dtype         \n",
      "---  ------        --------------   -----         \n",
      " 0   id            123036 non-null  object        \n",
      " 1   message_date  123036 non-null  datetime64[ns]\n",
      " 2   user_id       123036 non-null  int64         \n",
      "dtypes: datetime64[ns](1), int64(1), object(1)\n",
      "memory usage: 2.8+ MB\n",
      "\n",
      "\n",
      "\n",
      "tariffs\n",
      "<class 'pandas.core.frame.DataFrame'>\n",
      "RangeIndex: 2 entries, 0 to 1\n",
      "Data columns (total 8 columns):\n",
      " #   Column                 Non-Null Count  Dtype \n",
      "---  ------                 --------------  ----- \n",
      " 0   messages_included      2 non-null      int64 \n",
      " 1   mb_per_month_included  2 non-null      int64 \n",
      " 2   minutes_included       2 non-null      int64 \n",
      " 3   rub_monthly_fee        2 non-null      int64 \n",
      " 4   rub_per_gb             2 non-null      int64 \n",
      " 5   rub_per_message        2 non-null      int64 \n",
      " 6   rub_per_minute         2 non-null      int64 \n",
      " 7   tariff_name            2 non-null      object\n",
      "dtypes: int64(7), object(1)\n",
      "memory usage: 256.0+ bytes\n",
      "\n",
      "\n",
      "\n",
      "users\n",
      "<class 'pandas.core.frame.DataFrame'>\n",
      "RangeIndex: 500 entries, 0 to 499\n",
      "Data columns (total 8 columns):\n",
      " #   Column      Non-Null Count  Dtype         \n",
      "---  ------      --------------  -----         \n",
      " 0   user_id     500 non-null    int64         \n",
      " 1   age         500 non-null    int64         \n",
      " 2   churn_date  38 non-null     datetime64[ns]\n",
      " 3   city        500 non-null    object        \n",
      " 4   first_name  500 non-null    object        \n",
      " 5   last_name   500 non-null    object        \n",
      " 6   reg_date    500 non-null    datetime64[ns]\n",
      " 7   tariff      500 non-null    object        \n",
      "dtypes: datetime64[ns](2), int64(2), object(4)\n",
      "memory usage: 31.4+ KB\n",
      "\n",
      "\n",
      "\n"
     ]
    }
   ],
   "source": [
    "for ds_name, ds in dict_ds.items():\n",
    "    print(ds_name)\n",
    "    ds.info()\n",
    "    print('\\n\\n')"
   ]
  },
  {
   "cell_type": "markdown",
   "metadata": {},
   "source": [
    "В таблице calls округлим поле duration до минут методом math.ceil (округление в большую сторону)"
   ]
  },
  {
   "cell_type": "code",
   "execution_count": 6,
   "metadata": {},
   "outputs": [],
   "source": [
    "calls['duration'] = calls['duration'].apply(math.ceil).astype(int)"
   ]
  },
  {
   "cell_type": "code",
   "execution_count": 7,
   "metadata": {},
   "outputs": [
    {
     "data": {
      "text/html": [
       "<div>\n",
       "<style scoped>\n",
       "    .dataframe tbody tr th:only-of-type {\n",
       "        vertical-align: middle;\n",
       "    }\n",
       "\n",
       "    .dataframe tbody tr th {\n",
       "        vertical-align: top;\n",
       "    }\n",
       "\n",
       "    .dataframe thead th {\n",
       "        text-align: right;\n",
       "    }\n",
       "</style>\n",
       "<table border=\"1\" class=\"dataframe\">\n",
       "  <thead>\n",
       "    <tr style=\"text-align: right;\">\n",
       "      <th></th>\n",
       "      <th>id</th>\n",
       "      <th>call_date</th>\n",
       "      <th>duration</th>\n",
       "      <th>user_id</th>\n",
       "    </tr>\n",
       "  </thead>\n",
       "  <tbody>\n",
       "    <tr>\n",
       "      <th>0</th>\n",
       "      <td>1000_0</td>\n",
       "      <td>2018-07-25</td>\n",
       "      <td>0</td>\n",
       "      <td>1000</td>\n",
       "    </tr>\n",
       "    <tr>\n",
       "      <th>1</th>\n",
       "      <td>1000_1</td>\n",
       "      <td>2018-08-17</td>\n",
       "      <td>0</td>\n",
       "      <td>1000</td>\n",
       "    </tr>\n",
       "    <tr>\n",
       "      <th>2</th>\n",
       "      <td>1000_2</td>\n",
       "      <td>2018-06-11</td>\n",
       "      <td>3</td>\n",
       "      <td>1000</td>\n",
       "    </tr>\n",
       "    <tr>\n",
       "      <th>3</th>\n",
       "      <td>1000_3</td>\n",
       "      <td>2018-09-21</td>\n",
       "      <td>14</td>\n",
       "      <td>1000</td>\n",
       "    </tr>\n",
       "    <tr>\n",
       "      <th>4</th>\n",
       "      <td>1000_4</td>\n",
       "      <td>2018-12-15</td>\n",
       "      <td>6</td>\n",
       "      <td>1000</td>\n",
       "    </tr>\n",
       "    <tr>\n",
       "      <th>5</th>\n",
       "      <td>1000_5</td>\n",
       "      <td>2018-11-02</td>\n",
       "      <td>0</td>\n",
       "      <td>1000</td>\n",
       "    </tr>\n",
       "    <tr>\n",
       "      <th>6</th>\n",
       "      <td>1000_6</td>\n",
       "      <td>2018-10-18</td>\n",
       "      <td>0</td>\n",
       "      <td>1000</td>\n",
       "    </tr>\n",
       "    <tr>\n",
       "      <th>7</th>\n",
       "      <td>1000_7</td>\n",
       "      <td>2018-08-22</td>\n",
       "      <td>19</td>\n",
       "      <td>1000</td>\n",
       "    </tr>\n",
       "    <tr>\n",
       "      <th>8</th>\n",
       "      <td>1000_8</td>\n",
       "      <td>2018-09-15</td>\n",
       "      <td>19</td>\n",
       "      <td>1000</td>\n",
       "    </tr>\n",
       "    <tr>\n",
       "      <th>9</th>\n",
       "      <td>1000_9</td>\n",
       "      <td>2018-08-15</td>\n",
       "      <td>0</td>\n",
       "      <td>1000</td>\n",
       "    </tr>\n",
       "  </tbody>\n",
       "</table>\n",
       "</div>"
      ],
      "text/plain": [
       "       id  call_date  duration  user_id\n",
       "0  1000_0 2018-07-25         0     1000\n",
       "1  1000_1 2018-08-17         0     1000\n",
       "2  1000_2 2018-06-11         3     1000\n",
       "3  1000_3 2018-09-21        14     1000\n",
       "4  1000_4 2018-12-15         6     1000\n",
       "5  1000_5 2018-11-02         0     1000\n",
       "6  1000_6 2018-10-18         0     1000\n",
       "7  1000_7 2018-08-22        19     1000\n",
       "8  1000_8 2018-09-15        19     1000\n",
       "9  1000_9 2018-08-15         0     1000"
      ]
     },
     "execution_count": 7,
     "metadata": {},
     "output_type": "execute_result"
    }
   ],
   "source": [
    "calls.head(10)"
   ]
  },
  {
   "cell_type": "code",
   "execution_count": 8,
   "metadata": {},
   "outputs": [
    {
     "data": {
      "text/html": [
       "<div>\n",
       "<style scoped>\n",
       "    .dataframe tbody tr th:only-of-type {\n",
       "        vertical-align: middle;\n",
       "    }\n",
       "\n",
       "    .dataframe tbody tr th {\n",
       "        vertical-align: top;\n",
       "    }\n",
       "\n",
       "    .dataframe thead th {\n",
       "        text-align: right;\n",
       "    }\n",
       "</style>\n",
       "<table border=\"1\" class=\"dataframe\">\n",
       "  <thead>\n",
       "    <tr style=\"text-align: right;\">\n",
       "      <th></th>\n",
       "      <th>Unnamed: 0</th>\n",
       "      <th>id</th>\n",
       "      <th>mb_used</th>\n",
       "      <th>session_date</th>\n",
       "      <th>user_id</th>\n",
       "    </tr>\n",
       "  </thead>\n",
       "  <tbody>\n",
       "    <tr>\n",
       "      <th>0</th>\n",
       "      <td>0</td>\n",
       "      <td>1000_0</td>\n",
       "      <td>112.95</td>\n",
       "      <td>2018-11-25</td>\n",
       "      <td>1000</td>\n",
       "    </tr>\n",
       "    <tr>\n",
       "      <th>1</th>\n",
       "      <td>1</td>\n",
       "      <td>1000_1</td>\n",
       "      <td>1052.81</td>\n",
       "      <td>2018-09-07</td>\n",
       "      <td>1000</td>\n",
       "    </tr>\n",
       "    <tr>\n",
       "      <th>2</th>\n",
       "      <td>2</td>\n",
       "      <td>1000_2</td>\n",
       "      <td>1197.26</td>\n",
       "      <td>2018-06-25</td>\n",
       "      <td>1000</td>\n",
       "    </tr>\n",
       "    <tr>\n",
       "      <th>3</th>\n",
       "      <td>3</td>\n",
       "      <td>1000_3</td>\n",
       "      <td>550.27</td>\n",
       "      <td>2018-08-22</td>\n",
       "      <td>1000</td>\n",
       "    </tr>\n",
       "    <tr>\n",
       "      <th>4</th>\n",
       "      <td>4</td>\n",
       "      <td>1000_4</td>\n",
       "      <td>302.56</td>\n",
       "      <td>2018-09-24</td>\n",
       "      <td>1000</td>\n",
       "    </tr>\n",
       "    <tr>\n",
       "      <th>5</th>\n",
       "      <td>5</td>\n",
       "      <td>1000_5</td>\n",
       "      <td>399.97</td>\n",
       "      <td>2018-10-02</td>\n",
       "      <td>1000</td>\n",
       "    </tr>\n",
       "    <tr>\n",
       "      <th>6</th>\n",
       "      <td>6</td>\n",
       "      <td>1000_6</td>\n",
       "      <td>540.08</td>\n",
       "      <td>2018-09-07</td>\n",
       "      <td>1000</td>\n",
       "    </tr>\n",
       "    <tr>\n",
       "      <th>7</th>\n",
       "      <td>7</td>\n",
       "      <td>1000_7</td>\n",
       "      <td>415.70</td>\n",
       "      <td>2018-07-11</td>\n",
       "      <td>1000</td>\n",
       "    </tr>\n",
       "    <tr>\n",
       "      <th>8</th>\n",
       "      <td>8</td>\n",
       "      <td>1000_8</td>\n",
       "      <td>505.40</td>\n",
       "      <td>2018-10-08</td>\n",
       "      <td>1000</td>\n",
       "    </tr>\n",
       "    <tr>\n",
       "      <th>9</th>\n",
       "      <td>9</td>\n",
       "      <td>1000_9</td>\n",
       "      <td>345.54</td>\n",
       "      <td>2018-09-03</td>\n",
       "      <td>1000</td>\n",
       "    </tr>\n",
       "  </tbody>\n",
       "</table>\n",
       "</div>"
      ],
      "text/plain": [
       "   Unnamed: 0      id  mb_used session_date  user_id\n",
       "0           0  1000_0   112.95   2018-11-25     1000\n",
       "1           1  1000_1  1052.81   2018-09-07     1000\n",
       "2           2  1000_2  1197.26   2018-06-25     1000\n",
       "3           3  1000_3   550.27   2018-08-22     1000\n",
       "4           4  1000_4   302.56   2018-09-24     1000\n",
       "5           5  1000_5   399.97   2018-10-02     1000\n",
       "6           6  1000_6   540.08   2018-09-07     1000\n",
       "7           7  1000_7   415.70   2018-07-11     1000\n",
       "8           8  1000_8   505.40   2018-10-08     1000\n",
       "9           9  1000_9   345.54   2018-09-03     1000"
      ]
     },
     "execution_count": 8,
     "metadata": {},
     "output_type": "execute_result"
    }
   ],
   "source": [
    "internet.head(10)"
   ]
  },
  {
   "cell_type": "markdown",
   "metadata": {},
   "source": [
    "Unnamed: 0 - этого поля в описании задачи нету. Удалим его"
   ]
  },
  {
   "cell_type": "code",
   "execution_count": 9,
   "metadata": {},
   "outputs": [],
   "source": [
    "internet.drop('Unnamed: 0', axis=1, inplace=True)"
   ]
  },
  {
   "cell_type": "code",
   "execution_count": 10,
   "metadata": {},
   "outputs": [
    {
     "data": {
      "text/html": [
       "<div>\n",
       "<style scoped>\n",
       "    .dataframe tbody tr th:only-of-type {\n",
       "        vertical-align: middle;\n",
       "    }\n",
       "\n",
       "    .dataframe tbody tr th {\n",
       "        vertical-align: top;\n",
       "    }\n",
       "\n",
       "    .dataframe thead th {\n",
       "        text-align: right;\n",
       "    }\n",
       "</style>\n",
       "<table border=\"1\" class=\"dataframe\">\n",
       "  <thead>\n",
       "    <tr style=\"text-align: right;\">\n",
       "      <th></th>\n",
       "      <th>id</th>\n",
       "      <th>mb_used</th>\n",
       "      <th>session_date</th>\n",
       "      <th>user_id</th>\n",
       "    </tr>\n",
       "  </thead>\n",
       "  <tbody>\n",
       "    <tr>\n",
       "      <th>0</th>\n",
       "      <td>1000_0</td>\n",
       "      <td>112.95</td>\n",
       "      <td>2018-11-25</td>\n",
       "      <td>1000</td>\n",
       "    </tr>\n",
       "    <tr>\n",
       "      <th>1</th>\n",
       "      <td>1000_1</td>\n",
       "      <td>1052.81</td>\n",
       "      <td>2018-09-07</td>\n",
       "      <td>1000</td>\n",
       "    </tr>\n",
       "    <tr>\n",
       "      <th>2</th>\n",
       "      <td>1000_2</td>\n",
       "      <td>1197.26</td>\n",
       "      <td>2018-06-25</td>\n",
       "      <td>1000</td>\n",
       "    </tr>\n",
       "    <tr>\n",
       "      <th>3</th>\n",
       "      <td>1000_3</td>\n",
       "      <td>550.27</td>\n",
       "      <td>2018-08-22</td>\n",
       "      <td>1000</td>\n",
       "    </tr>\n",
       "    <tr>\n",
       "      <th>4</th>\n",
       "      <td>1000_4</td>\n",
       "      <td>302.56</td>\n",
       "      <td>2018-09-24</td>\n",
       "      <td>1000</td>\n",
       "    </tr>\n",
       "    <tr>\n",
       "      <th>5</th>\n",
       "      <td>1000_5</td>\n",
       "      <td>399.97</td>\n",
       "      <td>2018-10-02</td>\n",
       "      <td>1000</td>\n",
       "    </tr>\n",
       "    <tr>\n",
       "      <th>6</th>\n",
       "      <td>1000_6</td>\n",
       "      <td>540.08</td>\n",
       "      <td>2018-09-07</td>\n",
       "      <td>1000</td>\n",
       "    </tr>\n",
       "    <tr>\n",
       "      <th>7</th>\n",
       "      <td>1000_7</td>\n",
       "      <td>415.70</td>\n",
       "      <td>2018-07-11</td>\n",
       "      <td>1000</td>\n",
       "    </tr>\n",
       "    <tr>\n",
       "      <th>8</th>\n",
       "      <td>1000_8</td>\n",
       "      <td>505.40</td>\n",
       "      <td>2018-10-08</td>\n",
       "      <td>1000</td>\n",
       "    </tr>\n",
       "    <tr>\n",
       "      <th>9</th>\n",
       "      <td>1000_9</td>\n",
       "      <td>345.54</td>\n",
       "      <td>2018-09-03</td>\n",
       "      <td>1000</td>\n",
       "    </tr>\n",
       "  </tbody>\n",
       "</table>\n",
       "</div>"
      ],
      "text/plain": [
       "       id  mb_used session_date  user_id\n",
       "0  1000_0   112.95   2018-11-25     1000\n",
       "1  1000_1  1052.81   2018-09-07     1000\n",
       "2  1000_2  1197.26   2018-06-25     1000\n",
       "3  1000_3   550.27   2018-08-22     1000\n",
       "4  1000_4   302.56   2018-09-24     1000\n",
       "5  1000_5   399.97   2018-10-02     1000\n",
       "6  1000_6   540.08   2018-09-07     1000\n",
       "7  1000_7   415.70   2018-07-11     1000\n",
       "8  1000_8   505.40   2018-10-08     1000\n",
       "9  1000_9   345.54   2018-09-03     1000"
      ]
     },
     "execution_count": 10,
     "metadata": {},
     "output_type": "execute_result"
    }
   ],
   "source": [
    "internet.head(10)"
   ]
  },
  {
   "cell_type": "markdown",
   "metadata": {},
   "source": [
    "### Проверка дубликатов"
   ]
  },
  {
   "cell_type": "code",
   "execution_count": 11,
   "metadata": {},
   "outputs": [],
   "source": [
    "# функция для проверки уникальности\n",
    "def check_unique(df, column):\n",
    "    unique_column = len(df[column].unique())\n",
    "    len_df = len(df)\n",
    "    \n",
    "    if unique_column != len_df:\n",
    "        print('Идентификаторы датасета не уникальны')\n",
    "    else:\n",
    "        print('Идентификаторы датасета уникальны')"
   ]
  },
  {
   "cell_type": "code",
   "execution_count": 12,
   "metadata": {},
   "outputs": [
    {
     "name": "stdout",
     "output_type": "stream",
     "text": [
      "Идентификаторы датасета уникальны\n"
     ]
    }
   ],
   "source": [
    "check_unique(users, 'user_id')"
   ]
  },
  {
   "cell_type": "code",
   "execution_count": 13,
   "metadata": {},
   "outputs": [
    {
     "name": "stdout",
     "output_type": "stream",
     "text": [
      "Идентификаторы датасета уникальны\n"
     ]
    }
   ],
   "source": [
    "check_unique(calls, 'id')"
   ]
  },
  {
   "cell_type": "code",
   "execution_count": 14,
   "metadata": {},
   "outputs": [
    {
     "name": "stdout",
     "output_type": "stream",
     "text": [
      "Идентификаторы датасета уникальны\n"
     ]
    }
   ],
   "source": [
    "check_unique(messages, 'id')"
   ]
  },
  {
   "cell_type": "code",
   "execution_count": 15,
   "metadata": {},
   "outputs": [
    {
     "name": "stdout",
     "output_type": "stream",
     "text": [
      "Идентификаторы датасета уникальны\n"
     ]
    }
   ],
   "source": [
    "check_unique(internet, 'id')"
   ]
  },
  {
   "cell_type": "markdown",
   "metadata": {},
   "source": [
    "### Подсчет показателей"
   ]
  },
  {
   "cell_type": "markdown",
   "metadata": {},
   "source": [
    "Необходимо посчитать для каждого пользователя:\n",
    "* Количество сделанных звонков и израсходованных минут разговора по месяцам;\n",
    "* Количество отправленных сообщений по месяцам;\n",
    "* Объем израсходованного интернет-трафика по месяцам;\n",
    "* Помесячную выручку с каждого пользователя (вычтите бесплатный лимит из суммарного количества звонков, сообщений и интернет-трафика; остаток умножьте на значение из тарифного плана; прибавьте абонентскую плату, соответствующую тарифному плану)."
   ]
  },
  {
   "cell_type": "code",
   "execution_count": 16,
   "metadata": {},
   "outputs": [
    {
     "data": {
      "text/html": [
       "<div>\n",
       "<style scoped>\n",
       "    .dataframe tbody tr th:only-of-type {\n",
       "        vertical-align: middle;\n",
       "    }\n",
       "\n",
       "    .dataframe tbody tr th {\n",
       "        vertical-align: top;\n",
       "    }\n",
       "\n",
       "    .dataframe thead th {\n",
       "        text-align: right;\n",
       "    }\n",
       "</style>\n",
       "<table border=\"1\" class=\"dataframe\">\n",
       "  <thead>\n",
       "    <tr style=\"text-align: right;\">\n",
       "      <th></th>\n",
       "      <th>count</th>\n",
       "      <th>sum</th>\n",
       "    </tr>\n",
       "    <tr>\n",
       "      <th>month</th>\n",
       "      <th></th>\n",
       "      <th></th>\n",
       "    </tr>\n",
       "  </thead>\n",
       "  <tbody>\n",
       "    <tr>\n",
       "      <th>1</th>\n",
       "      <td>1476</td>\n",
       "      <td>1900961</td>\n",
       "    </tr>\n",
       "    <tr>\n",
       "      <th>2</th>\n",
       "      <td>3328</td>\n",
       "      <td>4256976</td>\n",
       "    </tr>\n",
       "    <tr>\n",
       "      <th>3</th>\n",
       "      <td>6687</td>\n",
       "      <td>8560788</td>\n",
       "    </tr>\n",
       "    <tr>\n",
       "      <th>4</th>\n",
       "      <td>9272</td>\n",
       "      <td>11683956</td>\n",
       "    </tr>\n",
       "    <tr>\n",
       "      <th>5</th>\n",
       "      <td>12647</td>\n",
       "      <td>15849201</td>\n",
       "    </tr>\n",
       "    <tr>\n",
       "      <th>6</th>\n",
       "      <td>14716</td>\n",
       "      <td>18353173</td>\n",
       "    </tr>\n",
       "    <tr>\n",
       "      <th>7</th>\n",
       "      <td>18298</td>\n",
       "      <td>22824233</td>\n",
       "    </tr>\n",
       "    <tr>\n",
       "      <th>8</th>\n",
       "      <td>21488</td>\n",
       "      <td>26879513</td>\n",
       "    </tr>\n",
       "    <tr>\n",
       "      <th>9</th>\n",
       "      <td>24061</td>\n",
       "      <td>30166590</td>\n",
       "    </tr>\n",
       "    <tr>\n",
       "      <th>10</th>\n",
       "      <td>27146</td>\n",
       "      <td>34046173</td>\n",
       "    </tr>\n",
       "    <tr>\n",
       "      <th>11</th>\n",
       "      <td>29501</td>\n",
       "      <td>36954901</td>\n",
       "    </tr>\n",
       "    <tr>\n",
       "      <th>12</th>\n",
       "      <td>33987</td>\n",
       "      <td>42580682</td>\n",
       "    </tr>\n",
       "  </tbody>\n",
       "</table>\n",
       "</div>"
      ],
      "text/plain": [
       "       count       sum\n",
       "month                 \n",
       "1       1476   1900961\n",
       "2       3328   4256976\n",
       "3       6687   8560788\n",
       "4       9272  11683956\n",
       "5      12647  15849201\n",
       "6      14716  18353173\n",
       "7      18298  22824233\n",
       "8      21488  26879513\n",
       "9      24061  30166590\n",
       "10     27146  34046173\n",
       "11     29501  36954901\n",
       "12     33987  42580682"
      ]
     },
     "execution_count": 16,
     "metadata": {},
     "output_type": "execute_result"
    }
   ],
   "source": [
    "# 1. Количество сделанных звонков и израсходованных минут разговора по месяцам;\n",
    "calls['month'] = pd.DatetimeIndex(calls['call_date']).month\n",
    "calls.groupby('month')['user_id'].agg(['count','sum'])"
   ]
  },
  {
   "cell_type": "markdown",
   "metadata": {},
   "source": [
    "В таблице internet округлим поле mb_used методом math.ceil (округление в большую сторону)"
   ]
  },
  {
   "cell_type": "code",
   "execution_count": 17,
   "metadata": {},
   "outputs": [],
   "source": [
    "internet['mb_used'] = internet['mb_used'].apply(math.ceil).astype(int)"
   ]
  },
  {
   "cell_type": "markdown",
   "metadata": {},
   "source": [
    "Количество звонков и минут увеличваются с каждым месяцем. Вероятно, это связано с тем, что люди поздравляют дург друга в канун Нового года."
   ]
  },
  {
   "cell_type": "code",
   "execution_count": 18,
   "metadata": {},
   "outputs": [
    {
     "data": {
      "text/plain": [
       "month\n",
       "1       924\n",
       "2      1924\n",
       "3      3648\n",
       "4      5179\n",
       "5      7298\n",
       "6      8983\n",
       "7     11320\n",
       "8     13088\n",
       "9     14759\n",
       "10    17114\n",
       "11    18244\n",
       "12    20555\n",
       "Name: user_id, dtype: int64"
      ]
     },
     "execution_count": 18,
     "metadata": {},
     "output_type": "execute_result"
    }
   ],
   "source": [
    "# 2. Количество отправленных сообщений по месяцам;\n",
    "messages['month'] = pd.DatetimeIndex(messages['message_date']).month\n",
    "messages.groupby('month')['user_id'].count()"
   ]
  },
  {
   "cell_type": "markdown",
   "metadata": {},
   "source": [
    "Количество отправленных сообщений тоже растет с каждым месяцем."
   ]
  },
  {
   "cell_type": "code",
   "execution_count": 19,
   "metadata": {},
   "outputs": [
    {
     "data": {
      "text/plain": [
       "month\n",
       "1      408213\n",
       "2      956348\n",
       "3     1813960\n",
       "4     2436111\n",
       "5     3529893\n",
       "6     4184770\n",
       "7     5035299\n",
       "8     6005126\n",
       "9     6454931\n",
       "10    7400754\n",
       "11    7999852\n",
       "12    9144202\n",
       "Name: mb_used, dtype: int64"
      ]
     },
     "execution_count": 19,
     "metadata": {},
     "output_type": "execute_result"
    }
   ],
   "source": [
    "# 3. Объем израсходованного интернет-трафика по месяцам;\n",
    "internet['month'] = pd.DatetimeIndex(internet['session_date']).month\n",
    "internet.groupby('month')['mb_used'].sum()"
   ]
  },
  {
   "cell_type": "markdown",
   "metadata": {},
   "source": [
    "Потребление интернет-трафика увеличивается с каждым месяцем."
   ]
  },
  {
   "cell_type": "markdown",
   "metadata": {},
   "source": [
    "Помесячную выручку с каждого пользователя (вычтите бесплатный лимит из суммарного количества звонков, сообщений и интернет-трафика; остаток умножьте на значение из тарифного плана; прибавьте абонентскую плату, соответствующую тарифному плану)."
   ]
  },
  {
   "cell_type": "code",
   "execution_count": 20,
   "metadata": {},
   "outputs": [],
   "source": [
    "df_result = pd.DataFrame()\n",
    "\n",
    "calls_grouped = calls.groupby(['user_id', 'month'])['duration'].agg(['count','sum']).reset_index()\n",
    "calls_grouped.columns = ['user_id', 'month', 'calls', 'min']\n",
    "\n",
    "messages_grouped = messages.groupby(['user_id', 'month'])['id'].count().reset_index()\n",
    "messages_grouped.columns = ['user_id', 'month', 'mes']\n",
    "\n",
    "internet_grouped = internet.groupby(['user_id', 'month'])['mb_used'].sum().reset_index()\n",
    "internet_grouped.columns = ['user_id', 'month', 'mb']\n",
    "\n",
    "df_result = pd.merge(messages_grouped, calls_grouped, how='outer', on=['user_id', 'month'])\n",
    "df_result = pd.merge(df_result, internet_grouped, how='outer', on=['user_id', 'month'])\n",
    "df_result = pd.merge(df_result, users.loc[:,['user_id', 'city', 'tariff']], how='outer', on=['user_id'])\n",
    "\n",
    "# Заменим пропуски для расчетов\n",
    "df_result['calls'] = df_result['calls'].fillna(0)\n",
    "df_result['min'] = df_result['min'].fillna(0)\n",
    "df_result['mes'] = df_result['mes'].fillna(0)\n",
    "df_result['mb'] = df_result['mb'].fillna(0)"
   ]
  },
  {
   "cell_type": "code",
   "execution_count": 21,
   "metadata": {},
   "outputs": [],
   "source": [
    "def income_month(row):\n",
    "    \"\"\"\n",
    "    Функция подсчета конечной выручки в зависимости от траффика\n",
    "    \"\"\"\n",
    "    if row['tariff'] == 'smart':\n",
    "        \n",
    "        inc_calls = (row['min'] - tariffs.loc[0,'minutes_included']) * tariffs.loc[0,'rub_per_minute']\n",
    "        if inc_calls < 0 :\n",
    "            inc_calls = 0\n",
    "        \n",
    "        inc_mess = (row['mes'] - tariffs.loc[0,'messages_included']) * tariffs.loc[0,'rub_per_message']\n",
    "        if inc_mess < 0 :\n",
    "            inc_mess = 0\n",
    "        \n",
    "        inc_mb  = math.ceil((row['mb'] - tariffs.loc[0,'mb_per_month_included'])/1024) * tariffs.loc[0,'rub_per_gb'] \n",
    "        if inc_mb < 0 :\n",
    "            inc_mb = 0\n",
    "        return inc_calls + inc_mess + inc_mb + tariffs.loc[0,'rub_monthly_fee']\n",
    "        \n",
    "    else:\n",
    "        inc_calls = (row['min'] - tariffs.loc[1,'minutes_included']) * tariffs.loc[1,'rub_per_minute']\n",
    "        if inc_calls < 0 :\n",
    "            inc_calls = 0\n",
    "        \n",
    "        inc_mess = (row['mes'] - tariffs.loc[1,'messages_included']) * tariffs.loc[1,'rub_per_message']\n",
    "        if inc_mess < 0 :\n",
    "            inc_mess = 0\n",
    "        \n",
    "        inc_mb  = math.ceil((row['mb'] - tariffs.loc[1,'mb_per_month_included'])/1024) * tariffs.loc[1,'rub_per_gb'] \n",
    "        if inc_mb < 0 :\n",
    "            inc_mb = 0\n",
    "             \n",
    "        return inc_calls + inc_mess + inc_mb + tariffs.loc[1,'rub_monthly_fee']\n",
    "\n",
    "\n",
    "df_result['income'] = df_result.apply(income_month, axis=1)"
   ]
  },
  {
   "cell_type": "code",
   "execution_count": 22,
   "metadata": {},
   "outputs": [
    {
     "data": {
      "text/html": [
       "<div>\n",
       "<style scoped>\n",
       "    .dataframe tbody tr th:only-of-type {\n",
       "        vertical-align: middle;\n",
       "    }\n",
       "\n",
       "    .dataframe tbody tr th {\n",
       "        vertical-align: top;\n",
       "    }\n",
       "\n",
       "    .dataframe thead th {\n",
       "        text-align: right;\n",
       "    }\n",
       "</style>\n",
       "<table border=\"1\" class=\"dataframe\">\n",
       "  <thead>\n",
       "    <tr style=\"text-align: right;\">\n",
       "      <th></th>\n",
       "      <th>user_id</th>\n",
       "      <th>month</th>\n",
       "      <th>mes</th>\n",
       "      <th>calls</th>\n",
       "      <th>min</th>\n",
       "      <th>mb</th>\n",
       "      <th>city</th>\n",
       "      <th>tariff</th>\n",
       "      <th>income</th>\n",
       "    </tr>\n",
       "  </thead>\n",
       "  <tbody>\n",
       "    <tr>\n",
       "      <th>0</th>\n",
       "      <td>1000</td>\n",
       "      <td>5.0</td>\n",
       "      <td>22.0</td>\n",
       "      <td>22.0</td>\n",
       "      <td>159.0</td>\n",
       "      <td>2256.0</td>\n",
       "      <td>Краснодар</td>\n",
       "      <td>ultra</td>\n",
       "      <td>1950.0</td>\n",
       "    </tr>\n",
       "    <tr>\n",
       "      <th>1</th>\n",
       "      <td>1000</td>\n",
       "      <td>6.0</td>\n",
       "      <td>60.0</td>\n",
       "      <td>43.0</td>\n",
       "      <td>172.0</td>\n",
       "      <td>23257.0</td>\n",
       "      <td>Краснодар</td>\n",
       "      <td>ultra</td>\n",
       "      <td>1950.0</td>\n",
       "    </tr>\n",
       "    <tr>\n",
       "      <th>2</th>\n",
       "      <td>1000</td>\n",
       "      <td>7.0</td>\n",
       "      <td>75.0</td>\n",
       "      <td>47.0</td>\n",
       "      <td>340.0</td>\n",
       "      <td>14016.0</td>\n",
       "      <td>Краснодар</td>\n",
       "      <td>ultra</td>\n",
       "      <td>1950.0</td>\n",
       "    </tr>\n",
       "    <tr>\n",
       "      <th>3</th>\n",
       "      <td>1000</td>\n",
       "      <td>8.0</td>\n",
       "      <td>81.0</td>\n",
       "      <td>52.0</td>\n",
       "      <td>408.0</td>\n",
       "      <td>14070.0</td>\n",
       "      <td>Краснодар</td>\n",
       "      <td>ultra</td>\n",
       "      <td>1950.0</td>\n",
       "    </tr>\n",
       "    <tr>\n",
       "      <th>4</th>\n",
       "      <td>1000</td>\n",
       "      <td>9.0</td>\n",
       "      <td>57.0</td>\n",
       "      <td>58.0</td>\n",
       "      <td>466.0</td>\n",
       "      <td>14581.0</td>\n",
       "      <td>Краснодар</td>\n",
       "      <td>ultra</td>\n",
       "      <td>1950.0</td>\n",
       "    </tr>\n",
       "    <tr>\n",
       "      <th>...</th>\n",
       "      <td>...</td>\n",
       "      <td>...</td>\n",
       "      <td>...</td>\n",
       "      <td>...</td>\n",
       "      <td>...</td>\n",
       "      <td>...</td>\n",
       "      <td>...</td>\n",
       "      <td>...</td>\n",
       "      <td>...</td>\n",
       "    </tr>\n",
       "    <tr>\n",
       "      <th>95</th>\n",
       "      <td>1015</td>\n",
       "      <td>9.0</td>\n",
       "      <td>68.0</td>\n",
       "      <td>64.0</td>\n",
       "      <td>486.0</td>\n",
       "      <td>16798.0</td>\n",
       "      <td>Челябинск</td>\n",
       "      <td>smart</td>\n",
       "      <td>1004.0</td>\n",
       "    </tr>\n",
       "    <tr>\n",
       "      <th>96</th>\n",
       "      <td>1015</td>\n",
       "      <td>10.0</td>\n",
       "      <td>68.0</td>\n",
       "      <td>67.0</td>\n",
       "      <td>577.0</td>\n",
       "      <td>16684.0</td>\n",
       "      <td>Челябинск</td>\n",
       "      <td>smart</td>\n",
       "      <td>1235.0</td>\n",
       "    </tr>\n",
       "    <tr>\n",
       "      <th>97</th>\n",
       "      <td>1015</td>\n",
       "      <td>11.0</td>\n",
       "      <td>61.0</td>\n",
       "      <td>51.0</td>\n",
       "      <td>454.0</td>\n",
       "      <td>21553.0</td>\n",
       "      <td>Челябинск</td>\n",
       "      <td>smart</td>\n",
       "      <td>1983.0</td>\n",
       "    </tr>\n",
       "    <tr>\n",
       "      <th>98</th>\n",
       "      <td>1015</td>\n",
       "      <td>12.0</td>\n",
       "      <td>74.0</td>\n",
       "      <td>64.0</td>\n",
       "      <td>499.0</td>\n",
       "      <td>19653.0</td>\n",
       "      <td>Челябинск</td>\n",
       "      <td>smart</td>\n",
       "      <td>1622.0</td>\n",
       "    </tr>\n",
       "    <tr>\n",
       "      <th>99</th>\n",
       "      <td>1016</td>\n",
       "      <td>11.0</td>\n",
       "      <td>39.0</td>\n",
       "      <td>4.0</td>\n",
       "      <td>28.0</td>\n",
       "      <td>7388.0</td>\n",
       "      <td>Омск</td>\n",
       "      <td>ultra</td>\n",
       "      <td>1950.0</td>\n",
       "    </tr>\n",
       "  </tbody>\n",
       "</table>\n",
       "<p>100 rows × 9 columns</p>\n",
       "</div>"
      ],
      "text/plain": [
       "    user_id  month   mes  calls    min       mb       city tariff  income\n",
       "0      1000    5.0  22.0   22.0  159.0   2256.0  Краснодар  ultra  1950.0\n",
       "1      1000    6.0  60.0   43.0  172.0  23257.0  Краснодар  ultra  1950.0\n",
       "2      1000    7.0  75.0   47.0  340.0  14016.0  Краснодар  ultra  1950.0\n",
       "3      1000    8.0  81.0   52.0  408.0  14070.0  Краснодар  ultra  1950.0\n",
       "4      1000    9.0  57.0   58.0  466.0  14581.0  Краснодар  ultra  1950.0\n",
       "..      ...    ...   ...    ...    ...      ...        ...    ...     ...\n",
       "95     1015    9.0  68.0   64.0  486.0  16798.0  Челябинск  smart  1004.0\n",
       "96     1015   10.0  68.0   67.0  577.0  16684.0  Челябинск  smart  1235.0\n",
       "97     1015   11.0  61.0   51.0  454.0  21553.0  Челябинск  smart  1983.0\n",
       "98     1015   12.0  74.0   64.0  499.0  19653.0  Челябинск  smart  1622.0\n",
       "99     1016   11.0  39.0    4.0   28.0   7388.0       Омск  ultra  1950.0\n",
       "\n",
       "[100 rows x 9 columns]"
      ]
     },
     "execution_count": 22,
     "metadata": {},
     "output_type": "execute_result"
    }
   ],
   "source": [
    "df_result.head(100)"
   ]
  },
  {
   "cell_type": "markdown",
   "metadata": {},
   "source": [
    "## Анализ данных"
   ]
  },
  {
   "cell_type": "code",
   "execution_count": 23,
   "metadata": {},
   "outputs": [
    {
     "name": "stderr",
     "output_type": "stream",
     "text": [
      "/tmp/ipykernel_69/1263952912.py:1: FutureWarning: Indexing with multiple keys (implicitly converted to a tuple of keys) will be deprecated, use a list instead.\n",
      "  activity_month = df_result.groupby(['tariff', 'month'])['min', 'mes', 'mb', 'income'].sum().reset_index()\n"
     ]
    },
    {
     "data": {
      "text/html": [
       "<div>\n",
       "<style scoped>\n",
       "    .dataframe tbody tr th:only-of-type {\n",
       "        vertical-align: middle;\n",
       "    }\n",
       "\n",
       "    .dataframe tbody tr th {\n",
       "        vertical-align: top;\n",
       "    }\n",
       "\n",
       "    .dataframe thead th {\n",
       "        text-align: right;\n",
       "    }\n",
       "</style>\n",
       "<table border=\"1\" class=\"dataframe\">\n",
       "  <thead>\n",
       "    <tr style=\"text-align: right;\">\n",
       "      <th></th>\n",
       "      <th>tariff</th>\n",
       "      <th>month</th>\n",
       "      <th>min</th>\n",
       "      <th>mes</th>\n",
       "      <th>mb</th>\n",
       "      <th>income</th>\n",
       "    </tr>\n",
       "  </thead>\n",
       "  <tbody>\n",
       "    <tr>\n",
       "      <th>0</th>\n",
       "      <td>smart</td>\n",
       "      <td>1.0</td>\n",
       "      <td>6931.0</td>\n",
       "      <td>620.0</td>\n",
       "      <td>289831.0</td>\n",
       "      <td>24525.0</td>\n",
       "    </tr>\n",
       "    <tr>\n",
       "      <th>1</th>\n",
       "      <td>smart</td>\n",
       "      <td>2.0</td>\n",
       "      <td>17324.0</td>\n",
       "      <td>1397.0</td>\n",
       "      <td>673461.0</td>\n",
       "      <td>48001.0</td>\n",
       "    </tr>\n",
       "    <tr>\n",
       "      <th>2</th>\n",
       "      <td>smart</td>\n",
       "      <td>3.0</td>\n",
       "      <td>30034.0</td>\n",
       "      <td>2453.0</td>\n",
       "      <td>1164537.0</td>\n",
       "      <td>89676.0</td>\n",
       "    </tr>\n",
       "    <tr>\n",
       "      <th>3</th>\n",
       "      <td>smart</td>\n",
       "      <td>4.0</td>\n",
       "      <td>41119.0</td>\n",
       "      <td>3443.0</td>\n",
       "      <td>1509702.0</td>\n",
       "      <td>107866.0</td>\n",
       "    </tr>\n",
       "    <tr>\n",
       "      <th>4</th>\n",
       "      <td>smart</td>\n",
       "      <td>5.0</td>\n",
       "      <td>54618.0</td>\n",
       "      <td>4762.0</td>\n",
       "      <td>2231353.0</td>\n",
       "      <td>169849.0</td>\n",
       "    </tr>\n",
       "    <tr>\n",
       "      <th>5</th>\n",
       "      <td>smart</td>\n",
       "      <td>6.0</td>\n",
       "      <td>64885.0</td>\n",
       "      <td>5478.0</td>\n",
       "      <td>2593622.0</td>\n",
       "      <td>198259.0</td>\n",
       "    </tr>\n",
       "    <tr>\n",
       "      <th>6</th>\n",
       "      <td>smart</td>\n",
       "      <td>7.0</td>\n",
       "      <td>82079.0</td>\n",
       "      <td>6784.0</td>\n",
       "      <td>3168466.0</td>\n",
       "      <td>247014.0</td>\n",
       "    </tr>\n",
       "    <tr>\n",
       "      <th>7</th>\n",
       "      <td>smart</td>\n",
       "      <td>8.0</td>\n",
       "      <td>99045.0</td>\n",
       "      <td>7905.0</td>\n",
       "      <td>3908561.0</td>\n",
       "      <td>312340.0</td>\n",
       "    </tr>\n",
       "    <tr>\n",
       "      <th>8</th>\n",
       "      <td>smart</td>\n",
       "      <td>9.0</td>\n",
       "      <td>111439.0</td>\n",
       "      <td>8746.0</td>\n",
       "      <td>4244377.0</td>\n",
       "      <td>326386.0</td>\n",
       "    </tr>\n",
       "    <tr>\n",
       "      <th>9</th>\n",
       "      <td>smart</td>\n",
       "      <td>10.0</td>\n",
       "      <td>125284.0</td>\n",
       "      <td>9927.0</td>\n",
       "      <td>4932898.0</td>\n",
       "      <td>402667.0</td>\n",
       "    </tr>\n",
       "    <tr>\n",
       "      <th>10</th>\n",
       "      <td>smart</td>\n",
       "      <td>11.0</td>\n",
       "      <td>137544.0</td>\n",
       "      <td>10768.0</td>\n",
       "      <td>5345940.0</td>\n",
       "      <td>425803.0</td>\n",
       "    </tr>\n",
       "    <tr>\n",
       "      <th>11</th>\n",
       "      <td>smart</td>\n",
       "      <td>12.0</td>\n",
       "      <td>161275.0</td>\n",
       "      <td>12130.0</td>\n",
       "      <td>6112113.0</td>\n",
       "      <td>533365.0</td>\n",
       "    </tr>\n",
       "    <tr>\n",
       "      <th>12</th>\n",
       "      <td>ultra</td>\n",
       "      <td>1.0</td>\n",
       "      <td>3853.0</td>\n",
       "      <td>304.0</td>\n",
       "      <td>118382.0</td>\n",
       "      <td>17550.0</td>\n",
       "    </tr>\n",
       "    <tr>\n",
       "      <th>13</th>\n",
       "      <td>ultra</td>\n",
       "      <td>2.0</td>\n",
       "      <td>7131.0</td>\n",
       "      <td>527.0</td>\n",
       "      <td>282887.0</td>\n",
       "      <td>47400.0</td>\n",
       "    </tr>\n",
       "    <tr>\n",
       "      <th>14</th>\n",
       "      <td>ultra</td>\n",
       "      <td>3.0</td>\n",
       "      <td>18117.0</td>\n",
       "      <td>1195.0</td>\n",
       "      <td>649423.0</td>\n",
       "      <td>74550.0</td>\n",
       "    </tr>\n",
       "    <tr>\n",
       "      <th>15</th>\n",
       "      <td>ultra</td>\n",
       "      <td>4.0</td>\n",
       "      <td>25191.0</td>\n",
       "      <td>1736.0</td>\n",
       "      <td>926409.0</td>\n",
       "      <td>110100.0</td>\n",
       "    </tr>\n",
       "    <tr>\n",
       "      <th>16</th>\n",
       "      <td>ultra</td>\n",
       "      <td>5.0</td>\n",
       "      <td>34192.0</td>\n",
       "      <td>2536.0</td>\n",
       "      <td>1298540.0</td>\n",
       "      <td>138150.0</td>\n",
       "    </tr>\n",
       "    <tr>\n",
       "      <th>17</th>\n",
       "      <td>ultra</td>\n",
       "      <td>6.0</td>\n",
       "      <td>40295.0</td>\n",
       "      <td>3505.0</td>\n",
       "      <td>1591148.0</td>\n",
       "      <td>171450.0</td>\n",
       "    </tr>\n",
       "    <tr>\n",
       "      <th>18</th>\n",
       "      <td>ultra</td>\n",
       "      <td>7.0</td>\n",
       "      <td>49667.0</td>\n",
       "      <td>4536.0</td>\n",
       "      <td>1866833.0</td>\n",
       "      <td>193050.0</td>\n",
       "    </tr>\n",
       "    <tr>\n",
       "      <th>19</th>\n",
       "      <td>ultra</td>\n",
       "      <td>8.0</td>\n",
       "      <td>54653.0</td>\n",
       "      <td>5183.0</td>\n",
       "      <td>2096565.0</td>\n",
       "      <td>222900.0</td>\n",
       "    </tr>\n",
       "    <tr>\n",
       "      <th>20</th>\n",
       "      <td>ultra</td>\n",
       "      <td>9.0</td>\n",
       "      <td>62036.0</td>\n",
       "      <td>6013.0</td>\n",
       "      <td>2210554.0</td>\n",
       "      <td>232800.0</td>\n",
       "    </tr>\n",
       "    <tr>\n",
       "      <th>21</th>\n",
       "      <td>ultra</td>\n",
       "      <td>10.0</td>\n",
       "      <td>68644.0</td>\n",
       "      <td>7187.0</td>\n",
       "      <td>2467856.0</td>\n",
       "      <td>254250.0</td>\n",
       "    </tr>\n",
       "    <tr>\n",
       "      <th>22</th>\n",
       "      <td>ultra</td>\n",
       "      <td>11.0</td>\n",
       "      <td>72545.0</td>\n",
       "      <td>7476.0</td>\n",
       "      <td>2653912.0</td>\n",
       "      <td>280500.0</td>\n",
       "    </tr>\n",
       "    <tr>\n",
       "      <th>23</th>\n",
       "      <td>ultra</td>\n",
       "      <td>12.0</td>\n",
       "      <td>82400.0</td>\n",
       "      <td>8425.0</td>\n",
       "      <td>3032089.0</td>\n",
       "      <td>297300.0</td>\n",
       "    </tr>\n",
       "  </tbody>\n",
       "</table>\n",
       "</div>"
      ],
      "text/plain": [
       "   tariff  month       min      mes         mb    income\n",
       "0   smart    1.0    6931.0    620.0   289831.0   24525.0\n",
       "1   smart    2.0   17324.0   1397.0   673461.0   48001.0\n",
       "2   smart    3.0   30034.0   2453.0  1164537.0   89676.0\n",
       "3   smart    4.0   41119.0   3443.0  1509702.0  107866.0\n",
       "4   smart    5.0   54618.0   4762.0  2231353.0  169849.0\n",
       "5   smart    6.0   64885.0   5478.0  2593622.0  198259.0\n",
       "6   smart    7.0   82079.0   6784.0  3168466.0  247014.0\n",
       "7   smart    8.0   99045.0   7905.0  3908561.0  312340.0\n",
       "8   smart    9.0  111439.0   8746.0  4244377.0  326386.0\n",
       "9   smart   10.0  125284.0   9927.0  4932898.0  402667.0\n",
       "10  smart   11.0  137544.0  10768.0  5345940.0  425803.0\n",
       "11  smart   12.0  161275.0  12130.0  6112113.0  533365.0\n",
       "12  ultra    1.0    3853.0    304.0   118382.0   17550.0\n",
       "13  ultra    2.0    7131.0    527.0   282887.0   47400.0\n",
       "14  ultra    3.0   18117.0   1195.0   649423.0   74550.0\n",
       "15  ultra    4.0   25191.0   1736.0   926409.0  110100.0\n",
       "16  ultra    5.0   34192.0   2536.0  1298540.0  138150.0\n",
       "17  ultra    6.0   40295.0   3505.0  1591148.0  171450.0\n",
       "18  ultra    7.0   49667.0   4536.0  1866833.0  193050.0\n",
       "19  ultra    8.0   54653.0   5183.0  2096565.0  222900.0\n",
       "20  ultra    9.0   62036.0   6013.0  2210554.0  232800.0\n",
       "21  ultra   10.0   68644.0   7187.0  2467856.0  254250.0\n",
       "22  ultra   11.0   72545.0   7476.0  2653912.0  280500.0\n",
       "23  ultra   12.0   82400.0   8425.0  3032089.0  297300.0"
      ]
     },
     "metadata": {},
     "output_type": "display_data"
    }
   ],
   "source": [
    "activity_month = df_result.groupby(['tariff', 'month'])['min', 'mes', 'mb', 'income'].sum().reset_index()\n",
    "display(activity_month)"
   ]
  },
  {
   "cell_type": "code",
   "execution_count": 24,
   "metadata": {},
   "outputs": [
    {
     "data": {
      "image/png": "[encoded data removed]",
      "text/plain": [
       "<Figure size 864x360 with 1 Axes>"
      ]
     },
     "metadata": {
      "needs_background": "light"
     },
     "output_type": "display_data"
    },
    {
     "data": {
      "image/png": "[encoded data removed]",
      "text/plain": [
       "<Figure size 864x360 with 1 Axes>"
      ]
     },
     "metadata": {
      "needs_background": "light"
     },
     "output_type": "display_data"
    },
    {
     "data": {
      "image/png": "[encoded data removed]",
      "text/plain": [
       "<Figure size 864x360 with 1 Axes>"
      ]
     },
     "metadata": {
      "needs_background": "light"
     },
     "output_type": "display_data"
    },
    {
     "data": {
      "image/png": "[encoded data removed]",
      "text/plain": [
       "<Figure size 864x360 with 1 Axes>"
      ]
     },
     "metadata": {
      "needs_background": "light"
     },
     "output_type": "display_data"
    }
   ],
   "source": [
    "activity_month_smart = activity_month.query('tariff==\"smart\"')\n",
    "activity_month_ultra = activity_month.query('tariff==\"ultra\"')\n",
    "\n",
    "for param in ['min', 'mes', 'mb','income']:\n",
    "    plt.figure(figsize=(12, 5))\n",
    "    \n",
    "    plt.bar(activity_month_smart['month'], activity_month_smart[param], label='Смарт', color='y', alpha=0.5)\n",
    "    plt.bar(activity_month_ultra['month'], activity_month_ultra[param], label='Ультра', color='r', alpha=0.5)\n",
    "    plt.xlabel('month')\n",
    "    plt.ylabel(param)\n",
    "    plt.grid()\n",
    "    plt.title(f'Показатель {param} по месяцам')\n",
    "    plt.legend()\n",
    "    plt.show();"
   ]
  },
  {
   "cell_type": "markdown",
   "metadata": {},
   "source": [
    "# Вывод\n",
    "1. Из графиков видно, что общий расход по минутам, сообщениям и по интернету всех абонентов тарифа «Смарт» больше, чем у тарифа «Ультра».\n",
    "2. В первой половине года абоненты по обоим тарифам приносят почти одинаковую выручку, а во второй половине - у тарифа «Смарт» выручка начинает значительно превышать выручку тарифа «Ультра». \n",
    "3. По всем графикам видно, что выручка растет с каждым месяцем - связано с притоком абонентов каждый месяц."
   ]
  },
  {
   "cell_type": "code",
   "execution_count": 25,
   "metadata": {},
   "outputs": [
    {
     "data": {
      "image/png": "[encoded data removed]",
      "text/plain": [
       "<Figure size 1008x360 with 1 Axes>"
      ]
     },
     "metadata": {
      "needs_background": "light"
     },
     "output_type": "display_data"
    },
    {
     "data": {
      "image/png": "[encoded data removed]",
      "text/plain": [
       "<Figure size 1008x360 with 1 Axes>"
      ]
     },
     "metadata": {
      "needs_background": "light"
     },
     "output_type": "display_data"
    },
    {
     "data": {
      "image/png": "[encoded data removed]",
      "text/plain": [
       "<Figure size 1008x360 with 1 Axes>"
      ]
     },
     "metadata": {
      "needs_background": "light"
     },
     "output_type": "display_data"
    },
    {
     "data": {
      "image/png": "[encoded data removed]",
      "text/plain": [
       "<Figure size 1008x360 with 1 Axes>"
      ]
     },
     "metadata": {
      "needs_background": "light"
     },
     "output_type": "display_data"
    }
   ],
   "source": [
    "for param in ['min', 'mes', 'mb','income']:\n",
    "    plt.figure(figsize=(14, 5))\n",
    "    \n",
    "    plt.hist(df_result.loc[df_result['tariff'] == \"smart\", param], label='smart / '+param, color='g', alpha=0.6, bins = 50)\n",
    "    plt.hist(df_result.loc[df_result['tariff'] == \"ultra\", param], label='ultra / '+param, color='r', alpha=0.4, bins = 60)\n",
    "    \n",
    "    plt.xlabel(param)\n",
    "    plt.grid()\n",
    "    plt.title(f'Распределение {param} в месяцам для обоих тарифов')\n",
    "    plt.legend()\n",
    "    plt.show();"
   ]
  },
  {
   "cell_type": "markdown",
   "metadata": {},
   "source": [
    "# Вывод\n",
    "1. В тарифе «Смарт» большинство абонентов укладываются в лимит 500 минут разговора, 50 собщений, а вот интернет-трафика в 15 Гб  часто не достаточно из-за этого абоненты платят сверх ежемесячный платы.\n",
    "2. В тарифе «Ультра» всем хватает 3000 минут разговора, 1000 сообщений, в лимит интернет-трафика в 30 Гб многие укладываются, поэтому абоненты платят стандартную ежемесячную плату: 1950 рублей."
   ]
  },
  {
   "cell_type": "markdown",
   "metadata": {},
   "source": [
    "Считаем среднее, дисперсию и стандартное отклонение."
   ]
  },
  {
   "cell_type": "code",
   "execution_count": 26,
   "metadata": {},
   "outputs": [
    {
     "data": {
      "text/html": [
       "<div>\n",
       "<style scoped>\n",
       "    .dataframe tbody tr th:only-of-type {\n",
       "        vertical-align: middle;\n",
       "    }\n",
       "\n",
       "    .dataframe tbody tr th {\n",
       "        vertical-align: top;\n",
       "    }\n",
       "\n",
       "    .dataframe thead th {\n",
       "        text-align: right;\n",
       "    }\n",
       "</style>\n",
       "<table border=\"1\" class=\"dataframe\">\n",
       "  <thead>\n",
       "    <tr style=\"text-align: right;\">\n",
       "      <th></th>\n",
       "      <th>calls_duration</th>\n",
       "      <th>messages_count</th>\n",
       "      <th>traffic_volume</th>\n",
       "      <th>total_bill</th>\n",
       "    </tr>\n",
       "    <tr>\n",
       "      <th>tariff</th>\n",
       "      <th></th>\n",
       "      <th></th>\n",
       "      <th></th>\n",
       "      <th></th>\n",
       "    </tr>\n",
       "  </thead>\n",
       "  <tbody>\n",
       "    <tr>\n",
       "      <th>smart</th>\n",
       "      <td>1294.305381</td>\n",
       "      <td>16221.910762</td>\n",
       "      <td>33.369058</td>\n",
       "      <td>417.747534</td>\n",
       "    </tr>\n",
       "    <tr>\n",
       "      <th>ultra</th>\n",
       "      <td>2070.943205</td>\n",
       "      <td>19467.137931</td>\n",
       "      <td>49.313387</td>\n",
       "      <td>526.089249</td>\n",
       "    </tr>\n",
       "  </tbody>\n",
       "</table>\n",
       "</div>"
      ],
      "text/plain": [
       "        calls_duration  messages_count  traffic_volume  total_bill\n",
       "tariff                                                            \n",
       "smart      1294.305381    16221.910762       33.369058  417.747534\n",
       "ultra      2070.943205    19467.137931       49.313387  526.089249"
      ]
     },
     "metadata": {},
     "output_type": "display_data"
    },
    {
     "data": {
      "text/html": [
       "<div>\n",
       "<style scoped>\n",
       "    .dataframe tbody tr th:only-of-type {\n",
       "        vertical-align: middle;\n",
       "    }\n",
       "\n",
       "    .dataframe tbody tr th {\n",
       "        vertical-align: top;\n",
       "    }\n",
       "\n",
       "    .dataframe thead th {\n",
       "        text-align: right;\n",
       "    }\n",
       "</style>\n",
       "<table border=\"1\" class=\"dataframe\">\n",
       "  <thead>\n",
       "    <tr style=\"text-align: right;\">\n",
       "      <th></th>\n",
       "      <th>calls_duration</th>\n",
       "      <th>messages_count</th>\n",
       "      <th>traffic_volume</th>\n",
       "      <th>total_bill</th>\n",
       "    </tr>\n",
       "    <tr>\n",
       "      <th>tariff</th>\n",
       "      <th></th>\n",
       "      <th></th>\n",
       "      <th></th>\n",
       "      <th></th>\n",
       "    </tr>\n",
       "  </thead>\n",
       "  <tbody>\n",
       "    <tr>\n",
       "      <th>smart</th>\n",
       "      <td>673877.623614</td>\n",
       "      <td>3.464852e+07</td>\n",
       "      <td>796.955256</td>\n",
       "      <td>36281.393836</td>\n",
       "    </tr>\n",
       "    <tr>\n",
       "      <th>ultra</th>\n",
       "      <td>143360.429258</td>\n",
       "      <td>1.022173e+08</td>\n",
       "      <td>2285.417425</td>\n",
       "      <td>101052.493549</td>\n",
       "    </tr>\n",
       "  </tbody>\n",
       "</table>\n",
       "</div>"
      ],
      "text/plain": [
       "        calls_duration  messages_count  traffic_volume     total_bill\n",
       "tariff                                                               \n",
       "smart    673877.623614    3.464852e+07      796.955256   36281.393836\n",
       "ultra    143360.429258    1.022173e+08     2285.417425  101052.493549"
      ]
     },
     "metadata": {},
     "output_type": "display_data"
    },
    {
     "data": {
      "text/html": [
       "<div>\n",
       "<style scoped>\n",
       "    .dataframe tbody tr th:only-of-type {\n",
       "        vertical-align: middle;\n",
       "    }\n",
       "\n",
       "    .dataframe tbody tr th {\n",
       "        vertical-align: top;\n",
       "    }\n",
       "\n",
       "    .dataframe thead th {\n",
       "        text-align: right;\n",
       "    }\n",
       "</style>\n",
       "<table border=\"1\" class=\"dataframe\">\n",
       "  <thead>\n",
       "    <tr style=\"text-align: right;\">\n",
       "      <th></th>\n",
       "      <th>calls_duration</th>\n",
       "      <th>messages_count</th>\n",
       "      <th>traffic_volume</th>\n",
       "      <th>total_bill</th>\n",
       "    </tr>\n",
       "    <tr>\n",
       "      <th>tariff</th>\n",
       "      <th></th>\n",
       "      <th></th>\n",
       "      <th></th>\n",
       "      <th></th>\n",
       "    </tr>\n",
       "  </thead>\n",
       "  <tbody>\n",
       "    <tr>\n",
       "      <th>smart</th>\n",
       "      <td>820.900496</td>\n",
       "      <td>5886.299627</td>\n",
       "      <td>28.230396</td>\n",
       "      <td>190.476754</td>\n",
       "    </tr>\n",
       "    <tr>\n",
       "      <th>ultra</th>\n",
       "      <td>378.629673</td>\n",
       "      <td>10110.255401</td>\n",
       "      <td>47.806040</td>\n",
       "      <td>317.887549</td>\n",
       "    </tr>\n",
       "  </tbody>\n",
       "</table>\n",
       "</div>"
      ],
      "text/plain": [
       "        calls_duration  messages_count  traffic_volume  total_bill\n",
       "tariff                                                            \n",
       "smart       820.900496     5886.299627       28.230396  190.476754\n",
       "ultra       378.629673    10110.255401       47.806040  317.887549"
      ]
     },
     "metadata": {},
     "output_type": "display_data"
    }
   ],
   "source": [
    "functions = ['mean', np.var, np.std] # Функции, применяемые к значениям\n",
    "tables = ['total_month_sum_mean', 'total_month_sum_var', 'total_month_sum_std'] # Названия сводных таблиц\n",
    "list_of_cols = ['min', 'mes', 'mb','income']\n",
    "\n",
    "for i in range(0, 3):\n",
    "    tables[i] = df_result.pivot_table(index=['tariff'], values=list_of_cols, aggfunc=functions[i])\n",
    "    tables[i].columns = ['calls_duration', 'messages_count', 'traffic_volume', 'total_bill']\n",
    "    display(tables[i])"
   ]
  },
  {
   "cell_type": "markdown",
   "metadata": {},
   "source": [
    "# Вывод\n",
    "\n",
    "* В среднем пользователи тарифа «Ультра» больше пользуются услугами оператора, чем пользователи тарифа «Смарт».\n",
    "* По дисперсии видно, что пользователи выбирают тариф «Ультра», т.к. там больше мегабайт трафика, потому что люди сейчас даже звонят через интернет или по видеосвязи и сообщениями пользуются в социальных сетях."
   ]
  },
  {
   "cell_type": "markdown",
   "metadata": {},
   "source": [
    "## Проверка гипотез"
   ]
  },
  {
   "cell_type": "markdown",
   "metadata": {},
   "source": [
    "> 1 гипотеза: средняя выручка пользователей тарифов «Ультра» и «Смарт» различаются."
   ]
  },
  {
   "cell_type": "markdown",
   "metadata": {},
   "source": [
    "Нулевая гипотеза: средняя выручка пользователей тарифов «Ультра»и «Смарт» равны.\n",
    "\n",
    "Альтернативная гипотеза : средняя выручка пользователей тарифов «Ультра» и «Смарт» различаются."
   ]
  },
  {
   "cell_type": "code",
   "execution_count": 27,
   "metadata": {},
   "outputs": [
    {
     "name": "stdout",
     "output_type": "stream",
     "text": [
      "p-значение: 1.7023268870436946e-158\n",
      "Отвергаем нулевую гипотезу\n"
     ]
    }
   ],
   "source": [
    "alpha = .05 # критический уровень статистической значимости\n",
    "\n",
    "smart_hip = df_result.query('tariff == \"smart\"')\n",
    "smart_hip = smart_hip['income']\n",
    "\n",
    "ultra_hip = df_result.query('tariff == \"ultra\"')\n",
    "ultra_hip = ultra_hip['income']  \n",
    "\n",
    "results = st.ttest_ind(\n",
    "    smart_hip, \n",
    "    ultra_hip)\n",
    "\n",
    "print('p-значение:', results.pvalue)\n",
    "\n",
    "if (results.pvalue < alpha):\n",
    "    print(\"Отвергаем нулевую гипотезу\")\n",
    "else:\n",
    "    print(\"Не получилось отвергнуть нулевую гипотезу\")"
   ]
  },
  {
   "cell_type": "markdown",
   "metadata": {},
   "source": [
    "# Вывод\n",
    "\n",
    "По результату видно, что нулевая отвергается, а значит мы подтверждаем первую гипотезу о том, что средняя выручка пользователей тарифов «Ультра» и «Смарт» различаются."
   ]
  },
  {
   "cell_type": "markdown",
   "metadata": {},
   "source": [
    "> 2 гипотеза: средняя выручка пользователей из Москвы отличается от выручки пользователей из других регионов."
   ]
  },
  {
   "cell_type": "markdown",
   "metadata": {},
   "source": [
    "Нулевая гипотеза: средняя выручка пользователей из Москвы равна выручке пользователей из других регионов.\n",
    "\n",
    "Альтернативная гипотеза: средняя выручка пользователей из Москвы отличается от выручки пользователей из других регионов."
   ]
  },
  {
   "cell_type": "code",
   "execution_count": 28,
   "metadata": {},
   "outputs": [
    {
     "name": "stdout",
     "output_type": "stream",
     "text": [
      "p-значение: 0.5277299573181309\n",
      "Не получилось отвергнуть нулевую гипотезу\n"
     ]
    }
   ],
   "source": [
    "alpha = .05 # критический уровень статистической значимости\n",
    "\n",
    "moskow = df_result.query('city == \"Москва\"')\n",
    "moskow = moskow['income']\n",
    "\n",
    "other_city = df_result.query('city != \"Москва\"')\n",
    "other_city = other_city['income']  \n",
    "\n",
    "result = st.ttest_ind(\n",
    "    moskow, \n",
    "    other_city)\n",
    "\n",
    "print('p-значение:', result.pvalue)\n",
    "\n",
    "if (result.pvalue < alpha):\n",
    "    print(\"Отвергаем нулевую гипотезу\")\n",
    "else:\n",
    "    print(\"Не получилось отвергнуть нулевую гипотезу\")"
   ]
  },
  {
   "cell_type": "markdown",
   "metadata": {},
   "source": [
    "# Вывод\n",
    "Отвергнуть нулевую гипотезу не получилось, значит вторая гипотеза о том, что средняя выручка пользователей из Москвы отличается от выручки пользователей из других регионов не подтверждается."
   ]
  },
  {
   "cell_type": "markdown",
   "metadata": {},
   "source": [
    "## Общий вывод"
   ]
  },
  {
   "cell_type": "markdown",
   "metadata": {},
   "source": [
    "Сделав предварительный анализ тарифов на небольшой выборке клиентов, можно сказать, что:\n",
    "1. Количество звонков и минут, отправленных сообщений, потребление интернет-трафика однозначно увеличиваются с каждым месяцем(достигают пика в декабре).\n",
    "2. Выручка тарифа «Смарт» превышает выручку тарифа «Ультра». Так что, возможно, компании «Мегалайн» нужно больше ориентироватсья на пользователей тарифа «Смарт».\n",
    "3. Средняя выручка пользователей из Москвы не отличается от выручки пользователей из других регионов, значит компания не привязана к территориальной местности."
   ]
  }
 ],
 "metadata": {
  "ExecuteTimeLog": [
   {
    "duration": 559,
    "start_time": "2022-04-23T07:03:53.388Z"
   },
   {
    "duration": 569,
    "start_time": "2022-04-23T07:05:40.200Z"
   },
   {
    "duration": 106,
    "start_time": "2022-04-23T07:07:53.302Z"
   },
   {
    "duration": 93,
    "start_time": "2022-04-23T07:09:09.295Z"
   },
   {
    "duration": 12,
    "start_time": "2022-04-23T07:11:56.373Z"
   },
   {
    "duration": 82,
    "start_time": "2022-04-23T07:14:32.761Z"
   },
   {
    "duration": 122,
    "start_time": "2022-04-23T07:18:05.333Z"
   },
   {
    "duration": 219,
    "start_time": "2022-04-23T07:18:36.222Z"
   },
   {
    "duration": 10,
    "start_time": "2022-04-23T07:29:14.796Z"
   },
   {
    "duration": 118,
    "start_time": "2022-04-23T07:30:39.190Z"
   },
   {
    "duration": 3,
    "start_time": "2022-04-23T07:33:36.396Z"
   },
   {
    "duration": 108,
    "start_time": "2022-04-23T07:35:21.302Z"
   },
   {
    "duration": 8,
    "start_time": "2022-04-23T07:37:44.038Z"
   },
   {
    "duration": 56,
    "start_time": "2022-04-23T07:38:11.746Z"
   },
   {
    "duration": 78,
    "start_time": "2022-04-23T07:38:30.241Z"
   },
   {
    "duration": 84,
    "start_time": "2022-04-23T07:39:07.901Z"
   },
   {
    "duration": 79,
    "start_time": "2022-04-23T07:39:12.107Z"
   },
   {
    "duration": 80,
    "start_time": "2022-04-23T07:39:26.542Z"
   },
   {
    "duration": 82,
    "start_time": "2022-04-23T07:39:38.387Z"
   },
   {
    "duration": 91,
    "start_time": "2022-04-23T07:39:50.950Z"
   },
   {
    "duration": 18,
    "start_time": "2022-04-23T07:43:56.552Z"
   },
   {
    "duration": 4,
    "start_time": "2022-04-23T07:48:04.794Z"
   },
   {
    "duration": 12,
    "start_time": "2022-04-23T07:48:58.000Z"
   },
   {
    "duration": 87,
    "start_time": "2022-04-23T07:50:22.497Z"
   },
   {
    "duration": 17,
    "start_time": "2022-04-23T07:50:38.796Z"
   },
   {
    "duration": 17,
    "start_time": "2022-04-23T07:51:43.475Z"
   },
   {
    "duration": 104,
    "start_time": "2022-04-23T07:51:44.872Z"
   },
   {
    "duration": 12,
    "start_time": "2022-04-23T07:52:48.897Z"
   },
   {
    "duration": 12,
    "start_time": "2022-04-23T07:52:56.249Z"
   },
   {
    "duration": 23,
    "start_time": "2022-04-23T07:55:02.926Z"
   },
   {
    "duration": 75,
    "start_time": "2022-04-23T07:56:38.265Z"
   },
   {
    "duration": 27,
    "start_time": "2022-04-23T07:57:07.803Z"
   },
   {
    "duration": 12,
    "start_time": "2022-04-23T07:57:13.961Z"
   },
   {
    "duration": 13,
    "start_time": "2022-04-23T08:02:04.568Z"
   },
   {
    "duration": 18,
    "start_time": "2022-04-23T08:03:32.992Z"
   },
   {
    "duration": 12,
    "start_time": "2022-04-23T08:03:37.038Z"
   },
   {
    "duration": 8,
    "start_time": "2022-04-23T08:05:59.231Z"
   },
   {
    "duration": 5,
    "start_time": "2022-04-23T08:06:04.214Z"
   },
   {
    "duration": 5,
    "start_time": "2022-04-23T08:08:17.818Z"
   },
   {
    "duration": 1887,
    "start_time": "2022-04-23T08:08:33.210Z"
   },
   {
    "duration": 33,
    "start_time": "2022-04-23T08:08:44.512Z"
   },
   {
    "duration": 19,
    "start_time": "2022-04-23T08:08:47.036Z"
   },
   {
    "duration": 4,
    "start_time": "2022-04-23T08:09:20.438Z"
   },
   {
    "duration": 8,
    "start_time": "2022-04-23T08:09:22.683Z"
   },
   {
    "duration": 5,
    "start_time": "2022-04-23T08:09:32.919Z"
   },
   {
    "duration": 5,
    "start_time": "2022-04-23T08:09:34.541Z"
   },
   {
    "duration": 106,
    "start_time": "2022-04-23T08:10:02.294Z"
   },
   {
    "duration": 42,
    "start_time": "2022-04-23T08:10:13.238Z"
   },
   {
    "duration": 36,
    "start_time": "2022-04-23T08:10:21.144Z"
   },
   {
    "duration": 4,
    "start_time": "2022-04-23T08:13:06.537Z"
   },
   {
    "duration": 30,
    "start_time": "2022-04-23T08:14:59.729Z"
   },
   {
    "duration": 11,
    "start_time": "2022-04-23T08:15:01.120Z"
   },
   {
    "duration": 37,
    "start_time": "2022-04-23T08:18:09.217Z"
   },
   {
    "duration": 38,
    "start_time": "2022-04-23T08:18:13.304Z"
   },
   {
    "duration": 40,
    "start_time": "2022-04-23T08:18:24.482Z"
   },
   {
    "duration": 26,
    "start_time": "2022-04-23T08:20:41.802Z"
   },
   {
    "duration": 32,
    "start_time": "2022-04-23T08:21:55.684Z"
   },
   {
    "duration": 40,
    "start_time": "2022-04-23T08:29:52.436Z"
   },
   {
    "duration": 79,
    "start_time": "2022-04-23T08:31:52.299Z"
   },
   {
    "duration": 89,
    "start_time": "2022-04-23T08:32:00.082Z"
   },
   {
    "duration": 61,
    "start_time": "2022-04-23T08:32:10.737Z"
   },
   {
    "duration": 64,
    "start_time": "2022-04-23T08:32:57.895Z"
   },
   {
    "duration": 44,
    "start_time": "2022-04-23T08:34:17.903Z"
   },
   {
    "duration": 27,
    "start_time": "2022-04-23T08:34:22.144Z"
   },
   {
    "duration": 31,
    "start_time": "2022-04-23T08:34:28.940Z"
   },
   {
    "duration": 265,
    "start_time": "2022-04-23T08:38:01.983Z"
   },
   {
    "duration": 261,
    "start_time": "2022-04-23T08:38:15.591Z"
   },
   {
    "duration": 84,
    "start_time": "2022-04-23T08:38:30.780Z"
   },
   {
    "duration": 272,
    "start_time": "2022-04-23T08:39:04.499Z"
   },
   {
    "duration": 13,
    "start_time": "2022-04-23T08:43:28.267Z"
   },
   {
    "duration": 18,
    "start_time": "2022-04-23T08:43:34.048Z"
   },
   {
    "duration": 772,
    "start_time": "2022-04-23T08:44:37.379Z"
   },
   {
    "duration": 664,
    "start_time": "2022-04-23T08:44:59.775Z"
   },
   {
    "duration": 140,
    "start_time": "2022-04-23T08:45:39.474Z"
   },
   {
    "duration": 634,
    "start_time": "2022-04-23T08:45:42.817Z"
   },
   {
    "duration": 643,
    "start_time": "2022-04-23T08:46:05.170Z"
   },
   {
    "duration": 268,
    "start_time": "2022-04-23T08:46:59.746Z"
   },
   {
    "duration": 206,
    "start_time": "2022-04-23T08:52:17.357Z"
   },
   {
    "duration": 126,
    "start_time": "2022-04-23T08:55:17.354Z"
   },
   {
    "duration": 132,
    "start_time": "2022-04-23T08:55:37.537Z"
   },
   {
    "duration": 4,
    "start_time": "2022-04-23T08:57:37.514Z"
   },
   {
    "duration": 563,
    "start_time": "2022-04-23T08:57:37.520Z"
   },
   {
    "duration": 185,
    "start_time": "2022-04-23T08:57:38.085Z"
   },
   {
    "duration": 145,
    "start_time": "2022-04-23T08:57:38.273Z"
   },
   {
    "duration": 114,
    "start_time": "2022-04-23T08:57:38.422Z"
   },
   {
    "duration": 107,
    "start_time": "2022-04-23T08:57:38.541Z"
   },
   {
    "duration": 17,
    "start_time": "2022-04-23T08:57:38.651Z"
   },
   {
    "duration": 93,
    "start_time": "2022-04-23T08:57:38.671Z"
   },
   {
    "duration": 13,
    "start_time": "2022-04-23T08:57:38.766Z"
   },
   {
    "duration": 14,
    "start_time": "2022-04-23T08:57:38.782Z"
   },
   {
    "duration": 17,
    "start_time": "2022-04-23T08:57:38.824Z"
   },
   {
    "duration": 11,
    "start_time": "2022-04-23T08:57:38.843Z"
   },
   {
    "duration": 7,
    "start_time": "2022-04-23T08:57:38.857Z"
   },
   {
    "duration": 144,
    "start_time": "2022-04-23T08:57:38.867Z"
   },
   {
    "duration": 57,
    "start_time": "2022-04-23T08:57:39.013Z"
   },
   {
    "duration": 60,
    "start_time": "2022-04-23T08:57:39.073Z"
   },
   {
    "duration": 41,
    "start_time": "2022-04-23T08:57:39.136Z"
   },
   {
    "duration": 55,
    "start_time": "2022-04-23T08:57:39.180Z"
   },
   {
    "duration": 36,
    "start_time": "2022-04-23T08:57:39.237Z"
   },
   {
    "duration": 256,
    "start_time": "2022-04-23T08:57:39.276Z"
   },
   {
    "duration": 0,
    "start_time": "2022-04-23T08:58:39.998Z"
   },
   {
    "duration": 1968,
    "start_time": "2022-04-23T08:58:45.349Z"
   },
   {
    "duration": 2035,
    "start_time": "2022-04-23T08:59:42.816Z"
   },
   {
    "duration": 2527,
    "start_time": "2022-04-23T09:00:34.627Z"
   },
   {
    "duration": 1801,
    "start_time": "2022-04-23T09:02:17.641Z"
   },
   {
    "duration": 2026,
    "start_time": "2022-04-23T09:02:27.036Z"
   },
   {
    "duration": 2047,
    "start_time": "2022-04-23T09:03:33.338Z"
   },
   {
    "duration": 7,
    "start_time": "2022-04-23T09:04:08.834Z"
   },
   {
    "duration": 12,
    "start_time": "2022-04-23T09:04:13.726Z"
   },
   {
    "duration": 1746,
    "start_time": "2022-04-23T09:04:27.954Z"
   },
   {
    "duration": 12,
    "start_time": "2022-04-23T09:04:35.727Z"
   },
   {
    "duration": 13,
    "start_time": "2022-04-23T09:05:01.726Z"
   },
   {
    "duration": 153,
    "start_time": "2022-04-23T09:05:54.207Z"
   },
   {
    "duration": 224,
    "start_time": "2022-04-23T09:05:59.478Z"
   },
   {
    "duration": 161,
    "start_time": "2022-04-23T09:14:27.748Z"
   },
   {
    "duration": 166,
    "start_time": "2022-04-23T09:14:52.138Z"
   },
   {
    "duration": 207,
    "start_time": "2022-04-23T09:15:10.573Z"
   },
   {
    "duration": 160,
    "start_time": "2022-04-23T09:15:14.322Z"
   },
   {
    "duration": 153,
    "start_time": "2022-04-23T09:17:11.261Z"
   },
   {
    "duration": 10,
    "start_time": "2022-04-23T09:17:33.687Z"
   },
   {
    "duration": 17,
    "start_time": "2022-04-23T09:17:38.935Z"
   },
   {
    "duration": 20,
    "start_time": "2022-04-23T09:17:58.222Z"
   },
   {
    "duration": 1649,
    "start_time": "2022-04-23T09:18:56.976Z"
   },
   {
    "duration": 170,
    "start_time": "2022-04-23T09:20:01.060Z"
   },
   {
    "duration": 228,
    "start_time": "2022-04-23T09:20:24.882Z"
   },
   {
    "duration": 170,
    "start_time": "2022-04-23T09:20:50.494Z"
   },
   {
    "duration": 121,
    "start_time": "2022-04-23T09:21:37.540Z"
   },
   {
    "duration": 139,
    "start_time": "2022-04-23T09:21:41.181Z"
   },
   {
    "duration": 144,
    "start_time": "2022-04-23T09:22:09.271Z"
   },
   {
    "duration": 144,
    "start_time": "2022-04-23T09:22:17.243Z"
   },
   {
    "duration": 216,
    "start_time": "2022-04-23T09:22:52.237Z"
   },
   {
    "duration": 28,
    "start_time": "2022-04-23T09:23:26.037Z"
   },
   {
    "duration": 113,
    "start_time": "2022-04-23T09:25:52.915Z"
   },
   {
    "duration": 1764,
    "start_time": "2022-04-23T09:26:18.234Z"
   },
   {
    "duration": 2105,
    "start_time": "2022-04-23T09:27:39.916Z"
   },
   {
    "duration": 182,
    "start_time": "2022-04-23T09:27:53.402Z"
   },
   {
    "duration": 183,
    "start_time": "2022-04-23T09:28:14.981Z"
   },
   {
    "duration": 181,
    "start_time": "2022-04-23T09:28:31.836Z"
   },
   {
    "duration": 208,
    "start_time": "2022-04-23T09:28:56.040Z"
   },
   {
    "duration": 174,
    "start_time": "2022-04-23T09:30:31.563Z"
   },
   {
    "duration": 171,
    "start_time": "2022-04-23T09:30:42.502Z"
   },
   {
    "duration": 175,
    "start_time": "2022-04-23T09:31:09.900Z"
   },
   {
    "duration": 2019,
    "start_time": "2022-04-23T09:31:57.015Z"
   },
   {
    "duration": 11,
    "start_time": "2022-04-23T09:37:14.499Z"
   },
   {
    "duration": 151,
    "start_time": "2022-04-23T09:37:39.255Z"
   },
   {
    "duration": 206,
    "start_time": "2022-04-23T09:38:05.484Z"
   },
   {
    "duration": 167,
    "start_time": "2022-04-23T09:38:21.247Z"
   },
   {
    "duration": 165,
    "start_time": "2022-04-23T09:38:38.188Z"
   },
   {
    "duration": 206,
    "start_time": "2022-04-23T09:40:01.053Z"
   },
   {
    "duration": 167,
    "start_time": "2022-04-23T09:40:14.164Z"
   },
   {
    "duration": 160,
    "start_time": "2022-04-23T09:40:29.601Z"
   },
   {
    "duration": 163,
    "start_time": "2022-04-23T09:40:40.742Z"
   },
   {
    "duration": 226,
    "start_time": "2022-04-23T09:41:25.104Z"
   },
   {
    "duration": 162,
    "start_time": "2022-04-23T09:41:36.024Z"
   },
   {
    "duration": 1970,
    "start_time": "2022-04-23T09:42:10.941Z"
   },
   {
    "duration": 2174,
    "start_time": "2022-04-23T09:42:33.129Z"
   },
   {
    "duration": 165,
    "start_time": "2022-04-23T09:43:45.807Z"
   },
   {
    "duration": 1661,
    "start_time": "2022-04-23T09:44:12.940Z"
   },
   {
    "duration": 213,
    "start_time": "2022-04-23T09:44:33.696Z"
   },
   {
    "duration": 160,
    "start_time": "2022-04-23T09:45:15.545Z"
   },
   {
    "duration": 2112,
    "start_time": "2022-04-23T09:45:43.913Z"
   },
   {
    "duration": 163,
    "start_time": "2022-04-23T09:46:02.376Z"
   },
   {
    "duration": 161,
    "start_time": "2022-04-23T09:46:35.268Z"
   },
   {
    "duration": 163,
    "start_time": "2022-04-23T09:46:50.378Z"
   },
   {
    "duration": 1808,
    "start_time": "2022-04-23T09:47:07.703Z"
   },
   {
    "duration": 2323,
    "start_time": "2022-04-23T09:47:32.465Z"
   },
   {
    "duration": 154,
    "start_time": "2022-04-23T09:47:42.901Z"
   },
   {
    "duration": 164,
    "start_time": "2022-04-23T09:47:53.362Z"
   },
   {
    "duration": 85315,
    "start_time": "2022-04-23T09:48:31.431Z"
   },
   {
    "duration": 1942,
    "start_time": "2022-04-23T09:50:28.432Z"
   },
   {
    "duration": 1855,
    "start_time": "2022-04-23T09:50:40.985Z"
   },
   {
    "duration": 193,
    "start_time": "2022-04-23T09:51:10.536Z"
   },
   {
    "duration": 121,
    "start_time": "2022-04-23T09:56:46.397Z"
   },
   {
    "duration": 119,
    "start_time": "2022-04-23T09:57:28.480Z"
   },
   {
    "duration": 112,
    "start_time": "2022-04-23T10:04:27.193Z"
   },
   {
    "duration": 67,
    "start_time": "2022-04-23T10:04:45.732Z"
   },
   {
    "duration": 72,
    "start_time": "2022-04-23T10:04:55.708Z"
   },
   {
    "duration": 74,
    "start_time": "2022-04-23T10:05:17.563Z"
   },
   {
    "duration": 82,
    "start_time": "2022-04-23T10:05:22.864Z"
   },
   {
    "duration": 81,
    "start_time": "2022-04-23T10:06:20.404Z"
   },
   {
    "duration": 2003,
    "start_time": "2022-04-23T10:09:39.636Z"
   },
   {
    "duration": 83,
    "start_time": "2022-04-23T10:10:54.627Z"
   },
   {
    "duration": 4,
    "start_time": "2022-04-23T10:12:12.286Z"
   },
   {
    "duration": 501,
    "start_time": "2022-04-23T10:12:12.292Z"
   },
   {
    "duration": 178,
    "start_time": "2022-04-23T10:12:12.795Z"
   },
   {
    "duration": 134,
    "start_time": "2022-04-23T10:12:12.976Z"
   },
   {
    "duration": 89,
    "start_time": "2022-04-23T10:12:13.112Z"
   },
   {
    "duration": 92,
    "start_time": "2022-04-23T10:12:13.203Z"
   },
   {
    "duration": 28,
    "start_time": "2022-04-23T10:12:13.297Z"
   },
   {
    "duration": 61,
    "start_time": "2022-04-23T10:12:13.327Z"
   },
   {
    "duration": 36,
    "start_time": "2022-04-23T10:12:13.393Z"
   },
   {
    "duration": 16,
    "start_time": "2022-04-23T10:12:13.432Z"
   },
   {
    "duration": 12,
    "start_time": "2022-04-23T10:12:13.451Z"
   },
   {
    "duration": 10,
    "start_time": "2022-04-23T10:12:13.466Z"
   },
   {
    "duration": 7,
    "start_time": "2022-04-23T10:12:13.478Z"
   },
   {
    "duration": 112,
    "start_time": "2022-04-23T10:12:13.487Z"
   },
   {
    "duration": 60,
    "start_time": "2022-04-23T10:12:13.602Z"
   },
   {
    "duration": 36,
    "start_time": "2022-04-23T10:12:13.664Z"
   },
   {
    "duration": 62,
    "start_time": "2022-04-23T10:12:13.703Z"
   },
   {
    "duration": 29,
    "start_time": "2022-04-23T10:12:13.767Z"
   },
   {
    "duration": 60,
    "start_time": "2022-04-23T10:12:13.798Z"
   },
   {
    "duration": 108,
    "start_time": "2022-04-23T10:12:13.861Z"
   },
   {
    "duration": 1777,
    "start_time": "2022-04-23T10:12:13.972Z"
   },
   {
    "duration": 76,
    "start_time": "2022-04-23T10:14:36.883Z"
   },
   {
    "duration": 81,
    "start_time": "2022-04-23T10:15:04.959Z"
   },
   {
    "duration": 74,
    "start_time": "2022-04-23T10:17:24.936Z"
   },
   {
    "duration": 99,
    "start_time": "2022-04-23T10:19:09.949Z"
   },
   {
    "duration": 1711,
    "start_time": "2022-04-23T10:19:14.227Z"
   },
   {
    "duration": 87,
    "start_time": "2022-04-23T10:19:38.708Z"
   },
   {
    "duration": 93,
    "start_time": "2022-04-23T10:35:42.206Z"
   },
   {
    "duration": 86,
    "start_time": "2022-04-23T10:35:54.896Z"
   },
   {
    "duration": 87,
    "start_time": "2022-04-23T10:36:32.846Z"
   },
   {
    "duration": 78,
    "start_time": "2022-04-23T10:36:52.439Z"
   },
   {
    "duration": 89,
    "start_time": "2022-04-23T10:36:59.519Z"
   },
   {
    "duration": 86,
    "start_time": "2022-04-23T10:37:13.673Z"
   },
   {
    "duration": 28,
    "start_time": "2022-04-23T10:37:16.993Z"
   },
   {
    "duration": 27,
    "start_time": "2022-04-23T10:37:20.489Z"
   },
   {
    "duration": 257,
    "start_time": "2022-04-23T10:38:46.044Z"
   },
   {
    "duration": 86,
    "start_time": "2022-04-23T10:41:13.598Z"
   },
   {
    "duration": 597,
    "start_time": "2022-04-23T10:41:24.119Z"
   },
   {
    "duration": 8,
    "start_time": "2022-04-23T10:41:36.579Z"
   },
   {
    "duration": 81,
    "start_time": "2022-04-23T10:43:07.646Z"
   },
   {
    "duration": 501,
    "start_time": "2022-04-23T10:43:10.486Z"
   },
   {
    "duration": 26,
    "start_time": "2022-04-23T10:43:19.218Z"
   },
   {
    "duration": 34,
    "start_time": "2022-04-23T10:43:31.117Z"
   },
   {
    "duration": 539,
    "start_time": "2022-04-23T10:46:31.222Z"
   },
   {
    "duration": 561,
    "start_time": "2022-04-23T10:46:31.763Z"
   },
   {
    "duration": 246,
    "start_time": "2022-04-23T10:46:32.326Z"
   },
   {
    "duration": 140,
    "start_time": "2022-04-23T10:46:32.575Z"
   },
   {
    "duration": 115,
    "start_time": "2022-04-23T10:46:32.717Z"
   },
   {
    "duration": 101,
    "start_time": "2022-04-23T10:46:32.836Z"
   },
   {
    "duration": 13,
    "start_time": "2022-04-23T10:46:32.941Z"
   },
   {
    "duration": 81,
    "start_time": "2022-04-23T10:46:32.957Z"
   },
   {
    "duration": 15,
    "start_time": "2022-04-23T10:46:33.041Z"
   },
   {
    "duration": 13,
    "start_time": "2022-04-23T10:46:33.060Z"
   },
   {
    "duration": 12,
    "start_time": "2022-04-23T10:46:33.076Z"
   },
   {
    "duration": 37,
    "start_time": "2022-04-23T10:46:33.091Z"
   },
   {
    "duration": 13,
    "start_time": "2022-04-23T10:46:33.132Z"
   },
   {
    "duration": 122,
    "start_time": "2022-04-23T10:46:33.148Z"
   },
   {
    "duration": 65,
    "start_time": "2022-04-23T10:46:33.273Z"
   },
   {
    "duration": 42,
    "start_time": "2022-04-23T10:46:33.340Z"
   },
   {
    "duration": 68,
    "start_time": "2022-04-23T10:46:33.384Z"
   },
   {
    "duration": 28,
    "start_time": "2022-04-23T10:46:33.454Z"
   },
   {
    "duration": 61,
    "start_time": "2022-04-23T10:46:33.484Z"
   },
   {
    "duration": 117,
    "start_time": "2022-04-23T10:46:33.548Z"
   },
   {
    "duration": 481,
    "start_time": "2022-04-23T10:46:33.668Z"
   },
   {
    "duration": 30,
    "start_time": "2022-04-23T10:46:34.151Z"
   },
   {
    "duration": 123,
    "start_time": "2022-04-23T10:52:12.679Z"
   },
   {
    "duration": 43,
    "start_time": "2022-04-23T10:57:07.510Z"
   },
   {
    "duration": 37,
    "start_time": "2022-04-23T10:57:17.400Z"
   },
   {
    "duration": 35,
    "start_time": "2022-04-23T10:57:25.657Z"
   },
   {
    "duration": 4,
    "start_time": "2022-04-23T10:57:27.817Z"
   },
   {
    "duration": 537,
    "start_time": "2022-04-23T10:57:27.823Z"
   },
   {
    "duration": 187,
    "start_time": "2022-04-23T10:57:28.362Z"
   },
   {
    "duration": 132,
    "start_time": "2022-04-23T10:57:28.552Z"
   },
   {
    "duration": 99,
    "start_time": "2022-04-23T10:57:28.687Z"
   },
   {
    "duration": 93,
    "start_time": "2022-04-23T10:57:28.789Z"
   },
   {
    "duration": 12,
    "start_time": "2022-04-23T10:57:28.885Z"
   },
   {
    "duration": 80,
    "start_time": "2022-04-23T10:57:28.899Z"
   },
   {
    "duration": 12,
    "start_time": "2022-04-23T10:57:28.983Z"
   },
   {
    "duration": 31,
    "start_time": "2022-04-23T10:57:28.997Z"
   },
   {
    "duration": 14,
    "start_time": "2022-04-23T10:57:29.031Z"
   },
   {
    "duration": 29,
    "start_time": "2022-04-23T10:57:29.048Z"
   },
   {
    "duration": 23,
    "start_time": "2022-04-23T10:57:29.080Z"
   },
   {
    "duration": 102,
    "start_time": "2022-04-23T10:57:29.105Z"
   },
   {
    "duration": 47,
    "start_time": "2022-04-23T10:57:29.209Z"
   },
   {
    "duration": 33,
    "start_time": "2022-04-23T10:57:29.259Z"
   },
   {
    "duration": 62,
    "start_time": "2022-04-23T10:57:29.295Z"
   },
   {
    "duration": 27,
    "start_time": "2022-04-23T10:57:29.359Z"
   },
   {
    "duration": 59,
    "start_time": "2022-04-23T10:57:29.388Z"
   },
   {
    "duration": 108,
    "start_time": "2022-04-23T10:57:29.449Z"
   },
   {
    "duration": 482,
    "start_time": "2022-04-23T10:57:29.559Z"
   },
   {
    "duration": 28,
    "start_time": "2022-04-23T10:57:30.044Z"
   },
   {
    "duration": 54,
    "start_time": "2022-04-23T10:57:30.074Z"
   },
   {
    "duration": 41,
    "start_time": "2022-04-23T10:57:50.203Z"
   },
   {
    "duration": 34,
    "start_time": "2022-04-23T10:57:55.038Z"
   },
   {
    "duration": 110,
    "start_time": "2022-04-23T10:59:14.812Z"
   },
   {
    "duration": 14,
    "start_time": "2022-04-23T10:59:39.850Z"
   },
   {
    "duration": 1334,
    "start_time": "2022-04-23T11:00:17.780Z"
   },
   {
    "duration": 1385,
    "start_time": "2022-04-23T11:00:21.882Z"
   },
   {
    "duration": 1378,
    "start_time": "2022-04-23T11:03:52.317Z"
   },
   {
    "duration": 1480,
    "start_time": "2022-04-23T11:03:57.884Z"
   },
   {
    "duration": 1356,
    "start_time": "2022-04-23T11:04:58.725Z"
   },
   {
    "duration": 1280,
    "start_time": "2022-04-23T11:12:45.941Z"
   },
   {
    "duration": 1451,
    "start_time": "2022-04-23T11:13:01.369Z"
   },
   {
    "duration": 1344,
    "start_time": "2022-04-23T11:13:39.338Z"
   },
   {
    "duration": 1428,
    "start_time": "2022-04-23T11:13:56.337Z"
   },
   {
    "duration": 69,
    "start_time": "2022-04-23T11:28:53.274Z"
   },
   {
    "duration": 1770,
    "start_time": "2022-04-23T11:29:44.371Z"
   },
   {
    "duration": 16,
    "start_time": "2022-04-23T11:31:07.088Z"
   },
   {
    "duration": 17,
    "start_time": "2022-04-23T11:41:56.249Z"
   },
   {
    "duration": 15,
    "start_time": "2022-04-23T11:42:05.981Z"
   },
   {
    "duration": 117,
    "start_time": "2022-04-23T12:10:54.602Z"
   },
   {
    "duration": 14,
    "start_time": "2022-04-23T12:11:01.082Z"
   },
   {
    "duration": 18,
    "start_time": "2022-04-23T12:12:27.123Z"
   },
   {
    "duration": 17,
    "start_time": "2022-04-23T12:12:48.916Z"
   },
   {
    "duration": 17,
    "start_time": "2022-04-23T12:12:59.564Z"
   },
   {
    "duration": 18,
    "start_time": "2022-04-23T12:15:43.410Z"
   },
   {
    "duration": 18,
    "start_time": "2022-04-23T12:19:14.949Z"
   },
   {
    "duration": 17,
    "start_time": "2022-04-23T12:20:44.098Z"
   },
   {
    "duration": 65,
    "start_time": "2022-04-23T12:21:34.260Z"
   },
   {
    "duration": 61,
    "start_time": "2022-04-23T12:21:49.164Z"
   },
   {
    "duration": 58,
    "start_time": "2022-04-23T12:22:56.602Z"
   },
   {
    "duration": 62,
    "start_time": "2022-04-23T12:23:05.015Z"
   },
   {
    "duration": 54,
    "start_time": "2022-04-23T12:23:24.141Z"
   },
   {
    "duration": 38,
    "start_time": "2022-04-23T12:35:07.753Z"
   },
   {
    "duration": 46,
    "start_time": "2022-04-23T12:35:30.460Z"
   },
   {
    "duration": 1438,
    "start_time": "2022-04-23T13:00:49.557Z"
   },
   {
    "duration": 564,
    "start_time": "2022-04-23T13:00:50.997Z"
   },
   {
    "duration": 191,
    "start_time": "2022-04-23T13:00:51.563Z"
   },
   {
    "duration": 136,
    "start_time": "2022-04-23T13:00:51.757Z"
   },
   {
    "duration": 94,
    "start_time": "2022-04-23T13:00:51.897Z"
   },
   {
    "duration": 104,
    "start_time": "2022-04-23T13:00:51.993Z"
   },
   {
    "duration": 31,
    "start_time": "2022-04-23T13:00:52.100Z"
   },
   {
    "duration": 66,
    "start_time": "2022-04-23T13:00:52.135Z"
   },
   {
    "duration": 37,
    "start_time": "2022-04-23T13:00:52.204Z"
   },
   {
    "duration": 16,
    "start_time": "2022-04-23T13:00:52.244Z"
   },
   {
    "duration": 12,
    "start_time": "2022-04-23T13:00:52.262Z"
   },
   {
    "duration": 5,
    "start_time": "2022-04-23T13:00:52.276Z"
   },
   {
    "duration": 45,
    "start_time": "2022-04-23T13:00:52.284Z"
   },
   {
    "duration": 106,
    "start_time": "2022-04-23T13:00:52.335Z"
   },
   {
    "duration": 43,
    "start_time": "2022-04-23T13:00:52.447Z"
   },
   {
    "duration": 57,
    "start_time": "2022-04-23T13:00:52.492Z"
   },
   {
    "duration": 48,
    "start_time": "2022-04-23T13:00:52.552Z"
   },
   {
    "duration": 58,
    "start_time": "2022-04-23T13:00:52.602Z"
   },
   {
    "duration": 33,
    "start_time": "2022-04-23T13:00:52.662Z"
   },
   {
    "duration": 130,
    "start_time": "2022-04-23T13:00:52.697Z"
   },
   {
    "duration": 464,
    "start_time": "2022-04-23T13:00:52.832Z"
   },
   {
    "duration": 44,
    "start_time": "2022-04-23T13:00:53.298Z"
   },
   {
    "duration": 32,
    "start_time": "2022-04-23T13:00:53.344Z"
   },
   {
    "duration": 1367,
    "start_time": "2022-04-23T13:00:53.379Z"
   },
   {
    "duration": 91,
    "start_time": "2022-04-23T13:00:54.749Z"
   },
   {
    "duration": 15,
    "start_time": "2022-04-23T13:00:54.843Z"
   },
   {
    "duration": 42,
    "start_time": "2022-04-23T13:00:54.860Z"
   },
   {
    "duration": 1490,
    "start_time": "2022-04-23T13:03:17.110Z"
   },
   {
    "duration": 518,
    "start_time": "2022-04-23T13:03:18.603Z"
   },
   {
    "duration": 208,
    "start_time": "2022-04-23T13:03:19.124Z"
   },
   {
    "duration": 137,
    "start_time": "2022-04-23T13:03:19.335Z"
   },
   {
    "duration": 104,
    "start_time": "2022-04-23T13:03:19.474Z"
   },
   {
    "duration": 102,
    "start_time": "2022-04-23T13:03:19.581Z"
   },
   {
    "duration": 12,
    "start_time": "2022-04-23T13:03:19.685Z"
   },
   {
    "duration": 83,
    "start_time": "2022-04-23T13:03:19.700Z"
   },
   {
    "duration": 12,
    "start_time": "2022-04-23T13:03:19.785Z"
   },
   {
    "duration": 29,
    "start_time": "2022-04-23T13:03:19.802Z"
   },
   {
    "duration": 18,
    "start_time": "2022-04-23T13:03:19.834Z"
   },
   {
    "duration": 11,
    "start_time": "2022-04-23T13:03:19.855Z"
   },
   {
    "duration": 16,
    "start_time": "2022-04-23T13:03:19.869Z"
   },
   {
    "duration": 119,
    "start_time": "2022-04-23T13:03:19.887Z"
   },
   {
    "duration": 59,
    "start_time": "2022-04-23T13:03:20.008Z"
   },
   {
    "duration": 55,
    "start_time": "2022-04-23T13:03:20.069Z"
   },
   {
    "duration": 48,
    "start_time": "2022-04-23T13:03:20.127Z"
   },
   {
    "duration": 52,
    "start_time": "2022-04-23T13:03:20.177Z"
   },
   {
    "duration": 37,
    "start_time": "2022-04-23T13:03:20.232Z"
   },
   {
    "duration": 109,
    "start_time": "2022-04-23T13:03:20.272Z"
   },
   {
    "duration": 553,
    "start_time": "2022-04-23T13:03:20.383Z"
   },
   {
    "duration": 28,
    "start_time": "2022-04-23T13:03:20.939Z"
   },
   {
    "duration": 58,
    "start_time": "2022-04-23T13:03:20.970Z"
   },
   {
    "duration": 1352,
    "start_time": "2022-04-23T13:03:21.031Z"
   },
   {
    "duration": 71,
    "start_time": "2022-04-23T13:03:22.385Z"
   },
   {
    "duration": 17,
    "start_time": "2022-04-23T13:03:22.458Z"
   },
   {
    "duration": 51,
    "start_time": "2022-04-23T13:03:22.478Z"
   },
   {
    "duration": 2,
    "start_time": "2022-04-30T08:59:36.336Z"
   },
   {
    "duration": 395,
    "start_time": "2022-04-30T08:59:36.340Z"
   },
   {
    "duration": 106,
    "start_time": "2022-04-30T08:59:36.737Z"
   },
   {
    "duration": 82,
    "start_time": "2022-04-30T08:59:36.844Z"
   },
   {
    "duration": 50,
    "start_time": "2022-04-30T08:59:36.928Z"
   },
   {
    "duration": 70,
    "start_time": "2022-04-30T08:59:36.979Z"
   },
   {
    "duration": 8,
    "start_time": "2022-04-30T08:59:37.050Z"
   },
   {
    "duration": 44,
    "start_time": "2022-04-30T08:59:37.059Z"
   },
   {
    "duration": 24,
    "start_time": "2022-04-30T08:59:37.104Z"
   },
   {
    "duration": 8,
    "start_time": "2022-04-30T08:59:37.130Z"
   },
   {
    "duration": 8,
    "start_time": "2022-04-30T08:59:37.141Z"
   },
   {
    "duration": 5,
    "start_time": "2022-04-30T08:59:37.151Z"
   },
   {
    "duration": 8,
    "start_time": "2022-04-30T08:59:37.158Z"
   },
   {
    "duration": 85,
    "start_time": "2022-04-30T08:59:37.167Z"
   },
   {
    "duration": 28,
    "start_time": "2022-04-30T08:59:37.254Z"
   },
   {
    "duration": 38,
    "start_time": "2022-04-30T08:59:37.284Z"
   },
   {
    "duration": 31,
    "start_time": "2022-04-30T08:59:37.324Z"
   },
   {
    "duration": 18,
    "start_time": "2022-04-30T08:59:37.356Z"
   },
   {
    "duration": 20,
    "start_time": "2022-04-30T08:59:37.376Z"
   },
   {
    "duration": 46,
    "start_time": "2022-04-30T08:59:37.423Z"
   },
   {
    "duration": 235,
    "start_time": "2022-04-30T08:59:37.471Z"
   },
   {
    "duration": 24,
    "start_time": "2022-04-30T08:59:37.707Z"
   },
   {
    "duration": 22,
    "start_time": "2022-04-30T08:59:37.733Z"
   },
   {
    "duration": 712,
    "start_time": "2022-04-30T08:59:37.756Z"
   },
   {
    "duration": 35,
    "start_time": "2022-04-30T08:59:38.470Z"
   },
   {
    "duration": 10,
    "start_time": "2022-04-30T08:59:38.522Z"
   },
   {
    "duration": 11,
    "start_time": "2022-04-30T08:59:38.533Z"
   },
   {
    "duration": 12,
    "start_time": "2022-04-30T09:03:50.138Z"
   },
   {
    "duration": 205,
    "start_time": "2022-05-06T17:59:31.669Z"
   },
   {
    "duration": 218,
    "start_time": "2022-05-06T17:59:35.043Z"
   },
   {
    "duration": 233,
    "start_time": "2022-05-06T17:59:42.489Z"
   },
   {
    "duration": 184,
    "start_time": "2022-05-06T18:00:09.666Z"
   },
   {
    "duration": 188,
    "start_time": "2022-05-06T18:01:01.181Z"
   },
   {
    "duration": 202,
    "start_time": "2022-05-06T18:01:06.686Z"
   },
   {
    "duration": 37,
    "start_time": "2022-05-06T18:04:24.526Z"
   },
   {
    "duration": 6,
    "start_time": "2022-05-06T18:04:30.322Z"
   },
   {
    "duration": 1264,
    "start_time": "2022-05-06T18:04:37.970Z"
   },
   {
    "duration": 411,
    "start_time": "2022-05-06T18:04:39.236Z"
   },
   {
    "duration": 109,
    "start_time": "2022-05-06T18:04:39.649Z"
   },
   {
    "duration": 97,
    "start_time": "2022-05-06T18:04:39.759Z"
   },
   {
    "duration": 53,
    "start_time": "2022-05-06T18:04:39.858Z"
   },
   {
    "duration": 54,
    "start_time": "2022-05-06T18:04:39.913Z"
   },
   {
    "duration": 8,
    "start_time": "2022-05-06T18:04:39.969Z"
   },
   {
    "duration": 33,
    "start_time": "2022-05-06T18:04:39.979Z"
   },
   {
    "duration": 12,
    "start_time": "2022-05-06T18:04:40.015Z"
   },
   {
    "duration": 13,
    "start_time": "2022-05-06T18:04:40.028Z"
   },
   {
    "duration": 5,
    "start_time": "2022-05-06T18:04:40.042Z"
   },
   {
    "duration": 6,
    "start_time": "2022-05-06T18:04:40.049Z"
   },
   {
    "duration": 77,
    "start_time": "2022-05-06T18:04:40.056Z"
   },
   {
    "duration": 25,
    "start_time": "2022-05-06T18:04:40.136Z"
   },
   {
    "duration": 19,
    "start_time": "2022-05-06T18:04:40.163Z"
   },
   {
    "duration": 43,
    "start_time": "2022-05-06T18:04:40.184Z"
   },
   {
    "duration": 40,
    "start_time": "2022-05-06T18:04:40.229Z"
   },
   {
    "duration": 32,
    "start_time": "2022-05-06T18:04:40.271Z"
   },
   {
    "duration": 25,
    "start_time": "2022-05-06T18:04:40.305Z"
   },
   {
    "duration": 55,
    "start_time": "2022-05-06T18:04:40.331Z"
   },
   {
    "duration": 238,
    "start_time": "2022-05-06T18:04:40.400Z"
   },
   {
    "duration": 17,
    "start_time": "2022-05-06T18:04:40.640Z"
   },
   {
    "duration": 22,
    "start_time": "2022-05-06T18:04:40.658Z"
   },
   {
    "duration": 736,
    "start_time": "2022-05-06T18:04:40.681Z"
   },
   {
    "duration": 37,
    "start_time": "2022-05-06T18:04:41.419Z"
   },
   {
    "duration": 10,
    "start_time": "2022-05-06T18:04:41.458Z"
   },
   {
    "duration": 42,
    "start_time": "2022-05-06T18:04:41.470Z"
   },
   {
    "duration": 44,
    "start_time": "2022-05-06T18:05:06.618Z"
   },
   {
    "duration": 40,
    "start_time": "2022-05-06T18:05:29.822Z"
   },
   {
    "duration": 70,
    "start_time": "2022-05-06T18:28:14.270Z"
   },
   {
    "duration": 12,
    "start_time": "2022-05-06T18:29:05.027Z"
   },
   {
    "duration": 1255,
    "start_time": "2022-05-06T18:29:32.914Z"
   },
   {
    "duration": 1502,
    "start_time": "2022-05-06T18:30:58.984Z"
   },
   {
    "duration": 1190,
    "start_time": "2022-05-06T18:32:42.774Z"
   },
   {
    "duration": 1289,
    "start_time": "2022-05-06T18:33:00.596Z"
   },
   {
    "duration": 1445,
    "start_time": "2022-05-06T18:33:18.216Z"
   },
   {
    "duration": 1361,
    "start_time": "2022-05-06T18:33:27.332Z"
   },
   {
    "duration": 1173,
    "start_time": "2022-05-06T18:33:38.475Z"
   },
   {
    "duration": 1264,
    "start_time": "2022-05-06T18:33:52.533Z"
   },
   {
    "duration": 197,
    "start_time": "2022-05-06T18:37:52.995Z"
   },
   {
    "duration": 1244,
    "start_time": "2022-05-06T18:54:16.976Z"
   },
   {
    "duration": 553,
    "start_time": "2022-05-06T18:54:18.222Z"
   },
   {
    "duration": 166,
    "start_time": "2022-05-06T18:54:18.777Z"
   },
   {
    "duration": 91,
    "start_time": "2022-05-06T18:54:18.945Z"
   },
   {
    "duration": 49,
    "start_time": "2022-05-06T18:54:19.038Z"
   },
   {
    "duration": 62,
    "start_time": "2022-05-06T18:54:19.088Z"
   },
   {
    "duration": 8,
    "start_time": "2022-05-06T18:54:19.152Z"
   },
   {
    "duration": 11,
    "start_time": "2022-05-06T18:54:19.161Z"
   },
   {
    "duration": 28,
    "start_time": "2022-05-06T18:54:19.173Z"
   },
   {
    "duration": 10,
    "start_time": "2022-05-06T18:54:19.204Z"
   },
   {
    "duration": 7,
    "start_time": "2022-05-06T18:54:19.215Z"
   },
   {
    "duration": 6,
    "start_time": "2022-05-06T18:54:19.224Z"
   },
   {
    "duration": 73,
    "start_time": "2022-05-06T18:54:19.232Z"
   },
   {
    "duration": 27,
    "start_time": "2022-05-06T18:54:19.306Z"
   },
   {
    "duration": 21,
    "start_time": "2022-05-06T18:54:19.334Z"
   },
   {
    "duration": 51,
    "start_time": "2022-05-06T18:54:19.357Z"
   },
   {
    "duration": 41,
    "start_time": "2022-05-06T18:54:19.410Z"
   },
   {
    "duration": 18,
    "start_time": "2022-05-06T18:54:19.452Z"
   },
   {
    "duration": 40,
    "start_time": "2022-05-06T18:54:19.472Z"
   },
   {
    "duration": 53,
    "start_time": "2022-05-06T18:54:19.513Z"
   },
   {
    "duration": 222,
    "start_time": "2022-05-06T18:54:19.568Z"
   },
   {
    "duration": 15,
    "start_time": "2022-05-06T18:54:19.792Z"
   },
   {
    "duration": 21,
    "start_time": "2022-05-06T18:54:19.809Z"
   },
   {
    "duration": 687,
    "start_time": "2022-05-06T18:54:19.831Z"
   },
   {
    "duration": 1194,
    "start_time": "2022-05-06T18:54:20.520Z"
   },
   {
    "duration": 31,
    "start_time": "2022-05-06T18:54:21.716Z"
   },
   {
    "duration": 8,
    "start_time": "2022-05-06T18:54:21.749Z"
   },
   {
    "duration": 12,
    "start_time": "2022-05-06T18:54:21.760Z"
   }
  ],
  "kernelspec": {
   "display_name": "Python 3 (ipykernel)",
   "language": "python",
   "name": "python3"
  },
  "language_info": {
   "codemirror_mode": {
    "name": "ipython",
    "version": 3
   },
   "file_extension": ".py",
   "mimetype": "text/x-python",
   "name": "python",
   "nbconvert_exporter": "python",
   "pygments_lexer": "ipython3",
   "version": "3.9.5"
  },
  "toc": {
   "base_numbering": 1,
   "nav_menu": {},
   "number_sections": true,
   "sideBar": true,
   "skip_h1_title": true,
   "title_cell": "Table of Contents",
   "title_sidebar": "Contents",
   "toc_cell": false,
   "toc_position": {},
   "toc_section_display": true,
   "toc_window_display": false
  }
 },
 "nbformat": 4,
 "nbformat_minor": 2
}
